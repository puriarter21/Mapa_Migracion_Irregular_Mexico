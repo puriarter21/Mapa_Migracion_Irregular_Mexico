{
 "cells": [
  {
   "cell_type": "markdown",
   "id": "7ca4755c",
   "metadata": {},
   "source": [
    "The Digital Map of Mexico´s platform is a set of computer tools that allow the construction, consultation, interpretation and analysis of geographical information and geo-referenced statistics.\n",
    "\n",
    "\n",
    "Inegi User's Manual: https://en.www.inegi.org.mx/contenidos/temas/MapaDigital/Doc/musua_mdmlinea.pdf\n",
    "\n"
   ]
  },
  {
   "cell_type": "code",
   "execution_count": 1,
   "id": "dd2ab08e",
   "metadata": {},
   "outputs": [
    {
     "name": "stdout",
     "output_type": "stream",
     "text": [
      "Collecting arcgis\n",
      "  Downloading arcgis-2.2.0.2.tar.gz (48.0 MB)\n",
      "\u001b[2K     \u001b[90m━━━━━━━━━━━━━━━━━━━━━━━━━━━━━━━━━━━━━━━━\u001b[0m \u001b[32m48.0/48.0 MB\u001b[0m \u001b[31m8.2 MB/s\u001b[0m eta \u001b[36m0:00:00\u001b[0m:00:01\u001b[0m00:01\u001b[0m\n",
      "\u001b[?25h  Preparing metadata (setup.py) ... \u001b[?25ldone\n",
      "\u001b[?25hRequirement already satisfied: geopandas in /Users/pablouriarte/opt/anaconda3/lib/python3.9/site-packages (0.13.2)\n",
      "Requirement already satisfied: matplotlib in /Users/pablouriarte/opt/anaconda3/lib/python3.9/site-packages (3.5.2)\n",
      "Requirement already satisfied: requests in /Users/pablouriarte/opt/anaconda3/lib/python3.9/site-packages (2.28.1)\n",
      "Requirement already satisfied: pillow in /Users/pablouriarte/opt/anaconda3/lib/python3.9/site-packages (from arcgis) (9.2.0)\n",
      "Requirement already satisfied: urllib3<3,>=1.21.1 in /Users/pablouriarte/opt/anaconda3/lib/python3.9/site-packages (from arcgis) (1.26.11)\n",
      "Collecting cachetools\n",
      "  Using cached cachetools-5.3.2-py3-none-any.whl (9.3 kB)\n",
      "Requirement already satisfied: lxml in /Users/pablouriarte/opt/anaconda3/lib/python3.9/site-packages (from arcgis) (4.9.1)\n",
      "Requirement already satisfied: notebook in /Users/pablouriarte/opt/anaconda3/lib/python3.9/site-packages (from arcgis) (6.4.12)\n",
      "Requirement already satisfied: cryptography in /Users/pablouriarte/opt/anaconda3/lib/python3.9/site-packages (from arcgis) (37.0.1)\n",
      "Requirement already satisfied: ipywidgets<8,>=7 in /Users/pablouriarte/opt/anaconda3/lib/python3.9/site-packages (from arcgis) (7.6.5)\n",
      "Requirement already satisfied: widgetsnbextension>=3 in /Users/pablouriarte/opt/anaconda3/lib/python3.9/site-packages (from arcgis) (3.5.2)\n",
      "Collecting jupyter-client<=6.1.12\n",
      "  Using cached jupyter_client-6.1.12-py3-none-any.whl (112 kB)\n",
      "Collecting pandas<3,>=2.0.0\n",
      "  Using cached pandas-2.2.0-cp39-cp39-macosx_10_9_x86_64.whl (12.5 MB)\n",
      "Collecting numpy>=1.21.6\n",
      "  Using cached numpy-1.26.4-cp39-cp39-macosx_10_9_x86_64.whl (20.6 MB)\n",
      "Requirement already satisfied: keyring>=23.3.0 in /Users/pablouriarte/opt/anaconda3/lib/python3.9/site-packages (from arcgis) (23.4.0)\n",
      "Collecting pylerc\n",
      "  Using cached pylerc-4.0-py3-none-any.whl\n",
      "Requirement already satisfied: ujson>=3 in /Users/pablouriarte/opt/anaconda3/lib/python3.9/site-packages (from arcgis) (5.4.0)\n",
      "Requirement already satisfied: jupyterlab in /Users/pablouriarte/opt/anaconda3/lib/python3.9/site-packages (from arcgis) (3.4.4)\n",
      "Collecting pyshp>=2\n",
      "  Using cached pyshp-2.3.1-py2.py3-none-any.whl (46 kB)\n",
      "Collecting geomet\n",
      "  Using cached geomet-1.1.0-py3-none-any.whl (31 kB)\n",
      "Collecting requests-oauthlib\n",
      "  Using cached requests_oauthlib-1.3.1-py2.py3-none-any.whl (23 kB)\n",
      "Collecting requests_toolbelt\n",
      "  Using cached requests_toolbelt-1.0.0-py2.py3-none-any.whl (54 kB)\n",
      "Collecting pyspnego>=0.8.0\n",
      "  Using cached pyspnego-0.10.2-py3-none-any.whl (129 kB)\n",
      "Collecting requests-kerberos\n",
      "  Using cached requests_kerberos-0.14.0-py2.py3-none-any.whl (11 kB)\n",
      "Collecting requests-gssapi\n",
      "  Using cached requests_gssapi-1.3.0-py3-none-any.whl (12 kB)\n",
      "Collecting dask>=2023.3.2\n",
      "  Using cached dask-2024.2.0-py3-none-any.whl (1.2 MB)\n",
      "Requirement already satisfied: matplotlib-inline in /Users/pablouriarte/opt/anaconda3/lib/python3.9/site-packages (from arcgis) (0.1.6)\n",
      "Collecting python-certifi-win32\n",
      "  Using cached python_certifi_win32-1.6.1-py2.py3-none-any.whl (7.3 kB)\n",
      "Requirement already satisfied: packaging in /Users/pablouriarte/opt/anaconda3/lib/python3.9/site-packages (from geopandas) (21.3)\n",
      "Requirement already satisfied: shapely>=1.7.1 in /Users/pablouriarte/opt/anaconda3/lib/python3.9/site-packages (from geopandas) (2.0.1)\n",
      "Requirement already satisfied: fiona>=1.8.19 in /Users/pablouriarte/opt/anaconda3/lib/python3.9/site-packages (from geopandas) (1.9.4.post1)\n",
      "Requirement already satisfied: pyproj>=3.0.1 in /Users/pablouriarte/opt/anaconda3/lib/python3.9/site-packages (from geopandas) (3.6.0)\n",
      "Requirement already satisfied: pyparsing>=2.2.1 in /Users/pablouriarte/opt/anaconda3/lib/python3.9/site-packages (from matplotlib) (3.0.9)\n",
      "Requirement already satisfied: python-dateutil>=2.7 in /Users/pablouriarte/opt/anaconda3/lib/python3.9/site-packages (from matplotlib) (2.8.2)\n",
      "Requirement already satisfied: kiwisolver>=1.0.1 in /Users/pablouriarte/opt/anaconda3/lib/python3.9/site-packages (from matplotlib) (1.4.2)\n",
      "Requirement already satisfied: fonttools>=4.22.0 in /Users/pablouriarte/opt/anaconda3/lib/python3.9/site-packages (from matplotlib) (4.25.0)\n",
      "Requirement already satisfied: cycler>=0.10 in /Users/pablouriarte/opt/anaconda3/lib/python3.9/site-packages (from matplotlib) (0.11.0)\n",
      "Requirement already satisfied: charset-normalizer<3,>=2 in /Users/pablouriarte/opt/anaconda3/lib/python3.9/site-packages (from requests) (2.0.4)\n",
      "Requirement already satisfied: idna<4,>=2.5 in /Users/pablouriarte/opt/anaconda3/lib/python3.9/site-packages (from requests) (3.3)\n",
      "Requirement already satisfied: certifi>=2017.4.17 in /Users/pablouriarte/opt/anaconda3/lib/python3.9/site-packages (from requests) (2022.9.24)\n",
      "Requirement already satisfied: cloudpickle>=1.5.0 in /Users/pablouriarte/opt/anaconda3/lib/python3.9/site-packages (from dask>=2023.3.2->arcgis) (2.0.0)\n",
      "Requirement already satisfied: pyyaml>=5.3.1 in /Users/pablouriarte/opt/anaconda3/lib/python3.9/site-packages (from dask>=2023.3.2->arcgis) (6.0)\n",
      "Collecting importlib-metadata>=4.13.0\n",
      "  Using cached importlib_metadata-7.0.1-py3-none-any.whl (23 kB)\n",
      "Requirement already satisfied: toolz>=0.10.0 in /Users/pablouriarte/opt/anaconda3/lib/python3.9/site-packages (from dask>=2023.3.2->arcgis) (0.11.2)\n",
      "Requirement already satisfied: fsspec>=2021.09.0 in /Users/pablouriarte/opt/anaconda3/lib/python3.9/site-packages (from dask>=2023.3.2->arcgis) (2022.7.1)\n",
      "Requirement already satisfied: partd>=1.2.0 in /Users/pablouriarte/opt/anaconda3/lib/python3.9/site-packages (from dask>=2023.3.2->arcgis) (1.2.0)\n",
      "Collecting click>=8.1\n",
      "  Using cached click-8.1.7-py3-none-any.whl (97 kB)\n",
      "Requirement already satisfied: click-plugins>=1.0 in /Users/pablouriarte/opt/anaconda3/lib/python3.9/site-packages (from fiona>=1.8.19->geopandas) (1.1.1)\n",
      "Requirement already satisfied: cligj>=0.5 in /Users/pablouriarte/opt/anaconda3/lib/python3.9/site-packages (from fiona>=1.8.19->geopandas) (0.7.2)\n",
      "Requirement already satisfied: attrs>=19.2.0 in /Users/pablouriarte/opt/anaconda3/lib/python3.9/site-packages (from fiona>=1.8.19->geopandas) (21.4.0)\n",
      "Requirement already satisfied: six in /Users/pablouriarte/opt/anaconda3/lib/python3.9/site-packages (from fiona>=1.8.19->geopandas) (1.16.0)\n",
      "Requirement already satisfied: ipython-genutils~=0.2.0 in /Users/pablouriarte/opt/anaconda3/lib/python3.9/site-packages (from ipywidgets<8,>=7->arcgis) (0.2.0)\n",
      "Requirement already satisfied: ipykernel>=4.5.1 in /Users/pablouriarte/opt/anaconda3/lib/python3.9/site-packages (from ipywidgets<8,>=7->arcgis) (6.15.2)\n",
      "Requirement already satisfied: ipython>=4.0.0 in /Users/pablouriarte/opt/anaconda3/lib/python3.9/site-packages (from ipywidgets<8,>=7->arcgis) (7.31.1)\n",
      "Requirement already satisfied: nbformat>=4.2.0 in /Users/pablouriarte/opt/anaconda3/lib/python3.9/site-packages (from ipywidgets<8,>=7->arcgis) (5.5.0)\n",
      "Requirement already satisfied: traitlets>=4.3.1 in /Users/pablouriarte/opt/anaconda3/lib/python3.9/site-packages (from ipywidgets<8,>=7->arcgis) (5.1.1)\n",
      "Requirement already satisfied: jupyterlab-widgets>=1.0.0 in /Users/pablouriarte/opt/anaconda3/lib/python3.9/site-packages (from ipywidgets<8,>=7->arcgis) (1.0.0)\n",
      "Requirement already satisfied: jupyter-core>=4.6.0 in /Users/pablouriarte/opt/anaconda3/lib/python3.9/site-packages (from jupyter-client<=6.1.12->arcgis) (4.11.1)\n",
      "Requirement already satisfied: tornado>=4.1 in /Users/pablouriarte/opt/anaconda3/lib/python3.9/site-packages (from jupyter-client<=6.1.12->arcgis) (6.1)\n",
      "Requirement already satisfied: pyzmq>=13 in /Users/pablouriarte/opt/anaconda3/lib/python3.9/site-packages (from jupyter-client<=6.1.12->arcgis) (23.2.0)\n",
      "Requirement already satisfied: pytz>=2020.1 in /Users/pablouriarte/opt/anaconda3/lib/python3.9/site-packages (from pandas<3,>=2.0.0->arcgis) (2022.1)\n",
      "Requirement already satisfied: tzdata>=2022.7 in /Users/pablouriarte/opt/anaconda3/lib/python3.9/site-packages (from pandas<3,>=2.0.0->arcgis) (2023.3)\n",
      "Requirement already satisfied: nest-asyncio>=1.5 in /Users/pablouriarte/opt/anaconda3/lib/python3.9/site-packages (from notebook->arcgis) (1.5.5)\n"
     ]
    },
    {
     "name": "stdout",
     "output_type": "stream",
     "text": [
      "Requirement already satisfied: jinja2 in /Users/pablouriarte/opt/anaconda3/lib/python3.9/site-packages (from notebook->arcgis) (2.11.3)\n",
      "Requirement already satisfied: nbconvert>=5 in /Users/pablouriarte/opt/anaconda3/lib/python3.9/site-packages (from notebook->arcgis) (6.4.4)\n",
      "Requirement already satisfied: prometheus-client in /Users/pablouriarte/opt/anaconda3/lib/python3.9/site-packages (from notebook->arcgis) (0.14.1)\n",
      "Requirement already satisfied: argon2-cffi in /Users/pablouriarte/opt/anaconda3/lib/python3.9/site-packages (from notebook->arcgis) (21.3.0)\n",
      "Requirement already satisfied: terminado>=0.8.3 in /Users/pablouriarte/opt/anaconda3/lib/python3.9/site-packages (from notebook->arcgis) (0.13.1)\n",
      "Requirement already satisfied: Send2Trash>=1.8.0 in /Users/pablouriarte/opt/anaconda3/lib/python3.9/site-packages (from notebook->arcgis) (1.8.0)\n",
      "Requirement already satisfied: cffi>=1.12 in /Users/pablouriarte/opt/anaconda3/lib/python3.9/site-packages (from cryptography->arcgis) (1.15.1)\n",
      "Requirement already satisfied: jupyterlab-server~=2.10 in /Users/pablouriarte/opt/anaconda3/lib/python3.9/site-packages (from jupyterlab->arcgis) (2.10.3)\n",
      "Requirement already satisfied: nbclassic in /Users/pablouriarte/opt/anaconda3/lib/python3.9/site-packages (from jupyterlab->arcgis) (0.3.5)\n",
      "Requirement already satisfied: jupyter-server~=1.16 in /Users/pablouriarte/opt/anaconda3/lib/python3.9/site-packages (from jupyterlab->arcgis) (1.18.1)\n",
      "Collecting setuptools-scm\n",
      "  Using cached setuptools_scm-8.0.4-py3-none-any.whl (42 kB)\n",
      "Requirement already satisfied: wrapt>=1.10.4 in /Users/pablouriarte/opt/anaconda3/lib/python3.9/site-packages (from python-certifi-win32->arcgis) (1.14.1)\n",
      "Collecting gssapi\n",
      "  Using cached gssapi-1.8.3-cp39-cp39-macosx_10_9_x86_64.whl (712 kB)\n",
      "Collecting oauthlib>=3.0.0\n",
      "  Using cached oauthlib-3.2.2-py3-none-any.whl (151 kB)\n",
      "Requirement already satisfied: pycparser in /Users/pablouriarte/opt/anaconda3/lib/python3.9/site-packages (from cffi>=1.12->cryptography->arcgis) (2.21)\n",
      "Requirement already satisfied: zipp>=0.5 in /Users/pablouriarte/opt/anaconda3/lib/python3.9/site-packages (from importlib-metadata>=4.13.0->dask>=2023.3.2->arcgis) (3.8.0)\n",
      "Requirement already satisfied: debugpy>=1.0 in /Users/pablouriarte/opt/anaconda3/lib/python3.9/site-packages (from ipykernel>=4.5.1->ipywidgets<8,>=7->arcgis) (1.5.1)\n",
      "Requirement already satisfied: psutil in /Users/pablouriarte/opt/anaconda3/lib/python3.9/site-packages (from ipykernel>=4.5.1->ipywidgets<8,>=7->arcgis) (5.9.0)\n",
      "Requirement already satisfied: appnope in /Users/pablouriarte/opt/anaconda3/lib/python3.9/site-packages (from ipykernel>=4.5.1->ipywidgets<8,>=7->arcgis) (0.1.2)\n",
      "Requirement already satisfied: pickleshare in /Users/pablouriarte/opt/anaconda3/lib/python3.9/site-packages (from ipython>=4.0.0->ipywidgets<8,>=7->arcgis) (0.7.5)\n",
      "Requirement already satisfied: setuptools>=18.5 in /Users/pablouriarte/opt/anaconda3/lib/python3.9/site-packages (from ipython>=4.0.0->ipywidgets<8,>=7->arcgis) (63.4.1)\n",
      "Requirement already satisfied: decorator in /Users/pablouriarte/opt/anaconda3/lib/python3.9/site-packages (from ipython>=4.0.0->ipywidgets<8,>=7->arcgis) (5.1.1)\n",
      "Requirement already satisfied: prompt-toolkit!=3.0.0,!=3.0.1,<3.1.0,>=2.0.0 in /Users/pablouriarte/opt/anaconda3/lib/python3.9/site-packages (from ipython>=4.0.0->ipywidgets<8,>=7->arcgis) (3.0.20)\n",
      "Requirement already satisfied: pexpect>4.3 in /Users/pablouriarte/opt/anaconda3/lib/python3.9/site-packages (from ipython>=4.0.0->ipywidgets<8,>=7->arcgis) (4.8.0)\n",
      "Requirement already satisfied: backcall in /Users/pablouriarte/opt/anaconda3/lib/python3.9/site-packages (from ipython>=4.0.0->ipywidgets<8,>=7->arcgis) (0.2.0)\n",
      "Requirement already satisfied: jedi>=0.16 in /Users/pablouriarte/opt/anaconda3/lib/python3.9/site-packages (from ipython>=4.0.0->ipywidgets<8,>=7->arcgis) (0.18.1)\n",
      "Requirement already satisfied: pygments in /Users/pablouriarte/opt/anaconda3/lib/python3.9/site-packages (from ipython>=4.0.0->ipywidgets<8,>=7->arcgis) (2.11.2)\n",
      "Requirement already satisfied: MarkupSafe>=0.23 in /Users/pablouriarte/opt/anaconda3/lib/python3.9/site-packages (from jinja2->notebook->arcgis) (2.0.1)\n",
      "Requirement already satisfied: anyio<4,>=3.1.0 in /Users/pablouriarte/opt/anaconda3/lib/python3.9/site-packages (from jupyter-server~=1.16->jupyterlab->arcgis) (3.5.0)\n",
      "Requirement already satisfied: websocket-client in /Users/pablouriarte/opt/anaconda3/lib/python3.9/site-packages (from jupyter-server~=1.16->jupyterlab->arcgis) (0.58.0)\n",
      "Requirement already satisfied: entrypoints>=0.2.2 in /Users/pablouriarte/opt/anaconda3/lib/python3.9/site-packages (from jupyterlab-server~=2.10->jupyterlab->arcgis) (0.4)\n",
      "Requirement already satisfied: babel in /Users/pablouriarte/opt/anaconda3/lib/python3.9/site-packages (from jupyterlab-server~=2.10->jupyterlab->arcgis) (2.9.1)\n",
      "Requirement already satisfied: json5 in /Users/pablouriarte/opt/anaconda3/lib/python3.9/site-packages (from jupyterlab-server~=2.10->jupyterlab->arcgis) (0.9.6)\n",
      "Requirement already satisfied: jsonschema>=3.0.1 in /Users/pablouriarte/opt/anaconda3/lib/python3.9/site-packages (from jupyterlab-server~=2.10->jupyterlab->arcgis) (4.16.0)\n",
      "Requirement already satisfied: mistune<2,>=0.8.1 in /Users/pablouriarte/opt/anaconda3/lib/python3.9/site-packages (from nbconvert>=5->notebook->arcgis) (0.8.4)\n",
      "Requirement already satisfied: bleach in /Users/pablouriarte/opt/anaconda3/lib/python3.9/site-packages (from nbconvert>=5->notebook->arcgis) (4.1.0)\n",
      "Requirement already satisfied: defusedxml in /Users/pablouriarte/opt/anaconda3/lib/python3.9/site-packages (from nbconvert>=5->notebook->arcgis) (0.7.1)\n",
      "Requirement already satisfied: nbclient<0.6.0,>=0.5.0 in /Users/pablouriarte/opt/anaconda3/lib/python3.9/site-packages (from nbconvert>=5->notebook->arcgis) (0.5.13)\n",
      "Requirement already satisfied: jupyterlab-pygments in /Users/pablouriarte/opt/anaconda3/lib/python3.9/site-packages (from nbconvert>=5->notebook->arcgis) (0.1.2)\n",
      "Requirement already satisfied: pandocfilters>=1.4.1 in /Users/pablouriarte/opt/anaconda3/lib/python3.9/site-packages (from nbconvert>=5->notebook->arcgis) (1.5.0)\n",
      "Requirement already satisfied: testpath in /Users/pablouriarte/opt/anaconda3/lib/python3.9/site-packages (from nbconvert>=5->notebook->arcgis) (0.6.0)\n",
      "Requirement already satisfied: beautifulsoup4 in /Users/pablouriarte/opt/anaconda3/lib/python3.9/site-packages (from nbconvert>=5->notebook->arcgis) (4.11.1)\n",
      "Requirement already satisfied: fastjsonschema in /Users/pablouriarte/opt/anaconda3/lib/python3.9/site-packages (from nbformat>=4.2.0->ipywidgets<8,>=7->arcgis) (2.16.2)\n",
      "Requirement already satisfied: locket in /Users/pablouriarte/opt/anaconda3/lib/python3.9/site-packages (from partd>=1.2.0->dask>=2023.3.2->arcgis) (1.0.0)\n",
      "Requirement already satisfied: ptyprocess in /Users/pablouriarte/opt/anaconda3/lib/python3.9/site-packages (from terminado>=0.8.3->notebook->arcgis) (0.7.0)\n",
      "Requirement already satisfied: argon2-cffi-bindings in /Users/pablouriarte/opt/anaconda3/lib/python3.9/site-packages (from argon2-cffi->notebook->arcgis) (21.2.0)\n",
      "Collecting krb5>=0.3.0\n",
      "  Using cached krb5-0.5.1-cp39-cp39-macosx_10_9_x86_64.whl (963 kB)\n",
      "Requirement already satisfied: tomli>=1 in /Users/pablouriarte/opt/anaconda3/lib/python3.9/site-packages (from setuptools-scm->python-certifi-win32->arcgis) (2.0.1)\n",
      "Requirement already satisfied: typing-extensions in /Users/pablouriarte/opt/anaconda3/lib/python3.9/site-packages (from setuptools-scm->python-certifi-win32->arcgis) (4.3.0)\n",
      "Requirement already satisfied: sniffio>=1.1 in /Users/pablouriarte/opt/anaconda3/lib/python3.9/site-packages (from anyio<4,>=3.1.0->jupyter-server~=1.16->jupyterlab->arcgis) (1.2.0)\n",
      "Requirement already satisfied: parso<0.9.0,>=0.8.0 in /Users/pablouriarte/opt/anaconda3/lib/python3.9/site-packages (from jedi>=0.16->ipython>=4.0.0->ipywidgets<8,>=7->arcgis) (0.8.3)\n",
      "Requirement already satisfied: pyrsistent!=0.17.0,!=0.17.1,!=0.17.2,>=0.14.0 in /Users/pablouriarte/opt/anaconda3/lib/python3.9/site-packages (from jsonschema>=3.0.1->jupyterlab-server~=2.10->jupyterlab->arcgis) (0.18.0)\n",
      "Requirement already satisfied: wcwidth in /Users/pablouriarte/opt/anaconda3/lib/python3.9/site-packages (from prompt-toolkit!=3.0.0,!=3.0.1,<3.1.0,>=2.0.0->ipython>=4.0.0->ipywidgets<8,>=7->arcgis) (0.2.5)\n"
     ]
    },
    {
     "name": "stdout",
     "output_type": "stream",
     "text": [
      "Requirement already satisfied: soupsieve>1.2 in /Users/pablouriarte/opt/anaconda3/lib/python3.9/site-packages (from beautifulsoup4->nbconvert>=5->notebook->arcgis) (2.3.1)\n",
      "Requirement already satisfied: webencodings in /Users/pablouriarte/opt/anaconda3/lib/python3.9/site-packages (from bleach->nbconvert>=5->notebook->arcgis) (0.5.1)\n",
      "Building wheels for collected packages: arcgis\n",
      "  Building wheel for arcgis (setup.py) ... \u001b[?25ldone\n",
      "\u001b[?25h  Created wheel for arcgis: filename=arcgis-2.2.0.2-cp39-cp39-macosx_10_9_x86_64.whl size=8487787 sha256=c4a4e8c695ab28eae5bd420db93c6a1ccb0759790ffb5723e3d8e1c15c41f608\n",
      "  Stored in directory: /Users/pablouriarte/Library/Caches/pip/wheels/27/ac/ed/c792dfbd3dbf81bee77d9f817bccebfc47e3d55ea5550ba96c\n",
      "Successfully built arcgis\n",
      "Installing collected packages: pyshp, oauthlib, numpy, krb5, importlib-metadata, gssapi, click, cachetools, setuptools-scm, requests_toolbelt, requests-oauthlib, requests-gssapi, pylerc, pandas, jupyter-client, geomet, dask, python-certifi-win32, pyspnego, requests-kerberos, arcgis\n",
      "  Attempting uninstall: numpy\n",
      "    Found existing installation: numpy 1.21.5\n",
      "    Uninstalling numpy-1.21.5:\n",
      "      Successfully uninstalled numpy-1.21.5\n",
      "  Attempting uninstall: importlib-metadata\n",
      "    Found existing installation: importlib-metadata 4.11.3\n",
      "    Uninstalling importlib-metadata-4.11.3:\n",
      "      Successfully uninstalled importlib-metadata-4.11.3\n",
      "  Attempting uninstall: click\n",
      "    Found existing installation: click 8.0.4\n",
      "    Uninstalling click-8.0.4:\n",
      "      Successfully uninstalled click-8.0.4\n",
      "  Attempting uninstall: pandas\n",
      "    Found existing installation: pandas 1.5.3\n",
      "    Uninstalling pandas-1.5.3:\n",
      "      Successfully uninstalled pandas-1.5.3\n",
      "  Attempting uninstall: jupyter-client\n",
      "    Found existing installation: jupyter_client 7.3.4\n",
      "    Uninstalling jupyter_client-7.3.4:\n",
      "      Successfully uninstalled jupyter_client-7.3.4\n",
      "  Attempting uninstall: dask\n",
      "    Found existing installation: dask 2022.7.0\n",
      "    Uninstalling dask-2022.7.0:\n",
      "      Successfully uninstalled dask-2022.7.0\n",
      "\u001b[31mERROR: pip's dependency resolver does not currently take into account all the packages that are installed. This behaviour is the source of the following dependency conflicts.\n",
      "daal4py 2021.6.0 requires daal==2021.4.0, which is not installed.\n",
      "spyder-kernels 2.3.3 requires jupyter-client<8,>=7.3.4; python_version >= \"3\", but you have jupyter-client 6.1.12 which is incompatible.\n",
      "scipy 1.9.1 requires numpy<1.25.0,>=1.18.5, but you have numpy 1.26.4 which is incompatible.\n",
      "numba 0.55.1 requires numpy<1.22,>=1.18, but you have numpy 1.26.4 which is incompatible.\n",
      "jupyter-console 6.4.3 requires jupyter-client>=7.0.0, but you have jupyter-client 6.1.12 which is incompatible.\n",
      "distributed 2022.7.0 requires dask==2022.7.0, but you have dask 2024.2.0 which is incompatible.\u001b[0m\u001b[31m\n",
      "\u001b[0mSuccessfully installed arcgis-2.2.0.2 cachetools-5.3.2 click-8.1.7 dask-2024.2.0 geomet-1.1.0 gssapi-1.8.3 importlib-metadata-7.0.1 jupyter-client-6.1.12 krb5-0.5.1 numpy-1.26.4 oauthlib-3.2.2 pandas-2.2.0 pylerc-4.0 pyshp-2.3.1 pyspnego-0.10.2 python-certifi-win32-1.6.1 requests-gssapi-1.3.0 requests-kerberos-0.14.0 requests-oauthlib-1.3.1 requests_toolbelt-1.0.0 setuptools-scm-8.0.4\n"
     ]
    }
   ],
   "source": [
    "!pip install arcgis geopandas matplotlib requests"
   ]
  },
  {
   "cell_type": "markdown",
   "id": "9ac9b368",
   "metadata": {},
   "source": [
    "## Load and Display JSON Files\n",
    "\n",
    "You'll need to load the JSON files representing the geographic areas of Mexico and the western U.S. states. Let's assume these files are locally available or hosted online. You can use geopandas to read these files.\n",
    "\n",
    "Mexico:\n",
    "https://cartographyvectors.com/map/1482-mexico-with-regions\n",
    "\n",
    "Western U.S. states:\n"
   ]
  },
  {
   "cell_type": "code",
   "execution_count": 11,
   "id": "96fb5a6d",
   "metadata": {
    "scrolled": true
   },
   "outputs": [],
   "source": [
    "import geopandas as gpd\n",
    "import matplotlib.pyplot as plt\n",
    "\n",
    "# Load JSON files\n",
    "#mexico_gdf = gpd.read_file('/Users/pablouriarte/Documents/1. Expediente Tec de Monterrey/1.Tesis/Mapa_Migracion_Irregular_Mexico/arcgis/mexico-with-states_.geojson')\n",
    "#us_west_gdf = gpd.read_file('path_to_us_west_geojson.json')\n",
    "\n",
    "# Display the first few rows to verify\n",
    "#print(mexico_gdf.head())\n",
    "#print(us_west_gdf.head())"
   ]
  },
  {
   "cell_type": "code",
   "execution_count": 8,
   "id": "93a9fe9f",
   "metadata": {},
   "outputs": [
    {
     "name": "stdout",
     "output_type": "stream",
     "text": [
      "True\n"
     ]
    }
   ],
   "source": [
    "import geopandas as gpd\n",
    "\n",
    "# Load the GeoJSON file\n",
    "gdf = gpd.read_file('/Users/pablouriarte/Documents/1. Expediente Tec de Monterrey/1.Tesis/Mapa_Migracion_Irregular_Mexico/arcgis/mexico-with-regions_.geojson')\n",
    "\n",
    "# Identify and exclude invalid geometries\n",
    "#gdf_clean = gdf[gdf.is_valid]\n",
    "\n",
    "# Alternatively, try to automatically fix invalid geometries\n",
    "gdf_fixed = gdf.buffer(0)\n",
    "\n",
    "# Check if the issue persists\n",
    "print(gdf_fixed.is_valid.all())\n",
    "\n",
    "# Save the cleaned or fixed GeoDataFrame back to a new GeoJSON file if needed\n",
    "#gdf_clean.to_file('path_to_cleaned_geojson.geojson', driver='GeoJSON')\n",
    "# or\n",
    "#gdf_fixed.to_file('path_to_fixed_geojson.geojson', driver='GeoJSON')\n"
   ]
  },
  {
   "cell_type": "code",
   "execution_count": 9,
   "id": "1e3db6a9",
   "metadata": {},
   "outputs": [
    {
     "data": {
      "text/plain": [
       "0     POLYGON ((-102.28786 22.41649, -102.28753 22.4...\n",
       "1     MULTIPOLYGON (((-112.66384 28.41883, -112.6654...\n",
       "2     MULTIPOLYGON (((-112.75825 27.97538, -112.7574...\n",
       "3     MULTIPOLYGON (((-90.57152 19.82716, -90.57075 ...\n",
       "4     POLYGON ((-91.97364 17.91143, -91.96993 17.910...\n",
       "5     POLYGON ((-107.65659 31.78371, -107.59983 31.7...\n",
       "6     POLYGON ((-102.31079 29.87695, -102.30976 29.8...\n",
       "7     MULTIPOLYGON (((-104.33444 19.02996, -104.3342...\n",
       "8     POLYGON ((-99.11124 19.56150, -99.11572 19.556...\n",
       "9     POLYGON ((-105.96732 26.78554, -105.93919 26.7...\n",
       "10    POLYGON ((-101.35003 21.83796, -101.31948 21.8...\n",
       "11    MULTIPOLYGON (((-100.61018 18.88712, -100.6101...\n",
       "12    POLYGON ((-99.01327 19.98492, -99.01397 19.983...\n",
       "13    MULTIPOLYGON (((-103.93374 22.74605, -103.9334...\n",
       "14    POLYGON ((-99.91237 20.28563, -99.91139 20.285...\n",
       "15    MULTIPOLYGON (((-103.40383 18.28647, -103.4040...\n",
       "16    POLYGON ((-99.06209 19.04872, -99.05980 19.048...\n",
       "17    MULTIPOLYGON (((-105.38357 23.08174, -105.3832...\n",
       "18    POLYGON ((-100.01608 27.63273, -99.99885 27.61...\n",
       "19    MULTIPOLYGON (((-96.68215 18.66884, -96.68048 ...\n",
       "20    POLYGON ((-97.84218 20.83989, -97.84037 20.838...\n",
       "21    POLYGON ((-99.18811 21.66992, -99.18167 21.661...\n",
       "22    MULTIPOLYGON (((-86.74859 21.26484, -86.74864 ...\n",
       "23    POLYGON ((-100.60353 24.40130, -100.60061 24.3...\n",
       "24    MULTIPOLYGON (((-108.47551 27.03994, -108.4739...\n",
       "25    MULTIPOLYGON (((-114.88259 32.49215, -114.8809...\n",
       "26    POLYGON ((-92.45106 18.59787, -92.44922 18.594...\n",
       "27    POLYGON ((-99.71772 27.66286, -99.71706 27.662...\n",
       "28    POLYGON ((-98.05499 19.72180, -98.05436 19.721...\n",
       "29    MULTIPOLYGON (((-98.20883 22.46476, -98.20700 ...\n",
       "30    MULTIPOLYGON (((-87.96291 21.61013, -87.95753 ...\n",
       "31    POLYGON ((-101.84881 25.01762, -101.83190 24.9...\n",
       "dtype: geometry"
      ]
     },
     "execution_count": 9,
     "metadata": {},
     "output_type": "execute_result"
    }
   ],
   "source": [
    "gdf_fixed"
   ]
  },
  {
   "cell_type": "code",
   "execution_count": 12,
   "id": "9e6212fa",
   "metadata": {},
   "outputs": [
    {
     "data": {
      "image/png": "[encoded data removed]",
      "text/plain": [
       "<Figure size 640x480 with 1 Axes>"
      ]
     },
     "metadata": {},
     "output_type": "display_data"
    }
   ],
   "source": [
    "gdf_fixed.plot()\n",
    "plt.show()\n"
   ]
  },
  {
   "cell_type": "code",
   "execution_count": null,
   "id": "4123bdb8",
   "metadata": {},
   "outputs": [],
   "source": []
  }
 ],
 "metadata": {
  "kernelspec": {
   "display_name": "Python 3 (ipykernel)",
   "language": "python",
   "name": "python3"
  },
  "language_info": {
   "codemirror_mode": {
    "name": "ipython",
    "version": 3
   },
   "file_extension": ".py",
   "mimetype": "text/x-python",
   "name": "python",
   "nbconvert_exporter": "python",
   "pygments_lexer": "ipython3",
   "version": "3.9.13"
  }
 },
 "nbformat": 4,
 "nbformat_minor": 5
}
