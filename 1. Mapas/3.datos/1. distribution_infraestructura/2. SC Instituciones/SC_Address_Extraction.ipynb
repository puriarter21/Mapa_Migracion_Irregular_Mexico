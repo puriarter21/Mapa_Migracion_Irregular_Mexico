{
 "cells": [
  {
   "cell_type": "markdown",
   "id": "eeb9754f",
   "metadata": {},
   "source": [
    "\n",
    "# Public Institutions\n",
    "\n",
    "## 1. Web Scrapping Tools\n",
    "### KML adress extraction\n",
    "\n",
    "## 2. Directory Data Processing\n",
    "\n",
    "\n",
    "\n",
    "Nota: Todo lo que ya no utilizamos esta comentado para que no nos lastime u.u"
   ]
  },
  {
   "cell_type": "code",
   "execution_count": 1,
   "id": "0456ee20",
   "metadata": {},
   "outputs": [],
   "source": [
    "from bs4 import BeautifulSoup\n",
    "import requests\n",
    "import re\n",
    "import pandas as pd\n",
    "from geopy.geocoders import Photon\n",
    "from geopy.geocoders import Nominatim"
   ]
  },
  {
   "cell_type": "code",
   "execution_count": null,
   "id": "64528da6-2617-48cd-ba8e-cac477349f11",
   "metadata": {},
   "outputs": [],
   "source": []
  },
  {
   "cell_type": "code",
   "execution_count": 3,
   "id": "639a4b2f",
   "metadata": {},
   "outputs": [],
   "source": [
    "#def url_to_string(url):\n",
    "#    req = requests.get(url)\n",
    "#    soup = BeautifulSoup(req.text)\n",
    "#    for script in soup([\"script\", \"style\", 'aside']):\n",
    "#        script.extract()\n",
    "#    return \" \".join(re.split(r'[\\n\\t]+', soup.get_text()))"
   ]
  },
  {
   "cell_type": "markdown",
   "id": "be7164b3",
   "metadata": {},
   "source": [
    "### Directorio REDES\n",
    "#### PARTE 1: scraping to get addresses"
   ]
  },
  {
   "cell_type": "code",
   "execution_count": 4,
   "id": "b5c0ecc6",
   "metadata": {},
   "outputs": [],
   "source": [
    "# base url to scrape\n",
    "#url_base = \"https://redes.dh.tamu.edu/index.php/node/\"\n",
    "\n",
    "# create empty dataframe to fill out with org's addresses\n",
    "#df_comp = pd.DataFrame(columns=['id_org', 'Organización','Dirección','Ciudad','Estado','País','Código Postal','Tipo de Iniciativa'])\n",
    "\n",
    "# 3 ids for testing, must change to higher number\n",
    "#id_orgs = range(680)"
   ]
  },
  {
   "cell_type": "markdown",
   "id": "7b1ce050",
   "metadata": {},
   "source": [
    "for id_org in id_orgs:\n",
    "    # create url\n",
    "    url_org = '{}{}'.format(url_base, id_org)\n",
    "    # scrape\n",
    "    texto_org = url_to_string(url_org)\n",
    "    \n",
    "    # Extract the name of the organization\n",
    "    org = re.findall(\"(.*?)\\|\", texto_org)[0]\n",
    "\n",
    "    # Extract address information\n",
    "    # error handling returns empty string if it doesn't find the content\n",
    "    try:\n",
    "        direccion = re.findall(\"Dirección (.*?) Ciudad\", texto_org)[0]\n",
    "    except IndexError:\n",
    "        direccion = ''\n",
    "    try:\n",
    "        ciudad = re.findall(\"Ciudad (.*?) Estado\", texto_org)[0]\n",
    "    except IndexError:\n",
    "        ciudad = ''\n",
    "    try:\n",
    "        estado = re.findall(\"Estado (.*?) País\", texto_org)[0]\n",
    "    except IndexError:\n",
    "        estado = ''\n",
    "    try:\n",
    "        pais = re.findall(\"País (.*?) Código Postal\", texto_org)[0]\n",
    "    except IndexError:\n",
    "        pais = ''\n",
    "    try:\n",
    "        cp = re.findall(\"Código Postal (\\d+)\", texto_org)[0]\n",
    "    except IndexError:\n",
    "        cp = ''\n",
    "    try:\n",
    "        tipo_iniciativa = re.findall(\"Tipo de Iniciativa (.*?) Tipo de Ayuda\", texto_org)[0]\n",
    "    except IndexError:\n",
    "        tipo_iniciativa = ''\n",
    "   \n",
    "\n",
    "        \n",
    "    # Create a pandas DataFrame with the extracted information\n",
    "    df_temp = pd.DataFrame({\n",
    "        'id_org' : id_org,\n",
    "        'Organización': [org],\n",
    "        'Dirección': [direccion],\n",
    "        'Ciudad': [ciudad],\n",
    "        'Estado': [estado],\n",
    "        'País': [pais],\n",
    "        'Código Postal': [cp],\n",
    "        'Tipo de Iniciativa' : [tipo_iniciativa]\n",
    "    })\n",
    "\n",
    "    df_comp = pd.concat([df_comp, df_temp], ignore_index=True)\n",
    "\n",
    "\n",
    "df_comp.head()"
   ]
  },
  {
   "cell_type": "code",
   "execution_count": 5,
   "id": "fe4cf63f",
   "metadata": {},
   "outputs": [],
   "source": [
    "# Create a new DataFrame with non-empty \"Dirección\" values\n",
    "#directorio_redes = df_comp.loc[df_comp['Dirección'] != '']\n"
   ]
  },
  {
   "cell_type": "code",
   "execution_count": 13,
   "id": "bf645af0",
   "metadata": {},
   "outputs": [
    {
     "data": {
      "text/html": [
       "<div>\n",
       "<style scoped>\n",
       "    .dataframe tbody tr th:only-of-type {\n",
       "        vertical-align: middle;\n",
       "    }\n",
       "\n",
       "    .dataframe tbody tr th {\n",
       "        vertical-align: top;\n",
       "    }\n",
       "\n",
       "    .dataframe thead th {\n",
       "        text-align: right;\n",
       "    }\n",
       "</style>\n",
       "<table border=\"1\" class=\"dataframe\">\n",
       "  <thead>\n",
       "    <tr style=\"text-align: right;\">\n",
       "      <th></th>\n",
       "      <th>id_org</th>\n",
       "      <th>Organización</th>\n",
       "      <th>Dirección</th>\n",
       "      <th>Ciudad</th>\n",
       "      <th>Estado</th>\n",
       "      <th>País</th>\n",
       "      <th>Código Postal</th>\n",
       "      <th>Tipo de Iniciativa</th>\n",
       "    </tr>\n",
       "  </thead>\n",
       "  <tbody>\n",
       "    <tr>\n",
       "      <th>1</th>\n",
       "      <td>1</td>\n",
       "      <td>Otros Dreams en Acción</td>\n",
       "      <td>José María Marroquí 83 Colonia Centro, Centro,...</td>\n",
       "      <td>Ciudad de México</td>\n",
       "      <td>Ciudad de México</td>\n",
       "      <td>México</td>\n",
       "      <td>06000</td>\n",
       "      <td>Asociación civil</td>\n",
       "    </tr>\n",
       "    <tr>\n",
       "      <th>21</th>\n",
       "      <td>21</td>\n",
       "      <td>Cáritas Mazatlán, I.A.P (Albergue al peregrino)</td>\n",
       "      <td>Toma de Celaya 86, Col. Francisco Villa, C.P. ...</td>\n",
       "      <td>Mazatlán</td>\n",
       "      <td>Sinaloa</td>\n",
       "      <td>México</td>\n",
       "      <td>82127</td>\n",
       "      <td>Albergue</td>\n",
       "    </tr>\n",
       "    <tr>\n",
       "      <th>22</th>\n",
       "      <td>22</td>\n",
       "      <td>Albergue Una Gota en el Océano</td>\n",
       "      <td>Bahía Magdalena 20, Col. Rincón de Urías, C.P....</td>\n",
       "      <td>Mazatlán</td>\n",
       "      <td>Sinaloa</td>\n",
       "      <td>México</td>\n",
       "      <td>82070</td>\n",
       "      <td>Albergue</td>\n",
       "    </tr>\n",
       "    <tr>\n",
       "      <th>23</th>\n",
       "      <td>23</td>\n",
       "      <td>Albergue Ejército de Salvación</td>\n",
       "      <td>C. Gutierrez Nájera #514 Colonia Centro 82000</td>\n",
       "      <td>Mazatlán</td>\n",
       "      <td>Sinaloa</td>\n",
       "      <td>México</td>\n",
       "      <td>82000</td>\n",
       "      <td>Albergue</td>\n",
       "    </tr>\n",
       "    <tr>\n",
       "      <th>24</th>\n",
       "      <td>24</td>\n",
       "      <td>CAVI Centro de Atención a la Violencia Intraf...</td>\n",
       "      <td>AVE. EJERCITO MEXICANO 2017 ALTOS COL. PALOS P...</td>\n",
       "      <td>Mazatlán</td>\n",
       "      <td>Sinaloa</td>\n",
       "      <td>México</td>\n",
       "      <td>82010</td>\n",
       "      <td>Asociación civil</td>\n",
       "    </tr>\n",
       "  </tbody>\n",
       "</table>\n",
       "</div>"
      ],
      "text/plain": [
       "   id_org                                       Organización  \\\n",
       "1       1                            Otros Dreams en Acción    \n",
       "21     21   Cáritas Mazatlán, I.A.P (Albergue al peregrino)    \n",
       "22     22                    Albergue Una Gota en el Océano    \n",
       "23     23                    Albergue Ejército de Salvación    \n",
       "24     24   CAVI Centro de Atención a la Violencia Intraf...   \n",
       "\n",
       "                                            Dirección            Ciudad  \\\n",
       "1   José María Marroquí 83 Colonia Centro, Centro,...  Ciudad de México   \n",
       "21  Toma de Celaya 86, Col. Francisco Villa, C.P. ...          Mazatlán   \n",
       "22  Bahía Magdalena 20, Col. Rincón de Urías, C.P....          Mazatlán   \n",
       "23      C. Gutierrez Nájera #514 Colonia Centro 82000          Mazatlán   \n",
       "24  AVE. EJERCITO MEXICANO 2017 ALTOS COL. PALOS P...          Mazatlán   \n",
       "\n",
       "              Estado    País Código Postal Tipo de Iniciativa  \n",
       "1   Ciudad de México  México         06000   Asociación civil  \n",
       "21           Sinaloa  México         82127           Albergue  \n",
       "22           Sinaloa  México         82070           Albergue  \n",
       "23           Sinaloa  México         82000           Albergue  \n",
       "24           Sinaloa  México         82010   Asociación civil  "
      ]
     },
     "execution_count": 13,
     "metadata": {},
     "output_type": "execute_result"
    }
   ],
   "source": [
    "#directorio_redes.head()\n",
    "#directorio_redes.shape"
   ]
  },
  {
   "cell_type": "code",
   "execution_count": 15,
   "id": "935f078d",
   "metadata": {},
   "outputs": [],
   "source": [
    "#directorio_redes.to_csv('/Users/pablouriarte/Documents/1. Expediente Tec de Monterrey/1.Tesis/1. instituciones/redes/nombre_del_archivo.csv', encoding='utf-8')"
   ]
  },
  {
   "cell_type": "markdown",
   "id": "0bfc3fc6",
   "metadata": {},
   "source": [
    "### direccion (completa)\n",
    "\n",
    "Eventualmente podria ser necesario procesar mas la informacion y como se extrae de manera que sea mas facil para los geocodificardores encontrar sus coordenadas\n",
    "\n",
    "propuestas de procesamiento:\n",
    "\n",
    "-Identificar y remover palabras repetedias, simbolos que no sean letras y no admitir comas consecutivas\n",
    "\n",
    "\n",
    "-Talvez sea prudente echarle chatgtp a las extracciones igual que como lo hizo fer con el dir de acnur servicios"
   ]
  },
  {
   "cell_type": "code",
   "execution_count": null,
   "id": "2cc3c4b9",
   "metadata": {},
   "outputs": [],
   "source": [
    "# Create a new column with merged information\n",
    "#directorio_redes['DirecciónCompleta'] = directorio_redes['Dirección'] + ',' + directorio_redes['Ciudad'] + ', ' + directorio_redes['Estado']# + ', ' + directorio_redes['País']\n",
    "\n",
    "# Optionally, you can strip any leading or trailing commas from the merged address\n",
    "#directorio_redes['DirecciónCompleta'] = directorio_redes['DirecciónCompleta'].str.strip(',')\n"
   ]
  },
  {
   "cell_type": "markdown",
   "id": "ee794adb",
   "metadata": {},
   "source": [
    "### 2.1 Pruebas"
   ]
  },
  {
   "cell_type": "code",
   "execution_count": null,
   "id": "dd169956",
   "metadata": {},
   "outputs": [],
   "source": [
    "#Aqui podriamos probar con distintas configuraciones a la parte de direccion para ver si podemos mejorar\n",
    "#la extraccion de coordenadas\n",
    "\n",
    "#Dirección + Ciudad + Estado + País\n",
    "#dr1 = pd.DataFrame()\n",
    "#dr1['name'] = directorio_redes['Organización']\n",
    "#dr1['direccion'] = directorio_redes['Dirección'] + ',' + directorio_redes['Ciudad'] + ', ' + directorio_redes['Estado']# + ', ' + directorio_redes['País']\n",
    "\n"
   ]
  },
  {
   "cell_type": "code",
   "execution_count": null,
   "id": "e8fe9b15",
   "metadata": {},
   "outputs": [],
   "source": [
    "dr1.head()"
   ]
  },
  {
   "cell_type": "markdown",
   "id": "8f77a839",
   "metadata": {},
   "source": [
    "### PARTE 2: geolocate addresses (solo para pruebas, para editar df finales en notebook geocode)\n",
    "\n",
    "Para seguir trabajando en esta parte hay que definir que servicio es el mas acertado, escoje algunas filas dificiles del csv directorio_redes. haz un data frame, correlo en photon y revisa que servicio es mas acertado. Googlemaps, nominatim, etc etc."
   ]
  },
  {
   "cell_type": "code",
   "execution_count": null,
   "id": "58da611e",
   "metadata": {},
   "outputs": [],
   "source": [
    "#geolocatorphoton\n",
    "#def get_lat_lon(address):\n",
    "#    geolocator = Photon(user_agent=\"measurements\",timeout=10)\n",
    "#    try:\n",
    "#        location = geolocator.geocode(address)\n",
    "#        return location.latitude, location.longitude\n",
    "#    except AttributeError:\n",
    "#        return '', ''"
   ]
  },
  {
   "cell_type": "code",
   "execution_count": null,
   "id": "6473a72e",
   "metadata": {},
   "outputs": [],
   "source": [
    "#subset para probar\n",
    "#indices_seleccionados = [1,2,3,4,5,6,7,8]\n",
    "#subset_df = dr1.iloc[indices_seleccionados]\n",
    "#subset_df.head(10)"
   ]
  },
  {
   "cell_type": "code",
   "execution_count": null,
   "id": "a60ed24d",
   "metadata": {},
   "outputs": [],
   "source": [
    "# get latlon for each address\n",
    "#subset_df[\"latlon\"] = subset_df[\"direccion\"].apply(get_lat_lon)"
   ]
  },
  {
   "cell_type": "markdown",
   "id": "b0609914",
   "metadata": {},
   "source": [
    "### 3. Redes a CSV"
   ]
  },
  {
   "cell_type": "code",
   "execution_count": null,
   "id": "7816087f",
   "metadata": {},
   "outputs": [],
   "source": [
    "# 1.redes\n",
    "#este es el df a descargar, seleccionar el que mejor responda a conseguir las coordenadas\n",
    "#redes = pd.DataFrame()\n",
    "\n",
    "#redes['name'] = directorio_redes['Organización']\n",
    "#redes['descripcion'] = None  # Filling all rows with \"Nan\" (None)\n",
    "#redes['latitud'] = None      # Filling all rows with \"Nan\" (None)\n",
    "#redes['longitud'] = None     # Filling all rows with \"Nan\" (None)\n",
    "#redes['coordenadas'] = None  # Filling all rows with \"Nan\" (None)\n",
    "#redes['tipo'] = 'OSC / ONG'  # All rows should say \"OSC / ONG\"\n",
    "#redes['direccion'] = directorio_redes['DirecciónCompleta']\n",
    "#redes['bd'] = 'redes'        # All rows should say \"redes\"\n",
    "\n",
    "\n",
    "#redes.head(5)"
   ]
  },
  {
   "cell_type": "code",
   "execution_count": null,
   "id": "ec9cf348",
   "metadata": {},
   "outputs": [],
   "source": [
    "#dfredes = pd.read_csv('/Users/pablouriarte/Documents/1. Expediente Tec de Monterrey/1.Tesis/1. instituciones/notebooks_institucion/1.Redes.csv', encoding='utf-8')\n"
   ]
  },
  {
   "cell_type": "code",
   "execution_count": null,
   "id": "20577690",
   "metadata": {},
   "outputs": [],
   "source": [
    "#1. Redes#\n",
    "#Este crea un nuevo bd y lo manda al folder bd_ubicaciones.\n",
    "#redes.to_csv('/Users/pablouriarte/Documents/1. Expediente Tec de Monterrey/1.Tesis/Instituciones/notebooks_institucion/1.Redes.csv', index=False, encoding='utf-8')\n"
   ]
  },
  {
   "cell_type": "code",
   "execution_count": null,
   "id": "0e9dd342",
   "metadata": {},
   "outputs": [],
   "source": [
    "dfredes.head()"
   ]
  },
  {
   "cell_type": "code",
   "execution_count": null,
   "id": "a1bef26a",
   "metadata": {},
   "outputs": [],
   "source": [
    "#vamos a validar las direcciones de redes, hacemos pruebas para ver las coordenadas en tableu, y vemos que pedo.\n",
    "\n",
    "\n",
    "# paso 1.get coordinates\n",
    "\n",
    "#funcion para hacer direcciones a coordenadas\n",
    "#def get_coordinates(address):\n",
    "#    if pd.isnull(address): # Check if the address is NaN\n",
    "#        return None, None\n",
    "#    geolocator = Photon(user_agent=\"pablosthesis\", timeout=10)\n",
    "#    try:\n",
    "#        location = geolocator.geocode(address)\n",
    "#        return location.latitude, location.longitude\n",
    "#    except AttributeError:\n",
    "#        return None, None"
   ]
  },
  {
   "cell_type": "code",
   "execution_count": null,
   "id": "34a883eb",
   "metadata": {},
   "outputs": [],
   "source": [
    "# Aplicamos la función para obtener las coordenadas\n",
    "#dfredes['latitud'], dfredes['longitud'] = zip(*dfredes['direccion'].apply(get_coordinates))\n",
    "\n",
    "# Combinamos latitud y longitud en una nueva columna\n",
    "#dfredes['coordenadas'] = dfredes[['latitud', 'longitud']].apply(tuple, axis=1)\n"
   ]
  },
  {
   "cell_type": "code",
   "execution_count": null,
   "id": "42c022b8",
   "metadata": {},
   "outputs": [],
   "source": [
    "#Revisar outliers, con latitud sacamos que nos ponga de menor a mayor y buscamos\n",
    "\n",
    "# = dfredes.sort_values(by='latitud', ascending=False)\n",
    "\n"
   ]
  },
  {
   "cell_type": "code",
   "execution_count": null,
   "id": "0479465a",
   "metadata": {},
   "outputs": [],
   "source": [
    "¢dfredes_ordenado.head()\n",
    "\n",
    "#el primer registro en ascendiente esta fuera de mexico, todos los demas bien.\n",
    "\n",
    "#el primer registro en desc sale en mexicali, buena señal de que de aqui no hay tantos Problemas con Photon.\n",
    "\n"
   ]
  },
  {
   "cell_type": "code",
   "execution_count": null,
   "id": "1082f76b",
   "metadata": {},
   "outputs": [],
   "source": [
    "#Nan tratamos al ultimo en excel.\n",
    "#Descargamos y revalidamos en tableu\n",
    "\n",
    "#dfredes_ordenado.to_csv('/Users/pablouriarte/Documents/1.Redesvalidacion.csv', index=False, encoding='utf-8')\n"
   ]
  },
  {
   "cell_type": "markdown",
   "id": "dcad1b29",
   "metadata": {},
   "source": [
    "## 2. Directory Data Processing\n"
   ]
  },
  {
   "cell_type": "code",
   "execution_count": 9,
   "id": "7964d457-d994-4e18-a435-9d88f0edaf55",
   "metadata": {},
   "outputs": [],
   "source": [
    "import re"
   ]
  },
  {
   "cell_type": "code",
   "execution_count": 2,
   "id": "e1d6ba41-ca90-4b48-b8fb-b934c3449387",
   "metadata": {},
   "outputs": [],
   "source": [
    "ruta_archivo = r'C:\\Users\\puria\\Mapa_Migracion_Irregular_Mexico\\1. Mapas\\3.datos\\1. distribution_infraestructura\\2. SC Instituciones\\Facility_Directory.xlsx'\n",
    "\n",
    "# Carga el archivo Excel\n",
    "df = pd.read_excel(ruta_archivo)"
   ]
  },
  {
   "cell_type": "code",
   "execution_count": 6,
   "id": "aeaf01f8-1908-4e19-871b-836f8fac3608",
   "metadata": {},
   "outputs": [
    {
     "data": {
      "text/plain": [
       "array(['Albergue y Alimentacion', 'Compras / Cultura y Recreacion',\n",
       "       'Mujer, Niñez y Juventud', 'Salud',\n",
       "       'Institucion publica / Educacion y Empleo',\n",
       "       'Justicia / Derechos Humanos / Seguridad / Organismos Publicos,  Internacionales y de la Sociedad Civil',\n",
       "       'Transporte', 'LGBTQ', 'Consulados'], dtype=object)"
      ]
     },
     "execution_count": 6,
     "metadata": {},
     "output_type": "execute_result"
    }
   ],
   "source": [
    "df['Tipo'].unique()"
   ]
  },
  {
   "cell_type": "code",
   "execution_count": 7,
   "id": "2b270d9e-24f5-476e-8ca0-a7016724190e",
   "metadata": {},
   "outputs": [
    {
     "name": "stdout",
     "output_type": "stream",
     "text": [
      "Corrected DataFrame:\n",
      "  Organization Name                    Facility  Name  \\\n",
      "0               NaN    Casa Migrante Camino a la Vida   \n",
      "1               NaN                 Cáritas Diocesana   \n",
      "2               NaN  Parroquia De Las Tres Ave Marías   \n",
      "3               NaN                  Comer del Abuelo   \n",
      "4               NaN           Comedor San Judas Tadeo   \n",
      "\n",
      "                      Tipo      Direccion                            Fuente  \\\n",
      "0  Albergue y Alimentacion  no disponible  OIM Directorio Virtual Servicios   \n",
      "1  Albergue y Alimentacion  no disponible  OIM Directorio Virtual Servicios   \n",
      "2  Albergue y Alimentacion  no disponible  OIM Directorio Virtual Servicios   \n",
      "3  Albergue y Alimentacion  no disponible  OIM Directorio Virtual Servicios   \n",
      "4  Albergue y Alimentacion  no disponible  OIM Directorio Virtual Servicios   \n",
      "\n",
      "                     geometry_str  \n",
      "0  c(-102.3075858, 21.8859981, 0)  \n",
      "1  c(-102.3011164, 21.8821255, 0)  \n",
      "2   c(-102.2950688, 21.868025, 0)  \n",
      "3   c(-102.299825, 21.8874131, 0)  \n",
      "4  c(-102.2957278, 21.8938054, 0)  \n"
     ]
    },
    {
     "name": "stderr",
     "output_type": "stream",
     "text": [
      "C:\\Users\\puria\\AppData\\Local\\Temp\\ipykernel_2204\\1537990227.py:20: FutureWarning: DataFrame.applymap has been deprecated. Use DataFrame.map instead.\n",
      "  df = df.applymap(replace_non_ascii)\n"
     ]
    }
   ],
   "source": [
    "# Define a mapping of non-ASCII characters to their replacements\n",
    "replacement_dict = {\n",
    "    '√°': 'á', '√≠': 'í', '√≥': 'ó', '√±': 'ñ', '√§': 'ç', \n",
    "    '√•': 'ü', '√™': 'é', '√£': 'ã', '√∫': 'ú', '√ª': 'è',\n",
    "    '√Ç': 'Ç', '√Ã': 'Á', '√É': 'É', '√Í': 'Í', '√Ñ': 'Ñ',\n",
    "    '√Ó': 'Ó', '√Ö': 'Ö', '√Ü': 'Ü', '√á': 'á', '√ä': 'ä',\n",
    "    '√å': 'å', '√ë': 'ë', '√ì': 'ì', '√ì': 'ò', '√ô': 'ô',\n",
    "    '√ù': 'ù', '√û': 'û', '√Ω': 'Ω', '√ç': 'ç', '√µ': 'µ',\n",
    "    # Add more replacements as needed\n",
    "}\n",
    "\n",
    "# Function to replace non-ASCII characters based on the replacement_dict\n",
    "def replace_non_ascii(text):\n",
    "    if isinstance(text, str):\n",
    "        for old, new in replacement_dict.items():\n",
    "            text = text.replace(old, new)\n",
    "    return text\n",
    "\n",
    "# Apply the function to all string columns in the DataFrame\n",
    "df = df.applymap(replace_non_ascii)\n",
    "\n",
    "# Display the corrected DataFrame\n",
    "print(\"Corrected DataFrame:\")\n",
    "print(df.head())\n"
   ]
  },
  {
   "cell_type": "code",
   "execution_count": 15,
   "id": "ae611667-332e-44d1-85c5-f4955e2ea672",
   "metadata": {},
   "outputs": [
    {
     "name": "stdout",
     "output_type": "stream",
     "text": [
      "Corrected DataFrame:\n",
      "  Organization Name                    Facility  Name  \\\n",
      "0               NaN    Casa Migrante Camino a la Vida   \n",
      "1               NaN                 Cáritas Diocesana   \n",
      "2               NaN  Parroquia De Las Tres Ave Marías   \n",
      "3               NaN                  Comer del Abuelo   \n",
      "4               NaN           Comedor San Judas Tadeo   \n",
      "\n",
      "                      Tipo      Direccion                            Fuente  \\\n",
      "0  Albergue y Alimentacion  no disponible  OIM Directorio Virtual Servicios   \n",
      "1  Albergue y Alimentacion  no disponible  OIM Directorio Virtual Servicios   \n",
      "2  Albergue y Alimentacion  no disponible  OIM Directorio Virtual Servicios   \n",
      "3  Albergue y Alimentacion  no disponible  OIM Directorio Virtual Servicios   \n",
      "4  Albergue y Alimentacion  no disponible  OIM Directorio Virtual Servicios   \n",
      "\n",
      "               geometry_str  \n",
      "0  -102.3075858, 21.8859981  \n",
      "1  -102.3011164, 21.8821255  \n",
      "2   -102.2950688, 21.868025  \n",
      "3   -102.299825, 21.8874131  \n",
      "4  -102.2957278, 21.8938054  \n"
     ]
    }
   ],
   "source": [
    "# Define a function to extract coordinates from the geometry_str column\n",
    "def extract_coordinates(geometry_str):\n",
    "    if pd.notna(geometry_str):\n",
    "        match = re.search(r'-?\\d+\\.\\d+, -?\\d+\\.\\d+', geometry_str)\n",
    "        if match:\n",
    "            return match.group(0)\n",
    "    return geometry_str\n",
    "\n",
    "# Apply the function to the geometry_str column\n",
    "df[' geometry_str'] = df[' geometry_str'].apply(extract_coordinates)\n",
    "\n",
    "# Display the corrected DataFrame\n",
    "print(\"Corrected DataFrame:\")\n",
    "print(df.head())"
   ]
  },
  {
   "cell_type": "code",
   "execution_count": 14,
   "id": "056e98c3-cb1e-4ca3-ab69-64fad0ed9ab9",
   "metadata": {},
   "outputs": [
    {
     "name": "stdout",
     "output_type": "stream",
     "text": [
      "Column names: Index(['Organization Name', 'Facility  Name', 'Tipo', 'Direccion', 'Fuente',\n",
      "       ' geometry_str'],\n",
      "      dtype='object')\n"
     ]
    }
   ],
   "source": [
    "# Display the column names to verify the correct column name\n",
    "print(\"Column names:\", df.columns)"
   ]
  },
  {
   "cell_type": "code",
   "execution_count": 17,
   "id": "693c82ea-d687-46d0-b286-f4257ef61836",
   "metadata": {},
   "outputs": [
    {
     "data": {
      "text/html": [
       "<div>\n",
       "<style scoped>\n",
       "    .dataframe tbody tr th:only-of-type {\n",
       "        vertical-align: middle;\n",
       "    }\n",
       "\n",
       "    .dataframe tbody tr th {\n",
       "        vertical-align: top;\n",
       "    }\n",
       "\n",
       "    .dataframe thead th {\n",
       "        text-align: right;\n",
       "    }\n",
       "</style>\n",
       "<table border=\"1\" class=\"dataframe\">\n",
       "  <thead>\n",
       "    <tr style=\"text-align: right;\">\n",
       "      <th></th>\n",
       "      <th>Organization Name</th>\n",
       "      <th>Facility  Name</th>\n",
       "      <th>Tipo</th>\n",
       "      <th>Direccion</th>\n",
       "      <th>Fuente</th>\n",
       "      <th>geometry_str</th>\n",
       "    </tr>\n",
       "  </thead>\n",
       "  <tbody>\n",
       "    <tr>\n",
       "      <th>0</th>\n",
       "      <td>NaN</td>\n",
       "      <td>Casa Migrante Camino a la Vida</td>\n",
       "      <td>Albergue y Alimentacion</td>\n",
       "      <td>no disponible</td>\n",
       "      <td>OIM Directorio Virtual Servicios</td>\n",
       "      <td>-102.3075858, 21.8859981</td>\n",
       "    </tr>\n",
       "    <tr>\n",
       "      <th>1</th>\n",
       "      <td>NaN</td>\n",
       "      <td>Cáritas Diocesana</td>\n",
       "      <td>Albergue y Alimentacion</td>\n",
       "      <td>no disponible</td>\n",
       "      <td>OIM Directorio Virtual Servicios</td>\n",
       "      <td>-102.3011164, 21.8821255</td>\n",
       "    </tr>\n",
       "    <tr>\n",
       "      <th>2</th>\n",
       "      <td>NaN</td>\n",
       "      <td>Parroquia De Las Tres Ave Marías</td>\n",
       "      <td>Albergue y Alimentacion</td>\n",
       "      <td>no disponible</td>\n",
       "      <td>OIM Directorio Virtual Servicios</td>\n",
       "      <td>-102.2950688, 21.868025</td>\n",
       "    </tr>\n",
       "    <tr>\n",
       "      <th>3</th>\n",
       "      <td>NaN</td>\n",
       "      <td>Comer del Abuelo</td>\n",
       "      <td>Albergue y Alimentacion</td>\n",
       "      <td>no disponible</td>\n",
       "      <td>OIM Directorio Virtual Servicios</td>\n",
       "      <td>-102.299825, 21.8874131</td>\n",
       "    </tr>\n",
       "    <tr>\n",
       "      <th>4</th>\n",
       "      <td>NaN</td>\n",
       "      <td>Comedor San Judas Tadeo</td>\n",
       "      <td>Albergue y Alimentacion</td>\n",
       "      <td>no disponible</td>\n",
       "      <td>OIM Directorio Virtual Servicios</td>\n",
       "      <td>-102.2957278, 21.8938054</td>\n",
       "    </tr>\n",
       "    <tr>\n",
       "      <th>...</th>\n",
       "      <td>...</td>\n",
       "      <td>...</td>\n",
       "      <td>...</td>\n",
       "      <td>...</td>\n",
       "      <td>...</td>\n",
       "      <td>...</td>\n",
       "    </tr>\n",
       "    <tr>\n",
       "      <th>1200</th>\n",
       "      <td>NaN</td>\n",
       "      <td>DIF Estatal Tamaulipas</td>\n",
       "      <td>Mujer, Niñez y Juventud</td>\n",
       "      <td>Calz. Gral. Luis Caballero 297, Col. Centro, C...</td>\n",
       "      <td>OIM Directorio Asistencia a Personas migrantes...</td>\n",
       "      <td>NaN</td>\n",
       "    </tr>\n",
       "    <tr>\n",
       "      <th>1201</th>\n",
       "      <td>NaN</td>\n",
       "      <td>DIF Estatal Tlaxcala</td>\n",
       "      <td>Mujer, Niñez y Juventud</td>\n",
       "      <td>José Ma. Morelos 4, Col. Centro, C.P. 90000, T...</td>\n",
       "      <td>OIM Directorio Asistencia a Personas migrantes...</td>\n",
       "      <td>NaN</td>\n",
       "    </tr>\n",
       "    <tr>\n",
       "      <th>1202</th>\n",
       "      <td>NaN</td>\n",
       "      <td>DIF Estatal Veracruz</td>\n",
       "      <td>Mujer, Niñez y Juventud</td>\n",
       "      <td>Carretera Xalapa - Coatepec Km. 1.5, Col. Beni...</td>\n",
       "      <td>OIM Directorio Asistencia a Personas migrantes...</td>\n",
       "      <td>NaN</td>\n",
       "    </tr>\n",
       "    <tr>\n",
       "      <th>1203</th>\n",
       "      <td>NaN</td>\n",
       "      <td>DIF Estatal Yucatán</td>\n",
       "      <td>Mujer, Niñez y Juventud</td>\n",
       "      <td>Av. Alemán 355, Col. Itzimná, C.P. 97100, Méri...</td>\n",
       "      <td>OIM Directorio Asistencia a Personas migrantes...</td>\n",
       "      <td>NaN</td>\n",
       "    </tr>\n",
       "    <tr>\n",
       "      <th>1204</th>\n",
       "      <td>NaN</td>\n",
       "      <td>DIF Estatal Zacatecas</td>\n",
       "      <td>Mujer, Niñez y Juventud</td>\n",
       "      <td>Paseo la Encantada 102, Col. La Encantada, C.P...</td>\n",
       "      <td>OIM Directorio Asistencia a Personas migrantes...</td>\n",
       "      <td>NaN</td>\n",
       "    </tr>\n",
       "  </tbody>\n",
       "</table>\n",
       "<p>1205 rows × 6 columns</p>\n",
       "</div>"
      ],
      "text/plain": [
       "     Organization Name                    Facility  Name  \\\n",
       "0                  NaN    Casa Migrante Camino a la Vida   \n",
       "1                  NaN                 Cáritas Diocesana   \n",
       "2                  NaN  Parroquia De Las Tres Ave Marías   \n",
       "3                  NaN                  Comer del Abuelo   \n",
       "4                  NaN           Comedor San Judas Tadeo   \n",
       "...                ...                               ...   \n",
       "1200               NaN            DIF Estatal Tamaulipas   \n",
       "1201               NaN              DIF Estatal Tlaxcala   \n",
       "1202               NaN              DIF Estatal Veracruz   \n",
       "1203               NaN               DIF Estatal Yucatán   \n",
       "1204               NaN             DIF Estatal Zacatecas   \n",
       "\n",
       "                         Tipo  \\\n",
       "0     Albergue y Alimentacion   \n",
       "1     Albergue y Alimentacion   \n",
       "2     Albergue y Alimentacion   \n",
       "3     Albergue y Alimentacion   \n",
       "4     Albergue y Alimentacion   \n",
       "...                       ...   \n",
       "1200  Mujer, Niñez y Juventud   \n",
       "1201  Mujer, Niñez y Juventud   \n",
       "1202  Mujer, Niñez y Juventud   \n",
       "1203  Mujer, Niñez y Juventud   \n",
       "1204  Mujer, Niñez y Juventud   \n",
       "\n",
       "                                              Direccion  \\\n",
       "0                                         no disponible   \n",
       "1                                         no disponible   \n",
       "2                                         no disponible   \n",
       "3                                         no disponible   \n",
       "4                                         no disponible   \n",
       "...                                                 ...   \n",
       "1200  Calz. Gral. Luis Caballero 297, Col. Centro, C...   \n",
       "1201  José Ma. Morelos 4, Col. Centro, C.P. 90000, T...   \n",
       "1202  Carretera Xalapa - Coatepec Km. 1.5, Col. Beni...   \n",
       "1203  Av. Alemán 355, Col. Itzimná, C.P. 97100, Méri...   \n",
       "1204  Paseo la Encantada 102, Col. La Encantada, C.P...   \n",
       "\n",
       "                                                 Fuente  \\\n",
       "0                      OIM Directorio Virtual Servicios   \n",
       "1                      OIM Directorio Virtual Servicios   \n",
       "2                      OIM Directorio Virtual Servicios   \n",
       "3                      OIM Directorio Virtual Servicios   \n",
       "4                      OIM Directorio Virtual Servicios   \n",
       "...                                                 ...   \n",
       "1200  OIM Directorio Asistencia a Personas migrantes...   \n",
       "1201  OIM Directorio Asistencia a Personas migrantes...   \n",
       "1202  OIM Directorio Asistencia a Personas migrantes...   \n",
       "1203  OIM Directorio Asistencia a Personas migrantes...   \n",
       "1204  OIM Directorio Asistencia a Personas migrantes...   \n",
       "\n",
       "                  geometry_str  \n",
       "0     -102.3075858, 21.8859981  \n",
       "1     -102.3011164, 21.8821255  \n",
       "2      -102.2950688, 21.868025  \n",
       "3      -102.299825, 21.8874131  \n",
       "4     -102.2957278, 21.8938054  \n",
       "...                        ...  \n",
       "1200                       NaN  \n",
       "1201                       NaN  \n",
       "1202                       NaN  \n",
       "1203                       NaN  \n",
       "1204                       NaN  \n",
       "\n",
       "[1205 rows x 6 columns]"
      ]
     },
     "execution_count": 17,
     "metadata": {},
     "output_type": "execute_result"
    }
   ],
   "source": [
    "df"
   ]
  },
  {
   "cell_type": "code",
   "execution_count": 18,
   "id": "c91203b3-c08f-43c2-9f0b-93d361dcf1cd",
   "metadata": {},
   "outputs": [],
   "source": [
    "# Ruta para actualizar el documentos\n",
    "ruta_archivo = r'C:\\Users\\puria\\Mapa_Migracion_Irregular_Mexico\\1. Mapas\\3.datos\\1. distribution_infraestructura\\2. SC Instituciones\\Facility_Directory.xlsx'\n",
    "\n",
    "df.to_excel(ruta_archivo, index=False)"
   ]
  },
  {
   "cell_type": "code",
   "execution_count": null,
   "id": "70e3c6ee-d549-41d7-9d89-ace312ecf371",
   "metadata": {},
   "outputs": [],
   "source": []
  }
 ],
 "metadata": {
  "kernelspec": {
   "display_name": "Python 3 (ipykernel)",
   "language": "python",
   "name": "python3"
  },
  "language_info": {
   "codemirror_mode": {
    "name": "ipython",
    "version": 3
   },
   "file_extension": ".py",
   "mimetype": "text/x-python",
   "name": "python",
   "nbconvert_exporter": "python",
   "pygments_lexer": "ipython3",
   "version": "3.11.7"
  }
 },
 "nbformat": 4,
 "nbformat_minor": 5
}
