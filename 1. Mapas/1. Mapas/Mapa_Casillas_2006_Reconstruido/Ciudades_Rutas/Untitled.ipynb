{
 "cells": [
  {
   "cell_type": "code",
   "execution_count": 2,
   "id": "0f3a2c85",
   "metadata": {},
   "outputs": [],
   "source": [
    "import pandas as pd\n",
    "from geopy.geocoders import Photon\n",
    "from unidecode import unidecode\n",
    "import unidecode"
   ]
  },
  {
   "cell_type": "code",
   "execution_count": 3,
   "id": "495be494",
   "metadata": {},
   "outputs": [],
   "source": [
    "#Cargmos CSV Ciudades"
   ]
  },
  {
   "cell_type": "code",
   "execution_count": 5,
   "id": "28493aa8",
   "metadata": {},
   "outputs": [],
   "source": [
    "# Cargar el archivo CSV\n",
    "datos_csv = pd.read_csv('/Users/pablouriarte/Documents/1. Expediente Tec de Monterrey/1.Tesis/Mapa_Migracion_Irregular_Mexico/3. mapas/1. Mapas/Mapa_Casillas_2006_Reconstruido/Ciudades_Rutas/Ciudades_Rutas.csv')"
   ]
  },
  {
   "cell_type": "code",
   "execution_count": 10,
   "id": "140e5614",
   "metadata": {},
   "outputs": [
    {
     "data": {
      "text/html": [
       "<div>\n",
       "<style scoped>\n",
       "    .dataframe tbody tr th:only-of-type {\n",
       "        vertical-align: middle;\n",
       "    }\n",
       "\n",
       "    .dataframe tbody tr th {\n",
       "        vertical-align: top;\n",
       "    }\n",
       "\n",
       "    .dataframe thead th {\n",
       "        text-align: right;\n",
       "    }\n",
       "</style>\n",
       "<table border=\"1\" class=\"dataframe\">\n",
       "  <thead>\n",
       "    <tr style=\"text-align: right;\">\n",
       "      <th></th>\n",
       "      <th>ciudad</th>\n",
       "      <th>etiqueta</th>\n",
       "      <th>ruta</th>\n",
       "      <th>latitud</th>\n",
       "      <th>longitud</th>\n",
       "    </tr>\n",
       "  </thead>\n",
       "  <tbody>\n",
       "    <tr>\n",
       "      <th>0</th>\n",
       "      <td>Puebla, Puebla</td>\n",
       "      <td>NaN</td>\n",
       "      <td>NaN</td>\n",
       "      <td>NaN</td>\n",
       "      <td>NaN</td>\n",
       "    </tr>\n",
       "    <tr>\n",
       "      <th>1</th>\n",
       "      <td>Tlaxcala, Tlaxcala</td>\n",
       "      <td>NaN</td>\n",
       "      <td>NaN</td>\n",
       "      <td>NaN</td>\n",
       "      <td>NaN</td>\n",
       "    </tr>\n",
       "    <tr>\n",
       "      <th>2</th>\n",
       "      <td>Lechería, Estado de México</td>\n",
       "      <td>NaN</td>\n",
       "      <td>NaN</td>\n",
       "      <td>NaN</td>\n",
       "      <td>NaN</td>\n",
       "    </tr>\n",
       "    <tr>\n",
       "      <th>3</th>\n",
       "      <td>Tijuana, Baja California</td>\n",
       "      <td>NaN</td>\n",
       "      <td>NaN</td>\n",
       "      <td>NaN</td>\n",
       "      <td>NaN</td>\n",
       "    </tr>\n",
       "    <tr>\n",
       "      <th>4</th>\n",
       "      <td>Mexicali, Baja California</td>\n",
       "      <td>NaN</td>\n",
       "      <td>NaN</td>\n",
       "      <td>NaN</td>\n",
       "      <td>NaN</td>\n",
       "    </tr>\n",
       "    <tr>\n",
       "      <th>...</th>\n",
       "      <td>...</td>\n",
       "      <td>...</td>\n",
       "      <td>...</td>\n",
       "      <td>...</td>\n",
       "      <td>...</td>\n",
       "    </tr>\n",
       "    <tr>\n",
       "      <th>144</th>\n",
       "      <td>Celaya, Guanajuato</td>\n",
       "      <td>NaN</td>\n",
       "      <td>NaN</td>\n",
       "      <td>NaN</td>\n",
       "      <td>NaN</td>\n",
       "    </tr>\n",
       "    <tr>\n",
       "      <th>146</th>\n",
       "      <td>Tuxtla Gutierrez, Chiapas</td>\n",
       "      <td>NaN</td>\n",
       "      <td>NaN</td>\n",
       "      <td>NaN</td>\n",
       "      <td>NaN</td>\n",
       "    </tr>\n",
       "    <tr>\n",
       "      <th>147</th>\n",
       "      <td>San Cristóbal de las Casas, Chiapas</td>\n",
       "      <td>NaN</td>\n",
       "      <td>NaN</td>\n",
       "      <td>NaN</td>\n",
       "      <td>NaN</td>\n",
       "    </tr>\n",
       "    <tr>\n",
       "      <th>148</th>\n",
       "      <td>Juchitan de Zaragoza, Oaxaca</td>\n",
       "      <td>NaN</td>\n",
       "      <td>NaN</td>\n",
       "      <td>NaN</td>\n",
       "      <td>NaN</td>\n",
       "    </tr>\n",
       "    <tr>\n",
       "      <th>149</th>\n",
       "      <td>San Pedro Pochutla, Oaxaca</td>\n",
       "      <td>NaN</td>\n",
       "      <td>NaN</td>\n",
       "      <td>NaN</td>\n",
       "      <td>NaN</td>\n",
       "    </tr>\n",
       "  </tbody>\n",
       "</table>\n",
       "<p>127 rows × 5 columns</p>\n",
       "</div>"
      ],
      "text/plain": [
       "                                  ciudad  etiqueta  ruta  latitud  longitud\n",
       "0                         Puebla, Puebla       NaN   NaN      NaN       NaN\n",
       "1                     Tlaxcala, Tlaxcala       NaN   NaN      NaN       NaN\n",
       "2             Lechería, Estado de México       NaN   NaN      NaN       NaN\n",
       "3               Tijuana, Baja California       NaN   NaN      NaN       NaN\n",
       "4              Mexicali, Baja California       NaN   NaN      NaN       NaN\n",
       "..                                   ...       ...   ...      ...       ...\n",
       "144                   Celaya, Guanajuato       NaN   NaN      NaN       NaN\n",
       "146            Tuxtla Gutierrez, Chiapas       NaN   NaN      NaN       NaN\n",
       "147  San Cristóbal de las Casas, Chiapas       NaN   NaN      NaN       NaN\n",
       "148         Juchitan de Zaragoza, Oaxaca       NaN   NaN      NaN       NaN\n",
       "149           San Pedro Pochutla, Oaxaca       NaN   NaN      NaN       NaN\n",
       "\n",
       "[127 rows x 5 columns]"
      ]
     },
     "execution_count": 10,
     "metadata": {},
     "output_type": "execute_result"
    }
   ],
   "source": [
    "datos_csv"
   ]
  },
  {
   "cell_type": "code",
   "execution_count": 15,
   "id": "8b6d3f87",
   "metadata": {},
   "outputs": [
    {
     "data": {
      "text/plain": [
       "(99, 5)"
      ]
     },
     "execution_count": 15,
     "metadata": {},
     "output_type": "execute_result"
    }
   ],
   "source": [
    "datos_csv.shape"
   ]
  },
  {
   "cell_type": "code",
   "execution_count": 12,
   "id": "c549cc62",
   "metadata": {},
   "outputs": [
    {
     "name": "stderr",
     "output_type": "stream",
     "text": [
      "/var/folders/68/6zkv8z4j4rl6ds90br2rb7ph0000gn/T/ipykernel_771/1075267683.py:10: SettingWithCopyWarning: \n",
      "A value is trying to be set on a copy of a slice from a DataFrame.\n",
      "Try using .loc[row_indexer,col_indexer] = value instead\n",
      "\n",
      "See the caveats in the documentation: https://pandas.pydata.org/pandas-docs/stable/user_guide/indexing.html#returning-a-view-versus-a-copy\n",
      "  datos_csv[columna] = datos_csv[columna].apply(quitar_acentos)\n"
     ]
    }
   ],
   "source": [
    "#Quitamos acentos de todos lados\n",
    "def quitar_acentos(valor):\n",
    "    \"\"\"Función para quitar acentos de una cadena de texto.\"\"\"\n",
    "    if isinstance(valor, str):  # Solo aplicar a cadenas de texto\n",
    "        return unidecode.unidecode(valor)  # Corrección aquí\n",
    "    return valor\n",
    "\n",
    "# Aplicamos la función quitar_acentos a todas las columnas del DataFrame\n",
    "for columna in datos_csv.columns:\n",
    "    datos_csv[columna] = datos_csv[columna].apply(quitar_acentos)\n"
   ]
  },
  {
   "cell_type": "markdown",
   "id": "15f4fe59",
   "metadata": {},
   "source": [
    "#### Seleccionamos Ciudades"
   ]
  },
  {
   "cell_type": "markdown",
   "id": "de3cf1a9",
   "metadata": {},
   "source": [
    "Quitaremos = ['Puerto Madero, Chiapas','Nuevo Vallarta, Nayarit','Puerto Madero, Chiapas''Punta Chivato, Baja California Sur','Loreto, Baja California Sur','La Paz, Baja California Sur','Cabo San Lucas, Baja California Sur\n",
    "','Isla San Marcos, Baja California Sur','Isla de Cedros, Baja California','El Sauzal, Baja California','Sasabe, Sonora','Naco, Sonora','Ojinaga, Chihuahua','Nuevo Progreso, Tamaulipas','Reynosa, Tamaulipas','Ciudad Camargo, Tamaulipas','Diaz Ordaz, Tamaulipas','Ciudad Miguel Aleman, Tamaulipas','El Mezquital, Durango','Zamora, Michoacan','Papantla, Veracruz','Tultitlan, Estado de Mexico','Apizaco, Tlaxcala','Las Choapas, Veracruz']"
   ]
  },
  {
   "cell_type": "code",
   "execution_count": 9,
   "id": "e942bee1",
   "metadata": {},
   "outputs": [],
   "source": [
    "#Quitamos esas ciudades que no van con Casillas,2006\n",
    "# Lista de ciudades a eliminar\n",
    "ciudades_eliminar = ['Puerto Madero, Chiapas','Nuevo Vallarta, Nayarit','Puerto Madero, Chiapas',\n",
    "                     'Punta Chivato, Baja California Sur','Loreto, Baja California Sur',\n",
    "                     'La Paz, Baja California Sur','Cabo San Lucas, Baja California Sur',\n",
    "                     'Isla San Marcos, Baja California Sur','Isla de Cedros, Baja California',\n",
    "                     'El Sauzal, Baja California','Sasabe, Sonora','Naco, Sonora',\n",
    "                     'Ojinaga, Chihuahua','Nuevo Progreso, Tamaulipas','Reynosa, Tamaulipas',\n",
    "                     'Ciudad Camargo, Tamaulipas','Diaz Ordaz, Tamaulipas',\n",
    "                     'Ciudad Miguel Aleman, Tamaulipas','El Mezquital, Durango','Zamora, Michoacan',\n",
    "                     'Papantla, Veracruz','Tultitlan, Estado de Mexico','Apizaco, Tlaxcala',\n",
    "                     'Las Choapas, Veracruz']\n",
    "\n",
    "# Filtramos el DataFrame para excluir las filas cuyos valores en la columna 'ciudad' estén en ciudades_eliminar\n",
    "datos_csv = datos_csv[~datos_csv['ciudad'].isin(ciudades_eliminar)]"
   ]
  },
  {
   "cell_type": "code",
   "execution_count": 14,
   "id": "4d454c9e",
   "metadata": {},
   "outputs": [],
   "source": [
    "#Quitamos Repetidos\n",
    "# Eliminar duplicados basados en la columna 'Referencia Geográfica'\n",
    "datos_csv = datos_csv.drop_duplicates(subset='ciudad', keep='first')\n"
   ]
  },
  {
   "cell_type": "code",
   "execution_count": null,
   "id": "e9a6af16",
   "metadata": {},
   "outputs": [],
   "source": []
  },
  {
   "cell_type": "markdown",
   "id": "619c9c48",
   "metadata": {},
   "source": [
    "Necesitan Coordenadas manuales:\n",
    "\n",
    "Durango, Durango\n",
    "Zacatecas, Zacatecas\n",
    "Puebla, Puebla\n",
    "Veracruz, Veracruz\n",
    "Minatitlan, Veracruz\n",
    "\n"
   ]
  },
  {
   "cell_type": "code",
   "execution_count": null,
   "id": "b347bd0b",
   "metadata": {},
   "outputs": [],
   "source": []
  },
  {
   "cell_type": "code",
   "execution_count": null,
   "id": "b5d04b00",
   "metadata": {},
   "outputs": [],
   "source": []
  }
 ],
 "metadata": {
  "kernelspec": {
   "display_name": "Python 3 (ipykernel)",
   "language": "python",
   "name": "python3"
  },
  "language_info": {
   "codemirror_mode": {
    "name": "ipython",
    "version": 3
   },
   "file_extension": ".py",
   "mimetype": "text/x-python",
   "name": "python",
   "nbconvert_exporter": "python",
   "pygments_lexer": "ipython3",
   "version": "3.9.13"
  }
 },
 "nbformat": 4,
 "nbformat_minor": 5
}
