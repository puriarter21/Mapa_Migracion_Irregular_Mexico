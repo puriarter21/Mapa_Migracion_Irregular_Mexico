{
 "cells": [
  {
   "cell_type": "code",
   "execution_count": 21,
   "id": "25cda7b5",
   "metadata": {},
   "outputs": [],
   "source": [
    "import pandas as pd\n",
    "from geopy.geocoders import Photon\n",
    "from geopy.geocoders import Nominatim\n",
    "from unidecode import unidecode\n",
    "import unidecode"
   ]
  },
  {
   "cell_type": "code",
   "execution_count": 3,
   "id": "2b9bbc95",
   "metadata": {},
   "outputs": [],
   "source": [
    "#Cargmos CSV Ciudades"
   ]
  },
  {
   "cell_type": "code",
   "execution_count": 5,
   "id": "b6ed6fdd",
   "metadata": {},
   "outputs": [],
   "source": [
    "v"
   ]
  },
  {
   "cell_type": "code",
   "execution_count": 34,
   "id": "a513b2dd",
   "metadata": {},
   "outputs": [
    {
     "data": {
      "text/plain": [
       "(86, 7)"
      ]
     },
     "execution_count": 34,
     "metadata": {},
     "output_type": "execute_result"
    }
   ],
   "source": [
    "datos_csv.shape"
   ]
  },
  {
   "cell_type": "code",
   "execution_count": 12,
   "id": "a909396f",
   "metadata": {},
   "outputs": [
    {
     "name": "stderr",
     "output_type": "stream",
     "text": [
      "/var/folders/68/6zkv8z4j4rl6ds90br2rb7ph0000gn/T/ipykernel_771/1075267683.py:10: SettingWithCopyWarning: \n",
      "A value is trying to be set on a copy of a slice from a DataFrame.\n",
      "Try using .loc[row_indexer,col_indexer] = value instead\n",
      "\n",
      "See the caveats in the documentation: https://pandas.pydata.org/pandas-docs/stable/user_guide/indexing.html#returning-a-view-versus-a-copy\n",
      "  datos_csv[columna] = datos_csv[columna].apply(quitar_acentos)\n"
     ]
    }
   ],
   "source": [
    "#Quitamos acentos de todos lados\n",
    "def quitar_acentos(valor):\n",
    "    \"\"\"Función para quitar acentos de una cadena de texto.\"\"\"\n",
    "    if isinstance(valor, str):  # Solo aplicar a cadenas de texto\n",
    "        return unidecode.unidecode(valor)  # Corrección aquí\n",
    "    return valor\n",
    "\n",
    "# Aplicamos la función quitar_acentos a todas las columnas del DataFrame\n",
    "for columna in datos_csv.columns:\n",
    "    datos_csv[columna] = datos_csv[columna].apply(quitar_acentos)\n"
   ]
  },
  {
   "cell_type": "markdown",
   "id": "a955e1a6",
   "metadata": {},
   "source": [
    "#### Seleccionamos Ciudades"
   ]
  },
  {
   "cell_type": "markdown",
   "id": "664c4aa1",
   "metadata": {},
   "source": [
    "Quitaremos = ['Puerto Madero, Chiapas','Nuevo Vallarta, Nayarit','Puerto Madero, Chiapas''Punta Chivato, Baja California Sur','Loreto, Baja California Sur','La Paz, Baja California Sur','Cabo San Lucas, Baja California Sur\n",
    "','Isla San Marcos, Baja California Sur','Isla de Cedros, Baja California','El Sauzal, Baja California','Sasabe, Sonora','Naco, Sonora','Ojinaga, Chihuahua','Nuevo Progreso, Tamaulipas','Reynosa, Tamaulipas','Ciudad Camargo, Tamaulipas','Diaz Ordaz, Tamaulipas','Ciudad Miguel Aleman, Tamaulipas','El Mezquital, Durango','Zamora, Michoacan','Papantla, Veracruz','Tultitlan, Estado de Mexico','Apizaco, Tlaxcala','Las Choapas, Veracruz']\n",
    "\n",
    "'San Gregorio Chamicico, Oaxaca','Chahuitea, Oaxaca'\n",
    "\n",
    "Playa del Carmen, Quintana Roo\n",
    "Cancun, Quintana Roo\n",
    "Cozumel, Quintana Roo\n",
    "Francisco Villa, Quintana Roo\n",
    "Benito Juarez, Chihuahua\n",
    "Pichilingue, Baja California Sur\n"
   ]
  },
  {
   "cell_type": "code",
   "execution_count": 32,
   "id": "54f2bb07",
   "metadata": {},
   "outputs": [],
   "source": [
    "#Quitamos esas ciudades que no van con Casillas,2006\n",
    "# Lista de ciudades a eliminar\n",
    "ciudades_eliminar = ['Puerto Madero, Chiapas','Nuevo Vallarta, Nayarit','Puerto Madero, Chiapas',\n",
    "                     'Punta Chivato, Baja California Sur','Loreto, Baja California Sur',\n",
    "                     'La Paz, Baja California Sur','Cabo San Lucas, Baja California Sur',\n",
    "                     'Isla San Marcos, Baja California Sur','Isla de Cedros, Baja California',\n",
    "                     'El Sauzal, Baja California','Sasabe, Sonora','Naco, Sonora',\n",
    "                     'Ojinaga, Chihuahua','Nuevo Progreso, Tamaulipas','Reynosa, Tamaulipas',\n",
    "                     'Ciudad Camargo, Tamaulipas','Diaz Ordaz, Tamaulipas',\n",
    "                     'Ciudad Miguel Aleman, Tamaulipas','El Mezquital, Durango','Zamora, Michoacan',\n",
    "                     'Papantla, Veracruz','Tultitlan, Estado de Mexico','Apizaco, Tlaxcala',\n",
    "                     'Las Choapas, Veracruz','San Gregorio Chamicico, Oaxaca','Chahuitea, Oaxaca']\n",
    "\n",
    "# Extendemos la lista original de ciudades a eliminar con las nuevas ciudades\n",
    "ciudades_eliminar.extend([\n",
    "    'Playa del Carmen, Quintana Roo', 'Cancun, Quintana Roo', 'Cozumel, Quintana Roo',\n",
    "    'Francisco Villa, Quintana Roo', 'Benito Juarez, Chihuahua', 'Pichilingue, Baja California Sur',\n",
    "    'San Gregorio Chamicico, Oaxaca', 'Chahuitea, Oaxaca'\n",
    "])\n",
    "\n",
    "# Filtramos el DataFrame para excluir las filas cuyos valores en la columna 'ciudad' estén en ciudades_eliminar\n",
    "datos_csv = datos_csv[~datos_csv['ciudad'].isin(ciudades_eliminar)]"
   ]
  },
  {
   "cell_type": "code",
   "execution_count": 14,
   "id": "87e27017",
   "metadata": {},
   "outputs": [],
   "source": [
    "#Quitamos Repetidos\n",
    "# Eliminar duplicados basados en la columna 'Referencia Geográfica'\n",
    "datos_csv = datos_csv.drop_duplicates(subset='ciudad', keep='first')\n"
   ]
  },
  {
   "cell_type": "code",
   "execution_count": 16,
   "id": "afd8847a",
   "metadata": {},
   "outputs": [
    {
     "name": "stderr",
     "output_type": "stream",
     "text": [
      "/var/folders/68/6zkv8z4j4rl6ds90br2rb7ph0000gn/T/ipykernel_771/2267768364.py:2: SettingWithCopyWarning: \n",
      "A value is trying to be set on a copy of a slice from a DataFrame.\n",
      "Try using .loc[row_indexer,col_indexer] = value instead\n",
      "\n",
      "See the caveats in the documentation: https://pandas.pydata.org/pandas-docs/stable/user_guide/indexing.html#returning-a-view-versus-a-copy\n",
      "  datos_csv['estado'] = datos_csv['ciudad'].apply(lambda x: x.split(', ')[1] if ', ' in x else '')\n"
     ]
    }
   ],
   "source": [
    "# Crear una nueva columna 'Estado' extrayendo el texto después de la coma\n",
    "datos_csv['estado'] = datos_csv['ciudad'].apply(lambda x: x.split(', ')[1] if ', ' in x else '')\n"
   ]
  },
  {
   "cell_type": "code",
   "execution_count": 17,
   "id": "96abe382",
   "metadata": {},
   "outputs": [
    {
     "name": "stderr",
     "output_type": "stream",
     "text": [
      "/var/folders/68/6zkv8z4j4rl6ds90br2rb7ph0000gn/T/ipykernel_771/353168208.py:22: SettingWithCopyWarning: \n",
      "A value is trying to be set on a copy of a slice from a DataFrame.\n",
      "Try using .loc[row_indexer,col_indexer] = value instead\n",
      "\n",
      "See the caveats in the documentation: https://pandas.pydata.org/pandas-docs/stable/user_guide/indexing.html#returning-a-view-versus-a-copy\n",
      "  datos_csv['ruta'] = datos_csv['estado'].apply(asignar_ruta)\n"
     ]
    }
   ],
   "source": [
    "# Definir las listas de estados para cada ruta, asegurándose de que todas las entradas están correctamente formateadas como strings\n",
    "estados_ruta_golfo = ['Tabasco', 'Nuevo Leon', 'Veracruz', 'Tamaulipas']\n",
    "estados_ruta_pacifico = ['Guerrero', 'Michoacan', 'Jalisco', 'Nayarit', 'Sinaloa', 'Sonora', 'Baja California', 'Baja California Sur','Colima']\n",
    "estados_ruta_centro = ['San Luis Potosi','Estado de Mexico', 'Tlaxcala', 'Ciudad de Mexico', 'Puebla', 'Morelos', 'Hidalgo', 'Zacatecas', 'Durango', 'Chihuahua', 'Coahuila', 'Queretaro', 'Aguascalientes', 'Guanajuato']\n",
    "ruta_sur = ['Chiapas', 'Oaxaca', 'Tabasco', 'Campeche', 'Quintana Roo', 'Yucatan']\n",
    "\n",
    "# Actualizar la función para asignar la ruta basada en el estado\n",
    "def asignar_ruta(estado):\n",
    "    estado = estado.strip()  # Eliminar espacios en blanco al principio y al final\n",
    "    if estado in estados_ruta_golfo:\n",
    "        return 'Ruta del Golfo'\n",
    "    elif estado in estados_ruta_pacifico:\n",
    "        return 'Ruta del Pacifico'\n",
    "    elif estado in estados_ruta_centro:\n",
    "        return 'Ruta Centro'\n",
    "    elif estado in ruta_sur:\n",
    "        return 'Ruta Sur'\n",
    "    else:\n",
    "        return 'Ruta no identificada'  # Para estados que no coinciden con las listas\n",
    "\n",
    "# Aplicar la función al DataFrame para crear una nueva columna 'Ruta'\n",
    "datos_csv['ruta'] = datos_csv['estado'].apply(asignar_ruta)"
   ]
  },
  {
   "cell_type": "code",
   "execution_count": 18,
   "id": "6cf6efd7",
   "metadata": {},
   "outputs": [],
   "source": [
    "# Reordenar las columnas para colocar 'Estado' después de 'Ciudad'\n",
    "column_order = ['ciudad', 'estado', 'ruta', 'latitud', 'longitud']\n",
    "\n",
    "# Aplicar el nuevo orden de columnas al DataFrame\n",
    "datos_csv = datos_csv[column_order]"
   ]
  },
  {
   "cell_type": "code",
   "execution_count": 20,
   "id": "69d66778",
   "metadata": {},
   "outputs": [
    {
     "name": "stdout",
     "output_type": "stream",
     "text": [
      "['Ruta Centro' 'Ruta del Pacifico' 'Ruta del Golfo' 'Ruta Sur']\n"
     ]
    }
   ],
   "source": [
    "# Obtenemos los valores únicos de la columna 'ruta'\n",
    "valores_unicos_ruta = datos_csv['ruta'].unique()\n",
    "\n",
    "# Imprimimos los valores únicos\n",
    "print(valores_unicos_ruta)\n"
   ]
  },
  {
   "cell_type": "markdown",
   "id": "f3ff12b7",
   "metadata": {},
   "source": [
    "### Geolocate Addresses"
   ]
  },
  {
   "cell_type": "code",
   "execution_count": 24,
   "id": "0b957671",
   "metadata": {},
   "outputs": [],
   "source": [
    "# Initialize the geolocator using OSM Nominatim\n",
    "geolocator = Nominatim(user_agent=\"measurement\", timeout=10)\n",
    "\n",
    "# Define a function to get latitude and longitude\n",
    "def get_lat_lon(address):\n",
    "    try:\n",
    "        location = geolocator.geocode(address)\n",
    "        if location:\n",
    "            return location.latitude, location.longitude\n",
    "        else:\n",
    "            return '', ''  # Return empty strings if location is not found\n",
    "    except AttributeError:\n",
    "        return '', ''\n",
    "\n",
    "# Apply the function to the 'City' column and split the results into 'Latitude' and 'Longitude' columns\n",
    "datos_csv[['latitud', 'longitud']] = datos_csv['ciudad'].apply(lambda x: pd.Series(get_lat_lon(x)))"
   ]
  },
  {
   "cell_type": "code",
   "execution_count": 33,
   "id": "a6998d08",
   "metadata": {},
   "outputs": [
    {
     "data": {
      "text/html": [
       "<div>\n",
       "<style scoped>\n",
       "    .dataframe tbody tr th:only-of-type {\n",
       "        vertical-align: middle;\n",
       "    }\n",
       "\n",
       "    .dataframe tbody tr th {\n",
       "        vertical-align: top;\n",
       "    }\n",
       "\n",
       "    .dataframe thead th {\n",
       "        text-align: right;\n",
       "    }\n",
       "</style>\n",
       "<table border=\"1\" class=\"dataframe\">\n",
       "  <thead>\n",
       "    <tr style=\"text-align: right;\">\n",
       "      <th></th>\n",
       "      <th>ciudad</th>\n",
       "      <th>estado</th>\n",
       "      <th>ruta</th>\n",
       "      <th>latitud</th>\n",
       "      <th>longitud</th>\n",
       "      <th>codigo_ruta</th>\n",
       "      <th>etiqueta</th>\n",
       "    </tr>\n",
       "  </thead>\n",
       "  <tbody>\n",
       "    <tr>\n",
       "      <th>93</th>\n",
       "      <td>Irapuato, Guanajuato</td>\n",
       "      <td>Guanajuato</td>\n",
       "      <td>Ruta Centro</td>\n",
       "      <td>20.675876</td>\n",
       "      <td>-101.352105</td>\n",
       "      <td>C</td>\n",
       "      <td>C1</td>\n",
       "    </tr>\n",
       "    <tr>\n",
       "      <th>15</th>\n",
       "      <td>Durango, Durango</td>\n",
       "      <td>Durango</td>\n",
       "      <td>Ruta Centro</td>\n",
       "      <td>24.022008</td>\n",
       "      <td>-104.654741</td>\n",
       "      <td>C</td>\n",
       "      <td>C2</td>\n",
       "    </tr>\n",
       "    <tr>\n",
       "      <th>91</th>\n",
       "      <td>Salamanca, Guanajuato</td>\n",
       "      <td>Guanajuato</td>\n",
       "      <td>Ruta Centro</td>\n",
       "      <td>20.652325</td>\n",
       "      <td>-101.166842</td>\n",
       "      <td>C</td>\n",
       "      <td>C3</td>\n",
       "    </tr>\n",
       "    <tr>\n",
       "      <th>48</th>\n",
       "      <td>Leon, Guanajuato</td>\n",
       "      <td>Guanajuato</td>\n",
       "      <td>Ruta Centro</td>\n",
       "      <td>21.079256</td>\n",
       "      <td>-101.58977</td>\n",
       "      <td>C</td>\n",
       "      <td>C4</td>\n",
       "    </tr>\n",
       "    <tr>\n",
       "      <th>47</th>\n",
       "      <td>Aguascalientes, Aguascalientes</td>\n",
       "      <td>Aguascalientes</td>\n",
       "      <td>Ruta Centro</td>\n",
       "      <td>21.880487</td>\n",
       "      <td>-102.296719</td>\n",
       "      <td>C</td>\n",
       "      <td>C5</td>\n",
       "    </tr>\n",
       "    <tr>\n",
       "      <th>...</th>\n",
       "      <td>...</td>\n",
       "      <td>...</td>\n",
       "      <td>...</td>\n",
       "      <td>...</td>\n",
       "      <td>...</td>\n",
       "      <td>...</td>\n",
       "      <td>...</td>\n",
       "    </tr>\n",
       "    <tr>\n",
       "      <th>95</th>\n",
       "      <td>Comitan, Chiapas</td>\n",
       "      <td>Chiapas</td>\n",
       "      <td>Ruta Sur</td>\n",
       "      <td>16.24411</td>\n",
       "      <td>-92.134851</td>\n",
       "      <td>S</td>\n",
       "      <td>S13</td>\n",
       "    </tr>\n",
       "    <tr>\n",
       "      <th>94</th>\n",
       "      <td>Palenque, Chiapas</td>\n",
       "      <td>Chiapas</td>\n",
       "      <td>Ruta Sur</td>\n",
       "      <td>17.453161</td>\n",
       "      <td>-91.812124</td>\n",
       "      <td>S</td>\n",
       "      <td>S14</td>\n",
       "    </tr>\n",
       "    <tr>\n",
       "      <th>63</th>\n",
       "      <td>Campeche, Campeche</td>\n",
       "      <td>Campeche</td>\n",
       "      <td>Ruta Sur</td>\n",
       "      <td>19.838121</td>\n",
       "      <td>-90.519825</td>\n",
       "      <td>S</td>\n",
       "      <td>S15</td>\n",
       "    </tr>\n",
       "    <tr>\n",
       "      <th>66</th>\n",
       "      <td>Chetumal, Quintana Roo</td>\n",
       "      <td>Quintana Roo</td>\n",
       "      <td>Ruta Sur</td>\n",
       "      <td>18.508174</td>\n",
       "      <td>-88.297144</td>\n",
       "      <td>S</td>\n",
       "      <td>S17</td>\n",
       "    </tr>\n",
       "    <tr>\n",
       "      <th>64</th>\n",
       "      <td>Merida, Yucatan</td>\n",
       "      <td>Yucatan</td>\n",
       "      <td>Ruta Sur</td>\n",
       "      <td>20.967076</td>\n",
       "      <td>-89.62374</td>\n",
       "      <td>S</td>\n",
       "      <td>S18</td>\n",
       "    </tr>\n",
       "  </tbody>\n",
       "</table>\n",
       "<p>86 rows × 7 columns</p>\n",
       "</div>"
      ],
      "text/plain": [
       "                            ciudad          estado         ruta    latitud  \\\n",
       "93            Irapuato, Guanajuato      Guanajuato  Ruta Centro  20.675876   \n",
       "15                Durango, Durango         Durango  Ruta Centro  24.022008   \n",
       "91           Salamanca, Guanajuato      Guanajuato  Ruta Centro  20.652325   \n",
       "48                Leon, Guanajuato      Guanajuato  Ruta Centro  21.079256   \n",
       "47  Aguascalientes, Aguascalientes  Aguascalientes  Ruta Centro  21.880487   \n",
       "..                             ...             ...          ...        ...   \n",
       "95                Comitan, Chiapas         Chiapas     Ruta Sur   16.24411   \n",
       "94               Palenque, Chiapas         Chiapas     Ruta Sur  17.453161   \n",
       "63              Campeche, Campeche        Campeche     Ruta Sur  19.838121   \n",
       "66          Chetumal, Quintana Roo    Quintana Roo     Ruta Sur  18.508174   \n",
       "64                 Merida, Yucatan         Yucatan     Ruta Sur  20.967076   \n",
       "\n",
       "      longitud codigo_ruta etiqueta  \n",
       "93 -101.352105           C       C1  \n",
       "15 -104.654741           C       C2  \n",
       "91 -101.166842           C       C3  \n",
       "48  -101.58977           C       C4  \n",
       "47 -102.296719           C       C5  \n",
       "..         ...         ...      ...  \n",
       "95  -92.134851           S      S13  \n",
       "94  -91.812124           S      S14  \n",
       "63  -90.519825           S      S15  \n",
       "66  -88.297144           S      S17  \n",
       "64   -89.62374           S      S18  \n",
       "\n",
       "[86 rows x 7 columns]"
      ]
     },
     "execution_count": 33,
     "metadata": {},
     "output_type": "execute_result"
    }
   ],
   "source": [
    "datos_csv"
   ]
  },
  {
   "cell_type": "markdown",
   "id": "2c991dd8",
   "metadata": {},
   "source": [
    "  ### Detectamos Coordenadas Incorrectas y las metemos manualmente\n"
   ]
  },
  {
   "cell_type": "code",
   "execution_count": 35,
   "id": "0cc6b81d",
   "metadata": {},
   "outputs": [],
   "source": [
    "# Ajustar latitud y longitud para 'Juchitan de Zaragoza, Oaxaca'\n",
    "datos_csv.loc[datos_csv['ciudad'] == 'Juchitan de Zaragoza, Oaxaca', 'latitud'] = 16.440150611652577\n",
    "datos_csv.loc[datos_csv['ciudad'] == 'Juchitan de Zaragoza, Oaxaca', 'longitud'] = -95.02226337475147\n",
    "\n",
    "# Ajustar latitud y longitud para 'Ixtepec, Oaxaca'\n",
    "datos_csv.loc[datos_csv['ciudad'] == 'Ixtepec, Oaxaca', 'latitud'] = 16.561107098248225\n",
    "datos_csv.loc[datos_csv['ciudad'] == 'Ixtepec, Oaxaca', 'longitud'] = -95.0973463801423\n"
   ]
  },
  {
   "cell_type": "markdown",
   "id": "dae51079",
   "metadata": {},
   "source": []
  },
  {
   "cell_type": "markdown",
   "id": "8d615e85",
   "metadata": {},
   "source": [
    "### Agregamos columna 'etiqueta' con el Codigo de Ruta, para trabajar con nuestras rutas codificadas.\n",
    "\n",
    "Tenemos que hacer que se codifique cada 'ciudad' dentro del df 'datos_csv', deacuerdo a su latitud y longitud y ala ruta ala que pertenece.\n",
    "\n",
    "Cada 'ciudad' deacuerdo a su posicion en el mapa y a la columna 'ruta' a la que pertenece;\n",
    "\n",
    "Ruta Sur = S\n",
    "Ruta del Pacifico = P\n",
    "Ruta Centro = C"
   ]
  },
  {
   "cell_type": "code",
   "execution_count": 37,
   "id": "d9b9264b",
   "metadata": {},
   "outputs": [
    {
     "name": "stderr",
     "output_type": "stream",
     "text": [
      "/var/folders/68/6zkv8z4j4rl6ds90br2rb7ph0000gn/T/ipykernel_771/3730677090.py:2: SettingWithCopyWarning: \n",
      "A value is trying to be set on a copy of a slice from a DataFrame.\n",
      "Try using .loc[row_indexer,col_indexer] = value instead\n",
      "\n",
      "See the caveats in the documentation: https://pandas.pydata.org/pandas-docs/stable/user_guide/indexing.html#returning-a-view-versus-a-copy\n",
      "  datos_csv['posicion_diagonal'] = datos_csv['latitud'] + datos_csv['longitud']\n",
      "/var/folders/68/6zkv8z4j4rl6ds90br2rb7ph0000gn/T/ipykernel_771/3730677090.py:11: SettingWithCopyWarning: \n",
      "A value is trying to be set on a copy of a slice from a DataFrame.\n",
      "Try using .loc[row_indexer,col_indexer] = value instead\n",
      "\n",
      "See the caveats in the documentation: https://pandas.pydata.org/pandas-docs/stable/user_guide/indexing.html#returning-a-view-versus-a-copy\n",
      "  datos_csv['codigo_ruta'] = datos_csv['ruta'].map(mapeo_rutas)\n"
     ]
    }
   ],
   "source": [
    "# Paso 1: Calculamos la posición diagonal como la suma de latitud y longitud\n",
    "datos_csv['posicion_diagonal'] = datos_csv['latitud'] + datos_csv['longitud']\n",
    "\n",
    "# Paso 2: Mapeamos las rutas a sus códigos correspondientes\n",
    "mapeo_rutas = {\n",
    "    'Ruta Sur': 'S',\n",
    "    'Ruta del Pacifico': 'P',\n",
    "    'Ruta Centro': 'C',\n",
    "    'Ruta del Golfo': 'G'\n",
    "}\n",
    "datos_csv['codigo_ruta'] = datos_csv['ruta'].map(mapeo_rutas)\n",
    "\n",
    "# Paso 3: Ordenamos por ruta y posición diagonal, luego asignamos etiquetas numeradas dentro de cada grupo de ruta\n",
    "datos_csv = datos_csv.sort_values(['codigo_ruta', 'posicion_diagonal'])\n",
    "\n",
    "# Aquí generamos una nueva columna 'etiqueta' que combina el código de ruta con un número ascendente dentro de cada ruta\n",
    "datos_csv['etiqueta'] = datos_csv.groupby('codigo_ruta').cumcount() + 1\n",
    "datos_csv['etiqueta'] = datos_csv['codigo_ruta'] + datos_csv['etiqueta'].astype(str)\n",
    "\n",
    "# Opcionalmente, podemos eliminar la columna 'Posicion_Diagonal' si ya no es necesaria\n",
    "datos_csv.drop('posicion_diagonal', axis=1, inplace=True)"
   ]
  },
  {
   "cell_type": "markdown",
   "id": "9d3e0e42",
   "metadata": {},
   "source": [
    "### Validamos Con Visualizacion"
   ]
  },
  {
   "cell_type": "code",
   "execution_count": null,
   "id": "c7ee6cf8",
   "metadata": {},
   "outputs": [],
   "source": []
  },
  {
   "cell_type": "code",
   "execution_count": null,
   "id": "4faaf423",
   "metadata": {},
   "outputs": [],
   "source": []
  },
  {
   "cell_type": "code",
   "execution_count": null,
   "id": "1a6e79cc",
   "metadata": {},
   "outputs": [],
   "source": []
  },
  {
   "cell_type": "markdown",
   "id": "53a65bea",
   "metadata": {},
   "source": [
    "### Guardamos CSV general."
   ]
  },
  {
   "cell_type": "code",
   "execution_count": 38,
   "id": "9eb112af",
   "metadata": {},
   "outputs": [
    {
     "name": "stdout",
     "output_type": "stream",
     "text": [
      "El DataFrame ha sido guardado exitosamente en: /Users/pablouriarte/Documents/1. Expediente Tec de Monterrey/1.Tesis/Mapa_Migracion_Irregular_Mexico/3. mapas/1. Mapas/Mapa_Casillas_2006_Reconstruido/Ciudades_Rutas/Ciudades_Rutas_Clase.csv\n"
     ]
    }
   ],
   "source": [
    "# Especificamos la ruta donde queremos guardar el archivo CSV\n",
    "ruta_archivo = '/Users/pablouriarte/Documents/1. Expediente Tec de Monterrey/1.Tesis/Mapa_Migracion_Irregular_Mexico/3. mapas/1. Mapas/Mapa_Casillas_2006_Reconstruido/Ciudades_Rutas/Ciudades_Rutas_Clase.csv'\n",
    "\n",
    "# Guardamos el DataFrame en el archivo CSV en la ruta especificada\n",
    "datos_csv.to_csv(ruta_archivo, index=False)\n",
    "\n",
    "# Imprimimos un mensaje de confirmación\n",
    "print(\"El DataFrame ha sido guardado exitosamente en:\", ruta_archivo)\n"
   ]
  },
  {
   "cell_type": "markdown",
   "id": "2881ec81",
   "metadata": {},
   "source": [
    "### Y cada csv por ruta"
   ]
  },
  {
   "cell_type": "code",
   "execution_count": null,
   "id": "66a31618",
   "metadata": {},
   "outputs": [],
   "source": []
  }
 ],
 "metadata": {
  "kernelspec": {
   "display_name": "Python 3 (ipykernel)",
   "language": "python",
   "name": "python3"
  },
  "language_info": {
   "codemirror_mode": {
    "name": "ipython",
    "version": 3
   },
   "file_extension": ".py",
   "mimetype": "text/x-python",
   "name": "python",
   "nbconvert_exporter": "python",
   "pygments_lexer": "ipython3",
   "version": "3.9.13"
  }
 },
 "nbformat": 4,
 "nbformat_minor": 5
}
