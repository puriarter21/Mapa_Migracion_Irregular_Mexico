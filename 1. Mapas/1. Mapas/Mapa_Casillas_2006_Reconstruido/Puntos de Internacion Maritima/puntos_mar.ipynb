{
 "cells": [
  {
   "cell_type": "code",
   "execution_count": 6,
   "id": "47b208f7",
   "metadata": {},
   "outputs": [],
   "source": [
    "from bs4 import BeautifulSoup\n",
    "\n",
    "import requests\n",
    "import re\n",
    "\n",
    "import pandas as pd\n",
    "\n",
    "from geopy.geocoders import Photon\n",
    "from geopy.geocoders import Nominatim\n",
    "import unidecode"
   ]
  },
  {
   "cell_type": "code",
   "execution_count": 2,
   "id": "1ebd738a",
   "metadata": {},
   "outputs": [
    {
     "name": "stdout",
     "output_type": "stream",
     "text": [
      "             puerto                  edo  ciudad      ruta coordenadas\n",
      "0          Rosarito      Baja California     NaN  pacifico         NaN\n",
      "1         El Sauzal      Baja California     NaN  pacifico         NaN\n",
      "2  Puerto Escondido      Baja California     NaN  pacifico         NaN\n",
      "3    Puerto Peñasco               Sonora     NaN  pacifico         NaN\n",
      "4    Isla de Cedros  Baja California Sur     NaN  pacifico         NaN\n"
     ]
    }
   ],
   "source": [
    "# Reemplaza 'ruta_al_archivo.csv' con la ruta completa al archivo CSV que deseas leer\n",
    "ruta_al_archivo = '/Users/pablouriarte/Documents/1. Expediente Tec de Monterrey/1.Tesis/Mapa_Migracion_Irregular_Mexico/3. mapas/1. Mapas/Mapa_Casillas_2006_Reconstruido/Puntos de Internacion Maritima/puntos de internacion maritima.csv'\n",
    "df = pd.read_csv(ruta_al_archivo)\n",
    "\n"
   ]
  },
  {
   "cell_type": "code",
   "execution_count": 7,
   "id": "041052f0",
   "metadata": {},
   "outputs": [],
   "source": [
    "#Quitamos acentos de todos lados\n",
    "def quitar_acentos(valor):\n",
    "    \"\"\"Función para quitar acentos de una cadena de texto.\"\"\"\n",
    "    if isinstance(valor, str):  # Solo aplicar a cadenas de texto\n",
    "        return unidecode.unidecode(valor)  # Corrección aquí\n",
    "    return valor\n",
    "\n",
    "# Aplicamos la función quitar_acentos a todas las columnas del DataFrame\n",
    "for columna in df.columns:\n",
    "    df[columna] = df[columna].apply(quitar_acentos)"
   ]
  },
  {
   "cell_type": "code",
   "execution_count": 13,
   "id": "422ac104",
   "metadata": {},
   "outputs": [],
   "source": [
    "# Combinamos las columnas 'puerto' y 'edo' en una nueva columna 'ciudad'\n",
    "df['ciudad'] = df['puerto'] + ', ' + df['edo']\n",
    "df = df.drop('coordenadas', axis=1)"
   ]
  },
  {
   "cell_type": "code",
   "execution_count": 14,
   "id": "ba367f43",
   "metadata": {},
   "outputs": [
    {
     "data": {
      "text/html": [
       "<div>\n",
       "<style scoped>\n",
       "    .dataframe tbody tr th:only-of-type {\n",
       "        vertical-align: middle;\n",
       "    }\n",
       "\n",
       "    .dataframe tbody tr th {\n",
       "        vertical-align: top;\n",
       "    }\n",
       "\n",
       "    .dataframe thead th {\n",
       "        text-align: right;\n",
       "    }\n",
       "</style>\n",
       "<table border=\"1\" class=\"dataframe\">\n",
       "  <thead>\n",
       "    <tr style=\"text-align: right;\">\n",
       "      <th></th>\n",
       "      <th>puerto</th>\n",
       "      <th>edo</th>\n",
       "      <th>ciudad</th>\n",
       "      <th>ruta</th>\n",
       "      <th>latitud</th>\n",
       "      <th>longitud</th>\n",
       "    </tr>\n",
       "  </thead>\n",
       "  <tbody>\n",
       "    <tr>\n",
       "      <th>0</th>\n",
       "      <td>Rosarito</td>\n",
       "      <td>Baja California</td>\n",
       "      <td>Rosarito, Baja California</td>\n",
       "      <td>pacifico</td>\n",
       "      <td>32.365166</td>\n",
       "      <td>-117.055792</td>\n",
       "    </tr>\n",
       "    <tr>\n",
       "      <th>1</th>\n",
       "      <td>El Sauzal</td>\n",
       "      <td>Baja California</td>\n",
       "      <td>El Sauzal, Baja California</td>\n",
       "      <td>pacifico</td>\n",
       "      <td>31.893300</td>\n",
       "      <td>-116.691263</td>\n",
       "    </tr>\n",
       "    <tr>\n",
       "      <th>2</th>\n",
       "      <td>Puerto Escondido</td>\n",
       "      <td>Baja California</td>\n",
       "      <td>Puerto Escondido, Baja California</td>\n",
       "      <td>pacifico</td>\n",
       "      <td>25.811704</td>\n",
       "      <td>-111.308949</td>\n",
       "    </tr>\n",
       "    <tr>\n",
       "      <th>3</th>\n",
       "      <td>Puerto Penasco</td>\n",
       "      <td>Sonora</td>\n",
       "      <td>Puerto Penasco, Sonora</td>\n",
       "      <td>pacifico</td>\n",
       "      <td>31.317087</td>\n",
       "      <td>-113.531819</td>\n",
       "    </tr>\n",
       "    <tr>\n",
       "      <th>4</th>\n",
       "      <td>Isla de Cedros</td>\n",
       "      <td>Baja California Sur</td>\n",
       "      <td>Isla de Cedros, Baja California Sur</td>\n",
       "      <td>pacifico</td>\n",
       "      <td>24.068716</td>\n",
       "      <td>-110.304739</td>\n",
       "    </tr>\n",
       "  </tbody>\n",
       "</table>\n",
       "</div>"
      ],
      "text/plain": [
       "             puerto                  edo                               ciudad  \\\n",
       "0          Rosarito      Baja California            Rosarito, Baja California   \n",
       "1         El Sauzal      Baja California           El Sauzal, Baja California   \n",
       "2  Puerto Escondido      Baja California    Puerto Escondido, Baja California   \n",
       "3    Puerto Penasco               Sonora               Puerto Penasco, Sonora   \n",
       "4    Isla de Cedros  Baja California Sur  Isla de Cedros, Baja California Sur   \n",
       "\n",
       "       ruta    latitud    longitud  \n",
       "0  pacifico  32.365166 -117.055792  \n",
       "1  pacifico  31.893300 -116.691263  \n",
       "2  pacifico  25.811704 -111.308949  \n",
       "3  pacifico  31.317087 -113.531819  \n",
       "4  pacifico  24.068716 -110.304739  "
      ]
     },
     "execution_count": 14,
     "metadata": {},
     "output_type": "execute_result"
    }
   ],
   "source": [
    "df.head()"
   ]
  },
  {
   "cell_type": "markdown",
   "id": "6f652f7e",
   "metadata": {},
   "source": [
    "### get lat long"
   ]
  },
  {
   "cell_type": "code",
   "execution_count": 11,
   "id": "c7d3fd6c",
   "metadata": {},
   "outputs": [],
   "source": [
    "# Inicializar el geolocalizador de Photon\n",
    "geolocator = Photon(user_agent=\"measurement\", timeout=10)\n",
    "\n",
    "# Definir la función para obtener latitud y longitud\n",
    "def get_lat_lon(address):\n",
    "    try:\n",
    "        location = geolocator.geocode(address)\n",
    "        if location:  # Verificar si se encontró la ubicación\n",
    "            return location.latitude, location.longitude\n",
    "        else:\n",
    "            return '', ''  # Devolver cadenas vacías si no se encuentra la ubicación\n",
    "    except AttributeError:\n",
    "        return '', ''\n",
    "\n",
    "#Aplicar la función a la columna 'Ciudad' y dividir los resultados en las columnas 'Latitud' y 'Longitud'\n",
    "df[['latitud', 'longitud']] = df['ciudad'].apply(lambda x: pd.Series(get_lat_lon(x)))"
   ]
  },
  {
   "cell_type": "markdown",
   "id": "85809f83",
   "metadata": {},
   "source": [
    "### actualizar archivo\n"
   ]
  },
  {
   "cell_type": "code",
   "execution_count": 15,
   "id": "dfb820c6",
   "metadata": {},
   "outputs": [],
   "source": [
    "# Especificamos la ruta donde queremos guardar el archivo CSV\n",
    "ruta_archivo1 = '/Users/pablouriarte/Documents/1. Expediente Tec de Monterrey/1.Tesis/Mapa_Migracion_Irregular_Mexico/3. mapas/1. Mapas/Mapa_Casillas_2006_Reconstruido/Puntos de Internacion Maritima/puntos_de_internacion_maritima_1.csv'\n",
    "\n",
    "# Guardamos el DataFrame en el archivo CSV en la ruta especificada\n",
    "df.to_csv(ruta_archivo1, index=False)\n"
   ]
  },
  {
   "cell_type": "code",
   "execution_count": null,
   "id": "5b846252",
   "metadata": {},
   "outputs": [],
   "source": []
  }
 ],
 "metadata": {
  "kernelspec": {
   "display_name": "Python 3 (ipykernel)",
   "language": "python",
   "name": "python3"
  },
  "language_info": {
   "codemirror_mode": {
    "name": "ipython",
    "version": 3
   },
   "file_extension": ".py",
   "mimetype": "text/x-python",
   "name": "python",
   "nbconvert_exporter": "python",
   "pygments_lexer": "ipython3",
   "version": "3.9.13"
  }
 },
 "nbformat": 4,
 "nbformat_minor": 5
}
