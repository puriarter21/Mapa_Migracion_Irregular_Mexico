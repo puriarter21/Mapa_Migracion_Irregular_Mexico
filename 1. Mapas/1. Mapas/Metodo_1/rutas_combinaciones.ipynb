{
 "cells": [
  {
   "cell_type": "markdown",
   "id": "b0974341",
   "metadata": {},
   "source": [
    "# Análisis de Rutas Combinadas\n",
    "Este notebook está dedicado a la extracción y análisis de rutas específicas que son de nuestro interés, mediante la comparación de diversas métricas asignadas a cada ruta. Utilizamos estas comparativas para identificar patrones, eficiencias o áreas de mejora en las rutas seleccionadas.\n",
    "\n",
    "A lo largo de este análisis, generamos visualizaciones que nos permiten observar no solo las métricas de interés, sino también el contexto más amplio en el que se desarrollan nuestras rutas. Este enfoque nos facilita una comprensión más profunda de los datos, permitiéndonos tomar decisiones informadas sobre posibles ajustes o mejoras.\n",
    "\n"
   ]
  },
  {
   "cell_type": "markdown",
   "id": "8e525121",
   "metadata": {},
   "source": [
    "# Combinaciones de rutas"
   ]
  },
  {
   "cell_type": "code",
   "execution_count": null,
   "id": "1a66bc92",
   "metadata": {},
   "outputs": [],
   "source": [
    "import pandas as pd\n",
    "from geopy.geocoders import Photon\n",
    "from geopy.geocoders import Nominatim\n",
    "from unidecode import unidecode\n",
    "import unidecode\n",
    "import numpy as np\n",
    "from shapely.geometry import Point, Polygon\n",
    "import geopandas as gpd\n",
    "import matplotlib.pyplot as plt\n"
   ]
  },
  {
   "cell_type": "markdown",
   "id": "2fe10238",
   "metadata": {},
   "source": [
    "### Cargamos Secuencias de rutas"
   ]
  },
  {
   "cell_type": "code",
   "execution_count": null,
   "id": "7af3acfe",
   "metadata": {},
   "outputs": [],
   "source": [
    "#rutaspacifico = pd.read_excel('/Users/pablouriarte/Documents/1. Expediente Tec de Monterrey/1.Tesis/Mapa_Migracion_Irregular_Mexico/1. Mapas/1. Mapas/Metodo_1/Rutas/Rutas Pacifico.xlsx')\n",
    "#rutascentro = pd.read_excel('/Users/pablouriarte/Documents/1. Expediente Tec de Monterrey/1.Tesis/Mapa_Migracion_Irregular_Mexico/1. Mapas/1. Mapas/Metodo_1/Rutas/Rutas Centro.xlsx')\n",
    "#rutasgolfo = pd.read_excel('/Users/pablouriarte/Documents/1. Expediente Tec de Monterrey/1.Tesis/Mapa_Migracion_Irregular_Mexico/1. Mapas/1. Mapas/Metodo_1/Rutas/Rutas Golfo.xlsx')"
   ]
  },
  {
   "cell_type": "code",
   "execution_count": null,
   "id": "235117ab",
   "metadata": {},
   "outputs": [],
   "source": [
    "#rutaspacifico.dropna(axis=1, how='all', inplace=True)\n",
    "#rutascentro.dropna(axis=1, how='all', inplace=True)\n",
    "#rutasgolfo.dropna(axis=1, how='all', inplace=True)"
   ]
  },
  {
   "cell_type": "code",
   "execution_count": null,
   "id": "9d624e5d",
   "metadata": {},
   "outputs": [],
   "source": [
    "# Reemplazamos los NaN por una cadena vacía y convertimos los números a texto con el formato 'PG####'\n",
    "#rutaspacifico_str = rutaspacifico.fillna('').applymap(lambda x: f'PG{int(x)}' if x != '' else '')\n",
    "#rutascentro_str = rutascentro.fillna('').applymap(lambda x: f'PG{int(x)}' if x != '' else '')\n",
    "#rutasgolfo_str = rutasgolfo.fillna('').applymap(lambda x: f'PG{int(x)}' if x != '' else '')\n"
   ]
  },
  {
   "cell_type": "code",
   "execution_count": null,
   "id": "b7c83f91",
   "metadata": {},
   "outputs": [],
   "source": [
    "# Combina las columnas en una cadena separada por comas\n",
    "#rutaspacifico_str['secuencias_pacifico'] = rutaspacifico_str.apply(lambda x: ', '.join(filter(None, x)), axis=1)\n",
    "#rutascentro_str['secuencias_centro'] = rutascentro_str.apply(lambda x: ', '.join(filter(None, x)), axis=1)\n",
    "#rutasgolfo_str['secuencias_golfo'] = rutasgolfo_str.apply(lambda x: ', '.join(filter(None, x)), axis=1)\n"
   ]
  },
  {
   "cell_type": "code",
   "execution_count": null,
   "id": "194d62cf",
   "metadata": {},
   "outputs": [],
   "source": [
    "# Crear un nuevo DataFrame con una sola columna que contiene las secuencias\n",
    "#df_secuencias_pacifico = pd.DataFrame({'secuencias_pacifico': rutaspacifico_str['secuencias_pacifico']})\n",
    "#df_secuencias_centro = pd.DataFrame({'secuencias_centro': rutascentro_str['secuencias_centro']})\n",
    "#df_secuencias_golfo = pd.DataFrame({'secuencias_golfo': rutasgolfo_str['secuencias_golfo']})\n"
   ]
  },
  {
   "cell_type": "code",
   "execution_count": null,
   "id": "d7ed05b4",
   "metadata": {},
   "outputs": [],
   "source": [
    "# Verificar filas duplicadas en df_secuencias_pacifico\n",
    "#duplicados_pacifico = df_secuencias_pacifico.duplicated()\n",
    "#print(\"Filas duplicadas en Pacifico:\", df_secuencias_pacifico[duplicados_pacifico])\n",
    "\n",
    "# Verificar filas duplicadas en df_secuencias_centro\n",
    "#duplicados_centro = df_secuencias_centro.duplicated()\n",
    "#print(\"Filas duplicadas en Centro:\", df_secuencias_centro[duplicados_centro])\n",
    "\n",
    "# Verificar filas duplicadas en df_secuencias_golfo\n",
    "#duplicados_golfo = df_secuencias_golfo.duplicated()\n",
    "#print(\"Filas duplicadas en Golfo:\", df_secuencias_golfo[duplicados_golfo])\n"
   ]
  },
  {
   "cell_type": "code",
   "execution_count": null,
   "id": "4051e3b2",
   "metadata": {},
   "outputs": [],
   "source": [
    "# Eliminar filas duplicadas en df_secuencias_pacifico\n",
    "#df_secuencias_pacifico = df_secuencias_pacifico.drop_duplicates()\n",
    "\n",
    "# Eliminar filas duplicadas en df_secuencias_centro\n",
    "#df_secuencias_centro = df_secuencias_centro.drop_duplicates()\n",
    "\n",
    "# Eliminar filas duplicadas en df_secuencias_golfo\n",
    "#df_secuencias_golfo = df_secuencias_golfo.drop_duplicates()\n"
   ]
  },
  {
   "cell_type": "code",
   "execution_count": null,
   "id": "569f7f38",
   "metadata": {},
   "outputs": [],
   "source": [
    "# Cambiar el nombre de la columna en df_secuencias_centro\n",
    "#df_secuencias_centro = df_secuencias_centro.rename(columns={'secuencias_centro': 'secuencias'})\n",
    "\n",
    "# Cambiar el nombre de la columna en df_secuencias_golfo\n",
    "#df_secuencias_golfo = df_secuencias_golfo.rename(columns={'secuencias_golfo': 'secuencias'})\n",
    "\n",
    "# Cambiar el nombre de la columna en df_secuencias_pacifico\n",
    "#df_secuencias_pacifico = df_secuencias_pacifico.rename(columns={'secuencias_pacifico': 'secuencias'})"
   ]
  },
  {
   "cell_type": "markdown",
   "id": "6375df6d",
   "metadata": {},
   "source": [
    "## secuencias incorrectas, arregladon 12 de mayo"
   ]
  },
  {
   "cell_type": "code",
   "execution_count": null,
   "id": "35616d87",
   "metadata": {},
   "outputs": [],
   "source": [
    "df_secuencias_centro = pd.read_csv('/Users/pablouriarte/Mapa_Migracion_Irregular_Mexico_Fresh/1. Mapas/1. Mapas/Metodo_1/procesamiento de rutas/Secuencias_Centro.csv')\n",
    "df_secuencias_golfo = pd.read_csv('/Users/pablouriarte/Mapa_Migracion_Irregular_Mexico_Fresh/1. Mapas/1. Mapas/Metodo_1/procesamiento de rutas/Secuencias_Golfo.csv')\n",
    "df_secuencias_pacifico = pd.read_csv('/Users/pablouriarte/Mapa_Migracion_Irregular_Mexico_Fresh/1. Mapas/1. Mapas/Metodo_1/procesamiento de rutas/Secuencias_Pacifico.csv')\n"
   ]
  },
  {
   "cell_type": "code",
   "execution_count": null,
   "id": "c4ddc38c",
   "metadata": {},
   "outputs": [],
   "source": [
    "# Unir los DataFrames\n",
    "df_unido = pd.concat([df_secuencias_centro, df_secuencias_golfo, df_secuencias_pacifico], ignore_index=True)\n"
   ]
  },
  {
   "cell_type": "code",
   "execution_count": null,
   "id": "779253e5",
   "metadata": {},
   "outputs": [],
   "source": [
    "df_unido"
   ]
  },
  {
   "cell_type": "code",
   "execution_count": null,
   "id": "0e7f7926",
   "metadata": {},
   "outputs": [],
   "source": [
    "# Definir los nombres y prefijos de los identificadores para cada área\n",
    "#nombres_areas = ['pacifico', 'centro', 'golfo']\n",
    "#prefijos_areas = ['RP', 'RC', 'RG']\n",
    "\n",
    "# Iterar sobre cada DataFrame y su respectivo nombre de área\n",
    "#for nombre_area, prefijo_area in zip(nombres_areas, prefijos_areas):\n",
    "    # Obtener el DataFrame correspondiente\n",
    "#    df = globals()[f\"df_secuencias_{nombre_area}\"]\n",
    "    \n",
    "    # Generar identificadores únicos para cada secuencia en el DataFrame\n",
    "#    identificadores = [f\"{prefijo_area}{i+1:03d}\" for i in range(len(df))]\n",
    "    \n",
    "    # Agregar la columna 'ID_Ruta' con los identificadores al DataFrame\n",
    "#    df['ID_Ruta'] = identificadores\n",
    "    \n",
    "    # Reordenar las columnas\n",
    "#    df = df[['ID_Ruta', 'secuencias']]\n",
    "    \n",
    "    # Mostrar las primeras filas del DataFrame para verificar\n",
    "#    print(f\"DataFrame df_secuencias_{nombre_area} con identificadores:\")\n",
    "#    print(df.head())\n",
    "    print()\n"
   ]
  },
  {
   "cell_type": "markdown",
   "id": "f5f783ef",
   "metadata": {},
   "source": [
    "### Guardamos df con secuencias"
   ]
  },
  {
   "cell_type": "code",
   "execution_count": null,
   "id": "b729baeb",
   "metadata": {},
   "outputs": [],
   "source": [
    "#df_secuencias_pacifico.to_csv('/Users/pablouriarte/Documents/1. Expediente Tec de Monterrey/1.Tesis/Mapa_Migracion_Irregular_Mexico/1. Mapas/1. Mapas/Metodo_1/Rutas/Secuencias_Pacifico.csv')\n",
    "#df_secuencias_centro.to_csv('/Users/pablouriarte/Documents/1. Expediente Tec de Monterrey/1.Tesis/Mapa_Migracion_Irregular_Mexico/1. Mapas/1. Mapas/Metodo_1/Rutas/Secuencias_Centro.csv')\n",
    "#df_secuencias_golfo.to_csv('/Users/pablouriarte/Documents/1. Expediente Tec de Monterrey/1.Tesis/Mapa_Migracion_Irregular_Mexico/1. Mapas/1. Mapas/Metodo_1/Rutas/Secuencias_Golfo.csv')"
   ]
  },
  {
   "cell_type": "markdown",
   "id": "85eb8a7b",
   "metadata": {},
   "source": [
    "### Notas:\n",
    "\n",
    "Al procesar las rutas, nos dimos cuenta que habia muchas secuencias duplicadas. Tambien sera importante a la hora de reproducir la ultima version del ejercicio, eliminar filas intermedias antes de procesar los datos"
   ]
  },
  {
   "cell_type": "markdown",
   "id": "309b76c4",
   "metadata": {},
   "source": [
    "yaa se eliminaron de todas las combinaciones, las id poligono que no tienen valores de ciudad, tambien se corrio otra revision de duplicados y salieron 1600 + rutas posibles diferentes\n",
    "\n",
    "# secuencias incorrectas, arregladon 14 de mayo\n",
    "\n",
    "Integraccion de secuencias faltantes\n",
    "ya estan filtradas por regiones y en un df unico en secuencias diferentes\n",
    "\n",
    "-tenemos que integrar las secuencias faltantes a las rutas existentes(filtered_secuences), volver a contabilizar la cantidad de rutas.\n",
    "luego revisar que cada una de estas tenga un valor en values_df, luego generamos los arcos."
   ]
  },
  {
   "cell_type": "code",
   "execution_count": null,
   "id": "d1d1dff9",
   "metadata": {},
   "outputs": [],
   "source": [
    "df_actualizado.to_csv('/Users/pablouriarte/Mapa_Migracion_Irregular_Mexico_Fresh/1. Mapas/1. Mapas/Metodo_1/procesamiento de rutas/Secuencias_Final.csv')"
   ]
  },
  {
   "cell_type": "code",
   "execution_count": null,
   "id": "359ebfb1",
   "metadata": {},
   "outputs": [],
   "source": [
    "df_secuencias = pd.read_csv(\"/Users/pablouriarte/Mapa_Migracion_Irregular_Mexico_Fresh/1. Mapas/1. Mapas/Metodo_1/procesamiento de rutas/Secuencias_Diferentes_1.csv\")\n",
    "df_secuencias = pd.read_csv(\"/Users/pablouriarte/Mapa_Migracion_Irregular_Mexico_Fresh/1. Mapas/1. Mapas/Metodo_1/procesamiento de rutas/Secuencias_Final.csv\")"
   ]
  },
  {
   "cell_type": "code",
   "execution_count": null,
   "id": "51e1fa95",
   "metadata": {},
   "outputs": [],
   "source": [
    "#df_secuencias = df_secuencias[['ID_Ruta', 'Filtered_Secuencias', 'Arc_Sequences', 'Last_Five_IDs']]\n"
   ]
  },
  {
   "cell_type": "code",
   "execution_count": null,
   "id": "137d7f28",
   "metadata": {},
   "outputs": [],
   "source": [
    "df_secuencias"
   ]
  },
  {
   "cell_type": "code",
   "execution_count": null,
   "id": "2c12b4dc",
   "metadata": {},
   "outputs": [],
   "source": [
    "import networkx as nx\n",
    "\n",
    "# Crear un grafo dirigido\n",
    "G = nx.DiGraph()\n",
    "for sequence in df_secuencias['Filtered_Secuencias']:\n",
    "    nodes = sequence.split(', ')\n",
    "    for i in range(len(nodes)-1):\n",
    "        G.add_edge(nodes[i], nodes[i+1])\n",
    "\n",
    "# Usar algoritmos de grafos para identificar caminos o subgrafos faltantes\n",
    "# nx.shortest_path(G, source, target) podría ayudarte a encontrar caminos faltantes entre nodos conocidos\n"
   ]
  },
  {
   "cell_type": "code",
   "execution_count": null,
   "id": "a0040fc6",
   "metadata": {},
   "outputs": [],
   "source": [
    "import matplotlib.pyplot as plt\n",
    "\n",
    "# Dibujar el grafo\n",
    "pos = nx.spring_layout(G)  # Layout para una visualización agradable\n",
    "nx.draw(G, pos, with_labels=True, node_color='skyblue', node_size=700, edge_color='#FF5733')\n",
    "plt.show()\n"
   ]
  },
  {
   "cell_type": "markdown",
   "id": "b99c74d1",
   "metadata": {},
   "source": [
    "### metodologia para agregar nuevas rutas:\n",
    "\n",
    "1) integramos inicios faltantes, en este caso faltaban los de la peninsula  se puede hacer directamente en la df original"
   ]
  },
  {
   "cell_type": "code",
   "execution_count": null,
   "id": "1f38c2a0",
   "metadata": {},
   "outputs": [],
   "source": [
    "# df inicios faltantes\n",
    "\n",
    "df_inicios_faltantes = df_secuencias[['ID_Ruta', 'Filtered_Secuencias']]\n",
    "\n",
    "df_inicios_faltantes.head()"
   ]
  },
  {
   "cell_type": "code",
   "execution_count": null,
   "id": "02f3d0f4",
   "metadata": {},
   "outputs": [],
   "source": [
    "\n",
    "nuevos_inicios_conectores = [\n",
    "    {'nuevo_inicio': 'PG1810', 'conector': 'PG1769'},\n",
    "    {'nuevo_inicio': 'PG1850, PG1811, PG1810', 'conector': 'PG1769'},\n",
    "    {'nuevo_inicio': 'PG1850, PG1811, PG1772, PG1694, PG1654, PG1614', 'conector': 'PG1574'},\n",
    "    {'nuevo_inicio': 'PG1695, PG1694, PG1654, PG1614', 'conector': 'PG1574'}\n",
    "]\n",
    "\n",
    "# Función para agregar los nuevos inicios a las secuencias que contienen los conectores\n",
    "def agregar_inicios(df, inicios_conectores):\n",
    "    nuevas_secuencias = []\n",
    "\n",
    "    for inicio_conector in inicios_conectores:\n",
    "        nuevo_inicio = inicio_conector['nuevo_inicio']\n",
    "        conector = inicio_conector['conector']\n",
    "        \n",
    "        for secuencia in df['Filtered_Secuencias']:\n",
    "            if conector in secuencia:\n",
    "                # Dividir la secuencia por el conector\n",
    "                partes = secuencia.split(', ')\n",
    "                indice_conector = partes.index(conector)\n",
    "                # Crear la nueva secuencia reemplazando la parte anterior al conector por el nuevo inicio\n",
    "                nueva_secuencia = f\"{nuevo_inicio}, {conector}, \" + ', '.join(partes[indice_conector + 1:])\n",
    "                nuevas_secuencias.append(nueva_secuencia)\n",
    "    \n",
    "    # Crear un nuevo DataFrame con las secuencias duplicadas y actualizadas\n",
    "    df_nuevas_secuencias = pd.DataFrame({'Filtered_Secuencias': nuevas_secuencias})\n",
    "    return pd.concat([df, df_nuevas_secuencias], ignore_index=True)\n",
    "\n",
    "# Aplicar la función para agregar los nuevos inicios\n",
    "df_actualizado = agregar_inicios(df_inicios_faltantes, nuevos_inicios_conectores)\n",
    "\n",
    "# Mostrar el DataFrame actualizado\n",
    "print(df_actualizado)\n"
   ]
  },
  {
   "cell_type": "code",
   "execution_count": null,
   "id": "56bfaf52",
   "metadata": {},
   "outputs": [],
   "source": [
    "df_actualizado"
   ]
  },
  {
   "cell_type": "code",
   "execution_count": null,
   "id": "89383426",
   "metadata": {},
   "outputs": [],
   "source": [
    "# Filtrar los ID_Ruta que comienzan con 'RG' y no son NaN\n",
    "df_rg = df_secuencias[df_secuencias['ID_Ruta'].str.startswith('RG', na=False)]\n",
    "\n",
    "# Obtener el último número usado en los ID_Ruta con prefijo 'RG'\n",
    "ultimo_numero_rg = df_rg['ID_Ruta'].str.extract(r'(\\d+)$').astype(int).max().values[0]\n",
    "\n",
    "# Filtrar las filas con NaN en ID_Ruta\n",
    "df_nan = df_secuencias[df_secuencias['ID_Ruta'].isna()]\n",
    "\n",
    "# Generar los nuevos ID_Ruta\n",
    "nuevos_ids = [f\"RG{str(i).zfill(4)}\" for i in range(ultimo_numero_rg + 1, ultimo_numero_rg + 1 + len(df_nan))]\n",
    "\n",
    "# Asignar los nuevos ID_Ruta a las filas con NaN\n",
    "df_secuencias.loc[df_secuencias['ID_Ruta'].isna(), 'ID_Ruta'] = nuevos_ids\n",
    "\n",
    "# Mostrar el DataFrame actualizado\n",
    "print(df_secuencias)"
   ]
  },
  {
   "cell_type": "markdown",
   "id": "d3347b61",
   "metadata": {},
   "source": [
    "### integraciones de arcos (intermedios) faltantes en rutas\n",
    "\n",
    "1) crear nuevos inicios, vamos a definir un nuevo set de nuevos inicios en una ubicacion diferente al original. vamos a filtrar usando la columna ID_Ruta, todas las filas que tengan en su id el prefijo seleccionado y despues vamos a extraer de todas las secuencias disponibles que contengan determinado conector en una nueva lista diferente a la base de datos original. a estos duplicados se remplazara la parte posterior al conector por una nueva secuencia.\n",
    "\n",
    "2) el paso dos es la misma logica que el ejercicio anterior.tenemos la df: df_general y tenemos una nueva lista de inicios diferentes que acabamos de generar, las cuales usaremos con un nuevo conector target el cual duplicaremos y remplazaremos en la fila duplicada la parte antes de cada conector por cada nuevo inicio de nuestra lista."
   ]
  },
  {
   "cell_type": "code",
   "execution_count": null,
   "id": "94c0c50b",
   "metadata": {},
   "outputs": [],
   "source": [
    "df_general = df_secuencias"
   ]
  },
  {
   "cell_type": "code",
   "execution_count": null,
   "id": "68799882",
   "metadata": {},
   "outputs": [],
   "source": [
    "df_general"
   ]
  },
  {
   "cell_type": "code",
   "execution_count": null,
   "id": "94ca697a",
   "metadata": {},
   "outputs": [],
   "source": [
    "df_rg = df_rg_actualizado_sin_duplicados"
   ]
  },
  {
   "cell_type": "code",
   "execution_count": null,
   "id": "823767b4",
   "metadata": {},
   "outputs": [],
   "source": [
    "df_unida.to_csv('/Users/pablouriarte/Mapa_Migracion_Irregular_Mexico_Fresh/1. Mapas/1. Mapas/Metodo_1/procesamiento de rutas/Secuencias_Final.csv')"
   ]
  },
  {
   "cell_type": "code",
   "execution_count": null,
   "id": "af8f1bfa",
   "metadata": {},
   "outputs": [],
   "source": []
  },
  {
   "cell_type": "code",
   "execution_count": null,
   "id": "a0044242",
   "metadata": {},
   "outputs": [],
   "source": []
  },
  {
   "cell_type": "code",
   "execution_count": null,
   "id": "25de6ff3",
   "metadata": {},
   "outputs": [],
   "source": []
  },
  {
   "cell_type": "code",
   "execution_count": null,
   "id": "e1907b0a",
   "metadata": {},
   "outputs": [],
   "source": [
    "values_df = pd.read_csv('/Users/pablouriarte/Documents/1. Expediente Tec de Monterrey/1.Tesis/Mapa_Migracion_Irregular_Mexico/1. Mapas/1. Mapas/Metodo_1/df_valores_rutas.csv')"
   ]
  },
  {
   "cell_type": "code",
   "execution_count": null,
   "id": "05b35402",
   "metadata": {},
   "outputs": [],
   "source": [
    "dfvalores.head()"
   ]
  },
  {
   "cell_type": "code",
   "execution_count": null,
   "id": "7e9e7e00",
   "metadata": {},
   "outputs": [],
   "source": [
    "dfvalores.shape"
   ]
  },
  {
   "cell_type": "code",
   "execution_count": null,
   "id": "37e390db",
   "metadata": {},
   "outputs": [],
   "source": [
    "# Sort the DataFrame by 'eventos' in descending order\n",
    "df_sorted = dfvalores.sort_values(by='inm_30km', ascending=False)\n",
    "\n",
    "# If you want to reset the index after sorting and drop the old index\n",
    "df_sorted = df_sorted.reset_index(drop=True)\n",
    "\n",
    "print(df_sorted)"
   ]
  },
  {
   "cell_type": "markdown",
   "id": "594f8405",
   "metadata": {},
   "source": [
    "#### Ciudad Top (Detenciones)\n",
    "\n",
    "Filtramos el df de manera que nos quede la ciudad con mas detenciones de cada grid"
   ]
  },
  {
   "cell_type": "markdown",
   "id": "2e593536",
   "metadata": {},
   "source": [
    "#### Aqui tenemos que tomar la decision de como sacar el punto de referencia para asignar el valor de cada ruta:\n",
    "\n",
    "    a) Agrupamos por 'ID_Poligono' y encontramos la ciudad con el máximo número de 'detenciones' para cada grupo\n",
    "    b) Agrupamos por 'ID_Poligono' y sacamos el promedio de 'detenciones' de todas las ciudades para cada grupo\n",
    "    \n",
    "  R: Aplicaremos metodo de promedio"
   ]
  },
  {
   "cell_type": "code",
   "execution_count": null,
   "id": "e913390d",
   "metadata": {},
   "outputs": [],
   "source": [
    "# Agrupamos por 'ID_Poligono' y encontramos la ciudad con el máximo número de 'detenciones' para cada grupo\n",
    "ciudades_top_valores = dfvalores.loc[dfvalores.groupby('ID_Poligono')['eventos'].idxmax()]\n",
    "\n",
    "# Calcular el promedio de detenciones para cada 'ID_Poligono' y redondearlo sin decimales\n",
    "promedio_detenciones = dfvalores.groupby('ID_Poligono')['eventos'].mean().round(0)\n",
    "\n",
    "# Resetear el índice si es necesario\n",
    "ciudades_top_valores.reset_index(drop=True, inplace=True)\n",
    "\n",
    "# Agregar la columna 'promedio_detenciones' al DataFrame resultante\n",
    "ciudades_top_valores['promedio_eventos'] = ciudades_top_valores['ID_Poligono'].map(promedio_detenciones)\n",
    "\n",
    "# Mostramos las primeras filas del nuevo DataFrame para verificar\n",
    "print(ciudades_top_valores.head())\n",
    "\n",
    "\n"
   ]
  },
  {
   "cell_type": "code",
   "execution_count": null,
   "id": "0695f859",
   "metadata": {},
   "outputs": [],
   "source": [
    "ciudades_top_valores.head(60)"
   ]
  },
  {
   "cell_type": "code",
   "execution_count": null,
   "id": "2c8e787e",
   "metadata": {},
   "outputs": [],
   "source": []
  },
  {
   "cell_type": "markdown",
   "id": "2a0b6f5c",
   "metadata": {},
   "source": [
    "# Generación de visuales"
   ]
  },
  {
   "cell_type": "markdown",
   "id": "ebf06f9a",
   "metadata": {},
   "source": [
    "### Pacifico"
   ]
  },
  {
   "cell_type": "markdown",
   "id": "18a75fd5",
   "metadata": {},
   "source": [
    "##### RP105"
   ]
  },
  {
   "cell_type": "code",
   "execution_count": null,
   "id": "f6db81fb",
   "metadata": {},
   "outputs": [],
   "source": [
    "# Paso 1: Encuentra la secuencia para 'RG142' en 'df_filtrado2_sorted'\n",
    "secuencia_ruta1 = df_pacifico_sumas.loc[df_pacifico_sumas['ID_Ruta'] == 'RP105', 'secuencia'].iloc[0]\n",
    "\n",
    "# Paso 2: Separa esa secuencia en una lista de 'ID_Poligono'\n",
    "secuencia_lista = secuencia_ruta1.split(', ')\n",
    "\n",
    "# Paso 3: Filtra 'ciudades_top_valores' para conservar solo las filas con esos 'ID_Poligono'\n",
    "filtered_ciudades = ciudades_top_valores[ciudades_top_valores['ID_Poligono'].isin(secuencia_lista)]\n",
    "\n",
    "#Paso 4: Crear una columna 'Order' en 'filtered_ciudades' que asigne a cada 'ID_Poligono' su posición en la secuencia\n",
    "order_dict = {id_poly: order for order, id_poly in enumerate(secuencia_lista)}\n",
    "filtered_ciudades['Order'] = filtered_ciudades['ID_Poligono'].map(order_dict)\n",
    "\n",
    "# Ordenar 'filtered_ciudades' por la columna 'Order'\n",
    "ruta_RP105 = filtered_ciudades.sort_values('Order')"
   ]
  },
  {
   "cell_type": "code",
   "execution_count": null,
   "id": "bf4b377a",
   "metadata": {},
   "outputs": [],
   "source": [
    "ruta_RP105.head(3)"
   ]
  },
  {
   "cell_type": "code",
   "execution_count": null,
   "id": "2ab2dd70",
   "metadata": {},
   "outputs": [],
   "source": [
    "# Cambiar los nombres de las columnas\n",
    "ruta_RP105 = ruta_RP105.rename(columns={\n",
    "    'detenciones': 'eventos',\n",
    "    'promedio_detenciones': 'promedio_eventos',\n",
    "    'detenciones_in_grid': 'eventos_in_grid'\n",
    "})"
   ]
  },
  {
   "cell_type": "code",
   "execution_count": null,
   "id": "34f6f0d1",
   "metadata": {},
   "outputs": [],
   "source": [
    "# Convertir columnas de datos cuantitativos a numérico\n",
    "quantitative_columns = ['eventos', 'eventos_in_grid', 'inm_30km', 'inm_in_grid', 'inm_in_estado', 'sc_30km', 'sc_in_grid', 'sc_in_estado','promedio_eventos']\n",
    "for col in quantitative_columns:\n",
    "    ruta_RP105[col] = pd.to_numeric(ruta_RP105[col])\n",
    "\n",
    "# Convertir DataFrame en GeoDataFrame\n",
    "gdf = gpd.GeoDataFrame(\n",
    "    ruta_RP105, \n",
    "    geometry=gpd.points_from_xy(ruta_RP105.longitud, ruta_RP105.latitud),\n",
    "    crs=\"EPSG:4326\"\n",
    ")\n",
    "\n",
    "# Guardar como Shapefile\n",
    "output_filename = \"/Users/pablouriarte/Documents/1. Expediente Tec de Monterrey/1.Tesis/Mapa_Migracion_Irregular_Mexico/1. Mapas/1. Mapas/Metodo_1/Rutas/rutas_creadas/pacifico/RP105/RP105.shp\"\n",
    "#gdf.to_file(output_filename)\n",
    "\n",
    "# Guardar como CSV\n",
    "output_filename_csv = \"/Users/pablouriarte/Documents/1. Expediente Tec de Monterrey/1.Tesis/Mapa_Migracion_Irregular_Mexico/1. Mapas/1. Mapas/Metodo_1/Rutas/rutas_creadas/pacifico/RP105/RP105.csv\"\n",
    "ruta_RP105.to_csv(output_filename_csv, index=False)"
   ]
  },
  {
   "cell_type": "code",
   "execution_count": null,
   "id": "0ccd7477",
   "metadata": {},
   "outputs": [],
   "source": [
    "ruta_RP105 = pd.read_csv(\"/Users/pablouriarte/Documents/1. Expediente Tec de Monterrey/1.Tesis/Mapa_Migracion_Irregular_Mexico/1. Mapas/1. Mapas/Metodo_1/Rutas/rutas_creadas/pacifico/RP105/RP105.csv\")"
   ]
  },
  {
   "cell_type": "code",
   "execution_count": null,
   "id": "bdb8df1c",
   "metadata": {},
   "outputs": [],
   "source": [
    "# Normalize the 'ciudad' values to ensure there are only up to 62 unique points\n",
    "unique_cities = ruta_RP105['ciudad'].unique()[:62]\n",
    "ruta_RP105_filtered = ruta_RP105[ruta_RP105['ciudad'].isin(unique_cities)]\n",
    "\n",
    "# Cap the 'eventos' at 50,000\n",
    "ruta_RP105_filtered['eventos_capped'] = np.clip(ruta_RP105_filtered['eventos'], None, 50000)\n",
    "\n",
    "# Create the figure and axis for the combined plot\n",
    "fig, ax1 = plt.subplots(figsize=(20, 6))\n",
    "\n",
    "# Configure the line plot for 'Eventos'\n",
    "ax1.plot(ruta_RP105_filtered['ciudad'], ruta_RP105_filtered['eventos_capped'], color='black', label='Eventos', marker='o')\n",
    "\n",
    "# Fill the area under the line plot with a very transparent red color\n",
    "ax1.fill_between(ruta_RP105_filtered['ciudad'], 0, ruta_RP105_filtered['eventos_capped'], color='red', alpha=0.1)\n",
    "\n",
    "# Annotate points that are capped\n",
    "for i, (city, val) in enumerate(zip(ruta_RP105_filtered['ciudad'], ruta_RP105_filtered['eventos'])):\n",
    "    if val > 50000:\n",
    "        ax1.annotate('50k+', xy=(i, 50000), xytext=(0, 3), \n",
    "                     textcoords=\"offset points\", ha='center', va='bottom')\n",
    "\n",
    "# Set y-axis for 'Eventos' with a max value of 50,000 and ticks every 10,000\n",
    "ax1.set_ylim(0, 50000)\n",
    "ax1.set_yticks(np.arange(0, 50001, 10000))\n",
    "ax1.set_ylabel('Eventos', color='black')\n",
    "ax1.tick_params(axis='y', labelcolor='black')\n",
    "\n",
    "# Rotate the x-axis labels for better visualization\n",
    "ax1.set_xticks(range(len(unique_cities)))\n",
    "ax1.set_xticklabels(unique_cities, rotation=45, ha=\"right\")\n",
    "\n",
    "# Set bar width\n",
    "bar_width = 0.35\n",
    "\n",
    "# Calculate bar positions\n",
    "bar_positions_inm = np.arange(len(unique_cities)) - bar_width / 2\n",
    "bar_positions_sc = np.arange(len(unique_cities)) + bar_width / 2\n",
    "\n",
    "# Create the individual bars for 'inm_30km' and 'sc_30km' on the secondary axis\n",
    "ax2 = ax1.twinx()\n",
    "bars_inm = ax2.bar(bar_positions_inm, ruta_RP105_filtered['inm_30km'], width=bar_width, label='inm_30km', color='blue', edgecolor='black', alpha=0.6)\n",
    "bars_sc = ax2.bar(bar_positions_sc, ruta_RP105_filtered['sc_30km'], width=bar_width, label='sc_30km', color='green', edgecolor='black', alpha=0.6)\n",
    "\n",
    "# Drawing horizontal lines inside the bars to represent each unit\n",
    "def draw_bar_units(bars):\n",
    "    for bar in bars:\n",
    "        bar_height = bar.get_height()\n",
    "        ax2.hlines(range(0, int(bar_height), 1), bar.get_x(), bar.get_x() + bar.get_width(), color='black', linewidth=0.5)\n",
    "\n",
    "draw_bar_units(bars_inm)\n",
    "draw_bar_units(bars_sc)\n",
    "\n",
    "#ax2.set_ylabel('Total de inm_30km y sc_30km', color='tab:red')\n",
    "ax2.tick_params(axis='y', labelcolor='tab:red')\n",
    "\n",
    "# Add legends\n",
    "ax1.legend(loc='upper left')\n",
    "ax2.legend(loc='upper right')\n",
    "\n",
    "# Title of the plot\n",
    "plt.title('ruta_RP105')\n",
    "\n",
    "# Adjust the layout to avoid clipping\n",
    "plt.tight_layout()\n",
    "\n",
    "# Show the plot\n",
    "plt.show()\n"
   ]
  },
  {
   "cell_type": "code",
   "execution_count": null,
   "id": "1defa660",
   "metadata": {},
   "outputs": [],
   "source": []
  },
  {
   "cell_type": "markdown",
   "id": "9d46716d",
   "metadata": {},
   "source": [
    "##### RP639"
   ]
  },
  {
   "cell_type": "code",
   "execution_count": null,
   "id": "25cfbf43",
   "metadata": {},
   "outputs": [],
   "source": [
    "# Paso 1: Encuentra la secuencia para 'RG142' en 'df_filtrado2_sorted'\n",
    "secuencia_ruta1 = df_pacifico_sumas.loc[df_pacifico_sumas['ID_Ruta'] == 'RP639', 'secuencia'].iloc[0]\n",
    "\n",
    "# Paso 2: Separa esa secuencia en una lista de 'ID_Poligono'\n",
    "secuencia_lista = secuencia_ruta1.split(', ')\n",
    "\n",
    "# Paso 3: Filtra 'ciudades_top_valores' para conservar solo las filas con esos 'ID_Poligono'\n",
    "filtered_ciudades = ciudades_top_valores[ciudades_top_valores['ID_Poligono'].isin(secuencia_lista)]\n",
    "\n",
    "#Paso 4: Crear una columna 'Order' en 'filtered_ciudades' que asigne a cada 'ID_Poligono' su posición en la secuencia\n",
    "order_dict = {id_poly: order for order, id_poly in enumerate(secuencia_lista)}\n",
    "filtered_ciudades['Order'] = filtered_ciudades['ID_Poligono'].map(order_dict)\n",
    "\n",
    "# Ordenar 'filtered_ciudades' por la columna 'Order\n",
    "ruta_RP639 = filtered_ciudades.sort_values('Order')\n",
    "\n",
    "# Cambiar los nombres de las columnas\n",
    "ruta_RP639 = ruta_RP639.rename(columns={\n",
    "    'detenciones': 'eventos',\n",
    "    'promedio_detenciones': 'promedio_eventos',\n",
    "    'detenciones_in_grid': 'eventos_in_grid'\n",
    "})"
   ]
  },
  {
   "cell_type": "code",
   "execution_count": null,
   "id": "b80da5c8",
   "metadata": {},
   "outputs": [],
   "source": [
    "# Convertir columnas de datos cuantitativos a numérico\n",
    "quantitative_columns = ['eventos', 'eventos_in_grid', 'inm_30km', 'inm_in_grid', 'inm_in_estado', 'sc_30km', 'sc_in_grid', 'sc_in_estado','promedio_eventos']\n",
    "for col in quantitative_columns:\n",
    "    ruta_RP639[col] = pd.to_numeric(ruta_RP639[col])\n",
    "\n",
    "# Convertir DataFrame en GeoDataFrame\n",
    "gdf = gpd.GeoDataFrame(\n",
    "    ruta_RP639, \n",
    "    geometry=gpd.points_from_xy(ruta_RP639.longitud, ruta_RP639.latitud),\n",
    "    crs=\"EPSG:4326\"\n",
    ")\n",
    "\n",
    "# Guardar como Shapefile\n",
    "output_filename = \"/Users/pablouriarte/Documents/1. Expediente Tec de Monterrey/1.Tesis/Mapa_Migracion_Irregular_Mexico/1. Mapas/1. Mapas/Metodo_1/Rutas/rutas_creadas/golfo/RP639/RP6395.shp\"\n",
    "gdf.to_file(output_filename)\n",
    "\n",
    "# Guardar como CSV\n",
    "output_filename_csv = \"/Users/pablouriarte/Documents/1. Expediente Tec de Monterrey/1.Tesis/Mapa_Migracion_Irregular_Mexico/1. Mapas/1. Mapas/Metodo_1/Rutas/rutas_creadas/golfo/RP639/RP639.csv\"\n",
    "ruta_RP639.to_csv(output_filename_csv, index=False)\n",
    "\n",
    "\n",
    "\n",
    "\n",
    "\n",
    "\n"
   ]
  },
  {
   "cell_type": "code",
   "execution_count": null,
   "id": "82d12c99",
   "metadata": {},
   "outputs": [],
   "source": [
    "ruta_RP639 = pd.read_csv(\"/Users/pablouriarte/Documents/1. Expediente Tec de Monterrey/1.Tesis/Mapa_Migracion_Irregular_Mexico/1. Mapas/1. Mapas/Metodo_1/procesamiento de rutas/rutas_creadas/pacifico/RP639/RP639.csv\")"
   ]
  },
  {
   "cell_type": "code",
   "execution_count": null,
   "id": "af326b91",
   "metadata": {},
   "outputs": [],
   "source": [
    "# Normalize the 'ciudad' values to ensure there are only up to 62 unique points\n",
    "unique_cities = ruta_RP639['ciudad'].unique()[:62]\n",
    "ruta_RP639_filtered = ruta_RP639[ruta_RP639['ciudad'].isin(unique_cities)]\n",
    "\n",
    "# Cap the 'eventos' at 50,000\n",
    "ruta_RP639_filtered['eventos_capped'] = np.clip(ruta_RP639_filtered['eventos'], None, 50000)\n",
    "\n",
    "# Create the figure and axis for the combined plot\n",
    "fig, ax1 = plt.subplots(figsize=(18, 6))\n",
    "\n",
    "# Configure the line plot for 'Eventos'\n",
    "ax1.plot(ruta_RP639_filtered['ciudad'], ruta_RP639_filtered['eventos_capped'], color='black', label='Eventos', marker='o')\n",
    "\n",
    "# Fill the area under the line plot with a very transparent red color\n",
    "ax1.fill_between(ruta_RP639_filtered['ciudad'], 0, ruta_RP639_filtered['eventos_capped'], color='red', alpha=0.1)\n",
    "\n",
    "# Annotate points that are capped\n",
    "for i, (city, val) in enumerate(zip(ruta_RP639_filtered['ciudad'], ruta_RP639_filtered['eventos'])):\n",
    "    if val > 50000:\n",
    "        ax1.annotate('50k+', xy=(i, 50000), xytext=(0, 3), \n",
    "                     textcoords=\"offset points\", ha='center', va='bottom')\n",
    "\n",
    "# Set y-axis for 'Eventos' with a max value of 50,000 and ticks every 10,000\n",
    "ax1.set_ylim(0, 50000)\n",
    "ax1.set_yticks(np.arange(0, 50001, 10000))\n",
    "ax1.set_ylabel('Eventos', color='black')\n",
    "ax1.tick_params(axis='y', labelcolor='black')\n",
    "\n",
    "# Rotate the x-axis labels for better visualization\n",
    "ax1.set_xticks(range(len(unique_cities)))\n",
    "ax1.set_xticklabels(unique_cities, rotation=45, ha=\"right\")\n",
    "\n",
    "# Set bar width\n",
    "bar_width = 0.35\n",
    "\n",
    "# Calculate bar positions\n",
    "bar_positions_inm = np.arange(len(unique_cities)) - bar_width / 2\n",
    "bar_positions_sc = np.arange(len(unique_cities)) + bar_width / 2\n",
    "\n",
    "# Create the individual bars for 'inm_30km' and 'sc_30km' on the secondary axis\n",
    "ax2 = ax1.twinx()\n",
    "bars_inm = ax2.bar(bar_positions_inm, ruta_RP639_filtered['inm_30km'], width=bar_width, label='inm_30km', color='blue', edgecolor='black', alpha=0.6)\n",
    "bars_sc = ax2.bar(bar_positions_sc, ruta_RP639_filtered['sc_30km'], width=bar_width, label='sc_30km', color='green', edgecolor='black', alpha=0.6)\n",
    "\n",
    "# Drawing horizontal lines inside the bars to represent each unit\n",
    "def draw_bar_units(bars):\n",
    "    for bar in bars:\n",
    "        bar_height = bar.get_height()\n",
    "        ax2.hlines(range(0, int(bar_height), 1), bar.get_x(), bar.get_x() + bar.get_width(), color='black', linewidth=0.5)\n",
    "\n",
    "draw_bar_units(bars_inm)\n",
    "draw_bar_units(bars_sc)\n",
    "\n",
    "#ax2.set_ylabel('Total de inm_30km y sc_30km', color='tab:red')\n",
    "ax2.tick_params(axis='y', labelcolor='tab:red')\n",
    "\n",
    "# Add legends\n",
    "ax1.legend(loc='upper left')\n",
    "ax2.legend(loc='upper right')\n",
    "\n",
    "# Title of the plot\n",
    "plt.title('ruta_RP105')\n",
    "\n",
    "# Adjust the layout to avoid clipping\n",
    "plt.tight_layout()\n",
    "\n",
    "# Show the plot\n",
    "plt.show()"
   ]
  },
  {
   "cell_type": "markdown",
   "id": "ef2561b7",
   "metadata": {},
   "source": [
    "## Metricas de Vulnerabilidad"
   ]
  },
  {
   "cell_type": "code",
   "execution_count": null,
   "id": "7f8df71a",
   "metadata": {},
   "outputs": [],
   "source": [
    "\n",
    "combined_rutas = pd.read_csv(\"/Users/pablouriarte/Mapa_Migracion_Irregular_Mexico_Fresh/1. Mapas/1. Mapas/Metodo_1/procesamiento de rutas/Secuencias_Final.csv\")\n",
    "\n",
    "\n"
   ]
  },
  {
   "cell_type": "code",
   "execution_count": null,
   "id": "7efafd22",
   "metadata": {},
   "outputs": [],
   "source": [
    "combined_rutas"
   ]
  },
  {
   "cell_type": "code",
   "execution_count": null,
   "id": "93d7bef1",
   "metadata": {},
   "outputs": [],
   "source": [
    "# Save the DataFrame to the CSV file\n",
    "combined_rutas.to_csv(\"/Users/pablouriarte/Mapa_Migracion_Irregular_Mexico_Fresh/1. Mapas/1. Mapas/Metodo_1/procesamiento de rutas/Secuencias_Final.csv\", index=False)\n"
   ]
  },
  {
   "cell_type": "code",
   "execution_count": null,
   "id": "7d37b847",
   "metadata": {},
   "outputs": [],
   "source": [
    "def create_arc_sequence(secuencia):\n",
    "    # Split the sequence into individual IDs\n",
    "    ids = secuencia.split(', ')\n",
    "    # Create arcs by pairing consecutive IDs\n",
    "    arcs = [f'{ids[i]}-{ids[i+1]}' for i in range(len(ids) - 1)]\n",
    "    return ', '.join(arcs)\n"
   ]
  },
  {
   "cell_type": "code",
   "execution_count": null,
   "id": "e4647595",
   "metadata": {},
   "outputs": [],
   "source": [
    "combined_rutas['Arc_Sequences'] = combined_rutas['Filtered_Secuencias'].apply(create_arc_sequence)\n"
   ]
  },
  {
   "cell_type": "code",
   "execution_count": null,
   "id": "6acc8fe8",
   "metadata": {},
   "outputs": [],
   "source": [
    "combined_rutas"
   ]
  },
  {
   "cell_type": "markdown",
   "id": "f1a63e6d",
   "metadata": {},
   "source": [
    "### generacion de arcos"
   ]
  },
  {
   "cell_type": "code",
   "execution_count": null,
   "id": "b6c301b0",
   "metadata": {},
   "outputs": [],
   "source": [
    "values_df = pd.read_csv('/Users/pablouriarte/Mapa_Migracion_Irregular_Mexico_Fresh/1. Mapas/1. Mapas/Metodo_1/df_valores_rutas.csv')\n"
   ]
  },
  {
   "cell_type": "code",
   "execution_count": null,
   "id": "d80e13fe",
   "metadata": {},
   "outputs": [],
   "source": [
    "import pandas as pd\n",
    "from geopy.geocoders import Photon\n",
    "from geopy.geocoders import Nominatim\n",
    "from unidecode import unidecode\n",
    "import unidecode\n",
    "import numpy as np\n",
    "from shapely.geometry import Point, Polygon\n",
    "import geopandas as gpd\n",
    "import matplotlib.pyplot as plt"
   ]
  },
  {
   "cell_type": "code",
   "execution_count": null,
   "id": "b6e08da8",
   "metadata": {},
   "outputs": [],
   "source": [
    "#arc_df = pd.read_csv('/Users/pablouriarte/Mapa_Migracion_Irregular_Mexico_Fresh/1. Mapas/1. Mapas/Metodo_1/procesamiento de rutas/arcos/arcos.csv')"
   ]
  },
  {
   "cell_type": "markdown",
   "id": "5c1fed77",
   "metadata": {},
   "source": [
    "### dato de distancias a pie y tiempo"
   ]
  },
  {
   "cell_type": "code",
   "execution_count": null,
   "id": "52ae233d",
   "metadata": {},
   "outputs": [],
   "source": [
    "def calculate_totals(row, df):\n",
    "    total_distance = 0\n",
    "    total_duration = 0\n",
    "    # Iterate through each tuple in the transformed sequences\n",
    "    for pair in row['Transformed_Sequences']:\n",
    "        # Filter sorted_df for rows matching the current pair\n",
    "        matching_rows = df[df['Node_Pair'] == pair]\n",
    "        total_distance += matching_rows['Distance_km'].sum()\n",
    "        total_duration += matching_rows['Duration_hr'].sum()\n",
    "    return pd.Series([total_distance, total_duration])\n",
    "\n",
    "# Apply the function to df_unique\n",
    "df_unique[['Total_Distance_km', 'Total_Duration_hr']] = df_unique.apply(calculate_totals, args=(sorted_df,), axis=1)\n"
   ]
  },
  {
   "cell_type": "markdown",
   "id": "75dddbb5",
   "metadata": {},
   "source": [
    "###\n",
    "tengo que eliminar grids que no son nodos, para esto podemos tomar secuencias_diferentes y df valores, y de secuencias diferentes, quitar todas los codigos de grid que no tengan un valor en df_valores. b)buscar duplicados c) sacar arcos, d) correr distancias y tiempo.\n",
    "\n",
    "notas:\n",
    "\n"
   ]
  },
  {
   "cell_type": "code",
   "execution_count": null,
   "id": "c788e640",
   "metadata": {},
   "outputs": [],
   "source": [
    "combined_rutas = pd.read_csv(\"/Users/pablouriarte/Mapa_Migracion_Irregular_Mexico_Fresh/1. Mapas/1. Mapas/Metodo_1/procesamiento de rutas/Secuencias_Final.csv\")"
   ]
  },
  {
   "cell_type": "code",
   "execution_count": null,
   "id": "ac587c67",
   "metadata": {},
   "outputs": [],
   "source": [
    "valid_ids = set(values_df['ID_Poligono'])"
   ]
  },
  {
   "cell_type": "code",
   "execution_count": null,
   "id": "941f3fe9",
   "metadata": {},
   "outputs": [],
   "source": [
    "combined_rutas.head(9)"
   ]
  },
  {
   "cell_type": "code",
   "execution_count": null,
   "id": "26e03589",
   "metadata": {},
   "outputs": [],
   "source": [
    "# Check for duplicates across all columns\n",
    "duplicates = combined_rutas.duplicated(keep=False)  # `keep=False` marks all duplicates\n",
    "\n",
    "# Count total duplicates\n",
    "total_duplicates = duplicates.sum()\n",
    "\n",
    "# Print the number of duplicate rows\n",
    "print(f\"Total duplicate rows: {total_duplicates}\")\n",
    "\n",
    "# Optionally, display the duplicate rows\n",
    "if total_duplicates > 0:\n",
    "    print(\"Duplicate rows:\")\n",
    "    print(combined_rutas[duplicates])\n"
   ]
  },
  {
   "cell_type": "code",
   "execution_count": null,
   "id": "feeb5973",
   "metadata": {},
   "outputs": [],
   "source": [
    "#combined_rutas.to_csv('/Users/pablouriarte/Mapa_Migracion_Irregular_Mexico_Fresh/1. Mapas/1. Mapas/Metodo_1/procesamiento de rutas/Secuencias_Diferentes_1.csv')\n"
   ]
  },
  {
   "cell_type": "markdown",
   "id": "ab4ffbb0",
   "metadata": {},
   "source": [
    "### final de filtrado de secuencias"
   ]
  },
  {
   "cell_type": "markdown",
   "id": "12415c22",
   "metadata": {},
   "source": [
    "## toca extraer de nuevo los diferentes arcos posibles"
   ]
  },
  {
   "cell_type": "code",
   "execution_count": null,
   "id": "674e6f7e",
   "metadata": {},
   "outputs": [],
   "source": [
    "from itertools import combinations\n",
    "\n",
    "def generate_pairwise_combinations(ids):\n",
    "    # Split the IDs string into a list if not already a list\n",
    "    id_list = ids.split(', ') if isinstance(ids, str) else ids\n",
    "    # Generate all pairwise combinations for the last five IDs\n",
    "    pairwise_combinations = list(combinations(id_list, 2))\n",
    "    return pairwise_combinations\n"
   ]
  },
  {
   "cell_type": "code",
   "execution_count": null,
   "id": "893a13f0",
   "metadata": {},
   "outputs": [],
   "source": [
    "# Split the 'Arc_Sequences' into lists of arcs and explode into separate rows\n",
    "arc_df12 = combined_rutas['Arc_Sequences'].str.split(', ').explode().reset_index(drop=True).to_frame()\n",
    "\n",
    "# Rename the column to a more descriptive name\n",
    "arc_df12.columns = ['Arc']\n"
   ]
  },
  {
   "cell_type": "code",
   "execution_count": null,
   "id": "7da1a47c",
   "metadata": {},
   "outputs": [],
   "source": [
    "# Check for duplicates across all columns\n",
    "duplicates = arc_df12.duplicated(keep=False)  # `keep=False` marks all duplicates\n",
    "\n",
    "# Count total duplicates\n",
    "total_duplicates = duplicates.sum()\n",
    "\n",
    "# Print the number of duplicate rows\n",
    "print(f\"Total duplicate rows: {total_duplicates}\")\n",
    "\n",
    "# Optionally, display the duplicate rows\n",
    "if total_duplicates > 0:\n",
    "    print(\"Duplicate rows:\")\n",
    "    print(arc_df12[duplicates])\n"
   ]
  },
  {
   "cell_type": "code",
   "execution_count": null,
   "id": "c7fb8d1a",
   "metadata": {},
   "outputs": [],
   "source": [
    "# Remove duplicates and keep the first occurrence\n",
    "arc_df12 = arc_df12.drop_duplicates()\n",
    "\n",
    "# Print the number of rows after removing duplicates\n",
    "print(f\"Total rows after removing duplicates: {len(arc_df12)}\")\n"
   ]
  },
  {
   "cell_type": "code",
   "execution_count": null,
   "id": "556ec61b",
   "metadata": {},
   "outputs": [],
   "source": [
    "values_df"
   ]
  },
  {
   "cell_type": "code",
   "execution_count": null,
   "id": "783bffdd",
   "metadata": {},
   "outputs": [],
   "source": [
    "arc_df12[['From_Node', 'To_Node']] = arc_df12['Arc'].str.split('-', expand=True)\n"
   ]
  },
  {
   "cell_type": "markdown",
   "id": "1549fbcc",
   "metadata": {},
   "source": [
    "### se tiene que filtrar los datos de values para que no se repitan los arcos por cada ciudad en cada grid\n",
    "\n"
   ]
  },
  {
   "cell_type": "code",
   "execution_count": null,
   "id": "f2f68583",
   "metadata": {},
   "outputs": [],
   "source": [
    "# Filtrar el DataFrame para quedarse con las filas que tengan el máximo valor de 'eventos' para cada 'ID_Poligono'\n",
    "filtered_values_df = values_df.loc[values_df.groupby('ID_Poligono')['eventos'].idxmax()]\n",
    "\n",
    "# Mostrar el DataFrame filtrado\n",
    "print(filtered_values_df)"
   ]
  },
  {
   "cell_type": "code",
   "execution_count": null,
   "id": "dbd2016b",
   "metadata": {},
   "outputs": [],
   "source": [
    "# Merge details for From_Node\n",
    "arc_df12 = arc_df12.merge(filtered_values_df[['ID_Poligono', 'ciudad', 'latitud', 'longitud', 'eventos']], how='left', left_on='From_Node', right_on='ID_Poligono')\n",
    "arc_df12.rename(columns={\n",
    "    'ciudad': 'ciudad_origen',\n",
    "    'latitud': 'latitud_from',\n",
    "    'longitud': 'longitud_from',\n",
    "    'eventos': 'eventos_from'\n",
    "}, inplace=True)\n",
    "arc_df12.drop('ID_Poligono', axis=1, inplace=True)\n",
    "\n",
    "# Merge details for To_Node\n",
    "arc_df12 = arc_df12.merge(filtered_values_df[['ID_Poligono', 'ciudad', 'latitud', 'longitud', 'eventos']], how='left', left_on='To_Node', right_on='ID_Poligono')\n",
    "arc_df12.rename(columns={\n",
    "    'ciudad': 'ciudad_destino',\n",
    "    'latitud': 'latitud_to',\n",
    "    'longitud': 'longitud_to',\n",
    "    'eventos': 'eventos_to'\n",
    "}, inplace=True)\n",
    "arc_df12.drop('ID_Poligono', axis=1, inplace=True)\n"
   ]
  },
  {
   "cell_type": "code",
   "execution_count": null,
   "id": "1efae293",
   "metadata": {},
   "outputs": [],
   "source": [
    "# Create coordinates\n",
    "arc_df12['origen_xy'] = arc_df12['latitud_from'].astype(str) + ', ' + arc_df12['longitud_from'].astype(str)\n",
    "arc_df12['destino_xy'] = arc_df12['latitud_to'].astype(str) + ', ' + arc_df12['longitud_to'].astype(str)\n",
    "\n",
    "# Calculate total events\n",
    "arc_df12['eventos_arco'] = arc_df12['eventos_from'] + arc_df12['eventos_to']\n"
   ]
  },
  {
   "cell_type": "code",
   "execution_count": null,
   "id": "c5efc487",
   "metadata": {},
   "outputs": [],
   "source": [
    "arc_df12"
   ]
  },
  {
   "cell_type": "code",
   "execution_count": null,
   "id": "b43cbb4b",
   "metadata": {},
   "outputs": [],
   "source": [
    "\n",
    "#arc_df = pd.read_csv('/Users/pablouriarte/Mapa_Migracion_Irregular_Mexico_Fresh/1. Mapas/1. Mapas/Metodo_1/procesamiento de rutas/arcos/arcos.csv')\n",
    "\n",
    "combined_rutas = pd.read_csv(\"/Users/pablouriarte/Mapa_Migracion_Irregular_Mexico_Fresh/1. Mapas/1. Mapas/Metodo_1/procesamiento de rutas/Secuencias_Final.csv\")\n",
    "\n"
   ]
  },
  {
   "cell_type": "code",
   "execution_count": null,
   "id": "cf1a1130",
   "metadata": {},
   "outputs": [],
   "source": [
    "# Specify the path where you want to save the CSV file\n",
    "output_path = '/Users/pablouriarte/Mapa_Migracion_Irregular_Mexico_Fresh/1. Mapas/1. Mapas/Metodo_1/procesamiento de rutas/arcos/arcos.csv'\n",
    "\n",
    "# Save the DataFrame to a CSV file at the specified path\n",
    "arc_df12.to_csv(output_path, index=False)\n"
   ]
  },
  {
   "cell_type": "markdown",
   "id": "219bbadb",
   "metadata": {},
   "source": [
    "notas:\n",
    "\n",
    "la distancia juega un papel impportante, y bien podria ser parte de cualquiera de las dos metricas de vulnerabilidad por capacidad institucional, dado la presencia de asistencia en el centroide sobre la distancia entre un punto y otro\n",
    "\n",
    "la presencia de asistencia a lo largo del arco total"
   ]
  },
  {
   "cell_type": "markdown",
   "id": "c9fefd4b",
   "metadata": {},
   "source": [
    "### continuamos:\n",
    "\n",
    "en este putno debemos tener nuestras df:\n",
    "\n",
    "rutas_combinaciones[filtered secuences, arc codes que lo integran,]\n",
    "\n",
    "arc_df[arcs, ciudad origen, ciudad destino, coords origen_xy, destino_xy, eventos arco] \n",
    "\n",
    "y vamos a sacar la polilínea codificada, tiempo y distancia. listo para meter a arcgis\n",
    "\n"
   ]
  },
  {
   "cell_type": "markdown",
   "id": "bd04500a",
   "metadata": {},
   "source": [
    "\n",
    "## rutas polygonos arcos\n",
    "\n",
    "Consulta a la API de Google Maps: Para cada par de puntos de origen y destino, realizar una consulta para obtener la ruta a pie, incluyendo la polilínea codificada, tiempo y distancia.\n",
    "\n",
    "\n",
    "Decodificar y almacenar las polilíneas: Decodificar cada polilínea codificada obtenida y almacenarla en tu DataFrame.\n",
    "\n",
    "\n",
    "Convertir a GeoDataFrame: Convertir el DataFrame actualizado en un GeoDataFrame.\n",
    "\n",
    "\n",
    "Guardar y visualizar: Opcionalmente, guardar el GeoDataFrame y preparar todo para visualización en ArcGIS Pro."
   ]
  },
  {
   "cell_type": "code",
   "execution_count": null,
   "id": "7b036218",
   "metadata": {},
   "outputs": [],
   "source": [
    "df = pd.read_csv('/Users/pablouriarte/Mapa_Migracion_Irregular_Mexico_Fresh/1. Mapas/1. Mapas/Metodo_1/procesamiento de rutas/arcos/arcos.csv')"
   ]
  },
  {
   "cell_type": "code",
   "execution_count": null,
   "id": "01d1c16f",
   "metadata": {},
   "outputs": [],
   "source": [
    "import pandas as pd\n",
    "import requests\n",
    "import polyline\n",
    "from shapely.geometry import LineString\n",
    "import geopandas as gpd"
   ]
  },
  {
   "cell_type": "code",
   "execution_count": null,
   "id": "4e1a805e",
   "metadata": {},
   "outputs": [],
   "source": [
    "import requests\n",
    "import pandas as pd\n",
    "from shapely.geometry import LineString\n",
    "import googlemaps\n",
    "from shapely import wkt"
   ]
  },
  {
   "cell_type": "code",
   "execution_count": null,
   "id": "65386f10",
   "metadata": {},
   "outputs": [],
   "source": [
    "# Configuración de API Key\n",
    "api_key = 'xxx'"
   ]
  },
  {
   "cell_type": "code",
   "execution_count": null,
   "id": "14d91a32",
   "metadata": {},
   "outputs": [],
   "source": [
    "import requests\n",
    "import pandas as pd\n",
    "from shapely.geometry import LineString\n",
    "import polyline\n",
    "\n",
    "# Función para convertir distancias a kilómetros\n",
    "def convert_distance_to_km(distance):\n",
    "    if distance is None:\n",
    "        return None\n",
    "    if 'km' in distance:\n",
    "        return float(distance.replace(' km', ''))\n",
    "    elif 'mi' in distance:\n",
    "        return float(distance.replace(' mi', '')) * 1.60934  # Conversión de millas a kilómetros\n",
    "    else:\n",
    "        return None\n",
    "\n",
    "# Función para convertir duraciones a minutos\n",
    "def convert_duration_to_minutes(duration):\n",
    "    if duration is None:\n",
    "        return None\n",
    "    days = 0\n",
    "    hours = 0\n",
    "    minutes = 0\n",
    "    if 'day' in duration:\n",
    "        days_part = duration.split(' day')[0]\n",
    "        days = int(days_part.split()[-1])\n",
    "        duration = duration.split(' day')[1]\n",
    "    if 'hour' in duration:\n",
    "        hours_part = duration.split(' hour')[0]\n",
    "        hours = int(hours_part.split()[-1])\n",
    "        duration = duration.split(' hour')[1]\n",
    "    if 'min' in duration:\n",
    "        minutes_part = duration.split(' min')[0]\n",
    "        minutes = int(minutes_part.split()[-1])\n",
    "    return days * 24 * 60 + hours * 60 + minutes\n",
    "\n",
    "# Función para obtener la ruta y la polilínea, y convertir las distancias y duraciones a formatos numéricos\n",
    "def obtener_ruta_y_polilinea(row, api_key):\n",
    "    #base_url = \"https://maps.googleapis.com/maps/api/directions/json\"\n",
    "    params = {\n",
    "        'origin': f\"{row['latitud_from']},{row['longitud_from']}\",  # Asegúrate de que los nombres de columnas coincidan\n",
    "        'destination': f\"{row['latitud_to']},{row['longitud_to']}\",\n",
    "        'mode': 'walking',  # Modo a pie\n",
    "        'key': api_key\n",
    "    }\n",
    "    response = requests.get(base_url, params=params)\n",
    "    result = response.json()\n",
    "\n",
    "    if result['status'] == 'OK':\n",
    "        polyline_encoded = result['routes'][0]['overview_polyline']['points']\n",
    "        distancia = result['routes'][0]['legs'][0]['distance']['text']\n",
    "        duracion = result['routes'][0]['legs'][0]['duration']['text']\n",
    "        puntos = polyline.decode(polyline_encoded)\n",
    "        geometry = LineString(puntos)\n",
    "\n",
    "        # Convertir distancia y duración a formatos numéricos\n",
    "        distancia_km = convert_distance_to_km(distancia)\n",
    "        duracion_min = convert_duration_to_minutes(duracion)\n",
    "\n",
    "        return geometry.wkt, distancia, duracion, distancia_km, duracion_min  # Devolver como WKT\n",
    "    else:\n",
    "        return None, None, None, None, None\n",
    "\n",
    "# Aplicar a cada fila del DataFrame y expandir los resultados en nuevas columnas\n",
    "df[['geometry', 'distance', 'duration', 'distance_km', 'duration_min']] = df.apply(\n",
    "    lambda row: obtener_ruta_y_polilinea(row, api_key), axis=1, result_type='expand'\n",
    ")\n",
    "\n",
    "# Mostrar el DataFrame para verificar los resultados\n",
    "#print(df)\n",
    "\n",
    "\n"
   ]
  },
  {
   "cell_type": "code",
   "execution_count": null,
   "id": "660c2621",
   "metadata": {},
   "outputs": [],
   "source": [
    "# Elimina las columnas existentes\n",
    "#df = df.drop(columns=['geometry'])#,'distance', 'duration', 'distance_km', 'duration_min'])"
   ]
  },
  {
   "cell_type": "code",
   "execution_count": null,
   "id": "64d18220",
   "metadata": {},
   "outputs": [],
   "source": [
    "# Lista de columnas para mantener\n",
    "columnas_para_mantener = ['Arc', 'ciudad_origen', 'ciudad_destino', 'eventos_arco', 'geometry', 'distance', 'duration', 'distance_km', 'duration_min']\n",
    "\n",
    "# Eliminar todas las columnas que no están en la lista de columnas para mantener\n",
    "df_filtrado = df[columnas_para_mantener]\n"
   ]
  },
  {
   "cell_type": "code",
   "execution_count": null,
   "id": "7c947b4b",
   "metadata": {},
   "outputs": [],
   "source": [
    "arc_df = df_filtrado"
   ]
  },
  {
   "cell_type": "code",
   "execution_count": null,
   "id": "88ccf08d",
   "metadata": {},
   "outputs": [],
   "source": [
    "import matplotlib.pyplot as plt\n",
    "\n",
    "plt.figure(figsize=(10, 6))\n",
    "plt.scatter(arc_df['distance_km'], arc_df['duration_min'], alpha=0.5)\n",
    "plt.title('Scatter Plot of Distance vs. Duration')\n",
    "plt.xlabel('Distance in Kilometers')\n",
    "plt.ylabel('Duration in Hours')\n",
    "plt.grid(True)\n",
    "plt.show()"
   ]
  },
  {
   "cell_type": "code",
   "execution_count": null,
   "id": "5106e446",
   "metadata": {},
   "outputs": [],
   "source": [
    "#### Calculate IQR\n",
    "Q1 = arc_df[['distance_km', 'duration_min']].quantile(0.25)\n",
    "Q3 = arc_df[['distance_km', 'duration_min']].quantile(0.75)\n",
    "IQR = Q3 - Q1\n",
    "\n",
    "# Define outliers as those beyond 1.5 times the IQR from the quartiles\n",
    "outliers = arc_df[((arc_df['distance_km'] < (Q1['distance_km'] - 1.5 * IQR['distance_km'])) | (arc_df['distance_km'] > (Q3['distance_km'] + 1.5 * IQR['distance_km'])) |\n",
    "                   (arc_df['duration_min'] < (Q1['duration_min'] - 1.5 * IQR['duration_min'])) | (arc_df['duration_min'] > (Q3['duration_min'] + 1.5 * IQR['duration_min'])))]\n",
    "print(\"Detected Outliers:\")\n",
    "print(outliers[['Arc', 'distance_km', 'duration_min']])"
   ]
  },
  {
   "cell_type": "code",
   "execution_count": null,
   "id": "6896fe56",
   "metadata": {},
   "outputs": [],
   "source": [
    "arc_df"
   ]
  },
  {
   "cell_type": "code",
   "execution_count": null,
   "id": "f5560006",
   "metadata": {},
   "outputs": [],
   "source": [
    "#df_filtrado.to_file(\"/Users/pablouriarte/Mapa_Migracion_Irregular_Mexico_Fresh/1. Mapas/1. Mapas/Metodo_1/procesamiento de rutas/arcos/arcos_rutas_a_pie.geojson\", driver='GeoJSON')\n",
    "#arc_df.to_csv(\"/Users/pablouriarte/Mapa_Migracion_Irregular_Mexico_Fresh/1. Mapas/1. Mapas/Metodo_1/procesamiento de rutas/arcos/arcos_rutas_a_pie.csv\")\n"
   ]
  },
  {
   "cell_type": "code",
   "execution_count": null,
   "id": "805afd96",
   "metadata": {},
   "outputs": [],
   "source": [
    "# Convertir la columna 'geometry' de WKT a objetos shapely\n",
    "arc_df['geometry'] = arc_df['geometry'].apply(wkt.loads)\n",
    "\n",
    "# Convertir el DataFrame en un GeoDataFrame\n",
    "arc_gdf = gpd.GeoDataFrame(arc_df, geometry='geometry')\n",
    "\n",
    "# Definir el sistema de coordenadas WGS84\n",
    "arc_gdf.set_crs(epsg=4326, inplace=True)\n",
    "\n",
    "# Guardar como shapefile\n",
    "#arc_gdf.to_file(\"/Users/pablouriarte/Mapa_Migracion_Irregular_Mexico_Fresh/1. Mapas/1. Mapas/Metodo_1/procesamiento de rutas/arcos/arcos_rutas_a_pie.shp\")"
   ]
  },
  {
   "cell_type": "code",
   "execution_count": null,
   "id": "f4987204",
   "metadata": {},
   "outputs": [],
   "source": [
    "arc_df= pd.read_csv(\"/Users/pablouriarte/Mapa_Migracion_Irregular_Mexico_Fresh/1. Mapas/1. Mapas/Metodo_1/procesamiento de rutas/arcos/arcos_rutas_a_pie.csv\")"
   ]
  },
  {
   "cell_type": "code",
   "execution_count": null,
   "id": "6e1d0da4",
   "metadata": {},
   "outputs": [],
   "source": [
    "# Verificar que todos los valores en la columna 'geometry' son válidos\n",
    "def is_valid_linestring(geometry):\n",
    "    try:\n",
    "        # Verificar si ya es un objeto LineString\n",
    "        if isinstance(geometry, LineString):\n",
    "            return geometry.is_valid\n",
    "        # Convertir el valor de geometry a un objeto shapely\n",
    "        geom = wkt.loads(geometry)\n",
    "        return geom.is_valid\n",
    "    except Exception as e:\n",
    "        print(f\"Error en la geometría: {e}\")\n",
    "        return False\n",
    "\n",
    "arc_df['valid_geometry'] = arc_df['geometry'].apply(is_valid_linestring)\n",
    "\n",
    "# Filtrar filas con geometrías no válidas\n",
    "invalid_geometries = arc_df[~arc_df['valid_geometry']]\n",
    "\n",
    "# Mostrar filas con geometrías no válidas\n",
    "print(\"Filas con geometrías no válidas:\")\n",
    "print(invalid_geometries)\n",
    "\n",
    "# Convertir la columna 'geometry' a objetos shapely si aún no lo están\n",
    "def convert_to_linestring(geometry):\n",
    "    if isinstance(geometry, LineString):\n",
    "        return geometry\n",
    "    return wkt.loads(geometry)\n",
    "\n",
    "arc_df['geometry'] = arc_df['geometry'].apply(convert_to_linestring)\n",
    "\n",
    "# Crear un GeoDataFrame a partir del DataFrame\n",
    "gdf = gpd.GeoDataFrame(arc_df, geometry='geometry')\n",
    "\n",
    "# Comprobar si hay geometrías inválidas en el GeoDataFrame\n",
    "invalid_gdf = gdf[~gdf.is_valid]\n",
    "\n",
    "# Mostrar filas con geometrías inválidas en el GeoDataFrame\n",
    "print(\"Filas con geometrías inválidas en el GeoDataFrame:\")\n",
    "print(invalid_gdf)\n",
    "\n",
    "# Intentar trazar las geometrías\n",
    "import matplotlib.pyplot as plt\n",
    "\n",
    "fig, ax = plt.subplots(figsize=(10, 10))\n",
    "gdf.plot(ax=ax, color='blue', edgecolor='black')\n",
    "plt.show()"
   ]
  },
  {
   "cell_type": "markdown",
   "id": "1e10589f",
   "metadata": {},
   "source": [
    "#### notas\n",
    "las coordenadas de las rutas (polyline) salen al reves lol\n",
    "estan al reves lol"
   ]
  },
  {
   "cell_type": "markdown",
   "id": "51b738e6",
   "metadata": {},
   "source": [
    "\n",
    "## segmentacion y asignacion de valores a polyline"
   ]
  },
  {
   "cell_type": "code",
   "execution_count": 1,
   "id": "2204dff7",
   "metadata": {},
   "outputs": [],
   "source": [
    "import pandas as pd\n",
    "from geopy.geocoders import Photon\n",
    "from geopy.geocoders import Nominatim\n",
    "from unidecode import unidecode\n",
    "import unidecode\n",
    "import numpy as np\n",
    "from shapely.geometry import Point, Polygon\n",
    "import geopandas as gpd\n",
    "\n",
    "\n",
    "import matplotlib.pyplot as plt"
   ]
  },
  {
   "cell_type": "code",
   "execution_count": null,
   "id": "02705f7b",
   "metadata": {},
   "outputs": [],
   "source": [
    "arc_df = pd.read_csv(\"/Users/pablouriarte/Mapa_Migracion_Irregular_Mexico_Fresh/1. Mapas/1. Mapas/Metodo_1/procesamiento de rutas/arcos/arcos_rutas_a_pie.csv\")"
   ]
  },
  {
   "cell_type": "code",
   "execution_count": null,
   "id": "5faaa3d9",
   "metadata": {},
   "outputs": [],
   "source": [
    "arc_df_2 = pd.read_csv(\"/Users/pablouriarte/Mapa_Migracion_Irregular_Mexico_Fresh/1. Mapas/1. Mapas/Metodo_1/procesamiento de rutas/arcos/arcos.csv\")"
   ]
  },
  {
   "cell_type": "code",
   "execution_count": null,
   "id": "8c70a2a8",
   "metadata": {},
   "outputs": [],
   "source": [
    "mx_mun = gpd.read_file('/Users/pablouriarte/Mapa_Migracion_Irregular_Mexico_Fresh/1. Mapas/1. Mapas/Metodo_1/areas/df_final_shape.shp').to_crs(epsg=4485)"
   ]
  },
  {
   "cell_type": "code",
   "execution_count": null,
   "id": "a1be11c3",
   "metadata": {},
   "outputs": [],
   "source": [
    "arc_gdf"
   ]
  },
  {
   "cell_type": "code",
   "execution_count": null,
   "id": "7deb74cd",
   "metadata": {},
   "outputs": [],
   "source": [
    "import pandas as pd\n",
    "import geopandas as gpd\n",
    "\n",
    "# Supongamos que tu dataframe 'mx_mun' está cargado, aquí te muestro cómo sería el proceso:\n",
    "# mx_mun = pd.read_csv('path_to_your_file.csv')  # Cargar tu dataframe original si está en un archivo CSV\n",
    "\n",
    "# Crear un nuevo DataFrame con las columnas necesarias\n",
    "df_pivot = mx_mun.pivot_table(index=['Entidad', 'Municipio', 'Cve. Munic', 'NOMEDO', 'NOM_MUN', 'Area', 'geometry'],\n",
    "                              columns='Etiqueta', values='Total deli', fill_value=0).reset_index()\n",
    "\n",
    "# Renombrar las columnas para que sean más manejables y cumplan con la restricción de 10 caracteres\n",
    "df_pivot.columns = ['Entidad', 'Municipio', 'CveMunic', 'NOMEDO', 'NOMMUN', 'Area', 'geometry',\n",
    "                    'Corrupcion', 'CrimenOrg', 'Violencia']\n",
    "\n",
    "# Mostrar el resultado\n",
    "print(df_pivot.head())\n",
    "\n",
    "# Convertir de nuevo a GeoDataFrame\n",
    "mx_mun_transformed = gpd.GeoDataFrame(df_pivot, geometry='geometry')\n",
    "\n",
    "# Guardar o utilizar mx_mun_transformed para tus siguientes pasos\n"
   ]
  },
  {
   "cell_type": "code",
   "execution_count": null,
   "id": "c19e5b85",
   "metadata": {},
   "outputs": [],
   "source": [
    "# Guardar el GeoDataFrame df_pivot en el path especificado\n",
    "#output_path = '/Users/pablouriarte/Mapa_Migracion_Irregular_Mexico_Fresh/1. Mapas/1. Mapas/Metodo_1/areas/municipios/municipiosshp.shp'\n",
    "#df_pivot.to_file(output_path)\n",
    "\n",
    "# Eliminar la columna \"centroide_xy\"\n",
    "#segmentos = segmentos.drop(columns=[\"centroide_xy\"])\n",
    "\n",
    "# Guardar el GeoDataFrame en el path especificado\n",
    "#output_path = \"/Users/pablouriarte/Mapa_Migracion_Irregular_Mexico_Fresh/1. Mapas/1. Mapas/Metodo_1/procesamiento de rutas/arcos/segmentos/segmentos.shp\"\n",
    "#segmentos.to_file(output_path)\n"
   ]
  },
  {
   "cell_type": "code",
   "execution_count": null,
   "id": "a254eabe",
   "metadata": {},
   "outputs": [],
   "source": [
    "df_pivot = gpd.GeoDataFrame(df_pivot, geometry='geometry')\n",
    "segmentos = gpd.GeoDataFrame(segmentos, geometry='geometry')\n",
    "\n",
    "df_pivot = df_pivot.set_crs(epsg=4326)  # Ejemplo de CRS, ajústalo según sea necesario\n",
    "segmentos = segmentos.set_crs(epsg=4326)  # Asegúrate de que el CRS sea el mismo"
   ]
  },
  {
   "cell_type": "code",
   "execution_count": null,
   "id": "108d9ef8",
   "metadata": {},
   "outputs": [],
   "source": [
    "import geopandas as gpd\n",
    "from shapely.geometry import Point\n",
    "\n",
    "# Función para invertir las coordenadas de un punto\n",
    "def invertir_coordenadas(geom):\n",
    "    if geom and geom.geom_type == 'Point':\n",
    "        return Point(geom.y, geom.x)\n",
    "    return geom\n",
    "\n",
    "# Aplicar la función a la columna 'geometry' de 'segmentos'\n",
    "segmentos['geometry'] = segmentos['geometry'].apply(invertir_coordenadas)\n",
    "\n",
    "# Asegurarse de que el CRS sigue siendo el mismo\n",
    "segmentos = segmentos.set_crs(epsg=4326)\n",
    "\n",
    "# Verificar los cambios\n",
    "print(segmentos.head())\n",
    "\n",
    "# Plotear los GeoDataFrames con coordenadas corregidas\n",
    "fig, ax = plt.subplots(1, 1, figsize=(10, 10))\n",
    "df_pivot.plot(ax=ax, color='blue', edgecolor='black', alpha=0.5, label='DF Pivot')\n",
    "segmentos.plot(ax=ax, color='red', edgecolor='black', alpha=0.5, label='Segmentos')\n",
    "plt.legend()\n",
    "plt.title('Map of DF Pivot and Segmentos')\n",
    "plt.xlabel('Longitude')\n",
    "plt.ylabel('Latitude')\n",
    "plt.axis('equal')\n",
    "plt.show()\n"
   ]
  },
  {
   "cell_type": "code",
   "execution_count": null,
   "id": "c93c6dff",
   "metadata": {},
   "outputs": [],
   "source": [
    "# Realizamos la unión espacial\n",
    "joined = gpd.sjoin(segmentos, df_pivot[['geometry', 'Corrupcion', 'CrimenOrg', 'Violencia']], how='left', op='within')\n",
    "\n",
    "# Verificamos los resultados\n",
    "print(joined.head())\n"
   ]
  },
  {
   "cell_type": "code",
   "execution_count": null,
   "id": "a6202934",
   "metadata": {},
   "outputs": [],
   "source": [
    "# Asegurarse de que los GeoDataFrames tienen el mismo CRS\n",
    "df_pivot = df_pivot.to_crs(epsg=4326)\n",
    "arc_gdf = arc_gdf.to_crs(epsg=4326)\n",
    "\n",
    "# Crear una lista para almacenar las nuevas filas\n",
    "poligonos_intersectados = []\n",
    "\n",
    "# Iterar a través de cada arco en arc_gdf\n",
    "for index, row in arc_gdf.iterrows():\n",
    "    arc_line = row['geometry']\n",
    "    arc_id = row['Arc']\n",
    "    \n",
    "    # Encontrar los polígonos que intersectan con la línea del arco\n",
    "    intersecting_polygons = df_pivot[df_pivot.intersects(arc_line)]\n",
    "    \n",
    "    for _, poly_row in intersecting_polygons.iterrows():\n",
    "        # Crear una nueva fila para cada polígono intersectado\n",
    "        nuevo_poligono = {\n",
    "            'Arc': arc_id,\n",
    "            'Municipio': poly_row['Municipio'],\n",
    "            'Corrupcion': poly_row['Corrupcion'],\n",
    "            'CrimenOrg': poly_row['CrimenOrg'],\n",
    "            'Violencia': poly_row['Violencia'],\n",
    "            'geometry': poly_row['geometry']\n",
    "        }\n",
    "        # Agregar el nuevo polígono a la lista\n",
    "        poligonos_intersectados.append(nuevo_poligono)\n",
    "\n",
    "# Crear un DataFrame con las nuevas filas\n",
    "poligonos_intersectados_df = pd.DataFrame(poligonos_intersectados)\n",
    "poligonos_intersectados_gdf = gpd.GeoDataFrame(poligonos_intersectados_df, geometry='geometry', crs='EPSG:4326')\n",
    "\n",
    "# Verificar los resultados\n",
    "print(poligonos_intersectados_gdf.head())\n"
   ]
  },
  {
   "cell_type": "code",
   "execution_count": null,
   "id": "85210d03",
   "metadata": {},
   "outputs": [],
   "source": [
    "# Asegurarse de que el GeoDataFrame esté en un CRS proyectado antes de calcular los centroides\n",
    "poligonos_intersectados_gdf = poligonos_intersectados_gdf.to_crs(epsg=3857)\n",
    "\n",
    "# Convertir los polígonos a sus centroides\n",
    "poligonos_intersectados_gdf['geometry'] = poligonos_intersectados_gdf.centroid\n",
    "\n",
    "# Volver al CRS original\n",
    "poligonos_intersectados_gdf = poligonos_intersectados_gdf.to_crs(epsg=4326)\n",
    "\n"
   ]
  },
  {
   "cell_type": "code",
   "execution_count": null,
   "id": "07b11c8c",
   "metadata": {},
   "outputs": [],
   "source": [
    "poligonos_intersectados_gdf"
   ]
  },
  {
   "cell_type": "code",
   "execution_count": null,
   "id": "c94ea702",
   "metadata": {},
   "outputs": [],
   "source": [
    "# Asegurarse de que ambos GeoDataFrames tengan el mismo CRS (EPSG:4326)\n",
    "joined = joined.to_crs(epsg=4326)\n",
    "poligonos_intersectados_gdf = poligonos_intersectados_gdf.to_crs(epsg=4326)\n",
    "\n",
    "# Primero, unimos joined con df_pivot para agregar las columnas Corrupcion, CrimenOrg, y Violencia\n",
    "joined = gpd.sjoin(joined, df_pivot[['geometry', 'Corrupcion', 'CrimenOrg', 'Violencia']], how='left', op='within')\n",
    "\n",
    "# Eliminar columna index_right agregada por la unión espacial\n",
    "joined = joined.drop(columns=['index_right'])\n",
    "\n",
    "# Añadir columna 'Tipo' a poligonos_intersectados_gdf\n",
    "poligonos_intersectados_gdf['Tipo'] = 'intermedio'\n",
    "\n",
    "# Combinar los dos GeoDataFrames\n",
    "combined_gdf = pd.concat([joined, poligonos_intersectados_gdf], ignore_index=True)\n",
    "\n",
    "# Ordenar las filas dentro de cada arco\n",
    "def ordenar_filas_por_arco(df):\n",
    "    sorted_dfs = []\n",
    "    for arc_id in df['Arc'].unique():\n",
    "        arc_df = df[df['Arc'] == arc_id]\n",
    "        # Ordenar por tipo (origen primero, intermedio después, destino al final)\n",
    "        arc_df = arc_df.sort_values(by=['Tipo', 'geometry'], key=lambda col: col.map({'origen': 0, 'intermedio': 1, 'destino': 2}))\n",
    "        sorted_dfs.append(arc_df)\n",
    "    return pd.concat(sorted_dfs, ignore_index=True)\n",
    "\n",
    "# Ordenar el GeoDataFrame combinado\n",
    "combined_gdf_sorted = ordenar_filas_por_arco(combined_gdf)\n",
    "\n",
    "# Copiar valores originales de 'distance_t' y 'duration_t' a todas las filas del mismo arco\n",
    "for arc_id in combined_gdf_sorted['Arc'].unique():\n",
    "    arc_df = combined_gdf_sorted[combined_gdf_sorted['Arc'] == arc_id]\n",
    "    distance_value = arc_df[arc_df['Tipo'] == 'origen']['distance_t'].values[0]\n",
    "    duration_value = arc_df[arc_df['Tipo'] == 'origen']['duration_t'].values[0]\n",
    "    combined_gdf_sorted.loc[combined_gdf_sorted['Arc'] == arc_id, 'distance_t'] = distance_value\n",
    "    combined_gdf_sorted.loc[combined_gdf_sorted['Arc'] == arc_id, 'duration_t'] = duration_value\n",
    "\n"
   ]
  },
  {
   "cell_type": "code",
   "execution_count": null,
   "id": "7c6ad49a",
   "metadata": {},
   "outputs": [],
   "source": [
    "# Eliminar filas intermedias con el mismo municipio que el de origen o destino\n",
    "def eliminar_intermedios_duplicados(df):\n",
    "    filtered_dfs = []\n",
    "    for arc_id in df['Arc'].unique():\n",
    "        arc_df = df[df['Arc'] == arc_id]\n",
    "        municipios_origen_destino = arc_df[arc_df['Tipo'].isin(['origen', 'destino'])]['Municipio'].unique()\n",
    "        arc_df = arc_df[~((arc_df['Tipo'] == 'intermedio') & (arc_df['Municipio'].isin(municipios_origen_destino)))]\n",
    "        filtered_dfs.append(arc_df)\n",
    "    return pd.concat(filtered_dfs, ignore_index=True)\n",
    "\n",
    "combined_gdf_sorted = eliminar_intermedios_duplicados(combined_gdf_sorted)\n",
    "\n",
    "# Verificar los resultados\n",
    "print(combined_gdf_sorted.head(20))"
   ]
  },
  {
   "cell_type": "code",
   "execution_count": null,
   "id": "b15dbb58",
   "metadata": {},
   "outputs": [],
   "source": [
    "# Eliminar las columnas 'dur_ori' y 'dur_des'\n",
    "#combined_gdf_sorted = combined_gdf_sorted.drop(columns=['dur_ori', 'dur_des'])\n",
    "\n",
    "# Verificar los resultados\n",
    "#print(combined_gdf_sorted.head(20))"
   ]
  },
  {
   "cell_type": "code",
   "execution_count": null,
   "id": "322ab897",
   "metadata": {},
   "outputs": [],
   "source": [
    "combined_gdf_sorted"
   ]
  },
  {
   "cell_type": "code",
   "execution_count": null,
   "id": "e1cb9755",
   "metadata": {},
   "outputs": [],
   "source": [
    "# Guardar el resultado en un archivo para su posterior análisis\n",
    "#combined_gdf_sorted.to_file(\"/Users/pablouriarte/Mapa_Migracion_Irregular_Mexico_Fresh/1. Mapas/1. Mapas/Metodo_1/procesamiento de rutas/arcos/segmentos/segmentos.shp\")"
   ]
  },
  {
   "cell_type": "code",
   "execution_count": null,
   "id": "fda3f6a1",
   "metadata": {},
   "outputs": [],
   "source": [
    "import pandas as pd\n",
    "import geopandas as gpd\n",
    "import googlemaps\n",
    "from shapely.geometry import Point\n",
    "import time"
   ]
  },
  {
   "cell_type": "code",
   "execution_count": null,
   "id": "a71c98ba",
   "metadata": {},
   "outputs": [],
   "source": [
    "# Configuración de API Key\n",
    "api_key = 'xxx'"
   ]
  },
  {
   "cell_type": "code",
   "execution_count": null,
   "id": "e9bf216a",
   "metadata": {},
   "outputs": [],
   "source": [
    "# Definir una función para calcular la distancia y duración entre dos puntos\n",
    "def calcular_distancia_duracion(origen, destino):\n",
    "    try:\n",
    "        # Invertir coordenadas: latitud primero, longitud segundo\n",
    "        origen_coords = (origen.y, origen.x)\n",
    "        destino_coords = (destino.y, destino.x)\n",
    "        \n",
    "        result = gmaps.distance_matrix(origins=[origen_coords], destinations=[destino_coords], mode='walking')\n",
    "        if result['rows'][0]['elements'][0]['status'] == 'OK':\n",
    "            distancia = result['rows'][0]['elements'][0]['distance']['value'] / 1000  # Convertir metros a kilómetros\n",
    "            duracion = result['rows'][0]['elements'][0]['duration']['value'] / 60  # Convertir segundos a minutos\n",
    "            return distancia, duracion\n",
    "        else:\n",
    "            print(f\"Error en la API de Google Maps para {origen_coords} a {destino_coords}: {result['rows'][0]['elements'][0]['status']}\")\n",
    "            return None, None\n",
    "    except Exception as e:\n",
    "        print(f\"Excepción al consultar la API de Google Maps: {e}\")\n",
    "        return None, None\n",
    "\n",
    "# Inicializar nuevas columnas en el DataFrame\n",
    "combined_gdf_sorted['dist_ori'] = None\n",
    "combined_gdf_sorted['dist_des'] = None\n",
    "combined_gdf_sorted['dur_ori'] = None\n",
    "combined_gdf_sorted['dur_des'] = None\n",
    "\n",
    "# Iterar a través de cada arco y calcular las distancias y duraciones\n",
    "for arc_id in combined_gdf_sorted['Arc'].unique():\n",
    "    arc_df = combined_gdf_sorted[combined_gdf_sorted['Arc'] == arc_id]\n",
    "    \n",
    "    origen = arc_df[arc_df['Tipo'] == 'origen']['geometry'].values[0]\n",
    "    destino = arc_df[arc_df['Tipo'] == 'destino']['geometry'].values[0]\n",
    "    \n",
    "    for index, row in arc_df.iterrows():\n",
    "        punto_intermedio = row['geometry']\n",
    "        \n",
    "        dist_ori, dur_ori = calcular_distancia_duracion(origen, punto_intermedio)\n",
    "        dist_des, dur_des = calcular_distancia_duracion(destino, punto_intermedio)\n",
    "        \n",
    "        combined_gdf_sorted.at[index, 'dist_ori'] = dist_ori\n",
    "        combined_gdf_sorted.at[index, 'dist_des'] = dist_des\n",
    "        combined_gdf_sorted.at[index, 'dur_ori'] = dur_ori\n",
    "        combined_gdf_sorted.at[index, 'dur_des'] = dur_des\n",
    "\n",
    "        # Esperar un momento para evitar exceder la cuota de la API\n",
    "        time.sleep(0.1)\n",
    "\n",
    "# Convertir las columnas a tipo float\n",
    "combined_gdf_sorted['dist_ori'] = combined_gdf_sorted['dist_ori'].astype(float)\n",
    "combined_gdf_sorted['dist_des'] = combined_gdf_sorted['dist_des'].astype(float)\n",
    "combined_gdf_sorted['dur_ori'] = combined_gdf_sorted['dur_ori'].astype(float)\n",
    "combined_gdf_sorted['dur_des'] = combined_gdf_sorted['dur_des'].astype(float)\n",
    "\n",
    "# Verificar los resultados\n",
    "print(combined_gdf_sorted.head(20))\n"
   ]
  },
  {
   "cell_type": "code",
   "execution_count": null,
   "id": "8a0105a1",
   "metadata": {},
   "outputs": [],
   "source": [
    "# Asegurarse de que las columnas tienen el mismo nombre antes de la combinación\n",
    "#values_df.rename(columns={'ciudad': 'Ciudad'}, inplace=True)\n",
    "\n",
    "# Realizar la combinación basada en la columna 'Ciudad'\n",
    "#combined_gdf_sorted = combined_gdf_sorted.merge(values_df[['Ciudad', 'inm_30km', 'sc_30km']], on='Ciudad', how='left')\n",
    "\n",
    "# Verificar los resultados\n",
    "#print(combined_gdf_sorted.head(20))"
   ]
  },
  {
   "cell_type": "code",
   "execution_count": null,
   "id": "5076db24",
   "metadata": {},
   "outputs": [],
   "source": [
    "# Guardar el resultado en un archivo para su posterior análisis\n",
    "#combined_gdf_sorted.to_file(\"/Users/pablouriarte/Mapa_Migracion_Irregular_Mexico_Fresh/1. Mapas/1. Mapas/Metodo_1/procesamiento de rutas/arcos/segmentos/segmentos.shp\")"
   ]
  },
  {
   "cell_type": "code",
   "execution_count": 5,
   "id": "aa4564c0",
   "metadata": {},
   "outputs": [
    {
     "data": {
      "text/html": [
       "<div>\n",
       "<style scoped>\n",
       "    .dataframe tbody tr th:only-of-type {\n",
       "        vertical-align: middle;\n",
       "    }\n",
       "\n",
       "    .dataframe tbody tr th {\n",
       "        vertical-align: top;\n",
       "    }\n",
       "\n",
       "    .dataframe thead th {\n",
       "        text-align: right;\n",
       "    }\n",
       "</style>\n",
       "<table border=\"1\" class=\"dataframe\">\n",
       "  <thead>\n",
       "    <tr style=\"text-align: right;\">\n",
       "      <th></th>\n",
       "      <th>Arc</th>\n",
       "      <th>Ciudad</th>\n",
       "      <th>Tipo</th>\n",
       "      <th>Municipio</th>\n",
       "      <th>distancia_</th>\n",
       "      <th>duration_t</th>\n",
       "      <th>Corrupcion</th>\n",
       "      <th>CrimenOrg</th>\n",
       "      <th>crimen</th>\n",
       "      <th>dist_ori</th>\n",
       "      <th>dist_des</th>\n",
       "      <th>inm_30km</th>\n",
       "      <th>sc_30km</th>\n",
       "      <th>dur_ori</th>\n",
       "      <th>dur_des</th>\n",
       "      <th>institucio</th>\n",
       "      <th>vulnerabil</th>\n",
       "      <th>vulnerab_1</th>\n",
       "      <th>vulnerab_2</th>\n",
       "      <th>geometry</th>\n",
       "    </tr>\n",
       "  </thead>\n",
       "  <tbody>\n",
       "    <tr>\n",
       "      <th>0</th>\n",
       "      <td>PG1529-PG1530</td>\n",
       "      <td>Suchiate, Chiapas</td>\n",
       "      <td>origen</td>\n",
       "      <td>Suchiate</td>\n",
       "      <td>35.6</td>\n",
       "      <td>488.0</td>\n",
       "      <td>0.0</td>\n",
       "      <td>4.0</td>\n",
       "      <td>7.0</td>\n",
       "      <td>0.000</td>\n",
       "      <td>35.561</td>\n",
       "      <td>0.0</td>\n",
       "      <td>3.0</td>\n",
       "      <td>0.000000</td>\n",
       "      <td>472.916667</td>\n",
       "      <td>3.0</td>\n",
       "      <td>0.000359</td>\n",
       "      <td>0.0</td>\n",
       "      <td>0.000359</td>\n",
       "      <td>POINT (2552391.749 1704801.661)</td>\n",
       "    </tr>\n",
       "    <tr>\n",
       "      <th>1</th>\n",
       "      <td>PG1529-PG1530</td>\n",
       "      <td>0</td>\n",
       "      <td>intermedio</td>\n",
       "      <td>Frontera Hidalgo</td>\n",
       "      <td>35.6</td>\n",
       "      <td>488.0</td>\n",
       "      <td>0.0</td>\n",
       "      <td>1.0</td>\n",
       "      <td>1.0</td>\n",
       "      <td>18.038</td>\n",
       "      <td>22.858</td>\n",
       "      <td>0.0</td>\n",
       "      <td>0.0</td>\n",
       "      <td>245.083333</td>\n",
       "      <td>305.783333</td>\n",
       "      <td>0.0</td>\n",
       "      <td>0.000000</td>\n",
       "      <td>0.0</td>\n",
       "      <td>0.000000</td>\n",
       "      <td>POINT (2554242.062 1718959.437)</td>\n",
       "    </tr>\n",
       "  </tbody>\n",
       "</table>\n",
       "</div>"
      ],
      "text/plain": [
       "             Arc             Ciudad        Tipo         Municipio  distancia_  \\\n",
       "0  PG1529-PG1530  Suchiate, Chiapas      origen          Suchiate        35.6   \n",
       "1  PG1529-PG1530                  0  intermedio  Frontera Hidalgo        35.6   \n",
       "\n",
       "   duration_t  Corrupcion  CrimenOrg  crimen  dist_ori  dist_des  inm_30km  \\\n",
       "0       488.0         0.0        4.0     7.0     0.000    35.561       0.0   \n",
       "1       488.0         0.0        1.0     1.0    18.038    22.858       0.0   \n",
       "\n",
       "   sc_30km     dur_ori     dur_des  institucio  vulnerabil  vulnerab_1  \\\n",
       "0      3.0    0.000000  472.916667         3.0    0.000359         0.0   \n",
       "1      0.0  245.083333  305.783333         0.0    0.000000         0.0   \n",
       "\n",
       "   vulnerab_2                         geometry  \n",
       "0    0.000359  POINT (2552391.749 1704801.661)  \n",
       "1    0.000000  POINT (2554242.062 1718959.437)  "
      ]
     },
     "execution_count": 5,
     "metadata": {},
     "output_type": "execute_result"
    }
   ],
   "source": [
    "segmentos = gpd.read_file('/Users/pablouriarte/Mapa_Migracion_Irregular_Mexico_Fresh/1. Mapas/1. Mapas/Metodo_1/procesamiento de rutas/arcos/segmentos/segmentos.shp').to_crs(epsg=4485)\n",
    "\n",
    "segmentos.head(2)\n"
   ]
  },
  {
   "cell_type": "code",
   "execution_count": 48,
   "id": "ffc6125b",
   "metadata": {},
   "outputs": [
    {
     "name": "stderr",
     "output_type": "stream",
     "text": [
      "/var/folders/68/6zkv8z4j4rl6ds90br2rb7ph0000gn/T/ipykernel_73377/242722420.py:1: UserWarning: Column names longer than 10 characters will be truncated when saved to ESRI Shapefile.\n",
      "  segmentos.to_file('/Users/pablouriarte/Mapa_Migracion_Irregular_Mexico_Fresh/1. Mapas/1. Mapas/Metodo_1/procesamiento de rutas/arcos/segmentos/segmentos.shp')\n"
     ]
    }
   ],
   "source": [
    "#segmentos.to_file('/Users/pablouriarte/Mapa_Migracion_Irregular_Mexico_Fresh/1. Mapas/1. Mapas/Metodo_1/procesamiento de rutas/arcos/segmentos/segmentos.shp')"
   ]
  },
  {
   "cell_type": "code",
   "execution_count": 6,
   "id": "255d3bf3",
   "metadata": {},
   "outputs": [],
   "source": [
    "# Renombrar la columna 'ciudad' en values_df a 'Ciudad'\n",
    "#values_df.rename(columns={'ciudad': 'Ciudad'}, inplace=True)\n",
    "\n",
    "# Realizar la combinación basada en la columna 'Ciudad'\n",
    "#segmentos = segmentos.merge(values_df[['Ciudad', 'codigo_unico']], on='Ciudad', how='left')\n",
    "\n",
    "# Verificar los resultados\n",
    "#print(segmentos.head(20))"
   ]
  },
  {
   "cell_type": "code",
   "execution_count": 47,
   "id": "aaef8b2f",
   "metadata": {},
   "outputs": [
    {
     "data": {
      "image/png": "[encoded data removed]",
      "text/plain": [
       "<Figure size 1200x600 with 1 Axes>"
      ]
     },
     "metadata": {},
     "output_type": "display_data"
    }
   ],
   "source": [
    "import matplotlib.pyplot as plt\n",
    "\n",
    "# Define the formula as a LaTeX string with annotations for each symbol using \\mathrm instead of \\text\n",
    "formula = r\"\"\"\n",
    "$V_{\\mathrm{nod}}$: Vulnerabilidad del nodo (origen o destino).\n",
    "\n",
    "$\\sum_{i=1}^{n}$: Sumatoria sobre todos los polígonos $i$ que intersectan con el arco.\n",
    "\n",
    "$R_i$: Valor de crimen del polígono $i$.\n",
    "\n",
    "$D_{\\mathrm{nod},i}$: Distancia del nodo (origen o destino) al polígono $i$.\n",
    "\n",
    "$\\frac{D_{a}}{\\sum_{a \\in \\mathrm{Arcs}} D_{a}}$: Proporción de la distancia total del arco $a$ respecto a la distancia total de todos los arcos.\n",
    "\n",
    "$\\mathrm{Inst}_{\\mathrm{nodo}}$: Número de instituciones en el nodo (origen o destino).\n",
    "\"\"\"\n",
    "# Create a figure and axis to display the formula\n",
    "fig, ax = plt.subplots(figsize=(12, 6))  # Adjust size to fit all text\n",
    "\n",
    "# Hide the axis\n",
    "ax.axis('off')\n",
    "\n",
    "# Display the formula\n",
    "ax.text(0.5, 0.5, formula, fontsize=14, ha='center', va='center')\n",
    "\n",
    "# Show the plot\n",
    "plt.show()\n"
   ]
  },
  {
   "cell_type": "code",
   "execution_count": 53,
   "id": "7a805af7",
   "metadata": {},
   "outputs": [
    {
     "data": {
      "image/png": "[encoded data removed]",
      "text/plain": [
       "<Figure size 1200x600 with 1 Axes>"
      ]
     },
     "metadata": {},
     "output_type": "display_data"
    }
   ],
   "source": [
    "\n",
    "\n",
    "# Define the formula as a LaTeX string with annotations for each symbol using \\mathrm instead of \\text\n",
    "formula = r\"\"\"\n",
    "$V_{\\mathrm{node}}$: Vulnerability of the node (origin or destination).\n",
    "\n",
    "$\\sum_{i=1}^{n}$: Summation over all polygons $i$ that intersect with the arc.\n",
    "\n",
    "$R_i$: Crime value of polygon $i$.\n",
    "\n",
    "$D_{\\mathrm{node},i}$: Distance from the node (origin or destination) to polygon $i$.\n",
    "\n",
    "$\\frac{D_{a}}{\\sum_{a \\in \\mathrm{Arcs}} D_{a}}$: Proportion of the total distance of arc $a$ relative to the total distance of all arcs.\n",
    "\n",
    "$\\mathrm{Inst}_{\\mathrm{nodo}}$: Number of institutions at the node (origin or destination).\n",
    "\"\"\"\n",
    "# Create a figure and axis to display the formula\n",
    "fig, ax = plt.subplots(figsize=(12, 6))  # Adjust size to fit all text\n",
    "\n",
    "# Hide the axis\n",
    "ax.axis('off')\n",
    "\n",
    "# Display the formula\n",
    "ax.text(0.5, 0.5, formula, fontsize=14, ha='center', va='center')\n",
    "\n",
    "# Show the plot\n",
    "plt.show()"
   ]
  },
  {
   "cell_type": "code",
   "execution_count": 41,
   "id": "7614bbdb",
   "metadata": {},
   "outputs": [
    {
     "data": {
      "image/png": "[encoded data removed]",
      "text/plain": [
       "<Figure size 1200x200 with 1 Axes>"
      ]
     },
     "metadata": {},
     "output_type": "display_data"
    }
   ],
   "source": [
    "import matplotlib.pyplot as plt\n",
    "\n",
    "# Define the formula as a LaTeX string with proper sigma notation\n",
    "formula = r\"$V_{\\mathrm{nod}} = \\sum_{i=1}^{n} \\left( \\frac{R_i}{D_{\\mathrm{nod},i} + 1} \\right) \\times \\left( \\frac{D_a}{\\sum_{a \\in \\mathrm{Arcs}} D_a} \\right) \\times \\left( \\frac{1}{\\mathrm{Inst}_{\\mathrm{nod}} + 1} \\right)$\"\n",
    "\n",
    "\n",
    "# Create a figure and axis to display the formula\n",
    "fig, ax = plt.subplots(figsize=(12, 2))\n",
    "\n",
    "# Hide the axis\n",
    "ax.axis('off')\n",
    "\n",
    "# Display the formula\n",
    "ax.text(0.5, 0.5, formula, fontsize=20, ha='center', va='center')\n",
    "\n",
    "# Show the plot\n",
    "plt.show()\n"
   ]
  },
  {
   "cell_type": "code",
   "execution_count": 50,
   "id": "0b48887c",
   "metadata": {},
   "outputs": [
    {
     "data": {
      "text/html": [
       "<div>\n",
       "<style scoped>\n",
       "    .dataframe tbody tr th:only-of-type {\n",
       "        vertical-align: middle;\n",
       "    }\n",
       "\n",
       "    .dataframe tbody tr th {\n",
       "        vertical-align: top;\n",
       "    }\n",
       "\n",
       "    .dataframe thead th {\n",
       "        text-align: right;\n",
       "    }\n",
       "</style>\n",
       "<table border=\"1\" class=\"dataframe\">\n",
       "  <thead>\n",
       "    <tr style=\"text-align: right;\">\n",
       "      <th></th>\n",
       "      <th>Unnamed: 0</th>\n",
       "      <th>Arc</th>\n",
       "      <th>ciudad_origen</th>\n",
       "      <th>ciudad_destino</th>\n",
       "      <th>eventos_arco</th>\n",
       "      <th>geometry</th>\n",
       "      <th>distance</th>\n",
       "      <th>duration</th>\n",
       "      <th>distance_km</th>\n",
       "      <th>duration_min</th>\n",
       "    </tr>\n",
       "  </thead>\n",
       "  <tbody>\n",
       "    <tr>\n",
       "      <th>0</th>\n",
       "      <td>0</td>\n",
       "      <td>PG1529-PG1530</td>\n",
       "      <td>Suchiate, Chiapas</td>\n",
       "      <td>Tapachula, Chiapas</td>\n",
       "      <td>124475</td>\n",
       "      <td>LINESTRING (-92.23982 14.63441, -92.23938 14.6...</td>\n",
       "      <td>35.6 km</td>\n",
       "      <td>8 hours 8 mins</td>\n",
       "      <td>35.6</td>\n",
       "      <td>488</td>\n",
       "    </tr>\n",
       "    <tr>\n",
       "      <th>1</th>\n",
       "      <td>1</td>\n",
       "      <td>PG1530-PG1491</td>\n",
       "      <td>Tapachula, Chiapas</td>\n",
       "      <td>Mapastepec, Chiapas</td>\n",
       "      <td>98522</td>\n",
       "      <td>LINESTRING (-92.26123 14.90446, -92.26156 14.9...</td>\n",
       "      <td>103 km</td>\n",
       "      <td>22 hours 57 mins</td>\n",
       "      <td>103.0</td>\n",
       "      <td>1377</td>\n",
       "    </tr>\n",
       "    <tr>\n",
       "      <th>2</th>\n",
       "      <td>2</td>\n",
       "      <td>PG1491-PG1492</td>\n",
       "      <td>Mapastepec, Chiapas</td>\n",
       "      <td>Pijijiapan, Chiapas</td>\n",
       "      <td>11333</td>\n",
       "      <td>LINESTRING (-92.8986 15.44007, -92.89826 15.44...</td>\n",
       "      <td>45.3 km</td>\n",
       "      <td>10 hours 8 mins</td>\n",
       "      <td>45.3</td>\n",
       "      <td>608</td>\n",
       "    </tr>\n",
       "    <tr>\n",
       "      <th>3</th>\n",
       "      <td>3</td>\n",
       "      <td>PG1492-PG1453</td>\n",
       "      <td>Pijijiapan, Chiapas</td>\n",
       "      <td>Arriaga, Chiapas</td>\n",
       "      <td>31136</td>\n",
       "      <td>LINESTRING (-93.20811 15.68506, -93.20779 15.6...</td>\n",
       "      <td>101 km</td>\n",
       "      <td>22 hours 36 mins</td>\n",
       "      <td>101.0</td>\n",
       "      <td>1356</td>\n",
       "    </tr>\n",
       "    <tr>\n",
       "      <th>4</th>\n",
       "      <td>4</td>\n",
       "      <td>PG1453-PG1414</td>\n",
       "      <td>Arriaga, Chiapas</td>\n",
       "      <td>Chahuites, Oaxaca</td>\n",
       "      <td>19893</td>\n",
       "      <td>LINESTRING (-93.90072 16.23439, -93.90258 16.2...</td>\n",
       "      <td>36.4 km</td>\n",
       "      <td>8 hours 9 mins</td>\n",
       "      <td>36.4</td>\n",
       "      <td>489</td>\n",
       "    </tr>\n",
       "  </tbody>\n",
       "</table>\n",
       "</div>"
      ],
      "text/plain": [
       "   Unnamed: 0            Arc        ciudad_origen       ciudad_destino  \\\n",
       "0           0  PG1529-PG1530    Suchiate, Chiapas   Tapachula, Chiapas   \n",
       "1           1  PG1530-PG1491   Tapachula, Chiapas  Mapastepec, Chiapas   \n",
       "2           2  PG1491-PG1492  Mapastepec, Chiapas  Pijijiapan, Chiapas   \n",
       "3           3  PG1492-PG1453  Pijijiapan, Chiapas     Arriaga, Chiapas   \n",
       "4           4  PG1453-PG1414     Arriaga, Chiapas    Chahuites, Oaxaca   \n",
       "\n",
       "   eventos_arco                                           geometry distance  \\\n",
       "0        124475  LINESTRING (-92.23982 14.63441, -92.23938 14.6...  35.6 km   \n",
       "1         98522  LINESTRING (-92.26123 14.90446, -92.26156 14.9...   103 km   \n",
       "2         11333  LINESTRING (-92.8986 15.44007, -92.89826 15.44...  45.3 km   \n",
       "3         31136  LINESTRING (-93.20811 15.68506, -93.20779 15.6...   101 km   \n",
       "4         19893  LINESTRING (-93.90072 16.23439, -93.90258 16.2...  36.4 km   \n",
       "\n",
       "           duration  distance_km  duration_min  \n",
       "0    8 hours 8 mins         35.6           488  \n",
       "1  22 hours 57 mins        103.0          1377  \n",
       "2   10 hours 8 mins         45.3           608  \n",
       "3  22 hours 36 mins        101.0          1356  \n",
       "4    8 hours 9 mins         36.4           489  "
      ]
     },
     "execution_count": 50,
     "metadata": {},
     "output_type": "execute_result"
    }
   ],
   "source": [
    "arc_df = pd.read_csv(\"/Users/pablouriarte/Mapa_Migracion_Irregular_Mexico_Fresh/1. Mapas/1. Mapas/Metodo_1/procesamiento de rutas/arcos/arcos_rutas_a_pie.csv\")\n",
    "arc_df.head()"
   ]
  },
  {
   "cell_type": "code",
   "execution_count": 5,
   "id": "f4413bcc",
   "metadata": {},
   "outputs": [
    {
     "name": "stderr",
     "output_type": "stream",
     "text": [
      "/var/folders/68/6zkv8z4j4rl6ds90br2rb7ph0000gn/T/ipykernel_14633/1816850421.py:4: FutureWarning: The geopandas.dataset module is deprecated and will be removed in GeoPandas 1.0. You can get the original 'naturalearth_lowres' data from https://www.naturalearthdata.com/downloads/110m-cultural-vectors/.\n",
      "  world = gpd.read_file(gpd.datasets.get_path('naturalearth_lowres'))\n"
     ]
    },
    {
     "data": {
      "text/plain": [
       "<AxesSubplot:>"
      ]
     },
     "execution_count": 5,
     "metadata": {},
     "output_type": "execute_result"
    },
    {
     "data": {
      "image/png": "[encoded data removed]",
      "text/plain": [
       "<Figure size 640x480 with 1 Axes>"
      ]
     },
     "metadata": {},
     "output_type": "display_data"
    }
   ],
   "source": [
    "import geopandas as gpd\n",
    "world = gpd.read_file(gpd.datasets.get_path('naturalearth_lowres'))\n",
    "mexico = world[world.name == \"Mexico\"]\n",
    "guatemala = world[world.name == \"Guatemala\"]\n",
    "belize = world[world.name == \"Belize\"]\n",
    "mexico_geom = mexico.geometry.iloc[0]\n",
    "guatemala_geom = guatemala.geometry.iloc[0]\n",
    "belize_geom = belize.geometry.iloc[0]\n",
    "frontera_sur_guatemala = mexico_geom.intersection(guatemala_geom)\n",
    "frontera_sur_belize = mexico_geom.intersection(belize_geom)\n",
    "fronteras_sur = gpd.GeoDataFrame(geometry=[frontera_sur_guatemala, frontera_sur_belize])\n",
    "#fronteras_sur.to_file('frontera_sur_mexico.shp')\n",
    "fronteras_sur.plot()"
   ]
  },
  {
   "cell_type": "code",
   "execution_count": null,
   "id": "71c7be1c",
   "metadata": {},
   "outputs": [],
   "source": [
    "$"
   ]
  }
 ],
 "metadata": {
  "kernelspec": {
   "display_name": "Python 3 (ipykernel)",
   "language": "python",
   "name": "python3"
  },
  "language_info": {
   "codemirror_mode": {
    "name": "ipython",
    "version": 3
   },
   "file_extension": ".py",
   "mimetype": "text/x-python",
   "name": "python",
   "nbconvert_exporter": "python",
   "pygments_lexer": "ipython3",
   "version": "3.9.13"
  }
 },
 "nbformat": 4,
 "nbformat_minor": 5
}
