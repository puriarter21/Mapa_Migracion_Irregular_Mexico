{
 "cells": [
  {
   "cell_type": "markdown",
   "id": "06ebf608",
   "metadata": {},
   "source": [
    "# Generacion de rutas"
   ]
  },
  {
   "cell_type": "markdown",
   "id": "ff094fb3",
   "metadata": {},
   "source": [
    "## Rutas Asignadas\n",
    "\n",
    "El archivo de nodos en nuestro esquima de rutas esta compuesto por las rutas con detenciones registradas en el boletin de estadistica migratoria del INM y por los puntos de internacion terrestre mencionados en el mismo documento."
   ]
  },
  {
   "cell_type": "markdown",
   "id": "4f930ede",
   "metadata": {},
   "source": [
    "El df que contiene los puntos de internacion contempla solo a los de modalidad terrestre en la frontera Norte y Sur. Adicionalmente a los puntos que corresponden a la frontera Norte, los cuales en este ejercicio son los del final de la ruta, se les asigna un sector de la autoridad responsable en EE.UU. para la zona de cruce fronterizo correspondiente a cada punto.\n"
   ]
  },
  {
   "cell_type": "code",
   "execution_count": 1,
   "id": "a50727cb",
   "metadata": {},
   "outputs": [],
   "source": [
    "import pandas as pd\n",
    "from geopy.geocoders import Photon\n",
    "from geopy.geocoders import Nominatim\n",
    "from unidecode import unidecode\n",
    "import unidecode\n",
    "import numpy as np\n",
    "from shapely.geometry import Point, Polygon\n",
    "import geopandas as gpd"
   ]
  },
  {
   "cell_type": "code",
   "execution_count": 2,
   "id": "33f96873",
   "metadata": {},
   "outputs": [],
   "source": [
    "ruta_archivo = '/Users/pablouriarte/Documents/1. Expediente Tec de Monterrey/1.Tesis/Mapa_Migracion_Irregular_Mexico/1. Mapas/1. Mapas/Metodo_1/puntos_rutas/puntos de internacion/puntos_internacion.csv'\n",
    "\n",
    "# Cargar el archivo .xls en un DataFrame\n",
    "df_puntos_internacion = pd.read_csv(ruta_archivo)"
   ]
  },
  {
   "cell_type": "code",
   "execution_count": 3,
   "id": "21c514b4",
   "metadata": {},
   "outputs": [],
   "source": [
    "# Filtrar por valores 'FN' y 'FS' en la columna 'codigo_ruta'\n",
    "df_fronteras = df_puntos_internacion[df_puntos_internacion['codigo_ruta'].isin(['FN', 'FS'])]\n"
   ]
  },
  {
   "cell_type": "code",
   "execution_count": 4,
   "id": "c0746649",
   "metadata": {},
   "outputs": [],
   "source": [
    "# Cambiar el nombre de la columna 'edo' por 'estado'\n",
    "df_fronteras = df_fronteras.rename(columns={'edo': 'estado'})"
   ]
  },
  {
   "cell_type": "code",
   "execution_count": 10,
   "id": "52c76ae1",
   "metadata": {},
   "outputs": [],
   "source": [
    "# Agregar la columna 'detenciones' con todos los valores en 0\n",
    "df_fronteras['detenciones'] = 0\n"
   ]
  },
  {
   "cell_type": "code",
   "execution_count": 11,
   "id": "3823ec77",
   "metadata": {},
   "outputs": [
    {
     "data": {
      "text/plain": [
       "Index(['nombre', 'latitud', 'longitud', 'estado', 'tipo', 'ciudad',\n",
       "       'ID_Poligono', 'geometry', 'codigo_ruta', 'secuencia', 'codigo_unico',\n",
       "       'detenciones'],\n",
       "      dtype='object')"
      ]
     },
     "execution_count": 11,
     "metadata": {},
     "output_type": "execute_result"
    }
   ],
   "source": [
    "df_fronteras.columns.unique()"
   ]
  },
  {
   "cell_type": "code",
   "execution_count": 12,
   "id": "48e7e578",
   "metadata": {},
   "outputs": [],
   "source": [
    "ruta_archivo1 = '/Users/pablouriarte/Documents/1. Expediente Tec de Monterrey/1.Tesis/Mapa_Migracion_Irregular_Mexico/1. Mapas/1. Mapas/Metodo_1/puntos_rutas/ciudades detenciones/ciudades_detenciones_1.csv'\n",
    "\n",
    "# Cargar el archivo .xls en un DataFrame\n",
    "df_puntos_ciudades = pd.read_csv(ruta_archivo1)"
   ]
  },
  {
   "cell_type": "code",
   "execution_count": 13,
   "id": "fb820f58",
   "metadata": {},
   "outputs": [
    {
     "data": {
      "text/plain": [
       "Index(['ciudad', 'estado', 'ruta', 'detenciones', 'latitud', 'longitud',\n",
       "       'tipo', 'ID_Poligono', 'geometry', 'codigo_ruta', 'contador_xy',\n",
       "       'codigo_unico'],\n",
       "      dtype='object')"
      ]
     },
     "execution_count": 13,
     "metadata": {},
     "output_type": "execute_result"
    }
   ],
   "source": [
    "df_puntos_ciudades.columns.unique()"
   ]
  },
  {
   "cell_type": "code",
   "execution_count": 14,
   "id": "bc601ae5",
   "metadata": {},
   "outputs": [],
   "source": [
    "# Agregar la columna 'nombre' con los valores de la columna 'ciudad'\n",
    "df_puntos_ciudades['nombre'] = df_puntos_ciudades['ciudad']\n"
   ]
  },
  {
   "cell_type": "code",
   "execution_count": 15,
   "id": "5217afa5",
   "metadata": {},
   "outputs": [],
   "source": [
    "columnas_distintivas = ['nombre', 'ciudad', 'estado','detenciones', 'latitud', 'longitud', 'codigo_ruta']\n",
    "\n",
    "# Seleccionar solo las columnas deseadas de cada DataFrame\n",
    "df_puntos_ciudades_filtrado = df_puntos_ciudades[columnas_distintivas]\n",
    "df_fronteras_filtrado = df_fronteras[columnas_distintivas]\n"
   ]
  },
  {
   "cell_type": "markdown",
   "id": "bc6118a7",
   "metadata": {},
   "source": [
    "#### Concatenar los DataFrames"
   ]
  },
  {
   "cell_type": "code",
   "execution_count": 16,
   "id": "c63b3bd5",
   "metadata": {},
   "outputs": [],
   "source": [
    "# Concatenar las DataFrames filtradas\n",
    "df_concatenada = pd.concat([df_puntos_ciudades_filtrado, df_fronteras_filtrado], ignore_index=True)\n",
    "\n"
   ]
  },
  {
   "cell_type": "code",
   "execution_count": 17,
   "id": "81c52e8c",
   "metadata": {},
   "outputs": [
    {
     "data": {
      "text/plain": [
       "array(['C', 'P', 'S', 'G', 'FN', 'FS'], dtype=object)"
      ]
     },
     "execution_count": 17,
     "metadata": {},
     "output_type": "execute_result"
    }
   ],
   "source": [
    "df_concatenada['codigo_ruta'].unique()"
   ]
  },
  {
   "cell_type": "code",
   "execution_count": 18,
   "id": "48828bf5",
   "metadata": {},
   "outputs": [
    {
     "data": {
      "text/html": [
       "<div>\n",
       "<style scoped>\n",
       "    .dataframe tbody tr th:only-of-type {\n",
       "        vertical-align: middle;\n",
       "    }\n",
       "\n",
       "    .dataframe tbody tr th {\n",
       "        vertical-align: top;\n",
       "    }\n",
       "\n",
       "    .dataframe thead th {\n",
       "        text-align: right;\n",
       "    }\n",
       "</style>\n",
       "<table border=\"1\" class=\"dataframe\">\n",
       "  <thead>\n",
       "    <tr style=\"text-align: right;\">\n",
       "      <th></th>\n",
       "      <th>nombre</th>\n",
       "      <th>ciudad</th>\n",
       "      <th>estado</th>\n",
       "      <th>detenciones</th>\n",
       "      <th>latitud</th>\n",
       "      <th>longitud</th>\n",
       "      <th>codigo_ruta</th>\n",
       "    </tr>\n",
       "  </thead>\n",
       "  <tbody>\n",
       "    <tr>\n",
       "      <th>0</th>\n",
       "      <td>Aguascalientes, Aguascalientes</td>\n",
       "      <td>Aguascalientes, Aguascalientes</td>\n",
       "      <td>Aguascalientes</td>\n",
       "      <td>423</td>\n",
       "      <td>22.000000</td>\n",
       "      <td>-102.500000</td>\n",
       "      <td>C</td>\n",
       "    </tr>\n",
       "    <tr>\n",
       "      <th>1</th>\n",
       "      <td>Cosio, Aguascalientes</td>\n",
       "      <td>Cosio, Aguascalientes</td>\n",
       "      <td>Aguascalientes</td>\n",
       "      <td>98</td>\n",
       "      <td>22.370515</td>\n",
       "      <td>-102.312009</td>\n",
       "      <td>C</td>\n",
       "    </tr>\n",
       "    <tr>\n",
       "      <th>2</th>\n",
       "      <td>San Francisco de los Romo, Aguascalientes</td>\n",
       "      <td>San Francisco de los Romo, Aguascalientes</td>\n",
       "      <td>Aguascalientes</td>\n",
       "      <td>18</td>\n",
       "      <td>22.074628</td>\n",
       "      <td>-102.270713</td>\n",
       "      <td>C</td>\n",
       "    </tr>\n",
       "    <tr>\n",
       "      <th>3</th>\n",
       "      <td>Jesus Maria, Aguascalientes</td>\n",
       "      <td>Jesus Maria, Aguascalientes</td>\n",
       "      <td>Aguascalientes</td>\n",
       "      <td>20</td>\n",
       "      <td>21.934555</td>\n",
       "      <td>-102.468452</td>\n",
       "      <td>C</td>\n",
       "    </tr>\n",
       "    <tr>\n",
       "      <th>4</th>\n",
       "      <td>Tijuana, Baja California</td>\n",
       "      <td>Tijuana, Baja California</td>\n",
       "      <td>Baja California</td>\n",
       "      <td>27 568</td>\n",
       "      <td>32.531740</td>\n",
       "      <td>-117.019529</td>\n",
       "      <td>P</td>\n",
       "    </tr>\n",
       "  </tbody>\n",
       "</table>\n",
       "</div>"
      ],
      "text/plain": [
       "                                      nombre  \\\n",
       "0             Aguascalientes, Aguascalientes   \n",
       "1                      Cosio, Aguascalientes   \n",
       "2  San Francisco de los Romo, Aguascalientes   \n",
       "3                Jesus Maria, Aguascalientes   \n",
       "4                   Tijuana, Baja California   \n",
       "\n",
       "                                      ciudad           estado detenciones  \\\n",
       "0             Aguascalientes, Aguascalientes   Aguascalientes         423   \n",
       "1                      Cosio, Aguascalientes   Aguascalientes          98   \n",
       "2  San Francisco de los Romo, Aguascalientes   Aguascalientes          18   \n",
       "3                Jesus Maria, Aguascalientes   Aguascalientes          20   \n",
       "4                   Tijuana, Baja California  Baja California      27 568   \n",
       "\n",
       "     latitud    longitud codigo_ruta  \n",
       "0  22.000000 -102.500000           C  \n",
       "1  22.370515 -102.312009           C  \n",
       "2  22.074628 -102.270713           C  \n",
       "3  21.934555 -102.468452           C  \n",
       "4  32.531740 -117.019529           P  "
      ]
     },
     "execution_count": 18,
     "metadata": {},
     "output_type": "execute_result"
    }
   ],
   "source": [
    "df_concatenada.head()"
   ]
  },
  {
   "cell_type": "code",
   "execution_count": 19,
   "id": "8d403f16",
   "metadata": {},
   "outputs": [
    {
     "name": "stdout",
     "output_type": "stream",
     "text": [
      "El DataFrame ha sido guardado exitosamente en: /Users/pablouriarte/Documents/1. Expediente Tec de Monterrey/1.Tesis/Mapa_Migracion_Irregular_Mexico/1. Mapas/1. Mapas/Metodo_1/puntos_rutas/df_concatenada.csv\n"
     ]
    }
   ],
   "source": [
    "# Especifica la ruta donde deseas guardar el archivo CSV\n",
    "ruta_archivo_csv = '/Users/pablouriarte/Documents/1. Expediente Tec de Monterrey/1.Tesis/Mapa_Migracion_Irregular_Mexico/1. Mapas/1. Mapas/Metodo_1/puntos_rutas/df_concatenada.csv'\n",
    "\n",
    "# Guardar el DataFrame en el archivo CSV especificado\n",
    "df_concatenada.to_csv(ruta_archivo_csv, index=False)\n",
    "\n",
    "print(f\"El DataFrame ha sido guardado exitosamente en: {ruta_archivo_csv}\")\n"
   ]
  },
  {
   "cell_type": "markdown",
   "id": "e5775d27",
   "metadata": {},
   "source": [
    "Resultado:\n",
    "\n",
    "El archivo de nodos, contiene la informacion geodastica de las ubicaciones que corresponden a los puntos de recorrido dentro de una ruta. Estos de dividen de la siguiente manera.\n",
    "\n",
    "la columna codigo_ruta, contiene las etiquetas de los siguientes puntos:\n",
    "\n",
    "    FN: Corresponden a los puntos de internacion de la frontera norte, mas que un punto de corrido representan el final de las rutas y a traves de este punto se cruzan con los datos de los sectores USBP asignando un sector por su ubicacion en la frontera respecto a los puntos de internación FN.\n",
    "\n",
    "    FS: Representan el inicio de los recorridos, por la naturaleza porosa de la frontera sur, los puntos que la componen estan asociados con las carreteras y zonas de recorrido principales, y directamente con las ciudades de paso.\n",
    "\n",
    "\n",
    "    G = estados_ruta_golfo = ['Tabasco', 'Nuevo Leon', 'Veracruz', 'Tamaulipas']\n",
    "\n",
    "    P = estados_ruta_pacifico = ['Guerrero', 'Michoacan', 'Jalisco', 'Nayarit', 'Sinaloa', 'Sonora', 'Baja California', 'Baja California Sur','Colima']\n",
    "\n",
    "    C = estados_ruta_centro = ['San Luis Potosi','Estado de Mexico', 'Tlaxcala', 'Ciudad de Mexico', 'Puebla', 'Morelos', 'Hidalgo', 'Zacatecas', 'Durango', 'Chihuahua', 'Coahuila', 'Queretaro', 'Aguascalientes', 'Guanajuato']\n",
    "\n",
    "    S = ruta_sur = ['Chiapas', 'Oaxaca', 'Tabasco', 'Campeche', 'Quintana Roo', 'Yucatan']\n",
    "    \n",
    "    \n",
    "\n",
    "Nos sirven para dividir el pais en sectores y encontrar nuestras rutas principales por region, entendiendo la significancia en la eleccion de una region de transito sobre otra."
   ]
  },
  {
   "cell_type": "markdown",
   "id": "ab400de2",
   "metadata": {},
   "source": [
    "### Asignación etiqueta USBP a filas FN:"
   ]
  },
  {
   "cell_type": "markdown",
   "id": "08e375bf",
   "metadata": {},
   "source": [
    "### Asignacion Etiqueta Grid y Codigo Unico\n",
    "\n",
    "Se eligio el grid de cuadros de -7 por lado, ayudandonos a identificar las principales zonas de paso y una composición de combinaciones de rutas mas realista.\n",
    "\n",
    "Al "
   ]
  },
  {
   "cell_type": "code",
   "execution_count": 30,
   "id": "ce74304d",
   "metadata": {},
   "outputs": [],
   "source": [
    "ruta_archivo2 = '/Users/pablouriarte/Documents/1. Expediente Tec de Monterrey/1.Tesis/Mapa_Migracion_Irregular_Mexico/1. Mapas/1. Mapas/Metodo_1/puntos_rutas/df_concatenada.csv'\n",
    "\n",
    "# Cargar el archivo .xls en un DataFrame\n",
    "df_concatenada = pd.read_csv(ruta_archivo2)"
   ]
  },
  {
   "cell_type": "code",
   "execution_count": 31,
   "id": "93188dc8",
   "metadata": {},
   "outputs": [
    {
     "name": "stdout",
     "output_type": "stream",
     "text": [
      "  ID_Poligon                                           geometry\n",
      "0        PG1  POLYGON ((-120.00000 10.00000, -119.30000 10.0...\n",
      "1        PG2  POLYGON ((-120.00000 10.70000, -119.30000 10.7...\n",
      "2        PG3  POLYGON ((-120.00000 11.40000, -119.30000 11.4...\n",
      "3        PG4  POLYGON ((-120.00000 12.10000, -119.30000 12.1...\n",
      "4        PG5  POLYGON ((-120.00000 12.80000, -119.30000 12.8...\n"
     ]
    }
   ],
   "source": [
    "# Ruta al archivo Shapefile\n",
    "ruta_shp = '/Users/pablouriarte/Documents/1. Expediente Tec de Monterrey/1.Tesis/Mapa_Migracion_Irregular_Mexico/1. Mapas/2. arcgis(general)/grids/grid7x7/grid_punto7x7.shp'\n",
    "\n",
    "# Leer el Shapefile en un GeoDataFrame\n",
    "grid = gpd.read_file(ruta_shp)\n",
    "\n",
    "# Verificar el contenido\n",
    "print(grid.head())"
   ]
  },
  {
   "cell_type": "code",
   "execution_count": 32,
   "id": "e7bce414",
   "metadata": {},
   "outputs": [
    {
     "data": {
      "text/html": [
       "<div>\n",
       "<style scoped>\n",
       "    .dataframe tbody tr th:only-of-type {\n",
       "        vertical-align: middle;\n",
       "    }\n",
       "\n",
       "    .dataframe tbody tr th {\n",
       "        vertical-align: top;\n",
       "    }\n",
       "\n",
       "    .dataframe thead th {\n",
       "        text-align: right;\n",
       "    }\n",
       "</style>\n",
       "<table border=\"1\" class=\"dataframe\">\n",
       "  <thead>\n",
       "    <tr style=\"text-align: right;\">\n",
       "      <th></th>\n",
       "      <th>nombre</th>\n",
       "      <th>ciudad</th>\n",
       "      <th>estado</th>\n",
       "      <th>detenciones</th>\n",
       "      <th>latitud</th>\n",
       "      <th>longitud</th>\n",
       "      <th>codigo_ruta</th>\n",
       "    </tr>\n",
       "  </thead>\n",
       "  <tbody>\n",
       "    <tr>\n",
       "      <th>0</th>\n",
       "      <td>Aguascalientes, Aguascalientes</td>\n",
       "      <td>Aguascalientes, Aguascalientes</td>\n",
       "      <td>Aguascalientes</td>\n",
       "      <td>423</td>\n",
       "      <td>22.000000</td>\n",
       "      <td>-102.500000</td>\n",
       "      <td>C</td>\n",
       "    </tr>\n",
       "    <tr>\n",
       "      <th>1</th>\n",
       "      <td>Cosio, Aguascalientes</td>\n",
       "      <td>Cosio, Aguascalientes</td>\n",
       "      <td>Aguascalientes</td>\n",
       "      <td>98</td>\n",
       "      <td>22.370515</td>\n",
       "      <td>-102.312009</td>\n",
       "      <td>C</td>\n",
       "    </tr>\n",
       "    <tr>\n",
       "      <th>2</th>\n",
       "      <td>San Francisco de los Romo, Aguascalientes</td>\n",
       "      <td>San Francisco de los Romo, Aguascalientes</td>\n",
       "      <td>Aguascalientes</td>\n",
       "      <td>18</td>\n",
       "      <td>22.074628</td>\n",
       "      <td>-102.270713</td>\n",
       "      <td>C</td>\n",
       "    </tr>\n",
       "    <tr>\n",
       "      <th>3</th>\n",
       "      <td>Jesus Maria, Aguascalientes</td>\n",
       "      <td>Jesus Maria, Aguascalientes</td>\n",
       "      <td>Aguascalientes</td>\n",
       "      <td>20</td>\n",
       "      <td>21.934555</td>\n",
       "      <td>-102.468452</td>\n",
       "      <td>C</td>\n",
       "    </tr>\n",
       "    <tr>\n",
       "      <th>4</th>\n",
       "      <td>Tijuana, Baja California</td>\n",
       "      <td>Tijuana, Baja California</td>\n",
       "      <td>Baja California</td>\n",
       "      <td>27 568</td>\n",
       "      <td>32.531740</td>\n",
       "      <td>-117.019529</td>\n",
       "      <td>P</td>\n",
       "    </tr>\n",
       "    <tr>\n",
       "      <th>...</th>\n",
       "      <td>...</td>\n",
       "      <td>...</td>\n",
       "      <td>...</td>\n",
       "      <td>...</td>\n",
       "      <td>...</td>\n",
       "      <td>...</td>\n",
       "      <td>...</td>\n",
       "    </tr>\n",
       "    <tr>\n",
       "      <th>419</th>\n",
       "      <td>Carmen Xhan (terrestre)</td>\n",
       "      <td>Carmen Xhan , Chiapas</td>\n",
       "      <td>Chiapas</td>\n",
       "      <td>0</td>\n",
       "      <td>16.044149</td>\n",
       "      <td>-91.748928</td>\n",
       "      <td>FS</td>\n",
       "    </tr>\n",
       "    <tr>\n",
       "      <th>420</th>\n",
       "      <td>Tijuana, Chaparral (terrestre) 6</td>\n",
       "      <td>Tijuana, Baja California</td>\n",
       "      <td>Baja California</td>\n",
       "      <td>0</td>\n",
       "      <td>32.541079</td>\n",
       "      <td>-117.034746</td>\n",
       "      <td>FN</td>\n",
       "    </tr>\n",
       "    <tr>\n",
       "      <th>421</th>\n",
       "      <td>Frontera Corozal (terrestre)</td>\n",
       "      <td>Frontera Corozal , Chiapas</td>\n",
       "      <td>Chiapas</td>\n",
       "      <td>0</td>\n",
       "      <td>16.817157</td>\n",
       "      <td>-90.883129</td>\n",
       "      <td>FS</td>\n",
       "    </tr>\n",
       "    <tr>\n",
       "      <th>422</th>\n",
       "      <td>Tenosique, El Ceibo (terrestre)</td>\n",
       "      <td>Tenosique, Tabasco</td>\n",
       "      <td>Tabasco</td>\n",
       "      <td>0</td>\n",
       "      <td>17.263141</td>\n",
       "      <td>-90.994679</td>\n",
       "      <td>FS</td>\n",
       "    </tr>\n",
       "    <tr>\n",
       "      <th>423</th>\n",
       "      <td>Chetumal, Subteniente López (terrestre)</td>\n",
       "      <td>Chetumal, Quintana Roo</td>\n",
       "      <td>Quintana Roo</td>\n",
       "      <td>0</td>\n",
       "      <td>18.498656</td>\n",
       "      <td>-88.294400</td>\n",
       "      <td>FS</td>\n",
       "    </tr>\n",
       "  </tbody>\n",
       "</table>\n",
       "<p>424 rows × 7 columns</p>\n",
       "</div>"
      ],
      "text/plain": [
       "                                        nombre  \\\n",
       "0               Aguascalientes, Aguascalientes   \n",
       "1                        Cosio, Aguascalientes   \n",
       "2    San Francisco de los Romo, Aguascalientes   \n",
       "3                  Jesus Maria, Aguascalientes   \n",
       "4                     Tijuana, Baja California   \n",
       "..                                         ...   \n",
       "419                    Carmen Xhan (terrestre)   \n",
       "420           Tijuana, Chaparral (terrestre) 6   \n",
       "421               Frontera Corozal (terrestre)   \n",
       "422            Tenosique, El Ceibo (terrestre)   \n",
       "423    Chetumal, Subteniente López (terrestre)   \n",
       "\n",
       "                                        ciudad           estado detenciones  \\\n",
       "0               Aguascalientes, Aguascalientes   Aguascalientes         423   \n",
       "1                        Cosio, Aguascalientes   Aguascalientes          98   \n",
       "2    San Francisco de los Romo, Aguascalientes   Aguascalientes          18   \n",
       "3                  Jesus Maria, Aguascalientes   Aguascalientes          20   \n",
       "4                     Tijuana, Baja California  Baja California      27 568   \n",
       "..                                         ...              ...         ...   \n",
       "419                      Carmen Xhan , Chiapas          Chiapas           0   \n",
       "420                   Tijuana, Baja California  Baja California           0   \n",
       "421                 Frontera Corozal , Chiapas          Chiapas           0   \n",
       "422                         Tenosique, Tabasco          Tabasco           0   \n",
       "423                     Chetumal, Quintana Roo     Quintana Roo           0   \n",
       "\n",
       "       latitud    longitud codigo_ruta  \n",
       "0    22.000000 -102.500000           C  \n",
       "1    22.370515 -102.312009           C  \n",
       "2    22.074628 -102.270713           C  \n",
       "3    21.934555 -102.468452           C  \n",
       "4    32.531740 -117.019529           P  \n",
       "..         ...         ...         ...  \n",
       "419  16.044149  -91.748928          FS  \n",
       "420  32.541079 -117.034746          FN  \n",
       "421  16.817157  -90.883129          FS  \n",
       "422  17.263141  -90.994679          FS  \n",
       "423  18.498656  -88.294400          FS  \n",
       "\n",
       "[424 rows x 7 columns]"
      ]
     },
     "execution_count": 32,
     "metadata": {},
     "output_type": "execute_result"
    }
   ],
   "source": [
    "df_concatenada"
   ]
  },
  {
   "cell_type": "code",
   "execution_count": 33,
   "id": "3faff762",
   "metadata": {},
   "outputs": [],
   "source": [
    "# Asegúrate de que 'df_concatenada' tenga las columnas 'latitud' y 'longitud'\n",
    "df_concatenada['geometry'] = [Point(x, y) for x, y in zip(df_concatenada['longitud'], df_concatenada['latitud'])]\n",
    "gdf_concatenada = gpd.GeoDataFrame(df_concatenada, geometry='geometry')\n"
   ]
  },
  {
   "cell_type": "code",
   "execution_count": 34,
   "id": "ababe021",
   "metadata": {},
   "outputs": [],
   "source": [
    "# Asumiendo que 'grid' es tu GeoDataFrame de polígonos y ya está cargado y tiene un CRS definido\n",
    "gdf_concatenada.crs = grid.crs\n"
   ]
  },
  {
   "cell_type": "code",
   "execution_count": 35,
   "id": "1638594e",
   "metadata": {},
   "outputs": [
    {
     "name": "stderr",
     "output_type": "stream",
     "text": [
      "/Users/pablouriarte/opt/anaconda3/lib/python3.9/site-packages/IPython/core/interactiveshell.py:3377: FutureWarning: The `op` parameter is deprecated and will be removed in a future release. Please use the `predicate` parameter instead.\n",
      "  if (await self.run_code(code, result,  async_=asy)):\n"
     ]
    }
   ],
   "source": [
    "# Realiza la unión espacial usando sjoin\n",
    "point_in_poly = gpd.sjoin(gdf_concatenada, grid, how='left', op='within')\n"
   ]
  },
  {
   "cell_type": "code",
   "execution_count": 36,
   "id": "e7a0d5e1",
   "metadata": {},
   "outputs": [
    {
     "name": "stdout",
     "output_type": "stream",
     "text": [
      "Index(['nombre', 'ciudad', 'estado', 'detenciones', 'latitud', 'longitud',\n",
      "       'codigo_ruta', 'geometry', 'index_right', 'ID_Poligon'],\n",
      "      dtype='object')\n"
     ]
    }
   ],
   "source": [
    "# Verificar si la columna 'ID_Poligono' está presente después del sjoin\n",
    "print(point_in_poly.columns)\n"
   ]
  },
  {
   "cell_type": "code",
   "execution_count": 37,
   "id": "03069c9a",
   "metadata": {},
   "outputs": [],
   "source": [
    "# Ordenar por 'ID_Poligono' y 'longitud'\n",
    "point_in_poly.sort_values(by=['ID_Poligon', 'longitud'], inplace=True)\n",
    "\n",
    "# Crear la columna 'secuencia'\n",
    "point_in_poly['secuencia'] = point_in_poly.groupby('ID_Poligon').cumcount() + 1\n",
    "\n",
    "# Seleccionar las columnas relevantes, si 'ID_Poligono' existe\n",
    "df_concatenada_final = point_in_poly[['nombre', 'ciudad', 'estado','detenciones', 'latitud', 'longitud', 'codigo_ruta', 'ID_Poligon', 'secuencia']]\n"
   ]
  },
  {
   "cell_type": "code",
   "execution_count": 38,
   "id": "0b532b4c",
   "metadata": {},
   "outputs": [
    {
     "name": "stdout",
     "output_type": "stream",
     "text": [
      "    codigo_ruta ID_Poligon  secuencia codigo_unico\n",
      "114           P     PG1027          1   P-PG1027-1\n",
      "144           P     PG1029          1   P-PG1029-1\n",
      "146           P     PG1030          1   P-PG1030-1\n",
      "105           C     PG1031          1   C-PG1031-1\n",
      "104           C     PG1031          2   C-PG1031-2\n"
     ]
    },
    {
     "name": "stderr",
     "output_type": "stream",
     "text": [
      "/var/folders/68/6zkv8z4j4rl6ds90br2rb7ph0000gn/T/ipykernel_60971/361358016.py:4: SettingWithCopyWarning: \n",
      "A value is trying to be set on a copy of a slice from a DataFrame.\n",
      "Try using .loc[row_indexer,col_indexer] = value instead\n",
      "\n",
      "See the caveats in the documentation: https://pandas.pydata.org/pandas-docs/stable/user_guide/indexing.html#returning-a-view-versus-a-copy\n",
      "  df_concatenada_final['codigo_unico'] = df_concatenada_final['codigo_ruta'] + \"-\" + df_concatenada_final['ID_Poligon'] + \"-\" + df_concatenada_final['secuencia'].astype(str)\n"
     ]
    }
   ],
   "source": [
    "# Asegúrate de que el DataFrame 'point_in_poly' tiene las columnas 'codigo_ruta', 'ID_Poligono' y 'secuencia'\n",
    "\n",
    "# Generar la columna 'codigo_unico' mediante la concatenación de las columnas\n",
    "df_concatenada_final['codigo_unico'] = df_concatenada_final['codigo_ruta'] + \"-\" + df_concatenada_final['ID_Poligon'] + \"-\" + df_concatenada_final['secuencia'].astype(str)\n",
    "\n",
    "# Verificar el resultado\n",
    "print(df_concatenada_final[['codigo_ruta', 'ID_Poligon', 'secuencia', 'codigo_unico']].head())\n"
   ]
  },
  {
   "cell_type": "code",
   "execution_count": 39,
   "id": "0a8953bc",
   "metadata": {},
   "outputs": [
    {
     "data": {
      "text/html": [
       "<div>\n",
       "<style scoped>\n",
       "    .dataframe tbody tr th:only-of-type {\n",
       "        vertical-align: middle;\n",
       "    }\n",
       "\n",
       "    .dataframe tbody tr th {\n",
       "        vertical-align: top;\n",
       "    }\n",
       "\n",
       "    .dataframe thead th {\n",
       "        text-align: right;\n",
       "    }\n",
       "</style>\n",
       "<table border=\"1\" class=\"dataframe\">\n",
       "  <thead>\n",
       "    <tr style=\"text-align: right;\">\n",
       "      <th></th>\n",
       "      <th>nombre</th>\n",
       "      <th>ciudad</th>\n",
       "      <th>estado</th>\n",
       "      <th>detenciones</th>\n",
       "      <th>latitud</th>\n",
       "      <th>longitud</th>\n",
       "      <th>codigo_ruta</th>\n",
       "      <th>ID_Poligon</th>\n",
       "      <th>secuencia</th>\n",
       "      <th>codigo_unico</th>\n",
       "    </tr>\n",
       "  </thead>\n",
       "  <tbody>\n",
       "    <tr>\n",
       "      <th>114</th>\n",
       "      <td>Zihuatanejo de Azueta, Guerrero</td>\n",
       "      <td>Zihuatanejo de Azueta, Guerrero</td>\n",
       "      <td>Guerrero</td>\n",
       "      <td>14</td>\n",
       "      <td>17.807900</td>\n",
       "      <td>-101.496952</td>\n",
       "      <td>P</td>\n",
       "      <td>PG1027</td>\n",
       "      <td>1</td>\n",
       "      <td>P-PG1027-1</td>\n",
       "    </tr>\n",
       "    <tr>\n",
       "      <th>144</th>\n",
       "      <td>Morelia, Michoacan</td>\n",
       "      <td>Morelia, Michoacan</td>\n",
       "      <td>Michoacan</td>\n",
       "      <td>137</td>\n",
       "      <td>19.702712</td>\n",
       "      <td>-101.192382</td>\n",
       "      <td>P</td>\n",
       "      <td>PG1029</td>\n",
       "      <td>1</td>\n",
       "      <td>P-PG1029-1</td>\n",
       "    </tr>\n",
       "    <tr>\n",
       "      <th>146</th>\n",
       "      <td>Cuitzeo, Michoacan</td>\n",
       "      <td>Cuitzeo, Michoacan</td>\n",
       "      <td>Michoacan</td>\n",
       "      <td>1</td>\n",
       "      <td>19.969314</td>\n",
       "      <td>-101.141220</td>\n",
       "      <td>P</td>\n",
       "      <td>PG1030</td>\n",
       "      <td>1</td>\n",
       "      <td>P-PG1030-1</td>\n",
       "    </tr>\n",
       "    <tr>\n",
       "      <th>105</th>\n",
       "      <td>Leon, Guanajuato</td>\n",
       "      <td>Leon, Guanajuato</td>\n",
       "      <td>Guanajuato</td>\n",
       "      <td>2</td>\n",
       "      <td>21.121860</td>\n",
       "      <td>-101.682508</td>\n",
       "      <td>C</td>\n",
       "      <td>PG1031</td>\n",
       "      <td>1</td>\n",
       "      <td>C-PG1031-1</td>\n",
       "    </tr>\n",
       "    <tr>\n",
       "      <th>104</th>\n",
       "      <td>Irapuato, Guanajuato</td>\n",
       "      <td>Irapuato, Guanajuato</td>\n",
       "      <td>Guanajuato</td>\n",
       "      <td>44</td>\n",
       "      <td>20.675876</td>\n",
       "      <td>-101.352105</td>\n",
       "      <td>C</td>\n",
       "      <td>PG1031</td>\n",
       "      <td>2</td>\n",
       "      <td>C-PG1031-2</td>\n",
       "    </tr>\n",
       "    <tr>\n",
       "      <th>...</th>\n",
       "      <td>...</td>\n",
       "      <td>...</td>\n",
       "      <td>...</td>\n",
       "      <td>...</td>\n",
       "      <td>...</td>\n",
       "      <td>...</td>\n",
       "      <td>...</td>\n",
       "      <td>...</td>\n",
       "      <td>...</td>\n",
       "      <td>...</td>\n",
       "    </tr>\n",
       "    <tr>\n",
       "      <th>143</th>\n",
       "      <td>Uruapan, Michoacan</td>\n",
       "      <td>Uruapan, Michoacan</td>\n",
       "      <td>Michoacan</td>\n",
       "      <td>1</td>\n",
       "      <td>19.414727</td>\n",
       "      <td>-102.052265</td>\n",
       "      <td>P</td>\n",
       "      <td>PG990</td>\n",
       "      <td>1</td>\n",
       "      <td>P-PG990-1</td>\n",
       "    </tr>\n",
       "    <tr>\n",
       "      <th>3</th>\n",
       "      <td>Jesus Maria, Aguascalientes</td>\n",
       "      <td>Jesus Maria, Aguascalientes</td>\n",
       "      <td>Aguascalientes</td>\n",
       "      <td>20</td>\n",
       "      <td>21.934555</td>\n",
       "      <td>-102.468452</td>\n",
       "      <td>C</td>\n",
       "      <td>PG994</td>\n",
       "      <td>1</td>\n",
       "      <td>C-PG994-1</td>\n",
       "    </tr>\n",
       "    <tr>\n",
       "      <th>1</th>\n",
       "      <td>Cosio, Aguascalientes</td>\n",
       "      <td>Cosio, Aguascalientes</td>\n",
       "      <td>Aguascalientes</td>\n",
       "      <td>98</td>\n",
       "      <td>22.370515</td>\n",
       "      <td>-102.312009</td>\n",
       "      <td>C</td>\n",
       "      <td>PG994</td>\n",
       "      <td>2</td>\n",
       "      <td>C-PG994-2</td>\n",
       "    </tr>\n",
       "    <tr>\n",
       "      <th>2</th>\n",
       "      <td>San Francisco de los Romo, Aguascalientes</td>\n",
       "      <td>San Francisco de los Romo, Aguascalientes</td>\n",
       "      <td>Aguascalientes</td>\n",
       "      <td>18</td>\n",
       "      <td>22.074628</td>\n",
       "      <td>-102.270713</td>\n",
       "      <td>C</td>\n",
       "      <td>PG994</td>\n",
       "      <td>3</td>\n",
       "      <td>C-PG994-3</td>\n",
       "    </tr>\n",
       "    <tr>\n",
       "      <th>388</th>\n",
       "      <td>Trancoso, Zacatecas</td>\n",
       "      <td>Trancoso, Zacatecas</td>\n",
       "      <td>Zacatecas</td>\n",
       "      <td>96</td>\n",
       "      <td>22.735302</td>\n",
       "      <td>-102.366797</td>\n",
       "      <td>C</td>\n",
       "      <td>PG995</td>\n",
       "      <td>1</td>\n",
       "      <td>C-PG995-1</td>\n",
       "    </tr>\n",
       "  </tbody>\n",
       "</table>\n",
       "<p>424 rows × 10 columns</p>\n",
       "</div>"
      ],
      "text/plain": [
       "                                        nombre  \\\n",
       "114            Zihuatanejo de Azueta, Guerrero   \n",
       "144                         Morelia, Michoacan   \n",
       "146                         Cuitzeo, Michoacan   \n",
       "105                           Leon, Guanajuato   \n",
       "104                       Irapuato, Guanajuato   \n",
       "..                                         ...   \n",
       "143                         Uruapan, Michoacan   \n",
       "3                  Jesus Maria, Aguascalientes   \n",
       "1                        Cosio, Aguascalientes   \n",
       "2    San Francisco de los Romo, Aguascalientes   \n",
       "388                        Trancoso, Zacatecas   \n",
       "\n",
       "                                        ciudad          estado detenciones  \\\n",
       "114            Zihuatanejo de Azueta, Guerrero        Guerrero          14   \n",
       "144                         Morelia, Michoacan       Michoacan         137   \n",
       "146                         Cuitzeo, Michoacan       Michoacan           1   \n",
       "105                           Leon, Guanajuato      Guanajuato           2   \n",
       "104                       Irapuato, Guanajuato      Guanajuato          44   \n",
       "..                                         ...             ...         ...   \n",
       "143                         Uruapan, Michoacan       Michoacan           1   \n",
       "3                  Jesus Maria, Aguascalientes  Aguascalientes          20   \n",
       "1                        Cosio, Aguascalientes  Aguascalientes          98   \n",
       "2    San Francisco de los Romo, Aguascalientes  Aguascalientes          18   \n",
       "388                        Trancoso, Zacatecas       Zacatecas          96   \n",
       "\n",
       "       latitud    longitud codigo_ruta ID_Poligon  secuencia codigo_unico  \n",
       "114  17.807900 -101.496952           P     PG1027          1   P-PG1027-1  \n",
       "144  19.702712 -101.192382           P     PG1029          1   P-PG1029-1  \n",
       "146  19.969314 -101.141220           P     PG1030          1   P-PG1030-1  \n",
       "105  21.121860 -101.682508           C     PG1031          1   C-PG1031-1  \n",
       "104  20.675876 -101.352105           C     PG1031          2   C-PG1031-2  \n",
       "..         ...         ...         ...        ...        ...          ...  \n",
       "143  19.414727 -102.052265           P      PG990          1    P-PG990-1  \n",
       "3    21.934555 -102.468452           C      PG994          1    C-PG994-1  \n",
       "1    22.370515 -102.312009           C      PG994          2    C-PG994-2  \n",
       "2    22.074628 -102.270713           C      PG994          3    C-PG994-3  \n",
       "388  22.735302 -102.366797           C      PG995          1    C-PG995-1  \n",
       "\n",
       "[424 rows x 10 columns]"
      ]
     },
     "execution_count": 39,
     "metadata": {},
     "output_type": "execute_result"
    }
   ],
   "source": [
    "df_concatenada_final"
   ]
  },
  {
   "cell_type": "markdown",
   "id": "5e07a4a8",
   "metadata": {},
   "source": [
    "## Asignamos pesos"
   ]
  },
  {
   "cell_type": "markdown",
   "id": "ef19fecb",
   "metadata": {},
   "source": [
    "### PS. df_concatenada_final.geometry_reach\n",
    "Un shape de 10km de radio al rededor del geometryxy de cada punto)"
   ]
  },
  {
   "cell_type": "code",
   "execution_count": 46,
   "id": "dcbf836e",
   "metadata": {},
   "outputs": [
    {
     "name": "stdout",
     "output_type": "stream",
     "text": [
      "                              nombre                           ciudad  \\\n",
      "114  Zihuatanejo de Azueta, Guerrero  Zihuatanejo de Azueta, Guerrero   \n",
      "144               Morelia, Michoacan               Morelia, Michoacan   \n",
      "146               Cuitzeo, Michoacan               Cuitzeo, Michoacan   \n",
      "105                 Leon, Guanajuato                 Leon, Guanajuato   \n",
      "104             Irapuato, Guanajuato             Irapuato, Guanajuato   \n",
      "\n",
      "         estado detenciones    latitud    longitud codigo_ruta ID_Poligon  \n",
      "114    Guerrero          14  17.807900 -101.496952           P     PG1027  \n",
      "144   Michoacan         137  19.702712 -101.192382           P     PG1029  \n",
      "146   Michoacan           1  19.969314 -101.141220           P     PG1030  \n",
      "105  Guanajuato           2  21.121860 -101.682508           C     PG1031  \n",
      "104  Guanajuato          44  20.675876 -101.352105           C     PG1031  \n"
     ]
    }
   ],
   "source": [
    "# Suponiendo que df_concatenada_final es tu DataFrame y tiene las columnas especificadas\n",
    "df_concatenada_final_georeach = df_concatenada_final[['nombre', 'ciudad', 'estado', 'detenciones', 'latitud', 'longitud', 'codigo_ruta', 'ID_Poligon']]\n",
    "\n",
    "# Verificar el resultado imprimiendo las primeras filas del DataFrame resultante\n",
    "print(df_concatenada_final_georeach.head())\n"
   ]
  },
  {
   "cell_type": "code",
   "execution_count": 47,
   "id": "e0086735",
   "metadata": {},
   "outputs": [],
   "source": [
    "# Asegurándonos de trabajar con el DataFrame correcto, df1\n",
    "gdf = gpd.GeoDataFrame(df_concatenada_final_georeach, geometry=gpd.points_from_xy(df_concatenada_final_georeach.longitud, df_concatenada_final_georeach.latitud))\n",
    "\n",
    "# Estableciendo el CRS original a EPSG:4326 para las coordenadas geográficas\n",
    "gdf.crs = \"EPSG:4326\"\n",
    "\n",
    "# Cambiando el CRS a uno que use metros para el cálculo del buffer. Reemplazando el EPSG con un código correcto.\n",
    "# Nota: El EPSG 6366 parece ser un error. Asegúrate de usar el código EPSG de UTM adecuado para tu zona.\n",
    "gdf_metros = gdf.to_crs(epsg=6366)  # Reemplaza YOUR_UTM_EPSG_CODE con el código EPSG adecuado\n",
    "\n",
    "# Aplicando el buffer de 10km para crear una nueva columna 'geometry_range' con los polígonos\n",
    "gdf_metros['geometry_range'] = gdf_metros.geometry.buffer(10000)\n",
    "\n",
    "# (Opcional) Si deseas convertir el GeoDataFrame de regreso a lat/long (EPSG:4326) para alguna otra operación,\n",
    "# y quieres que la columna 'geometry_range' sea la geometría activa,\n",
    "# debes hacerlo antes de cambiar el CRS de regreso a EPSG:4326.\n",
    "# gdf_metros.set_geometry('geometry_range', inplace=True)\n",
    "\n",
    "# Cambiando de regreso a EPSG:4326\n",
    "gdf_final = gdf_metros.to_crs(epsg=4326)"
   ]
  },
  {
   "cell_type": "code",
   "execution_count": 50,
   "id": "f3e19fa7",
   "metadata": {},
   "outputs": [],
   "source": [
    "# Eliminar la columna 'geometry_range' si no es necesaria\n",
    "if 'geometry' in gdf_final.columns:\n",
    "    gdf_final.drop(columns=['geometry'], inplace=True)\n",
    "\n",
    "# Asegúrate de que 'geometry' es la columna geométrica correcta\n",
    "gdf_final.set_geometry('geometry_range', inplace=True)"
   ]
  },
  {
   "cell_type": "code",
   "execution_count": 51,
   "id": "8987edbc",
   "metadata": {},
   "outputs": [
    {
     "data": {
      "text/html": [
       "<div>\n",
       "<style scoped>\n",
       "    .dataframe tbody tr th:only-of-type {\n",
       "        vertical-align: middle;\n",
       "    }\n",
       "\n",
       "    .dataframe tbody tr th {\n",
       "        vertical-align: top;\n",
       "    }\n",
       "\n",
       "    .dataframe thead th {\n",
       "        text-align: right;\n",
       "    }\n",
       "</style>\n",
       "<table border=\"1\" class=\"dataframe\">\n",
       "  <thead>\n",
       "    <tr style=\"text-align: right;\">\n",
       "      <th></th>\n",
       "      <th>nombre</th>\n",
       "      <th>ciudad</th>\n",
       "      <th>estado</th>\n",
       "      <th>detenciones</th>\n",
       "      <th>latitud</th>\n",
       "      <th>longitud</th>\n",
       "      <th>codigo_ruta</th>\n",
       "      <th>ID_Poligon</th>\n",
       "      <th>geometry_range</th>\n",
       "    </tr>\n",
       "  </thead>\n",
       "  <tbody>\n",
       "    <tr>\n",
       "      <th>114</th>\n",
       "      <td>Zihuatanejo de Azueta, Guerrero</td>\n",
       "      <td>Zihuatanejo de Azueta, Guerrero</td>\n",
       "      <td>Guerrero</td>\n",
       "      <td>14</td>\n",
       "      <td>17.807900</td>\n",
       "      <td>-101.496952</td>\n",
       "      <td>P</td>\n",
       "      <td>PG1027</td>\n",
       "      <td>POLYGON ((2169564.100 2038820.103, 2169515.947...</td>\n",
       "    </tr>\n",
       "    <tr>\n",
       "      <th>144</th>\n",
       "      <td>Morelia, Michoacan</td>\n",
       "      <td>Morelia, Michoacan</td>\n",
       "      <td>Michoacan</td>\n",
       "      <td>137</td>\n",
       "      <td>19.702712</td>\n",
       "      <td>-101.192382</td>\n",
       "      <td>P</td>\n",
       "      <td>PG1029</td>\n",
       "      <td>POLYGON ((2183164.724 2257818.750, 2183116.571...</td>\n",
       "    </tr>\n",
       "    <tr>\n",
       "      <th>146</th>\n",
       "      <td>Cuitzeo, Michoacan</td>\n",
       "      <td>Cuitzeo, Michoacan</td>\n",
       "      <td>Michoacan</td>\n",
       "      <td>1</td>\n",
       "      <td>19.969314</td>\n",
       "      <td>-101.141220</td>\n",
       "      <td>P</td>\n",
       "      <td>PG1030</td>\n",
       "      <td>POLYGON ((2185757.540 2288739.937, 2185709.387...</td>\n",
       "    </tr>\n",
       "    <tr>\n",
       "      <th>105</th>\n",
       "      <td>Leon, Guanajuato</td>\n",
       "      <td>Leon, Guanajuato</td>\n",
       "      <td>Guanajuato</td>\n",
       "      <td>2</td>\n",
       "      <td>21.121860</td>\n",
       "      <td>-101.682508</td>\n",
       "      <td>C</td>\n",
       "      <td>PG1031</td>\n",
       "      <td>POLYGON ((2114877.081 2414244.870, 2114828.928...</td>\n",
       "    </tr>\n",
       "    <tr>\n",
       "      <th>104</th>\n",
       "      <td>Irapuato, Guanajuato</td>\n",
       "      <td>Irapuato, Guanajuato</td>\n",
       "      <td>Guanajuato</td>\n",
       "      <td>44</td>\n",
       "      <td>20.675876</td>\n",
       "      <td>-101.352105</td>\n",
       "      <td>C</td>\n",
       "      <td>PG1031</td>\n",
       "      <td>POLYGON ((2155208.825 2367005.198, 2155160.673...</td>\n",
       "    </tr>\n",
       "    <tr>\n",
       "      <th>...</th>\n",
       "      <td>...</td>\n",
       "      <td>...</td>\n",
       "      <td>...</td>\n",
       "      <td>...</td>\n",
       "      <td>...</td>\n",
       "      <td>...</td>\n",
       "      <td>...</td>\n",
       "      <td>...</td>\n",
       "      <td>...</td>\n",
       "    </tr>\n",
       "    <tr>\n",
       "      <th>143</th>\n",
       "      <td>Uruapan, Michoacan</td>\n",
       "      <td>Uruapan, Michoacan</td>\n",
       "      <td>Michoacan</td>\n",
       "      <td>1</td>\n",
       "      <td>19.414727</td>\n",
       "      <td>-102.052265</td>\n",
       "      <td>P</td>\n",
       "      <td>PG990</td>\n",
       "      <td>POLYGON ((2093407.075 2216493.661, 2093358.922...</td>\n",
       "    </tr>\n",
       "    <tr>\n",
       "      <th>3</th>\n",
       "      <td>Jesus Maria, Aguascalientes</td>\n",
       "      <td>Jesus Maria, Aguascalientes</td>\n",
       "      <td>Aguascalientes</td>\n",
       "      <td>20</td>\n",
       "      <td>21.934555</td>\n",
       "      <td>-102.468452</td>\n",
       "      <td>C</td>\n",
       "      <td>PG994</td>\n",
       "      <td>POLYGON ((2022405.596 2498304.969, 2022357.443...</td>\n",
       "    </tr>\n",
       "    <tr>\n",
       "      <th>1</th>\n",
       "      <td>Cosio, Aguascalientes</td>\n",
       "      <td>Cosio, Aguascalientes</td>\n",
       "      <td>Aguascalientes</td>\n",
       "      <td>98</td>\n",
       "      <td>22.370515</td>\n",
       "      <td>-102.312009</td>\n",
       "      <td>C</td>\n",
       "      <td>PG994</td>\n",
       "      <td>POLYGON ((2034061.510 2549327.296, 2034013.357...</td>\n",
       "    </tr>\n",
       "    <tr>\n",
       "      <th>2</th>\n",
       "      <td>San Francisco de los Romo, Aguascalientes</td>\n",
       "      <td>San Francisco de los Romo, Aguascalientes</td>\n",
       "      <td>Aguascalientes</td>\n",
       "      <td>18</td>\n",
       "      <td>22.074628</td>\n",
       "      <td>-102.270713</td>\n",
       "      <td>C</td>\n",
       "      <td>PG994</td>\n",
       "      <td>POLYGON ((2041749.918 2516224.034, 2041701.765...</td>\n",
       "    </tr>\n",
       "    <tr>\n",
       "      <th>388</th>\n",
       "      <td>Trancoso, Zacatecas</td>\n",
       "      <td>Trancoso, Zacatecas</td>\n",
       "      <td>Zacatecas</td>\n",
       "      <td>96</td>\n",
       "      <td>22.735302</td>\n",
       "      <td>-102.366797</td>\n",
       "      <td>C</td>\n",
       "      <td>PG995</td>\n",
       "      <td>POLYGON ((2024147.752 2590077.663, 2024099.599...</td>\n",
       "    </tr>\n",
       "  </tbody>\n",
       "</table>\n",
       "<p>424 rows × 9 columns</p>\n",
       "</div>"
      ],
      "text/plain": [
       "                                        nombre  \\\n",
       "114            Zihuatanejo de Azueta, Guerrero   \n",
       "144                         Morelia, Michoacan   \n",
       "146                         Cuitzeo, Michoacan   \n",
       "105                           Leon, Guanajuato   \n",
       "104                       Irapuato, Guanajuato   \n",
       "..                                         ...   \n",
       "143                         Uruapan, Michoacan   \n",
       "3                  Jesus Maria, Aguascalientes   \n",
       "1                        Cosio, Aguascalientes   \n",
       "2    San Francisco de los Romo, Aguascalientes   \n",
       "388                        Trancoso, Zacatecas   \n",
       "\n",
       "                                        ciudad          estado detenciones  \\\n",
       "114            Zihuatanejo de Azueta, Guerrero        Guerrero          14   \n",
       "144                         Morelia, Michoacan       Michoacan         137   \n",
       "146                         Cuitzeo, Michoacan       Michoacan           1   \n",
       "105                           Leon, Guanajuato      Guanajuato           2   \n",
       "104                       Irapuato, Guanajuato      Guanajuato          44   \n",
       "..                                         ...             ...         ...   \n",
       "143                         Uruapan, Michoacan       Michoacan           1   \n",
       "3                  Jesus Maria, Aguascalientes  Aguascalientes          20   \n",
       "1                        Cosio, Aguascalientes  Aguascalientes          98   \n",
       "2    San Francisco de los Romo, Aguascalientes  Aguascalientes          18   \n",
       "388                        Trancoso, Zacatecas       Zacatecas          96   \n",
       "\n",
       "       latitud    longitud codigo_ruta ID_Poligon  \\\n",
       "114  17.807900 -101.496952           P     PG1027   \n",
       "144  19.702712 -101.192382           P     PG1029   \n",
       "146  19.969314 -101.141220           P     PG1030   \n",
       "105  21.121860 -101.682508           C     PG1031   \n",
       "104  20.675876 -101.352105           C     PG1031   \n",
       "..         ...         ...         ...        ...   \n",
       "143  19.414727 -102.052265           P      PG990   \n",
       "3    21.934555 -102.468452           C      PG994   \n",
       "1    22.370515 -102.312009           C      PG994   \n",
       "2    22.074628 -102.270713           C      PG994   \n",
       "388  22.735302 -102.366797           C      PG995   \n",
       "\n",
       "                                        geometry_range  \n",
       "114  POLYGON ((2169564.100 2038820.103, 2169515.947...  \n",
       "144  POLYGON ((2183164.724 2257818.750, 2183116.571...  \n",
       "146  POLYGON ((2185757.540 2288739.937, 2185709.387...  \n",
       "105  POLYGON ((2114877.081 2414244.870, 2114828.928...  \n",
       "104  POLYGON ((2155208.825 2367005.198, 2155160.673...  \n",
       "..                                                 ...  \n",
       "143  POLYGON ((2093407.075 2216493.661, 2093358.922...  \n",
       "3    POLYGON ((2022405.596 2498304.969, 2022357.443...  \n",
       "1    POLYGON ((2034061.510 2549327.296, 2034013.357...  \n",
       "2    POLYGON ((2041749.918 2516224.034, 2041701.765...  \n",
       "388  POLYGON ((2024147.752 2590077.663, 2024099.599...  \n",
       "\n",
       "[424 rows x 9 columns]"
      ]
     },
     "execution_count": 51,
     "metadata": {},
     "output_type": "execute_result"
    }
   ],
   "source": [
    "gdf_final"
   ]
  },
  {
   "cell_type": "code",
   "execution_count": 52,
   "id": "4a50c50a",
   "metadata": {},
   "outputs": [
    {
     "name": "stderr",
     "output_type": "stream",
     "text": [
      "/var/folders/68/6zkv8z4j4rl6ds90br2rb7ph0000gn/T/ipykernel_60971/725578260.py:2: UserWarning: Column names longer than 10 characters will be truncated when saved to ESRI Shapefile.\n",
      "  gdf_final.to_file(\"/Users/pablouriarte/Documents/1. Expediente Tec de Monterrey/1.Tesis/Mapa_Migracion_Irregular_Mexico/1. Mapas/2. arcgis(general)/grids/gridrange/gridrange.shp\")\n"
     ]
    }
   ],
   "source": [
    "# Guardar grid_1 como Shapefile\n",
    "gdf_final.to_file(\"/Users/pablouriarte/Documents/1. Expediente Tec de Monterrey/1.Tesis/Mapa_Migracion_Irregular_Mexico/1. Mapas/2. arcgis(general)/grids/gridrange/gridrange.shp\")\n"
   ]
  },
  {
   "cell_type": "markdown",
   "id": "57cb78ae",
   "metadata": {},
   "source": [
    "### 1. Detenciones INM (Ya viene en el df inicial por que corresponde a esa df)"
   ]
  },
  {
   "cell_type": "markdown",
   "id": "cb8df7a6",
   "metadata": {},
   "source": [
    "### 2. Instituciones INM (Aproximacion Radial: 20km)\n",
    "#### 2.1Instituciones INM (En el mismo grid)\n",
    "#### 2.2 Instituciones INM (En el mismo estado)"
   ]
  },
  {
   "cell_type": "code",
   "execution_count": null,
   "id": "d0d14d59",
   "metadata": {},
   "outputs": [],
   "source": []
  },
  {
   "cell_type": "code",
   "execution_count": null,
   "id": "cb7c75b5",
   "metadata": {},
   "outputs": [],
   "source": []
  }
 ],
 "metadata": {
  "kernelspec": {
   "display_name": "Python 3 (ipykernel)",
   "language": "python",
   "name": "python3"
  },
  "language_info": {
   "codemirror_mode": {
    "name": "ipython",
    "version": 3
   },
   "file_extension": ".py",
   "mimetype": "text/x-python",
   "name": "python",
   "nbconvert_exporter": "python",
   "pygments_lexer": "ipython3",
   "version": "3.9.13"
  }
 },
 "nbformat": 4,
 "nbformat_minor": 5
}
