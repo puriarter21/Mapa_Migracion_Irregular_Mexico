{
 "cells": [
  {
   "cell_type": "code",
   "execution_count": 2,
   "id": "ef290675",
   "metadata": {},
   "outputs": [],
   "source": [
    "import pandas as pd\n",
    "from geopy.geocoders import Photon\n",
    "from geopy.geocoders import Nominatim\n",
    "from unidecode import unidecode\n",
    "import unidecode"
   ]
  },
  {
   "cell_type": "code",
   "execution_count": 3,
   "id": "fc667fd8",
   "metadata": {},
   "outputs": [],
   "source": [
    "import numpy as np\n",
    "from shapely.geometry import Point, Polygon"
   ]
  },
  {
   "cell_type": "code",
   "execution_count": 4,
   "id": "e0da2b95",
   "metadata": {},
   "outputs": [],
   "source": [
    "import geopandas as gpd"
   ]
  },
  {
   "cell_type": "markdown",
   "id": "6162a992",
   "metadata": {},
   "source": [
    "### Seleccionar las bd que conformaran nuestra bd de presencia institucional de Sociedad Civil\n",
    "\n",
    "\n",
    "-Directorio OIM\n"
   ]
  },
  {
   "cell_type": "code",
   "execution_count": null,
   "id": "61b44660",
   "metadata": {},
   "outputs": [],
   "source": [
    "directorio_full = pd.read_csv('/Users/pablouriarte/Documents/1. Expediente Tec de Monterrey/1.Tesis/Mapa_Migracion_Irregular_Mexico/3. mapas/1. Mapas/Metodo_1/ciudades_rutas/SC/seleccionado de instituciones/institucionesmigracionfull.csv')"
   ]
  },
  {
   "cell_type": "code",
   "execution_count": null,
   "id": "57c2cf84",
   "metadata": {},
   "outputs": [],
   "source": [
    "directorio_full = directorio_full.drop(columns=['Unnamed: 0.1', 'Unnamed: 0'])\n",
    "\n",
    "# Resetear el índice y descartar el índice anterior\n",
    "directorio_full.reset_index(drop=True, inplace=True)"
   ]
  },
  {
   "cell_type": "code",
   "execution_count": null,
   "id": "96e5ed52",
   "metadata": {},
   "outputs": [],
   "source": [
    "# Verificar cambios\n",
    "directorio_full.head(50)"
   ]
  },
  {
   "cell_type": "code",
   "execution_count": null,
   "id": "9556306c",
   "metadata": {},
   "outputs": [],
   "source": [
    "# Paso 1: Eliminar espacios al inicio en 'name'\n",
    "directorio_full['name'] = directorio_full['name'].str.lstrip()\n",
    "\n",
    "# Paso 2: Quitar acentos\n",
    "def quitar_acentos(texto):\n",
    "    if isinstance(texto, str):\n",
    "        return unidecode.unidecode(texto)\n",
    "    return texto\n",
    "\n",
    "for columna in directorio_full.select_dtypes(include=['object']).columns:\n",
    "    directorio_full[columna] = directorio_full[columna].apply(quitar_acentos)"
   ]
  },
  {
   "cell_type": "code",
   "execution_count": null,
   "id": "cfc88268",
   "metadata": {},
   "outputs": [],
   "source": [
    "directorio_full['bd'].unique()"
   ]
  },
  {
   "cell_type": "markdown",
   "id": "043dec90",
   "metadata": {},
   "source": [
    "### separamos en diferentes bds"
   ]
  },
  {
   "cell_type": "code",
   "execution_count": null,
   "id": "f0ced0a7",
   "metadata": {},
   "outputs": [],
   "source": [
    "Directorio_OIM = directorio_full[directorio_full['bd'] == 'Directorio OIM']\n"
   ]
  },
  {
   "cell_type": "code",
   "execution_count": null,
   "id": "c92de1ea",
   "metadata": {},
   "outputs": [],
   "source": [
    "# Lista de valores a reemplazar\n",
    "valores_a_reemplazar = ['Centros de Asistencia Social', 'Centro de Asistencia Social']\n",
    "\n",
    "# Reemplazar los valores en la columna 'descripcion'\n",
    "Directorio_OIM['descripcion'] = Directorio_OIM['descripcion'].replace(valores_a_reemplazar, 'Centros de Atencion Social')\n",
    "\n",
    "# Verificar los valores únicos después del reemplazo\n",
    "print(Directorio_OIM['descripcion'].unique())"
   ]
  },
  {
   "cell_type": "code",
   "execution_count": null,
   "id": "59d8177a",
   "metadata": {},
   "outputs": [],
   "source": [
    "Directorio_OIM['descripcion'].unique()"
   ]
  },
  {
   "cell_type": "code",
   "execution_count": null,
   "id": "eb78af61",
   "metadata": {},
   "outputs": [],
   "source": [
    "Directorio_OIM.shape"
   ]
  },
  {
   "cell_type": "code",
   "execution_count": null,
   "id": "8929f37d",
   "metadata": {},
   "outputs": [],
   "source": [
    "ACNUR_albergues = directorio_full[directorio_full['bd'] == 'ACNUR albergues']\n",
    "ACNUR_servicios = directorio_full[directorio_full['bd'] == 'ACNUR servicios']"
   ]
  },
  {
   "cell_type": "markdown",
   "id": "5335614a",
   "metadata": {},
   "source": [
    "### directorios seleccionados:"
   ]
  },
  {
   "cell_type": "code",
   "execution_count": null,
   "id": "9f05a65b",
   "metadata": {},
   "outputs": [],
   "source": [
    "CAS = Directorio_OIM[Directorio_OIM['descripcion'] == 'Centros de Atencion Social']"
   ]
  },
  {
   "cell_type": "code",
   "execution_count": null,
   "id": "668d41bb",
   "metadata": {},
   "outputs": [],
   "source": [
    "grupos_beta = Directorio_OIM[Directorio_OIM['descripcion'] == 'Grupos Beta']"
   ]
  },
  {
   "cell_type": "code",
   "execution_count": null,
   "id": "17eb3056",
   "metadata": {},
   "outputs": [],
   "source": [
    "salud = Directorio_OIM[Directorio_OIM['descripcion'] == 'Salud']"
   ]
  },
  {
   "cell_type": "code",
   "execution_count": null,
   "id": "e9e86e58",
   "metadata": {},
   "outputs": [],
   "source": [
    "import pandas as pd\n",
    "\n",
    "# Concatenar DataFrames\n",
    "resultante_df = pd.concat([grupos_beta, salud], ignore_index=True)\n"
   ]
  },
  {
   "cell_type": "code",
   "execution_count": null,
   "id": "0a56be80",
   "metadata": {},
   "outputs": [],
   "source": [
    "# Guardar el DataFrame resultante en un archivo .xlsx\n",
    "ruta_archivo = '/Users/pablouriarte/Documents/1. Expediente Tec de Monterrey/1.Tesis/Mapa_Migracion_Irregular_Mexico/3. mapas/1. Mapas/Metodo_1/ciudades_rutas/SC/seleccionado de instituciones/cruzrojagruposbeta.xlsx'  # Cambia esto por tu ruta y nombre de archivo real\n",
    "\n",
    "resultante_df.to_excel(ruta_archivo, index=False, engine='openpyxl')\n"
   ]
  },
  {
   "cell_type": "markdown",
   "id": "a08383ac",
   "metadata": {},
   "source": [
    "# dataframe completo\n",
    "\n",
    "Incluye centros de atención social extraidos de los directorios de OIM, Redes, ACNUR."
   ]
  },
  {
   "cell_type": "code",
   "execution_count": null,
   "id": "710d0b2e",
   "metadata": {},
   "outputs": [],
   "source": [
    "df1 = pd.read_excel('/Users/pablouriarte/Documents/1. Expediente Tec de Monterrey/1.Tesis/Mapa_Migracion_Irregular_Mexico/3. mapas/1. Mapas/Metodo_1/ciudades_rutas/SC/seleccionado de instituciones/instituciones_sc.xlsx')"
   ]
  },
  {
   "cell_type": "code",
   "execution_count": null,
   "id": "cc672eb5",
   "metadata": {},
   "outputs": [],
   "source": [
    "grid = pd.read_csv('/Users/pablouriarte/Documents/1. Expediente Tec de Monterrey/1.Tesis/Mapa_Migracion_Irregular_Mexico/3. mapas/1. Mapas/Metodo_1/ciudades_rutas/ciudades detenciones/grid.csv')\n"
   ]
  },
  {
   "cell_type": "code",
   "execution_count": null,
   "id": "a5ba40c3",
   "metadata": {},
   "outputs": [],
   "source": [
    "from shapely.wkt import loads\n",
    "if 'geometry' in grid.columns:\n",
    "    # Convertir cadenas de geometría a objetos geométricos usando `loads` de Shapely\n",
    "    grid['geometry'] = grid['geometry'].apply(lambda x: loads(x) if isinstance(x, str) else x)\n",
    "\n",
    "    # Ahora que todos los valores en 'geometry' son objetos geométricos, crea el GeoDataFrame\n",
    "    grid = gpd.GeoDataFrame(grid, geometry='geometry')\n",
    "else:\n",
    "    print(\"La columna 'geometry' no existe en 'grid'.\")"
   ]
  },
  {
   "cell_type": "code",
   "execution_count": null,
   "id": "4bc16189",
   "metadata": {},
   "outputs": [],
   "source": [
    "# Paso 1: Eliminar espacios al inicio en 'name'\n",
    "df1['name'] = df1['name'].str.lstrip()\n",
    "\n",
    "# Paso 2: Quitar acentos\n",
    "def quitar_acentos(texto):\n",
    "    if isinstance(texto, str):\n",
    "        return unidecode.unidecode(texto)\n",
    "    return texto\n",
    "\n",
    "for columna in directorio_full.select_dtypes(include=['object']).columns:\n",
    "    df1[columna] = df1[columna].apply(quitar_acentos)"
   ]
  },
  {
   "cell_type": "code",
   "execution_count": null,
   "id": "3e2681b5",
   "metadata": {},
   "outputs": [],
   "source": [
    "# Convertir df1 en GeoDataFrame\n",
    "gdf1 = gpd.GeoDataFrame(df1, geometry=gpd.points_from_xy(df1.Longitude, df1.Latitude))\n",
    "\n",
    "# Aquí estoy asumiendo que tus datos están en WGS84 (EPSG:4326)\n",
    "gdf1.set_crs(epsg=4326, inplace=True)\n",
    "grid.set_crs(epsg=4326, inplace=True)\n",
    "\n",
    "# Realizar la operación sjoin\n",
    "gdf1_sjoined = gpd.sjoin(gdf1, grid, how=\"left\", op=\"within\")\n",
    "\n",
    "# Asignar los 'ID_Poligono' a df1 desde el resultado del sjoin\n",
    "df1[\"ID_Poligono\"] = gdf1_sjoined[\"ID_Poligono\"]\n",
    "\n",
    "# Verificar los resultados\n",
    "print(df1.head())"
   ]
  },
  {
   "cell_type": "code",
   "execution_count": null,
   "id": "3eaeb5d2",
   "metadata": {},
   "outputs": [],
   "source": [
    "ruta_archivo12 = '/Users/pablouriarte/Documents/1. Expediente Tec de Monterrey/1.Tesis/Mapa_Migracion_Irregular_Mexico/3. mapas/1. Mapas/Metodo_1/ciudades_rutas/ciudades detenciones/ciudades_detenciones_1.csv'\n",
    "\n",
    "# Cargar el archivo .xls en un DataFrame\n",
    "df_ciudades = pd.read_csv(ruta_archivo12)"
   ]
  },
  {
   "cell_type": "code",
   "execution_count": null,
   "id": "b00b7ef3",
   "metadata": {},
   "outputs": [],
   "source": [
    "# Primero, nos aseguramos de que df_ciudades tenga valores únicos de 'ID_Poligono'\n",
    "df_ciudades_unicos = df_ciudades.drop_duplicates(subset='ID_Poligono', keep='first')\n",
    "\n",
    "# Ahora realizamos el merge, esta vez debería evitar la duplicación de filas en df1\n",
    "df_merged = df1.merge(df_ciudades_unicos[['ID_Poligono', 'estado']], on='ID_Poligono', how='left')\n",
    "\n",
    "# Renombramos las columnas si es necesario y eliminamos las adicionales que no necesitamos\n",
    "# Este paso depende de si 'merge' crea nuevas columnas o no\n",
    "df_merged.rename(columns={'estado_y': 'estado'}, inplace=True)\n",
    "if 'estado_x' in df_merged.columns:\n",
    "    df_merged.drop('estado_x', axis=1, inplace=True)\n",
    "\n",
    "# Actualizamos df1 con los datos fusionados\n",
    "df1 = df_merged\n",
    "\n",
    "# Verificamos los resultados\n",
    "print(df1[['ID_Poligono', 'estado']].head())\n"
   ]
  },
  {
   "cell_type": "code",
   "execution_count": null,
   "id": "2dbbba25",
   "metadata": {},
   "outputs": [],
   "source": [
    "# Asumiendo que df1 y df_ciudades ya están cargados\n",
    "\n",
    "# Primero, nos aseguramos de que df_ciudades tenga valores únicos de 'ID_Poligono'\n",
    "df_ciudades_unicos = df_ciudades.drop_duplicates(subset='ID_Poligono', keep='first')\n",
    "\n",
    "# Ahora realizamos el merge, esta vez debería evitar la duplicación de filas en df1\n",
    "df_merged = df1.merge(df_ciudades_unicos[['ID_Poligono', 'ciudad']], on='ID_Poligono', how='left')\n",
    "\n",
    "# Renombramos las columnas si es necesario y eliminamos las adicionales que no necesitamos\n",
    "# Este paso depende de si 'merge' crea nuevas columnas o no\n",
    "df_merged.rename(columns={'ciudad_y': 'ciudad'}, inplace=True)\n",
    "if 'estado_x' in df_merged.columns:\n",
    "    df_merged.drop('ciudad_x', axis=1, inplace=True)\n",
    "\n",
    "# Actualizamos df1 con los datos fusionados\n",
    "df1 = df_merged\n",
    "\n",
    "# Verificamos los resultados\n",
    "print(df1[['ID_Poligono', 'ciudad']].head())\n"
   ]
  },
  {
   "cell_type": "code",
   "execution_count": null,
   "id": "6858feeb",
   "metadata": {},
   "outputs": [],
   "source": [
    "df1.head(60)"
   ]
  },
  {
   "cell_type": "code",
   "execution_count": null,
   "id": "ca896da1",
   "metadata": {},
   "outputs": [],
   "source": [
    "df1 = df1.rename(columns={\n",
    "    'descripcion': 'subtipo',\n",
    "    'Latitude': 'latitud',\n",
    "    'Longitude': 'longitud'\n",
    "})\n"
   ]
  },
  {
   "cell_type": "code",
   "execution_count": null,
   "id": "f843d182",
   "metadata": {},
   "outputs": [],
   "source": [
    "df1 = df1.drop(columns=['coordenadas'])\n"
   ]
  },
  {
   "cell_type": "code",
   "execution_count": null,
   "id": "3a88cfd4",
   "metadata": {},
   "outputs": [],
   "source": [
    "df1 = df1[['name', 'ciudad', 'estado', 'tipo', 'subtipo', 'latitud', 'longitud', 'ID_Poligono', 'direccion']]\n"
   ]
  },
  {
   "cell_type": "code",
   "execution_count": null,
   "id": "53a0d6c4",
   "metadata": {},
   "outputs": [],
   "source": [
    "# Guardar el DataFrame resultante en un archivo .xlsx\n",
    "ruta_archivo = '/Users/pablouriarte/Documents/1. Expediente Tec de Monterrey/1.Tesis/Mapa_Migracion_Irregular_Mexico/3. mapas/1. Mapas/Metodo_1/ciudades_rutas/SC/instituciones_sc_1.csv'  # Cambia esto por tu ruta y nombre de archivo real\n",
    "\n",
    "df1.to_csv(ruta_archivo, index=False)"
   ]
  },
  {
   "cell_type": "markdown",
   "id": "a641f6e9",
   "metadata": {},
   "source": [
    "## actualizando grid"
   ]
  },
  {
   "cell_type": "code",
   "execution_count": 6,
   "id": "323c49aa",
   "metadata": {},
   "outputs": [],
   "source": [
    "sc = pd.read_csv('/Users/pablouriarte/Documents/1. Expediente Tec de Monterrey/1.Tesis/Mapa_Migracion_Irregular_Mexico/1. Mapas/1. Mapas/Metodo_1/SC/instituciones_sc_1.csv')"
   ]
  },
  {
   "cell_type": "code",
   "execution_count": 7,
   "id": "25163c79",
   "metadata": {},
   "outputs": [
    {
     "data": {
      "text/html": [
       "<div>\n",
       "<style scoped>\n",
       "    .dataframe tbody tr th:only-of-type {\n",
       "        vertical-align: middle;\n",
       "    }\n",
       "\n",
       "    .dataframe tbody tr th {\n",
       "        vertical-align: top;\n",
       "    }\n",
       "\n",
       "    .dataframe thead th {\n",
       "        text-align: right;\n",
       "    }\n",
       "</style>\n",
       "<table border=\"1\" class=\"dataframe\">\n",
       "  <thead>\n",
       "    <tr style=\"text-align: right;\">\n",
       "      <th></th>\n",
       "      <th>name</th>\n",
       "      <th>ciudad</th>\n",
       "      <th>estado</th>\n",
       "      <th>tipo</th>\n",
       "      <th>subtipo</th>\n",
       "      <th>latitud</th>\n",
       "      <th>longitud</th>\n",
       "      <th>ID_Poligono</th>\n",
       "      <th>direccion</th>\n",
       "    </tr>\n",
       "  </thead>\n",
       "  <tbody>\n",
       "    <tr>\n",
       "      <th>0</th>\n",
       "      <td>Angeles Sin Fronteras</td>\n",
       "      <td>Mexicali, Baja California</td>\n",
       "      <td>Baja California</td>\n",
       "      <td>OSC / ONG</td>\n",
       "      <td>Centros de Asistencia Social</td>\n",
       "      <td>32.662937</td>\n",
       "      <td>-115.494983</td>\n",
       "      <td>PG132</td>\n",
       "      <td>Av. Reforma 244, Altos Zona Centro C.P.21100</td>\n",
       "    </tr>\n",
       "    <tr>\n",
       "      <th>1</th>\n",
       "      <td>Centro de Apoyo al Trabajor Migrante</td>\n",
       "      <td>Mexicali, Baja California</td>\n",
       "      <td>Baja California</td>\n",
       "      <td>OSC / ONG</td>\n",
       "      <td>Centros de Asistencia Social</td>\n",
       "      <td>32.660848</td>\n",
       "      <td>-115.479494</td>\n",
       "      <td>PG132</td>\n",
       "      <td>Jabonera 6, Col. Nueva C.P. 21100</td>\n",
       "    </tr>\n",
       "    <tr>\n",
       "      <th>2</th>\n",
       "      <td>Centro de Apoyo al Trabajador Migrante: Comite...</td>\n",
       "      <td>Mexicali, Baja California</td>\n",
       "      <td>Baja California</td>\n",
       "      <td>OSC / ONG</td>\n",
       "      <td>Centros de Asistencia Social</td>\n",
       "      <td>32.660305</td>\n",
       "      <td>-115.459726</td>\n",
       "      <td>PG132</td>\n",
       "      <td>Calle Jabonera #6, Colonia Nueva, Mexicali, Ba...</td>\n",
       "    </tr>\n",
       "    <tr>\n",
       "      <th>3</th>\n",
       "      <td>Comedor Cobina A.C.</td>\n",
       "      <td>Mexicali, Baja California</td>\n",
       "      <td>Baja California</td>\n",
       "      <td>OSC / ONG</td>\n",
       "      <td>Centros de Asistencia Social</td>\n",
       "      <td>32.660301</td>\n",
       "      <td>-115.489875</td>\n",
       "      <td>PG132</td>\n",
       "      <td>Avenida Lerdo 416, Col. Centro C.P. 21200</td>\n",
       "    </tr>\n",
       "    <tr>\n",
       "      <th>4</th>\n",
       "      <td>Comedor Cobina, A.C.</td>\n",
       "      <td>Mexicali, Baja California</td>\n",
       "      <td>Baja California</td>\n",
       "      <td>OSC / ONG</td>\n",
       "      <td>Centros de Asistencia Social</td>\n",
       "      <td>32.660172</td>\n",
       "      <td>-115.492330</td>\n",
       "      <td>PG132</td>\n",
       "      <td>Av. Lerdo 416, Col. Centro, C.P. 21200,Mexical...</td>\n",
       "    </tr>\n",
       "    <tr>\n",
       "      <th>...</th>\n",
       "      <td>...</td>\n",
       "      <td>...</td>\n",
       "      <td>...</td>\n",
       "      <td>...</td>\n",
       "      <td>...</td>\n",
       "      <td>...</td>\n",
       "      <td>...</td>\n",
       "      <td>...</td>\n",
       "      <td>...</td>\n",
       "    </tr>\n",
       "    <tr>\n",
       "      <th>359</th>\n",
       "      <td>El Buen Samaritano</td>\n",
       "      <td>Tapachula, Chiapas</td>\n",
       "      <td>Chiapas</td>\n",
       "      <td>OSC / ONG</td>\n",
       "      <td>Centros de Asistencia Social</td>\n",
       "      <td>14.884685</td>\n",
       "      <td>-92.254527</td>\n",
       "      <td>PG735</td>\n",
       "      <td>Calle Iztapalapa 36, Col. Azteca C.P. 30786</td>\n",
       "    </tr>\n",
       "    <tr>\n",
       "      <th>360</th>\n",
       "      <td>Albergue Jesus el Buen Pastor</td>\n",
       "      <td>Tapachula, Chiapas</td>\n",
       "      <td>Chiapas</td>\n",
       "      <td>OSC / ONG</td>\n",
       "      <td>Centros de Asistencia Social</td>\n",
       "      <td>14.876615</td>\n",
       "      <td>-92.307405</td>\n",
       "      <td>PG735</td>\n",
       "      <td>Entronque a Raymundo Enriquez (a 500 metros ha...</td>\n",
       "    </tr>\n",
       "    <tr>\n",
       "      <th>361</th>\n",
       "      <td>Albergue Jesus el buen pastor</td>\n",
       "      <td>Tapachula, Chiapas</td>\n",
       "      <td>Chiapas</td>\n",
       "      <td>OSC / ONG</td>\n",
       "      <td>Centros de Asistencia Social</td>\n",
       "      <td>14.865703</td>\n",
       "      <td>-92.313195</td>\n",
       "      <td>PG735</td>\n",
       "      <td>Carretera a Raymundo Enrique, 500 metros hacia...</td>\n",
       "    </tr>\n",
       "    <tr>\n",
       "      <th>362</th>\n",
       "      <td>Hecate Society Tapachula</td>\n",
       "      <td>Tapachula, Chiapas</td>\n",
       "      <td>Chiapas</td>\n",
       "      <td>OSC / ONG</td>\n",
       "      <td>Centros de Asistencia Social</td>\n",
       "      <td>14.864105</td>\n",
       "      <td>-92.288559</td>\n",
       "      <td>PG735</td>\n",
       "      <td>No disponible,Tapachula, Chiapas</td>\n",
       "    </tr>\n",
       "    <tr>\n",
       "      <th>363</th>\n",
       "      <td>Albergue Hospitalidad y Solidaridad</td>\n",
       "      <td>Tapachula, Chiapas</td>\n",
       "      <td>Chiapas</td>\n",
       "      <td>OSC / ONG</td>\n",
       "      <td>Centros de Asistencia Social</td>\n",
       "      <td>14.829263</td>\n",
       "      <td>-92.331186</td>\n",
       "      <td>PG735</td>\n",
       "      <td>Carretera Tapachula-Puerto Madero, Km. 12+500 ...</td>\n",
       "    </tr>\n",
       "  </tbody>\n",
       "</table>\n",
       "<p>364 rows × 9 columns</p>\n",
       "</div>"
      ],
      "text/plain": [
       "                                                  name  \\\n",
       "0                                Angeles Sin Fronteras   \n",
       "1                 Centro de Apoyo al Trabajor Migrante   \n",
       "2    Centro de Apoyo al Trabajador Migrante: Comite...   \n",
       "3                                  Comedor Cobina A.C.   \n",
       "4                                Comedor Cobina, A.C.    \n",
       "..                                                 ...   \n",
       "359                                 El Buen Samaritano   \n",
       "360                      Albergue Jesus el Buen Pastor   \n",
       "361                     Albergue Jesus el buen pastor    \n",
       "362                          Hecate Society Tapachula    \n",
       "363                Albergue Hospitalidad y Solidaridad   \n",
       "\n",
       "                        ciudad           estado       tipo  \\\n",
       "0    Mexicali, Baja California  Baja California  OSC / ONG   \n",
       "1    Mexicali, Baja California  Baja California  OSC / ONG   \n",
       "2    Mexicali, Baja California  Baja California  OSC / ONG   \n",
       "3    Mexicali, Baja California  Baja California  OSC / ONG   \n",
       "4    Mexicali, Baja California  Baja California  OSC / ONG   \n",
       "..                         ...              ...        ...   \n",
       "359         Tapachula, Chiapas          Chiapas  OSC / ONG   \n",
       "360         Tapachula, Chiapas          Chiapas  OSC / ONG   \n",
       "361         Tapachula, Chiapas          Chiapas  OSC / ONG   \n",
       "362         Tapachula, Chiapas          Chiapas  OSC / ONG   \n",
       "363         Tapachula, Chiapas          Chiapas  OSC / ONG   \n",
       "\n",
       "                          subtipo    latitud    longitud ID_Poligono  \\\n",
       "0    Centros de Asistencia Social  32.662937 -115.494983       PG132   \n",
       "1    Centros de Asistencia Social  32.660848 -115.479494       PG132   \n",
       "2    Centros de Asistencia Social  32.660305 -115.459726       PG132   \n",
       "3    Centros de Asistencia Social  32.660301 -115.489875       PG132   \n",
       "4    Centros de Asistencia Social  32.660172 -115.492330       PG132   \n",
       "..                            ...        ...         ...         ...   \n",
       "359  Centros de Asistencia Social  14.884685  -92.254527       PG735   \n",
       "360  Centros de Asistencia Social  14.876615  -92.307405       PG735   \n",
       "361  Centros de Asistencia Social  14.865703  -92.313195       PG735   \n",
       "362  Centros de Asistencia Social  14.864105  -92.288559       PG735   \n",
       "363  Centros de Asistencia Social  14.829263  -92.331186       PG735   \n",
       "\n",
       "                                             direccion  \n",
       "0         Av. Reforma 244, Altos Zona Centro C.P.21100  \n",
       "1                    Jabonera 6, Col. Nueva C.P. 21100  \n",
       "2    Calle Jabonera #6, Colonia Nueva, Mexicali, Ba...  \n",
       "3            Avenida Lerdo 416, Col. Centro C.P. 21200  \n",
       "4    Av. Lerdo 416, Col. Centro, C.P. 21200,Mexical...  \n",
       "..                                                 ...  \n",
       "359        Calle Iztapalapa 36, Col. Azteca C.P. 30786  \n",
       "360  Entronque a Raymundo Enriquez (a 500 metros ha...  \n",
       "361  Carretera a Raymundo Enrique, 500 metros hacia...  \n",
       "362                   No disponible,Tapachula, Chiapas  \n",
       "363  Carretera Tapachula-Puerto Madero, Km. 12+500 ...  \n",
       "\n",
       "[364 rows x 9 columns]"
      ]
     },
     "execution_count": 7,
     "metadata": {},
     "output_type": "execute_result"
    }
   ],
   "source": [
    "sc"
   ]
  },
  {
   "cell_type": "code",
   "execution_count": 9,
   "id": "93ca6497",
   "metadata": {},
   "outputs": [],
   "source": [
    "grid7x7 = gpd.read_file('/Users/pablouriarte/Documents/1. Expediente Tec de Monterrey/1.Tesis/Mapa_Migracion_Irregular_Mexico/1. Mapas/2. arcgis(general)/grids/grid7x7/grid_punto7x7.shp')"
   ]
  },
  {
   "cell_type": "code",
   "execution_count": 11,
   "id": "32c24beb",
   "metadata": {},
   "outputs": [
    {
     "name": "stdout",
     "output_type": "stream",
     "text": [
      "                                                name  \\\n",
      "0                              Angeles Sin Fronteras   \n",
      "1               Centro de Apoyo al Trabajor Migrante   \n",
      "2  Centro de Apoyo al Trabajador Migrante: Comite...   \n",
      "3                                Comedor Cobina A.C.   \n",
      "4                              Comedor Cobina, A.C.    \n",
      "\n",
      "                      ciudad           estado       tipo  \\\n",
      "0  Mexicali, Baja California  Baja California  OSC / ONG   \n",
      "1  Mexicali, Baja California  Baja California  OSC / ONG   \n",
      "2  Mexicali, Baja California  Baja California  OSC / ONG   \n",
      "3  Mexicali, Baja California  Baja California  OSC / ONG   \n",
      "4  Mexicali, Baja California  Baja California  OSC / ONG   \n",
      "\n",
      "                        subtipo    latitud    longitud  \\\n",
      "0  Centros de Asistencia Social  32.662937 -115.494983   \n",
      "1  Centros de Asistencia Social  32.660848 -115.479494   \n",
      "2  Centros de Asistencia Social  32.660305 -115.459726   \n",
      "3  Centros de Asistencia Social  32.660301 -115.489875   \n",
      "4  Centros de Asistencia Social  32.660172 -115.492330   \n",
      "\n",
      "                                           direccion  \n",
      "0       Av. Reforma 244, Altos Zona Centro C.P.21100  \n",
      "1                  Jabonera 6, Col. Nueva C.P. 21100  \n",
      "2  Calle Jabonera #6, Colonia Nueva, Mexicali, Ba...  \n",
      "3          Avenida Lerdo 416, Col. Centro C.P. 21200  \n",
      "4  Av. Lerdo 416, Col. Centro, C.P. 21200,Mexical...  \n"
     ]
    }
   ],
   "source": [
    "sc = sc.drop(columns=['ID_Poligono'])\n",
    "\n",
    "# Verificar el cambio\n",
    "print(sc.head())"
   ]
  },
  {
   "cell_type": "code",
   "execution_count": 12,
   "id": "557d8df6",
   "metadata": {},
   "outputs": [
    {
     "name": "stderr",
     "output_type": "stream",
     "text": [
      "/Users/pablouriarte/opt/anaconda3/lib/python3.9/site-packages/geopandas/geoseries.py:645: FutureWarning: the convert_dtype parameter is deprecated and will be removed in a future version.  Do ``ser.astype(object).apply()`` instead if you want ``convert_dtype=False``.\n",
      "  result = super().apply(func, convert_dtype=convert_dtype, args=args, **kwargs)\n"
     ]
    }
   ],
   "source": [
    "from shapely.wkt import loads\n",
    "if 'geometry' in grid7x7.columns:\n",
    "    # Convertir cadenas de geometría a objetos geométricos usando `loads` de Shapely\n",
    "    grid7x7['geometry'] = grid7x7['geometry'].apply(lambda x: loads(x) if isinstance(x, str) else x)\n",
    "\n",
    "    # Ahora que todos los valores en 'geometry' son objetos geométricos, crea el GeoDataFrame\n",
    "    grid7x7 = gpd.GeoDataFrame(grid7x7, geometry='geometry')\n",
    "else:\n",
    "    print(\"La columna 'geometry' no existe en 'grid'.\")"
   ]
  },
  {
   "cell_type": "code",
   "execution_count": 15,
   "id": "4c29424e",
   "metadata": {},
   "outputs": [
    {
     "name": "stdout",
     "output_type": "stream",
     "text": [
      "                                                name  \\\n",
      "0                              Angeles Sin Fronteras   \n",
      "1               Centro de Apoyo al Trabajor Migrante   \n",
      "2  Centro de Apoyo al Trabajador Migrante: Comite...   \n",
      "3                                Comedor Cobina A.C.   \n",
      "4                              Comedor Cobina, A.C.    \n",
      "\n",
      "                      ciudad           estado       tipo  \\\n",
      "0  Mexicali, Baja California  Baja California  OSC / ONG   \n",
      "1  Mexicali, Baja California  Baja California  OSC / ONG   \n",
      "2  Mexicali, Baja California  Baja California  OSC / ONG   \n",
      "3  Mexicali, Baja California  Baja California  OSC / ONG   \n",
      "4  Mexicali, Baja California  Baja California  OSC / ONG   \n",
      "\n",
      "                        subtipo    latitud    longitud  \\\n",
      "0  Centros de Asistencia Social  32.662937 -115.494983   \n",
      "1  Centros de Asistencia Social  32.660848 -115.479494   \n",
      "2  Centros de Asistencia Social  32.660305 -115.459726   \n",
      "3  Centros de Asistencia Social  32.660301 -115.489875   \n",
      "4  Centros de Asistencia Social  32.660172 -115.492330   \n",
      "\n",
      "                                           direccion ID_Poligono  \n",
      "0       Av. Reforma 244, Altos Zona Centro C.P.21100       PG268  \n",
      "1                  Jabonera 6, Col. Nueva C.P. 21100       PG268  \n",
      "2  Calle Jabonera #6, Colonia Nueva, Mexicali, Ba...       PG268  \n",
      "3          Avenida Lerdo 416, Col. Centro C.P. 21200       PG268  \n",
      "4  Av. Lerdo 416, Col. Centro, C.P. 21200,Mexical...       PG268  \n"
     ]
    },
    {
     "name": "stderr",
     "output_type": "stream",
     "text": [
      "/Users/pablouriarte/opt/anaconda3/lib/python3.9/site-packages/IPython/core/interactiveshell.py:3377: FutureWarning: The `op` parameter is deprecated and will be removed in a future release. Please use the `predicate` parameter instead.\n",
      "  if (await self.run_code(code, result,  async_=asy)):\n"
     ]
    }
   ],
   "source": [
    "# Convertir df1 en GeoDataFrame\n",
    "sc1 = gpd.GeoDataFrame(sc, geometry=gpd.points_from_xy(sc.longitud, sc.latitud))\n",
    "\n",
    "# Aquí estoy asumiendo que tus datos están en WGS84 (EPSG:4326)\n",
    "sc1.set_crs(epsg=4326, inplace=True)\n",
    "grid7x7.set_crs(epsg=4326, inplace=True)\n",
    "\n",
    "# Realizar la operación sjoin\n",
    "gdf1_sjoined = gpd.sjoin(sc1, grid7x7, how=\"left\", op=\"within\")\n",
    "\n",
    "# Asignar los 'ID_Poligono' a df1 desde el resultado del sjoin\n",
    "sc[\"ID_Poligono\"] = gdf1_sjoined[\"ID_Poligon\"]\n",
    "\n",
    "# Verificar los resultados\n",
    "print(sc.head())"
   ]
  },
  {
   "cell_type": "code",
   "execution_count": 16,
   "id": "17cb4b4f",
   "metadata": {},
   "outputs": [
    {
     "name": "stdout",
     "output_type": "stream",
     "text": [
      "El DataFrame ha sido guardado exitosamente en: /Users/pablouriarte/Documents/1. Expediente Tec de Monterrey/1.Tesis/Mapa_Migracion_Irregular_Mexico/1. Mapas/1. Mapas/Metodo_1/SC/instituciones_sc_1.csv\n"
     ]
    }
   ],
   "source": [
    "ruta_nueva2 = '/Users/pablouriarte/Documents/1. Expediente Tec de Monterrey/1.Tesis/Mapa_Migracion_Irregular_Mexico/1. Mapas/1. Mapas/Metodo_1/SC/instituciones_sc_1.csv'\n",
    "\n",
    "# Guardar el DataFrame en un archivo Excel en la ruta especificada\n",
    "sc.to_csv(ruta_nueva2, index=False)\n",
    "\n",
    "print(f\"El DataFrame ha sido guardado exitosamente en: {ruta_nueva2}\")"
   ]
  },
  {
   "cell_type": "code",
   "execution_count": null,
   "id": "0250854e",
   "metadata": {},
   "outputs": [],
   "source": []
  },
  {
   "cell_type": "code",
   "execution_count": null,
   "id": "37e00931",
   "metadata": {},
   "outputs": [],
   "source": []
  },
  {
   "cell_type": "code",
   "execution_count": null,
   "id": "468d2775",
   "metadata": {},
   "outputs": [],
   "source": []
  },
  {
   "cell_type": "code",
   "execution_count": null,
   "id": "978ccb56",
   "metadata": {},
   "outputs": [],
   "source": []
  },
  {
   "cell_type": "code",
   "execution_count": null,
   "id": "ef9fd2ea",
   "metadata": {},
   "outputs": [],
   "source": []
  },
  {
   "cell_type": "code",
   "execution_count": null,
   "id": "f04f39ea",
   "metadata": {},
   "outputs": [],
   "source": []
  },
  {
   "cell_type": "markdown",
   "id": "e82f978d",
   "metadata": {},
   "source": [
    "### mujeres, niños y familias"
   ]
  },
  {
   "cell_type": "code",
   "execution_count": null,
   "id": "93fc2530",
   "metadata": {},
   "outputs": [],
   "source": [
    "DIF = directorio_full[directorio_full['descripcion'] == 'DIF']"
   ]
  },
  {
   "cell_type": "code",
   "execution_count": null,
   "id": "2b03502e",
   "metadata": {},
   "outputs": [],
   "source": [
    "DIF"
   ]
  },
  {
   "cell_type": "code",
   "execution_count": null,
   "id": "2c92e642",
   "metadata": {},
   "outputs": [],
   "source": []
  }
 ],
 "metadata": {
  "kernelspec": {
   "display_name": "Python 3 (ipykernel)",
   "language": "python",
   "name": "python3"
  },
  "language_info": {
   "codemirror_mode": {
    "name": "ipython",
    "version": 3
   },
   "file_extension": ".py",
   "mimetype": "text/x-python",
   "name": "python",
   "nbconvert_exporter": "python",
   "pygments_lexer": "ipython3",
   "version": "3.9.13"
  }
 },
 "nbformat": 4,
 "nbformat_minor": 5
}
