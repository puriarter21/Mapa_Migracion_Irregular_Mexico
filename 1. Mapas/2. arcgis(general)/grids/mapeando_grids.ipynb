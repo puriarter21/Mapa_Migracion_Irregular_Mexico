{
 "cells": [
  {
   "cell_type": "code",
   "execution_count": 1,
   "id": "9d15383b",
   "metadata": {},
   "outputs": [],
   "source": [
    "import pandas as pd\n",
    "from geopy.geocoders import Photon\n",
    "from geopy.geocoders import Nominatim\n",
    "from unidecode import unidecode\n",
    "import unidecode\n"
   ]
  },
  {
   "cell_type": "code",
   "execution_count": 2,
   "id": "d2223cc4",
   "metadata": {},
   "outputs": [],
   "source": [
    "import geopandas as gpd"
   ]
  },
  {
   "cell_type": "code",
   "execution_count": 3,
   "id": "feee2548",
   "metadata": {},
   "outputs": [],
   "source": [
    "import numpy as np\n",
    "from shapely.geometry import Point, Polygon\n",
    "\n",
    "import math\n"
   ]
  },
  {
   "cell_type": "markdown",
   "id": "cd1f75c3",
   "metadata": {},
   "source": [
    "\n",
    "# Grid Shapes\n",
    "\n",
    "Para crear un grid con polígonos geoespaciales y asignar a cada punto según su latitud y longitud a un polígono correspondiente, se puede utilizar la biblioteca geopandas en Python, que extiende las capacidades de pandas para trabajar con datos espaciales. También usaremos shapely para manipular y analizar datos geométricos planos, y numpy para manejar operaciones numéricas.\n",
    "\n",
    "Primero, generamos un conjunto de polígonos que representen cada celda del grid sobre el área de interés (en este caso, México). Cada polígono puede ser identificado de manera única, por ejemplo, usando una convención de nomenclatura como PG1, PG2, etc."
   ]
  },
  {
   "cell_type": "markdown",
   "id": "85a18ba9",
   "metadata": {},
   "source": [
    "### Tamaños del grid\n",
    "\n",
    "    - Dimensiones del grid: 120, 10, -82, 37 (son las puntos cardinales que cubren el espacio donde se encuentra Mexico)\n",
    "    \n",
    "    - Tamaño de los poligonos que integran el grid:\n",
    "    \n",
    "CRS = EPSG:4326 para las coordenadas geográficas\n",
    "\n",
    "Metros = epsg=6366 (10000) = 10km ¿Por que?\n",
    "\n",
    "Usando \"EPSG:4326\", sacamos una aproximacion en metros para el tamaño de nuestros grids, directamente relacionada con las zonas a analizar.\n",
    "\n"
   ]
  },
  {
   "cell_type": "code",
   "execution_count": null,
   "id": "ad74c441",
   "metadata": {},
   "outputs": [],
   "source": [
    "def longitud_por_porcentaje_lat(latitud, porcentaje):\n",
    "    \"\"\"\n",
    "    Calcula la longitud en metros de un porcentaje de 1 grado de longitud a una latitud dada.\n",
    "    \n",
    "    Args:\n",
    "    latitud (float): La latitud en grados.\n",
    "    porcentaje (float): El porcentaje de 1 grado de longitud. Por ejemplo, 0.5 para 50%, 0.6 para 60%.\n",
    "    \n",
    "    Returns:\n",
    "    float: La longitud en metros del porcentaje dado de 1 grado de longitud en la latitud especificada.\n",
    "    \"\"\"\n",
    "    # Convertir latitud a radianes\n",
    "    lat_rad = math.radians(latitud)\n",
    "    # Calcular longitud en km por grado de longitud\n",
    "    longitud_km = math.cos(lat_rad) * 111.32\n",
    "    # Convertir a metros y aplicar el porcentaje\n",
    "    return longitud_km * 1000 * porcentaje\n",
    "\n",
    "# Ejemplo de uso: Calcular el % de 1 grado de longitud en la latitud 10°\n",
    "longitud_10_50porc = longitud_por_porcentaje_lat(10, .7)\n",
    "# Ejemplo de uso: Calcular el % de 1 grado de longitud en la latitud 37°\n",
    "longitud_37_50porc = longitud_por_porcentaje_lat(37, .7)\n",
    "\n",
    "print(f\"% de 1 grado de longitud a 10° latitud: {longitud_10_50porc:.2f} metros\")\n",
    "print(f\"% de 1 grado de longitud a 37° latitud: {longitud_37_50porc:.2f} metros\")\n"
   ]
  },
  {
   "cell_type": "code",
   "execution_count": null,
   "id": "1bdd7379",
   "metadata": {},
   "outputs": [],
   "source": [
    "def longitud_por_porcentaje_latitud(porcentaje):\n",
    "    \"\"\"\n",
    "    Calcula la longitud en metros de un porcentaje de 1 grado de latitud.\n",
    "    \n",
    "    Args:\n",
    "    porcentaje (float): El porcentaje de 1 grado de latitud. Por ejemplo, 0.5 para 50%, 0.6 para 60%.\n",
    "    \n",
    "    Returns:\n",
    "    float: La longitud en metros del porcentaje dado de 1 grado de latitud.\n",
    "    \"\"\"\n",
    "    longitud_km_por_grado = 111  # Aproximadamente 111 km por grado de latitud\n",
    "    return longitud_km_por_grado * 1000 * porcentaje  # Convertir a metros y aplicar el porcentaje\n",
    "\n",
    "# Ejemplo de uso: Calcular el 50% de 1 grado de latitud\n",
    "longitud_50porc_latitud = longitud_por_porcentaje_latitud(0.7)\n",
    "# Ejemplo de uso: Calcular el 60% de 1 grado de latitud\n",
    "longitud_60porc_latitud = longitud_por_porcentaje_latitud(0.7)\n",
    "\n",
    "print(f\"50% de 1 grado de latitud: {longitud_50porc_latitud:.2f} metros\")\n",
    "print(f\"60% de 1 grado de latitud: {longitud_60porc_latitud:.2f} metros\")\n"
   ]
  },
  {
   "cell_type": "code",
   "execution_count": null,
   "id": "aeebc84e",
   "metadata": {},
   "outputs": [],
   "source": [
    "def crear_grid(xmin, xmax, ymin, ymax, ancho_celda, alto_celda):\n",
    "    cols = list(np.arange(xmin, xmax, ancho_celda))\n",
    "    rows = list(np.arange(ymin, ymax, alto_celda))\n",
    "    poligonos = []\n",
    "    ids = []\n",
    "\n",
    "    id_contador = 1  # Iniciar contador para los ID de polígonos\n",
    "    for x in cols:\n",
    "        for y in rows:\n",
    "            poligonos.append(Polygon([(x, y), (x+ancho_celda, y), (x+ancho_celda, y-alto_celda), (x, y-alto_celda)]))\n",
    "            ids.append(f\"PG{id_contador}\")  # Asignar un ID único a cada polígono\n",
    "            id_contador += 1\n",
    "\n",
    "    grid = gpd.GeoDataFrame({'ID_Poligono': ids, 'geometry': poligonos})\n",
    "    return grid\n",
    "\n",
    "# Generar el grid con los límites aproximados de México y celdas de 1 grado por 1 grado\n",
    "\n",
    "xmin, ymin, xmax, ymax = -120, 10, -82, 37\n",
    "\n",
    "grid_1 = crear_grid(xmin, xmax, ymin, ymax, 1, 1)\n",
    "grid_punto7 = crear_grid(xmin, xmax, ymin, ymax, .7, .7)\n",
    "\n",
    "#Ahora, 'grid' es un GeoDataFrame que contiene el 'ID_Poligono' y su 'geometry'\n",
    "print(grid_1.head())\n",
    "print(grid_punto7.head())"
   ]
  },
  {
   "cell_type": "code",
   "execution_count": null,
   "id": "cba5ba92",
   "metadata": {},
   "outputs": [],
   "source": [
    "# Guardar grid_1 como Shapefile\n",
    "grid_1.to_file(\"/Users/pablouriarte/Documents/1. Expediente Tec de Monterrey/1.Tesis/Mapa_Migracion_Irregular_Mexico/1. Mapas/2. arcgis(general)/grids/grid_1x1.shp\")\n",
    "\n",
    "# Guardar grid_punto7 como Shapefile\n",
    "grid_punto7.to_file(\"/Users/pablouriarte/Documents/1. Expediente Tec de Monterrey/1.Tesis/Mapa_Migracion_Irregular_Mexico/1. Mapas/2. arcgis(general)/grids/grid_punto7x7.shp\")\n"
   ]
  },
  {
   "cell_type": "code",
   "execution_count": null,
   "id": "08f9a7ce",
   "metadata": {},
   "outputs": [],
   "source": []
  },
  {
   "cell_type": "code",
   "execution_count": null,
   "id": "2efe3025",
   "metadata": {},
   "outputs": [],
   "source": []
  },
  {
   "cell_type": "code",
   "execution_count": null,
   "id": "032fea3f",
   "metadata": {},
   "outputs": [],
   "source": [
    "# Definir las listas de estados para cada ruta, asegurándose de que todas las entradas están correctamente formateadas como strings\n",
    "estados_ruta_golfo = ['Tabasco', 'Nuevo Leon', 'Veracruz', 'Tamaulipas']\n",
    "estados_ruta_pacifico = ['Guerrero', 'Michoacan', 'Jalisco', 'Nayarit', 'Sinaloa', 'Sonora', 'Baja California', 'Baja California Sur','Colima']\n",
    "estados_ruta_centro = ['San Luis Potosi','Estado de Mexico', 'Tlaxcala', 'Ciudad de Mexico', 'Puebla', 'Morelos', 'Hidalgo', 'Zacatecas', 'Durango', 'Chihuahua', 'Coahuila', 'Queretaro', 'Aguascalientes', 'Guanajuato']\n",
    "ruta_sur = ['Chiapas', 'Oaxaca', 'Tabasco', 'Campeche', 'Quintana Roo', 'Yucatan']\n",
    "\n",
    "# Actualizar la función para asignar la ruta basada en el estado\n",
    "#def asignar_ruta(estado):\n",
    "#    estado = estado.strip()  # Eliminar espacios en blanco al principio y al final\n",
    "#    if estado in estados_ruta_golfo:\n",
    "#        return 'Ruta del Golfo'\n",
    "#    elif estado in estados_ruta_pacifico:\n",
    "#        return 'Ruta del Pacifico'\n",
    "#    elif estado in estados_ruta_centro:\n",
    "#        return 'Ruta Centro'\n",
    "#    elif estado in ruta_sur:\n",
    "#        return 'Ruta Sur'\n",
    "#    else:\n",
    "#        return 'Ruta no identificada'  # Para estados que no coinciden con las listas\n",
    "\n",
    "# Aplicar la función al DataFrame para crear una nueva columna 'Ruta'\n",
    "#datos_csv['ruta'] = datos_csv['estado'].apply(asignar_ruta)"
   ]
  },
  {
   "cell_type": "code",
   "execution_count": null,
   "id": "9a0c61d5",
   "metadata": {},
   "outputs": [],
   "source": [
    "# Reordenar las columnas para colocar 'Estado' después de 'Ciudad'\n",
    "#column_order = ['ciudad', 'estado', 'ruta','detenciones']\n",
    "\n",
    "# Aplicar el nuevo orden de columnas al DataFrame\n",
    "#datos_csv = datos_csv[column_order]"
   ]
  },
  {
   "cell_type": "code",
   "execution_count": null,
   "id": "23491835",
   "metadata": {},
   "outputs": [],
   "source": [
    "# Obtenemos los valores únicos de la columna 'ruta'\n",
    "#valores_unicos_ruta = datos_csv['ruta'].unique()\n",
    "\n",
    "# Imprimimos los valores únicos\n",
    "#print(valores_unicos_ruta)"
   ]
  },
  {
   "cell_type": "code",
   "execution_count": null,
   "id": "c1c00bbb",
   "metadata": {},
   "outputs": [],
   "source": [
    "# Initialize the geolocator using OSM Nominatim\n",
    "#geolocator = Photon(user_agent=\"measurement\", timeout=10)\n",
    "\n",
    "# Define a function to get latitude and longitude\n",
    "#def get_lat_lon(address):\n",
    "#    try:\n",
    "#        location = geolocator.geocode(address)\n",
    "#        if location:\n",
    "#            return location.latitude, location.longitude\n",
    "#        else:\n",
    "#            return '', ''  # Return empty strings if location is not found\n",
    "#    except AttributeError:\n",
    "#        return '', ''\n",
    "\n",
    "# Apply the function to the 'City' column and split the results into 'Latitude' and 'Longitude' columns\n",
    "#datos_csv[['latitud', 'longitud']] = datos_csv['ciudad'].apply(lambda x: pd.Series(get_lat_lon(x)))"
   ]
  },
  {
   "cell_type": "code",
   "execution_count": null,
   "id": "13ad1baf",
   "metadata": {},
   "outputs": [],
   "source": [
    "# Especifica la ruta donde deseas guardar el archivo CSV\n",
    "#ruta_archivo_csv = '/Users/pablouriarte/Documents/1. Expediente Tec de Monterrey/1.Tesis/Mapa_Migracion_Irregular_Mexico/3. mapas/1. Mapas/Metodo_1/ciudades_rutas/ciudades detenciones/ciudades_detenciones_1.csv'\n",
    "\n",
    "# Guardar el DataFrame en el archivo CSV especificado\n",
    "#datos_csv.to_csv(ruta_archivo_csv, index=False)\n",
    "\n",
    "#print(f\"El DataFrame ha sido guardado exitosamente en: {ruta_archivo_csv}\")\n"
   ]
  },
  {
   "cell_type": "code",
   "execution_count": null,
   "id": "2db8b693",
   "metadata": {},
   "outputs": [],
   "source": [
    "# Cargar el archivo CSV\n",
    "#datos_csv1 = pd.read_csv('/Users/pablouriarte/Documents/1. Expediente Tec de Monterrey/1.Tesis/Mapa_Migracion_Irregular_Mexico/3. mapas/1. Mapas/Metodo_1/ciudades_rutas/ciudades detenciones/ciudades_detenciones_1.csv')\n"
   ]
  },
  {
   "cell_type": "code",
   "execution_count": null,
   "id": "22379d14",
   "metadata": {},
   "outputs": [],
   "source": [
    "# Convertir la columna 'detenciones' a entero\n",
    "#datos_csv1['detenciones'] = pd.to_numeric(datos_csv1['detenciones'], errors='coerce').fillna(0).astype(int)"
   ]
  },
  {
   "cell_type": "code",
   "execution_count": null,
   "id": "3d31129e",
   "metadata": {},
   "outputs": [],
   "source": [
    "# Identificar los índices de la primera fila de cada categoría en 'estado'\n",
    "#indices_a_eliminar = datos_csv1.groupby('estado').head(1).index\n",
    "\n",
    "# Eliminar esas filas del DataFrame\n",
    "#datos_csv1 = datos_csv1.drop(indices_a_eliminar)\n",
    "\n",
    "\n"
   ]
  },
  {
   "cell_type": "code",
   "execution_count": null,
   "id": "740063d7",
   "metadata": {},
   "outputs": [],
   "source": []
  },
  {
   "cell_type": "code",
   "execution_count": null,
   "id": "8dc1474c",
   "metadata": {},
   "outputs": [],
   "source": [
    "# Verificar los cambios\n",
    "#print(datos_csv1.head())\n"
   ]
  },
  {
   "cell_type": "code",
   "execution_count": null,
   "id": "4b6d7704",
   "metadata": {},
   "outputs": [],
   "source": [
    "# Agregar la columna 'tipo' con la etiqueta 'Presencia Migración Irregular' para todas las filas\n",
    "#datos_csv1['tipo'] = 'Presencia Migración Irregular'\n",
    "\n",
    "# Verificar los cambios mostrando las primeras filas del DataFrame\n",
    "#print(datos_csv1.head())\n"
   ]
  },
  {
   "cell_type": "code",
   "execution_count": null,
   "id": "557eaccc",
   "metadata": {},
   "outputs": [],
   "source": [
    "# Especifica la ruta donde deseas guardar el archivo CSV\n",
    "#ruta_archivo_csv1 = '/Users/pablouriarte/Documents/1. Expediente Tec de Monterrey/1.Tesis/Mapa_Migracion_Irregular_Mexico/3. mapas/1. Mapas/Metodo_1/ciudades_rutas/ciudades detenciones/ciudades_detenciones_1.csv'\n",
    "\n",
    "# Guardar el DataFrame en el archivo CSV especificado\n",
    "#datos_csv1.to_csv(ruta_archivo_csv1, index=False)\n",
    "\n",
    "#print(f\"El DataFrame ha sido guardado exitosamente en: {ruta_archivo_csv1}\")\n"
   ]
  },
  {
   "cell_type": "markdown",
   "id": "194fc4d8",
   "metadata": {},
   "source": [
    "### Grid Shape"
   ]
  },
  {
   "cell_type": "markdown",
   "id": "324e37ff",
   "metadata": {},
   "source": [
    "Para crear un grid con polígonos geoespaciales y asignar a cada punto según su latitud y longitud a un polígono correspondiente, se puede utilizar la biblioteca geopandas en Python, que extiende las capacidades de pandas para trabajar con datos espaciales. También usaremos shapely para manipular y analizar datos geométricos planos, y numpy para manejar operaciones numéricas.\n",
    "\n"
   ]
  },
  {
   "cell_type": "markdown",
   "id": "3cdcdf6f",
   "metadata": {},
   "source": [
    "Crear el Grid de Polígonos: Primero, generamos un conjunto de polígonos que representen cada celda del grid sobre el área de interés (en este caso, México). Cada polígono puede ser identificado de manera única, por ejemplo, usando una convención de nomenclatura como PG1, PG2, etc."
   ]
  },
  {
   "cell_type": "code",
   "execution_count": null,
   "id": "dc7cc266",
   "metadata": {},
   "outputs": [],
   "source": [
    "def crear_grid(xmin, xmax, ymin, ymax, ancho_celda, alto_celda):\n",
    "    cols = list(np.arange(xmin, xmax, ancho_celda))\n",
    "    rows = list(np.arange(ymin, ymax, alto_celda))\n",
    "    poligonos = []\n",
    "    ids = []\n",
    "\n",
    "    id_contador = 1  # Iniciar contador para los ID de polígonos\n",
    "    for x in cols:\n",
    "        for y in rows:\n",
    "            poligonos.append(Polygon([(x, y), (x+ancho_celda, y), (x+ancho_celda, y-alto_celda), (x, y-alto_celda)]))\n",
    "            ids.append(f\"PG{id_contador}\")  # Asignar un ID único a cada polígono\n",
    "            id_contador += 1\n",
    "\n",
    "    grid = gpd.GeoDataFrame({'ID_Poligono': ids, 'geometry': poligonos})\n",
    "    return grid\n",
    "\n",
    "# Generar el grid con los límites aproximados de México y celdas de 1 grado por 1 grado\n",
    "xmin, ymin, xmax, ymax = -120, 10, -82, 37\n",
    "grid = crear_grid(xmin, xmax, ymin, ymax, 1, 1)\n",
    "\n",
    " Ahora, 'grid' es un GeoDataFrame que contiene el 'ID_Poligono' y su 'geometry'\n",
    "#print(grid.head())"
   ]
  },
  {
   "cell_type": "code",
   "execution_count": null,
   "id": "c808a2a3",
   "metadata": {},
   "outputs": [],
   "source": [
    "# Cargar el archivo CSV\n",
    "#datos_csv1 = pd.read_csv('/Users/pablouriarte/Documents/1. Expediente Tec de Monterrey/1.Tesis/Mapa_Migracion_Irregular_Mexico/3. mapas/1. Mapas/Metodo_1/ciudades_rutas/ciudades detenciones/ciudades_detenciones_1.csv')\n"
   ]
  },
  {
   "cell_type": "code",
   "execution_count": null,
   "id": "814c87ed",
   "metadata": {},
   "outputs": [],
   "source": [
    "# Actualizar Campeche, Campeche\n",
    "datos_csv1.loc[(datos_csv1['ciudad'] == 'Campeche, Campeche'), 'latitud'] = 19.830285751988043\n",
    "datos_csv1.loc[(datos_csv1['ciudad'] == 'Campeche, Campeche'), 'longitud'] = -90.53551463998544\n",
    "\n",
    "# Actualizar Colima, Colima\n",
    "datos_csv1.loc[(datos_csv1['ciudad'] == 'Colima, Colima'), 'latitud'] = 19.24487815537049\n",
    "datos_csv1.loc[(datos_csv1['ciudad'] == 'Colima, Colima'), 'longitud'] = -103.7250306766154\n",
    "\n",
    "# Actualizar Puebla, Puebla\n",
    "datos_csv1.loc[(datos_csv1['ciudad'] == 'Puebla, Puebla'), 'latitud'] = 19.038406227976886\n",
    "datos_csv1.loc[(datos_csv1['ciudad'] == 'Puebla, Puebla'), 'longitud'] = -98.2069491554557\n",
    "\n",
    "\n",
    "datos_csv1.loc[(datos_csv1['ciudad'] == 'Zacatecas, Zacatecas'), 'latitud'] = 19.039018782328817\n",
    "datos_csv1.loc[(datos_csv1['ciudad'] == 'Zacatecas, Zacatecas'), 'longitud'] = -98.20248616428334"
   ]
  },
  {
   "cell_type": "code",
   "execution_count": null,
   "id": "cd75fc8a",
   "metadata": {},
   "outputs": [],
   "source": [
    "datos_csv1.head(30)"
   ]
  },
  {
   "cell_type": "code",
   "execution_count": null,
   "id": "9430f187",
   "metadata": {},
   "outputs": [],
   "source": [
    "# Eliminar las columnas del DataFrame\n",
    "#datos_csv1 = datos_csv1.drop(columns=['ID_Poligono','geometry', 'codigo_ruta', 'contador_xy', 'codigo_unico'])\n",
    "\n",
    "# Verificación: Muestra las primeras filas para asegurarse de que las columnas han sido eliminadas\n",
    "#print(datos_csv1.head())\n"
   ]
  },
  {
   "cell_type": "code",
   "execution_count": null,
   "id": "19543796",
   "metadata": {},
   "outputs": [],
   "source": [
    "# Convertir la columna 'detenciones' a entero\n",
    "#datos_csv1['detenciones'] = pd.to_numeric(datos_csv1['detenciones'], errors='coerce').fillna(0).astype(int)"
   ]
  },
  {
   "cell_type": "code",
   "execution_count": null,
   "id": "14090182",
   "metadata": {},
   "outputs": [],
   "source": [
    "# Paso 2: Asignar Puntos a Polígonos\n",
    "puntos = [Point(xy) for xy in zip(datos_csv1.longitud, datos_csv1.latitud)]\n",
    "geo_df = gpd.GeoDataFrame(datos_csv1, geometry=puntos)\n",
    "\n",
    "# Realizar la asignación\n",
    "geo_df = gpd.sjoin(geo_df, grid, how='left', op='within')\n",
    "\n",
    "# Paso 3: Actualizar DataFrame\n",
    "datos_csv1['ID_Poligono'] = geo_df['ID_Poligono']"
   ]
  },
  {
   "cell_type": "code",
   "execution_count": null,
   "id": "fd9da2c6",
   "metadata": {},
   "outputs": [],
   "source": [
    "# Asegurándose de que datos_csv2 es un GeoDataFrame\n",
    "if not isinstance(datos_csv1, gpd.GeoDataFrame):\n",
    "    # Si datos_csv2 ya tiene una columna 'geometry', úsala; de lo contrario, se necesita definir una\n",
    "    if 'geometry' in datos_csv1.columns:\n",
    "        datos_csv1 = gpd.GeoDataFrame(datos_csv1, geometry='geometry')\n",
    "    else:\n",
    "        # Aquí se asume que no hay una columna 'geometry' existente y que quizás no necesites definir una en este momento\n",
    "        datos_csv1 = gpd.GeoDataFrame(datos_csv1)\n",
    "\n",
    "# Realizar el merge (unión) entre datos_csv2 y grid usando 'ID_Poligono' como clave\n",
    "datos_csv1 = datos_csv1.merge(grid[['ID_Poligono', 'geometry']], on='ID_Poligono', how='left')\n"
   ]
  },
  {
   "cell_type": "code",
   "execution_count": null,
   "id": "3e2d269c",
   "metadata": {},
   "outputs": [],
   "source": []
  },
  {
   "cell_type": "code",
   "execution_count": null,
   "id": "bc313d21",
   "metadata": {},
   "outputs": [],
   "source": [
    "datos_csv1.tail(20)"
   ]
  },
  {
   "cell_type": "markdown",
   "id": "e65b801c",
   "metadata": {},
   "source": [
    "Asignar Puntos a Polígonos: Luego, para cada punto dado por sus coordenadas de latitud y longitud en datos_csv1, determinamos en qué polígono del grid se encuentra y asignamos el identificador de ese polígono al punto.\n"
   ]
  },
  {
   "cell_type": "markdown",
   "id": "f0a45369",
   "metadata": {},
   "source": [
    "el codigo de un punto se miraria algo asi: S-PG#-1\n",
    "\n",
    "Para asignar un código que combine el código de ruta por estado, el identificador del polígono al que pertenece cada punto y un número ascendente basado en el orden de las coordenadas XY dentro de cada polígono\n",
    "\n",
    "por estado, si:\n",
    "    'Ruta Sur': 'S',\n",
    "    'Ruta del Pacifico': 'P',\n",
    "    'Ruta Centro': 'C',\n",
    "    'Ruta del Golfo': 'G'\n",
    "    \n",
    "por ID_Poligono: el poligono a que pertenece\n",
    "\n",
    "y por orden asendientes de su coordenada xy dentro de cada poligono"
   ]
  },
  {
   "cell_type": "code",
   "execution_count": null,
   "id": "262c0ad8",
   "metadata": {},
   "outputs": [],
   "source": [
    "# Primero, mapeamos la columna 'ruta' a su código correspondiente\n",
    "ruta_to_code = {\n",
    "    'Ruta Sur': 'S',\n",
    "    'Ruta del Pacifico': 'P',\n",
    "    'Ruta Centro': 'C',\n",
    "    'Ruta del Golfo': 'G'\n",
    "}\n",
    "datos_csv1['codigo_ruta'] = datos_csv1['ruta'].map(ruta_to_code)\n",
    "\n",
    "# Asumiendo que 'datos_csv2' ya tiene una columna 'ID_Poligono',\n",
    "# vamos a crear una columna que identifique el orden XY dentro de cada polígono\n",
    "# Para esto, primero ordenamos el DataFrame\n",
    "datos_csv1.sort_values(by=['ID_Poligono', 'latitud', 'longitud'], ascending=[True, True, True], inplace=True)\n",
    "\n",
    "# Creamos una nueva columna que será el contador dentro de cada grupo de 'ID_Poligono'\n",
    "datos_csv1['contador_xy'] = datos_csv1.groupby('ID_Poligono').cumcount() + 1\n",
    "\n",
    "# Ahora, combinamos todo para crear el código único\n",
    "datos_csv1['codigo_unico'] = datos_csv1['codigo_ruta'] + '-' + datos_csv1['ID_Poligono'] + '-' + datos_csv1['contador_xy'].astype(str)\n",
    "\n",
    "# Revisamos el resultado\n",
    "print(datos_csv1[['ciudad', 'estado', 'ruta', 'ID_Poligono', 'codigo_unico']])\n"
   ]
  },
  {
   "cell_type": "markdown",
   "id": "53afaaf7",
   "metadata": {},
   "source": [
    "Actualizar DataFrame: Finalmente, agregamos una nueva columna al DataFrame datos_csv1 para almacenar el identificador del polígono del grid al que pertenece cada punto."
   ]
  },
  {
   "cell_type": "code",
   "execution_count": null,
   "id": "6ad7c7db",
   "metadata": {},
   "outputs": [],
   "source": [
    "# Obtener el conteo de los valores únicos en la columna 'ID_Poligono'\n",
    "conteo_id_poligono = datos_csv1['ID_Poligono'].value_counts()\n",
    "\n",
    "# Mostrar el conteo\n",
    "print(conteo_id_poligono)\n",
    "\n"
   ]
  },
  {
   "cell_type": "code",
   "execution_count": null,
   "id": "661514f1",
   "metadata": {},
   "outputs": [],
   "source": [
    "# Especifica la ruta donde deseas guardar el archivo CSV\n",
    "ruta_archivo_csv4 = '/Users/pablouriarte/Documents/1. Expediente Tec de Monterrey/1.Tesis/Mapa_Migracion_Irregular_Mexico/3. mapas/1. Mapas/Metodo_1/ciudades_rutas/ciudades detenciones/grid.csv'\n",
    "\n",
    "# Guardar el DataFrame en el archivo CSV especificado\n",
    "grid.to_csv(ruta_archivo_csv4, index=False)\n",
    "\n",
    "print(f\"El DataFrame ha sido guardado exitosamente en: {ruta_archivo_csv3}\")"
   ]
  },
  {
   "cell_type": "code",
   "execution_count": null,
   "id": "cc67118b",
   "metadata": {},
   "outputs": [],
   "source": [
    "grid"
   ]
  },
  {
   "cell_type": "code",
   "execution_count": null,
   "id": "17b146f9",
   "metadata": {},
   "outputs": [],
   "source": [
    "datos_csv2"
   ]
  },
  {
   "cell_type": "markdown",
   "id": "8995c505",
   "metadata": {},
   "source": [
    "### Arreglamos detenciones"
   ]
  },
  {
   "cell_type": "markdown",
   "id": "049bcac6",
   "metadata": {},
   "source": [
    "reordenar mi df datos_csv2, usando su columna estado, sort en orden alfabetico y resetear el index"
   ]
  },
  {
   "cell_type": "code",
   "execution_count": null,
   "id": "43c0419f",
   "metadata": {},
   "outputs": [],
   "source": [
    "# Cargar el archivo CSV\n",
    "datos_csv2 = pd.read_csv('/Users/pablouriarte/Documents/1. Expediente Tec de Monterrey/1.Tesis/Mapa_Migracion_Irregular_Mexico/3. mapas/1. Mapas/Metodo_1/ciudades_rutas/ciudades detenciones/ciudades_detenciones_1.csv')\n"
   ]
  },
  {
   "cell_type": "code",
   "execution_count": null,
   "id": "3c0bc232",
   "metadata": {},
   "outputs": [],
   "source": [
    "# Ordenamos el DataFrame por la columna 'estado' en orden alfabético\n",
    "datos_csv2_ordenado = datos_csv2.sort_values(by='estado')\n",
    "\n",
    "# Reseteamos el índice del DataFrame ordenado\n",
    "datos_csv2_ordenado.reset_index(drop=True, inplace=True)\n",
    "\n"
   ]
  },
  {
   "cell_type": "code",
   "execution_count": null,
   "id": "a7603fdf",
   "metadata": {},
   "outputs": [],
   "source": [
    "# Especifica la ruta donde deseas guardar el archivo CSV\n",
    "ruta_archivo_csv5 = '/Users/pablouriarte/Documents/1. Expediente Tec de Monterrey/1.Tesis/Mapa_Migracion_Irregular_Mexico/3. mapas/1. Mapas/Metodo_1/ciudades_rutas/ciudades detenciones/ciudades_detenciones_1.csv'\n",
    "\n",
    "# Guardar el DataFrame en el archivo CSV especificado\n",
    "datos_csv2_ordenado.to_csv(ruta_archivo_csv5, index=False)\n",
    "\n",
    "print(f\"El DataFrame ha sido guardado exitosamente en: {ruta_archivo_csv5}\")"
   ]
  },
  {
   "cell_type": "code",
   "execution_count": null,
   "id": "0d6b7701",
   "metadata": {},
   "outputs": [],
   "source": [
    "# Cargar el archivo CSV\n",
    "datos_csv3 = pd.read_csv('/Users/pablouriarte/Documents/1. Expediente Tec de Monterrey/1.Tesis/Mapa_Migracion_Irregular_Mexico/3. mapas/1. Mapas/Metodo_1/ciudades_rutas/ciudades detenciones/ciudades_detenciones_1.csv')\n"
   ]
  },
  {
   "cell_type": "markdown",
   "id": "69684484",
   "metadata": {},
   "source": [
    "#### AGREGamos columna con los datos de detenciones, procesamos y unimos"
   ]
  },
  {
   "cell_type": "code",
   "execution_count": null,
   "id": "c12abbf7",
   "metadata": {},
   "outputs": [],
   "source": [
    "# Cargar el archivo CSV\n",
    "datos_detenciones_2023 = pd.read_csv('/Users/pablouriarte/Documents/1. Expediente Tec de Monterrey/1.Tesis/Mapa_Migracion_Irregular_Mexico/3. mapas/1. Mapas/Metodo_1/ciudades_rutas/ciudades detenciones/ciudades_detenciones.csv')\n"
   ]
  },
  {
   "cell_type": "code",
   "execution_count": null,
   "id": "97248dff",
   "metadata": {},
   "outputs": [],
   "source": [
    "datos_detenciones_2023 = datos_detenciones_2023.dropna()"
   ]
  },
  {
   "cell_type": "code",
   "execution_count": null,
   "id": "9ca625b1",
   "metadata": {},
   "outputs": [],
   "source": [
    "datos_detenciones_2023.head()"
   ]
  },
  {
   "cell_type": "code",
   "execution_count": null,
   "id": "0d62ec7d",
   "metadata": {},
   "outputs": [],
   "source": [
    "# Cambiamos los nombres de las columnas usando el método 'rename'\n",
    "datos_detenciones_2023 = datos_detenciones_2023.rename(columns={'Unnamed: 0': 'ciudad', 'Unnamed: 1': 'detenciones'})\n",
    "\n"
   ]
  },
  {
   "cell_type": "code",
   "execution_count": null,
   "id": "19316c66",
   "metadata": {},
   "outputs": [],
   "source": [
    "# Función para eliminar acentos en una cadena de texto, manejando valores no-cadena\n",
    "def quitar_acentos(texto):\n",
    "    # Si el valor es una cadena, aplicamos unidecode\n",
    "    if isinstance(texto, str):\n",
    "        return unidecode.unidecode(texto)\n",
    "    # Si no es una cadena, lo dejamos tal cual (esto incluye NaN y números)\n",
    "    return texto\n",
    "\n",
    "# Aplicamos la función a todas las columnas de tipo object en el DataFrame\n",
    "for columna in datos_detenciones_2023.select_dtypes(include=['object']).columns:\n",
    "    datos_detenciones_2023[columna] = datos_detenciones_2023[columna].apply(quitar_acentos)\n",
    "\n"
   ]
  },
  {
   "cell_type": "code",
   "execution_count": null,
   "id": "3274d338",
   "metadata": {},
   "outputs": [],
   "source": [
    "# Función para detectar si un nombre de ciudad tiene caracteres especiales (no es alfanumérico)\n",
    "def tiene_caracteres_especiales(cadena):\n",
    "    return not cadena.replace(\" \", \"\").isalnum()\n",
    "\n",
    "# Crea una nueva columna 'estado' inicialmente llena con NaN\n",
    "datos_detenciones_2023['estado'] = pd.NA\n",
    "\n",
    "# Inicializamos una variable para almacenar el estado actual mientras iteramos\n",
    "estado_actual = None\n",
    "\n",
    "# Iteramos sobre las filas del DataFrame\n",
    "for index, row in datos_detenciones_2023.iterrows():\n",
    "    # Si la ciudad no tiene caracteres especiales, actualizamos estado_actual\n",
    "    if not tiene_caracteres_especiales(row['ciudad']):\n",
    "        estado_actual = row['ciudad']\n",
    "    # Asignamos el estado actual a la columna 'estado'\n",
    "    datos_detenciones_2023.at[index, 'estado'] = estado_actual"
   ]
  },
  {
   "cell_type": "code",
   "execution_count": null,
   "id": "16e623f0",
   "metadata": {},
   "outputs": [],
   "source": [
    "# Filtramos el DataFrame para mantener solo las filas donde la columna 'ciudad' tiene caracteres especiales\n",
    "datos_detenciones_2023 = datos_detenciones_2023[datos_detenciones_2023['ciudad'].apply(tiene_caracteres_especiales)]\n"
   ]
  },
  {
   "cell_type": "code",
   "execution_count": null,
   "id": "a7983b57",
   "metadata": {},
   "outputs": [],
   "source": [
    "# Asegúrate de que 'datos_detenciones_2023' es el DataFrame actual después de eliminar las filas con NaN.\n",
    "datos_detenciones_2023 = datos_detenciones_2023[['ciudad', 'estado', 'detenciones']]\n"
   ]
  },
  {
   "cell_type": "code",
   "execution_count": null,
   "id": "4f82204f",
   "metadata": {},
   "outputs": [],
   "source": [
    "# Reemplazamos el contenido de la columna 'ciudad' después de la primera coma por el valor de la columna 'estado'\n",
    "datos_detenciones_2023['ciudad'] = datos_detenciones_2023.apply(lambda fila: fila['ciudad'].split(',', 1)[0] + \", \" + fila['estado'], axis=1)\n"
   ]
  },
  {
   "cell_type": "code",
   "execution_count": null,
   "id": "c4276a6f",
   "metadata": {},
   "outputs": [],
   "source": [
    "# Verificamos el cambio\n",
    "print(datos_detenciones_2023.head(20))"
   ]
  },
  {
   "cell_type": "code",
   "execution_count": null,
   "id": "cb2989ec",
   "metadata": {},
   "outputs": [],
   "source": [
    "# Especifica la ruta donde deseas guardar el archivo CSV\n",
    "ruta_archivo_csv6 = '/Users/pablouriarte/Documents/1. Expediente Tec de Monterrey/1.Tesis/Mapa_Migracion_Irregular_Mexico/3. mapas/1. Mapas/Metodo_1/ciudades_rutas/ciudades detenciones/ciudades_detenciones_2023.csv'\n",
    "\n",
    "# Guardar el DataFrame en el archivo CSV especificado\n",
    "datos_detenciones_2023.to_csv(ruta_archivo_csv6, index=False)\n",
    "\n",
    "print(f\"El DataFrame ha sido guardado exitosamente en: {ruta_archivo_csv6}\")"
   ]
  },
  {
   "cell_type": "code",
   "execution_count": null,
   "id": "b4c29c19",
   "metadata": {},
   "outputs": [],
   "source": [
    "# Realizamos un merge entre datos_csv3 y datos_detenciones_2023 basándonos en 'ciudad'\n",
    "datos_combinados = pd.merge(datos_csv3, datos_detenciones_2023[['ciudad', 'detenciones']],\n",
    "                            on='ciudad', how='left', suffixes=('', '_nueva'))\n"
   ]
  },
  {
   "cell_type": "code",
   "execution_count": null,
   "id": "d8944948",
   "metadata": {},
   "outputs": [],
   "source": [
    "# Actualizamos la columna 'detenciones' en datos_csv3 con los valores de 'detenciones_nueva'\n",
    "datos_csv3['detenciones'] = datos_combinados['detenciones_nueva']\n"
   ]
  },
  {
   "cell_type": "code",
   "execution_count": null,
   "id": "c146a739",
   "metadata": {},
   "outputs": [],
   "source": [
    "# Verificamos el cambio\n",
    "print(datos_csv3.head())"
   ]
  },
  {
   "cell_type": "code",
   "execution_count": null,
   "id": "a26e9008",
   "metadata": {},
   "outputs": [],
   "source": [
    "# Especifica la ruta donde deseas guardar el archivo CSV\n",
    "ruta_archivo_csv7 = '/Users/pablouriarte/Documents/1. Expediente Tec de Monterrey/1.Tesis/Mapa_Migracion_Irregular_Mexico/3. mapas/1. Mapas/Metodo_1/ciudades_rutas/ciudades detenciones/ciudades_detenciones_1.csv'\n",
    "\n",
    "# Guardar el DataFrame en el archivo CSV especificado\n",
    "datos_csv3.to_csv(ruta_archivo_csv7, index=False)\n",
    "\n",
    "print(f\"El DataFrame ha sido guardado exitosamente en: {ruta_archivo_csv7}\")"
   ]
  },
  {
   "cell_type": "markdown",
   "id": "4ea65578",
   "metadata": {},
   "source": [
    "### Hacemos segundo df con geometry_range"
   ]
  },
  {
   "cell_type": "code",
   "execution_count": null,
   "id": "cf854f04",
   "metadata": {},
   "outputs": [],
   "source": [
    "datos_csv3.head()"
   ]
  },
  {
   "cell_type": "code",
   "execution_count": null,
   "id": "0c7e2aa7",
   "metadata": {},
   "outputs": [],
   "source": [
    "# Seleccionamos las columnas específicas de datos_csv3\n",
    "datos_csv4 = datos_csv3[['ciudad', 'estado', 'ruta', 'detenciones', 'latitud', 'longitud', 'tipo', 'ID_Poligono', 'codigo_unico']].copy()\n",
    "\n",
    "# Reseteamos el índice del nuevo DataFrame\n",
    "datos_csv3.reset_index(drop=True, inplace=True)\n",
    "\n",
    "# Verificamos el resultado\n",
    "print(datos_csv4.head())\n"
   ]
  },
  {
   "cell_type": "code",
   "execution_count": null,
   "id": "4a7f506c",
   "metadata": {},
   "outputs": [],
   "source": [
    "# Asegurándonos de trabajar con el DataFrame correcto, df1\n",
    "gdf = gpd.GeoDataFrame(datos_csv4, geometry=gpd.points_from_xy(datos_csv4.longitud, datos_csv4.latitud))\n",
    "\n",
    "# Estableciendo el CRS original a EPSG:4326 para las coordenadas geográficas\n",
    "gdf.crs = \"EPSG:4326\"\n",
    "\n",
    "# Cambiando el CRS a uno que use metros para el cálculo del buffer. Reemplazando el EPSG con un código correcto.\n",
    "# Nota: El EPSG 6366 parece ser un error. Asegúrate de usar el código EPSG de UTM adecuado para tu zona.\n",
    "gdf_metros = gdf.to_crs(epsg=6366)  # Reemplaza YOUR_UTM_EPSG_CODE con el código EPSG adecuado\n",
    "\n",
    "# Aplicando el buffer de 10km para crear una nueva columna 'geometry_range' con los polígonos\n",
    "gdf_metros['geometry_range'] = gdf_metros.geometry.buffer(10000)\n",
    "\n",
    "# (Opcional) Si deseas convertir el GeoDataFrame de regreso a lat/long (EPSG:4326) para alguna otra operación,\n",
    "# y quieres que la columna 'geometry_range' sea la geometría activa,\n",
    "# debes hacerlo antes de cambiar el CRS de regreso a EPSG:4326.\n",
    "# gdf_metros.set_geometry('geometry_range', inplace=True)\n",
    "\n",
    "# Cambiando de regreso a EPSG:4326\n",
    "gdf_final = gdf_metros.to_crs(epsg=4326)"
   ]
  },
  {
   "cell_type": "code",
   "execution_count": null,
   "id": "3d56af4c",
   "metadata": {},
   "outputs": [],
   "source": [
    "gdf_final"
   ]
  },
  {
   "cell_type": "code",
   "execution_count": null,
   "id": "9f0905c4",
   "metadata": {},
   "outputs": [],
   "source": [
    "# Especifica la ruta donde deseas guardar el archivo CSV\n",
    "ruta_archivo_csv7 = '/Users/pablouriarte/Documents/1. Expediente Tec de Monterrey/1.Tesis/Mapa_Migracion_Irregular_Mexico/3. mapas/1. Mapas/Metodo_1/ciudades_rutas/ciudades detenciones/ciudades_detenciones_geometry_range.csv'\n",
    "\n",
    "# Guardar el DataFrame en el archivo CSV especificado\n",
    "gdf_final.to_csv(ruta_archivo_csv6, index=False)\n",
    "\n",
    "print(f\"El DataFrame ha sido guardado exitosamente en: {ruta_archivo_csv7}\")"
   ]
  },
  {
   "cell_type": "markdown",
   "id": "b8681194",
   "metadata": {},
   "source": [
    "### Actualizacion de grids, join con eventos\n"
   ]
  },
  {
   "cell_type": "code",
   "execution_count": 4,
   "id": "9c9aa515",
   "metadata": {},
   "outputs": [],
   "source": [
    "# Cargar el archivo CSV\n",
    "grid7x7 = gpd.read_file('/Users/pablouriarte/Documents/1. Expediente Tec de Monterrey/1.Tesis/Mapa_Migracion_Irregular_Mexico/1. Mapas/2. arcgis(general)/grids/grid7x7/grid_punto7x7.shp')\n"
   ]
  },
  {
   "cell_type": "code",
   "execution_count": 5,
   "id": "4e0d1ce2",
   "metadata": {},
   "outputs": [
    {
     "data": {
      "text/html": [
       "<div>\n",
       "<style scoped>\n",
       "    .dataframe tbody tr th:only-of-type {\n",
       "        vertical-align: middle;\n",
       "    }\n",
       "\n",
       "    .dataframe tbody tr th {\n",
       "        vertical-align: top;\n",
       "    }\n",
       "\n",
       "    .dataframe thead th {\n",
       "        text-align: right;\n",
       "    }\n",
       "</style>\n",
       "<table border=\"1\" class=\"dataframe\">\n",
       "  <thead>\n",
       "    <tr style=\"text-align: right;\">\n",
       "      <th></th>\n",
       "      <th>ID_Poligon</th>\n",
       "      <th>geometry</th>\n",
       "    </tr>\n",
       "  </thead>\n",
       "  <tbody>\n",
       "    <tr>\n",
       "      <th>0</th>\n",
       "      <td>PG1</td>\n",
       "      <td>POLYGON ((-120.00000 10.00000, -119.30000 10.0...</td>\n",
       "    </tr>\n",
       "    <tr>\n",
       "      <th>1</th>\n",
       "      <td>PG2</td>\n",
       "      <td>POLYGON ((-120.00000 10.70000, -119.30000 10.7...</td>\n",
       "    </tr>\n",
       "    <tr>\n",
       "      <th>2</th>\n",
       "      <td>PG3</td>\n",
       "      <td>POLYGON ((-120.00000 11.40000, -119.30000 11.4...</td>\n",
       "    </tr>\n",
       "    <tr>\n",
       "      <th>3</th>\n",
       "      <td>PG4</td>\n",
       "      <td>POLYGON ((-120.00000 12.10000, -119.30000 12.1...</td>\n",
       "    </tr>\n",
       "    <tr>\n",
       "      <th>4</th>\n",
       "      <td>PG5</td>\n",
       "      <td>POLYGON ((-120.00000 12.80000, -119.30000 12.8...</td>\n",
       "    </tr>\n",
       "    <tr>\n",
       "      <th>...</th>\n",
       "      <td>...</td>\n",
       "      <td>...</td>\n",
       "    </tr>\n",
       "    <tr>\n",
       "      <th>2140</th>\n",
       "      <td>PG2141</td>\n",
       "      <td>POLYGON ((-82.20000 33.80000, -81.50000 33.800...</td>\n",
       "    </tr>\n",
       "    <tr>\n",
       "      <th>2141</th>\n",
       "      <td>PG2142</td>\n",
       "      <td>POLYGON ((-82.20000 34.50000, -81.50000 34.500...</td>\n",
       "    </tr>\n",
       "    <tr>\n",
       "      <th>2142</th>\n",
       "      <td>PG2143</td>\n",
       "      <td>POLYGON ((-82.20000 35.20000, -81.50000 35.200...</td>\n",
       "    </tr>\n",
       "    <tr>\n",
       "      <th>2143</th>\n",
       "      <td>PG2144</td>\n",
       "      <td>POLYGON ((-82.20000 35.90000, -81.50000 35.900...</td>\n",
       "    </tr>\n",
       "    <tr>\n",
       "      <th>2144</th>\n",
       "      <td>PG2145</td>\n",
       "      <td>POLYGON ((-82.20000 36.60000, -81.50000 36.600...</td>\n",
       "    </tr>\n",
       "  </tbody>\n",
       "</table>\n",
       "<p>2145 rows × 2 columns</p>\n",
       "</div>"
      ],
      "text/plain": [
       "     ID_Poligon                                           geometry\n",
       "0           PG1  POLYGON ((-120.00000 10.00000, -119.30000 10.0...\n",
       "1           PG2  POLYGON ((-120.00000 10.70000, -119.30000 10.7...\n",
       "2           PG3  POLYGON ((-120.00000 11.40000, -119.30000 11.4...\n",
       "3           PG4  POLYGON ((-120.00000 12.10000, -119.30000 12.1...\n",
       "4           PG5  POLYGON ((-120.00000 12.80000, -119.30000 12.8...\n",
       "...         ...                                                ...\n",
       "2140     PG2141  POLYGON ((-82.20000 33.80000, -81.50000 33.800...\n",
       "2141     PG2142  POLYGON ((-82.20000 34.50000, -81.50000 34.500...\n",
       "2142     PG2143  POLYGON ((-82.20000 35.20000, -81.50000 35.200...\n",
       "2143     PG2144  POLYGON ((-82.20000 35.90000, -81.50000 35.900...\n",
       "2144     PG2145  POLYGON ((-82.20000 36.60000, -81.50000 36.600...\n",
       "\n",
       "[2145 rows x 2 columns]"
      ]
     },
     "execution_count": 5,
     "metadata": {},
     "output_type": "execute_result"
    }
   ],
   "source": [
    "grid7x7"
   ]
  },
  {
   "cell_type": "code",
   "execution_count": 13,
   "id": "97981353",
   "metadata": {},
   "outputs": [
    {
     "name": "stdout",
     "output_type": "stream",
     "text": [
      "Index(['ID_Poligono', 'geometry'], dtype='object')\n"
     ]
    }
   ],
   "source": [
    "# Renombramos la columna 'ID_Poligon' a 'ID_Poligono' en el GeoDataFrame grid7x7\n",
    "grid7x7.rename(columns={'ID_Poligon': 'ID_Poligono'}, inplace=True)\n",
    "\n",
    "# Verificamos que el cambio se haya realizado correctamente\n",
    "print(grid7x7.columns)\n"
   ]
  },
  {
   "cell_type": "code",
   "execution_count": 17,
   "id": "ca63372a",
   "metadata": {},
   "outputs": [
    {
     "name": "stderr",
     "output_type": "stream",
     "text": [
      "/var/folders/68/6zkv8z4j4rl6ds90br2rb7ph0000gn/T/ipykernel_36111/2017937660.py:5: UserWarning: Column names longer than 10 characters will be truncated when saved to ESRI Shapefile.\n",
      "  grid7x7.to_file(ruta_archivo_shp, index=False)\n"
     ]
    },
    {
     "name": "stdout",
     "output_type": "stream",
     "text": [
      "El GeoDataFrame ha sido guardado exitosamente en: /Users/pablouriarte/Documents/1. Expediente Tec de Monterrey/1.Tesis/Mapa_Migracion_Irregular_Mexico/1. Mapas/2. arcgis(general)/grids/grid7x7/grid_punto7x7.shp\n"
     ]
    }
   ],
   "source": [
    "# Especifica la ruta donde deseas guardar el archivo shapefile\n",
    "ruta_archivo_shp = '/Users/pablouriarte/Documents/1. Expediente Tec de Monterrey/1.Tesis/Mapa_Migracion_Irregular_Mexico/1. Mapas/2. arcgis(general)/grids/grid7x7/grid_punto7x7.shp'\n",
    "\n",
    "# Guardar el GeoDataFrame en el archivo shapefile especificado\n",
    "grid7x7.to_file(ruta_archivo_shp, index=False)\n",
    "\n",
    "print(f\"El GeoDataFrame ha sido guardado exitosamente en: {ruta_archivo_shp}\")\n"
   ]
  },
  {
   "cell_type": "code",
   "execution_count": 26,
   "id": "e1fd71f1",
   "metadata": {},
   "outputs": [],
   "source": [
    "dfvalores = pd.read_csv('/Users/pablouriarte/Documents/1. Expediente Tec de Monterrey/1.Tesis/Mapa_Migracion_Irregular_Mexico/1. Mapas/1. Mapas/Metodo_1/df_valores_rutas.csv')\n"
   ]
  },
  {
   "cell_type": "code",
   "execution_count": 27,
   "id": "36615a19",
   "metadata": {},
   "outputs": [
    {
     "data": {
      "text/html": [
       "<div>\n",
       "<style scoped>\n",
       "    .dataframe tbody tr th:only-of-type {\n",
       "        vertical-align: middle;\n",
       "    }\n",
       "\n",
       "    .dataframe tbody tr th {\n",
       "        vertical-align: top;\n",
       "    }\n",
       "\n",
       "    .dataframe thead th {\n",
       "        text-align: right;\n",
       "    }\n",
       "</style>\n",
       "<table border=\"1\" class=\"dataframe\">\n",
       "  <thead>\n",
       "    <tr style=\"text-align: right;\">\n",
       "      <th></th>\n",
       "      <th>nombre</th>\n",
       "      <th>ciudad</th>\n",
       "      <th>estado</th>\n",
       "      <th>latitud</th>\n",
       "      <th>longitud</th>\n",
       "      <th>codigo_ruta</th>\n",
       "      <th>ID_Poligono</th>\n",
       "      <th>codigo_unico</th>\n",
       "      <th>eventos</th>\n",
       "      <th>eventos_in_grid</th>\n",
       "      <th>inm_30km</th>\n",
       "      <th>inm_in_grid</th>\n",
       "      <th>inm_in_estado</th>\n",
       "      <th>sc_30km</th>\n",
       "      <th>sc_in_grid</th>\n",
       "      <th>sc_in_estado</th>\n",
       "    </tr>\n",
       "  </thead>\n",
       "  <tbody>\n",
       "    <tr>\n",
       "      <th>0</th>\n",
       "      <td>Tapachula, Chiapas</td>\n",
       "      <td>Tapachula, Chiapas</td>\n",
       "      <td>Chiapas</td>\n",
       "      <td>14.904291</td>\n",
       "      <td>-92.260926</td>\n",
       "      <td>S</td>\n",
       "      <td>PG1530</td>\n",
       "      <td>S-PG1530-8</td>\n",
       "      <td>98486</td>\n",
       "      <td>142180</td>\n",
       "      <td>2</td>\n",
       "      <td>4</td>\n",
       "      <td>13</td>\n",
       "      <td>17</td>\n",
       "      <td>11</td>\n",
       "      <td>35</td>\n",
       "    </tr>\n",
       "    <tr>\n",
       "      <th>1</th>\n",
       "      <td>Huimanguillo, Tabasco</td>\n",
       "      <td>Huimanguillo, Tabasco</td>\n",
       "      <td>Tabasco</td>\n",
       "      <td>17.762097</td>\n",
       "      <td>-93.663441</td>\n",
       "      <td>G</td>\n",
       "      <td>PG1456</td>\n",
       "      <td>G-PG1456-1</td>\n",
       "      <td>97523</td>\n",
       "      <td>97523</td>\n",
       "      <td>0</td>\n",
       "      <td>0</td>\n",
       "      <td>3</td>\n",
       "      <td>0</td>\n",
       "      <td>0</td>\n",
       "      <td>0</td>\n",
       "    </tr>\n",
       "    <tr>\n",
       "      <th>2</th>\n",
       "      <td>Centro, Tabasco</td>\n",
       "      <td>Centro, Tabasco</td>\n",
       "      <td>Tabasco</td>\n",
       "      <td>18.027159</td>\n",
       "      <td>-92.774791</td>\n",
       "      <td>G</td>\n",
       "      <td>PG1495</td>\n",
       "      <td>G-PG1495-6</td>\n",
       "      <td>71661</td>\n",
       "      <td>92612</td>\n",
       "      <td>1</td>\n",
       "      <td>1</td>\n",
       "      <td>3</td>\n",
       "      <td>0</td>\n",
       "      <td>0</td>\n",
       "      <td>0</td>\n",
       "    </tr>\n",
       "    <tr>\n",
       "      <th>3</th>\n",
       "      <td>Acayucan, Veracruz</td>\n",
       "      <td>Acayucan, Veracruz</td>\n",
       "      <td>Veracruz</td>\n",
       "      <td>17.948786</td>\n",
       "      <td>-94.914575</td>\n",
       "      <td>G</td>\n",
       "      <td>PG1378</td>\n",
       "      <td>G-PG1378-4</td>\n",
       "      <td>45794</td>\n",
       "      <td>45863</td>\n",
       "      <td>1</td>\n",
       "      <td>1</td>\n",
       "      <td>3</td>\n",
       "      <td>2</td>\n",
       "      <td>2</td>\n",
       "      <td>12</td>\n",
       "    </tr>\n",
       "    <tr>\n",
       "      <th>4</th>\n",
       "      <td>Tenosique, Tabasco</td>\n",
       "      <td>Tenosique, Tabasco</td>\n",
       "      <td>Tabasco</td>\n",
       "      <td>17.470713</td>\n",
       "      <td>-91.422021</td>\n",
       "      <td>G</td>\n",
       "      <td>PG1572</td>\n",
       "      <td>G-PG1572-3</td>\n",
       "      <td>40069</td>\n",
       "      <td>55739</td>\n",
       "      <td>1</td>\n",
       "      <td>2</td>\n",
       "      <td>3</td>\n",
       "      <td>2</td>\n",
       "      <td>5</td>\n",
       "      <td>0</td>\n",
       "    </tr>\n",
       "    <tr>\n",
       "      <th>...</th>\n",
       "      <td>...</td>\n",
       "      <td>...</td>\n",
       "      <td>...</td>\n",
       "      <td>...</td>\n",
       "      <td>...</td>\n",
       "      <td>...</td>\n",
       "      <td>...</td>\n",
       "      <td>...</td>\n",
       "      <td>...</td>\n",
       "      <td>...</td>\n",
       "      <td>...</td>\n",
       "      <td>...</td>\n",
       "      <td>...</td>\n",
       "      <td>...</td>\n",
       "      <td>...</td>\n",
       "      <td>...</td>\n",
       "    </tr>\n",
       "    <tr>\n",
       "      <th>384</th>\n",
       "      <td>San Juan Huactzinco, Tlaxcala</td>\n",
       "      <td>San Juan Huactzinco, Tlaxcala</td>\n",
       "      <td>Tlaxcala</td>\n",
       "      <td>19.232933</td>\n",
       "      <td>-98.252038</td>\n",
       "      <td>C</td>\n",
       "      <td>PG1224</td>\n",
       "      <td>C-PG1224-2</td>\n",
       "      <td>1</td>\n",
       "      <td>5419</td>\n",
       "      <td>2</td>\n",
       "      <td>1</td>\n",
       "      <td>0</td>\n",
       "      <td>8</td>\n",
       "      <td>3</td>\n",
       "      <td>0</td>\n",
       "    </tr>\n",
       "    <tr>\n",
       "      <th>385</th>\n",
       "      <td>Amaxac de Guerrero, Tlaxcala</td>\n",
       "      <td>Amaxac de Guerrero, Tlaxcala</td>\n",
       "      <td>Tlaxcala</td>\n",
       "      <td>19.348889</td>\n",
       "      <td>-98.167778</td>\n",
       "      <td>C</td>\n",
       "      <td>PG1224</td>\n",
       "      <td>C-PG1224-12</td>\n",
       "      <td>1</td>\n",
       "      <td>5419</td>\n",
       "      <td>1</td>\n",
       "      <td>1</td>\n",
       "      <td>0</td>\n",
       "      <td>3</td>\n",
       "      <td>3</td>\n",
       "      <td>0</td>\n",
       "    </tr>\n",
       "    <tr>\n",
       "      <th>386</th>\n",
       "      <td>Chicomuselo, Chiapas</td>\n",
       "      <td>Chicomuselo, Chiapas</td>\n",
       "      <td>Chiapas</td>\n",
       "      <td>15.793552</td>\n",
       "      <td>-92.419266</td>\n",
       "      <td>S</td>\n",
       "      <td>PG1531</td>\n",
       "      <td>S-PG1531-1</td>\n",
       "      <td>1</td>\n",
       "      <td>1317</td>\n",
       "      <td>0</td>\n",
       "      <td>4</td>\n",
       "      <td>13</td>\n",
       "      <td>0</td>\n",
       "      <td>2</td>\n",
       "      <td>35</td>\n",
       "    </tr>\n",
       "    <tr>\n",
       "      <th>387</th>\n",
       "      <td>Carlos A. Carrillo, Veracruz</td>\n",
       "      <td>Carlos A. Carrillo, Veracruz</td>\n",
       "      <td>Veracruz</td>\n",
       "      <td>18.328361</td>\n",
       "      <td>-95.715403</td>\n",
       "      <td>G</td>\n",
       "      <td>PG1339</td>\n",
       "      <td>G-PG1339-4</td>\n",
       "      <td>1</td>\n",
       "      <td>3222</td>\n",
       "      <td>0</td>\n",
       "      <td>0</td>\n",
       "      <td>3</td>\n",
       "      <td>0</td>\n",
       "      <td>0</td>\n",
       "      <td>12</td>\n",
       "    </tr>\n",
       "    <tr>\n",
       "      <th>388</th>\n",
       "      <td>Puerto Penasco, Sonora</td>\n",
       "      <td>Puerto Penasco, Sonora</td>\n",
       "      <td>Sonora</td>\n",
       "      <td>31.317087</td>\n",
       "      <td>-113.531819</td>\n",
       "      <td>P</td>\n",
       "      <td>PG383</td>\n",
       "      <td>P-PG383-1</td>\n",
       "      <td>1</td>\n",
       "      <td>1</td>\n",
       "      <td>0</td>\n",
       "      <td>0</td>\n",
       "      <td>2</td>\n",
       "      <td>0</td>\n",
       "      <td>0</td>\n",
       "      <td>23</td>\n",
       "    </tr>\n",
       "  </tbody>\n",
       "</table>\n",
       "<p>389 rows × 16 columns</p>\n",
       "</div>"
      ],
      "text/plain": [
       "                            nombre                         ciudad    estado  \\\n",
       "0               Tapachula, Chiapas             Tapachula, Chiapas   Chiapas   \n",
       "1            Huimanguillo, Tabasco          Huimanguillo, Tabasco   Tabasco   \n",
       "2                  Centro, Tabasco                Centro, Tabasco   Tabasco   \n",
       "3               Acayucan, Veracruz             Acayucan, Veracruz  Veracruz   \n",
       "4               Tenosique, Tabasco             Tenosique, Tabasco   Tabasco   \n",
       "..                             ...                            ...       ...   \n",
       "384  San Juan Huactzinco, Tlaxcala  San Juan Huactzinco, Tlaxcala  Tlaxcala   \n",
       "385   Amaxac de Guerrero, Tlaxcala   Amaxac de Guerrero, Tlaxcala  Tlaxcala   \n",
       "386           Chicomuselo, Chiapas           Chicomuselo, Chiapas   Chiapas   \n",
       "387   Carlos A. Carrillo, Veracruz   Carlos A. Carrillo, Veracruz  Veracruz   \n",
       "388         Puerto Penasco, Sonora         Puerto Penasco, Sonora    Sonora   \n",
       "\n",
       "       latitud    longitud codigo_ruta ID_Poligono codigo_unico  eventos  \\\n",
       "0    14.904291  -92.260926           S      PG1530   S-PG1530-8    98486   \n",
       "1    17.762097  -93.663441           G      PG1456   G-PG1456-1    97523   \n",
       "2    18.027159  -92.774791           G      PG1495   G-PG1495-6    71661   \n",
       "3    17.948786  -94.914575           G      PG1378   G-PG1378-4    45794   \n",
       "4    17.470713  -91.422021           G      PG1572   G-PG1572-3    40069   \n",
       "..         ...         ...         ...         ...          ...      ...   \n",
       "384  19.232933  -98.252038           C      PG1224   C-PG1224-2        1   \n",
       "385  19.348889  -98.167778           C      PG1224  C-PG1224-12        1   \n",
       "386  15.793552  -92.419266           S      PG1531   S-PG1531-1        1   \n",
       "387  18.328361  -95.715403           G      PG1339   G-PG1339-4        1   \n",
       "388  31.317087 -113.531819           P       PG383    P-PG383-1        1   \n",
       "\n",
       "     eventos_in_grid  inm_30km  inm_in_grid  inm_in_estado  sc_30km  \\\n",
       "0             142180         2            4             13       17   \n",
       "1              97523         0            0              3        0   \n",
       "2              92612         1            1              3        0   \n",
       "3              45863         1            1              3        2   \n",
       "4              55739         1            2              3        2   \n",
       "..               ...       ...          ...            ...      ...   \n",
       "384             5419         2            1              0        8   \n",
       "385             5419         1            1              0        3   \n",
       "386             1317         0            4             13        0   \n",
       "387             3222         0            0              3        0   \n",
       "388                1         0            0              2        0   \n",
       "\n",
       "     sc_in_grid  sc_in_estado  \n",
       "0            11            35  \n",
       "1             0             0  \n",
       "2             0             0  \n",
       "3             2            12  \n",
       "4             5             0  \n",
       "..          ...           ...  \n",
       "384           3             0  \n",
       "385           3             0  \n",
       "386           2            35  \n",
       "387           0            12  \n",
       "388           0            23  \n",
       "\n",
       "[389 rows x 16 columns]"
      ]
     },
     "execution_count": 27,
     "metadata": {},
     "output_type": "execute_result"
    }
   ],
   "source": [
    "dfvalores"
   ]
  },
  {
   "cell_type": "markdown",
   "id": "2f0d6918",
   "metadata": {},
   "source": [
    "#### cinturon de control migratorio\n"
   ]
  },
  {
   "cell_type": "code",
   "execution_count": 28,
   "id": "3c8edb30",
   "metadata": {},
   "outputs": [
    {
     "name": "stdout",
     "output_type": "stream",
     "text": [
      "   codigo_unico  Orden\n",
      "0    S-PG1529-1      1\n",
      "1    S-PG1530-8      2\n",
      "2    S-PG1530-5      3\n",
      "3    S-PG1530-4      4\n",
      "4    S-PG1530-2      5\n",
      "5    S-PG1492-2      6\n",
      "6    S-PG1453-1      7\n",
      "7    S-PG1454-3      8\n",
      "8    S-PG1493-3      9\n",
      "9    G-PG1456-1     10\n",
      "10   G-PG1495-1     11\n",
      "11   G-PG1494-3     12\n",
      "12   G-PG1494-4     13\n",
      "13   G-PG1495-5     14\n",
      "14   G-PG1495-6     15\n",
      "15   G-PG1534-2     16\n",
      "16   S-PG1572-1     17\n",
      "17   S-PG1572-1     18\n",
      "18   G-PG1572-3     19\n",
      "19   G-PG1573-1     20\n",
      "20   S-PG1613-1     21\n",
      "21   S-PG1614-1     22\n",
      "22   S-PG1654-1     23\n",
      "23   S-PG1694-1     24\n",
      "24   S-PG1850-1     25\n"
     ]
    }
   ],
   "source": [
    "data = {\n",
    "    'codigo_unico': [\n",
    "        'S-PG1529-1', 'S-PG1530-8', 'S-PG1530-5', 'S-PG1530-4', 'S-PG1530-2',\n",
    "        'S-PG1492-2', 'S-PG1453-1', 'S-PG1454-3', 'S-PG1493-3', 'G-PG1456-1',\n",
    "        'G-PG1495-1', 'G-PG1494-3', 'G-PG1494-4', 'G-PG1495-5', 'G-PG1495-6',\n",
    "        'G-PG1534-2', 'S-PG1572-1', 'S-PG1572-1', 'G-PG1572-3', 'G-PG1573-1',\n",
    "        'S-PG1613-1', 'S-PG1614-1', 'S-PG1654-1', 'S-PG1694-1', 'S-PG1850-1'\n",
    "    ],\n",
    "    'Orden': [\n",
    "        1, 2, 3, 4, 5,\n",
    "        6, 7, 8, 9, 10,\n",
    "        11, 12, 13, 14, 15,\n",
    "        16, 17, 18, 19, 20,\n",
    "        21, 22, 23, 24, 25\n",
    "    ]\n",
    "}\n",
    "\n",
    "cinturon = pd.DataFrame(data)\n",
    "print(cinturon)"
   ]
  },
  {
   "cell_type": "code",
   "execution_count": 30,
   "id": "45f51876",
   "metadata": {},
   "outputs": [
    {
     "name": "stdout",
     "output_type": "stream",
     "text": [
      "   codigo_unico  Orden                             nombre  \\\n",
      "0    S-PG1529-1      1                  Suchiate, Chiapas   \n",
      "1    S-PG1530-8      2                 Tapachula, Chiapas   \n",
      "2    S-PG1530-5      3                 Huehuetan, Chiapas   \n",
      "3    S-PG1530-4      4                   Huixtla, Chiapas   \n",
      "4    S-PG1530-2      5         Villa Comaltitlan, Chiapas   \n",
      "5    S-PG1492-2      6                Pijijiapan, Chiapas   \n",
      "6    S-PG1453-1      7                   Arriaga, Chiapas   \n",
      "7    S-PG1454-3      8  Ocozocoautla de Espinosa, Chiapas   \n",
      "8    S-PG1493-3      9          Tuxtla Gutierrez, Chiapas   \n",
      "9    G-PG1456-1     10              Huimanguillo, Tabasco   \n",
      "10   G-PG1495-1     11                  Cardenas, Tabasco   \n",
      "11   G-PG1494-3     12                     Teapa, Tabasco   \n",
      "12   G-PG1494-4     13                 Tacotalpa, Tabasco   \n",
      "13   G-PG1495-5     14                    Jalapa, Tabasco   \n",
      "14   G-PG1495-6     15                    Centro, Tabasco   \n",
      "15   G-PG1534-2     16                 Macuspana, Tabasco   \n",
      "16   S-PG1572-1     17                  Palenque, Chiapas   \n",
      "17   S-PG1572-1     18                  Palenque, Chiapas   \n",
      "18   G-PG1572-3     19                 Tenosique, Tabasco   \n",
      "19   G-PG1573-1     20                  Balancan, Tabasco   \n",
      "20   S-PG1613-1     21                Escarcega, Campeche   \n",
      "21   S-PG1614-1     22                Champoton, Campeche   \n",
      "22   S-PG1654-1     23                 Campeche, Campeche   \n",
      "23   S-PG1694-1     24                    Merida, Yucatan   \n",
      "24   S-PG1850-1     25        Benito Juarez, Quintana Roo   \n",
      "\n",
      "                               ciudad        estado    latitud   longitud  \\\n",
      "0                   Suchiate, Chiapas       Chiapas  14.632174 -92.241963   \n",
      "1                  Tapachula, Chiapas       Chiapas  14.904291 -92.260926   \n",
      "2                  Huehuetan, Chiapas       Chiapas  15.021716 -92.428670   \n",
      "3                    Huixtla, Chiapas       Chiapas  15.122125 -92.503997   \n",
      "4          Villa Comaltitlan, Chiapas       Chiapas  15.170973 -92.612886   \n",
      "5                 Pijijiapan, Chiapas       Chiapas  15.684999 -93.208020   \n",
      "6                    Arriaga, Chiapas       Chiapas  16.234471 -93.900841   \n",
      "7   Ocozocoautla de Espinosa, Chiapas       Chiapas  16.793143 -93.456964   \n",
      "8           Tuxtla Gutierrez, Chiapas       Chiapas  16.753801 -93.115959   \n",
      "9               Huimanguillo, Tabasco       Tabasco  17.762097 -93.663441   \n",
      "10                  Cardenas, Tabasco       Tabasco  17.990878 -93.375331   \n",
      "11                     Teapa, Tabasco       Tabasco  17.556653 -92.948050   \n",
      "12                 Tacotalpa, Tabasco       Tabasco  17.595220 -92.825339   \n",
      "13                    Jalapa, Tabasco       Tabasco  17.721716 -92.812012   \n",
      "14                    Centro, Tabasco       Tabasco  18.027159 -92.774791   \n",
      "15                 Macuspana, Tabasco       Tabasco  17.760922 -92.596108   \n",
      "16                  Palenque, Chiapas       Chiapas  17.509188 -91.980922   \n",
      "17                  Palenque, Chiapas       Chiapas  17.509188 -91.980922   \n",
      "18                 Tenosique, Tabasco       Tabasco  17.470713 -91.422021   \n",
      "19                  Balancan, Tabasco       Tabasco  17.797517 -91.345859   \n",
      "20                Escarcega, Campeche      Campeche  18.606934 -90.738582   \n",
      "21                Champoton, Campeche      Campeche  19.343965 -90.724274   \n",
      "22                 Campeche, Campeche      Campeche  19.830286 -90.535515   \n",
      "23                    Merida, Yucatan       Yucatan  20.967076 -89.623740   \n",
      "24        Benito Juarez, Quintana Roo  Quintana Roo  21.076681 -86.926335   \n",
      "\n",
      "   codigo_ruta ID_Poligono  eventos  eventos_in_grid  inm_30km  inm_in_grid  \\\n",
      "0            S      PG1529    25989            26599         0            0   \n",
      "1            S      PG1530    98486           142180         2            4   \n",
      "2            S      PG1530    18319           142180         4            4   \n",
      "3            S      PG1530    20836           142180         3            4   \n",
      "4            S      PG1530     1835           142180         2            4   \n",
      "5            S      PG1492    11297            11305         1            1   \n",
      "6            S      PG1453    19839            20069         0            0   \n",
      "7            S      PG1454     1226             1906         0            0   \n",
      "8            S      PG1493    15141            15426         1            1   \n",
      "9            G      PG1456    97523            97523         0            0   \n",
      "10           G      PG1495    13100            92612         0            1   \n",
      "11           G      PG1494     9947            19322         0            0   \n",
      "12           G      PG1494     9367            19322         0            0   \n",
      "13           G      PG1495     7479            92612         0            1   \n",
      "14           G      PG1495    71661            92612         1            1   \n",
      "15           G      PG1534    34779            35231         0            1   \n",
      "16           S      PG1572     9027            55739         2            2   \n",
      "17           S      PG1572     9027            55739         2            2   \n",
      "18           G      PG1572    40069            55739         1            2   \n",
      "19           G      PG1573     1472             1472         0            0   \n",
      "20           S      PG1613     1232             1232         1            1   \n",
      "21           S      PG1614      150              158         0            0   \n",
      "22           S      PG1654     1754             1777         1            1   \n",
      "23           S      PG1694      931              931         1            1   \n",
      "24           S      PG1850     1897             1897         0            0   \n",
      "\n",
      "    inm_in_estado  sc_30km  sc_in_grid  sc_in_estado  \n",
      "0              13        3           7            35  \n",
      "1              13       17          11            35  \n",
      "2              13       18          11            35  \n",
      "3              13        1          11            35  \n",
      "4              13        1          11            35  \n",
      "5              13        1           1            35  \n",
      "6              13        3           3            35  \n",
      "7              13        0           0            35  \n",
      "8              13        3           3            35  \n",
      "9               3        0           0             0  \n",
      "10              3        0           0             0  \n",
      "11              3        0           0             0  \n",
      "12              3        0           0             0  \n",
      "13              3        0           0             0  \n",
      "14              3        0           0             0  \n",
      "15              3        0           0             0  \n",
      "16             13        2           5            35  \n",
      "17             13        2           5            35  \n",
      "18              3        2           5             0  \n",
      "19              3        0           0             0  \n",
      "20              3        0           0             3  \n",
      "21              3        0           0             3  \n",
      "22              3        0           0             3  \n",
      "23              1        2           2             2  \n",
      "24              2        0           0             0  \n"
     ]
    }
   ],
   "source": [
    "# Suponiendo que tienes los DataFrames df_cinturon y df_valores ya definidos\n",
    "\n",
    "# Merge utilizando la columna \"codigo_unico\"\n",
    "df_cinturon = pd.merge(cinturon, dfvalores, on='codigo_unico')\n",
    "\n",
    "# Imprimir el resultado\n",
    "print(df_cinturon)\n"
   ]
  },
  {
   "cell_type": "code",
   "execution_count": 31,
   "id": "7814cd52",
   "metadata": {},
   "outputs": [
    {
     "name": "stdout",
     "output_type": "stream",
     "text": [
      "DataFrame guardado como CSV en: /Users/pablouriarte/Documents/1. Expediente Tec de Monterrey/1.Tesis/Mapa_Migracion_Irregular_Mexico/1. Mapas/1. Mapas/Metodo_1/estaciones INM/df_cinturon.csv\n"
     ]
    }
   ],
   "source": [
    "# Suponiendo que tienes el DataFrame df_cinturon ya definido\n",
    "\n",
    "# Cambiar los tipos de datos de las columnas 'eventos' y 'eventos_in_grid'\n",
    "df_cinturon['eventos'] = df_cinturon['eventos'].astype(int)\n",
    "df_cinturon['eventos_in_grid'] = df_cinturon['eventos_in_grid'].astype(int)\n",
    "\n",
    "# Escribir el DataFrame en un archivo CSV\n",
    "path = \"/Users/pablouriarte/Documents/1. Expediente Tec de Monterrey/1.Tesis/Mapa_Migracion_Irregular_Mexico/1. Mapas/1. Mapas/Metodo_1/estaciones INM/df_cinturon.csv\"\n",
    "df_cinturon.to_csv(path, index=False)\n",
    "\n",
    "print(\"DataFrame guardado como CSV en:\", path)\n"
   ]
  },
  {
   "cell_type": "code",
   "execution_count": null,
   "id": "8d9a9c83",
   "metadata": {},
   "outputs": [],
   "source": []
  },
  {
   "cell_type": "code",
   "execution_count": null,
   "id": "6b9af784",
   "metadata": {},
   "outputs": [],
   "source": []
  },
  {
   "cell_type": "code",
   "execution_count": null,
   "id": "bfbe83b0",
   "metadata": {},
   "outputs": [],
   "source": []
  },
  {
   "cell_type": "code",
   "execution_count": null,
   "id": "64b9380d",
   "metadata": {},
   "outputs": [],
   "source": []
  },
  {
   "cell_type": "code",
   "execution_count": 8,
   "id": "40726451",
   "metadata": {},
   "outputs": [
    {
     "name": "stdout",
     "output_type": "stream",
     "text": [
      "Index(['nombre', 'ciudad', 'estado', 'latitud', 'longitud', 'codigo_ruta',\n",
      "       'ID_Poligono', 'codigo_unico', 'eventos', 'eventos_in_grid', 'inm_30km',\n",
      "       'inm_in_grid', 'inm_in_estado', 'sc_30km', 'sc_in_grid',\n",
      "       'sc_in_estado'],\n",
      "      dtype='object')\n"
     ]
    }
   ],
   "source": [
    "# Renombrar las columnas que contienen la palabra 'detenciones'\n",
    "#dfvalores = dfvalores.rename(columns=lambda x: x.replace('detenciones', 'eventos'))\n",
    "\n",
    "# Verificamos los nuevos nombres de las columnas\n",
    "#print(dfvalores.columns)\n"
   ]
  },
  {
   "cell_type": "code",
   "execution_count": 14,
   "id": "42b71b77",
   "metadata": {},
   "outputs": [
    {
     "name": "stdout",
     "output_type": "stream",
     "text": [
      "                  nombre                 ciudad    estado    latitud  \\\n",
      "0     Tapachula, Chiapas     Tapachula, Chiapas   Chiapas  14.904291   \n",
      "1  Huimanguillo, Tabasco  Huimanguillo, Tabasco   Tabasco  17.762097   \n",
      "2        Centro, Tabasco        Centro, Tabasco   Tabasco  18.027159   \n",
      "3     Acayucan, Veracruz     Acayucan, Veracruz  Veracruz  17.948786   \n",
      "4     Tenosique, Tabasco     Tenosique, Tabasco   Tabasco  17.470713   \n",
      "\n",
      "    longitud codigo_ruta ID_Poligono codigo_unico  eventos  eventos_in_grid  \\\n",
      "0 -92.260926           S      PG1530   S-PG1530-8    98486           142180   \n",
      "1 -93.663441           G      PG1456   G-PG1456-1    97523            97523   \n",
      "2 -92.774791           G      PG1495   G-PG1495-6    71661            92612   \n",
      "3 -94.914575           G      PG1378   G-PG1378-4    45794            45863   \n",
      "4 -91.422021           G      PG1572   G-PG1572-3    40069            55739   \n",
      "\n",
      "   inm_30km  inm_in_grid  inm_in_estado  sc_30km  sc_in_grid  sc_in_estado  \\\n",
      "0         2            4             13       17          11            35   \n",
      "1         0            0              3        0           0             0   \n",
      "2         1            1              3        0           0             0   \n",
      "3         1            1              3        2           2            12   \n",
      "4         1            2              3        2           5             0   \n",
      "\n",
      "   eventos_promedio_grid  \n",
      "0           15797.777778  \n",
      "1           97523.000000  \n",
      "2           15435.333333  \n",
      "3            9172.600000  \n",
      "4           18579.666667  \n"
     ]
    }
   ],
   "source": [
    "# Calculamos la suma de eventos para cada 'ID_Poligono'\n",
    "sum_eventos = dfvalores.groupby('ID_Poligono')['eventos'].transform('sum')\n",
    "\n",
    "# Contamos el número de ocurrencias de cada 'ID_Poligono'\n",
    "count_eventos = dfvalores.groupby('ID_Poligono')['eventos'].transform('count')\n",
    "\n",
    "# Calculamos el promedio de eventos y creamos la nueva columna 'eventos_promedio_grid'\n",
    "dfvalores['eventos_promedio_grid'] = sum_eventos / count_eventos\n",
    "\n",
    "# Mostramos las primeras filas del DataFrame para verificar\n",
    "print(dfvalores.head())\n"
   ]
  },
  {
   "cell_type": "code",
   "execution_count": 15,
   "id": "6e54fc0b",
   "metadata": {},
   "outputs": [
    {
     "name": "stdout",
     "output_type": "stream",
     "text": [
      "ID_Poligono                object\n",
      "geometry                 geometry\n",
      "eventos_promedio_grid     float64\n",
      "dtype: object\n",
      "  ID_Poligono                                           geometry  \\\n",
      "0         PG1  POLYGON ((-120.00000 10.00000, -119.30000 10.0...   \n",
      "1         PG2  POLYGON ((-120.00000 10.70000, -119.30000 10.7...   \n",
      "2         PG3  POLYGON ((-120.00000 11.40000, -119.30000 11.4...   \n",
      "3         PG4  POLYGON ((-120.00000 12.10000, -119.30000 12.1...   \n",
      "4         PG5  POLYGON ((-120.00000 12.80000, -119.30000 12.8...   \n",
      "\n",
      "   eventos_promedio_grid  \n",
      "0                    0.0  \n",
      "1                    0.0  \n",
      "2                    0.0  \n",
      "3                    0.0  \n",
      "4                    0.0  \n"
     ]
    },
    {
     "name": "stderr",
     "output_type": "stream",
     "text": [
      "/var/folders/68/6zkv8z4j4rl6ds90br2rb7ph0000gn/T/ipykernel_36111/874545360.py:5: FutureWarning: A value is trying to be set on a copy of a DataFrame or Series through chained assignment using an inplace method.\n",
      "The behavior will change in pandas 3.0. This inplace method will never work because the intermediate object on which we are setting values always behaves as a copy.\n",
      "\n",
      "For example, when doing 'df[col].method(value, inplace=True)', try using 'df.method({col: value}, inplace=True)' or df[col] = df[col].method(value) instead, to perform the operation inplace on the original object.\n",
      "\n",
      "\n",
      "  merged_grid['eventos_promedio_grid'].fillna(0, inplace=True)\n"
     ]
    }
   ],
   "source": [
    "# Realizamos el merge con el DataFrame dfvalores usando 'ID_Poligono' como clave\n",
    "merged_grid = grid7x7.merge(dfvalores[['ID_Poligono', 'eventos_promedio_grid']], on='ID_Poligono', how='left')\n",
    "\n",
    "# Reemplazamos los valores NaN por 0\n",
    "merged_grid['eventos_promedio_grid'].fillna(0, inplace=True)\n",
    "\n",
    "# Convertimos la columna 'eventos_promedio_grid' a un tipo numérico\n",
    "# Usamos 'coerce' para manejar cualquier valor no numérico y convertirlo en NaN, luego reemplazarlos por 0\n",
    "merged_grid['eventos_promedio_grid'] = pd.to_numeric(merged_grid['eventos_promedio_grid'], errors='coerce').fillna(0)\n",
    "\n",
    "# Verificamos los tipos de datos y mostramos las primeras filas para confirmar\n",
    "print(merged_grid.dtypes)"
   ]
  },
  {
   "cell_type": "code",
   "execution_count": 19,
   "id": "5c7472a6",
   "metadata": {},
   "outputs": [
    {
     "data": {
      "text/html": [
       "<div>\n",
       "<style scoped>\n",
       "    .dataframe tbody tr th:only-of-type {\n",
       "        vertical-align: middle;\n",
       "    }\n",
       "\n",
       "    .dataframe tbody tr th {\n",
       "        vertical-align: top;\n",
       "    }\n",
       "\n",
       "    .dataframe thead th {\n",
       "        text-align: right;\n",
       "    }\n",
       "</style>\n",
       "<table border=\"1\" class=\"dataframe\">\n",
       "  <thead>\n",
       "    <tr style=\"text-align: right;\">\n",
       "      <th></th>\n",
       "      <th>ID_Poligono</th>\n",
       "      <th>geometry</th>\n",
       "      <th>eventos_promedio_grid</th>\n",
       "    </tr>\n",
       "  </thead>\n",
       "  <tbody>\n",
       "    <tr>\n",
       "      <th>0</th>\n",
       "      <td>PG1</td>\n",
       "      <td>POLYGON ((-120.00000 10.00000, -119.30000 10.0...</td>\n",
       "      <td>0.0</td>\n",
       "    </tr>\n",
       "    <tr>\n",
       "      <th>1</th>\n",
       "      <td>PG2</td>\n",
       "      <td>POLYGON ((-120.00000 10.70000, -119.30000 10.7...</td>\n",
       "      <td>0.0</td>\n",
       "    </tr>\n",
       "    <tr>\n",
       "      <th>2</th>\n",
       "      <td>PG3</td>\n",
       "      <td>POLYGON ((-120.00000 11.40000, -119.30000 11.4...</td>\n",
       "      <td>0.0</td>\n",
       "    </tr>\n",
       "    <tr>\n",
       "      <th>3</th>\n",
       "      <td>PG4</td>\n",
       "      <td>POLYGON ((-120.00000 12.10000, -119.30000 12.1...</td>\n",
       "      <td>0.0</td>\n",
       "    </tr>\n",
       "    <tr>\n",
       "      <th>4</th>\n",
       "      <td>PG5</td>\n",
       "      <td>POLYGON ((-120.00000 12.80000, -119.30000 12.8...</td>\n",
       "      <td>0.0</td>\n",
       "    </tr>\n",
       "  </tbody>\n",
       "</table>\n",
       "</div>"
      ],
      "text/plain": [
       "  ID_Poligono                                           geometry  \\\n",
       "0         PG1  POLYGON ((-120.00000 10.00000, -119.30000 10.0...   \n",
       "1         PG2  POLYGON ((-120.00000 10.70000, -119.30000 10.7...   \n",
       "2         PG3  POLYGON ((-120.00000 11.40000, -119.30000 11.4...   \n",
       "3         PG4  POLYGON ((-120.00000 12.10000, -119.30000 12.1...   \n",
       "4         PG5  POLYGON ((-120.00000 12.80000, -119.30000 12.8...   \n",
       "\n",
       "   eventos_promedio_grid  \n",
       "0                    0.0  \n",
       "1                    0.0  \n",
       "2                    0.0  \n",
       "3                    0.0  \n",
       "4                    0.0  "
      ]
     },
     "execution_count": 19,
     "metadata": {},
     "output_type": "execute_result"
    }
   ],
   "source": [
    "merged_grid.head()"
   ]
  },
  {
   "cell_type": "code",
   "execution_count": 21,
   "id": "68294ee9",
   "metadata": {},
   "outputs": [],
   "source": [
    "# Ordenamos el DataFrame 'merged_grid' por 'eventos_promedio_grid' de forma ascendente\n",
    "merged_grid_sorted = merged_grid.sort_values(by='eventos_promedio_grid', ascending=False)\n",
    "\n"
   ]
  },
  {
   "cell_type": "code",
   "execution_count": 22,
   "id": "8abb1b79",
   "metadata": {},
   "outputs": [
    {
     "data": {
      "text/html": [
       "<div>\n",
       "<style scoped>\n",
       "    .dataframe tbody tr th:only-of-type {\n",
       "        vertical-align: middle;\n",
       "    }\n",
       "\n",
       "    .dataframe tbody tr th {\n",
       "        vertical-align: top;\n",
       "    }\n",
       "\n",
       "    .dataframe thead th {\n",
       "        text-align: right;\n",
       "    }\n",
       "</style>\n",
       "<table border=\"1\" class=\"dataframe\">\n",
       "  <thead>\n",
       "    <tr style=\"text-align: right;\">\n",
       "      <th></th>\n",
       "      <th>ID_Poligono</th>\n",
       "      <th>geometry</th>\n",
       "      <th>eventos_promedio_grid</th>\n",
       "    </tr>\n",
       "  </thead>\n",
       "  <tbody>\n",
       "    <tr>\n",
       "      <th>1647</th>\n",
       "      <td>PG1456</td>\n",
       "      <td>POLYGON ((-94.10000 18.40000, -93.40000 18.400...</td>\n",
       "      <td>97523.000000</td>\n",
       "    </tr>\n",
       "    <tr>\n",
       "      <th>1797</th>\n",
       "      <td>PG1572</td>\n",
       "      <td>POLYGON ((-92.00000 17.70000, -91.30000 17.700...</td>\n",
       "      <td>18579.666667</td>\n",
       "    </tr>\n",
       "    <tr>\n",
       "      <th>1796</th>\n",
       "      <td>PG1572</td>\n",
       "      <td>POLYGON ((-92.00000 17.70000, -91.30000 17.700...</td>\n",
       "      <td>18579.666667</td>\n",
       "    </tr>\n",
       "    <tr>\n",
       "      <th>1795</th>\n",
       "      <td>PG1572</td>\n",
       "      <td>POLYGON ((-92.00000 17.70000, -91.30000 17.700...</td>\n",
       "      <td>18579.666667</td>\n",
       "    </tr>\n",
       "    <tr>\n",
       "      <th>1739</th>\n",
       "      <td>PG1530</td>\n",
       "      <td>POLYGON ((-92.70000 15.60000, -92.00000 15.600...</td>\n",
       "      <td>15797.777778</td>\n",
       "    </tr>\n",
       "    <tr>\n",
       "      <th>...</th>\n",
       "      <td>...</td>\n",
       "      <td>...</td>\n",
       "      <td>...</td>\n",
       "    </tr>\n",
       "    <tr>\n",
       "      <th>755</th>\n",
       "      <td>PG753</td>\n",
       "      <td>POLYGON ((-106.70000 17.70000, -106.00000 17.7...</td>\n",
       "      <td>0.000000</td>\n",
       "    </tr>\n",
       "    <tr>\n",
       "      <th>754</th>\n",
       "      <td>PG752</td>\n",
       "      <td>POLYGON ((-106.70000 17.00000, -106.00000 17.0...</td>\n",
       "      <td>0.000000</td>\n",
       "    </tr>\n",
       "    <tr>\n",
       "      <th>753</th>\n",
       "      <td>PG751</td>\n",
       "      <td>POLYGON ((-106.70000 16.30000, -106.00000 16.3...</td>\n",
       "      <td>0.000000</td>\n",
       "    </tr>\n",
       "    <tr>\n",
       "      <th>752</th>\n",
       "      <td>PG750</td>\n",
       "      <td>POLYGON ((-106.70000 15.60000, -106.00000 15.6...</td>\n",
       "      <td>0.000000</td>\n",
       "    </tr>\n",
       "    <tr>\n",
       "      <th>2373</th>\n",
       "      <td>PG2145</td>\n",
       "      <td>POLYGON ((-82.20000 36.60000, -81.50000 36.600...</td>\n",
       "      <td>0.000000</td>\n",
       "    </tr>\n",
       "  </tbody>\n",
       "</table>\n",
       "<p>2374 rows × 3 columns</p>\n",
       "</div>"
      ],
      "text/plain": [
       "     ID_Poligono                                           geometry  \\\n",
       "1647      PG1456  POLYGON ((-94.10000 18.40000, -93.40000 18.400...   \n",
       "1797      PG1572  POLYGON ((-92.00000 17.70000, -91.30000 17.700...   \n",
       "1796      PG1572  POLYGON ((-92.00000 17.70000, -91.30000 17.700...   \n",
       "1795      PG1572  POLYGON ((-92.00000 17.70000, -91.30000 17.700...   \n",
       "1739      PG1530  POLYGON ((-92.70000 15.60000, -92.00000 15.600...   \n",
       "...          ...                                                ...   \n",
       "755        PG753  POLYGON ((-106.70000 17.70000, -106.00000 17.7...   \n",
       "754        PG752  POLYGON ((-106.70000 17.00000, -106.00000 17.0...   \n",
       "753        PG751  POLYGON ((-106.70000 16.30000, -106.00000 16.3...   \n",
       "752        PG750  POLYGON ((-106.70000 15.60000, -106.00000 15.6...   \n",
       "2373      PG2145  POLYGON ((-82.20000 36.60000, -81.50000 36.600...   \n",
       "\n",
       "      eventos_promedio_grid  \n",
       "1647           97523.000000  \n",
       "1797           18579.666667  \n",
       "1796           18579.666667  \n",
       "1795           18579.666667  \n",
       "1739           15797.777778  \n",
       "...                     ...  \n",
       "755                0.000000  \n",
       "754                0.000000  \n",
       "753                0.000000  \n",
       "752                0.000000  \n",
       "2373               0.000000  \n",
       "\n",
       "[2374 rows x 3 columns]"
      ]
     },
     "execution_count": 22,
     "metadata": {},
     "output_type": "execute_result"
    }
   ],
   "source": [
    "# Mostramos las filas ordenadas\n",
    "merged_grid_sorted"
   ]
  },
  {
   "cell_type": "code",
   "execution_count": null,
   "id": "5562c427",
   "metadata": {},
   "outputs": [],
   "source": []
  }
 ],
 "metadata": {
  "kernelspec": {
   "display_name": "Python 3 (ipykernel)",
   "language": "python",
   "name": "python3"
  },
  "language_info": {
   "codemirror_mode": {
    "name": "ipython",
    "version": 3
   },
   "file_extension": ".py",
   "mimetype": "text/x-python",
   "name": "python",
   "nbconvert_exporter": "python",
   "pygments_lexer": "ipython3",
   "version": "3.11.7"
  }
 },
 "nbformat": 4,
 "nbformat_minor": 5
}
