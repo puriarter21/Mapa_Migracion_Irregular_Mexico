{
 "cells": [
  {
   "cell_type": "code",
   "execution_count": 9,
   "id": "9d15383b",
   "metadata": {},
   "outputs": [],
   "source": [
    "import pandas as pd\n",
    "from geopy.geocoders import Photon\n",
    "from geopy.geocoders import Nominatim\n",
    "from unidecode import unidecode\n",
    "import unidecode\n"
   ]
  },
  {
   "cell_type": "code",
   "execution_count": 10,
   "id": "d2223cc4",
   "metadata": {},
   "outputs": [],
   "source": [
    "import geopandas as gpd"
   ]
  },
  {
   "cell_type": "code",
   "execution_count": 11,
   "id": "feee2548",
   "metadata": {},
   "outputs": [],
   "source": [
    "import numpy as np\n",
    "from shapely.geometry import Point, Polygon\n",
    "\n",
    "import math\n"
   ]
  },
  {
   "cell_type": "markdown",
   "id": "cd1f75c3",
   "metadata": {},
   "source": [
    "\n",
    "# Grid Shapes\n",
    "\n",
    "Para crear un grid con polígonos geoespaciales y asignar a cada punto según su latitud y longitud a un polígono correspondiente, se puede utilizar la biblioteca geopandas en Python, que extiende las capacidades de pandas para trabajar con datos espaciales. También usaremos shapely para manipular y analizar datos geométricos planos, y numpy para manejar operaciones numéricas.\n",
    "\n",
    "Primero, generamos un conjunto de polígonos que representen cada celda del grid sobre el área de interés (en este caso, México). Cada polígono puede ser identificado de manera única, por ejemplo, usando una convención de nomenclatura como PG1, PG2, etc."
   ]
  },
  {
   "cell_type": "markdown",
   "id": "85a18ba9",
   "metadata": {},
   "source": [
    "### Tamaños del grid\n",
    "\n",
    "    - Dimensiones del grid: 120, 10, -82, 37 (son las puntos cardinales que cubren el espacio donde se encuentra Mexico)\n",
    "    \n",
    "    - Tamaño de los poligonos que integran el grid:\n",
    "    \n",
    "CRS = EPSG:4326 para las coordenadas geográficas\n",
    "\n",
    "Metros = epsg=6366 (10000) = 10km ¿Por que?\n",
    "\n",
    "Usando \"EPSG:4326\", sacamos una aproximacion en metros para el tamaño de nuestros grids, directamente relacionada con las zonas a analizar.\n",
    "\n"
   ]
  },
  {
   "cell_type": "code",
   "execution_count": 14,
   "id": "ad74c441",
   "metadata": {},
   "outputs": [
    {
     "name": "stdout",
     "output_type": "stream",
     "text": [
      "% de 1 grado de longitud a 10° latitud: 76740.16 metros\n",
      "% de 1 grado de longitud a 37° latitud: 62232.87 metros\n"
     ]
    }
   ],
   "source": [
    "def longitud_por_porcentaje_lat(latitud, porcentaje):\n",
    "    \"\"\"\n",
    "    Calcula la longitud en metros de un porcentaje de 1 grado de longitud a una latitud dada.\n",
    "    \n",
    "    Args:\n",
    "    latitud (float): La latitud en grados.\n",
    "    porcentaje (float): El porcentaje de 1 grado de longitud. Por ejemplo, 0.5 para 50%, 0.6 para 60%.\n",
    "    \n",
    "    Returns:\n",
    "    float: La longitud en metros del porcentaje dado de 1 grado de longitud en la latitud especificada.\n",
    "    \"\"\"\n",
    "    # Convertir latitud a radianes\n",
    "    lat_rad = math.radians(latitud)\n",
    "    # Calcular longitud en km por grado de longitud\n",
    "    longitud_km = math.cos(lat_rad) * 111.32\n",
    "    # Convertir a metros y aplicar el porcentaje\n",
    "    return longitud_km * 1000 * porcentaje\n",
    "\n",
    "# Ejemplo de uso: Calcular el % de 1 grado de longitud en la latitud 10°\n",
    "longitud_10_50porc = longitud_por_porcentaje_lat(10, .7)\n",
    "# Ejemplo de uso: Calcular el % de 1 grado de longitud en la latitud 37°\n",
    "longitud_37_50porc = longitud_por_porcentaje_lat(37, .7)\n",
    "\n",
    "print(f\"% de 1 grado de longitud a 10° latitud: {longitud_10_50porc:.2f} metros\")\n",
    "print(f\"% de 1 grado de longitud a 37° latitud: {longitud_37_50porc:.2f} metros\")\n"
   ]
  },
  {
   "cell_type": "code",
   "execution_count": 17,
   "id": "1bdd7379",
   "metadata": {},
   "outputs": [
    {
     "name": "stdout",
     "output_type": "stream",
     "text": [
      "50% de 1 grado de latitud: 77700.00 metros\n",
      "60% de 1 grado de latitud: 77700.00 metros\n"
     ]
    }
   ],
   "source": [
    "def longitud_por_porcentaje_latitud(porcentaje):\n",
    "    \"\"\"\n",
    "    Calcula la longitud en metros de un porcentaje de 1 grado de latitud.\n",
    "    \n",
    "    Args:\n",
    "    porcentaje (float): El porcentaje de 1 grado de latitud. Por ejemplo, 0.5 para 50%, 0.6 para 60%.\n",
    "    \n",
    "    Returns:\n",
    "    float: La longitud en metros del porcentaje dado de 1 grado de latitud.\n",
    "    \"\"\"\n",
    "    longitud_km_por_grado = 111  # Aproximadamente 111 km por grado de latitud\n",
    "    return longitud_km_por_grado * 1000 * porcentaje  # Convertir a metros y aplicar el porcentaje\n",
    "\n",
    "# Ejemplo de uso: Calcular el 50% de 1 grado de latitud\n",
    "longitud_50porc_latitud = longitud_por_porcentaje_latitud(0.7)\n",
    "# Ejemplo de uso: Calcular el 60% de 1 grado de latitud\n",
    "longitud_60porc_latitud = longitud_por_porcentaje_latitud(0.7)\n",
    "\n",
    "print(f\"50% de 1 grado de latitud: {longitud_50porc_latitud:.2f} metros\")\n",
    "print(f\"60% de 1 grado de latitud: {longitud_60porc_latitud:.2f} metros\")\n"
   ]
  },
  {
   "cell_type": "code",
   "execution_count": 19,
   "id": "aeebc84e",
   "metadata": {},
   "outputs": [
    {
     "name": "stdout",
     "output_type": "stream",
     "text": [
      "  ID_Poligono                                           geometry\n",
      "0         PG1  POLYGON ((-120.00000 10.00000, -119.00000 10.0...\n",
      "1         PG2  POLYGON ((-120.00000 11.00000, -119.00000 11.0...\n",
      "2         PG3  POLYGON ((-120.00000 12.00000, -119.00000 12.0...\n",
      "3         PG4  POLYGON ((-120.00000 13.00000, -119.00000 13.0...\n",
      "4         PG5  POLYGON ((-120.00000 14.00000, -119.00000 14.0...\n",
      "  ID_Poligono                                           geometry\n",
      "0         PG1  POLYGON ((-120.00000 10.00000, -119.30000 10.0...\n",
      "1         PG2  POLYGON ((-120.00000 10.70000, -119.30000 10.7...\n",
      "2         PG3  POLYGON ((-120.00000 11.40000, -119.30000 11.4...\n",
      "3         PG4  POLYGON ((-120.00000 12.10000, -119.30000 12.1...\n",
      "4         PG5  POLYGON ((-120.00000 12.80000, -119.30000 12.8...\n"
     ]
    }
   ],
   "source": [
    "def crear_grid(xmin, xmax, ymin, ymax, ancho_celda, alto_celda):\n",
    "    cols = list(np.arange(xmin, xmax, ancho_celda))\n",
    "    rows = list(np.arange(ymin, ymax, alto_celda))\n",
    "    poligonos = []\n",
    "    ids = []\n",
    "\n",
    "    id_contador = 1  # Iniciar contador para los ID de polígonos\n",
    "    for x in cols:\n",
    "        for y in rows:\n",
    "            poligonos.append(Polygon([(x, y), (x+ancho_celda, y), (x+ancho_celda, y-alto_celda), (x, y-alto_celda)]))\n",
    "            ids.append(f\"PG{id_contador}\")  # Asignar un ID único a cada polígono\n",
    "            id_contador += 1\n",
    "\n",
    "    grid = gpd.GeoDataFrame({'ID_Poligono': ids, 'geometry': poligonos})\n",
    "    return grid\n",
    "\n",
    "# Generar el grid con los límites aproximados de México y celdas de 1 grado por 1 grado\n",
    "\n",
    "xmin, ymin, xmax, ymax = -120, 10, -82, 37\n",
    "\n",
    "grid_1 = crear_grid(xmin, xmax, ymin, ymax, 1, 1)\n",
    "grid_punto7 = crear_grid(xmin, xmax, ymin, ymax, .7, .7)\n",
    "\n",
    "#Ahora, 'grid' es un GeoDataFrame que contiene el 'ID_Poligono' y su 'geometry'\n",
    "print(grid_1.head())\n",
    "print(grid_punto7.head())"
   ]
  },
  {
   "cell_type": "code",
   "execution_count": 20,
   "id": "cba5ba92",
   "metadata": {},
   "outputs": [
    {
     "name": "stderr",
     "output_type": "stream",
     "text": [
      "/var/folders/68/6zkv8z4j4rl6ds90br2rb7ph0000gn/T/ipykernel_59709/967252687.py:2: UserWarning: Column names longer than 10 characters will be truncated when saved to ESRI Shapefile.\n",
      "  grid_1.to_file(\"/Users/pablouriarte/Documents/1. Expediente Tec de Monterrey/1.Tesis/Mapa_Migracion_Irregular_Mexico/1. Mapas/2. arcgis(general)/grids/grid_1x1.shp\")\n",
      "/var/folders/68/6zkv8z4j4rl6ds90br2rb7ph0000gn/T/ipykernel_59709/967252687.py:5: UserWarning: Column names longer than 10 characters will be truncated when saved to ESRI Shapefile.\n",
      "  grid_punto7.to_file(\"/Users/pablouriarte/Documents/1. Expediente Tec de Monterrey/1.Tesis/Mapa_Migracion_Irregular_Mexico/1. Mapas/2. arcgis(general)/grids/grid_punto7x7.shp\")\n"
     ]
    }
   ],
   "source": [
    "# Guardar grid_1 como Shapefile\n",
    "grid_1.to_file(\"/Users/pablouriarte/Documents/1. Expediente Tec de Monterrey/1.Tesis/Mapa_Migracion_Irregular_Mexico/1. Mapas/2. arcgis(general)/grids/grid_1x1.shp\")\n",
    "\n",
    "# Guardar grid_punto7 como Shapefile\n",
    "grid_punto7.to_file(\"/Users/pablouriarte/Documents/1. Expediente Tec de Monterrey/1.Tesis/Mapa_Migracion_Irregular_Mexico/1. Mapas/2. arcgis(general)/grids/grid_punto7x7.shp\")\n"
   ]
  },
  {
   "cell_type": "code",
   "execution_count": null,
   "id": "08f9a7ce",
   "metadata": {},
   "outputs": [],
   "source": []
  },
  {
   "cell_type": "code",
   "execution_count": null,
   "id": "2efe3025",
   "metadata": {},
   "outputs": [],
   "source": []
  },
  {
   "cell_type": "code",
   "execution_count": null,
   "id": "032fea3f",
   "metadata": {},
   "outputs": [],
   "source": [
    "# Definir las listas de estados para cada ruta, asegurándose de que todas las entradas están correctamente formateadas como strings\n",
    "estados_ruta_golfo = ['Tabasco', 'Nuevo Leon', 'Veracruz', 'Tamaulipas']\n",
    "estados_ruta_pacifico = ['Guerrero', 'Michoacan', 'Jalisco', 'Nayarit', 'Sinaloa', 'Sonora', 'Baja California', 'Baja California Sur','Colima']\n",
    "estados_ruta_centro = ['San Luis Potosi','Estado de Mexico', 'Tlaxcala', 'Ciudad de Mexico', 'Puebla', 'Morelos', 'Hidalgo', 'Zacatecas', 'Durango', 'Chihuahua', 'Coahuila', 'Queretaro', 'Aguascalientes', 'Guanajuato']\n",
    "ruta_sur = ['Chiapas', 'Oaxaca', 'Tabasco', 'Campeche', 'Quintana Roo', 'Yucatan']\n",
    "\n",
    "# Actualizar la función para asignar la ruta basada en el estado\n",
    "#def asignar_ruta(estado):\n",
    "#    estado = estado.strip()  # Eliminar espacios en blanco al principio y al final\n",
    "#    if estado in estados_ruta_golfo:\n",
    "#        return 'Ruta del Golfo'\n",
    "#    elif estado in estados_ruta_pacifico:\n",
    "#        return 'Ruta del Pacifico'\n",
    "#    elif estado in estados_ruta_centro:\n",
    "#        return 'Ruta Centro'\n",
    "#    elif estado in ruta_sur:\n",
    "#        return 'Ruta Sur'\n",
    "#    else:\n",
    "#        return 'Ruta no identificada'  # Para estados que no coinciden con las listas\n",
    "\n",
    "# Aplicar la función al DataFrame para crear una nueva columna 'Ruta'\n",
    "#datos_csv['ruta'] = datos_csv['estado'].apply(asignar_ruta)"
   ]
  },
  {
   "cell_type": "code",
   "execution_count": null,
   "id": "9a0c61d5",
   "metadata": {},
   "outputs": [],
   "source": [
    "# Reordenar las columnas para colocar 'Estado' después de 'Ciudad'\n",
    "#column_order = ['ciudad', 'estado', 'ruta','detenciones']\n",
    "\n",
    "# Aplicar el nuevo orden de columnas al DataFrame\n",
    "#datos_csv = datos_csv[column_order]"
   ]
  },
  {
   "cell_type": "code",
   "execution_count": null,
   "id": "23491835",
   "metadata": {},
   "outputs": [],
   "source": [
    "# Obtenemos los valores únicos de la columna 'ruta'\n",
    "#valores_unicos_ruta = datos_csv['ruta'].unique()\n",
    "\n",
    "# Imprimimos los valores únicos\n",
    "#print(valores_unicos_ruta)"
   ]
  },
  {
   "cell_type": "code",
   "execution_count": null,
   "id": "c1c00bbb",
   "metadata": {},
   "outputs": [],
   "source": [
    "# Initialize the geolocator using OSM Nominatim\n",
    "#geolocator = Photon(user_agent=\"measurement\", timeout=10)\n",
    "\n",
    "# Define a function to get latitude and longitude\n",
    "#def get_lat_lon(address):\n",
    "#    try:\n",
    "#        location = geolocator.geocode(address)\n",
    "#        if location:\n",
    "#            return location.latitude, location.longitude\n",
    "#        else:\n",
    "#            return '', ''  # Return empty strings if location is not found\n",
    "#    except AttributeError:\n",
    "#        return '', ''\n",
    "\n",
    "# Apply the function to the 'City' column and split the results into 'Latitude' and 'Longitude' columns\n",
    "#datos_csv[['latitud', 'longitud']] = datos_csv['ciudad'].apply(lambda x: pd.Series(get_lat_lon(x)))"
   ]
  },
  {
   "cell_type": "code",
   "execution_count": null,
   "id": "13ad1baf",
   "metadata": {},
   "outputs": [],
   "source": [
    "# Especifica la ruta donde deseas guardar el archivo CSV\n",
    "#ruta_archivo_csv = '/Users/pablouriarte/Documents/1. Expediente Tec de Monterrey/1.Tesis/Mapa_Migracion_Irregular_Mexico/3. mapas/1. Mapas/Metodo_1/ciudades_rutas/ciudades detenciones/ciudades_detenciones_1.csv'\n",
    "\n",
    "# Guardar el DataFrame en el archivo CSV especificado\n",
    "#datos_csv.to_csv(ruta_archivo_csv, index=False)\n",
    "\n",
    "#print(f\"El DataFrame ha sido guardado exitosamente en: {ruta_archivo_csv}\")\n"
   ]
  },
  {
   "cell_type": "code",
   "execution_count": null,
   "id": "2db8b693",
   "metadata": {},
   "outputs": [],
   "source": [
    "# Cargar el archivo CSV\n",
    "#datos_csv1 = pd.read_csv('/Users/pablouriarte/Documents/1. Expediente Tec de Monterrey/1.Tesis/Mapa_Migracion_Irregular_Mexico/3. mapas/1. Mapas/Metodo_1/ciudades_rutas/ciudades detenciones/ciudades_detenciones_1.csv')\n"
   ]
  },
  {
   "cell_type": "code",
   "execution_count": null,
   "id": "22379d14",
   "metadata": {},
   "outputs": [],
   "source": [
    "# Convertir la columna 'detenciones' a entero\n",
    "#datos_csv1['detenciones'] = pd.to_numeric(datos_csv1['detenciones'], errors='coerce').fillna(0).astype(int)"
   ]
  },
  {
   "cell_type": "code",
   "execution_count": null,
   "id": "3d31129e",
   "metadata": {},
   "outputs": [],
   "source": [
    "# Identificar los índices de la primera fila de cada categoría en 'estado'\n",
    "#indices_a_eliminar = datos_csv1.groupby('estado').head(1).index\n",
    "\n",
    "# Eliminar esas filas del DataFrame\n",
    "#datos_csv1 = datos_csv1.drop(indices_a_eliminar)\n",
    "\n",
    "\n"
   ]
  },
  {
   "cell_type": "code",
   "execution_count": null,
   "id": "740063d7",
   "metadata": {},
   "outputs": [],
   "source": []
  },
  {
   "cell_type": "code",
   "execution_count": null,
   "id": "8dc1474c",
   "metadata": {},
   "outputs": [],
   "source": [
    "# Verificar los cambios\n",
    "#print(datos_csv1.head())\n"
   ]
  },
  {
   "cell_type": "code",
   "execution_count": null,
   "id": "4b6d7704",
   "metadata": {},
   "outputs": [],
   "source": [
    "# Agregar la columna 'tipo' con la etiqueta 'Presencia Migración Irregular' para todas las filas\n",
    "#datos_csv1['tipo'] = 'Presencia Migración Irregular'\n",
    "\n",
    "# Verificar los cambios mostrando las primeras filas del DataFrame\n",
    "#print(datos_csv1.head())\n"
   ]
  },
  {
   "cell_type": "code",
   "execution_count": null,
   "id": "557eaccc",
   "metadata": {},
   "outputs": [],
   "source": [
    "# Especifica la ruta donde deseas guardar el archivo CSV\n",
    "#ruta_archivo_csv1 = '/Users/pablouriarte/Documents/1. Expediente Tec de Monterrey/1.Tesis/Mapa_Migracion_Irregular_Mexico/3. mapas/1. Mapas/Metodo_1/ciudades_rutas/ciudades detenciones/ciudades_detenciones_1.csv'\n",
    "\n",
    "# Guardar el DataFrame en el archivo CSV especificado\n",
    "#datos_csv1.to_csv(ruta_archivo_csv1, index=False)\n",
    "\n",
    "#print(f\"El DataFrame ha sido guardado exitosamente en: {ruta_archivo_csv1}\")\n"
   ]
  },
  {
   "cell_type": "markdown",
   "id": "194fc4d8",
   "metadata": {},
   "source": [
    "### Grid Shape"
   ]
  },
  {
   "cell_type": "markdown",
   "id": "324e37ff",
   "metadata": {},
   "source": [
    "Para crear un grid con polígonos geoespaciales y asignar a cada punto según su latitud y longitud a un polígono correspondiente, se puede utilizar la biblioteca geopandas en Python, que extiende las capacidades de pandas para trabajar con datos espaciales. También usaremos shapely para manipular y analizar datos geométricos planos, y numpy para manejar operaciones numéricas.\n",
    "\n"
   ]
  },
  {
   "cell_type": "markdown",
   "id": "3cdcdf6f",
   "metadata": {},
   "source": [
    "Crear el Grid de Polígonos: Primero, generamos un conjunto de polígonos que representen cada celda del grid sobre el área de interés (en este caso, México). Cada polígono puede ser identificado de manera única, por ejemplo, usando una convención de nomenclatura como PG1, PG2, etc."
   ]
  },
  {
   "cell_type": "code",
   "execution_count": null,
   "id": "dc7cc266",
   "metadata": {},
   "outputs": [],
   "source": [
    "def crear_grid(xmin, xmax, ymin, ymax, ancho_celda, alto_celda):\n",
    "    cols = list(np.arange(xmin, xmax, ancho_celda))\n",
    "    rows = list(np.arange(ymin, ymax, alto_celda))\n",
    "    poligonos = []\n",
    "    ids = []\n",
    "\n",
    "    id_contador = 1  # Iniciar contador para los ID de polígonos\n",
    "    for x in cols:\n",
    "        for y in rows:\n",
    "            poligonos.append(Polygon([(x, y), (x+ancho_celda, y), (x+ancho_celda, y-alto_celda), (x, y-alto_celda)]))\n",
    "            ids.append(f\"PG{id_contador}\")  # Asignar un ID único a cada polígono\n",
    "            id_contador += 1\n",
    "\n",
    "    grid = gpd.GeoDataFrame({'ID_Poligono': ids, 'geometry': poligonos})\n",
    "    return grid\n",
    "\n",
    "# Generar el grid con los límites aproximados de México y celdas de 1 grado por 1 grado\n",
    "xmin, ymin, xmax, ymax = -120, 10, -82, 37\n",
    "grid = crear_grid(xmin, xmax, ymin, ymax, 1, 1)\n",
    "\n",
    " Ahora, 'grid' es un GeoDataFrame que contiene el 'ID_Poligono' y su 'geometry'\n",
    "#print(grid.head())"
   ]
  },
  {
   "cell_type": "code",
   "execution_count": null,
   "id": "c808a2a3",
   "metadata": {},
   "outputs": [],
   "source": [
    "# Cargar el archivo CSV\n",
    "#datos_csv1 = pd.read_csv('/Users/pablouriarte/Documents/1. Expediente Tec de Monterrey/1.Tesis/Mapa_Migracion_Irregular_Mexico/3. mapas/1. Mapas/Metodo_1/ciudades_rutas/ciudades detenciones/ciudades_detenciones_1.csv')\n"
   ]
  },
  {
   "cell_type": "code",
   "execution_count": null,
   "id": "814c87ed",
   "metadata": {},
   "outputs": [],
   "source": [
    "# Actualizar Campeche, Campeche\n",
    "datos_csv1.loc[(datos_csv1['ciudad'] == 'Campeche, Campeche'), 'latitud'] = 19.830285751988043\n",
    "datos_csv1.loc[(datos_csv1['ciudad'] == 'Campeche, Campeche'), 'longitud'] = -90.53551463998544\n",
    "\n",
    "# Actualizar Colima, Colima\n",
    "datos_csv1.loc[(datos_csv1['ciudad'] == 'Colima, Colima'), 'latitud'] = 19.24487815537049\n",
    "datos_csv1.loc[(datos_csv1['ciudad'] == 'Colima, Colima'), 'longitud'] = -103.7250306766154\n",
    "\n",
    "# Actualizar Puebla, Puebla\n",
    "datos_csv1.loc[(datos_csv1['ciudad'] == 'Puebla, Puebla'), 'latitud'] = 19.038406227976886\n",
    "datos_csv1.loc[(datos_csv1['ciudad'] == 'Puebla, Puebla'), 'longitud'] = -98.2069491554557\n",
    "\n",
    "\n",
    "datos_csv1.loc[(datos_csv1['ciudad'] == 'Zacatecas, Zacatecas'), 'latitud'] = 19.039018782328817\n",
    "datos_csv1.loc[(datos_csv1['ciudad'] == 'Zacatecas, Zacatecas'), 'longitud'] = -98.20248616428334"
   ]
  },
  {
   "cell_type": "code",
   "execution_count": null,
   "id": "cd75fc8a",
   "metadata": {},
   "outputs": [],
   "source": [
    "datos_csv1.head(30)"
   ]
  },
  {
   "cell_type": "code",
   "execution_count": null,
   "id": "9430f187",
   "metadata": {},
   "outputs": [],
   "source": [
    "# Eliminar las columnas del DataFrame\n",
    "#datos_csv1 = datos_csv1.drop(columns=['ID_Poligono','geometry', 'codigo_ruta', 'contador_xy', 'codigo_unico'])\n",
    "\n",
    "# Verificación: Muestra las primeras filas para asegurarse de que las columnas han sido eliminadas\n",
    "#print(datos_csv1.head())\n"
   ]
  },
  {
   "cell_type": "code",
   "execution_count": null,
   "id": "19543796",
   "metadata": {},
   "outputs": [],
   "source": [
    "# Convertir la columna 'detenciones' a entero\n",
    "#datos_csv1['detenciones'] = pd.to_numeric(datos_csv1['detenciones'], errors='coerce').fillna(0).astype(int)"
   ]
  },
  {
   "cell_type": "code",
   "execution_count": null,
   "id": "14090182",
   "metadata": {},
   "outputs": [],
   "source": [
    "# Paso 2: Asignar Puntos a Polígonos\n",
    "puntos = [Point(xy) for xy in zip(datos_csv1.longitud, datos_csv1.latitud)]\n",
    "geo_df = gpd.GeoDataFrame(datos_csv1, geometry=puntos)\n",
    "\n",
    "# Realizar la asignación\n",
    "geo_df = gpd.sjoin(geo_df, grid, how='left', op='within')\n",
    "\n",
    "# Paso 3: Actualizar DataFrame\n",
    "datos_csv1['ID_Poligono'] = geo_df['ID_Poligono']"
   ]
  },
  {
   "cell_type": "code",
   "execution_count": null,
   "id": "fd9da2c6",
   "metadata": {},
   "outputs": [],
   "source": [
    "# Asegurándose de que datos_csv2 es un GeoDataFrame\n",
    "if not isinstance(datos_csv1, gpd.GeoDataFrame):\n",
    "    # Si datos_csv2 ya tiene una columna 'geometry', úsala; de lo contrario, se necesita definir una\n",
    "    if 'geometry' in datos_csv1.columns:\n",
    "        datos_csv1 = gpd.GeoDataFrame(datos_csv1, geometry='geometry')\n",
    "    else:\n",
    "        # Aquí se asume que no hay una columna 'geometry' existente y que quizás no necesites definir una en este momento\n",
    "        datos_csv1 = gpd.GeoDataFrame(datos_csv1)\n",
    "\n",
    "# Realizar el merge (unión) entre datos_csv2 y grid usando 'ID_Poligono' como clave\n",
    "datos_csv1 = datos_csv1.merge(grid[['ID_Poligono', 'geometry']], on='ID_Poligono', how='left')\n"
   ]
  },
  {
   "cell_type": "code",
   "execution_count": null,
   "id": "3e2d269c",
   "metadata": {},
   "outputs": [],
   "source": []
  },
  {
   "cell_type": "code",
   "execution_count": null,
   "id": "bc313d21",
   "metadata": {},
   "outputs": [],
   "source": [
    "datos_csv1.tail(20)"
   ]
  },
  {
   "cell_type": "markdown",
   "id": "e65b801c",
   "metadata": {},
   "source": [
    "Asignar Puntos a Polígonos: Luego, para cada punto dado por sus coordenadas de latitud y longitud en datos_csv1, determinamos en qué polígono del grid se encuentra y asignamos el identificador de ese polígono al punto.\n"
   ]
  },
  {
   "cell_type": "markdown",
   "id": "f0a45369",
   "metadata": {},
   "source": [
    "el codigo de un punto se miraria algo asi: S-PG#-1\n",
    "\n",
    "Para asignar un código que combine el código de ruta por estado, el identificador del polígono al que pertenece cada punto y un número ascendente basado en el orden de las coordenadas XY dentro de cada polígono\n",
    "\n",
    "por estado, si:\n",
    "    'Ruta Sur': 'S',\n",
    "    'Ruta del Pacifico': 'P',\n",
    "    'Ruta Centro': 'C',\n",
    "    'Ruta del Golfo': 'G'\n",
    "    \n",
    "por ID_Poligono: el poligono a que pertenece\n",
    "\n",
    "y por orden asendientes de su coordenada xy dentro de cada poligono"
   ]
  },
  {
   "cell_type": "code",
   "execution_count": null,
   "id": "262c0ad8",
   "metadata": {},
   "outputs": [],
   "source": [
    "# Primero, mapeamos la columna 'ruta' a su código correspondiente\n",
    "ruta_to_code = {\n",
    "    'Ruta Sur': 'S',\n",
    "    'Ruta del Pacifico': 'P',\n",
    "    'Ruta Centro': 'C',\n",
    "    'Ruta del Golfo': 'G'\n",
    "}\n",
    "datos_csv1['codigo_ruta'] = datos_csv1['ruta'].map(ruta_to_code)\n",
    "\n",
    "# Asumiendo que 'datos_csv2' ya tiene una columna 'ID_Poligono',\n",
    "# vamos a crear una columna que identifique el orden XY dentro de cada polígono\n",
    "# Para esto, primero ordenamos el DataFrame\n",
    "datos_csv1.sort_values(by=['ID_Poligono', 'latitud', 'longitud'], ascending=[True, True, True], inplace=True)\n",
    "\n",
    "# Creamos una nueva columna que será el contador dentro de cada grupo de 'ID_Poligono'\n",
    "datos_csv1['contador_xy'] = datos_csv1.groupby('ID_Poligono').cumcount() + 1\n",
    "\n",
    "# Ahora, combinamos todo para crear el código único\n",
    "datos_csv1['codigo_unico'] = datos_csv1['codigo_ruta'] + '-' + datos_csv1['ID_Poligono'] + '-' + datos_csv1['contador_xy'].astype(str)\n",
    "\n",
    "# Revisamos el resultado\n",
    "print(datos_csv1[['ciudad', 'estado', 'ruta', 'ID_Poligono', 'codigo_unico']])\n"
   ]
  },
  {
   "cell_type": "markdown",
   "id": "53afaaf7",
   "metadata": {},
   "source": [
    "Actualizar DataFrame: Finalmente, agregamos una nueva columna al DataFrame datos_csv1 para almacenar el identificador del polígono del grid al que pertenece cada punto."
   ]
  },
  {
   "cell_type": "code",
   "execution_count": null,
   "id": "6ad7c7db",
   "metadata": {},
   "outputs": [],
   "source": [
    "# Obtener el conteo de los valores únicos en la columna 'ID_Poligono'\n",
    "conteo_id_poligono = datos_csv1['ID_Poligono'].value_counts()\n",
    "\n",
    "# Mostrar el conteo\n",
    "print(conteo_id_poligono)\n",
    "\n"
   ]
  },
  {
   "cell_type": "code",
   "execution_count": null,
   "id": "661514f1",
   "metadata": {},
   "outputs": [],
   "source": [
    "# Especifica la ruta donde deseas guardar el archivo CSV\n",
    "ruta_archivo_csv4 = '/Users/pablouriarte/Documents/1. Expediente Tec de Monterrey/1.Tesis/Mapa_Migracion_Irregular_Mexico/3. mapas/1. Mapas/Metodo_1/ciudades_rutas/ciudades detenciones/grid.csv'\n",
    "\n",
    "# Guardar el DataFrame en el archivo CSV especificado\n",
    "grid.to_csv(ruta_archivo_csv4, index=False)\n",
    "\n",
    "print(f\"El DataFrame ha sido guardado exitosamente en: {ruta_archivo_csv3}\")"
   ]
  },
  {
   "cell_type": "code",
   "execution_count": null,
   "id": "cc67118b",
   "metadata": {},
   "outputs": [],
   "source": [
    "grid"
   ]
  },
  {
   "cell_type": "code",
   "execution_count": null,
   "id": "17b146f9",
   "metadata": {},
   "outputs": [],
   "source": [
    "datos_csv2"
   ]
  },
  {
   "cell_type": "markdown",
   "id": "8995c505",
   "metadata": {},
   "source": [
    "### Arreglamos detenciones"
   ]
  },
  {
   "cell_type": "markdown",
   "id": "049bcac6",
   "metadata": {},
   "source": [
    "reordenar mi df datos_csv2, usando su columna estado, sort en orden alfabetico y resetear el index"
   ]
  },
  {
   "cell_type": "code",
   "execution_count": null,
   "id": "43c0419f",
   "metadata": {},
   "outputs": [],
   "source": [
    "# Cargar el archivo CSV\n",
    "datos_csv2 = pd.read_csv('/Users/pablouriarte/Documents/1. Expediente Tec de Monterrey/1.Tesis/Mapa_Migracion_Irregular_Mexico/3. mapas/1. Mapas/Metodo_1/ciudades_rutas/ciudades detenciones/ciudades_detenciones_1.csv')\n"
   ]
  },
  {
   "cell_type": "code",
   "execution_count": null,
   "id": "3c0bc232",
   "metadata": {},
   "outputs": [],
   "source": [
    "# Ordenamos el DataFrame por la columna 'estado' en orden alfabético\n",
    "datos_csv2_ordenado = datos_csv2.sort_values(by='estado')\n",
    "\n",
    "# Reseteamos el índice del DataFrame ordenado\n",
    "datos_csv2_ordenado.reset_index(drop=True, inplace=True)\n",
    "\n"
   ]
  },
  {
   "cell_type": "code",
   "execution_count": null,
   "id": "a7603fdf",
   "metadata": {},
   "outputs": [],
   "source": [
    "# Especifica la ruta donde deseas guardar el archivo CSV\n",
    "ruta_archivo_csv5 = '/Users/pablouriarte/Documents/1. Expediente Tec de Monterrey/1.Tesis/Mapa_Migracion_Irregular_Mexico/3. mapas/1. Mapas/Metodo_1/ciudades_rutas/ciudades detenciones/ciudades_detenciones_1.csv'\n",
    "\n",
    "# Guardar el DataFrame en el archivo CSV especificado\n",
    "datos_csv2_ordenado.to_csv(ruta_archivo_csv5, index=False)\n",
    "\n",
    "print(f\"El DataFrame ha sido guardado exitosamente en: {ruta_archivo_csv5}\")"
   ]
  },
  {
   "cell_type": "code",
   "execution_count": null,
   "id": "0d6b7701",
   "metadata": {},
   "outputs": [],
   "source": [
    "# Cargar el archivo CSV\n",
    "datos_csv3 = pd.read_csv('/Users/pablouriarte/Documents/1. Expediente Tec de Monterrey/1.Tesis/Mapa_Migracion_Irregular_Mexico/3. mapas/1. Mapas/Metodo_1/ciudades_rutas/ciudades detenciones/ciudades_detenciones_1.csv')\n"
   ]
  },
  {
   "cell_type": "markdown",
   "id": "69684484",
   "metadata": {},
   "source": [
    "#### AGREGamos columna con los datos de detenciones, procesamos y unimos"
   ]
  },
  {
   "cell_type": "code",
   "execution_count": null,
   "id": "c12abbf7",
   "metadata": {},
   "outputs": [],
   "source": [
    "# Cargar el archivo CSV\n",
    "datos_detenciones_2023 = pd.read_csv('/Users/pablouriarte/Documents/1. Expediente Tec de Monterrey/1.Tesis/Mapa_Migracion_Irregular_Mexico/3. mapas/1. Mapas/Metodo_1/ciudades_rutas/ciudades detenciones/ciudades_detenciones.csv')\n"
   ]
  },
  {
   "cell_type": "code",
   "execution_count": null,
   "id": "97248dff",
   "metadata": {},
   "outputs": [],
   "source": [
    "datos_detenciones_2023 = datos_detenciones_2023.dropna()"
   ]
  },
  {
   "cell_type": "code",
   "execution_count": null,
   "id": "9ca625b1",
   "metadata": {},
   "outputs": [],
   "source": [
    "datos_detenciones_2023.head()"
   ]
  },
  {
   "cell_type": "code",
   "execution_count": null,
   "id": "0d62ec7d",
   "metadata": {},
   "outputs": [],
   "source": [
    "# Cambiamos los nombres de las columnas usando el método 'rename'\n",
    "datos_detenciones_2023 = datos_detenciones_2023.rename(columns={'Unnamed: 0': 'ciudad', 'Unnamed: 1': 'detenciones'})\n",
    "\n"
   ]
  },
  {
   "cell_type": "code",
   "execution_count": null,
   "id": "19316c66",
   "metadata": {},
   "outputs": [],
   "source": [
    "# Función para eliminar acentos en una cadena de texto, manejando valores no-cadena\n",
    "def quitar_acentos(texto):\n",
    "    # Si el valor es una cadena, aplicamos unidecode\n",
    "    if isinstance(texto, str):\n",
    "        return unidecode.unidecode(texto)\n",
    "    # Si no es una cadena, lo dejamos tal cual (esto incluye NaN y números)\n",
    "    return texto\n",
    "\n",
    "# Aplicamos la función a todas las columnas de tipo object en el DataFrame\n",
    "for columna in datos_detenciones_2023.select_dtypes(include=['object']).columns:\n",
    "    datos_detenciones_2023[columna] = datos_detenciones_2023[columna].apply(quitar_acentos)\n",
    "\n"
   ]
  },
  {
   "cell_type": "code",
   "execution_count": null,
   "id": "3274d338",
   "metadata": {},
   "outputs": [],
   "source": [
    "# Función para detectar si un nombre de ciudad tiene caracteres especiales (no es alfanumérico)\n",
    "def tiene_caracteres_especiales(cadena):\n",
    "    return not cadena.replace(\" \", \"\").isalnum()\n",
    "\n",
    "# Crea una nueva columna 'estado' inicialmente llena con NaN\n",
    "datos_detenciones_2023['estado'] = pd.NA\n",
    "\n",
    "# Inicializamos una variable para almacenar el estado actual mientras iteramos\n",
    "estado_actual = None\n",
    "\n",
    "# Iteramos sobre las filas del DataFrame\n",
    "for index, row in datos_detenciones_2023.iterrows():\n",
    "    # Si la ciudad no tiene caracteres especiales, actualizamos estado_actual\n",
    "    if not tiene_caracteres_especiales(row['ciudad']):\n",
    "        estado_actual = row['ciudad']\n",
    "    # Asignamos el estado actual a la columna 'estado'\n",
    "    datos_detenciones_2023.at[index, 'estado'] = estado_actual"
   ]
  },
  {
   "cell_type": "code",
   "execution_count": null,
   "id": "16e623f0",
   "metadata": {},
   "outputs": [],
   "source": [
    "# Filtramos el DataFrame para mantener solo las filas donde la columna 'ciudad' tiene caracteres especiales\n",
    "datos_detenciones_2023 = datos_detenciones_2023[datos_detenciones_2023['ciudad'].apply(tiene_caracteres_especiales)]\n"
   ]
  },
  {
   "cell_type": "code",
   "execution_count": null,
   "id": "a7983b57",
   "metadata": {},
   "outputs": [],
   "source": [
    "# Asegúrate de que 'datos_detenciones_2023' es el DataFrame actual después de eliminar las filas con NaN.\n",
    "datos_detenciones_2023 = datos_detenciones_2023[['ciudad', 'estado', 'detenciones']]\n"
   ]
  },
  {
   "cell_type": "code",
   "execution_count": null,
   "id": "4f82204f",
   "metadata": {},
   "outputs": [],
   "source": [
    "# Reemplazamos el contenido de la columna 'ciudad' después de la primera coma por el valor de la columna 'estado'\n",
    "datos_detenciones_2023['ciudad'] = datos_detenciones_2023.apply(lambda fila: fila['ciudad'].split(',', 1)[0] + \", \" + fila['estado'], axis=1)\n"
   ]
  },
  {
   "cell_type": "code",
   "execution_count": null,
   "id": "c4276a6f",
   "metadata": {},
   "outputs": [],
   "source": [
    "# Verificamos el cambio\n",
    "print(datos_detenciones_2023.head(20))"
   ]
  },
  {
   "cell_type": "code",
   "execution_count": null,
   "id": "cb2989ec",
   "metadata": {},
   "outputs": [],
   "source": [
    "# Especifica la ruta donde deseas guardar el archivo CSV\n",
    "ruta_archivo_csv6 = '/Users/pablouriarte/Documents/1. Expediente Tec de Monterrey/1.Tesis/Mapa_Migracion_Irregular_Mexico/3. mapas/1. Mapas/Metodo_1/ciudades_rutas/ciudades detenciones/ciudades_detenciones_2023.csv'\n",
    "\n",
    "# Guardar el DataFrame en el archivo CSV especificado\n",
    "datos_detenciones_2023.to_csv(ruta_archivo_csv6, index=False)\n",
    "\n",
    "print(f\"El DataFrame ha sido guardado exitosamente en: {ruta_archivo_csv6}\")"
   ]
  },
  {
   "cell_type": "code",
   "execution_count": null,
   "id": "b4c29c19",
   "metadata": {},
   "outputs": [],
   "source": [
    "# Realizamos un merge entre datos_csv3 y datos_detenciones_2023 basándonos en 'ciudad'\n",
    "datos_combinados = pd.merge(datos_csv3, datos_detenciones_2023[['ciudad', 'detenciones']],\n",
    "                            on='ciudad', how='left', suffixes=('', '_nueva'))\n"
   ]
  },
  {
   "cell_type": "code",
   "execution_count": null,
   "id": "d8944948",
   "metadata": {},
   "outputs": [],
   "source": [
    "# Actualizamos la columna 'detenciones' en datos_csv3 con los valores de 'detenciones_nueva'\n",
    "datos_csv3['detenciones'] = datos_combinados['detenciones_nueva']\n"
   ]
  },
  {
   "cell_type": "code",
   "execution_count": null,
   "id": "c146a739",
   "metadata": {},
   "outputs": [],
   "source": [
    "# Verificamos el cambio\n",
    "print(datos_csv3.head())"
   ]
  },
  {
   "cell_type": "code",
   "execution_count": null,
   "id": "a26e9008",
   "metadata": {},
   "outputs": [],
   "source": [
    "# Especifica la ruta donde deseas guardar el archivo CSV\n",
    "ruta_archivo_csv7 = '/Users/pablouriarte/Documents/1. Expediente Tec de Monterrey/1.Tesis/Mapa_Migracion_Irregular_Mexico/3. mapas/1. Mapas/Metodo_1/ciudades_rutas/ciudades detenciones/ciudades_detenciones_1.csv'\n",
    "\n",
    "# Guardar el DataFrame en el archivo CSV especificado\n",
    "datos_csv3.to_csv(ruta_archivo_csv7, index=False)\n",
    "\n",
    "print(f\"El DataFrame ha sido guardado exitosamente en: {ruta_archivo_csv7}\")"
   ]
  },
  {
   "cell_type": "markdown",
   "id": "4ea65578",
   "metadata": {},
   "source": [
    "### Hacemos segundo df con geometry_range"
   ]
  },
  {
   "cell_type": "code",
   "execution_count": null,
   "id": "cf854f04",
   "metadata": {},
   "outputs": [],
   "source": [
    "datos_csv3.head()"
   ]
  },
  {
   "cell_type": "code",
   "execution_count": null,
   "id": "0c7e2aa7",
   "metadata": {},
   "outputs": [],
   "source": [
    "# Seleccionamos las columnas específicas de datos_csv3\n",
    "datos_csv4 = datos_csv3[['ciudad', 'estado', 'ruta', 'detenciones', 'latitud', 'longitud', 'tipo', 'ID_Poligono', 'codigo_unico']].copy()\n",
    "\n",
    "# Reseteamos el índice del nuevo DataFrame\n",
    "datos_csv3.reset_index(drop=True, inplace=True)\n",
    "\n",
    "# Verificamos el resultado\n",
    "print(datos_csv4.head())\n"
   ]
  },
  {
   "cell_type": "code",
   "execution_count": null,
   "id": "4a7f506c",
   "metadata": {},
   "outputs": [],
   "source": [
    "# Asegurándonos de trabajar con el DataFrame correcto, df1\n",
    "gdf = gpd.GeoDataFrame(datos_csv4, geometry=gpd.points_from_xy(datos_csv4.longitud, datos_csv4.latitud))\n",
    "\n",
    "# Estableciendo el CRS original a EPSG:4326 para las coordenadas geográficas\n",
    "gdf.crs = \"EPSG:4326\"\n",
    "\n",
    "# Cambiando el CRS a uno que use metros para el cálculo del buffer. Reemplazando el EPSG con un código correcto.\n",
    "# Nota: El EPSG 6366 parece ser un error. Asegúrate de usar el código EPSG de UTM adecuado para tu zona.\n",
    "gdf_metros = gdf.to_crs(epsg=6366)  # Reemplaza YOUR_UTM_EPSG_CODE con el código EPSG adecuado\n",
    "\n",
    "# Aplicando el buffer de 10km para crear una nueva columna 'geometry_range' con los polígonos\n",
    "gdf_metros['geometry_range'] = gdf_metros.geometry.buffer(10000)\n",
    "\n",
    "# (Opcional) Si deseas convertir el GeoDataFrame de regreso a lat/long (EPSG:4326) para alguna otra operación,\n",
    "# y quieres que la columna 'geometry_range' sea la geometría activa,\n",
    "# debes hacerlo antes de cambiar el CRS de regreso a EPSG:4326.\n",
    "# gdf_metros.set_geometry('geometry_range', inplace=True)\n",
    "\n",
    "# Cambiando de regreso a EPSG:4326\n",
    "gdf_final = gdf_metros.to_crs(epsg=4326)"
   ]
  },
  {
   "cell_type": "code",
   "execution_count": null,
   "id": "3d56af4c",
   "metadata": {},
   "outputs": [],
   "source": [
    "gdf_final"
   ]
  },
  {
   "cell_type": "code",
   "execution_count": null,
   "id": "9f0905c4",
   "metadata": {},
   "outputs": [],
   "source": [
    "# Especifica la ruta donde deseas guardar el archivo CSV\n",
    "ruta_archivo_csv7 = '/Users/pablouriarte/Documents/1. Expediente Tec de Monterrey/1.Tesis/Mapa_Migracion_Irregular_Mexico/3. mapas/1. Mapas/Metodo_1/ciudades_rutas/ciudades detenciones/ciudades_detenciones_geometry_range.csv'\n",
    "\n",
    "# Guardar el DataFrame en el archivo CSV especificado\n",
    "gdf_final.to_csv(ruta_archivo_csv6, index=False)\n",
    "\n",
    "print(f\"El DataFrame ha sido guardado exitosamente en: {ruta_archivo_csv7}\")"
   ]
  },
  {
   "cell_type": "code",
   "execution_count": null,
   "id": "c1c467a9",
   "metadata": {},
   "outputs": [],
   "source": []
  }
 ],
 "metadata": {
  "kernelspec": {
   "display_name": "Python 3 (ipykernel)",
   "language": "python",
   "name": "python3"
  },
  "language_info": {
   "codemirror_mode": {
    "name": "ipython",
    "version": 3
   },
   "file_extension": ".py",
   "mimetype": "text/x-python",
   "name": "python",
   "nbconvert_exporter": "python",
   "pygments_lexer": "ipython3",
   "version": "3.9.13"
  }
 },
 "nbformat": 4,
 "nbformat_minor": 5
}
