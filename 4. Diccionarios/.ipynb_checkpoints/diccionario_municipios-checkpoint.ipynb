{
 "cells": [
  {
   "cell_type": "code",
   "execution_count": 2,
   "id": "e4f371c0",
   "metadata": {},
   "outputs": [],
   "source": [
    "import pandas as pd\n",
    "import geopandas as gpd"
   ]
  },
  {
   "cell_type": "code",
   "execution_count": 27,
   "id": "40cf987e",
   "metadata": {},
   "outputs": [],
   "source": [
    "# Mex Municipios\n",
    "mx_mun = gpd.read_file('/Users/pablouriarte/Documents/1. Expediente Tec de Monterrey/1.Tesis/Mapa_Migracion_Irregular_Mexico/3. mapas/2. arcgis/maps_boundaries/Municipalities/mapa_mexico_mun/').set_index('CLAVE').to_crs(epsg=4485)"
   ]
  },
  {
   "cell_type": "markdown",
   "id": "8d65cc87",
   "metadata": {},
   "source": [
    "### Configuramos Index"
   ]
  },
  {
   "cell_type": "code",
   "execution_count": 28,
   "id": "5fa7c55c",
   "metadata": {},
   "outputs": [],
   "source": [
    "# Resetear el índice para convertirlo en una columna regular\n",
    "mx_mun.reset_index(inplace=True)\n",
    "\n",
    "# Si el índice no tiene un nombre o quieres cambiarlo a \"CLAVE\", puedes hacerlo de la siguiente manera\n",
    "mx_mun.rename(columns={'index': 'CLAVE'}, inplace=True)\n",
    "\n"
   ]
  },
  {
   "cell_type": "code",
   "execution_count": 29,
   "id": "64fb3320",
   "metadata": {},
   "outputs": [
    {
     "name": "stdout",
     "output_type": "stream",
     "text": [
      "['Baja California' 'Sonora' 'Chihuahua' 'Coahuila' 'Baja California Sur'\n",
      " 'Nuevo Leon' 'Tamaulipas' 'Sinaloa' 'Durango' 'Zacatecas'\n",
      " 'San Luis Potosi' 'Nayarit' 'Jalisco' 'Veracruz' 'Aguascalientes'\n",
      " 'Quintana Roo' 'Yucatan' 'Guanajuato' 'Queretaro' 'Hidalgo' 'Campeche'\n",
      " 'Puebla' 'Michoacan' 'Estado de Mexico' 'Tlaxcala' 'Ciudad de Mexico'\n",
      " 'Colima' 'Morelos' 'Tabasco' 'Guerrero' 'Oaxaca' 'Chiapas']\n"
     ]
    }
   ],
   "source": [
    "# Reemplazar valores en la columna 'NOMEDO'\n",
    "mx_mun['NOMEDO'] = mx_mun['NOMEDO'].replace({'Mexico': 'Estado de Mexico', 'D.F.': 'Ciudad de Mexico'})\n",
    "\n",
    "# Verificar los cambios\n",
    "print(mx_mun['NOMEDO'].unique())\n"
   ]
  },
  {
   "cell_type": "code",
   "execution_count": 34,
   "id": "a9a4294d",
   "metadata": {},
   "outputs": [
    {
     "data": {
      "text/html": [
       "<div>\n",
       "<style scoped>\n",
       "    .dataframe tbody tr th:only-of-type {\n",
       "        vertical-align: middle;\n",
       "    }\n",
       "\n",
       "    .dataframe tbody tr th {\n",
       "        vertical-align: top;\n",
       "    }\n",
       "\n",
       "    .dataframe thead th {\n",
       "        text-align: right;\n",
       "    }\n",
       "</style>\n",
       "<table border=\"1\" class=\"dataframe\">\n",
       "  <thead>\n",
       "    <tr style=\"text-align: right;\">\n",
       "      <th></th>\n",
       "      <th>ciudad</th>\n",
       "      <th>CLAVE</th>\n",
       "      <th>NOM_MUN</th>\n",
       "      <th>NOMEDO</th>\n",
       "      <th>CVE_EDO</th>\n",
       "      <th>CVE_MUNI</th>\n",
       "      <th>Area</th>\n",
       "      <th>geometry</th>\n",
       "    </tr>\n",
       "  </thead>\n",
       "  <tbody>\n",
       "    <tr>\n",
       "      <th>0</th>\n",
       "      <td>Tijuana, Baja California</td>\n",
       "      <td>02004</td>\n",
       "      <td>Tijuana</td>\n",
       "      <td>Baja California</td>\n",
       "      <td>02</td>\n",
       "      <td>004</td>\n",
       "      <td>1122.661145</td>\n",
       "      <td>POLYGON ((-73565.018 3602427.487, -73564.403 3...</td>\n",
       "    </tr>\n",
       "    <tr>\n",
       "      <th>1</th>\n",
       "      <td>Tecate, Baja California</td>\n",
       "      <td>02003</td>\n",
       "      <td>Tecate</td>\n",
       "      <td>Baja California</td>\n",
       "      <td>02</td>\n",
       "      <td>003</td>\n",
       "      <td>3670.991923</td>\n",
       "      <td>POLYGON ((-38995.078 3617846.589, -31557.921 3...</td>\n",
       "    </tr>\n",
       "    <tr>\n",
       "      <th>2</th>\n",
       "      <td>Mexicali, Baja California</td>\n",
       "      <td>02002</td>\n",
       "      <td>Mexicali</td>\n",
       "      <td>Baja California</td>\n",
       "      <td>02</td>\n",
       "      <td>002</td>\n",
       "      <td>13119.275713</td>\n",
       "      <td>POLYGON ((48160.716 3621731.593, 58570.990 362...</td>\n",
       "    </tr>\n",
       "    <tr>\n",
       "      <th>3</th>\n",
       "      <td>Playas de Rosarito, Baja California</td>\n",
       "      <td>02005</td>\n",
       "      <td>Playas de Rosarito</td>\n",
       "      <td>Baja California</td>\n",
       "      <td>02</td>\n",
       "      <td>005</td>\n",
       "      <td>517.120801</td>\n",
       "      <td>POLYGON ((-70946.724 3594803.753, -70966.034 3...</td>\n",
       "    </tr>\n",
       "    <tr>\n",
       "      <th>4</th>\n",
       "      <td>San Luis Rio Colorado, Sonora</td>\n",
       "      <td>26055</td>\n",
       "      <td>San Luis Rio Colorado</td>\n",
       "      <td>Sonora</td>\n",
       "      <td>26</td>\n",
       "      <td>055</td>\n",
       "      <td>9033.770278</td>\n",
       "      <td>POLYGON ((127160.493 3587762.823, 127099.688 3...</td>\n",
       "    </tr>\n",
       "  </tbody>\n",
       "</table>\n",
       "</div>"
      ],
      "text/plain": [
       "                                ciudad  CLAVE                NOM_MUN  \\\n",
       "0             Tijuana, Baja California  02004                Tijuana   \n",
       "1              Tecate, Baja California  02003                 Tecate   \n",
       "2            Mexicali, Baja California  02002               Mexicali   \n",
       "3  Playas de Rosarito, Baja California  02005     Playas de Rosarito   \n",
       "4        San Luis Rio Colorado, Sonora  26055  San Luis Rio Colorado   \n",
       "\n",
       "            NOMEDO CVE_EDO CVE_MUNI          Area  \\\n",
       "0  Baja California      02      004   1122.661145   \n",
       "1  Baja California      02      003   3670.991923   \n",
       "2  Baja California      02      002  13119.275713   \n",
       "3  Baja California      02      005    517.120801   \n",
       "4           Sonora      26      055   9033.770278   \n",
       "\n",
       "                                            geometry  \n",
       "0  POLYGON ((-73565.018 3602427.487, -73564.403 3...  \n",
       "1  POLYGON ((-38995.078 3617846.589, -31557.921 3...  \n",
       "2  POLYGON ((48160.716 3621731.593, 58570.990 362...  \n",
       "3  POLYGON ((-70946.724 3594803.753, -70966.034 3...  \n",
       "4  POLYGON ((127160.493 3587762.823, 127099.688 3...  "
      ]
     },
     "execution_count": 34,
     "metadata": {},
     "output_type": "execute_result"
    }
   ],
   "source": [
    "mx_mun.head()"
   ]
  },
  {
   "cell_type": "code",
   "execution_count": 31,
   "id": "86fef3e0",
   "metadata": {},
   "outputs": [],
   "source": [
    "##Asegurarnos que cuando guardemos el nuevo documento la columna clave no modifique sus valores\n",
    "# Convertir la columna 'CLAVE' a string para asegurarse de que se guarde como texto\n",
    "mx_mun['CLAVE'] = mx_mun['CLAVE'].astype(str)"
   ]
  },
  {
   "cell_type": "markdown",
   "id": "5de692ac",
   "metadata": {},
   "source": [
    "### Creamos columna \"ciudad\" para combinar con los formatos de todas nuestras bd y ademas agregarles una clave "
   ]
  },
  {
   "cell_type": "code",
   "execution_count": 33,
   "id": "23c6720d",
   "metadata": {},
   "outputs": [],
   "source": [
    "# Crear la nueva columna \"ciudad\" con el formato \"Municipio, Estado\"\n",
    "mx_mun['ciudad'] = mx_mun['NOM_MUN'] + ', ' + mx_mun['NOMEDO']\n",
    "\n",
    "# Mover la columna \"ciudad\" al principio del DataFrame\n",
    "cols = mx_mun.columns.tolist()  # Obtener la lista de todas las columnas\n",
    "cols = cols[-1:] + cols[:-1]  # Mover la última columna (ciudad) al principio\n",
    "mx_mun = mx_mun[cols]  # Reorganizar el DataFrame con el nuevo orden de columnas\n"
   ]
  },
  {
   "cell_type": "markdown",
   "id": "91eb7fcc",
   "metadata": {},
   "source": [
    "### Actualizamos Archivo:"
   ]
  },
  {
   "cell_type": "code",
   "execution_count": 35,
   "id": "0004d586",
   "metadata": {},
   "outputs": [
    {
     "name": "stdout",
     "output_type": "stream",
     "text": [
      "Archivo guardado exitosamente en /Users/pablouriarte/Documents/1. Expediente Tec de Monterrey/1.Tesis/Mapa_Migracion_Irregular_Mexico/4. Diccionarios/mun_mx_dict.csv\n"
     ]
    }
   ],
   "source": [
    "# Definir el nombre del nuevo archivo con el sufijo \"mun_mx_dict\"\n",
    "nombre_archivo = \"mun_mx_dict.csv\"\n",
    "path_completo = \"/Users/pablouriarte/Documents/1. Expediente Tec de Monterrey/1.Tesis/Mapa_Migracion_Irregular_Mexico/4. Diccionarios/\" + nombre_archivo\n",
    "\n",
    "# Guardar el DataFrame como un archivo CSV en el path especificado\n",
    "mx_mun.to_csv(path_completo, index=False)\n",
    "\n",
    "print(f\"Archivo guardado exitosamente en {path_completo}\")\n"
   ]
  },
  {
   "cell_type": "code",
   "execution_count": null,
   "id": "65c1acb0",
   "metadata": {},
   "outputs": [],
   "source": []
  }
 ],
 "metadata": {
  "kernelspec": {
   "display_name": "Python 3 (ipykernel)",
   "language": "python",
   "name": "python3"
  },
  "language_info": {
   "codemirror_mode": {
    "name": "ipython",
    "version": 3
   },
   "file_extension": ".py",
   "mimetype": "text/x-python",
   "name": "python",
   "nbconvert_exporter": "python",
   "pygments_lexer": "ipython3",
   "version": "3.9.13"
  }
 },
 "nbformat": 4,
 "nbformat_minor": 5
}
