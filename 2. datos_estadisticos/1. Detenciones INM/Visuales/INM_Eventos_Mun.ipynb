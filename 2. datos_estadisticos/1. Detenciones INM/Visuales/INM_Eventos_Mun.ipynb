{
 "cells": [
  {
   "cell_type": "markdown",
   "id": "270730eb",
   "metadata": {},
   "source": [
    "## Eventos INM a Nivel municipio\n",
    "\n",
    "Notebook para trabajar datos de encuentros con migrantes a nivel municipal.\n",
    "El objetivo de este notebook es extraer dos documentos;\n",
    "\n",
    "1)Archivo Geoespacial con los boundaries municipales para implementar en arcgis\n",
    "\n",
    "2)Archivo csv + anexos geoespaciales para generar mapas con proyecciones estadisticas"
   ]
  },
  {
   "cell_type": "markdown",
   "id": "cf07c7e2",
   "metadata": {},
   "source": [
    "### Eventos de extranjeros presentados ante la autoridad migratoria, según municipio.\n",
    "\n",
    "Procesamos las tablas estadisticas con datos sobre eventos de migrantes irregulares registrados por el INM por entidad federativa.\n",
    "\n",
    "Los datos seleccionados se refieren unicamente a los eventos en los que migrantes fueron  ...\n",
    "\n",
    "    2001 - 2012 la información incluye eventos de extranjeros en situación migratoria irregular a los que el Instituto Nacional de Migración (INM) les inició un procedimiento administrativo de aseguramiento y a los centroamericanos acogidos al “Memorándum de entendimiento entre los gobiernos de los Estados Unidos Mexicanos, de la República de El Salvador, de la República de Guatemala, de la República de Honduras y de la República de Nicaragua, para la repatriación digna, ordenada, ágil y segura de nacionales centroamericanos migrantes vía terrestre” suscrito el 5 de mayo de 2006 y su anexo del 26 de abril de 2007.\n",
    "\n",
    "    2013 - 2020 la información incluye los eventos de migrantes en situación migratoria irregular a los que se les inició un procedimiento administrativo de presentación por no acreditar su situación migratoria, según lo previsto en los arts. 99, 112 y 113 de la Ley de Migración y del art. 222 de su Reglamento.\n",
    "\n",
    "    2021 - 2023 la información hace referencia a los eventos de extranjeros en situación migratoria irregular a los que se les inicio un Procedimiento Administrativo Migratorio (PAM) ante el Instituto Nacional de Migración (INM) por no acreditar su situación migratoria, según lo previsto en los arts. 99, 100, 101 y 113 de la Ley de Migración y del art. 222 de su Reglamento \n",
    "\n",
    "Y a los que fueron canalizados por esta misma autoridad a los albergues de la red DIF, con PAM iniciado; según lo previsto en los art. 112 y 113 de la Ley de Migración y del art. 222 de su Reglamento, así como de los arts. 89, 94 de la Ley General de los Derechos de Niñas, Niños y Adolescentes.(Excluidos en estas BD para mantener comparabilidad estadistica)\n",
    "\n",
    "El nombre de datos en el tiempo:\n",
    "\n",
    "2002 - 2006 \"EVENTOS DE ASEGURAMIENTO EN MÉXICO SEGÚN DELEGACIÓN REGIONAL\"\n",
    "\n",
    "2007 - 2012  \"Eventos de extranjeros alojados en estaciones migratorias, según entidad federativa\"\n",
    "\n",
    "2013 - 2023 \"Eventos de extranjeros presentados ante la autoridad migratoria, según entidad federativa\"\n",
    "\n"
   ]
  },
  {
   "cell_type": "markdown",
   "id": "71d48e8a",
   "metadata": {},
   "source": [
    "# Introducción\n",
    "Este notebook analiza la dinámica de flujos migratorios irregulares en México, utilizando herramientas de análisis espacial como GeoPandas.\n",
    "\n",
    "Fuente: http://www.politicamigratoria.gob.mx/es/PoliticaMigratoria/Boletines_Estadisticos"
   ]
  },
  {
   "cell_type": "markdown",
   "id": "8341ed46",
   "metadata": {},
   "source": [
    "## Configuración Inicial e Importaciones"
   ]
  },
  {
   "cell_type": "code",
   "execution_count": 1,
   "id": "4f01350f",
   "metadata": {},
   "outputs": [],
   "source": [
    "#Librerias Necesarias\n",
    "import pandas as pd\n",
    "import glob\n",
    "import numpy as np\n",
    "import seaborn as sns\n",
    "from unidecode import unidecode\n",
    "import re\n",
    "import os\n",
    "import sys\n",
    "import geopandas as gpd\n",
    "from geodatasets import get_path\n",
    "\n",
    "\n",
    "from geopy.geocoders import Photon\n",
    "from geopy.exc import GeocoderTimedOut\n",
    "from shapely.geometry import Point\n",
    "\n",
    "\n",
    "import matplotlib.pyplot as plt\n",
    "import squarify\n",
    "import seaborn as sns\n",
    "import matplotlib as mpl\n",
    "\n",
    "import plotly.express as px\n",
    "import plotly.graph_objects as go"
   ]
  },
  {
   "cell_type": "markdown",
   "id": "99c939ac",
   "metadata": {},
   "source": [
    "## Preparación de los Datos"
   ]
  },
  {
   "cell_type": "markdown",
   "id": "bfa41dbf",
   "metadata": {},
   "source": [
    "### Carga de Datos INM Municipal (Archivo no geoespacial)\n",
    "\n",
    "La limpieza y prepraración de set de datos Incluye:\n",
    "\n",
    "    -1 revisar el archivo desde excel para remover todas las columnas que corresponden a titulos y notas.\n",
    "    -2 cargar la bd en python\n",
    "    -3 deberemos normalizar las columnas para que correspondan a un mes.\n",
    "    en el caso de los datos posteriores al año 2023 los cuales tienen columnas a dos niveles: mes (presentados, canalizados y subtotal), deberemos combinar las columnas con cada mes: \"enero_presentados\", \"enero_canalizados\", \"enero_subtotal\""
   ]
  },
  {
   "cell_type": "code",
   "execution_count": 2,
   "id": "a30438a6",
   "metadata": {},
   "outputs": [],
   "source": [
    "# Ruta al archivo .xls\n",
    "archivo_xls = '/Users/pablouriarte/Documents/1. Expediente Tec de Monterrey/1.Tesis/Mapa_Migracion_Irregular_Mexico/2. datos_estadisticos/1. Detenciones INM/Total_De_Eventos/Eventos Municipal/3.1_mun_2023.xlsx'\n",
    "\n",
    "# Cargar el archivo xls como un DataFrame de pandas\n",
    "datos = pd.read_excel(archivo_xls)"
   ]
  },
  {
   "cell_type": "markdown",
   "id": "4dbc228d",
   "metadata": {},
   "source": [
    "Eliminar columnas y filas innecesarias: Podemos quitar las columnas y filas que solo contienen valores NaN o que no aportan información útil para el análisis."
   ]
  },
  {
   "cell_type": "code",
   "execution_count": 3,
   "id": "661c1ef0",
   "metadata": {},
   "outputs": [],
   "source": [
    "# Eliminar las columnas completamente vacías\n",
    "datos = datos.dropna(axis=1, how='all')\n",
    "\n",
    "# Eliminar las filas completamente vacías\n",
    "datos = datos.dropna(axis=0, how='all')"
   ]
  },
  {
   "cell_type": "markdown",
   "id": "1f72b15e",
   "metadata": {},
   "source": [
    "Renombrar las columnas: Las columnas deben tener nombres descriptivos para facilitar el entendimiento y el acceso a los datos."
   ]
  },
  {
   "cell_type": "code",
   "execution_count": 4,
   "id": "5404b082",
   "metadata": {},
   "outputs": [],
   "source": [
    "# Establecer la primera fila como nombres de columna\n",
    "datos.columns = datos.iloc[0]\n",
    "\n",
    "# Descartar la primera fila del DataFrame\n",
    "datos = datos.drop(datos.index[0])\n",
    "\n",
    "# Resetea el índice si es necesario\n",
    "datos = datos.reset_index(drop=True)"
   ]
  },
  {
   "cell_type": "code",
   "execution_count": 5,
   "id": "64f988b2",
   "metadata": {},
   "outputs": [
    {
     "name": "stdout",
     "output_type": "stream",
     "text": [
      "['Entidad Federativa / Municipio', 'Presentados', 'Canalizados', 'Subtotal', 'Presentados', 'Canalizados', 'Subtotal', 'Presentados', 'Canalizados', 'Subtotal', 'Presentados', 'Canalizados', 'Subtotal', 'Presentados', 'Canalizados', 'Subtotal', 'Presentados', 'Canalizados', 'Subtotal', 'Presentados', 'Canalizados', 'Subtotal', 'Presentados', 'Canalizados', 'Subtotal', 'Presentados', 'Canalizados', 'Subtotal', 'Presentados', 'Canalizados', 'Subtotal', 'Presentados', 'Canalizados', 'Subtotal', 'Presentados', 'Canalizados', 'Subtotal', 'Presentados', 'Canalizados', 'Total']\n"
     ]
    }
   ],
   "source": [
    "#lista de columnas:\n",
    "lista_columnas = datos.columns.tolist()\n",
    "print(lista_columnas)"
   ]
  },
  {
   "cell_type": "markdown",
   "id": "d997119e",
   "metadata": {},
   "source": [
    "Sabemos del df original que cada set de 3 columans corresponde a 1 mes despues de la columna [0], por lo que es mas facil renombrarlas:"
   ]
  },
  {
   "cell_type": "code",
   "execution_count": 6,
   "id": "54dd4d7d",
   "metadata": {},
   "outputs": [],
   "source": [
    "# Nuevo mapeo de nombres para las columnas\n",
    "nuevos_nombres = [\n",
    "    'Entidad Federativa / Municipio',\n",
    "    'enero_presentados', 'enero_canalizados', 'enero_total',\n",
    "    'febrero_presentados', 'febrero_canalizados', 'febrero_total',\n",
    "    'marzo_presentados', 'marzo_canalizados', 'marzo_total',\n",
    "    'abril_presentados', 'abril_canalizados', 'abril_total',\n",
    "    'mayo_presentados', 'mayo_canalizados', 'mayo_total',\n",
    "    'junio_presentados', 'junio_canalizados', 'junio_total',\n",
    "    'julio_presentados', 'julio_canalizados', 'julio_total',\n",
    "    'agosto_presentados', 'agosto_canalizados', 'agosto_total',\n",
    "    'septiembre_presentados', 'septiembre_canalizados', 'septiembre_total',\n",
    "    'octubre_presentados', 'octubre_canalizados', 'octubre_total',\n",
    "    'noviembre_presentados', 'noviembre_canalizados', 'noviembre_total',\n",
    "    'diciembre_presentados', 'diciembre_canalizados', 'diciembre_total',\n",
    "    'total_presentados', 'total_canalizados', 'total_total'\n",
    "]\n",
    "\n",
    "# Asignación de nuevos nombres a las columnas del DataFrame\n",
    "datos.columns = nuevos_nombres\n",
    "\n",
    "\n"
   ]
  },
  {
   "cell_type": "code",
   "execution_count": 13,
   "id": "2f7156bd",
   "metadata": {},
   "outputs": [
    {
     "data": {
      "text/html": [
       "<div>\n",
       "<style scoped>\n",
       "    .dataframe tbody tr th:only-of-type {\n",
       "        vertical-align: middle;\n",
       "    }\n",
       "\n",
       "    .dataframe tbody tr th {\n",
       "        vertical-align: top;\n",
       "    }\n",
       "\n",
       "    .dataframe thead th {\n",
       "        text-align: right;\n",
       "    }\n",
       "</style>\n",
       "<table border=\"1\" class=\"dataframe\">\n",
       "  <thead>\n",
       "    <tr style=\"text-align: right;\">\n",
       "      <th></th>\n",
       "      <th>Entidad Federativa / Municipio</th>\n",
       "      <th>tipo</th>\n",
       "      <th>enero_presentados</th>\n",
       "      <th>enero_canalizados</th>\n",
       "      <th>enero_total</th>\n",
       "      <th>febrero_presentados</th>\n",
       "      <th>febrero_canalizados</th>\n",
       "      <th>febrero_total</th>\n",
       "      <th>marzo_presentados</th>\n",
       "      <th>marzo_canalizados</th>\n",
       "      <th>...</th>\n",
       "      <th>noviembre_presentados</th>\n",
       "      <th>noviembre_canalizados</th>\n",
       "      <th>noviembre_total</th>\n",
       "      <th>diciembre_presentados</th>\n",
       "      <th>diciembre_canalizados</th>\n",
       "      <th>diciembre_total</th>\n",
       "      <th>total_presentados</th>\n",
       "      <th>total_canalizados</th>\n",
       "      <th>total_total</th>\n",
       "      <th>ciudad</th>\n",
       "    </tr>\n",
       "  </thead>\n",
       "  <tbody>\n",
       "    <tr>\n",
       "      <th>0</th>\n",
       "      <td>Total general</td>\n",
       "      <td>estado</td>\n",
       "      <td>24801</td>\n",
       "      <td>12559</td>\n",
       "      <td>37360</td>\n",
       "      <td>23631</td>\n",
       "      <td>14410</td>\n",
       "      <td>38041</td>\n",
       "      <td>31360</td>\n",
       "      <td>13268</td>\n",
       "      <td>...</td>\n",
       "      <td>72789</td>\n",
       "      <td>25180</td>\n",
       "      <td>97969</td>\n",
       "      <td>79946</td>\n",
       "      <td>15507</td>\n",
       "      <td>95453</td>\n",
       "      <td>566361</td>\n",
       "      <td>215815</td>\n",
       "      <td>782176</td>\n",
       "      <td>Total general</td>\n",
       "    </tr>\n",
       "    <tr>\n",
       "      <th>1</th>\n",
       "      <td>Aguascalientes</td>\n",
       "      <td>estado</td>\n",
       "      <td>153</td>\n",
       "      <td>13</td>\n",
       "      <td>166</td>\n",
       "      <td>155</td>\n",
       "      <td>19</td>\n",
       "      <td>174</td>\n",
       "      <td>17</td>\n",
       "      <td>13</td>\n",
       "      <td>...</td>\n",
       "      <td>3</td>\n",
       "      <td>25</td>\n",
       "      <td>28</td>\n",
       "      <td>0</td>\n",
       "      <td>16</td>\n",
       "      <td>16</td>\n",
       "      <td>386</td>\n",
       "      <td>173</td>\n",
       "      <td>559</td>\n",
       "      <td>Aguascalientes</td>\n",
       "    </tr>\n",
       "    <tr>\n",
       "      <th>2</th>\n",
       "      <td>Aguascalientes, Ags.</td>\n",
       "      <td>municipio</td>\n",
       "      <td>153</td>\n",
       "      <td>13</td>\n",
       "      <td>166</td>\n",
       "      <td>155</td>\n",
       "      <td>19</td>\n",
       "      <td>174</td>\n",
       "      <td>15</td>\n",
       "      <td>12</td>\n",
       "      <td>...</td>\n",
       "      <td>0</td>\n",
       "      <td>0</td>\n",
       "      <td>0</td>\n",
       "      <td>0</td>\n",
       "      <td>0</td>\n",
       "      <td>0</td>\n",
       "      <td>348</td>\n",
       "      <td>75</td>\n",
       "      <td>423</td>\n",
       "      <td>Aguascalientes, Aguascalientes</td>\n",
       "    </tr>\n",
       "    <tr>\n",
       "      <th>3</th>\n",
       "      <td>Cosío, Ags.</td>\n",
       "      <td>municipio</td>\n",
       "      <td>0</td>\n",
       "      <td>0</td>\n",
       "      <td>0</td>\n",
       "      <td>0</td>\n",
       "      <td>0</td>\n",
       "      <td>0</td>\n",
       "      <td>2</td>\n",
       "      <td>1</td>\n",
       "      <td>...</td>\n",
       "      <td>1</td>\n",
       "      <td>20</td>\n",
       "      <td>21</td>\n",
       "      <td>0</td>\n",
       "      <td>16</td>\n",
       "      <td>16</td>\n",
       "      <td>27</td>\n",
       "      <td>71</td>\n",
       "      <td>98</td>\n",
       "      <td>Cosío, Aguascalientes</td>\n",
       "    </tr>\n",
       "    <tr>\n",
       "      <th>4</th>\n",
       "      <td>Jesús María, Ags.</td>\n",
       "      <td>municipio</td>\n",
       "      <td>0</td>\n",
       "      <td>0</td>\n",
       "      <td>0</td>\n",
       "      <td>0</td>\n",
       "      <td>0</td>\n",
       "      <td>0</td>\n",
       "      <td>0</td>\n",
       "      <td>0</td>\n",
       "      <td>...</td>\n",
       "      <td>2</td>\n",
       "      <td>5</td>\n",
       "      <td>7</td>\n",
       "      <td>0</td>\n",
       "      <td>0</td>\n",
       "      <td>0</td>\n",
       "      <td>8</td>\n",
       "      <td>12</td>\n",
       "      <td>20</td>\n",
       "      <td>Jesús María, Aguascalientes</td>\n",
       "    </tr>\n",
       "  </tbody>\n",
       "</table>\n",
       "<p>5 rows × 42 columns</p>\n",
       "</div>"
      ],
      "text/plain": [
       "  Entidad Federativa / Municipio       tipo enero_presentados  \\\n",
       "0                  Total general     estado             24801   \n",
       "1                 Aguascalientes     estado               153   \n",
       "2           Aguascalientes, Ags.  municipio               153   \n",
       "3                    Cosío, Ags.  municipio                 0   \n",
       "4              Jesús María, Ags.  municipio                 0   \n",
       "\n",
       "  enero_canalizados enero_total febrero_presentados febrero_canalizados  \\\n",
       "0             12559       37360               23631               14410   \n",
       "1                13         166                 155                  19   \n",
       "2                13         166                 155                  19   \n",
       "3                 0           0                   0                   0   \n",
       "4                 0           0                   0                   0   \n",
       "\n",
       "  febrero_total marzo_presentados marzo_canalizados  ...  \\\n",
       "0         38041             31360             13268  ...   \n",
       "1           174                17                13  ...   \n",
       "2           174                15                12  ...   \n",
       "3             0                 2                 1  ...   \n",
       "4             0                 0                 0  ...   \n",
       "\n",
       "  noviembre_presentados noviembre_canalizados noviembre_total  \\\n",
       "0                 72789                 25180           97969   \n",
       "1                     3                    25              28   \n",
       "2                     0                     0               0   \n",
       "3                     1                    20              21   \n",
       "4                     2                     5               7   \n",
       "\n",
       "  diciembre_presentados diciembre_canalizados diciembre_total  \\\n",
       "0                 79946                 15507           95453   \n",
       "1                     0                    16              16   \n",
       "2                     0                     0               0   \n",
       "3                     0                    16              16   \n",
       "4                     0                     0               0   \n",
       "\n",
       "  total_presentados total_canalizados total_total  \\\n",
       "0            566361            215815      782176   \n",
       "1               386               173         559   \n",
       "2               348                75         423   \n",
       "3                27                71          98   \n",
       "4                 8                12          20   \n",
       "\n",
       "                           ciudad  \n",
       "0                   Total general  \n",
       "1                  Aguascalientes  \n",
       "2  Aguascalientes, Aguascalientes  \n",
       "3           Cosío, Aguascalientes  \n",
       "4     Jesús María, Aguascalientes  \n",
       "\n",
       "[5 rows x 42 columns]"
      ]
     },
     "execution_count": 13,
     "metadata": {},
     "output_type": "execute_result"
    }
   ],
   "source": [
    "datos.head()"
   ]
  },
  {
   "cell_type": "markdown",
   "id": "9aac3369",
   "metadata": {},
   "source": [
    "creamos nueva columna ciudad, la cual contiene valores: \"municipio, estado\""
   ]
  },
  {
   "cell_type": "code",
   "execution_count": 10,
   "id": "b60d9036",
   "metadata": {},
   "outputs": [],
   "source": [
    "# Crea la columna 'tipo' basada en la presencia de una coma en 'Entidad Federativa / Municipio'\n",
    "datos['tipo'] = datos['Entidad Federativa / Municipio'].apply(lambda x: 'municipio' if ',' in x else 'estado')\n",
    "\n",
    "# Mueve la columna 'tipo' a la posición deseada, que es la segunda posición (índice 1)\n",
    "# Primero, guardamos la columna 'tipo' y luego la eliminamos de su posición original\n",
    "columna_tipo = datos['tipo']\n",
    "datos.drop(columns=['tipo'], inplace=True)\n",
    "\n",
    "# Luego, insertamos la columna en la posición deseada\n",
    "datos.insert(1, 'tipo', columna_tipo)"
   ]
  },
  {
   "cell_type": "code",
   "execution_count": 12,
   "id": "f37a93db",
   "metadata": {},
   "outputs": [],
   "source": [
    "# Primero, inicializa la columna 'ciudad' con valores vacíos.\n",
    "datos['ciudad'] = ''\n",
    "\n",
    "# Almacenar el estado actual mientras iteramos.\n",
    "estado_actual = None\n",
    "\n",
    "# Iterar sobre las filas del dataframe.\n",
    "for index, row in datos.iterrows():\n",
    "    if row['tipo'] == 'estado':\n",
    "        # Cuando encuentra un 'estado', actualiza el estado actual y asigna el nombre del estado a la columna 'ciudad'.\n",
    "        estado_actual = row['Entidad Federativa / Municipio']\n",
    "        datos.at[index, 'ciudad'] = estado_actual\n",
    "    elif row['tipo'] == 'municipio' and estado_actual:\n",
    "        # Para los 'municipio', combina el nombre del municipio con el estado actual.\n",
    "        ciudad = row['Entidad Federativa / Municipio'].split(',')[0]  # Asumiendo que el nombre de la ciudad está antes de la coma.\n",
    "        datos.at[index, 'ciudad'] = f\"{ciudad}, {estado_actual}\"\n"
   ]
  },
  {
   "cell_type": "markdown",
   "id": "39aa7481",
   "metadata": {},
   "source": [
    "Hacemos un subdf con los municipios, y dropeamos las columnas que ya no necesitamos"
   ]
  },
  {
   "cell_type": "code",
   "execution_count": 14,
   "id": "caf2893d",
   "metadata": {},
   "outputs": [],
   "source": [
    "# Filtrado para obtener solo las filas donde 'tipo' es igual a 'municipio'\n",
    "datos_municipio = datos.loc[datos['tipo'] == 'municipio']"
   ]
  },
  {
   "cell_type": "code",
   "execution_count": 16,
   "id": "1ad11bc4",
   "metadata": {},
   "outputs": [],
   "source": [
    "# Mover la columna 'ciudad' al principio del dataframe\n",
    "col_order = ['ciudad'] + [col for col in datos_municipio.columns if col not in ['ciudad', 'Entidad Federativa / Municipio', 'tipo']]\n",
    "datos_municipio = datos_municipio[col_order]\n"
   ]
  },
  {
   "cell_type": "code",
   "execution_count": 18,
   "id": "75c232fa",
   "metadata": {},
   "outputs": [
    {
     "data": {
      "text/plain": [
       "(389, 40)"
      ]
     },
     "execution_count": 18,
     "metadata": {},
     "output_type": "execute_result"
    }
   ],
   "source": [
    "datos_municipio.shape"
   ]
  },
  {
   "cell_type": "code",
   "execution_count": 28,
   "id": "0d4b4129",
   "metadata": {},
   "outputs": [
    {
     "data": {
      "text/html": [
       "<div>\n",
       "<style scoped>\n",
       "    .dataframe tbody tr th:only-of-type {\n",
       "        vertical-align: middle;\n",
       "    }\n",
       "\n",
       "    .dataframe tbody tr th {\n",
       "        vertical-align: top;\n",
       "    }\n",
       "\n",
       "    .dataframe thead th {\n",
       "        text-align: right;\n",
       "    }\n",
       "</style>\n",
       "<table border=\"1\" class=\"dataframe\">\n",
       "  <thead>\n",
       "    <tr style=\"text-align: right;\">\n",
       "      <th></th>\n",
       "      <th>ciudad</th>\n",
       "      <th>Latitude</th>\n",
       "      <th>Longitude</th>\n",
       "      <th>Coordinates</th>\n",
       "      <th>enero_presentados</th>\n",
       "      <th>enero_canalizados</th>\n",
       "      <th>enero_total</th>\n",
       "      <th>febrero_presentados</th>\n",
       "      <th>febrero_canalizados</th>\n",
       "      <th>febrero_total</th>\n",
       "      <th>...</th>\n",
       "      <th>octubre_total</th>\n",
       "      <th>noviembre_presentados</th>\n",
       "      <th>noviembre_canalizados</th>\n",
       "      <th>noviembre_total</th>\n",
       "      <th>diciembre_presentados</th>\n",
       "      <th>diciembre_canalizados</th>\n",
       "      <th>diciembre_total</th>\n",
       "      <th>total_presentados</th>\n",
       "      <th>total_canalizados</th>\n",
       "      <th>total_total</th>\n",
       "    </tr>\n",
       "  </thead>\n",
       "  <tbody>\n",
       "    <tr>\n",
       "      <th>2</th>\n",
       "      <td>Aguascalientes, Aguascalientes</td>\n",
       "      <td>22.000000</td>\n",
       "      <td>-102.500000</td>\n",
       "      <td>22.0000001,-102.5000001</td>\n",
       "      <td>153</td>\n",
       "      <td>13</td>\n",
       "      <td>166</td>\n",
       "      <td>155</td>\n",
       "      <td>19</td>\n",
       "      <td>174</td>\n",
       "      <td>...</td>\n",
       "      <td>30</td>\n",
       "      <td>0</td>\n",
       "      <td>0</td>\n",
       "      <td>0</td>\n",
       "      <td>0</td>\n",
       "      <td>0</td>\n",
       "      <td>0</td>\n",
       "      <td>348</td>\n",
       "      <td>75</td>\n",
       "      <td>423</td>\n",
       "    </tr>\n",
       "    <tr>\n",
       "      <th>3</th>\n",
       "      <td>Cosío, Aguascalientes</td>\n",
       "      <td>22.370515</td>\n",
       "      <td>-102.312009</td>\n",
       "      <td>22.3705155,-102.31200851052341</td>\n",
       "      <td>0</td>\n",
       "      <td>0</td>\n",
       "      <td>0</td>\n",
       "      <td>0</td>\n",
       "      <td>0</td>\n",
       "      <td>0</td>\n",
       "      <td>...</td>\n",
       "      <td>27</td>\n",
       "      <td>1</td>\n",
       "      <td>20</td>\n",
       "      <td>21</td>\n",
       "      <td>0</td>\n",
       "      <td>16</td>\n",
       "      <td>16</td>\n",
       "      <td>27</td>\n",
       "      <td>71</td>\n",
       "      <td>98</td>\n",
       "    </tr>\n",
       "    <tr>\n",
       "      <th>4</th>\n",
       "      <td>Jesús María, Aguascalientes</td>\n",
       "      <td>21.934556</td>\n",
       "      <td>-102.468452</td>\n",
       "      <td>21.934555500000002,-102.46845171651151</td>\n",
       "      <td>0</td>\n",
       "      <td>0</td>\n",
       "      <td>0</td>\n",
       "      <td>0</td>\n",
       "      <td>0</td>\n",
       "      <td>0</td>\n",
       "      <td>...</td>\n",
       "      <td>0</td>\n",
       "      <td>2</td>\n",
       "      <td>5</td>\n",
       "      <td>7</td>\n",
       "      <td>0</td>\n",
       "      <td>0</td>\n",
       "      <td>0</td>\n",
       "      <td>8</td>\n",
       "      <td>12</td>\n",
       "      <td>20</td>\n",
       "    </tr>\n",
       "    <tr>\n",
       "      <th>5</th>\n",
       "      <td>San Francisco de los Romo, Aguascalientes</td>\n",
       "      <td>22.074628</td>\n",
       "      <td>-102.270713</td>\n",
       "      <td>22.0746282,-102.2707133</td>\n",
       "      <td>0</td>\n",
       "      <td>0</td>\n",
       "      <td>0</td>\n",
       "      <td>0</td>\n",
       "      <td>0</td>\n",
       "      <td>0</td>\n",
       "      <td>...</td>\n",
       "      <td>3</td>\n",
       "      <td>0</td>\n",
       "      <td>0</td>\n",
       "      <td>0</td>\n",
       "      <td>0</td>\n",
       "      <td>0</td>\n",
       "      <td>0</td>\n",
       "      <td>3</td>\n",
       "      <td>15</td>\n",
       "      <td>18</td>\n",
       "    </tr>\n",
       "    <tr>\n",
       "      <th>7</th>\n",
       "      <td>Ensenada, Baja California</td>\n",
       "      <td>31.865889</td>\n",
       "      <td>-116.602983</td>\n",
       "      <td>31.8658887,-116.602983</td>\n",
       "      <td>4</td>\n",
       "      <td>0</td>\n",
       "      <td>4</td>\n",
       "      <td>1</td>\n",
       "      <td>0</td>\n",
       "      <td>1</td>\n",
       "      <td>...</td>\n",
       "      <td>0</td>\n",
       "      <td>0</td>\n",
       "      <td>0</td>\n",
       "      <td>0</td>\n",
       "      <td>1</td>\n",
       "      <td>0</td>\n",
       "      <td>1</td>\n",
       "      <td>23</td>\n",
       "      <td>6</td>\n",
       "      <td>29</td>\n",
       "    </tr>\n",
       "  </tbody>\n",
       "</table>\n",
       "<p>5 rows × 43 columns</p>\n",
       "</div>"
      ],
      "text/plain": [
       "                                      ciudad   Latitude   Longitude  \\\n",
       "2             Aguascalientes, Aguascalientes  22.000000 -102.500000   \n",
       "3                      Cosío, Aguascalientes  22.370515 -102.312009   \n",
       "4                Jesús María, Aguascalientes  21.934556 -102.468452   \n",
       "5  San Francisco de los Romo, Aguascalientes  22.074628 -102.270713   \n",
       "7                  Ensenada, Baja California  31.865889 -116.602983   \n",
       "\n",
       "                              Coordinates enero_presentados enero_canalizados  \\\n",
       "2                 22.0000001,-102.5000001               153                13   \n",
       "3          22.3705155,-102.31200851052341                 0                 0   \n",
       "4  21.934555500000002,-102.46845171651151                 0                 0   \n",
       "5                 22.0746282,-102.2707133                 0                 0   \n",
       "7                  31.8658887,-116.602983                 4                 0   \n",
       "\n",
       "  enero_total febrero_presentados febrero_canalizados febrero_total  ...  \\\n",
       "2         166                 155                  19           174  ...   \n",
       "3           0                   0                   0             0  ...   \n",
       "4           0                   0                   0             0  ...   \n",
       "5           0                   0                   0             0  ...   \n",
       "7           4                   1                   0             1  ...   \n",
       "\n",
       "  octubre_total noviembre_presentados noviembre_canalizados noviembre_total  \\\n",
       "2            30                     0                     0               0   \n",
       "3            27                     1                    20              21   \n",
       "4             0                     2                     5               7   \n",
       "5             3                     0                     0               0   \n",
       "7             0                     0                     0               0   \n",
       "\n",
       "  diciembre_presentados diciembre_canalizados diciembre_total  \\\n",
       "2                     0                     0               0   \n",
       "3                     0                    16              16   \n",
       "4                     0                     0               0   \n",
       "5                     0                     0               0   \n",
       "7                     1                     0               1   \n",
       "\n",
       "  total_presentados total_canalizados total_total  \n",
       "2               348                75         423  \n",
       "3                27                71          98  \n",
       "4                 8                12          20  \n",
       "5                 3                15          18  \n",
       "7                23                 6          29  \n",
       "\n",
       "[5 rows x 43 columns]"
      ]
     },
     "execution_count": 28,
     "metadata": {},
     "output_type": "execute_result"
    }
   ],
   "source": [
    "datos_municipio.head()"
   ]
  },
  {
   "cell_type": "markdown",
   "id": "d564284d",
   "metadata": {},
   "source": [
    "Agregamos una columna geoespacial para hacer la union con la df de los poligonos municipales."
   ]
  },
  {
   "cell_type": "code",
   "execution_count": 19,
   "id": "588571af",
   "metadata": {},
   "outputs": [],
   "source": [
    "# Inicializar el geolocalizador de Photon\n",
    "geolocator = Photon(user_agent=\"geoapiExercises\")\n",
    "\n",
    "# Función para obtener latitud, longitud y coordenadas combinadas\n",
    "def get_lat_long(address):\n",
    "    try:\n",
    "        location = geolocator.geocode(address)\n",
    "        if location:\n",
    "            return (location.latitude, location.longitude, f\"{location.latitude},{location.longitude}\")\n",
    "        else:\n",
    "            return (None, None, None)\n",
    "    except:\n",
    "        return (None, None, None)\n",
    "\n",
    "# Aplicar la función a la columna 'Entidad Federativa / Municipio'\n",
    "datos_municipio['Lat_Long_Coords'] = datos_municipio['ciudad'].apply(get_lat_long)\n",
    "\n",
    "# Separar las coordenadas en tres columnas nuevas: 'Latitude', 'Longitude' y 'Coordinates'\n",
    "datos_municipio[['Latitude', 'Longitude', 'Coordinates']] = pd.DataFrame(datos_municipio['Lat_Long_Coords'].tolist(), index=datos_municipio.index)\n",
    "\n",
    "# Eliminar la columna 'Lat_Long_Coords' ya que se ha dividido en otras columnas\n",
    "datos_municipio.drop(columns=['Lat_Long_Coords'], inplace=True)"
   ]
  },
  {
   "cell_type": "code",
   "execution_count": 25,
   "id": "0d73247f",
   "metadata": {},
   "outputs": [],
   "source": [
    "last_three_cols = datos_municipio.columns[-3:].tolist()\n",
    "\n",
    "# Define el nuevo orden de las columnas: 'ciudad', seguido por las últimas tres columnas, y luego todas las demás, excepto las últimas tres.\n",
    "new_col_order = ['ciudad'] + last_three_cols + [col for col in datos_municipio.columns if col not in ['ciudad'] + last_three_cols]\n",
    "\n",
    "# Reordena las columnas usando el nuevo orden\n",
    "datos_municipio = datos_municipio[new_col_order]"
   ]
  },
  {
   "cell_type": "code",
   "execution_count": null,
   "id": "10ee6230",
   "metadata": {},
   "outputs": [],
   "source": []
  },
  {
   "cell_type": "markdown",
   "id": "fb94898d",
   "metadata": {},
   "source": [
    "### Datos Estadísticos"
   ]
  },
  {
   "cell_type": "markdown",
   "id": "a2c3224e",
   "metadata": {},
   "source": [
    "### Geolocalizaciones: Instituciones"
   ]
  },
  {
   "cell_type": "markdown",
   "id": "8d2a1d12",
   "metadata": {},
   "source": [
    "##### Cargado Limites Municipales de Mexico"
   ]
  },
  {
   "cell_type": "code",
   "execution_count": 22,
   "id": "06d69a81",
   "metadata": {},
   "outputs": [],
   "source": [
    "# Mex Municipios\n",
    "mx_mun = gpd.read_file('/Users/pablouriarte/Documents/1. Expediente Tec de Monterrey/1.Tesis/Mapa_Migracion_Irregular_Mexico/3. mapas/2. arcgis/maps_boundaries/Municipalities/mapa_mexico_mun/').set_index('CLAVE').to_crs(epsg=4485)"
   ]
  },
  {
   "cell_type": "code",
   "execution_count": 23,
   "id": "2d5f429b",
   "metadata": {},
   "outputs": [
    {
     "data": {
      "text/plain": [
       "(2480, 6)"
      ]
     },
     "execution_count": 23,
     "metadata": {},
     "output_type": "execute_result"
    }
   ],
   "source": [
    "mx_mun.shape"
   ]
  },
  {
   "cell_type": "markdown",
   "id": "af8a1646",
   "metadata": {},
   "source": [
    "Trabajaremos aada municipio uniendolo con la columna clave"
   ]
  },
  {
   "cell_type": "code",
   "execution_count": null,
   "id": "b5a163c6",
   "metadata": {},
   "outputs": [],
   "source": [
    "mx_mun.head()"
   ]
  },
  {
   "cell_type": "code",
   "execution_count": null,
   "id": "fcc6dfa2",
   "metadata": {},
   "outputs": [],
   "source": [
    "print(mx_mun.iloc[0, mx_mun.columns.get_loc('geometry')])\n"
   ]
  },
  {
   "cell_type": "markdown",
   "id": "8ef15639",
   "metadata": {},
   "source": [
    "unir las bds:"
   ]
  },
  {
   "cell_type": "markdown",
   "id": "053afea7",
   "metadata": {},
   "source": [
    "### Union de ambas bd.\n",
    "\n",
    "-utilizando los datos geoespaciales para hacer el merge"
   ]
  },
  {
   "cell_type": "code",
   "execution_count": null,
   "id": "6b2d5387",
   "metadata": {},
   "outputs": [],
   "source": []
  },
  {
   "cell_type": "code",
   "execution_count": null,
   "id": "ec26bbf6",
   "metadata": {},
   "outputs": [],
   "source": []
  },
  {
   "cell_type": "code",
   "execution_count": null,
   "id": "61235fea",
   "metadata": {},
   "outputs": [],
   "source": []
  },
  {
   "cell_type": "markdown",
   "id": "ac560cf5",
   "metadata": {},
   "source": [
    "## Archivos para descarga\n",
    "\n",
    "#### Pruebas: '/Users/pablouriarte/Documents/1. Expediente Tec de Monterrey/1.Tesis/Mapa_Migracion_Irregular_Mexico/2. datos_estadisticos/1. Detenciones INM/Total_De_Eventos/Eventos Municipal/3.1_mun_2023_pruebas.xlsx'"
   ]
  },
  {
   "cell_type": "markdown",
   "id": "91b28d70",
   "metadata": {},
   "source": [
    "### Tabla de datos unida con los centroides (solo puntos, funciona muy bien para hacer heatmaps ) 389 municipios con datos y los poligonos de todos los municipios de municipios."
   ]
  },
  {
   "cell_type": "code",
   "execution_count": null,
   "id": "36249132",
   "metadata": {},
   "outputs": [],
   "source": [
    "# Asegúrate de que 'datos_municipales' es el nombre de tu DataFrame\n",
    "#3.1_mun_2023_centr.csv\n",
    "datos_municipio.to_csv('/Users/pablouriarte/Documents/1. Expediente Tec de Monterrey/1.Tesis/Mapa_Migracion_Irregular_Mexico/2. datos_estadisticos/1. Detenciones INM/Total_De_Eventos/Eventos Municipal/3.1_mun_2023_centr.csv', index=False)\n"
   ]
  },
  {
   "cell_type": "markdown",
   "id": "bd59eb0e",
   "metadata": {},
   "source": [
    "### Tabla unida con 389 municipios con datos y los poligonos de todos los municipios de municipios"
   ]
  },
  {
   "cell_type": "markdown",
   "id": "0f6b6453",
   "metadata": {},
   "source": [
    "### Tabla unida centralmente datos y geodatos de solo los 389 municipios con datos"
   ]
  },
  {
   "cell_type": "code",
   "execution_count": null,
   "id": "3c1b1ded",
   "metadata": {},
   "outputs": [],
   "source": []
  },
  {
   "cell_type": "markdown",
   "id": "d8e1de23",
   "metadata": {},
   "source": [
    "### Distribución Institucional"
   ]
  },
  {
   "cell_type": "markdown",
   "id": "ba611763",
   "metadata": {},
   "source": [
    "### Visualización de Flujos Migratorios"
   ]
  },
  {
   "cell_type": "markdown",
   "id": "09feb9b3",
   "metadata": {},
   "source": [
    "### Mapas Interactivos"
   ]
  },
  {
   "cell_type": "markdown",
   "id": "63738ecf",
   "metadata": {},
   "source": [
    "## Conclusiones"
   ]
  },
  {
   "cell_type": "markdown",
   "id": "0eadd8c7",
   "metadata": {},
   "source": [
    "## Referencias y Recursos Adicionales"
   ]
  }
 ],
 "metadata": {
  "kernelspec": {
   "display_name": "Python 3 (ipykernel)",
   "language": "python",
   "name": "python3"
  },
  "language_info": {
   "codemirror_mode": {
    "name": "ipython",
    "version": 3
   },
   "file_extension": ".py",
   "mimetype": "text/x-python",
   "name": "python",
   "nbconvert_exporter": "python",
   "pygments_lexer": "ipython3",
   "version": "3.9.13"
  }
 },
 "nbformat": 4,
 "nbformat_minor": 5
}
