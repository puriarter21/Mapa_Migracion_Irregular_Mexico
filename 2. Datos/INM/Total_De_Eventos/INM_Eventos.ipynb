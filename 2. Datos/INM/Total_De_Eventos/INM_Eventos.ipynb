{
 "cells": [
  {
   "cell_type": "markdown",
   "id": "56849870",
   "metadata": {},
   "source": [
    "# INM_Eventos\n",
    "\n",
    "La fia"
   ]
  },
  {
   "cell_type": "code",
   "execution_count": 1,
   "id": "951bec15",
   "metadata": {},
   "outputs": [],
   "source": [
    "import pandas as pd\n",
    "import glob\n",
    "import numpy as np\n",
    "import seaborn as sns\n",
    "from unidecode import unidecode\n",
    "import re\n",
    "\n",
    "import matplotlib.pyplot as plt\n",
    "import squarify\n",
    "import seaborn as sns\n",
    "import matplotlib as mpl\n",
    "\n",
    "import plotly.express as px\n",
    "import plotly.graph_objects as go"
   ]
  },
  {
   "cell_type": "markdown",
   "id": "4df6ef9c",
   "metadata": {},
   "source": [
    "## Procesamiento \n",
    "\n",
    "\n",
    "\n",
    "\n"
   ]
  },
  {
   "cell_type": "markdown",
   "id": "c9c84df6",
   "metadata": {},
   "source": [
    "### Eventos de extranjeros presentados ante la autoridad migratoria, según entidad federativa\n",
    "Procesamos las tablas estadisticas con datos sobre eventos de migrantes irregulares registrados por el INM por entidad federativa.\n",
    "\n",
    "Los datos seleccionados se refieren unicamente a los eventos en los que migrantes fueron  ...\n",
    "\n",
    "    2001 - 2012 la información incluye eventos de extranjeros en situación migratoria irregular a los que el Instituto Nacional de Migración (INM) les inició un procedimiento administrativo de aseguramiento y a los centroamericanos acogidos al “Memorándum de entendimiento entre los gobiernos de los Estados Unidos Mexicanos, de la República de El Salvador, de la República de Guatemala, de la República de Honduras y de la República de Nicaragua, para la repatriación digna, ordenada, ágil y segura de nacionales centroamericanos migrantes vía terrestre” suscrito el 5 de mayo de 2006 y su anexo del 26 de abril de 2007.\n",
    "\n",
    "    2013 - 2020 la información incluye los eventos de migrantes en situación migratoria irregular a los que se les inició un procedimiento administrativo de presentación por no acreditar su situación migratoria, según lo previsto en los arts. 99, 112 y 113 de la Ley de Migración y del art. 222 de su Reglamento.\n",
    "\n",
    "    2021 - 2023 la información hace referencia a los eventos de extranjeros en situación migratoria irregular a los que se les inicio un Procedimiento Administrativo Migratorio (PAM) ante el Instituto Nacional de Migración (INM) por no acreditar su situación migratoria, según lo previsto en los arts. 99, 100, 101 y 113 de la Ley de Migración y del art. 222 de su Reglamento \n",
    "\n",
    "Y a los que fueron canalizados por esta misma autoridad a los albergues de la red DIF, con PAM iniciado; según lo previsto en los art. 112 y 113 de la Ley de Migración y del art. 222 de su Reglamento, así como de los arts. 89, 94 de la Ley General de los Derechos de Niñas, Niños y Adolescentes.(Excluidos en estas BD para mantener comparabilidad estadistica)\n",
    "\n",
    "El nombre de datos en el tiempo:\n",
    "\n",
    "2002 - 2006 \"EVENTOS DE ASEGURAMIENTO EN MÉXICO SEGÚN DELEGACIÓN REGIONAL\"\n",
    "\n",
    "2007 - 2012  \"Eventos de extranjeros alojados en estaciones migratorias, según entidad federativa\"\n",
    "\n",
    "2013 - 2023 \"Eventos de extranjeros presentados ante la autoridad migratoria, según entidad federativa\"\n",
    "\n",
    "\n"
   ]
  },
  {
   "cell_type": "markdown",
   "id": "47537b8a",
   "metadata": {},
   "source": [
    "##### Cargar BD"
   ]
  },
  {
   "cell_type": "code",
   "execution_count": 2,
   "id": "b33e34c7",
   "metadata": {},
   "outputs": [],
   "source": [
    "bd_tw = pd.read_excel(\"/Users/pablouriarte/Documents/1. Expediente Tec de Monterrey/1.Tesis/Mapa_Migracion_Irregular_Mexico/2. Datos/INM/Total_De_Eventos/31.2011_Sorted.xlsx\")"
   ]
  },
  {
   "cell_type": "markdown",
   "id": "77d0f617",
   "metadata": {},
   "source": [
    "###### Guardar BD"
   ]
  },
  {
   "cell_type": "code",
   "execution_count": null,
   "id": "6748bb4f",
   "metadata": {},
   "outputs": [],
   "source": [
    "#bd_tw.to_excel(\"/Users/pablouriarte/Documents/1. Expediente Tec de Monterrey/1.Tesis/Mapa_Migracion_Irregular_Mexico/2. Datos/INM/Total_De_Eventos/31.2011_Sorted.xlsx\", index=False)\n"
   ]
  },
  {
   "cell_type": "code",
   "execution_count": 3,
   "id": "c517f9ec",
   "metadata": {},
   "outputs": [],
   "source": [
    "#Llenamos valores NaN\n",
    "bd_tw.fillna(0, inplace=True)\n",
    "\n",
    "#Convertimos cantidades a int\n",
    "columns_to_convert = ['Enero', 'Febrero', 'Marzo', 'Abril', 'Mayo', 'Junio', 'Julio', 'Agosto', 'Septiembre', 'Octubre', 'Noviembre', 'Diciembre', 'Total']\n",
    "for col in columns_to_convert:\n",
    "    bd_tw[col] = bd_tw[col].astype(int, errors='ignore')\n",
    "\n"
   ]
  },
  {
   "cell_type": "code",
   "execution_count": 4,
   "id": "6dd805b4",
   "metadata": {},
   "outputs": [],
   "source": [
    "# Convertir la columna 'Año' a un tipo numérico\n",
    "bd_tw['Año'] = bd_tw['Año'].astype(int)\n",
    "\n",
    "# Ordenar el DataFrame por 'Año'\n",
    "bd_tw = bd_tw.sort_values(by=['Año'], kind='mergesort')\n"
   ]
  },
  {
   "cell_type": "code",
   "execution_count": 5,
   "id": "e0459b3b",
   "metadata": {},
   "outputs": [
    {
     "data": {
      "text/html": [
       "<div>\n",
       "<style scoped>\n",
       "    .dataframe tbody tr th:only-of-type {\n",
       "        vertical-align: middle;\n",
       "    }\n",
       "\n",
       "    .dataframe tbody tr th {\n",
       "        vertical-align: top;\n",
       "    }\n",
       "\n",
       "    .dataframe thead th {\n",
       "        text-align: right;\n",
       "    }\n",
       "</style>\n",
       "<table border=\"1\" class=\"dataframe\">\n",
       "  <thead>\n",
       "    <tr style=\"text-align: right;\">\n",
       "      <th></th>\n",
       "      <th>Entidad federativa</th>\n",
       "      <th>Enero</th>\n",
       "      <th>Febrero</th>\n",
       "      <th>Marzo</th>\n",
       "      <th>Abril</th>\n",
       "      <th>Mayo</th>\n",
       "      <th>Junio</th>\n",
       "      <th>Julio</th>\n",
       "      <th>Agosto</th>\n",
       "      <th>Septiembre</th>\n",
       "      <th>Octubre</th>\n",
       "      <th>Noviembre</th>\n",
       "      <th>Diciembre</th>\n",
       "      <th>Total</th>\n",
       "      <th>Año</th>\n",
       "    </tr>\n",
       "  </thead>\n",
       "  <tbody>\n",
       "    <tr>\n",
       "      <th>0</th>\n",
       "      <td>Total general</td>\n",
       "      <td>14061</td>\n",
       "      <td>17965</td>\n",
       "      <td>20613</td>\n",
       "      <td>15770</td>\n",
       "      <td>17368</td>\n",
       "      <td>13947</td>\n",
       "      <td>13283</td>\n",
       "      <td>12731</td>\n",
       "      <td>9740</td>\n",
       "      <td>5423</td>\n",
       "      <td>4727</td>\n",
       "      <td>4902</td>\n",
       "      <td>150530</td>\n",
       "      <td>2001</td>\n",
       "    </tr>\n",
       "    <tr>\n",
       "      <th>1</th>\n",
       "      <td>Aguascalientes</td>\n",
       "      <td>2</td>\n",
       "      <td>1</td>\n",
       "      <td>3</td>\n",
       "      <td>5</td>\n",
       "      <td>3</td>\n",
       "      <td>7</td>\n",
       "      <td>3</td>\n",
       "      <td>7</td>\n",
       "      <td>2</td>\n",
       "      <td>3</td>\n",
       "      <td>0</td>\n",
       "      <td>8</td>\n",
       "      <td>44</td>\n",
       "      <td>2001</td>\n",
       "    </tr>\n",
       "    <tr>\n",
       "      <th>2</th>\n",
       "      <td>Baja California</td>\n",
       "      <td>155</td>\n",
       "      <td>43</td>\n",
       "      <td>95</td>\n",
       "      <td>107</td>\n",
       "      <td>81</td>\n",
       "      <td>138</td>\n",
       "      <td>141</td>\n",
       "      <td>294</td>\n",
       "      <td>105</td>\n",
       "      <td>97</td>\n",
       "      <td>45</td>\n",
       "      <td>57</td>\n",
       "      <td>1358</td>\n",
       "      <td>2001</td>\n",
       "    </tr>\n",
       "  </tbody>\n",
       "</table>\n",
       "</div>"
      ],
      "text/plain": [
       "  Entidad federativa  Enero  Febrero  Marzo  Abril   Mayo  Junio  Julio  \\\n",
       "0      Total general  14061    17965  20613  15770  17368  13947  13283   \n",
       "1     Aguascalientes      2        1      3      5      3      7      3   \n",
       "2    Baja California    155       43     95    107     81    138    141   \n",
       "\n",
       "   Agosto  Septiembre  Octubre  Noviembre  Diciembre   Total   Año  \n",
       "0   12731        9740     5423       4727       4902  150530  2001  \n",
       "1       7           2        3          0          8      44  2001  \n",
       "2     294         105       97         45         57    1358  2001  "
      ]
     },
     "execution_count": 5,
     "metadata": {},
     "output_type": "execute_result"
    }
   ],
   "source": [
    "bd_tw.head(3)\n"
   ]
  },
  {
   "cell_type": "code",
   "execution_count": null,
   "id": "8bfdf21f",
   "metadata": {},
   "outputs": [],
   "source": [
    "#print(bd_tw['Entidad federativa'].unique())\n"
   ]
  },
  {
   "cell_type": "markdown",
   "id": "7a82a59e",
   "metadata": {},
   "source": [
    "### Eventos de personas en situación migratoria irregular en México, según continente y país de nacionalidad, 2023"
   ]
  },
  {
   "cell_type": "code",
   "execution_count": 6,
   "id": "abf4edf1",
   "metadata": {},
   "outputs": [],
   "source": [
    "bd_tw_nacionalidad = pd.read_excel(\"/Users/pablouriarte/Documents/1. Expediente Tec de Monterrey/1.Tesis/Mapa_Migracion_Irregular_Mexico/2. Datos/INM/Total_De_Eventos_Nacionalidad/cuadro3.2(nacionalidad).xlsx\")"
   ]
  },
  {
   "cell_type": "code",
   "execution_count": null,
   "id": "93001dcc",
   "metadata": {},
   "outputs": [],
   "source": [
    "#bd_tw_nacionalidad.to_excel(\"/Users/pablouriarte/Documents/1. Expediente Tec de Monterrey/1.Tesis/Mapa_Migracion_Irregular_Mexico/2. Datos/INM/Total_De_Eventos_Nacionalidad/cuadro3.2(nacionalidad).xlsx\", index=False)\n"
   ]
  },
  {
   "cell_type": "markdown",
   "id": "7b77aaa0",
   "metadata": {},
   "source": [
    "# Eliminar filas donde \"Continente/ país de nacionalidad\" es NaN\n",
    "bd_tw_nacionalidad = bd_tw_nacionalidad.dropna(subset=['Continente/ país de nacionalidad'])\n",
    "\n",
    "# Eliminar acentos\n",
    "bd_tw_nacionalidad['Continente/ país de nacionalidad'] = bd_tw_nacionalidad['Continente/ país de nacionalidad'].apply(unidecode)\n",
    "\n",
    "# Eliminar signos de puntuación que no sean letras\n",
    "bd_tw_nacionalidad['Continente/ país de nacionalidad'] = bd_tw_nacionalidad['Continente/ país de nacionalidad'].apply(lambda x: re.sub(r'[^a-zA-Z\\s]', '', x))\n",
    "\n",
    "# Cambiar a letra mayúscula la primera letra de cada palabra\n",
    "bd_tw_nacionalidad['Continente/ país de nacionalidad'] = bd_tw_nacionalidad['Continente/ país de nacionalidad'].apply(lambda x: x.title())\n",
    "\n",
    "#eliminar espacios en blanco\n",
    "bd_tw_nacionalidad['Continente/ país de nacionalidad'] = bd_tw_nacionalidad['Continente/ país de nacionalidad'].str.strip()\n"
   ]
  },
  {
   "cell_type": "markdown",
   "id": "19241ac5",
   "metadata": {},
   "source": [
    "# Diccionario de correciones\n",
    "correcciones = {\n",
    "    'Dominicana Rep': 'República Dominicana',\n",
    "    'Dominicana Republica': 'República Dominicana',\n",
    "    'Checa Rep': 'República Checa',\n",
    "    'Paises Bajos Holanda': 'Países Bajos',\n",
    "    'Holanda': 'Países Bajos',\n",
    "    'Mianmar Birmania': 'Myanmar',\n",
    "    'Centroafricana Rep': 'República Centroafricana',\n",
    "    'Congo Rep Dem': 'República Democrática del Congo',\n",
    "    'Costa De Marfil': 'Costa de Marfil',\n",
    "    'Guinea Bissau': 'Guinea-Bisáu',\n",
    "    'Santo Tome Y Principe': 'Santo Tomé y Príncipe',\n",
    "    'Sudafrica': 'Sudáfrica',\n",
    "    'Nueva Zelandia': 'Nueva Zelanda',\n",
    "    'Aruba P Bajos': 'Aruba',\n",
    "    'Micronesia Rep': 'Micronesia',\n",
    "    'Bosniaherzegovina': 'Bosnia y Herzegovina',\n",
    "    'Corea Rpd Norte': 'Corea del Norte',\n",
    "    'Congo Rep': 'República del Congo',\n",
    "    'Saharaui Rep Arabe': 'Sahara Occidental',\n",
    "    'Dominica Comonwealth': 'Dominica',\n",
    "    'Dominica Commonwealth': 'Dominica',\n",
    "    'Turcos Y Caicos Islas R Unido': 'Islas Turcas y Caicos',\n",
    "    'Micronesia Rep Eua': 'Micronesia',\n",
    "    'China Rep Pop': 'China',\n",
    "    'Kazajstan': 'Kazajistán',\n",
    "    'Kazajistan': 'Kazajistán',\n",
    "    'Rwanda': 'Ruanda',\n",
    "    'Estados Unidos de América': 'Estados Unidos',\n",
    "    'Bahamas Commonwealth': 'Bahamas',\n",
    "    'Martinica Terr Ultram Francia': 'Martinica',\n",
    "    'Guayana Francesa': 'Guayana Francesa',\n",
    "    'Paises Bajos': 'Países Bajos',\n",
    "    'Hong Kong China': 'Hong Kong',\n",
    "    'Corea Rep Sur': 'Corea del Sur',\n",
    "    'Corea Del Sur': 'Corea del Sur',\n",
    "    'Zimbabue': 'Zimbabwe'\n",
    "}"
   ]
  },
  {
   "cell_type": "markdown",
   "id": "f9b04e44",
   "metadata": {},
   "source": [
    "# Corregir los nombres de los países en la columna específica\n",
    "bd_tw_nacionalidad['Continente/ país de nacionalidad'] = bd_tw_nacionalidad['Continente/ país de nacionalidad'].replace(correcciones)\n"
   ]
  },
  {
   "cell_type": "code",
   "execution_count": 7,
   "id": "f30b7e16",
   "metadata": {},
   "outputs": [],
   "source": [
    "##Revisamos Manualmente\n",
    "#print(bd_tw_nacionalidad['Continente/ país de nacionalidad'].unique())"
   ]
  },
  {
   "cell_type": "code",
   "execution_count": 8,
   "id": "53852d0b",
   "metadata": {},
   "outputs": [
    {
     "data": {
      "text/html": [
       "<div>\n",
       "<style scoped>\n",
       "    .dataframe tbody tr th:only-of-type {\n",
       "        vertical-align: middle;\n",
       "    }\n",
       "\n",
       "    .dataframe tbody tr th {\n",
       "        vertical-align: top;\n",
       "    }\n",
       "\n",
       "    .dataframe thead th {\n",
       "        text-align: right;\n",
       "    }\n",
       "</style>\n",
       "<table border=\"1\" class=\"dataframe\">\n",
       "  <thead>\n",
       "    <tr style=\"text-align: right;\">\n",
       "      <th></th>\n",
       "      <th>Continente/ país de nacionalidad</th>\n",
       "      <th>Enero</th>\n",
       "      <th>Febrero</th>\n",
       "      <th>Marzo</th>\n",
       "      <th>Abril</th>\n",
       "      <th>Mayo</th>\n",
       "      <th>Junio</th>\n",
       "      <th>Julio</th>\n",
       "      <th>Agosto</th>\n",
       "      <th>Septiembre</th>\n",
       "      <th>Octubre</th>\n",
       "      <th>Noviembre</th>\n",
       "      <th>Diciembre</th>\n",
       "      <th>Total</th>\n",
       "      <th>Año</th>\n",
       "    </tr>\n",
       "  </thead>\n",
       "  <tbody>\n",
       "    <tr>\n",
       "      <th>2075</th>\n",
       "      <td>Belice</td>\n",
       "      <td>12</td>\n",
       "      <td>13</td>\n",
       "      <td>14</td>\n",
       "      <td>7</td>\n",
       "      <td>9.0</td>\n",
       "      <td>4</td>\n",
       "      <td>11</td>\n",
       "      <td>12</td>\n",
       "      <td>9</td>\n",
       "      <td>9</td>\n",
       "      <td>8</td>\n",
       "      <td>4.0</td>\n",
       "      <td>112</td>\n",
       "      <td>2001</td>\n",
       "    </tr>\n",
       "    <tr>\n",
       "      <th>2076</th>\n",
       "      <td>China</td>\n",
       "      <td>18</td>\n",
       "      <td>15</td>\n",
       "      <td>16</td>\n",
       "      <td>12</td>\n",
       "      <td>0.0</td>\n",
       "      <td>10</td>\n",
       "      <td>5</td>\n",
       "      <td>5</td>\n",
       "      <td>6</td>\n",
       "      <td>9</td>\n",
       "      <td>2</td>\n",
       "      <td>9.0</td>\n",
       "      <td>107</td>\n",
       "      <td>2001</td>\n",
       "    </tr>\n",
       "    <tr>\n",
       "      <th>2077</th>\n",
       "      <td>Venezuela</td>\n",
       "      <td>0</td>\n",
       "      <td>1</td>\n",
       "      <td>6</td>\n",
       "      <td>0</td>\n",
       "      <td>7.0</td>\n",
       "      <td>12</td>\n",
       "      <td>11</td>\n",
       "      <td>13</td>\n",
       "      <td>10</td>\n",
       "      <td>0</td>\n",
       "      <td>0</td>\n",
       "      <td>2.0</td>\n",
       "      <td>62</td>\n",
       "      <td>2001</td>\n",
       "    </tr>\n",
       "    <tr>\n",
       "      <th>2078</th>\n",
       "      <td>Chile</td>\n",
       "      <td>5</td>\n",
       "      <td>3</td>\n",
       "      <td>12</td>\n",
       "      <td>11</td>\n",
       "      <td>2.0</td>\n",
       "      <td>4</td>\n",
       "      <td>2</td>\n",
       "      <td>2</td>\n",
       "      <td>4</td>\n",
       "      <td>0</td>\n",
       "      <td>3</td>\n",
       "      <td>2.0</td>\n",
       "      <td>50</td>\n",
       "      <td>2001</td>\n",
       "    </tr>\n",
       "    <tr>\n",
       "      <th>2079</th>\n",
       "      <td>Panama</td>\n",
       "      <td>2</td>\n",
       "      <td>5</td>\n",
       "      <td>4</td>\n",
       "      <td>4</td>\n",
       "      <td>6.0</td>\n",
       "      <td>5</td>\n",
       "      <td>0</td>\n",
       "      <td>5</td>\n",
       "      <td>2</td>\n",
       "      <td>1</td>\n",
       "      <td>5</td>\n",
       "      <td>1.0</td>\n",
       "      <td>40</td>\n",
       "      <td>2001</td>\n",
       "    </tr>\n",
       "    <tr>\n",
       "      <th>2080</th>\n",
       "      <td>Otros</td>\n",
       "      <td>98</td>\n",
       "      <td>70</td>\n",
       "      <td>55</td>\n",
       "      <td>71</td>\n",
       "      <td>54.0</td>\n",
       "      <td>86</td>\n",
       "      <td>107</td>\n",
       "      <td>93</td>\n",
       "      <td>72</td>\n",
       "      <td>72</td>\n",
       "      <td>50</td>\n",
       "      <td>41.0</td>\n",
       "      <td>869</td>\n",
       "      <td>2001</td>\n",
       "    </tr>\n",
       "  </tbody>\n",
       "</table>\n",
       "</div>"
      ],
      "text/plain": [
       "     Continente/ país de nacionalidad  Enero  Febrero  Marzo  Abril  Mayo  \\\n",
       "2075                           Belice     12       13     14      7   9.0   \n",
       "2076                            China     18       15     16     12   0.0   \n",
       "2077                        Venezuela      0        1      6      0   7.0   \n",
       "2078                            Chile      5        3     12     11   2.0   \n",
       "2079                           Panama      2        5      4      4   6.0   \n",
       "2080                            Otros     98       70     55     71  54.0   \n",
       "\n",
       "      Junio  Julio  Agosto  Septiembre  Octubre  Noviembre  Diciembre  Total  \\\n",
       "2075      4     11      12           9        9          8        4.0    112   \n",
       "2076     10      5       5           6        9          2        9.0    107   \n",
       "2077     12     11      13          10        0          0        2.0     62   \n",
       "2078      4      2       2           4        0          3        2.0     50   \n",
       "2079      5      0       5           2        1          5        1.0     40   \n",
       "2080     86    107      93          72       72         50       41.0    869   \n",
       "\n",
       "       Año  \n",
       "2075  2001  \n",
       "2076  2001  \n",
       "2077  2001  \n",
       "2078  2001  \n",
       "2079  2001  \n",
       "2080  2001  "
      ]
     },
     "execution_count": 8,
     "metadata": {},
     "output_type": "execute_result"
    }
   ],
   "source": [
    "bd_tw_nacionalidad.tail(6)"
   ]
  },
  {
   "cell_type": "markdown",
   "id": "16697f60",
   "metadata": {},
   "source": [
    "### Eventos Presentados/Canalizados"
   ]
  },
  {
   "cell_type": "code",
   "execution_count": 9,
   "id": "f85bb9bd",
   "metadata": {},
   "outputs": [],
   "source": [
    "EventosPresentados = pd.read_excel(\"/Users/pablouriarte/Documents/1. Expediente Tec de Monterrey/1.Tesis/Mapa_Migracion_Irregular_Mexico/2. Datos/INM/Total_De_Eventos/EventosPresentados.xlsx\")"
   ]
  },
  {
   "cell_type": "code",
   "execution_count": 10,
   "id": "7e9b34bf",
   "metadata": {},
   "outputs": [],
   "source": [
    "EventosCanalizados = pd.read_excel(\"/Users/pablouriarte/Documents/1. Expediente Tec de Monterrey/1.Tesis/Mapa_Migracion_Irregular_Mexico/2. Datos/INM/Total_De_Eventos/EventosCanalizados.xlsx\")"
   ]
  },
  {
   "cell_type": "markdown",
   "id": "d916e6f0",
   "metadata": {},
   "source": [
    "#### Convertimos el dataframe para utilizar temporalidad en los datos"
   ]
  },
  {
   "cell_type": "code",
   "execution_count": 11,
   "id": "0a5fd700",
   "metadata": {},
   "outputs": [
    {
     "name": "stderr",
     "output_type": "stream",
     "text": [
      "/var/folders/68/6zkv8z4j4rl6ds90br2rb7ph0000gn/T/ipykernel_2379/510998868.py:2: FutureWarning: This dataframe has a column name that matches the 'value_name' column name of the resulting Dataframe. In the future this will raise an error, please set the 'value_name' parameter of DataFrame.melt to a unique name.\n",
      "  EventosPresentados_derr = pd.melt(EventosPresentados, id_vars=['Total general', 'Año'],\n"
     ]
    }
   ],
   "source": [
    "# Derretir el DataFrame para que cada fila represente un único mes y año para un país\n",
    "EventosPresentados_derr = pd.melt(EventosPresentados, id_vars=['Total general', 'Año'], \n",
    "                    value_vars=['Enero', 'Febrero', 'Marzo', 'Abril', 'Mayo', 'Junio', \n",
    "                                'Julio', 'Agosto', 'Septiembre', 'Octubre', 'Noviembre', 'Diciembre'], \n",
    "                    var_name='Mes', value_name='Total')\n",
    "\n",
    "# Mapear los nombres de los meses en español a inglés\n",
    "meses_ingles = {'Enero': 'January', 'Febrero': 'February', 'Marzo': 'March', 'Abril': 'April', \n",
    "                'Mayo': 'May', 'Junio': 'June', 'Julio': 'July', 'Agosto': 'August', \n",
    "                'Septiembre': 'September', 'Octubre': 'October', 'Noviembre': 'November', 'Diciembre': 'December'}\n",
    "EventosPresentados_derr['Mes'] = EventosPresentados_derr['Mes'].map(meses_ingles)\n",
    "\n",
    "# Crear una nueva columna 'Fecha' que combine 'Año' y 'Mes'\n",
    "EventosPresentados_derr['Fecha'] = EventosPresentados_derr['Mes'].astype(str) + '-' + EventosPresentados_derr['Año'].astype(str)\n",
    "EventosPresentados_derr['Fecha'] = pd.to_datetime(EventosPresentados_derr['Fecha'], format='%B-%Y')\n",
    "\n",
    "# Ordenar df_melted por 'Fecha'\n",
    "EventosPresentados_derr = EventosPresentados_derr.sort_values('Fecha')"
   ]
  },
  {
   "cell_type": "code",
   "execution_count": 12,
   "id": "9cbd6238",
   "metadata": {},
   "outputs": [
    {
     "name": "stderr",
     "output_type": "stream",
     "text": [
      "/var/folders/68/6zkv8z4j4rl6ds90br2rb7ph0000gn/T/ipykernel_2379/246433892.py:2: FutureWarning: This dataframe has a column name that matches the 'value_name' column name of the resulting Dataframe. In the future this will raise an error, please set the 'value_name' parameter of DataFrame.melt to a unique name.\n",
      "  EventosCanalizados_derr = pd.melt(EventosCanalizados, id_vars=['Total general', 'Año'],\n"
     ]
    }
   ],
   "source": [
    "# Derretir el DataFrame para que cada fila represente un único mes y año para un país\n",
    "EventosCanalizados_derr = pd.melt(EventosCanalizados, id_vars=['Total general', 'Año'], \n",
    "                    value_vars=['Enero', 'Febrero', 'Marzo', 'Abril', 'Mayo', 'Junio', \n",
    "                                'Julio', 'Agosto', 'Septiembre', 'Octubre', 'Noviembre', 'Diciembre'], \n",
    "                    var_name='Mes', value_name='Total')\n",
    "\n",
    "# Mapear los nombres de los meses en español a inglés\n",
    "meses_ingles = {'Enero': 'January', 'Febrero': 'February', 'Marzo': 'March', 'Abril': 'April', \n",
    "                'Mayo': 'May', 'Junio': 'June', 'Julio': 'July', 'Agosto': 'August', \n",
    "                'Septiembre': 'September', 'Octubre': 'October', 'Noviembre': 'November', 'Diciembre': 'December'}\n",
    "EventosCanalizados_derr['Mes'] = EventosCanalizados_derr['Mes'].map(meses_ingles)\n",
    "\n",
    "# Crear una nueva columna 'Fecha' que combine 'Año' y 'Mes'\n",
    "EventosCanalizados_derr['Fecha'] = EventosCanalizados_derr['Mes'].astype(str) + '-' + EventosCanalizados_derr['Año'].astype(str)\n",
    "EventosCanalizados_derr['Fecha'] = pd.to_datetime(EventosCanalizados_derr['Fecha'], format='%B-%Y')\n",
    "\n",
    "# Ordenar df_melted por 'Fecha'\n",
    "EventosCanalizados_derr = EventosCanalizados_derr.sort_values('Fecha')"
   ]
  },
  {
   "cell_type": "code",
   "execution_count": 13,
   "id": "283a15f1",
   "metadata": {},
   "outputs": [
    {
     "data": {
      "text/html": [
       "<div>\n",
       "<style scoped>\n",
       "    .dataframe tbody tr th:only-of-type {\n",
       "        vertical-align: middle;\n",
       "    }\n",
       "\n",
       "    .dataframe tbody tr th {\n",
       "        vertical-align: top;\n",
       "    }\n",
       "\n",
       "    .dataframe thead th {\n",
       "        text-align: right;\n",
       "    }\n",
       "</style>\n",
       "<table border=\"1\" class=\"dataframe\">\n",
       "  <thead>\n",
       "    <tr style=\"text-align: right;\">\n",
       "      <th></th>\n",
       "      <th>Total general</th>\n",
       "      <th>Año</th>\n",
       "      <th>Mes</th>\n",
       "      <th>Total</th>\n",
       "      <th>Fecha</th>\n",
       "    </tr>\n",
       "  </thead>\n",
       "  <tbody>\n",
       "    <tr>\n",
       "      <th>2</th>\n",
       "      <td>Total general</td>\n",
       "      <td>2021</td>\n",
       "      <td>January</td>\n",
       "      <td>9001</td>\n",
       "      <td>2021-01-01</td>\n",
       "    </tr>\n",
       "    <tr>\n",
       "      <th>5</th>\n",
       "      <td>Total general</td>\n",
       "      <td>2021</td>\n",
       "      <td>February</td>\n",
       "      <td>10575</td>\n",
       "      <td>2021-02-01</td>\n",
       "    </tr>\n",
       "  </tbody>\n",
       "</table>\n",
       "</div>"
      ],
      "text/plain": [
       "   Total general   Año       Mes  Total      Fecha\n",
       "2  Total general  2021   January   9001 2021-01-01\n",
       "5  Total general  2021  February  10575 2021-02-01"
      ]
     },
     "execution_count": 13,
     "metadata": {},
     "output_type": "execute_result"
    }
   ],
   "source": [
    "EventosPresentados_derr.head(2)"
   ]
  },
  {
   "cell_type": "code",
   "execution_count": 14,
   "id": "9f70e26d",
   "metadata": {},
   "outputs": [
    {
     "data": {
      "text/html": [
       "<div>\n",
       "<style scoped>\n",
       "    .dataframe tbody tr th:only-of-type {\n",
       "        vertical-align: middle;\n",
       "    }\n",
       "\n",
       "    .dataframe tbody tr th {\n",
       "        vertical-align: top;\n",
       "    }\n",
       "\n",
       "    .dataframe thead th {\n",
       "        text-align: right;\n",
       "    }\n",
       "</style>\n",
       "<table border=\"1\" class=\"dataframe\">\n",
       "  <thead>\n",
       "    <tr style=\"text-align: right;\">\n",
       "      <th></th>\n",
       "      <th>Total general</th>\n",
       "      <th>Año</th>\n",
       "      <th>Mes</th>\n",
       "      <th>Total</th>\n",
       "      <th>Fecha</th>\n",
       "    </tr>\n",
       "  </thead>\n",
       "  <tbody>\n",
       "    <tr>\n",
       "      <th>6</th>\n",
       "      <td>Total general</td>\n",
       "      <td>2023</td>\n",
       "      <td>March</td>\n",
       "      <td>12990</td>\n",
       "      <td>2023-03-01</td>\n",
       "    </tr>\n",
       "    <tr>\n",
       "      <th>9</th>\n",
       "      <td>Total general</td>\n",
       "      <td>2023</td>\n",
       "      <td>April</td>\n",
       "      <td>6870</td>\n",
       "      <td>2023-04-01</td>\n",
       "    </tr>\n",
       "    <tr>\n",
       "      <th>12</th>\n",
       "      <td>Total general</td>\n",
       "      <td>2023</td>\n",
       "      <td>May</td>\n",
       "      <td>12239</td>\n",
       "      <td>2023-05-01</td>\n",
       "    </tr>\n",
       "    <tr>\n",
       "      <th>15</th>\n",
       "      <td>Total general</td>\n",
       "      <td>2023</td>\n",
       "      <td>June</td>\n",
       "      <td>15533</td>\n",
       "      <td>2023-06-01</td>\n",
       "    </tr>\n",
       "    <tr>\n",
       "      <th>18</th>\n",
       "      <td>Total general</td>\n",
       "      <td>2023</td>\n",
       "      <td>July</td>\n",
       "      <td>18509</td>\n",
       "      <td>2023-07-01</td>\n",
       "    </tr>\n",
       "    <tr>\n",
       "      <th>21</th>\n",
       "      <td>Total general</td>\n",
       "      <td>2023</td>\n",
       "      <td>August</td>\n",
       "      <td>0</td>\n",
       "      <td>2023-08-01</td>\n",
       "    </tr>\n",
       "    <tr>\n",
       "      <th>24</th>\n",
       "      <td>Total general</td>\n",
       "      <td>2023</td>\n",
       "      <td>September</td>\n",
       "      <td>0</td>\n",
       "      <td>2023-09-01</td>\n",
       "    </tr>\n",
       "    <tr>\n",
       "      <th>27</th>\n",
       "      <td>Total general</td>\n",
       "      <td>2023</td>\n",
       "      <td>October</td>\n",
       "      <td>0</td>\n",
       "      <td>2023-10-01</td>\n",
       "    </tr>\n",
       "    <tr>\n",
       "      <th>30</th>\n",
       "      <td>Total general</td>\n",
       "      <td>2023</td>\n",
       "      <td>November</td>\n",
       "      <td>0</td>\n",
       "      <td>2023-11-01</td>\n",
       "    </tr>\n",
       "    <tr>\n",
       "      <th>33</th>\n",
       "      <td>Total general</td>\n",
       "      <td>2023</td>\n",
       "      <td>December</td>\n",
       "      <td>0</td>\n",
       "      <td>2023-12-01</td>\n",
       "    </tr>\n",
       "  </tbody>\n",
       "</table>\n",
       "</div>"
      ],
      "text/plain": [
       "    Total general   Año        Mes  Total      Fecha\n",
       "6   Total general  2023      March  12990 2023-03-01\n",
       "9   Total general  2023      April   6870 2023-04-01\n",
       "12  Total general  2023        May  12239 2023-05-01\n",
       "15  Total general  2023       June  15533 2023-06-01\n",
       "18  Total general  2023       July  18509 2023-07-01\n",
       "21  Total general  2023     August      0 2023-08-01\n",
       "24  Total general  2023  September      0 2023-09-01\n",
       "27  Total general  2023    October      0 2023-10-01\n",
       "30  Total general  2023   November      0 2023-11-01\n",
       "33  Total general  2023   December      0 2023-12-01"
      ]
     },
     "execution_count": 14,
     "metadata": {},
     "output_type": "execute_result"
    }
   ],
   "source": [
    "EventosCanalizados_derr.tail(10)"
   ]
  },
  {
   "cell_type": "markdown",
   "id": "14c29d17",
   "metadata": {},
   "source": [
    "## Visualizaciones"
   ]
  },
  {
   "cell_type": "markdown",
   "id": "ef8d34e1",
   "metadata": {},
   "source": [
    "#### 1. Eventos Presentados/Canalizados\n",
    "\n",
    "    -Grafica de Area encimada"
   ]
  },
  {
   "cell_type": "code",
   "execution_count": 17,
   "id": "8d4f7627",
   "metadata": {},
   "outputs": [
    {
     "data": {
      "image/png": "[encoded data removed]",
      "text/plain": [
       "<Figure size 1500x900 with 1 Axes>"
      ]
     },
     "metadata": {},
     "output_type": "display_data"
    }
   ],
   "source": [
    "# Filtrar los DataFrames para excluir meses con Total igual a 0\n",
    "EventosPresentados_derr = EventosPresentados_derr[EventosPresentados_derr['Total'] != 0]\n",
    "EventosCanalizados_derr = EventosCanalizados_derr[EventosCanalizados_derr['Total'] != 0]\n",
    "\n",
    "# Crear una figura y un eje\n",
    "plt.figure(figsize=(15, 9))\n",
    "\n",
    "# Definir la paleta de colores\n",
    "colores = sns.color_palette(\"Pastel1\", n_colors=2)\n",
    "\n",
    "# Graficar las líneas y el área para 'EventosPresentados'\n",
    "sns.lineplot(x='Fecha', y='Total', data=EventosPresentados_derr, label='Presentados', color=colores[0])\n",
    "plt.fill_between(EventosPresentados_derr['Fecha'], EventosPresentados_derr['Total'], color=colores[0], alpha=0.5)\n",
    "\n",
    "# Graficar las líneas y el área para 'EventosCanalizados'\n",
    "sns.lineplot(x='Fecha', y='Total', data=EventosCanalizados_derr, label='Canalizados', color=colores[1])\n",
    "plt.fill_between(EventosCanalizados_derr['Fecha'], EventosCanalizados_derr['Total'], color=colores[1], alpha=0.5)\n",
    "\n",
    "# Añadir títulos y etiquetas\n",
    "#plt.title('Comparación de Eventos Presentados y Eventos Canalizados por Año')\n",
    "plt.xlabel('Periodo')\n",
    "plt.ylabel('Numero de Eventos')\n",
    "\n",
    "# Añadir leyenda\n",
    "plt.legend()\n",
    "\n",
    "# Mostrar el gráfico\n",
    "plt.show()\n",
    "\n",
    "#Titulo: Migrantes Irregulares Detenidos por el INM."
   ]
  },
  {
   "cell_type": "markdown",
   "id": "9370114a",
   "metadata": {},
   "source": [
    "#### 1. Total de Eventos por Año\n",
    "\n",
    "     -LinePlot"
   ]
  },
  {
   "cell_type": "code",
   "execution_count": null,
   "id": "ffeeab23",
   "metadata": {},
   "outputs": [],
   "source": [
    "# Filtrar el df con los resultados a nivel federación ('Total General') por año\n",
    "df_total_general = bd_tw[bd_tw['Entidad federativa'] == 'Total general']\n",
    "df_total_general.head(5)"
   ]
  },
  {
   "cell_type": "code",
   "execution_count": null,
   "id": "5341429d",
   "metadata": {},
   "outputs": [],
   "source": [
    "# Configuración de Seaborn\n",
    "sns.set(style=\"whitegrid\")\n",
    "\n",
    "# Crear el gráfico\n",
    "plt.figure(figsize=(20, 12))\n",
    "\n",
    "# Gráfico de líneas para los totales anuales\n",
    "sns.lineplot(x='Año', y='Total', data=df_total_general, marker='o', linewidth=2.5, color='b')\n",
    "\n",
    "# Añadir títulos y etiquetas\n",
    "plt.title('Valores de la columna \"Total\" para la \"Entidad Federativa: Total General\" por cada año', fontsize=20)\n",
    "plt.xlabel('Año', fontsize=16)\n",
    "plt.ylabel('Total Anual', fontsize=16)\n",
    "\n",
    "# Asegurarse de que todas las etiquetas de los años se muestren en el eje x\n",
    "plt.xticks(df_total_general['Año'].unique(), fontsize=14)\n",
    "plt.yticks(fontsize=14)\n",
    "\n",
    "# Agregar un fondo de cuadrícula con líneas punteadas grises\n",
    "plt.grid(True, linestyle='--', linewidth=0.5, color='gray')\n",
    "\n",
    "# Mostrar el gráfico\n",
    "plt.show()"
   ]
  },
  {
   "cell_type": "markdown",
   "id": "9a55ba32",
   "metadata": {},
   "source": [
    "        ## Agregamos Eventos: \"Criterios INM\""
   ]
  },
  {
   "cell_type": "code",
   "execution_count": null,
   "id": "9691166f",
   "metadata": {},
   "outputs": [],
   "source": [
    "# Configuración de Seaborn\n",
    "sns.set(style=\"whitegrid\")\n",
    "\n",
    "# Crear el gráfico\n",
    "fig, ax = plt.subplots(figsize=(20, 12))\n",
    "\n",
    "# Gráfico de líneas para los totales anuales\n",
    "sns.lineplot(x='Año', y='Total', data=df_total_general, marker='o', linewidth=2.5, color='black', ax=ax, markersize=10)\n",
    "\n",
    "# Añadir títulos y etiquetas\n",
    "ax.set_ylabel('Total de eventos', fontsize=16)\n",
    "ax.set_xlabel('')\n",
    "\n",
    "# Asegurarse de que todas las etiquetas de los años se muestren en el eje x\n",
    "ax.set_xticks(df_total_general['Año'].unique())\n",
    "ax.set_xticklabels(df_total_general['Año'].unique(), fontsize=14)\n",
    "plt.yticks(fontsize=14)\n",
    "\n",
    "# Agregar un fondo de cuadrícula con líneas punteadas grises\n",
    "ax.grid(True, linestyle='--', linewidth=0.5, color='gray')\n",
    "\n",
    "# Definir los eventos y sus colores (usando la paleta Pastel1)\n",
    "event_colors = {\n",
    "    'Criterios 2001-2012': sns.color_palette(\"Pastel1\")[0],\n",
    "    'Criterios 2013-2020': sns.color_palette(\"Pastel1\")[1],\n",
    "    'Criterios 2021-2023': sns.color_palette(\"Pastel1\")[2]\n",
    "}\n",
    "\n",
    "# Dibujar los eventos en el gráfico\n",
    "ax.axvspan(2001, 2013, facecolor=event_colors['Criterios 2001-2012'], alpha=0.1)\n",
    "ax.axvspan(2013, 2021, facecolor=event_colors['Criterios 2013-2020'], alpha=0.1)\n",
    "ax.axvspan(2021, 2023, facecolor=event_colors['Criterios 2021-2023'], alpha=0.1)\n",
    "\n",
    "# Crear una leyenda para los eventos\n",
    "handles = [plt.Rectangle((0, 0), 1, 1, facecolor=color, alpha=0.4) for color in event_colors.values()]\n",
    "labels = list(event_colors.keys())\n",
    "ax.legend(handles, labels, title='Eventos', loc='upper left', fontsize=14)\n",
    "\n",
    "# Ajustar los límites del eje x para que comiencen en el primer año de tus datos\n",
    "primer_año = df_total_general['Año'].min()\n",
    "ultimo_año = df_total_general['Año'].max()\n",
    "ax.set_xlim(primer_año, ultimo_año)\n",
    "\n",
    "# Mostrar el gráfico\n",
    "plt.show()\n"
   ]
  },
  {
   "cell_type": "code",
   "execution_count": null,
   "id": "d321428c",
   "metadata": {},
   "outputs": [],
   "source": [
    "#Hacer la grafica aplanada al mes, utilizar el promedio anual para el punto intermedio"
   ]
  },
  {
   "cell_type": "code",
   "execution_count": null,
   "id": "8e5698b0",
   "metadata": {},
   "outputs": [],
   "source": [
    "# Configuración de Seaborn\n",
    "sns.set(style=\"whitegrid\")\n",
    "\n",
    "# Crear el gráfico\n",
    "fig, ax = plt.subplots(figsize=(20, 12))\n",
    "\n",
    "# Definir los eventos y sus colores (usando la paleta Pastel1)\n",
    "event_colors = {\n",
    "    'Criterios 2001-2012': sns.color_palette(\"Pastel1\")[0],\n",
    "    'Criterios 2013-2020': sns.color_palette(\"Pastel1\")[1],\n",
    "    'Criterios 2021-2023': sns.color_palette(\"Pastel1\")[2]\n",
    "}\n",
    "\n",
    "# Crear una lista de colores para cada barra en el gráfico\n",
    "bar_colors = df_total_general['Año'].apply(\n",
    "    lambda x: event_colors['Criterios 2001-2012'] if x <= 2012 else (\n",
    "              event_colors['Criterios 2013-2020'] if x <= 2020 else \n",
    "              event_colors['Criterios 2021-2023'])\n",
    ")\n",
    "\n",
    "# Gráfico de barras para los totales anuales con colores personalizados\n",
    "sns.barplot(x='Año', y='Total', data=df_total_general, palette=bar_colors, ax=ax)\n",
    "\n",
    "# Añadir títulos y etiquetas\n",
    "#'Detenciones o aseguramientos de migrantes irregulares realizados por el INM'\n",
    "ax.set_ylabel('Numero de eventos', fontsize=16)\n",
    "ax.set_xlabel('')\n",
    "\n",
    "# Crear una leyenda para los eventos\n",
    "handles = [plt.Rectangle((0, 0), 1, 1, facecolor=color, alpha=0.4) for color in event_colors.values()]\n",
    "labels = list(event_colors.keys())\n",
    "ax.legend(handles, labels, title='Eventos', loc='upper left', fontsize=14)\n",
    "\n",
    "# Añadir anotación al pie del gráfico\n",
    "ax.text(0.9, -0.1, '* Datos de 2023 corresponden al periodo de Enero a Julio.',\n",
    "        transform=ax.transAxes, ha=\"center\", fontsize=12, color=\"black\")\n",
    "\n",
    "\n",
    "# Mostrar el gráfico\n",
    "plt.show()\n"
   ]
  },
  {
   "cell_type": "markdown",
   "id": "d7751481",
   "metadata": {},
   "source": [
    "#### 2. Total de eventos por mes/año , small numbers.\n",
    "\n",
    "    Histograma + LinePlot\n",
    "    \n",
    "    (PENDIENTE)\n",
    "    -Tiene algunas dificultades para graficarse, las lineas temporales no son compatibles en las diferentes df"
   ]
  },
  {
   "cell_type": "code",
   "execution_count": null,
   "id": "d4b54eb0",
   "metadata": {},
   "outputs": [],
   "source": [
    "# Crear un nuevo DataFrame para almacenar los datos \"aplanados\"\n",
    "df_flattened = pd.DataFrame(columns=['Año-Mes', 'Total'])\n",
    "\n",
    "# Aplanar el DataFrame original\n",
    "for index, row in df_total_general.iterrows():\n",
    "    for mes in ['Enero', 'Febrero', 'Marzo', 'Abril', 'Mayo', 'Junio', 'Julio', 'Agosto', 'Septiembre', 'Octubre', 'Noviembre', 'Diciembre']:\n",
    "        año = row['Año']\n",
    "        total = row[mes]\n",
    "        df_flattened = df_flattened.append({'Año-Mes': f\"{año}-{mes}\", 'Total': total}, ignore_index=True)\n",
    "\n",
    "# Agregar una nueva columna que contenga solo el año\n",
    "#df_flattened['Año'] = df_flattened['Año-Mes'].apply(lambda x: x.split('-')[0])\n",
    "\n",
    "# Separar el año y el mes en dos columnas diferentes\n",
    "df_flattened['Año'] = df_flattened['Año-Mes'].apply(lambda x: x.split('-')[0])\n",
    "df_flattened['Mes'] = df_flattened['Año-Mes'].apply(lambda x: x.split('-')[1])\n",
    "\n",
    "#Cambiamos tipo de datos\n",
    "df_flattened['Total'] = df_flattened['Total'].astype(int)\n",
    "df_flattened['Año'] = df_flattened['Año'].astype(int)\n"
   ]
  },
  {
   "cell_type": "code",
   "execution_count": null,
   "id": "18705a88",
   "metadata": {},
   "outputs": [],
   "source": [
    "df_flattened.head()"
   ]
  },
  {
   "cell_type": "code",
   "execution_count": null,
   "id": "e746c333",
   "metadata": {},
   "outputs": [],
   "source": [
    "# Configuración de Seaborn\n",
    "sns.set(style=\"whitegrid\")\n",
    "\n",
    "# Crear el gráfico\n",
    "plt.figure(figsize=(20, 12))\n",
    "\n",
    "# Gráfico de líneas para los totales mensuales\n",
    "sns.lineplot(x='Año-Mes', y='Total', data=df_flattened, color='b', linewidth=2.5)\n",
    "\n",
    "# Añadir títulos y etiquetas\n",
    "plt.title('Valores de la columna \"Total\" a lo largo del tiempo', fontsize=20)\n",
    "plt.xlabel('Año', fontsize=16)\n",
    "plt.ylabel('Total Mensual', fontsize=16, color='b')\n",
    "\n",
    "# Asegurarse de que todas las etiquetas de los años se muestren en el eje x\n",
    "unique_years = df_flattened['Año'].unique()\n",
    "year_indices = [df_flattened[df_flattened['Año'] == year].index[0] for year in unique_years]\n",
    "plt.xticks(year_indices, unique_years, fontsize=14)\n",
    "plt.yticks(fontsize=14)\n",
    "\n",
    "# Agregar un fondo de cuadrícula con líneas punteadas grises\n",
    "plt.grid(True, linestyle='--', linewidth=0.5, color='black')\n",
    "\n",
    "# Mostrar el gráfico\n",
    "plt.show()"
   ]
  },
  {
   "cell_type": "code",
   "execution_count": null,
   "id": "4de98c59",
   "metadata": {},
   "outputs": [],
   "source": [
    "#Histograma \"barras\" totales por cada año\n",
    "\n",
    "# Crear el gráfico\n",
    "fig, ax1 = plt.subplots(figsize=(20, 12))\n",
    "\n",
    "# Grafico principal \"Histograma\"\n",
    "ax1.bar(df_total_general['Año'].astype(str), df_total_general['Total'], alpha=0.6, color='g')\n",
    "\n",
    "\n",
    "# Añadir títulos y etiquetas\n",
    "ax1.set_title('Valores de la columna \"Total\" para la \"Entidad Federativa: Total General\"')\n",
    "ax1.set_xlabel('Año')\n",
    "#ax1.set_ylabel('Total Mensual', color='b')\n",
    "ax1.set_ylabel('Total Anual', color='g')\n",
    "\n",
    "# Asegurarse de que todas las etiquetas de los años se muestren en el eje x\n",
    "\n",
    "\n",
    "# Agregar un fondo de cuadrícula con líneas punteadas grises\n",
    "ax1.grid(True, linestyle='--', linewidth=0.5, color='gray')\n",
    "\n",
    "# Mostrar el gráfico\n",
    "plt.show()"
   ]
  },
  {
   "cell_type": "code",
   "execution_count": null,
   "id": "b642b03a",
   "metadata": {},
   "outputs": [],
   "source": [
    "# Crear el gráfico\n",
    "fig, ax1 = plt.subplots(figsize=(20, 12))\n",
    "\n",
    "# Calcular las posiciones de las barras en el gráfico de barras\n",
    "bar_positions = np.linspace(0, len(df_flattened) - 1, len(df_total_general))\n",
    "\n",
    "# Gráfico de barras para los totales anuales\n",
    "ax1.bar(bar_positions, df_total_general['Total'], width=12, alpha=0.6, color='g', align='edge')\n",
    "\n",
    "# Crear un segundo eje y para el gráfico de líneas\n",
    "ax2 = ax1.twinx()\n",
    "ax2.plot(df_flattened['Total'], color='b')\n",
    "\n",
    "# Establecer explícitamente los límites del eje x para ambos gráficos\n",
    "ax1.set_xlim(0, len(df_flattened))\n",
    "ax2.set_xlim(0, len(df_flattened))\n",
    "\n",
    "# Añadir títulos y etiquetas\n",
    "ax1.set_title('Valores de la columna \"Total\" para la \"Entidad Federativa: Total General\"')\n",
    "ax1.set_xlabel('Año')\n",
    "ax1.set_ylabel('Total Anual', color='g')\n",
    "ax2.set_ylabel('Total Mensual', color='b')\n",
    "\n",
    "# Asegurarse de que todas las etiquetas de los años se muestren en el eje x\n",
    "ax1.set_xticks(bar_positions + 6)  # Ajustar la posición para que se alinee con el centro de las barras\n",
    "ax1.set_xticklabels(df_total_general['Año'].astype(str).tolist())\n",
    "\n",
    "# Agregar un fondo de cuadrícula con líneas punteadas grises\n",
    "ax1.grid(True, linestyle='--', linewidth=0.5, color='gray')\n",
    "\n",
    "# Mostrar el gráfico\n",
    "plt.show()"
   ]
  },
  {
   "cell_type": "markdown",
   "id": "0ad91c27",
   "metadata": {},
   "source": [
    "#### 3. Total de eventos por REGION/NACIONALIDAD\n",
    "\n",
    "1: subdf_regiones\n",
    "\n",
    "    años[2007-2023]\n",
    "    \n",
    "    regiones = [America del Norte, America Central,Islas del Caribe, America del Sur,Europa, Asia, Oceania, Africa]\n",
    "    \n",
    "2: subdf_regiones_total (treemap, barras horizontales)\n",
    "\n",
    "    Sumar \"Total\" de todos los \"año\" por \"Continente/ país de nacionalidad\"\n",
    "    \n",
    "3: subdf_paises_total (de nacionalidades relevantes en el tiempo)"
   ]
  },
  {
   "cell_type": "code",
   "execution_count": null,
   "id": "9c2cc7b3",
   "metadata": {},
   "outputs": [],
   "source": [
    "subdf_regiones = bd_tw_nacionalidad.loc[\n",
    "    (bd_tw_nacionalidad['Año'] >= 2013) & \n",
    "    (bd_tw_nacionalidad['Año'] <= 2023) & \n",
    "    (bd_tw_nacionalidad['Continente/ país de nacionalidad'].isin(['America Del Norte', 'America Central', 'Islas Del Caribe', 'America Del Sur', 'Europa', 'Asia', 'Oceania', 'Africa']))\n",
    "]"
   ]
  },
  {
   "cell_type": "code",
   "execution_count": null,
   "id": "6db210fc",
   "metadata": {},
   "outputs": [],
   "source": [
    "subdf_regiones.head(3)"
   ]
  },
  {
   "cell_type": "code",
   "execution_count": null,
   "id": "eb61ded0",
   "metadata": {},
   "outputs": [],
   "source": [
    "# Agrupar por 'Continente/ país de nacionalidad' y sumar 'Total' para cada grupo\n",
    "subdf_regiones_total = subdf_regiones.groupby('Continente/ país de nacionalidad')['Total'].sum().reset_index()\n",
    "\n",
    "# Calcular el total general\n",
    "total_general = subdf_regiones_total['Total'].sum()\n",
    "\n",
    "# Calcular el porcentaje del total para cada fila\n",
    "subdf_regiones_total['Porcentaje'] = (subdf_regiones_total['Total'] / total_general) * 100\n",
    "\n",
    "# Ordenar el DataFrame por 'Porcentaje' en orden descendente\n",
    "subdf_regiones_total = subdf_regiones_total.sort_values('Porcentaje', ascending=False)\n",
    "\n",
    "#subdf_regiones_total.head(10)"
   ]
  },
  {
   "cell_type": "markdown",
   "id": "9331579b",
   "metadata": {},
   "source": [
    "##### 2: subdf_regiones_total (treemap, barras horizontales)"
   ]
  },
  {
   "cell_type": "code",
   "execution_count": null,
   "id": "33d0fb2e",
   "metadata": {},
   "outputs": [],
   "source": [
    "# Calcular el porcentaje del total\n",
    "total_sum = subdf_regiones_total['Total'].sum()\n",
    "subdf_regiones_total['Porcentaje'] = (subdf_regiones_total['Total'] / total_sum) * 100\n",
    "\n",
    "\n",
    "# Formatear la columna 'Porcentaje' a dos decimales\n",
    "subdf_regiones_total['Porcentaje Formateado'] = subdf_regiones_total['Porcentaje'].apply(lambda x: '{:.2f}%'.format(x))\n",
    "\n",
    "\n",
    "# Crear el treemap\n",
    "fig = px.treemap(subdf_regiones_total, \n",
    "                 path=['Continente/ país de nacionalidad'], \n",
    "                 values='Porcentaje',\n",
    "                 #title='% de Eventos de personas en situación migratoria irregular en México, según Región/ Continente 2008-2023',\n",
    "                 color_discrete_sequence=px.colors.qualitative.Pastel1)\n",
    "\n",
    "# Añadir porcentajes a las etiquetas\n",
    "fig.data[0].textinfo = 'label+percent entry'\n",
    "\n",
    "# Modificar el tamaño de la visualización\n",
    "fig.update_layout(width=1000, height=600)\n",
    "\n",
    "# Añadir anotación al pie del gráfico\n",
    "fig.add_annotation(\n",
    "    x=0.95,\n",
    "    y=-0.06,\n",
    "    xref=\"paper\",\n",
    "    yref=\"paper\",\n",
    "    text=\"*Europa 0.16%\",\n",
    "    showarrow=False,\n",
    "    font=dict(\n",
    "        size=10,\n",
    "        color=\"black\"\n",
    "    )\n",
    ")\n",
    "\n",
    "# Mostrar el gráfico\n",
    "fig.show()\n",
    "\n",
    "\n",
    "#hacerlo a tres digitos"
   ]
  },
  {
   "cell_type": "code",
   "execution_count": null,
   "id": "c13e58e3",
   "metadata": {},
   "outputs": [],
   "source": [
    "# Create the bar plot\n",
    "plt.figure(figsize=(12, 8))\n",
    "barplot = sns.barplot(x='Porcentaje', y='Continente/ país de nacionalidad', data=subdf_regiones_total, palette='Pastel1')\n",
    "\n",
    "# Add a transparent blue background\n",
    "barplot.set_facecolor((0.2, 0.4, 0.6, 0.1))  # RGBA color, where A is the alpha (transparency)\n",
    "\n",
    "# Add a gray grid\n",
    "plt.grid(True, linestyle='--', linewidth=0.5, color='gray')\n",
    "\n",
    "# Add text annotations for showing the percentage at the end of each bar\n",
    "for p in barplot.patches:\n",
    "    width = p.get_width()\n",
    "    plt.text(width + 0.2,  # x position\n",
    "             p.get_y() + p.get_height() / 2,  # y position\n",
    "             '{:1.3f}%'.format(width),  # label with 3 decimal places\n",
    "             va='center')  # vertical alignment\n",
    "\n",
    "# Add titles and labels\n",
    "#plt.title('% de Eventos de personas en situación migratoria irregular en México, según Región/ Continente 2008-2023')\n",
    "plt.xlabel('Porcentaje del Total')\n",
    "plt.ylabel('Región/ Continente')\n",
    "\n",
    "# Remove the x-axis labels\n",
    "plt.xticks([])\n",
    "\n",
    "# Show the plot\n",
    "plt.show()\n"
   ]
  },
  {
   "cell_type": "markdown",
   "id": "acbce4df",
   "metadata": {},
   "source": [
    "### 3: Nacionalidades relevantes en el tiempo\n"
   ]
  },
  {
   "cell_type": "markdown",
   "id": "6fab2035",
   "metadata": {},
   "source": [
    "##### Nos quedamos unicamente con paises, ademas de ASIA Y AFRICA"
   ]
  },
  {
   "cell_type": "code",
   "execution_count": null,
   "id": "59f311e5",
   "metadata": {},
   "outputs": [],
   "source": [
    "# Lista de categorías a eliminar que contiene el total y los totales por continente que no vamos a usar\n",
    "categorias_a_eliminar = ['Total General',\n",
    "                         'America',\n",
    "                         'America Del Norte',\n",
    "                         'America Central',\n",
    "                         'Islas Del Caribe',\n",
    "                         'America Del Sur',\n",
    "                         'Europa',\n",
    "                         'Oceania']#'Apatridas','Otros','Asia','Africa',]\n",
    "\n",
    "#Nota: todos los continentes ya estaban sumados en las bd originales, por lo que los paises remanentes tienen los datos correctos"
   ]
  },
  {
   "cell_type": "markdown",
   "id": "c3d6a8dd",
   "metadata": {},
   "source": [
    "##### Tenemos que hacer una eliminacion manual para incluir Asia y Africa en nuestro visual\n",
    "    Recordamos que ya estan las categorias 'asia' y 'africa' en la bd original, solo hay que quitar los paises para que no entren en el porcentaje.\n",
    "    \n",
    "    \n"
   ]
  },
  {
   "cell_type": "code",
   "execution_count": null,
   "id": "66f67f71",
   "metadata": {},
   "outputs": [],
   "source": [
    "asia = ['Afganistan', 'Arabia Saudita', 'Armenia', 'Azerbaiyan', 'Bangladesh', 'Butan', 'China', \n",
    "        'Corea del Sur', 'Filipinas', 'Georgia', 'India', 'Indonesia', 'Irak', 'Iran', 'Israel', \n",
    "        'Japon', 'Jordania', 'Kazajistán', 'Kirguistan', 'Kuwait', 'Libano', 'Malasia', 'Myanmar', \n",
    "        'Mongolia', 'Nepal', 'Pakistan', 'Palestina', 'Singapur', 'Siria', 'Sri Lanka', 'Taiwan', \n",
    "        'Tayikistan', 'Turkmenistan', 'Turquia', 'Uzbekistan', 'Vietnam', 'Yemen', 'Hong Kong', \n",
    "        'Tailandia', 'Corea del Norte', 'Laos']\n",
    "\n",
    "africa = ['Angola', 'Argelia', 'Benin', 'Burkina Faso', 'Burundi', 'Cabo Verde', 'Camerun', \n",
    "          'República Centroafricana', 'Chad', 'República Democrática del Congo', 'Costa de Marfil', \n",
    "          'Djibouti', 'Egipto', 'Eritrea', 'Etiopia', 'Gabon', 'Gambia', 'Ghana', 'Guinea', \n",
    "          'Guinea-Bisáu', 'Guinea Ecuatorial', 'Kenia', 'Liberia', 'Libia', 'Mali', 'Marruecos', \n",
    "          'Mauritania', 'Mozambique', 'Namibia', 'Niger', 'Nigeria', 'Ruanda', 'Santo Tomé y Príncipe', \n",
    "          'Senegal', 'Sierra Leona', 'Somalia', 'Sudáfrica', 'Sudan', 'Tanzania', 'Togo', 'Tunez', \n",
    "          'Uganda', 'Zambia', 'Zimbabwe', 'Malaui', 'Madagascar', 'Camboya', 'Lesoto', 'Mauricio', \n",
    "          'República del Congo', 'Sahara Occidental', 'Timor Oriental', 'Tonga', 'Botsuana', \n",
    "          'Dominica', 'Santa Lucia', 'Emiratos Arabes Unidos', 'Guadalupe Francia', 'Islas Turcas y Caicos']\n",
    "\n",
    "# Eliminar filas que contienen estos paises\n",
    "\n",
    "paises_eliminar = asia + africa + categorias_a_eliminar\n",
    "\n",
    "# Eliminar filas que contienen estos países\n",
    "bd_tw_paises = bd_tw_nacionalidad.loc[~bd_tw_nacionalidad['Continente/ país de nacionalidad'].isin(paises_eliminar)]\n"
   ]
  },
  {
   "cell_type": "code",
   "execution_count": null,
   "id": "c63d180d",
   "metadata": {},
   "outputs": [],
   "source": [
    "print(bd_tw_paises['Continente/ país de nacionalidad'].unique())\n",
    "\n",
    "#bd_tw_paises"
   ]
  },
  {
   "cell_type": "code",
   "execution_count": null,
   "id": "36c9d0cf",
   "metadata": {},
   "outputs": [],
   "source": [
    "suma_totalbd_tw_paises = bd_tw_paises['Total'].sum()\n",
    "print(suma_totalbd_tw_paises)\n"
   ]
  },
  {
   "cell_type": "markdown",
   "id": "d213dd4b",
   "metadata": {},
   "source": [
    "#### Creamos df: regiones_top\n",
    "    -Incluyen==['Guatemala', 'Honduras', 'El Salvador', 'Venezuela', 'Cuba', 'Nicaragua', 'Asia', 'Africa', 'Haiti'] + 'Otros'\n",
    "\n",
    "    ## Si necesitamos seleccionar periodos ( #Año - #Año)\n"
   ]
  },
  {
   "cell_type": "code",
   "execution_count": null,
   "id": "c4e0a8bd",
   "metadata": {},
   "outputs": [],
   "source": [
    "#Filtrar Años de interes\n",
    "bd_tw_paises1323 = bd_tw_paises[(bd_tw_paises['Año'] >= 2013) & (bd_tw_paises['Año'] <= 2022)]"
   ]
  },
  {
   "cell_type": "code",
   "execution_count": null,
   "id": "30dc5a65",
   "metadata": {},
   "outputs": [],
   "source": [
    "suma_totalbd_tw_paises1323 = bd_tw_paises1323['Total'].sum()\n",
    "print(suma_totalbd_tw_paises1323)"
   ]
  },
  {
   "cell_type": "markdown",
   "id": "d56859e4",
   "metadata": {},
   "source": [
    "    ## Hay que agregar una categoria \"otros\".\n",
    "    ### Para esto boy a crear un subdataframe"
   ]
  },
  {
   "cell_type": "code",
   "execution_count": null,
   "id": "29443e3b",
   "metadata": {},
   "outputs": [],
   "source": [
    "# Crear una copia del DataFrame original\n",
    "df_copy = bd_tw_paises1323.copy()\n",
    "\n",
    "# Definir las categorías deseadas\n",
    "categorias_deseadas = ['Guatemala', 'Honduras', 'El Salvador', 'Venezuela', 'Cuba', 'Nicaragua', 'Asia', 'Africa', 'Haiti']\n",
    "\n",
    "# Modificar la columna \"Continente/ país de nacionalidad\" para agrupar las categorías no deseadas en \"Otros\"\n",
    "df_copy['Continente/ país de nacionalidad'] = df_copy['Continente/ país de nacionalidad'].apply(lambda x: x if x in categorias_deseadas else 'Otros')\n",
    "\n",
    "# Agrupar y sumar los datos por \"Continente/ país de nacionalidad\" y \"Año\"\n",
    "columnas_meses_total = [\"Enero\", \"Febrero\", \"Marzo\", \"Abril\", \"Mayo\", \"Junio\", \"Julio\", \"Agosto\", \"Septiembre\", \"Octubre\", \"Noviembre\", \"Diciembre\", \"Total\"]\n",
    "regiones = df_copy.groupby(['Continente/ país de nacionalidad', 'Año'])[columnas_meses_total].sum().reset_index()\n",
    "\n",
    "# Ordenar el resultado por \"Año\"\n",
    "regiones = regiones.sort_values(by='Año')\n",
    "\n",
    "# Ordenar el resultado por \"Año\" y resetear el índice\n",
    "regiones = regiones.sort_values(by='Año').reset_index(drop=True)"
   ]
  },
  {
   "cell_type": "code",
   "execution_count": null,
   "id": "98ed26da",
   "metadata": {},
   "outputs": [],
   "source": [
    "suma_totalregiones = regiones['Total'].sum()\n",
    "print(suma_totalregiones)"
   ]
  },
  {
   "cell_type": "code",
   "execution_count": null,
   "id": "a027da97",
   "metadata": {},
   "outputs": [],
   "source": [
    "regiones.head(20)"
   ]
  },
  {
   "cell_type": "markdown",
   "id": "edb2b1e2",
   "metadata": {},
   "source": [
    "        ## Creamos un subdataframe \"regiones_top\" que incluya columna % porcentajes"
   ]
  },
  {
   "cell_type": "code",
   "execution_count": null,
   "id": "10ac8cd5",
   "metadata": {},
   "outputs": [],
   "source": [
    "# Agrupar por 'Continente/ país de nacionalidad' y sumar 'Total' para cada grupo\n",
    "regiones_top = regiones.groupby('Continente/ país de nacionalidad')['Total'].sum().reset_index()\n"
   ]
  },
  {
   "cell_type": "code",
   "execution_count": null,
   "id": "8ef180e9",
   "metadata": {},
   "outputs": [],
   "source": [
    "# Calcular el total general\n",
    "total_general1 = regiones_top['Total'].sum()\n",
    "\n",
    "# Calcular el porcentaje del total para cada fila\n",
    "regiones_top['Porcentaje'] = (regiones_top['Total'] / total_general1) * 100"
   ]
  },
  {
   "cell_type": "code",
   "execution_count": null,
   "id": "451e07f6",
   "metadata": {},
   "outputs": [],
   "source": [
    "# Ordenar el DataFrame por 'Porcentaje' en orden descendente\n",
    "regiones_top = regiones_top.sort_values('Porcentaje', ascending=False)\n",
    "\n",
    "regiones_top = regiones_top.reset_index(drop=True)"
   ]
  },
  {
   "cell_type": "code",
   "execution_count": null,
   "id": "0636abfc",
   "metadata": {},
   "outputs": [],
   "source": [
    "regiones_top"
   ]
  },
  {
   "cell_type": "markdown",
   "id": "3f762ad2",
   "metadata": {},
   "source": [
    "    ## Hay que agregar una categoria \"otros\"\n",
    "    \n",
    "    ## Graficar\n",
    "\n"
   ]
  },
  {
   "cell_type": "code",
   "execution_count": null,
   "id": "80780dda",
   "metadata": {},
   "outputs": [],
   "source": [
    "# Lista de países/regiones a incluir\n",
    "#paises_incluir = ['Guatemala', 'Honduras', 'El Salvador', 'Venezuela', 'Cuba', 'Nicaragua', 'Asia', 'Africa', 'Haiti']\n",
    "\n",
    "# Filtrar el DataFrame para quedarte solo con las filas de los países/regiones que deseas visualizar\n",
    "#paises_top_filtrado = paises_top[paises_top['Continente/ país de nacionalidad'].isin(paises_incluir)]\n",
    "\n",
    "# Crear el gráfico de barras\n",
    "plt.figure(figsize=(12, 8))\n",
    "barplot = sns.barplot(x=regiones_top['Porcentaje'], y='Continente/ país de nacionalidad', data=regiones_top, palette='Pastel1')\n",
    "\n",
    "# Añadir un fondo azul transparente\n",
    "barplot.set_facecolor((0.2, 0.4, 0.6, 0.1))  # Color RGBA, donde A es el alfa (transparencia)\n",
    "\n",
    "# Añadir una cuadrícula gris\n",
    "plt.grid(True, linestyle='--', linewidth=0.5, color='gray')\n",
    "\n",
    "# Añadir anotaciones de texto para mostrar el porcentaje al final de cada barra\n",
    "for p in barplot.patches:\n",
    "    width = p.get_width()\n",
    "    plt.text(width + 0.2,  # posición x\n",
    "             p.get_y() + p.get_height() / 2,  # posición y\n",
    "             '{:1.2f}%'.format(width),  # etiqueta con 2 decimales\n",
    "             va='center')  # alineación vertical\n",
    "\n",
    "# Añadir títulos y etiquetas\n",
    "#plt.title('% de Eventos de personas en situación migratoria irregular en México, según Región/ Continente 2008-2023')\n",
    "#plt.xlabel('Porcentaje del Total')\n",
    "plt.ylabel('Procedencia')\n",
    "\n",
    "# Eliminar las etiquetas del eje x\n",
    "plt.xticks([])\n",
    "\n",
    "# Mostrar el gráfico\n",
    "plt.show()\n"
   ]
  },
  {
   "cell_type": "code",
   "execution_count": null,
   "id": "09286e95",
   "metadata": {},
   "outputs": [],
   "source": [
    "import plotly.express as px\n",
    "\n",
    "# Asumiendo que regiones_top es tu DataFrame y ya contiene la columna 'Porcentaje'\n",
    "\n",
    "# Formatear la columna 'Porcentaje' a dos decimales\n",
    "regiones_top['Porcentaje Formateado'] = regiones_top['Porcentaje'].apply(lambda x: '{:.2f}%'.format(x))\n",
    "\n",
    "# Crear el treemap\n",
    "fig = px.treemap(regiones_top, \n",
    "                 path=['Continente/ país de nacionalidad'], \n",
    "                 values='Porcentaje',\n",
    "                 color_discrete_sequence=px.colors.qualitative.Pastel1)\n",
    "\n",
    "# Añadir porcentajes a las etiquetas\n",
    "fig.data[0].textinfo = 'label+percent entry'\n",
    "\n",
    "# Agregar líneas delimitantes a cada recuadro\n",
    "fig.update_traces(marker=dict(line=dict(width=2, color='DarkSlateGrey')))\n",
    "\n",
    "# Modificar el tamaño de la visualización\n",
    "fig.update_layout(width=1000, height=600)\n",
    "\n",
    "# Mostrar el gráfico\n",
    "fig.show()\n",
    "\n"
   ]
  },
  {
   "cell_type": "code",
   "execution_count": null,
   "id": "785ac445",
   "metadata": {},
   "outputs": [],
   "source": [
    "# Create the bar plot\n",
    "plt.figure(figsize=(12, 8))\n",
    "barplot = sns.barplot(x='Total', y='Continente/ país de nacionalidad', data = regiones_top, palette='Pastel1')\n",
    "\n",
    "# Add a transparent blue background\n",
    "barplot.set_facecolor((0.2, 0.4, 0.6, 0.1))  # RGBA color, where A is the alpha (transparency)\n",
    "\n",
    "# Add a gray grid\n",
    "plt.grid(True, linestyle='--', linewidth=0.5, color='gray')\n",
    "\n",
    "# Add text annotations for showing the percentage at the end of each bar\n",
    "for p in barplot.patches:\n",
    "    width = p.get_width()\n",
    "    plt.text(width + 0.2,  # x position\n",
    "             p.get_y() + p.get_height() / 2,  # y position\n",
    "             '{:1}'.format(width),  # label with 3 decimal places\n",
    "             va='center')  # vertical alignment\n",
    "\n",
    "# Add titles and labels\n",
    "#plt.title('% de Eventos de personas en situación migratoria irregular en México, según Región/ Continente 2008-2023')\n",
    "#plt.xlabel('Porcentaje del Total')\n",
    "plt.ylabel('Procedencia')\n",
    "\n",
    "# Remove the x-axis labels\n",
    "plt.xticks([])\n",
    "\n",
    "# Show the plot\n",
    "plt.show()"
   ]
  },
  {
   "cell_type": "markdown",
   "id": "63353241",
   "metadata": {},
   "source": [
    "##### Lineplot:  eventos/año y %eventos/año  (paises top)"
   ]
  },
  {
   "cell_type": "code",
   "execution_count": null,
   "id": "93a48241",
   "metadata": {},
   "outputs": [],
   "source": [
    "#Filtrar Años de interes\n",
    "#bd_tw_paises0823 = bd_tw_paises[(bd_tw_paises['Año'] >= 2008) & (bd_tw_paises['Año'] <= 2023)]"
   ]
  },
  {
   "cell_type": "code",
   "execution_count": null,
   "id": "dbeb827c",
   "metadata": {},
   "outputs": [],
   "source": [
    "# Lista de países para filtrar\n",
    "paises_filtrar = ['Guatemala', 'Honduras', 'El Salvador', 'Venezuela', 'Cuba', 'Nicaragua', 'Asia', 'Haiti', 'Africa']\n",
    "\n",
    "# Crear el subconjunto del DataFrame\n",
    "subset_eventosañopais = bd_tw_paises1323.loc[bd_tw_paises['Continente/ país de nacionalidad'].isin(paises_filtrar)]\n"
   ]
  },
  {
   "cell_type": "code",
   "execution_count": null,
   "id": "0c68b3e5",
   "metadata": {},
   "outputs": [],
   "source": [
    "subset_eventosañopais.tail(3)"
   ]
  },
  {
   "cell_type": "markdown",
   "id": "395d2396",
   "metadata": {},
   "source": [
    "###### Necesitamos derretir las columnas en un formato de fecha para graficar"
   ]
  },
  {
   "cell_type": "code",
   "execution_count": null,
   "id": "dc058fc1",
   "metadata": {},
   "outputs": [],
   "source": [
    "# Derretir el DataFrame para que cada fila represente un único mes y año para un país\n",
    "df_melted = pd.melt(subset_eventosañopais, id_vars=['Continente/ país de nacionalidad', 'Año'], \n",
    "                    value_vars=['Enero', 'Febrero', 'Marzo', 'Abril', 'Mayo', 'Junio', \n",
    "                                'Julio', 'Agosto', 'Septiembre', 'Octubre', 'Noviembre', 'Diciembre'], \n",
    "                    var_name='Mes', value_name='Total')\n",
    "\n",
    "# Mapear los nombres de los meses en español a inglés\n",
    "meses_ingles = {'Enero': 'January', 'Febrero': 'February', 'Marzo': 'March', 'Abril': 'April', \n",
    "                'Mayo': 'May', 'Junio': 'June', 'Julio': 'July', 'Agosto': 'August', \n",
    "                'Septiembre': 'September', 'Octubre': 'October', 'Noviembre': 'November', 'Diciembre': 'December'}\n",
    "df_melted['Mes'] = df_melted['Mes'].map(meses_ingles)\n",
    "\n",
    "# Crear una nueva columna 'Fecha' que combine 'Año' y 'Mes'\n",
    "df_melted['Fecha'] = df_melted['Mes'].astype(str) + '-' + df_melted['Año'].astype(str)\n",
    "df_melted['Fecha'] = pd.to_datetime(df_melted['Fecha'], format='%B-%Y')\n",
    "\n",
    "# Ordenar df_melted por 'Fecha'\n",
    "df_melted = df_melted.sort_values('Fecha')\n"
   ]
  },
  {
   "cell_type": "code",
   "execution_count": null,
   "id": "ecd12196",
   "metadata": {},
   "outputs": [],
   "source": [
    "# Dar formato 'DT' a la columna Año para las etiquetas\n",
    "df_melted['Año'] = df_melted['Fecha'].dt.year"
   ]
  },
  {
   "cell_type": "code",
   "execution_count": null,
   "id": "47de69bc",
   "metadata": {},
   "outputs": [],
   "source": [
    "df_melted.head(5)"
   ]
  },
  {
   "cell_type": "code",
   "execution_count": null,
   "id": "090f067a",
   "metadata": {},
   "outputs": [],
   "source": [
    "# Obtener el número de categorías únicas en la columna 'Continente/ país de nacionalidad'\n",
    "num_categorias = df_melted['Continente/ país de nacionalidad'].nunique()\n",
    "\n",
    "# Obtener una paleta de colores con al menos tantos colores como categorías únicas\n",
    "colores = sns.color_palette('dark', n_colors=num_categorias)\n",
    "\n",
    "# Modificar la intensidad de cada color\n",
    "colores_modificados = [(r, g, b, 0.5) for r, g, b in colores]  # 0.5 es la intensidad (alpha)\n",
    "\n",
    "# Crear el gráfico de líneas\n",
    "plt.figure(figsize=(15, 9))\n",
    "sns.lineplot(data=df_melted, x='Fecha', y='Total', hue='Continente/ país de nacionalidad', palette=colores_modificados)\n",
    "\n",
    "# Añadir títulos y etiquetas\n",
    "plt.ylabel('Numero de eventos')\n",
    "plt.xlabel('')  # Eliminar el título del eje x\n",
    "\n",
    "# Cambiar el título del cuadro de leyenda\n",
    "leg = plt.gca().get_legend()\n",
    "leg.set_title('Procedencia')\n",
    "\n",
    "# Obtener los valores finales de cada línea y añadir las etiquetas\n",
    "for cont_pais in df_melted['Continente/ país de nacionalidad'].unique():\n",
    "    df_sub = df_melted[df_melted['Continente/ país de nacionalidad'] == cont_pais]\n",
    "    if not df_sub.empty:\n",
    "        ultimo_punto = df_sub.iloc[-1]\n",
    "        plt.text(ultimo_punto['Fecha'], ultimo_punto['Total'], cont_pais, fontsize=6)\n",
    "\n",
    "# Mostrar el gráfico\n",
    "plt.show()\n"
   ]
  },
  {
   "cell_type": "code",
   "execution_count": null,
   "id": "8c97ca05",
   "metadata": {},
   "outputs": [],
   "source": [
    "#Algo Adicional podria ser poner una tabla comparativa con los totales y las posiciones de cada pais en 2013, 2018 y 2022-23"
   ]
  },
  {
   "cell_type": "markdown",
   "id": "e725f251",
   "metadata": {},
   "source": [
    "##### 4(extra para INM): Lineplot de distribucion encimado"
   ]
  },
  {
   "cell_type": "code",
   "execution_count": null,
   "id": "21626094",
   "metadata": {},
   "outputs": [],
   "source": []
  },
  {
   "cell_type": "code",
   "execution_count": null,
   "id": "2baf3992",
   "metadata": {},
   "outputs": [],
   "source": [
    "#El tema con esta es que hay que hacer una distincion entre presentados y no presentados por que es una tabla encimada\n",
    "#Una manera para hacer esto podria ser hacer una dataframe para cada condicion y graficar en el mismo visual.\n"
   ]
  },
  {
   "cell_type": "code",
   "execution_count": null,
   "id": "3ebf4233",
   "metadata": {},
   "outputs": [],
   "source": [
    "# Visualizar la paleta de colores 'pastel'\n",
    "sns.palplot(sns.color_palette(\"dark\"))"
   ]
  },
  {
   "cell_type": "code",
   "execution_count": null,
   "id": "7c66f0b7",
   "metadata": {},
   "outputs": [],
   "source": []
  }
 ],
 "metadata": {
  "kernelspec": {
   "display_name": "Python 3 (ipykernel)",
   "language": "python",
   "name": "python3"
  },
  "language_info": {
   "codemirror_mode": {
    "name": "ipython",
    "version": 3
   },
   "file_extension": ".py",
   "mimetype": "text/x-python",
   "name": "python",
   "nbconvert_exporter": "python",
   "pygments_lexer": "ipython3",
   "version": "3.9.13"
  }
 },
 "nbformat": 4,
 "nbformat_minor": 5
}
