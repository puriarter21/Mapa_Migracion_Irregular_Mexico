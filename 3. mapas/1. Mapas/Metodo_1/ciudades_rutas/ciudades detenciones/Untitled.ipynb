{
 "cells": [
  {
   "cell_type": "code",
   "execution_count": 1,
   "id": "9d15383b",
   "metadata": {},
   "outputs": [],
   "source": [
    "import pandas as pd\n",
    "from geopy.geocoders import Photon\n",
    "from geopy.geocoders import Nominatim\n",
    "from unidecode import unidecode\n",
    "import unidecode"
   ]
  },
  {
   "cell_type": "code",
   "execution_count": 2,
   "id": "3a145edc",
   "metadata": {},
   "outputs": [],
   "source": [
    "# Cargar el archivo CSV\n",
    "datos_csv = pd.read_csv('/Users/pablouriarte/Documents/1. Expediente Tec de Monterrey/1.Tesis/Mapa_Migracion_Irregular_Mexico/3. mapas/1. Mapas/Metodo_1/ciudades_rutas/ciudades detenciones/ciudades_detenciones.csv')\n"
   ]
  },
  {
   "cell_type": "code",
   "execution_count": 5,
   "id": "0b06154a",
   "metadata": {},
   "outputs": [
    {
     "name": "stdout",
     "output_type": "stream",
     "text": [
      "                            ciudad detenciones\n",
      "0                   Aguascalientes         559\n",
      "1             Aguascalientes, Ags.         423\n",
      "2                      Cosío, Ags.          98\n",
      "3                Jesús María, Ags.          20\n",
      "4  San Francisco de los Romo, Ags.          18\n"
     ]
    }
   ],
   "source": [
    "# Cambiar los nombres de las columnas 'Unnamed: 0' y 'Unnamed: 1'\n",
    "datos_csv = datos_csv.rename(columns={'Unnamed: 0': 'ciudad', 'Unnamed: 1': 'detenciones'})\n",
    "\n",
    "datos_csv = datos_csv.dropna()\n",
    "\n",
    "# Verificar los cambios mostrando las primeras filas del DataFrame\n",
    "print(datos_csv.head())\n"
   ]
  },
  {
   "cell_type": "code",
   "execution_count": 9,
   "id": "697de399",
   "metadata": {},
   "outputs": [
    {
     "name": "stdout",
     "output_type": "stream",
     "text": [
      "                             ciudad detenciones           estado\n",
      "0                    Aguascalientes         559   Aguascalientes\n",
      "1              Aguascalientes, Ags.         423   Aguascalientes\n",
      "2                       Cosío, Ags.          98   Aguascalientes\n",
      "3                 Jesús María, Ags.          20   Aguascalientes\n",
      "4   San Francisco de los Romo, Ags.          18   Aguascalientes\n",
      "6                   Baja California      33 939  Baja California\n",
      "7                      Ensenada, BC          29  Baja California\n",
      "8                      Mexicali, BC       5 706  Baja California\n",
      "9            Playas de Rosarito, BC          38  Baja California\n",
      "10                   San Felipe, BC           4  Baja California\n"
     ]
    }
   ],
   "source": [
    "# Inicializamos la columna 'estado' con NaN\n",
    "datos_csv['estado'] = pd.NA\n",
    "\n",
    "# Almacenamos temporalmente la etiqueta de estado actual\n",
    "etiqueta_estado_actual = pd.NA\n",
    "\n",
    "# Paso 2: Asignar la etiqueta de estado a la nueva columna 'estado'\n",
    "for idx, tiene_etiqueta in es_etiqueta_estado.items():\n",
    "    if tiene_etiqueta:  # Si la fila actual es una etiqueta de estado\n",
    "        etiqueta_estado_actual = datos_csv.at[idx, 'ciudad']  # Actualiza la etiqueta de estado\n",
    "    datos_csv.at[idx, 'estado'] = etiqueta_estado_actual  # Asigna la etiqueta de estado actual a la columna 'estado'\n",
    "\n",
    "# Opcionalmente, puedes querer limpiar los valores de 'estado' para quitar la parte ', Ags.' o similar\n",
    "datos_csv['estado'] = datos_csv['estado'].str.replace(',.*', '', regex=True)\n",
    "\n",
    "# Verificación: Muestra las primeras filas para ver el resultado\n",
    "print(datos_csv.head(10))\n"
   ]
  },
  {
   "cell_type": "code",
   "execution_count": 38,
   "id": "7f979535",
   "metadata": {},
   "outputs": [],
   "source": [
    "# Crear un filtro para identificar filas donde 'ciudad' contiene ',' o '.'\n",
    "filtro = datos_csv['ciudad'].str.contains(',', regex=False) | datos_csv['ciudad'].str.contains('\\.', regex=True)\n",
    "\n",
    "# Aplicar el filtro para mantener solo las filas que cumplen con la condición\n",
    "datos_csv_filtrado = datos_csv[filtro]\n",
    "\n"
   ]
  },
  {
   "cell_type": "code",
   "execution_count": 39,
   "id": "15022c8e",
   "metadata": {},
   "outputs": [],
   "source": [
    "# Cambiar las etiquetas de 'Mexico' a 'Estado de Mexico' en la columna 'estado'\n",
    "datos_csv['estado'] = datos_csv['estado'].replace('Mexico', 'Estado de Mexico')"
   ]
  },
  {
   "cell_type": "code",
   "execution_count": 40,
   "id": "5b66e8ff",
   "metadata": {},
   "outputs": [
    {
     "name": "stdout",
     "output_type": "stream",
     "text": [
      "                                      ciudad          estado         ruta  \\\n",
      "0             Aguascalientes, Aguascalientes  Aguascalientes  Ruta Centro   \n",
      "1             Aguascalientes, Aguascalientes  Aguascalientes  Ruta Centro   \n",
      "2                      Cosio, Aguascalientes  Aguascalientes  Ruta Centro   \n",
      "3                Jesus Maria, Aguascalientes  Aguascalientes  Ruta Centro   \n",
      "4  San Francisco de los Romo, Aguascalientes  Aguascalientes  Ruta Centro   \n",
      "\n",
      "  detenciones  \n",
      "0         559  \n",
      "1         423  \n",
      "2          98  \n",
      "3          20  \n",
      "4          18  \n"
     ]
    }
   ],
   "source": [
    "# Primero, separa 'ciudad' por la coma y toma solo la parte antes de la coma\n",
    "datos_csv['ciudad'] = datos_csv['ciudad'].str.split(',').str[0]\n",
    "\n",
    "# Luego, concatena esa parte con el valor correspondiente de 'estado'\n",
    "datos_csv['ciudad'] = datos_csv['ciudad'] + ', ' + datos_csv['estado']\n",
    "\n",
    "# Verificación: Muestra las primeras filas para ver el resultado\n",
    "print(datos_csv.head())"
   ]
  },
  {
   "cell_type": "code",
   "execution_count": 41,
   "id": "3a893e5e",
   "metadata": {},
   "outputs": [
    {
     "data": {
      "text/plain": [
       "(421, 4)"
      ]
     },
     "execution_count": 41,
     "metadata": {},
     "output_type": "execute_result"
    }
   ],
   "source": [
    "datos_csv.shape"
   ]
  },
  {
   "cell_type": "code",
   "execution_count": 42,
   "id": "3cb8c5de",
   "metadata": {},
   "outputs": [
    {
     "name": "stdout",
     "output_type": "stream",
     "text": [
      "                                      ciudad          estado         ruta  \\\n",
      "0             Aguascalientes, Aguascalientes  Aguascalientes  Ruta Centro   \n",
      "1             Aguascalientes, Aguascalientes  Aguascalientes  Ruta Centro   \n",
      "2                      Cosio, Aguascalientes  Aguascalientes  Ruta Centro   \n",
      "3                Jesus Maria, Aguascalientes  Aguascalientes  Ruta Centro   \n",
      "4  San Francisco de los Romo, Aguascalientes  Aguascalientes  Ruta Centro   \n",
      "\n",
      "  detenciones  \n",
      "0         559  \n",
      "1         423  \n",
      "2          98  \n",
      "3          20  \n",
      "4          18  \n"
     ]
    }
   ],
   "source": [
    "import pandas as pd\n",
    "from unidecode import unidecode\n",
    "\n",
    "# Corrección en la importación de unidecode\n",
    "def quitar_acentos(valor):\n",
    "    if isinstance(valor, str):  # Solo aplica a cadenas de texto\n",
    "        return unidecode(valor)  # Uso correcto de unidecode\n",
    "    return valor\n",
    "\n",
    "# Aplicar la función quitar_acentos a todas las columnas del DataFrame\n",
    "for columna in datos_csv.columns:\n",
    "    datos_csv[columna] = datos_csv[columna].apply(quitar_acentos)\n",
    "\n",
    "# Verificación: Mostrar las primeras filas para asegurarse de que los acentos han sido quitados\n",
    "print(datos_csv.head())\n"
   ]
  },
  {
   "cell_type": "code",
   "execution_count": 43,
   "id": "032fea3f",
   "metadata": {},
   "outputs": [],
   "source": [
    "# Definir las listas de estados para cada ruta, asegurándose de que todas las entradas están correctamente formateadas como strings\n",
    "estados_ruta_golfo = ['Tabasco', 'Nuevo Leon', 'Veracruz', 'Tamaulipas']\n",
    "estados_ruta_pacifico = ['Guerrero', 'Michoacan', 'Jalisco', 'Nayarit', 'Sinaloa', 'Sonora', 'Baja California', 'Baja California Sur','Colima']\n",
    "estados_ruta_centro = ['San Luis Potosi','Estado de Mexico', 'Tlaxcala', 'Ciudad de Mexico', 'Puebla', 'Morelos', 'Hidalgo', 'Zacatecas', 'Durango', 'Chihuahua', 'Coahuila', 'Queretaro', 'Aguascalientes', 'Guanajuato']\n",
    "ruta_sur = ['Chiapas', 'Oaxaca', 'Tabasco', 'Campeche', 'Quintana Roo', 'Yucatan']\n",
    "\n",
    "# Actualizar la función para asignar la ruta basada en el estado\n",
    "def asignar_ruta(estado):\n",
    "    estado = estado.strip()  # Eliminar espacios en blanco al principio y al final\n",
    "    if estado in estados_ruta_golfo:\n",
    "        return 'Ruta del Golfo'\n",
    "    elif estado in estados_ruta_pacifico:\n",
    "        return 'Ruta del Pacifico'\n",
    "    elif estado in estados_ruta_centro:\n",
    "        return 'Ruta Centro'\n",
    "    elif estado in ruta_sur:\n",
    "        return 'Ruta Sur'\n",
    "    else:\n",
    "        return 'Ruta no identificada'  # Para estados que no coinciden con las listas\n",
    "\n",
    "# Aplicar la función al DataFrame para crear una nueva columna 'Ruta'\n",
    "datos_csv['ruta'] = datos_csv['estado'].apply(asignar_ruta)"
   ]
  },
  {
   "cell_type": "code",
   "execution_count": 44,
   "id": "9a0c61d5",
   "metadata": {},
   "outputs": [],
   "source": [
    "# Reordenar las columnas para colocar 'Estado' después de 'Ciudad'\n",
    "column_order = ['ciudad', 'estado', 'ruta','detenciones']\n",
    "\n",
    "# Aplicar el nuevo orden de columnas al DataFrame\n",
    "datos_csv = datos_csv[column_order]"
   ]
  },
  {
   "cell_type": "code",
   "execution_count": 46,
   "id": "23491835",
   "metadata": {},
   "outputs": [
    {
     "name": "stdout",
     "output_type": "stream",
     "text": [
      "['Ruta Centro' 'Ruta del Pacifico' 'Ruta Sur' 'Ruta del Golfo']\n"
     ]
    }
   ],
   "source": [
    "# Obtenemos los valores únicos de la columna 'ruta'\n",
    "valores_unicos_ruta = datos_csv['ruta'].unique()\n",
    "\n",
    "# Imprimimos los valores únicos\n",
    "print(valores_unicos_ruta)"
   ]
  },
  {
   "cell_type": "code",
   "execution_count": 49,
   "id": "c1c00bbb",
   "metadata": {},
   "outputs": [],
   "source": [
    "# Initialize the geolocator using OSM Nominatim\n",
    "geolocator = Photon(user_agent=\"measurement\", timeout=10)\n",
    "\n",
    "# Define a function to get latitude and longitude\n",
    "def get_lat_lon(address):\n",
    "    try:\n",
    "        location = geolocator.geocode(address)\n",
    "        if location:\n",
    "            return location.latitude, location.longitude\n",
    "        else:\n",
    "            return '', ''  # Return empty strings if location is not found\n",
    "    except AttributeError:\n",
    "        return '', ''\n",
    "\n",
    "# Apply the function to the 'City' column and split the results into 'Latitude' and 'Longitude' columns\n",
    "datos_csv[['latitud', 'longitud']] = datos_csv['ciudad'].apply(lambda x: pd.Series(get_lat_lon(x)))"
   ]
  },
  {
   "cell_type": "code",
   "execution_count": 50,
   "id": "70188463",
   "metadata": {},
   "outputs": [
    {
     "name": "stdout",
     "output_type": "stream",
     "text": [
      "                                       ciudad               estado  \\\n",
      "0              Aguascalientes, Aguascalientes       Aguascalientes   \n",
      "1              Aguascalientes, Aguascalientes       Aguascalientes   \n",
      "2                       Cosio, Aguascalientes       Aguascalientes   \n",
      "3                 Jesus Maria, Aguascalientes       Aguascalientes   \n",
      "4   San Francisco de los Romo, Aguascalientes       Aguascalientes   \n",
      "6            Baja California, Baja California      Baja California   \n",
      "7                   Ensenada, Baja California      Baja California   \n",
      "8                   Mexicali, Baja California      Baja California   \n",
      "9         Playas de Rosarito, Baja California      Baja California   \n",
      "10                San Felipe, Baja California      Baja California   \n",
      "11                    Tecate, Baja California      Baja California   \n",
      "12                   Tijuana, Baja California      Baja California   \n",
      "14   Baja California Sur, Baja California Sur  Baja California Sur   \n",
      "15                La Paz, Baja California Sur  Baja California Sur   \n",
      "16             Los Cabos, Baja California Sur  Baja California Sur   \n",
      "18                         Campeche, Campeche             Campeche   \n",
      "19                         Calakmul, Campeche             Campeche   \n",
      "20                          Calkini, Campeche             Campeche   \n",
      "21                         Campeche, Campeche             Campeche   \n",
      "22                           Carmen, Campeche             Campeche   \n",
      "\n",
      "                 ruta detenciones    latitud    longitud  \n",
      "0         Ruta Centro         559  22.000000 -102.500000  \n",
      "1         Ruta Centro         423  22.000000 -102.500000  \n",
      "2         Ruta Centro          98  22.370515 -102.312009  \n",
      "3         Ruta Centro          20  21.934556 -102.468452  \n",
      "4         Ruta Centro          18  22.074628 -102.270713  \n",
      "6   Ruta del Pacifico      33 939  30.033892 -115.142511  \n",
      "7   Ruta del Pacifico          29  31.865889 -116.602983  \n",
      "8   Ruta del Pacifico       5 706  32.640525 -115.474899  \n",
      "9   Ruta del Pacifico          38  32.258129 -116.873307  \n",
      "10  Ruta del Pacifico           4  31.026953 -114.839607  \n",
      "11  Ruta del Pacifico         594  32.565383 -116.629879  \n",
      "12  Ruta del Pacifico      27 568  32.531740 -117.019529  \n",
      "14  Ruta del Pacifico         404  25.581801 -111.570616  \n",
      "15  Ruta del Pacifico         342  24.161995 -110.315853  \n",
      "16  Ruta del Pacifico          62  23.271848 -109.689768  \n",
      "18           Ruta Sur       3 631  19.000000  -90.500000  \n",
      "19           Ruta Sur         194  18.107341  -89.808328  \n",
      "20           Ruta Sur           1  20.369512  -90.051078  \n",
      "21           Ruta Sur       1 754  19.000000  -90.500000  \n",
      "22           Ruta Sur         255  18.651739  -91.814920  \n"
     ]
    }
   ],
   "source": [
    "# Verificar los cambios mostrando las primeras filas del DataFrame filtrado\n",
    "print(datos_csv.head(20))"
   ]
  },
  {
   "cell_type": "code",
   "execution_count": 51,
   "id": "13ad1baf",
   "metadata": {},
   "outputs": [
    {
     "name": "stdout",
     "output_type": "stream",
     "text": [
      "El DataFrame ha sido guardado exitosamente en: /Users/pablouriarte/Documents/1. Expediente Tec de Monterrey/1.Tesis/Mapa_Migracion_Irregular_Mexico/3. mapas/1. Mapas/Metodo_1/ciudades_rutas/ciudades detenciones/ciudades_detenciones_1.csv\n"
     ]
    }
   ],
   "source": [
    "# Especifica la ruta donde deseas guardar el archivo CSV\n",
    "ruta_archivo_csv = '/Users/pablouriarte/Documents/1. Expediente Tec de Monterrey/1.Tesis/Mapa_Migracion_Irregular_Mexico/3. mapas/1. Mapas/Metodo_1/ciudades_rutas/ciudades detenciones/ciudades_detenciones_1.csv'\n",
    "\n",
    "# Guardar el DataFrame en el archivo CSV especificado\n",
    "datos_csv.to_csv(ruta_archivo_csv, index=False)\n",
    "\n",
    "print(f\"El DataFrame ha sido guardado exitosamente en: {ruta_archivo_csv}\")\n"
   ]
  },
  {
   "cell_type": "code",
   "execution_count": null,
   "id": "2db8b693",
   "metadata": {},
   "outputs": [],
   "source": []
  }
 ],
 "metadata": {
  "kernelspec": {
   "display_name": "Python 3 (ipykernel)",
   "language": "python",
   "name": "python3"
  },
  "language_info": {
   "codemirror_mode": {
    "name": "ipython",
    "version": 3
   },
   "file_extension": ".py",
   "mimetype": "text/x-python",
   "name": "python",
   "nbconvert_exporter": "python",
   "pygments_lexer": "ipython3",
   "version": "3.9.13"
  }
 },
 "nbformat": 4,
 "nbformat_minor": 5
}
