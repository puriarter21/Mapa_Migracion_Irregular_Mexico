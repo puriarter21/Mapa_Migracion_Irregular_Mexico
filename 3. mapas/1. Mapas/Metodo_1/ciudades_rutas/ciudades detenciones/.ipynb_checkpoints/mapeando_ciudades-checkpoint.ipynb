{
 "cells": [
  {
   "cell_type": "code",
   "execution_count": 1,
   "id": "9d15383b",
   "metadata": {},
   "outputs": [],
   "source": [
    "import pandas as pd\n",
    "from geopy.geocoders import Photon\n",
    "from geopy.geocoders import Nominatim\n",
    "from unidecode import unidecode\n",
    "import unidecode\n"
   ]
  },
  {
   "cell_type": "code",
   "execution_count": 2,
   "id": "3b4dc5ab",
   "metadata": {},
   "outputs": [],
   "source": [
    "import geopandas as gpd"
   ]
  },
  {
   "cell_type": "code",
   "execution_count": 3,
   "id": "2b221e26",
   "metadata": {},
   "outputs": [],
   "source": [
    "import numpy as np\n",
    "from shapely.geometry import Point, Polygon"
   ]
  },
  {
   "cell_type": "code",
   "execution_count": null,
   "id": "15ea464d",
   "metadata": {},
   "outputs": [],
   "source": [
    "pip install --upgrade --force-reinstall rtree\n"
   ]
  },
  {
   "cell_type": "code",
   "execution_count": null,
   "id": "06536c31",
   "metadata": {},
   "outputs": [],
   "source": [
    "!pip install geopandas\n"
   ]
  },
  {
   "cell_type": "code",
   "execution_count": null,
   "id": "547a0e42",
   "metadata": {},
   "outputs": [],
   "source": [
    "!pip install geopandas"
   ]
  },
  {
   "cell_type": "code",
   "execution_count": null,
   "id": "3a145edc",
   "metadata": {},
   "outputs": [],
   "source": [
    "# Cargar el archivo CSV\n",
    "datos_csv = pd.read_csv('/Users/pablouriarte/Documents/1. Expediente Tec de Monterrey/1.Tesis/Mapa_Migracion_Irregular_Mexico/3. mapas/1. Mapas/Metodo_1/ciudades_rutas/ciudades detenciones/ciudades_detenciones.csv')\n"
   ]
  },
  {
   "cell_type": "code",
   "execution_count": null,
   "id": "0b06154a",
   "metadata": {},
   "outputs": [],
   "source": [
    "# Cambiar los nombres de las columnas 'Unnamed: 0' y 'Unnamed: 1'\n",
    "datos_csv = datos_csv.rename(columns={'Unnamed: 0': 'ciudad', 'Unnamed: 1': 'detenciones'})\n",
    "\n",
    "datos_csv = datos_csv.dropna()\n",
    "\n",
    "# Verificar los cambios mostrando las primeras filas del DataFrame\n",
    "print(datos_csv.head())\n"
   ]
  },
  {
   "cell_type": "code",
   "execution_count": null,
   "id": "697de399",
   "metadata": {},
   "outputs": [],
   "source": [
    "# Inicializamos la columna 'estado' con NaN\n",
    "datos_csv['estado'] = pd.NA\n",
    "\n",
    "# Almacenamos temporalmente la etiqueta de estado actual\n",
    "etiqueta_estado_actual = pd.NA\n",
    "\n",
    "# Paso 2: Asignar la etiqueta de estado a la nueva columna 'estado'\n",
    "for idx, tiene_etiqueta in es_etiqueta_estado.items():\n",
    "    if tiene_etiqueta:  # Si la fila actual es una etiqueta de estado\n",
    "        etiqueta_estado_actual = datos_csv.at[idx, 'ciudad']  # Actualiza la etiqueta de estado\n",
    "    datos_csv.at[idx, 'estado'] = etiqueta_estado_actual  # Asigna la etiqueta de estado actual a la columna 'estado'\n",
    "\n",
    "# Opcionalmente, puedes querer limpiar los valores de 'estado' para quitar la parte ', Ags.' o similar\n",
    "datos_csv['estado'] = datos_csv['estado'].str.replace(',.*', '', regex=True)\n",
    "\n",
    "# Verificación: Muestra las primeras filas para ver el resultado\n",
    "print(datos_csv.head(10))\n"
   ]
  },
  {
   "cell_type": "code",
   "execution_count": null,
   "id": "7f979535",
   "metadata": {},
   "outputs": [],
   "source": [
    "# Crear un filtro para identificar filas donde 'ciudad' contiene ',' o '.'\n",
    "filtro = datos_csv['ciudad'].str.contains(',', regex=False) | datos_csv['ciudad'].str.contains('\\.', regex=True)\n",
    "\n",
    "# Aplicar el filtro para mantener solo las filas que cumplen con la condición\n",
    "datos_csv_filtrado = datos_csv[filtro]\n",
    "\n"
   ]
  },
  {
   "cell_type": "code",
   "execution_count": null,
   "id": "15022c8e",
   "metadata": {},
   "outputs": [],
   "source": [
    "# Cambiar las etiquetas de 'Mexico' a 'Estado de Mexico' en la columna 'estado'\n",
    "datos_csv['estado'] = datos_csv['estado'].replace('Mexico', 'Estado de Mexico')"
   ]
  },
  {
   "cell_type": "code",
   "execution_count": null,
   "id": "5b66e8ff",
   "metadata": {},
   "outputs": [],
   "source": [
    "# Primero, separa 'ciudad' por la coma y toma solo la parte antes de la coma\n",
    "datos_csv['ciudad'] = datos_csv['ciudad'].str.split(',').str[0]\n",
    "\n",
    "# Luego, concatena esa parte con el valor correspondiente de 'estado'\n",
    "datos_csv['ciudad'] = datos_csv['ciudad'] + ', ' + datos_csv['estado']\n",
    "\n",
    "# Verificación: Muestra las primeras filas para ver el resultado\n",
    "print(datos_csv.head())"
   ]
  },
  {
   "cell_type": "code",
   "execution_count": null,
   "id": "3a893e5e",
   "metadata": {},
   "outputs": [],
   "source": [
    "datos_csv.shape"
   ]
  },
  {
   "cell_type": "code",
   "execution_count": null,
   "id": "3cb8c5de",
   "metadata": {},
   "outputs": [],
   "source": [
    "import pandas as pd\n",
    "from unidecode import unidecode\n",
    "\n",
    "# Corrección en la importación de unidecode\n",
    "def quitar_acentos(valor):\n",
    "    if isinstance(valor, str):  # Solo aplica a cadenas de texto\n",
    "        return unidecode(valor)  # Uso correcto de unidecode\n",
    "    return valor\n",
    "\n",
    "# Aplicar la función quitar_acentos a todas las columnas del DataFrame\n",
    "for columna in datos_csv.columns:\n",
    "    datos_csv[columna] = datos_csv[columna].apply(quitar_acentos)\n",
    "\n",
    "# Verificación: Mostrar las primeras filas para asegurarse de que los acentos han sido quitados\n",
    "print(datos_csv.head())\n"
   ]
  },
  {
   "cell_type": "code",
   "execution_count": null,
   "id": "032fea3f",
   "metadata": {},
   "outputs": [],
   "source": [
    "# Definir las listas de estados para cada ruta, asegurándose de que todas las entradas están correctamente formateadas como strings\n",
    "estados_ruta_golfo = ['Tabasco', 'Nuevo Leon', 'Veracruz', 'Tamaulipas']\n",
    "estados_ruta_pacifico = ['Guerrero', 'Michoacan', 'Jalisco', 'Nayarit', 'Sinaloa', 'Sonora', 'Baja California', 'Baja California Sur','Colima']\n",
    "estados_ruta_centro = ['San Luis Potosi','Estado de Mexico', 'Tlaxcala', 'Ciudad de Mexico', 'Puebla', 'Morelos', 'Hidalgo', 'Zacatecas', 'Durango', 'Chihuahua', 'Coahuila', 'Queretaro', 'Aguascalientes', 'Guanajuato']\n",
    "ruta_sur = ['Chiapas', 'Oaxaca', 'Tabasco', 'Campeche', 'Quintana Roo', 'Yucatan']\n",
    "\n",
    "# Actualizar la función para asignar la ruta basada en el estado\n",
    "def asignar_ruta(estado):\n",
    "    estado = estado.strip()  # Eliminar espacios en blanco al principio y al final\n",
    "    if estado in estados_ruta_golfo:\n",
    "        return 'Ruta del Golfo'\n",
    "    elif estado in estados_ruta_pacifico:\n",
    "        return 'Ruta del Pacifico'\n",
    "    elif estado in estados_ruta_centro:\n",
    "        return 'Ruta Centro'\n",
    "    elif estado in ruta_sur:\n",
    "        return 'Ruta Sur'\n",
    "    else:\n",
    "        return 'Ruta no identificada'  # Para estados que no coinciden con las listas\n",
    "\n",
    "# Aplicar la función al DataFrame para crear una nueva columna 'Ruta'\n",
    "datos_csv['ruta'] = datos_csv['estado'].apply(asignar_ruta)"
   ]
  },
  {
   "cell_type": "code",
   "execution_count": null,
   "id": "9a0c61d5",
   "metadata": {},
   "outputs": [],
   "source": [
    "# Reordenar las columnas para colocar 'Estado' después de 'Ciudad'\n",
    "column_order = ['ciudad', 'estado', 'ruta','detenciones']\n",
    "\n",
    "# Aplicar el nuevo orden de columnas al DataFrame\n",
    "datos_csv = datos_csv[column_order]"
   ]
  },
  {
   "cell_type": "code",
   "execution_count": null,
   "id": "23491835",
   "metadata": {},
   "outputs": [],
   "source": [
    "# Obtenemos los valores únicos de la columna 'ruta'\n",
    "valores_unicos_ruta = datos_csv['ruta'].unique()\n",
    "\n",
    "# Imprimimos los valores únicos\n",
    "print(valores_unicos_ruta)"
   ]
  },
  {
   "cell_type": "code",
   "execution_count": null,
   "id": "c1c00bbb",
   "metadata": {},
   "outputs": [],
   "source": [
    "# Initialize the geolocator using OSM Nominatim\n",
    "geolocator = Photon(user_agent=\"measurement\", timeout=10)\n",
    "\n",
    "# Define a function to get latitude and longitude\n",
    "def get_lat_lon(address):\n",
    "    try:\n",
    "        location = geolocator.geocode(address)\n",
    "        if location:\n",
    "            return location.latitude, location.longitude\n",
    "        else:\n",
    "            return '', ''  # Return empty strings if location is not found\n",
    "    except AttributeError:\n",
    "        return '', ''\n",
    "\n",
    "# Apply the function to the 'City' column and split the results into 'Latitude' and 'Longitude' columns\n",
    "datos_csv[['latitud', 'longitud']] = datos_csv['ciudad'].apply(lambda x: pd.Series(get_lat_lon(x)))"
   ]
  },
  {
   "cell_type": "code",
   "execution_count": null,
   "id": "70188463",
   "metadata": {},
   "outputs": [],
   "source": [
    "# Verificar los cambios mostrando las primeras filas del DataFrame filtrado\n",
    "print(datos_csv.head(20))"
   ]
  },
  {
   "cell_type": "code",
   "execution_count": null,
   "id": "13ad1baf",
   "metadata": {},
   "outputs": [],
   "source": [
    "# Especifica la ruta donde deseas guardar el archivo CSV\n",
    "ruta_archivo_csv = '/Users/pablouriarte/Documents/1. Expediente Tec de Monterrey/1.Tesis/Mapa_Migracion_Irregular_Mexico/3. mapas/1. Mapas/Metodo_1/ciudades_rutas/ciudades detenciones/ciudades_detenciones_1.csv'\n",
    "\n",
    "# Guardar el DataFrame en el archivo CSV especificado\n",
    "datos_csv.to_csv(ruta_archivo_csv, index=False)\n",
    "\n",
    "print(f\"El DataFrame ha sido guardado exitosamente en: {ruta_archivo_csv}\")\n"
   ]
  },
  {
   "cell_type": "code",
   "execution_count": null,
   "id": "2db8b693",
   "metadata": {},
   "outputs": [],
   "source": [
    "# Cargar el archivo CSV\n",
    "datos_csv1 = pd.read_csv('/Users/pablouriarte/Documents/1. Expediente Tec de Monterrey/1.Tesis/Mapa_Migracion_Irregular_Mexico/3. mapas/1. Mapas/Metodo_1/ciudades_rutas/ciudades detenciones/ciudades_detenciones_1.csv')\n"
   ]
  },
  {
   "cell_type": "code",
   "execution_count": null,
   "id": "7027d3e6",
   "metadata": {},
   "outputs": [],
   "source": [
    "datos_csv1"
   ]
  },
  {
   "cell_type": "code",
   "execution_count": null,
   "id": "8f9104cd",
   "metadata": {},
   "outputs": [],
   "source": [
    "# Convertir la columna 'detenciones' a entero\n",
    "datos_csv1['detenciones'] = pd.to_numeric(datos_csv1['detenciones'], errors='coerce').fillna(0).astype(int)"
   ]
  },
  {
   "cell_type": "code",
   "execution_count": null,
   "id": "c130579b",
   "metadata": {},
   "outputs": [],
   "source": [
    "# Identificar los índices de la primera fila de cada categoría en 'estado'\n",
    "indices_a_eliminar = datos_csv1.groupby('estado').head(1).index\n",
    "\n",
    "# Eliminar esas filas del DataFrame\n",
    "datos_csv1 = datos_csv1.drop(indices_a_eliminar)\n",
    "\n",
    "\n"
   ]
  },
  {
   "cell_type": "code",
   "execution_count": null,
   "id": "aa7f8739",
   "metadata": {},
   "outputs": [],
   "source": [
    "# Cambiar latitud y longitud para \"Zacatecas, Zacatecas\"\n",
    "datos_csv1.loc[datos_csv1['ciudad'] == 'Zacatecas, Zacatecas', 'latitud'] = 22.771727298316314\n",
    "datos_csv1.loc[datos_csv1['ciudad'] == 'Zacatecas, Zacatecas', 'longitud'] = -102.57893967251229\n",
    "\n",
    "# Cambiar latitud y longitud para \"Durango, Durango\"\n",
    "datos_csv1.loc[datos_csv1['ciudad'] == 'Durango, Durango', 'latitud'] = 24.03507526470482\n",
    "datos_csv1.loc[datos_csv1['ciudad'] == 'Durango, Durango', 'longitud'] = -104.66366132513203\n",
    "\n",
    "# Verificar los cambios\n",
    "print(datos_csv1[datos_csv1['ciudad'].isin(['Zacatecas, Zacatecas', 'Durango, Durango'])])\n"
   ]
  },
  {
   "cell_type": "code",
   "execution_count": null,
   "id": "0674f343",
   "metadata": {},
   "outputs": [],
   "source": [
    "# Verificar los cambios\n",
    "print(datos_csv1.head())\n"
   ]
  },
  {
   "cell_type": "code",
   "execution_count": null,
   "id": "83dc1fa2",
   "metadata": {},
   "outputs": [],
   "source": [
    "# Agregar la columna 'tipo' con la etiqueta 'Presencia Migración Irregular' para todas las filas\n",
    "datos_csv1['tipo'] = 'Presencia Migración Irregular'\n",
    "\n",
    "# Verificar los cambios mostrando las primeras filas del DataFrame\n",
    "print(datos_csv1.head())\n"
   ]
  },
  {
   "cell_type": "code",
   "execution_count": null,
   "id": "bd79e0e4",
   "metadata": {},
   "outputs": [],
   "source": [
    "# Especifica la ruta donde deseas guardar el archivo CSV\n",
    "ruta_archivo_csv1 = '/Users/pablouriarte/Documents/1. Expediente Tec de Monterrey/1.Tesis/Mapa_Migracion_Irregular_Mexico/3. mapas/1. Mapas/Metodo_1/ciudades_rutas/ciudades detenciones/ciudades_detenciones_1.csv'\n",
    "\n",
    "# Guardar el DataFrame en el archivo CSV especificado\n",
    "datos_csv1.to_csv(ruta_archivo_csv1, index=False)\n",
    "\n",
    "print(f\"El DataFrame ha sido guardado exitosamente en: {ruta_archivo_csv1}\")\n"
   ]
  },
  {
   "cell_type": "markdown",
   "id": "cc3591cd",
   "metadata": {},
   "source": [
    "### Grid Shape"
   ]
  },
  {
   "cell_type": "markdown",
   "id": "80763402",
   "metadata": {},
   "source": [
    "Para crear un grid con polígonos geoespaciales y asignar a cada punto según su latitud y longitud a un polígono correspondiente, se puede utilizar la biblioteca geopandas en Python, que extiende las capacidades de pandas para trabajar con datos espaciales. También usaremos shapely para manipular y analizar datos geométricos planos, y numpy para manejar operaciones numéricas.\n",
    "\n"
   ]
  },
  {
   "cell_type": "markdown",
   "id": "253dbd8c",
   "metadata": {},
   "source": [
    "Crear el Grid de Polígonos: Primero, generamos un conjunto de polígonos que representen cada celda del grid sobre el área de interés (en este caso, México). Cada polígono puede ser identificado de manera única, por ejemplo, usando una convención de nomenclatura como PG1, PG2, etc."
   ]
  },
  {
   "cell_type": "code",
   "execution_count": 17,
   "id": "3ad56cdd",
   "metadata": {},
   "outputs": [
    {
     "name": "stdout",
     "output_type": "stream",
     "text": [
      "  ID_Poligono                                           geometry\n",
      "0         PG1  POLYGON ((-118.00000 14.00000, -117.00000 14.0...\n",
      "1         PG2  POLYGON ((-118.00000 15.00000, -117.00000 15.0...\n",
      "2         PG3  POLYGON ((-118.00000 16.00000, -117.00000 16.0...\n",
      "3         PG4  POLYGON ((-118.00000 17.00000, -117.00000 17.0...\n",
      "4         PG5  POLYGON ((-118.00000 18.00000, -117.00000 18.0...\n"
     ]
    }
   ],
   "source": [
    "def crear_grid(xmin, xmax, ymin, ymax, ancho_celda, alto_celda):\n",
    "    cols = list(np.arange(xmin, xmax, ancho_celda))\n",
    "    rows = list(np.arange(ymin, ymax, alto_celda))\n",
    "    poligonos = []\n",
    "    ids = []\n",
    "\n",
    "    id_contador = 1  # Iniciar contador para los ID de polígonos\n",
    "    for x in cols:\n",
    "        for y in rows:\n",
    "            poligonos.append(Polygon([(x, y), (x+ancho_celda, y), (x+ancho_celda, y-alto_celda), (x, y-alto_celda)]))\n",
    "            ids.append(f\"PG{id_contador}\")  # Asignar un ID único a cada polígono\n",
    "            id_contador += 1\n",
    "\n",
    "    grid = gpd.GeoDataFrame({'ID_Poligono': ids, 'geometry': poligonos})\n",
    "    return grid\n",
    "\n",
    "# Generar el grid con los límites aproximados de México y celdas de 1 grado por 1 grado\n",
    "xmin, ymin, xmax, ymax = -118, 14, -86, 33\n",
    "grid = crear_grid(xmin, xmax, ymin, ymax, 1, 1)\n",
    "\n",
    "# Ahora, 'grid' es un GeoDataFrame que contiene el 'ID_Poligono' y su 'geometry'\n",
    "print(grid.head())"
   ]
  },
  {
   "cell_type": "code",
   "execution_count": 7,
   "id": "9909e31d",
   "metadata": {},
   "outputs": [],
   "source": [
    "# Cargar el archivo CSV\n",
    "datos_csv2 = pd.read_csv('/Users/pablouriarte/Documents/1. Expediente Tec de Monterrey/1.Tesis/Mapa_Migracion_Irregular_Mexico/3. mapas/1. Mapas/Metodo_1/ciudades_rutas/ciudades detenciones/ciudades_detenciones_1.csv')\n"
   ]
  },
  {
   "cell_type": "code",
   "execution_count": 4,
   "id": "a197362c",
   "metadata": {},
   "outputs": [],
   "source": [
    "# Paso 1: Crear el Grid de Polígonos\n",
    "def crear_grid(xmin, xmax, ymin, ymax, ancho_celda, alto_celda):\n",
    "    cols = list(np.arange(xmin, xmax, ancho_celda))\n",
    "    rows = list(np.arange(ymin, ymax, alto_celda))\n",
    "    poligonos = []\n",
    "\n",
    "    for x in cols:\n",
    "        for y in rows:\n",
    "            poligonos.append(Polygon([(x, y), (x+ancho_celda, y), (x+ancho_celda, y-alto_celda), (x, y-alto_celda)]))\n",
    "    \n",
    "    grid = gpd.GeoDataFrame({'geometry': poligonos})\n",
    "    grid['ID'] = ['PG' + str(i) for i in range(1, len(grid)+1)]\n",
    "    return grid\n",
    "\n",
    "# Asumiendo que tienes los límites de México, aquí un ejemplo con valores hipotéticos\n",
    "xmin, ymin, xmax, ymax = -118, 14, -86, 33  # Límites aproximados de México\n",
    "grid = crear_grid(xmin, xmax, ymin, ymax, 1, 1)  # Celdas de 1 grado por 1 grado\n"
   ]
  },
  {
   "cell_type": "code",
   "execution_count": 8,
   "id": "87605951",
   "metadata": {},
   "outputs": [],
   "source": [
    "# Paso 2: Asignar Puntos a Polígonos\n",
    "puntos = [Point(xy) for xy in zip(datos_csv2.longitud, datos_csv1.latitud)]\n",
    "geo_df = gpd.GeoDataFrame(datos_csv2, geometry=puntos)\n"
   ]
  },
  {
   "cell_type": "code",
   "execution_count": 9,
   "id": "f5dda263",
   "metadata": {},
   "outputs": [
    {
     "name": "stderr",
     "output_type": "stream",
     "text": [
      "/Users/pablouriarte/opt/anaconda3/lib/python3.9/site-packages/IPython/core/interactiveshell.py:3377: FutureWarning: The `op` parameter is deprecated and will be removed in a future release. Please use the `predicate` parameter instead.\n",
      "  if (await self.run_code(code, result,  async_=asy)):\n"
     ]
    }
   ],
   "source": [
    "# Realizar la asignación\n",
    "geo_df = gpd.sjoin(geo_df, grid, how='left', op='within')"
   ]
  },
  {
   "cell_type": "code",
   "execution_count": 12,
   "id": "2ace7a0e",
   "metadata": {},
   "outputs": [
    {
     "name": "stdout",
     "output_type": "stream",
     "text": [
      "                                      ciudad           estado  \\\n",
      "0             Aguascalientes, Aguascalientes   Aguascalientes   \n",
      "1                      Cosio, Aguascalientes   Aguascalientes   \n",
      "2                Jesus Maria, Aguascalientes   Aguascalientes   \n",
      "3  San Francisco de los Romo, Aguascalientes   Aguascalientes   \n",
      "4                  Ensenada, Baja California  Baja California   \n",
      "\n",
      "                ruta  detenciones    latitud    longitud  \\\n",
      "0        Ruta Centro          423  22.000000 -102.500000   \n",
      "1        Ruta Centro           98  22.370515 -102.312009   \n",
      "2        Ruta Centro           20  21.934555 -102.468452   \n",
      "3        Ruta Centro           18  22.074628 -102.270713   \n",
      "4  Ruta del Pacifico           29  31.865889 -116.602983   \n",
      "\n",
      "                            tipo ID_Poligono  \n",
      "0  Presencia Migración Irregular       PG295  \n",
      "1  Presencia Migración Irregular       PG295  \n",
      "2  Presencia Migración Irregular       PG294  \n",
      "3  Presencia Migración Irregular       PG295  \n",
      "4  Presencia Migración Irregular        PG38  \n"
     ]
    }
   ],
   "source": [
    "# Paso 3: Actualizar DataFrame\n",
    "datos_csv2['ID_Poligono'] = geo_df['ID']\n",
    "\n",
    "# Muestra el resultado\n",
    "print(datos_csv2.head())"
   ]
  },
  {
   "cell_type": "code",
   "execution_count": 19,
   "id": "1cf6d18f",
   "metadata": {},
   "outputs": [],
   "source": [
    "# Asegurándose de que datos_csv2 es un GeoDataFrame\n",
    "if not isinstance(datos_csv2, gpd.GeoDataFrame):\n",
    "    # Si datos_csv2 ya tiene una columna 'geometry', úsala; de lo contrario, se necesita definir una\n",
    "    if 'geometry' in datos_csv2.columns:\n",
    "        datos_csv2 = gpd.GeoDataFrame(datos_csv2, geometry='geometry')\n",
    "    else:\n",
    "        # Aquí se asume que no hay una columna 'geometry' existente y que quizás no necesites definir una en este momento\n",
    "        datos_csv2 = gpd.GeoDataFrame(datos_csv2)\n",
    "\n",
    "# Realizar el merge (unión) entre datos_csv2 y grid usando 'ID_Poligono' como clave\n",
    "datos_csv2 = datos_csv2.merge(grid[['ID_Poligono', 'geometry']], on='ID_Poligono', how='left')\n"
   ]
  },
  {
   "cell_type": "code",
   "execution_count": 20,
   "id": "bc53917a",
   "metadata": {},
   "outputs": [
    {
     "data": {
      "text/html": [
       "<div>\n",
       "<style scoped>\n",
       "    .dataframe tbody tr th:only-of-type {\n",
       "        vertical-align: middle;\n",
       "    }\n",
       "\n",
       "    .dataframe tbody tr th {\n",
       "        vertical-align: top;\n",
       "    }\n",
       "\n",
       "    .dataframe thead th {\n",
       "        text-align: right;\n",
       "    }\n",
       "</style>\n",
       "<table border=\"1\" class=\"dataframe\">\n",
       "  <thead>\n",
       "    <tr style=\"text-align: right;\">\n",
       "      <th></th>\n",
       "      <th>ciudad</th>\n",
       "      <th>estado</th>\n",
       "      <th>ruta</th>\n",
       "      <th>detenciones</th>\n",
       "      <th>latitud</th>\n",
       "      <th>longitud</th>\n",
       "      <th>tipo</th>\n",
       "      <th>ID_Poligono</th>\n",
       "      <th>ID</th>\n",
       "      <th>geometry_x</th>\n",
       "      <th>geometry_y</th>\n",
       "      <th>geometry</th>\n",
       "    </tr>\n",
       "  </thead>\n",
       "  <tbody>\n",
       "    <tr>\n",
       "      <th>0</th>\n",
       "      <td>Aguascalientes, Aguascalientes</td>\n",
       "      <td>Aguascalientes</td>\n",
       "      <td>Ruta Centro</td>\n",
       "      <td>423</td>\n",
       "      <td>22.000000</td>\n",
       "      <td>-102.500000</td>\n",
       "      <td>Presencia Migración Irregular</td>\n",
       "      <td>PG295</td>\n",
       "      <td>PG295</td>\n",
       "      <td>POLYGON ((-103.00000 23.00000, -102.00000 23.0...</td>\n",
       "      <td>POLYGON ((-103.00000 23.00000, -102.00000 23.0...</td>\n",
       "      <td>POLYGON ((-103.00000 23.00000, -102.00000 23.0...</td>\n",
       "    </tr>\n",
       "    <tr>\n",
       "      <th>1</th>\n",
       "      <td>Cosio, Aguascalientes</td>\n",
       "      <td>Aguascalientes</td>\n",
       "      <td>Ruta Centro</td>\n",
       "      <td>98</td>\n",
       "      <td>22.370515</td>\n",
       "      <td>-102.312009</td>\n",
       "      <td>Presencia Migración Irregular</td>\n",
       "      <td>PG295</td>\n",
       "      <td>PG295</td>\n",
       "      <td>POLYGON ((-103.00000 23.00000, -102.00000 23.0...</td>\n",
       "      <td>POLYGON ((-103.00000 23.00000, -102.00000 23.0...</td>\n",
       "      <td>POLYGON ((-103.00000 23.00000, -102.00000 23.0...</td>\n",
       "    </tr>\n",
       "    <tr>\n",
       "      <th>2</th>\n",
       "      <td>Jesus Maria, Aguascalientes</td>\n",
       "      <td>Aguascalientes</td>\n",
       "      <td>Ruta Centro</td>\n",
       "      <td>20</td>\n",
       "      <td>21.934555</td>\n",
       "      <td>-102.468452</td>\n",
       "      <td>Presencia Migración Irregular</td>\n",
       "      <td>PG294</td>\n",
       "      <td>PG294</td>\n",
       "      <td>POLYGON ((-103.00000 22.00000, -102.00000 22.0...</td>\n",
       "      <td>POLYGON ((-103.00000 22.00000, -102.00000 22.0...</td>\n",
       "      <td>POLYGON ((-103.00000 22.00000, -102.00000 22.0...</td>\n",
       "    </tr>\n",
       "    <tr>\n",
       "      <th>3</th>\n",
       "      <td>San Francisco de los Romo, Aguascalientes</td>\n",
       "      <td>Aguascalientes</td>\n",
       "      <td>Ruta Centro</td>\n",
       "      <td>18</td>\n",
       "      <td>22.074628</td>\n",
       "      <td>-102.270713</td>\n",
       "      <td>Presencia Migración Irregular</td>\n",
       "      <td>PG295</td>\n",
       "      <td>PG295</td>\n",
       "      <td>POLYGON ((-103.00000 23.00000, -102.00000 23.0...</td>\n",
       "      <td>POLYGON ((-103.00000 23.00000, -102.00000 23.0...</td>\n",
       "      <td>POLYGON ((-103.00000 23.00000, -102.00000 23.0...</td>\n",
       "    </tr>\n",
       "    <tr>\n",
       "      <th>4</th>\n",
       "      <td>Ensenada, Baja California</td>\n",
       "      <td>Baja California</td>\n",
       "      <td>Ruta del Pacifico</td>\n",
       "      <td>29</td>\n",
       "      <td>31.865889</td>\n",
       "      <td>-116.602983</td>\n",
       "      <td>Presencia Migración Irregular</td>\n",
       "      <td>PG38</td>\n",
       "      <td>PG38</td>\n",
       "      <td>POLYGON ((-117.00000 32.00000, -116.00000 32.0...</td>\n",
       "      <td>POLYGON ((-117.00000 32.00000, -116.00000 32.0...</td>\n",
       "      <td>POLYGON ((-117.00000 32.00000, -116.00000 32.0...</td>\n",
       "    </tr>\n",
       "  </tbody>\n",
       "</table>\n",
       "</div>"
      ],
      "text/plain": [
       "                                      ciudad           estado  \\\n",
       "0             Aguascalientes, Aguascalientes   Aguascalientes   \n",
       "1                      Cosio, Aguascalientes   Aguascalientes   \n",
       "2                Jesus Maria, Aguascalientes   Aguascalientes   \n",
       "3  San Francisco de los Romo, Aguascalientes   Aguascalientes   \n",
       "4                  Ensenada, Baja California  Baja California   \n",
       "\n",
       "                ruta  detenciones    latitud    longitud  \\\n",
       "0        Ruta Centro          423  22.000000 -102.500000   \n",
       "1        Ruta Centro           98  22.370515 -102.312009   \n",
       "2        Ruta Centro           20  21.934555 -102.468452   \n",
       "3        Ruta Centro           18  22.074628 -102.270713   \n",
       "4  Ruta del Pacifico           29  31.865889 -116.602983   \n",
       "\n",
       "                            tipo ID_Poligono     ID  \\\n",
       "0  Presencia Migración Irregular       PG295  PG295   \n",
       "1  Presencia Migración Irregular       PG295  PG295   \n",
       "2  Presencia Migración Irregular       PG294  PG294   \n",
       "3  Presencia Migración Irregular       PG295  PG295   \n",
       "4  Presencia Migración Irregular        PG38   PG38   \n",
       "\n",
       "                                          geometry_x  \\\n",
       "0  POLYGON ((-103.00000 23.00000, -102.00000 23.0...   \n",
       "1  POLYGON ((-103.00000 23.00000, -102.00000 23.0...   \n",
       "2  POLYGON ((-103.00000 22.00000, -102.00000 22.0...   \n",
       "3  POLYGON ((-103.00000 23.00000, -102.00000 23.0...   \n",
       "4  POLYGON ((-117.00000 32.00000, -116.00000 32.0...   \n",
       "\n",
       "                                          geometry_y  \\\n",
       "0  POLYGON ((-103.00000 23.00000, -102.00000 23.0...   \n",
       "1  POLYGON ((-103.00000 23.00000, -102.00000 23.0...   \n",
       "2  POLYGON ((-103.00000 22.00000, -102.00000 22.0...   \n",
       "3  POLYGON ((-103.00000 23.00000, -102.00000 23.0...   \n",
       "4  POLYGON ((-117.00000 32.00000, -116.00000 32.0...   \n",
       "\n",
       "                                            geometry  \n",
       "0  POLYGON ((-103.00000 23.00000, -102.00000 23.0...  \n",
       "1  POLYGON ((-103.00000 23.00000, -102.00000 23.0...  \n",
       "2  POLYGON ((-103.00000 22.00000, -102.00000 22.0...  \n",
       "3  POLYGON ((-103.00000 23.00000, -102.00000 23.0...  \n",
       "4  POLYGON ((-117.00000 32.00000, -116.00000 32.0...  "
      ]
     },
     "execution_count": 20,
     "metadata": {},
     "output_type": "execute_result"
    }
   ],
   "source": [
    "datos_csv2.head()"
   ]
  },
  {
   "cell_type": "markdown",
   "id": "94f1a641",
   "metadata": {},
   "source": [
    "Asignar Puntos a Polígonos: Luego, para cada punto dado por sus coordenadas de latitud y longitud en datos_csv1, determinamos en qué polígono del grid se encuentra y asignamos el identificador de ese polígono al punto.\n"
   ]
  },
  {
   "cell_type": "code",
   "execution_count": null,
   "id": "d5594f01",
   "metadata": {},
   "outputs": [],
   "source": []
  },
  {
   "cell_type": "markdown",
   "id": "684bd59a",
   "metadata": {},
   "source": [
    "Actualizar DataFrame: Finalmente, agregamos una nueva columna al DataFrame datos_csv1 para almacenar el identificador del polígono del grid al que pertenece cada punto."
   ]
  },
  {
   "cell_type": "code",
   "execution_count": 21,
   "id": "0208f49e",
   "metadata": {},
   "outputs": [
    {
     "name": "stdout",
     "output_type": "stream",
     "text": [
      "ID_Poligono\n",
      "PG368    36\n",
      "PG349    19\n",
      "PG336    15\n",
      "PG404    15\n",
      "PG405    12\n",
      "         ..\n",
      "PG280     1\n",
      "PG113     1\n",
      "PG338     1\n",
      "PG114     1\n",
      "PG276     1\n",
      "Name: count, Length: 117, dtype: int64\n"
     ]
    }
   ],
   "source": [
    "# Obtener el conteo de los valores únicos en la columna 'ID_Poligono'\n",
    "conteo_id_poligono = datos_csv2['ID_Poligono'].value_counts()\n",
    "\n",
    "# Mostrar el conteo\n",
    "print(conteo_id_poligono)\n",
    "\n"
   ]
  },
  {
   "cell_type": "code",
   "execution_count": null,
   "id": "6c17bb3d",
   "metadata": {},
   "outputs": [],
   "source": []
  }
 ],
 "metadata": {
  "kernelspec": {
   "display_name": "Python 3 (ipykernel)",
   "language": "python",
   "name": "python3"
  },
  "language_info": {
   "codemirror_mode": {
    "name": "ipython",
    "version": 3
   },
   "file_extension": ".py",
   "mimetype": "text/x-python",
   "name": "python",
   "nbconvert_exporter": "python",
   "pygments_lexer": "ipython3",
   "version": "3.9.13"
  }
 },
 "nbformat": 4,
 "nbformat_minor": 5
}
