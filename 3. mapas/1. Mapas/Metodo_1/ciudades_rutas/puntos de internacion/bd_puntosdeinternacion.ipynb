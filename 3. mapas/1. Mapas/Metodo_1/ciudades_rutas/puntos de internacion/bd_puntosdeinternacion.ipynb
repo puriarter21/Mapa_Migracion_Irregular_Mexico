{
 "cells": [
  {
   "cell_type": "code",
   "execution_count": 1,
   "id": "8fa610cf",
   "metadata": {},
   "outputs": [],
   "source": [
    "import pandas as pd\n",
    "from geopy.geocoders import Photon\n",
    "from geopy.geocoders import Nominatim\n",
    "from unidecode import unidecode\n",
    "import unidecode"
   ]
  },
  {
   "cell_type": "code",
   "execution_count": 2,
   "id": "0bf0efd6",
   "metadata": {},
   "outputs": [],
   "source": [
    "# Ruta al archivo .xls\n",
    "ruta_archivo = '/Users/pablouriarte/Documents/1. Expediente Tec de Monterrey/1.Tesis/Mapa_Migracion_Irregular_Mexico/3. mapas/1. Mapas/Metodo_1/ciudades_rutas/puntos de internacion/puntos_internacion_inm_2023.csv'\n",
    "\n",
    "# Cargar el archivo .xls en un DataFrame\n",
    "df = pd.read_csv(ruta_archivo)"
   ]
  },
  {
   "cell_type": "markdown",
   "id": "a9cdbb82",
   "metadata": {},
   "source": [
    "### procesamiento"
   ]
  },
  {
   "cell_type": "code",
   "execution_count": 3,
   "id": "6f296d17",
   "metadata": {},
   "outputs": [
    {
     "name": "stdout",
     "output_type": "stream",
     "text": [
      "                                ciudad  edo   medio \n",
      "0                       Aguascalientes  NaN      NaN\n",
      "1  Aguascalientes, A. I. \"Jésus Terán\"  NaN      NaN\n",
      "2                      Baja California  NaN      NaN\n",
      "3                Algodones (terrestre)  NaN      NaN\n",
      "4          Ensenada, A. I. \"El Cipres\"  NaN      NaN\n"
     ]
    }
   ],
   "source": [
    "import pandas as pd\n",
    "\n",
    "# Lista de columnas que NO comienzan con \"Unnamed:\"\n",
    "columnas_a_mantener = [columna for columna in df.columns if not columna.startswith('Unnamed:')]\n",
    "\n",
    "# Filtrar el DataFrame para mantener solo las columnas seleccionadas\n",
    "df = df[columnas_a_mantener]\n",
    "\n",
    "# Verificar el resultado mostrando las primeras filas del DataFrame actualizado\n",
    "print(df.head())\n"
   ]
  },
  {
   "cell_type": "code",
   "execution_count": 4,
   "id": "9d18c079",
   "metadata": {},
   "outputs": [
    {
     "name": "stdout",
     "output_type": "stream",
     "text": [
      "                                ciudad  edo   medio \n",
      "0                       Aguascalientes  NaN      NaN\n",
      "1  Aguascalientes, A. I. \"Jésus Terán\"  NaN      NaN\n",
      "2                      Baja California  NaN      NaN\n",
      "3                Algodones (terrestre)  NaN      NaN\n",
      "4          Ensenada, A. I. \"El Cipres\"  NaN      NaN\n"
     ]
    }
   ],
   "source": [
    "# Eliminar filas donde la columna 'ciudad' tiene un valor NaN\n",
    "df = df.dropna(subset=['ciudad'])\n",
    "\n",
    "# Verificar el resultado mostrando las primeras filas del DataFrame\n",
    "print(df.head())\n"
   ]
  },
  {
   "cell_type": "code",
   "execution_count": 5,
   "id": "a042e5bc",
   "metadata": {},
   "outputs": [
    {
     "data": {
      "text/plain": [
       "(210, 3)"
      ]
     },
     "execution_count": 5,
     "metadata": {},
     "output_type": "execute_result"
    }
   ],
   "source": [
    "df.shape"
   ]
  },
  {
   "cell_type": "code",
   "execution_count": 6,
   "id": "2d19faae",
   "metadata": {},
   "outputs": [],
   "source": [
    "df['edo'] = df['edo'].astype('object')"
   ]
  },
  {
   "cell_type": "code",
   "execution_count": 9,
   "id": "fe874837",
   "metadata": {},
   "outputs": [],
   "source": [
    "# Asegúrate de que df está actualizado antes de crear es_etiqueta_estado\n",
    "# Si has modificado df, como eliminar filas con NaN en 'ciudad':\n",
    "df = df.dropna(subset=['ciudad'])\n",
    "\n",
    "# Reinicia los índices de df para asegurar que son continuos y comienzan en 0\n",
    "df.reset_index(drop=True, inplace=True)\n",
    "\n",
    "# Ahora recrea es_etiqueta_estado para reflejar el estado actualizado de df\n",
    "es_etiqueta_estado = df['ciudad'].str.contains('^[^\\,\\.()]*$', regex=True)\n",
    "\n",
    "# Ahora puedes proceder con tu lógica para asignar 'edo'\n",
    "etiqueta_actual = None\n",
    "for idx, row in df.iterrows():\n",
    "    if es_etiqueta_estado.iloc[idx]:\n",
    "        etiqueta_actual = row['ciudad']\n",
    "    df.at[idx, 'edo'] = etiqueta_actual\n"
   ]
  },
  {
   "cell_type": "code",
   "execution_count": 10,
   "id": "011ff088",
   "metadata": {},
   "outputs": [
    {
     "name": "stdout",
     "output_type": "stream",
     "text": [
      "                                ciudad              edo   medio \n",
      "1  Aguascalientes, A. I. \"Jésus Terán\"   Aguascalientes      NaN\n",
      "3                Algodones (terrestre)  Baja California      NaN\n",
      "4          Ensenada, A. I. \"El Cipres\"  Baja California      NaN\n",
      "5                  Ensenada (marítimo)  Baja California      NaN\n",
      "6               Isla Cedros (marítimo)  Baja California      NaN\n"
     ]
    }
   ],
   "source": [
    "df = df[df['ciudad'] != df['edo']]\n",
    "\n",
    "# Mostrar las primeras filas del DataFrame filtrado para verificar\n",
    "print(df.head())"
   ]
  },
  {
   "cell_type": "code",
   "execution_count": 11,
   "id": "1de293e8",
   "metadata": {},
   "outputs": [],
   "source": [
    "def asignar_etiqueta(ciudad):\n",
    "    # Convertir todo a cadena para manejar posibles valores NaN o numéricos\n",
    "    ciudad_str = str(ciudad)\n",
    "    if '\"' in ciudad_str:\n",
    "        return 'Aeropuerto'\n",
    "    elif 'marítimo' in ciudad_str.lower():\n",
    "        return 'Marítima'\n",
    "    elif 'terrestre' in ciudad_str.lower():\n",
    "        return 'Terrestre'\n",
    "    else:\n",
    "        return 'Otro'  # O cualquier otra etiqueta predeterminada que desees usar\n",
    "\n",
    "# Aplicar la función actualizada\n",
    "df['etiqueta'] = df['ciudad'].apply(asignar_etiqueta)"
   ]
  },
  {
   "cell_type": "code",
   "execution_count": 12,
   "id": "aca58f04",
   "metadata": {},
   "outputs": [
    {
     "name": "stdout",
     "output_type": "stream",
     "text": [
      "                                ciudad              edo   medio     etiqueta\n",
      "1  Aguascalientes, A. I. \"Jésus Terán\"   Aguascalientes      NaN  Aeropuerto\n",
      "3                Algodones (terrestre)  Baja California      NaN   Terrestre\n",
      "4          Ensenada, A. I. \"El Cipres\"  Baja California      NaN  Aeropuerto\n",
      "5                  Ensenada (marítimo)  Baja California      NaN    Marítima\n",
      "6               Isla Cedros (marítimo)  Baja California      NaN    Marítima\n"
     ]
    }
   ],
   "source": [
    "# Mostrar las primeras filas del DataFrame filtrado para verificar\n",
    "print(df.head())"
   ]
  },
  {
   "cell_type": "code",
   "execution_count": 13,
   "id": "cc4d0e84",
   "metadata": {},
   "outputs": [],
   "source": [
    "# Renombrar la columna 'etiqueta' a 'medio'\n",
    "df = df.rename(columns={'etiqueta': 'medio'})\n"
   ]
  },
  {
   "cell_type": "code",
   "execution_count": 14,
   "id": "7c27eb06",
   "metadata": {},
   "outputs": [
    {
     "name": "stdout",
     "output_type": "stream",
     "text": [
      "                                ciudad              edo       medio\n",
      "1  Aguascalientes, A. I. \"Jésus Terán\"   Aguascalientes  Aeropuerto\n",
      "3                Algodones (terrestre)  Baja California   Terrestre\n",
      "4          Ensenada, A. I. \"El Cipres\"  Baja California  Aeropuerto\n",
      "5                  Ensenada (marítimo)  Baja California    Marítima\n",
      "6               Isla Cedros (marítimo)  Baja California    Marítima\n"
     ]
    }
   ],
   "source": [
    "# Eliminar columnas que contengan al menos un valor NaN\n",
    "df = df.dropna(axis=1)\n",
    "\n",
    "# Verificar los cambios mostrando las primeras filas del DataFrame\n",
    "print(df.head())"
   ]
  },
  {
   "cell_type": "code",
   "execution_count": 18,
   "id": "16d7a94e",
   "metadata": {},
   "outputs": [
    {
     "name": "stderr",
     "output_type": "stream",
     "text": [
      "/var/folders/68/6zkv8z4j4rl6ds90br2rb7ph0000gn/T/ipykernel_19081/3765691562.py:5: UserWarning: Pandas requires version '3.0.5' or newer of 'xlsxwriter' (version '3.0.3' currently installed).\n",
      "  df.to_excel(ruta_nueva, index=False)\n"
     ]
    },
    {
     "name": "stdout",
     "output_type": "stream",
     "text": [
      "El DataFrame ha sido guardado exitosamente en: /Users/pablouriarte/Documents/1. Expediente Tec de Monterrey/1.Tesis/Mapa_Migracion_Irregular_Mexico/3. mapas/1. Mapas/Metodo_1/ciudades_rutas/puntos de internacion/puntos_internacion.xlsx\n"
     ]
    }
   ],
   "source": [
    "# Asegúrate de que la ruta termine en '.xlsx' para guardar como un archivo Excel\n",
    "ruta_nueva = '/Users/pablouriarte/Documents/1. Expediente Tec de Monterrey/1.Tesis/Mapa_Migracion_Irregular_Mexico/3. mapas/1. Mapas/Metodo_1/ciudades_rutas/puntos de internacion/puntos_internacion.xlsx'\n",
    "\n",
    "# Guardar el DataFrame en un archivo Excel en la ruta especificada\n",
    "df.to_excel(ruta_nueva, index=False)\n",
    "\n",
    "print(f\"El DataFrame ha sido guardado exitosamente en: {ruta_nueva}\")\n"
   ]
  },
  {
   "cell_type": "code",
   "execution_count": 24,
   "id": "100a46ef",
   "metadata": {
    "scrolled": true
   },
   "outputs": [
    {
     "name": "stdout",
     "output_type": "stream",
     "text": [
      "                                ciudad  \\\n",
      "0  Aguascalientes, A. I. \"Jésus Terán\"   \n",
      "1                Algodones (terrestre)   \n",
      "2          Ensenada, A. I. \"El Cipres\"   \n",
      "3                  Ensenada (marítimo)   \n",
      "4               Isla Cedros (marítimo)   \n",
      "\n",
      "                                   latitud    longitud              edo  \\\n",
      "0  21.701467443187862, -102.31592719740514         NaN   Aguascalientes   \n",
      "1  32.714894020334775, -114.73331058811812         NaN  Baja California   \n",
      "2   31.75080080159697, -116.59481998668603         NaN  Baja California   \n",
      "3                                  31.8933 -116.691263  Baja California   \n",
      "4                                28.154499 -115.233074  Baja California   \n",
      "\n",
      "        medio  \n",
      "0  Aeropuerto  \n",
      "1   Terrestre  \n",
      "2  Aeropuerto  \n",
      "3    Marítima  \n",
      "4    Marítima  \n"
     ]
    }
   ],
   "source": [
    "# Ruta al archivo .xls\n",
    "ruta_archivo1 = '/Users/pablouriarte/Documents/1. Expediente Tec de Monterrey/1.Tesis/Mapa_Migracion_Irregular_Mexico/3. mapas/1. Mapas/Metodo_1/ciudades_rutas/puntos de internacion/puntos_internacion.xlsx'\n",
    "\n",
    "# Cargar el archivo .xls en un DataFrame\n",
    "df1 = pd.read_excel(ruta_archivo1)\n",
    "\n",
    "print(df1.head())"
   ]
  },
  {
   "cell_type": "code",
   "execution_count": 28,
   "id": "37427c83",
   "metadata": {},
   "outputs": [
    {
     "data": {
      "text/html": [
       "<div>\n",
       "<style scoped>\n",
       "    .dataframe tbody tr th:only-of-type {\n",
       "        vertical-align: middle;\n",
       "    }\n",
       "\n",
       "    .dataframe tbody tr th {\n",
       "        vertical-align: top;\n",
       "    }\n",
       "\n",
       "    .dataframe thead th {\n",
       "        text-align: right;\n",
       "    }\n",
       "</style>\n",
       "<table border=\"1\" class=\"dataframe\">\n",
       "  <thead>\n",
       "    <tr style=\"text-align: right;\">\n",
       "      <th></th>\n",
       "      <th>ciudad</th>\n",
       "      <th>latitud</th>\n",
       "      <th>longitud</th>\n",
       "      <th>edo</th>\n",
       "      <th>medio</th>\n",
       "    </tr>\n",
       "  </thead>\n",
       "  <tbody>\n",
       "    <tr>\n",
       "      <th>0</th>\n",
       "      <td>Aguascalientes, A. I. \"Jésus Terán\"</td>\n",
       "      <td>21.701467</td>\n",
       "      <td>-102.315927</td>\n",
       "      <td>Aguascalientes</td>\n",
       "      <td>Aeropuerto</td>\n",
       "    </tr>\n",
       "    <tr>\n",
       "      <th>1</th>\n",
       "      <td>Algodones (terrestre)</td>\n",
       "      <td>32.714894</td>\n",
       "      <td>-114.733311</td>\n",
       "      <td>Baja California</td>\n",
       "      <td>Terrestre</td>\n",
       "    </tr>\n",
       "    <tr>\n",
       "      <th>2</th>\n",
       "      <td>Ensenada, A. I. \"El Cipres\"</td>\n",
       "      <td>31.750801</td>\n",
       "      <td>-116.594820</td>\n",
       "      <td>Baja California</td>\n",
       "      <td>Aeropuerto</td>\n",
       "    </tr>\n",
       "    <tr>\n",
       "      <th>3</th>\n",
       "      <td>Ensenada (marítimo)</td>\n",
       "      <td>31.8933</td>\n",
       "      <td>-116.691263</td>\n",
       "      <td>Baja California</td>\n",
       "      <td>Marítima</td>\n",
       "    </tr>\n",
       "    <tr>\n",
       "      <th>4</th>\n",
       "      <td>Isla Cedros (marítimo)</td>\n",
       "      <td>28.154499</td>\n",
       "      <td>-115.233074</td>\n",
       "      <td>Baja California</td>\n",
       "      <td>Marítima</td>\n",
       "    </tr>\n",
       "    <tr>\n",
       "      <th>...</th>\n",
       "      <td>...</td>\n",
       "      <td>...</td>\n",
       "      <td>...</td>\n",
       "      <td>...</td>\n",
       "      <td>...</td>\n",
       "    </tr>\n",
       "    <tr>\n",
       "      <th>138</th>\n",
       "      <td>Las Coloradas (marítimo)</td>\n",
       "      <td>21.608473</td>\n",
       "      <td>-87.986935</td>\n",
       "      <td>Yucatán</td>\n",
       "      <td>Marítima</td>\n",
       "    </tr>\n",
       "    <tr>\n",
       "      <th>139</th>\n",
       "      <td>Mérida, A. I.</td>\n",
       "      <td>20.934009</td>\n",
       "      <td>-89.663137</td>\n",
       "      <td>Yucatán</td>\n",
       "      <td>Aeropuerto</td>\n",
       "    </tr>\n",
       "    <tr>\n",
       "      <th>140</th>\n",
       "      <td>Progreso (marítimo)</td>\n",
       "      <td>21.281195</td>\n",
       "      <td>-89.661420</td>\n",
       "      <td>Yucatán</td>\n",
       "      <td>Marítima</td>\n",
       "    </tr>\n",
       "    <tr>\n",
       "      <th>141</th>\n",
       "      <td>Yucalpetén (marítimo)</td>\n",
       "      <td>21.277344</td>\n",
       "      <td>-89.707803</td>\n",
       "      <td>Yucatán</td>\n",
       "      <td>Marítima</td>\n",
       "    </tr>\n",
       "    <tr>\n",
       "      <th>142</th>\n",
       "      <td>Zacatecas, A. I. \"Gral. Leobardo C. Ruiz \"</td>\n",
       "      <td>22.900349</td>\n",
       "      <td>-102.679763</td>\n",
       "      <td>Zacatecas</td>\n",
       "      <td>Aeropuerto</td>\n",
       "    </tr>\n",
       "  </tbody>\n",
       "</table>\n",
       "<p>143 rows × 5 columns</p>\n",
       "</div>"
      ],
      "text/plain": [
       "                                         ciudad    latitud    longitud  \\\n",
       "0           Aguascalientes, A. I. \"Jésus Terán\"  21.701467 -102.315927   \n",
       "1                         Algodones (terrestre)  32.714894 -114.733311   \n",
       "2                   Ensenada, A. I. \"El Cipres\"  31.750801 -116.594820   \n",
       "3                           Ensenada (marítimo)    31.8933 -116.691263   \n",
       "4                        Isla Cedros (marítimo)  28.154499 -115.233074   \n",
       "..                                          ...        ...         ...   \n",
       "138                    Las Coloradas (marítimo)  21.608473  -87.986935   \n",
       "139                               Mérida, A. I.  20.934009  -89.663137   \n",
       "140                         Progreso (marítimo)  21.281195  -89.661420   \n",
       "141                       Yucalpetén (marítimo)  21.277344  -89.707803   \n",
       "142  Zacatecas, A. I. \"Gral. Leobardo C. Ruiz \"  22.900349 -102.679763   \n",
       "\n",
       "                 edo       medio  \n",
       "0     Aguascalientes  Aeropuerto  \n",
       "1    Baja California   Terrestre  \n",
       "2    Baja California  Aeropuerto  \n",
       "3    Baja California    Marítima  \n",
       "4    Baja California    Marítima  \n",
       "..               ...         ...  \n",
       "138          Yucatán    Marítima  \n",
       "139          Yucatán  Aeropuerto  \n",
       "140          Yucatán    Marítima  \n",
       "141          Yucatán    Marítima  \n",
       "142        Zacatecas  Aeropuerto  \n",
       "\n",
       "[143 rows x 5 columns]"
      ]
     },
     "execution_count": 28,
     "metadata": {},
     "output_type": "execute_result"
    }
   ],
   "source": [
    "df1"
   ]
  },
  {
   "cell_type": "code",
   "execution_count": 27,
   "id": "2bf03608",
   "metadata": {},
   "outputs": [],
   "source": [
    "# Paso 1 y 2: Verificar y separar los valores (latitud, longitud) en la columna \"latitud\"\n",
    "# Creamos dos nuevas columnas temporales para almacenar los valores separados\n",
    "df1[['temp_lat', 'temp_long']] = df1['latitud'].str.extract(r'\\(?([-\\d\\.]+),\\s*([-\\d\\.]+)\\)?', expand=True)\n",
    "\n",
    "# Paso 3: Rellenar la columna \"longitud\" con los valores de 'temp_long' donde 'longitud' es NaN\n",
    "# Primero, asegúrate de que 'longitud' es de tipo flotante para poder comparar con NaN\n",
    "df1['longitud'] = pd.to_numeric(df1['longitud'], errors='coerce')\n",
    "# Luego, usa loc para rellenar solo donde 'longitud' es NaN\n",
    "df1.loc[df1['longitud'].isna(), 'longitud'] = pd.to_numeric(df1['temp_long'], errors='coerce')\n",
    "\n",
    "# Para la columna 'latitud', reemplaza los valores solo si 'temp_lat' no es NaN (indicando que se extrajo correctamente un valor)\n",
    "df1.loc[~df1['temp_lat'].isna(), 'latitud'] = pd.to_numeric(df1['temp_lat'], errors='coerce')\n",
    "\n",
    "# Paso 4: Eliminar las columnas temporales\n",
    "df1 = df1.drop(['temp_lat', 'temp_long'], axis=1)"
   ]
  },
  {
   "cell_type": "code",
   "execution_count": 30,
   "id": "31cfc370",
   "metadata": {},
   "outputs": [
    {
     "name": "stdout",
     "output_type": "stream",
     "text": [
      "El DataFrame ha sido guardado exitosamente en: /Users/pablouriarte/Documents/1. Expediente Tec de Monterrey/1.Tesis/Mapa_Migracion_Irregular_Mexico/3. mapas/1. Mapas/Metodo_1/ciudades_rutas/puntos de internacion/puntos_internacion.xlsx\n"
     ]
    }
   ],
   "source": [
    "# Asegúrate de que la ruta termine en '.xlsx' para guardar como un archivo Excel\n",
    "ruta_nueva2 = '/Users/pablouriarte/Documents/1. Expediente Tec de Monterrey/1.Tesis/Mapa_Migracion_Irregular_Mexico/3. mapas/1. Mapas/Metodo_1/ciudades_rutas/puntos de internacion/puntos_internacion.csv'\n",
    "\n",
    "# Guardar el DataFrame en un archivo Excel en la ruta especificada\n",
    "df1.to_csv(ruta_nueva2, index=False)\n",
    "\n",
    "print(f\"El DataFrame ha sido guardado exitosamente en: {ruta_nueva}\")\n"
   ]
  },
  {
   "cell_type": "code",
   "execution_count": null,
   "id": "254ee5db",
   "metadata": {},
   "outputs": [],
   "source": []
  }
 ],
 "metadata": {
  "kernelspec": {
   "display_name": "Python 3 (ipykernel)",
   "language": "python",
   "name": "python3"
  },
  "language_info": {
   "codemirror_mode": {
    "name": "ipython",
    "version": 3
   },
   "file_extension": ".py",
   "mimetype": "text/x-python",
   "name": "python",
   "nbconvert_exporter": "python",
   "pygments_lexer": "ipython3",
   "version": "3.9.13"
  }
 },
 "nbformat": 4,
 "nbformat_minor": 5
}
