{
 "cells": [
  {
   "cell_type": "code",
   "execution_count": 1,
   "id": "1c85f9c6",
   "metadata": {},
   "outputs": [],
   "source": [
    "import pandas as pd"
   ]
  },
  {
   "cell_type": "code",
   "execution_count": 2,
   "id": "947892c7",
   "metadata": {},
   "outputs": [
    {
     "name": "stdout",
     "output_type": "stream",
     "text": [
      "                                     name           descripcion  latitud  \\\n",
      "0           Campeche Estacion Provisional  Centro Detención INM      NaN   \n",
      "1           Chihuahua Estacion Migratoria  Centro Detención INM      NaN   \n",
      "2  Ciudad Cuauhtémoc Estacion Provisional  Centro Detención INM      NaN   \n",
      "3  Ciudad del Carmen Estacion Provisional  Centro Detención INM      NaN   \n",
      "4             Colima Estancia Provisional  Centro Detención INM      NaN   \n",
      "\n",
      "   longitud                     coordenadas tipo  \\\n",
      "0       NaN   19.8456600896, -90.5397409201  GOB   \n",
      "1       NaN  28.6422573348, -106.0844027996  GOB   \n",
      "2       NaN   15.6676681597, -92.0023441315  GOB   \n",
      "3       NaN   18.6426261197, -91.8236070871  GOB   \n",
      "4       NaN         18.5262955, -88.2833324  GOB   \n",
      "\n",
      "                                           direccion                      bd  \n",
      "0  Av. 16 de Septiembre S/n Palacio Federal, Plan...  GLOBALDETENTIONPROJECT  \n",
      "1  Calle Antonio de Montes Núm. 2116, Col. San Fe...  GLOBALDETENTIONPROJECT  \n",
      "2  Av. Central Sur 19, Las Champas, 30150 Cd Cuau...  GLOBALDETENTIONPROJECT  \n",
      "3  Calle 31, Núm. 144, entre 42B y 42C, Col. Tacu...  GLOBALDETENTIONPROJECT  \n",
      "4                                                NaN  GLOBALDETENTIONPROJECT  \n"
     ]
    }
   ],
   "source": [
    "# Ruta al archivo .xls\n",
    "ruta_archivo = '/Users/pablouriarte/Documents/1. Expediente Tec de Monterrey/1.Tesis/Mapa_Migracion_Irregular_Mexico/3. mapas/1. Mapas/Metodo_1/ciudades_rutas/puntos de internacion/'\n",
    "\n",
    "# Cargar el archivo .xls en un DataFrame\n",
    "df = pd.read_excel(ruta_archivo)\n",
    "\n",
    "# Mostrar las primeras filas del DataFrame para verificar su contenido\n",
    "print(df.head())"
   ]
  },
  {
   "cell_type": "code",
   "execution_count": 7,
   "id": "2ffe9982",
   "metadata": {},
   "outputs": [
    {
     "data": {
      "text/html": [
       "<div>\n",
       "<style scoped>\n",
       "    .dataframe tbody tr th:only-of-type {\n",
       "        vertical-align: middle;\n",
       "    }\n",
       "\n",
       "    .dataframe tbody tr th {\n",
       "        vertical-align: top;\n",
       "    }\n",
       "\n",
       "    .dataframe thead th {\n",
       "        text-align: right;\n",
       "    }\n",
       "</style>\n",
       "<table border=\"1\" class=\"dataframe\">\n",
       "  <thead>\n",
       "    <tr style=\"text-align: right;\">\n",
       "      <th></th>\n",
       "      <th>name</th>\n",
       "      <th>descripcion</th>\n",
       "      <th>latitud</th>\n",
       "      <th>longitud</th>\n",
       "    </tr>\n",
       "  </thead>\n",
       "  <tbody>\n",
       "    <tr>\n",
       "      <th>0</th>\n",
       "      <td>Campeche Estacion Provisional</td>\n",
       "      <td>Centro Detención INM</td>\n",
       "      <td>19.845660</td>\n",
       "      <td>-90.539741</td>\n",
       "    </tr>\n",
       "    <tr>\n",
       "      <th>1</th>\n",
       "      <td>Chihuahua Estacion Migratoria</td>\n",
       "      <td>Centro Detención INM</td>\n",
       "      <td>28.642257</td>\n",
       "      <td>-106.084403</td>\n",
       "    </tr>\n",
       "    <tr>\n",
       "      <th>2</th>\n",
       "      <td>Ciudad Cuauhtémoc Estacion Provisional</td>\n",
       "      <td>Centro Detención INM</td>\n",
       "      <td>15.667668</td>\n",
       "      <td>-92.002344</td>\n",
       "    </tr>\n",
       "    <tr>\n",
       "      <th>3</th>\n",
       "      <td>Ciudad del Carmen Estacion Provisional</td>\n",
       "      <td>Centro Detención INM</td>\n",
       "      <td>18.642626</td>\n",
       "      <td>-91.823607</td>\n",
       "    </tr>\n",
       "    <tr>\n",
       "      <th>4</th>\n",
       "      <td>Colima Estancia Provisional</td>\n",
       "      <td>Centro Detención INM</td>\n",
       "      <td>18.526295</td>\n",
       "      <td>-88.283332</td>\n",
       "    </tr>\n",
       "  </tbody>\n",
       "</table>\n",
       "</div>"
      ],
      "text/plain": [
       "                                     name           descripcion    latitud  \\\n",
       "0           Campeche Estacion Provisional  Centro Detención INM  19.845660   \n",
       "1           Chihuahua Estacion Migratoria  Centro Detención INM  28.642257   \n",
       "2  Ciudad Cuauhtémoc Estacion Provisional  Centro Detención INM  15.667668   \n",
       "3  Ciudad del Carmen Estacion Provisional  Centro Detención INM  18.642626   \n",
       "4             Colima Estancia Provisional  Centro Detención INM  18.526295   \n",
       "\n",
       "     longitud  \n",
       "0  -90.539741  \n",
       "1 -106.084403  \n",
       "2  -92.002344  \n",
       "3  -91.823607  \n",
       "4  -88.283332  "
      ]
     },
     "execution_count": 7,
     "metadata": {},
     "output_type": "execute_result"
    }
   ],
   "source": [
    "df.head()"
   ]
  },
  {
   "cell_type": "code",
   "execution_count": 4,
   "id": "06b376c5",
   "metadata": {},
   "outputs": [],
   "source": [
    "# Eliminar las columnas 'tipo', 'direccion', y 'bd' del DataFrame\n",
    "df = df.drop(['tipo', 'direccion', 'bd'], axis=1)"
   ]
  },
  {
   "cell_type": "code",
   "execution_count": 6,
   "id": "50f0acb8",
   "metadata": {},
   "outputs": [],
   "source": [
    "# Dividir la columna 'coordenadas' en dos nuevas columnas 'latitud' y 'longitud'\n",
    "df[['latitud', 'longitud']] = df['coordenadas'].str.split(', ', expand=True)\n",
    "\n",
    "# Convertir las columnas 'latitud' y 'longitud' a numérico, ya que str.split las deja como strings\n",
    "df['latitud'] = pd.to_numeric(df['latitud'], errors='coerce')\n",
    "df['longitud'] = pd.to_numeric(df['longitud'], errors='coerce')\n",
    "\n",
    "# Opcional: Eliminar la columna 'coordenadas' si ya no es necesaria\n",
    "df = df.drop('coordenadas', axis=1)"
   ]
  },
  {
   "cell_type": "code",
   "execution_count": 8,
   "id": "4d221243",
   "metadata": {},
   "outputs": [
    {
     "name": "stdout",
     "output_type": "stream",
     "text": [
      "El DataFrame ha sido guardado exitosamente en: /Users/pablouriarte/Documents/1. Expediente Tec de Monterrey/1.Tesis/Mapa_Migracion_Irregular_Mexico/3. mapas/1. Mapas/Mapa_Casillas_2006_Reconstruido/Estaciones INM/1.INM19-23(globaldetentionproject).xls\n"
     ]
    }
   ],
   "source": [
    "# Ruta donde quieres guardar el archivo CSV\n",
    "ruta_archivo1 = '/Users/pablouriarte/Documents/1. Expediente Tec de Monterrey/1.Tesis/Mapa_Migracion_Irregular_Mexico/3. mapas/1. Mapas/Mapa_Casillas_2006_Reconstruido/Estaciones INM/inm_gdp.csv'\n",
    "\n",
    "# Guardar el DataFrame en un archivo CSV en la ruta especificada\n",
    "df.to_csv(ruta_archivo1, index=False)\n",
    "\n",
    "# Mensaje de confirmación\n",
    "print(f\"El DataFrame ha sido guardado exitosamente en: {ruta_archivo}\")\n"
   ]
  },
  {
   "cell_type": "code",
   "execution_count": null,
   "id": "45bcfeb2",
   "metadata": {},
   "outputs": [],
   "source": []
  }
 ],
 "metadata": {
  "kernelspec": {
   "display_name": "Python 3 (ipykernel)",
   "language": "python",
   "name": "python3"
  },
  "language_info": {
   "codemirror_mode": {
    "name": "ipython",
    "version": 3
   },
   "file_extension": ".py",
   "mimetype": "text/x-python",
   "name": "python",
   "nbconvert_exporter": "python",
   "pygments_lexer": "ipython3",
   "version": "3.9.13"
  }
 },
 "nbformat": 4,
 "nbformat_minor": 5
}
