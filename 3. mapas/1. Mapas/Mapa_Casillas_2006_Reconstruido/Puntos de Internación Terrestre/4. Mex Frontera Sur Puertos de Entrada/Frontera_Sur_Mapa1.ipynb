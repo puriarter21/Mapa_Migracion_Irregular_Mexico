{
 "cells": [
  {
   "cell_type": "markdown",
   "id": "6b77b62f",
   "metadata": {},
   "source": [
    "# Frontera Sur\n",
    "\n",
    "## Procesamiento de los geodatos para ArcGis\n",
    "\n",
    "\n",
    "### Cruces Fronterizos Sur\n",
    "\n",
    "CRUCES FRONTERIZOS FORMALES EXISTENTES EN LAS MÁRGENES DEL RÍO SUCHIATE:\n",
    "\n",
    "    1 CD. HIDALGO, MÉXICO - TECÚN UMÁN, GUATEMALA, PUENTE DR. RODOLFO ROBLES.\n",
    "\n",
    "    2 CD. HIDALGO, MÉXICO - TECÚN UMÁN, GUATEMALA, PUENTE ING. LUIS CABRERA.\n",
    "\n",
    "    3 TALISMÁN, MÉXICO - EL CARMEN, GUATEMALA, PUENTE TALISMÁN.\n",
    "\n",
    "    4 CRUCES FRONTERIZOS FORMALES EXISTENTES EN LA SEGUNDA LÍNEA GEODÉSICA:\n",
    "\n",
    "    5 CD. CUAUHTÉMOC, MÉXICO - LA MESILLA, GUATEMALA.\n",
    "\n",
    "    6 CARMEN XHAN, MÉXICO - GRACIAS A DIOS, GUATEMALA.\n",
    "\n",
    "    7 CRUCES FRONTERIZOS FORMALES EXISTENTES EN EL PRIMER PARALELO:\n",
    "\n",
    "    8 NUEVA ORIZABA, MÉXICO - INGENIEROS, GUATEMALA.\n",
    "\n",
    "    9 CRUCE FRONTERIZO FORMAL EXISTENTE EN LA MARGEN DEL RÍO USUMACINTA:\n",
    "\n",
    "    10 FRONTERA COROZAL, MÉXICO - BETHEL, GUATEMALA.\n",
    "\n",
    "    11 CRUCE FRONTERIZO FORMAL EXISTENTE EN EL MERIDIANO EL CEIBO:\n",
    "\n",
    "    12 EL CEIBO\n",
    "    \n",
    "    13 Chac-Temal"
   ]
  },
  {
   "cell_type": "code",
   "execution_count": 1,
   "id": "003cda43",
   "metadata": {},
   "outputs": [],
   "source": [
    "import pandas as pd\n",
    "\n"
   ]
  },
  {
   "cell_type": "code",
   "execution_count": 8,
   "id": "4f2fd8dd",
   "metadata": {},
   "outputs": [],
   "source": [
    "ruta_archivo = '/Users/pablouriarte/Documents/1. Expediente Tec de Monterrey/1.Tesis/Mapa_Migracion_Irregular_Mexico/3. mapas/1. Mapas/Mapa_Casillas_2006_Reconstruido/Puntos de Internación Terrestre/4. Mex Frontera Sur Puertos de Entrada/Frontera_Sur_Puertos.csv'\n",
    "df = pd.read_csv(ruta_archivo, encoding='utf-8')"
   ]
  },
  {
   "cell_type": "code",
   "execution_count": 13,
   "id": "fa6bb02d",
   "metadata": {},
   "outputs": [],
   "source": [
    "# Filtramos el DataFrame para excluir las filas donde 'Tipo' sea 'Cruce fronterizo informal'\n",
    "df = df[df['Tipo'] != 'Cruce fronterizo informal']"
   ]
  },
  {
   "cell_type": "code",
   "execution_count": 14,
   "id": "181f6930",
   "metadata": {},
   "outputs": [
    {
     "data": {
      "text/html": [
       "<div>\n",
       "<style scoped>\n",
       "    .dataframe tbody tr th:only-of-type {\n",
       "        vertical-align: middle;\n",
       "    }\n",
       "\n",
       "    .dataframe tbody tr th {\n",
       "        vertical-align: top;\n",
       "    }\n",
       "\n",
       "    .dataframe thead th {\n",
       "        text-align: right;\n",
       "    }\n",
       "</style>\n",
       "<table border=\"1\" class=\"dataframe\">\n",
       "  <thead>\n",
       "    <tr style=\"text-align: right;\">\n",
       "      <th></th>\n",
       "      <th>Cruce Fronterizo</th>\n",
       "      <th>Tipo</th>\n",
       "      <th>Coordenadas</th>\n",
       "      <th>latitud</th>\n",
       "      <th>longitud</th>\n",
       "    </tr>\n",
       "  </thead>\n",
       "  <tbody>\n",
       "    <tr>\n",
       "      <th>0</th>\n",
       "      <td>Cd. Hidalgo, México - Tecún Uman, Guatemala. P...</td>\n",
       "      <td>Cruce fronterizo formal</td>\n",
       "      <td>14.67674344270255, -92.14759851888864</td>\n",
       "      <td>14.676743</td>\n",
       "      <td>-92.147599</td>\n",
       "    </tr>\n",
       "    <tr>\n",
       "      <th>1</th>\n",
       "      <td>Puerto Fronterizo Suchiate II</td>\n",
       "      <td>Cruce fronterizo formal</td>\n",
       "      <td>14.702542871290694, -92.15297829484561</td>\n",
       "      <td>14.702543</td>\n",
       "      <td>-92.152978</td>\n",
       "    </tr>\n",
       "    <tr>\n",
       "      <th>2</th>\n",
       "      <td>Talismán - El Carmen</td>\n",
       "      <td>Cruce fronterizo formal</td>\n",
       "      <td>14.976432791822761, -92.14466932840656</td>\n",
       "      <td>14.976433</td>\n",
       "      <td>-92.144669</td>\n",
       "    </tr>\n",
       "    <tr>\n",
       "      <th>3</th>\n",
       "      <td>Cd. Cuauhtémoc - La Mesilla</td>\n",
       "      <td>Cruce fronterizo formal</td>\n",
       "      <td>15.664991920567719, -92.00302691979452</td>\n",
       "      <td>15.664992</td>\n",
       "      <td>-92.003027</td>\n",
       "    </tr>\n",
       "    <tr>\n",
       "      <th>4</th>\n",
       "      <td>Carmen Xhan, México - Gracias a Dios, Guatemala</td>\n",
       "      <td>Cruce fronterizo formal</td>\n",
       "      <td>16.07176999471288, -91.75381465149106</td>\n",
       "      <td>16.071770</td>\n",
       "      <td>-91.753815</td>\n",
       "    </tr>\n",
       "    <tr>\n",
       "      <th>5</th>\n",
       "      <td>Nueva Orizaba - Ingenieros</td>\n",
       "      <td>Cruce fronterizo formal</td>\n",
       "      <td>16.075390411857374, -90.4432073410626</td>\n",
       "      <td>16.075390</td>\n",
       "      <td>-90.443207</td>\n",
       "    </tr>\n",
       "    <tr>\n",
       "      <th>6</th>\n",
       "      <td>Frontera Corozal - Bethel</td>\n",
       "      <td>Cruce fronterizo formal</td>\n",
       "      <td>16.073056, -90.633333</td>\n",
       "      <td>16.073056</td>\n",
       "      <td>-90.633333</td>\n",
       "    </tr>\n",
       "    <tr>\n",
       "      <th>7</th>\n",
       "      <td>El Ceibo - El Ceibo</td>\n",
       "      <td>Cruce fronterizo formal</td>\n",
       "      <td>16.798809672285977, -90.81599244500215</td>\n",
       "      <td>16.798810</td>\n",
       "      <td>-90.815992</td>\n",
       "    </tr>\n",
       "    <tr>\n",
       "      <th>15</th>\n",
       "      <td>Puerto Fronterizo Chactemal - INDAABIN</td>\n",
       "      <td>Cruce fronterizo formal</td>\n",
       "      <td>18.503911513976913, -88.38848592363105</td>\n",
       "      <td>18.503912</td>\n",
       "      <td>-88.388486</td>\n",
       "    </tr>\n",
       "  </tbody>\n",
       "</table>\n",
       "</div>"
      ],
      "text/plain": [
       "                                     Cruce Fronterizo  \\\n",
       "0   Cd. Hidalgo, México - Tecún Uman, Guatemala. P...   \n",
       "1                       Puerto Fronterizo Suchiate II   \n",
       "2                                Talismán - El Carmen   \n",
       "3                         Cd. Cuauhtémoc - La Mesilla   \n",
       "4     Carmen Xhan, México - Gracias a Dios, Guatemala   \n",
       "5                          Nueva Orizaba - Ingenieros   \n",
       "6                           Frontera Corozal - Bethel   \n",
       "7                                 El Ceibo - El Ceibo   \n",
       "15             Puerto Fronterizo Chactemal - INDAABIN   \n",
       "\n",
       "                       Tipo                             Coordenadas  \\\n",
       "0   Cruce fronterizo formal   14.67674344270255, -92.14759851888864   \n",
       "1   Cruce fronterizo formal  14.702542871290694, -92.15297829484561   \n",
       "2   Cruce fronterizo formal  14.976432791822761, -92.14466932840656   \n",
       "3   Cruce fronterizo formal  15.664991920567719, -92.00302691979452   \n",
       "4   Cruce fronterizo formal   16.07176999471288, -91.75381465149106   \n",
       "5   Cruce fronterizo formal   16.075390411857374, -90.4432073410626   \n",
       "6   Cruce fronterizo formal                   16.073056, -90.633333   \n",
       "7   Cruce fronterizo formal  16.798809672285977, -90.81599244500215   \n",
       "15  Cruce fronterizo formal  18.503911513976913, -88.38848592363105   \n",
       "\n",
       "      latitud   longitud  \n",
       "0   14.676743 -92.147599  \n",
       "1   14.702543 -92.152978  \n",
       "2   14.976433 -92.144669  \n",
       "3   15.664992 -92.003027  \n",
       "4   16.071770 -91.753815  \n",
       "5   16.075390 -90.443207  \n",
       "6   16.073056 -90.633333  \n",
       "7   16.798810 -90.815992  \n",
       "15  18.503912 -88.388486  "
      ]
     },
     "execution_count": 14,
     "metadata": {},
     "output_type": "execute_result"
    }
   ],
   "source": [
    "df.head(20)"
   ]
  },
  {
   "cell_type": "markdown",
   "id": "43254e7a",
   "metadata": {},
   "source": [
    "### Guardamos el archivo nuevo"
   ]
  },
  {
   "cell_type": "code",
   "execution_count": 15,
   "id": "b45a6720",
   "metadata": {},
   "outputs": [
    {
     "name": "stdout",
     "output_type": "stream",
     "text": [
      "Archivo guardado exitosamente en: /Users/pablouriarte/Documents/1. Expediente Tec de Monterrey/1.Tesis/Mapa_Migracion_Irregular_Mexico/3. mapas/1. Mapas/Mapa_Casillas_2006_Reconstruido/Puntos de Internación Terrestre/4. Mex Frontera Sur Puertos de Entrada/Frontera_Sur_Final_1.csv\n"
     ]
    }
   ],
   "source": [
    "# Especificar la ruta para guardar el archivo actualizado\n",
    "ruta_archivo_final = '/Users/pablouriarte/Documents/1. Expediente Tec de Monterrey/1.Tesis/Mapa_Migracion_Irregular_Mexico/3. mapas/1. Mapas/Mapa_Casillas_2006_Reconstruido/Puntos de Internación Terrestre/4. Mex Frontera Sur Puertos de Entrada/Frontera_Sur_Final_1.csv'\n",
    "\n",
    "# Guardar el DataFrame en la ruta especificada\n",
    "df.to_csv(ruta_archivo_final, index=False, encoding='utf-8')\n",
    "\n",
    "print(f\"Archivo guardado exitosamente en: {ruta_archivo_final}\")\n",
    "\n"
   ]
  },
  {
   "cell_type": "code",
   "execution_count": null,
   "id": "cd1196f2",
   "metadata": {},
   "outputs": [],
   "source": []
  }
 ],
 "metadata": {
  "kernelspec": {
   "display_name": "Python 3 (ipykernel)",
   "language": "python",
   "name": "python3"
  },
  "language_info": {
   "codemirror_mode": {
    "name": "ipython",
    "version": 3
   },
   "file_extension": ".py",
   "mimetype": "text/x-python",
   "name": "python",
   "nbconvert_exporter": "python",
   "pygments_lexer": "ipython3",
   "version": "3.9.13"
  }
 },
 "nbformat": 4,
 "nbformat_minor": 5
}
