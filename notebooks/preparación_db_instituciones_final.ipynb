{
 "cells": [
  {
   "cell_type": "code",
   "execution_count": 1,
   "id": "2f8eb26a",
   "metadata": {},
   "outputs": [],
   "source": [
    "import pandas as pd  # Library for data manipulation and analysis\n",
    "\n",
    "from geopy.geocoders import Photon"
   ]
  },
  {
   "cell_type": "markdown",
   "id": "f5799c03",
   "metadata": {},
   "source": [
    "## Cargar todos los documentos a la vez"
   ]
  },
  {
   "cell_type": "code",
   "execution_count": null,
   "id": "458351e6",
   "metadata": {},
   "outputs": [],
   "source": [
    "# Para cargar 5.Oficinasdeatencionalmigrantesvalidado.csv\n",
    "df1 = pd.read_csv('/Users/pablouriarte/Documents/1. Expediente Tec de Monterrey/1.Tesis/Mapa_Migracion_Irregular_Mexico/instituciones_prepro/bd_ubicacionesfinales/5.Oficinasdeatencionalmigrantesvalidado.csv', encoding='utf-8')\n",
    "\n",
    "# Para cargar 17.comar\n",
    "df2 = pd.read_csv('/Users/pablouriarte/Documents/1. Expediente Tec de Monterrey/1.Tesis/Mapa_Migracion_Irregular_Mexico/instituciones_prepro/bd_ubicacionesfinales/17.comar.csv', encoding='utf-8')\n",
    "\n",
    "# Para cargar 14.cndh.csv\n",
    "df3 = pd.read_csv('/Users/pablouriarte/Documents/1. Expediente Tec de Monterrey/1.Tesis/Mapa_Migracion_Irregular_Mexico/instituciones_prepro/bd_ubicacionesfinales/14.cndh.csv', encoding='utf-8')\n",
    "\n",
    "# Para cargar 1.Redesvalidacion.csv\n",
    "df4 = pd.read_csv('/Users/pablouriarte/Documents/1. Expediente Tec de Monterrey/1.Tesis/Mapa_Migracion_Irregular_Mexico/instituciones_prepro/bd_ubicacionesfinales/1.Redesvalidacion.csv', encoding='utf-8')\n",
    "\n",
    "# Para cargar 7.aberguesdirecotorioonu\n",
    "df5 = pd.read_csv('/Users/pablouriarte/Documents/1. Expediente Tec de Monterrey/1.Tesis/Mapa_Migracion_Irregular_Mexico/instituciones_prepro/bd_ubicacionesfinales/7.aberguesdirecotorioonu.csv', encoding='utf-8')\n",
    "\n",
    "# Para cargar 2.agenciasonu.csv\n",
    "df6 = pd.read_csv('/Users/pablouriarte/Documents/1. Expediente Tec de Monterrey/1.Tesis/Mapa_Migracion_Irregular_Mexico/instituciones_prepro/bd_ubicacionesfinales/2.agenciasonu.csv', encoding='utf-8')\n",
    "\n",
    "# Para cargar 8.cruzroja\n",
    "df7 = pd.read_csv('/Users/pablouriarte/Documents/1. Expediente Tec de Monterrey/1.Tesis/Mapa_Migracion_Irregular_Mexico/instituciones_prepro/bd_ubicacionesfinales/8.cruzroja.csv', encoding='utf-8')\n",
    "\n",
    "# Para cargar 9.centrosasistenciasocial.csv\n",
    "df8 = pd.read_csv('/Users/pablouriarte/Documents/1. Expediente Tec de Monterrey/1.Tesis/Mapa_Migracion_Irregular_Mexico/instituciones_prepro/bd_ubicacionesfinales/9.centrosasistenciasocial.csv', encoding='utf-8')\n",
    "\n",
    "# Para cargar 10.fiscaliasmig.csv\n",
    "df9 = pd.read_csv('/Users/pablouriarte/Documents/1. Expediente Tec de Monterrey/1.Tesis/Mapa_Migracion_Irregular_Mexico/instituciones_prepro/bd_ubicacionesfinales/10.fiscaliasmig.csv', encoding='utf-8')\n",
    "\n",
    "# Para cargar 11.gruposbeta.csv\n",
    "df10 = pd.read_csv('/Users/pablouriarte/Documents/1. Expediente Tec de Monterrey/1.Tesis/Mapa_Migracion_Irregular_Mexico/instituciones_prepro/bd_ubicacionesfinales/11.gruposbeta.csv', encoding='utf-8')\n",
    "\n",
    "# Para cargar 12.instmujeres.csv\n",
    "df11 = pd.read_csv('/Users/pablouriarte/Documents/1. Expediente Tec de Monterrey/1.Tesis/Mapa_Migracion_Irregular_Mexico/instituciones_prepro/bd_ubicacionesfinales/12.instmujeres.csv', encoding='utf-8')\n",
    "\n",
    "# Para cargar 13.inm.csv\n",
    "df12 = pd.read_csv('/Users/pablouriarte/Documents/1. Expediente Tec de Monterrey/1.Tesis/Mapa_Migracion_Irregular_Mexico/instituciones_prepro/bd_ubicacionesfinales/13.inm.csv', encoding='utf-8')\n",
    "\n",
    "# Para cargar 15.consulados.csv\n",
    "df13 = pd.read_csv('/Users/pablouriarte/Documents/1. Expediente Tec de Monterrey/1.Tesis/Mapa_Migracion_Irregular_Mexico/instituciones_prepro/bd_ubicacionesfinales/15.consulados.csv', encoding='utf-8')\n",
    "\n",
    "# Para cargar 3.acnurserviciosvalidado.csv\n",
    "df14 = pd.read_csv('/Users/pablouriarte/Documents/1. Expediente Tec de Monterrey/1.Tesis/Mapa_Migracion_Irregular_Mexico/instituciones_prepro/bd_ubicacionesfinales/3.acnurserviciosvalidado.csv', encoding='utf-8')\n",
    "\n",
    "# Para cargar 4.acnuralberguesvalidado.csv\n",
    "df15 = pd.read_csv('/Users/pablouriarte/Documents/1. Expediente Tec de Monterrey/1.Tesis/Mapa_Migracion_Irregular_Mexico/instituciones_prepro/bd_ubicacionesfinales/4.acnuralberguesvalidado.csv', encoding='utf-8')\n",
    "\n",
    "# Para cargar 16.oficinasdif.csv\n",
    "df16 = pd.read_csv('/Users/pablouriarte/Documents/1. Expediente Tec de Monterrey/1.Tesis/Mapa_Migracion_Irregular_Mexico/instituciones_prepro/bd_ubicacionesfinales/16.oficinasdif.csv', encoding='utf-8')\n"
   ]
  },
  {
   "cell_type": "code",
   "execution_count": 2,
   "id": "e40b33ab",
   "metadata": {},
   "outputs": [],
   "source": [
    "#centralizamos todos los data frame\n",
    "\n",
    "# Lista de todos los DataFrames\n",
    "list_of_dfs = [df1, df2, df3, df4, df5, df6, df7, df8, df9, df10, df11, df12, df13, df14, df15, df16]\n",
    "\n",
    "# Concatenar todos los DataFrames en uno solo\n",
    "df_centralized = pd.concat(list_of_dfs, ignore_index=True)\n"
   ]
  },
  {
   "cell_type": "code",
   "execution_count": 4,
   "id": "fe072ad6",
   "metadata": {},
   "outputs": [],
   "source": [
    "#Quitar los parentesis de la columna coordenada\n",
    "\n",
    "#Redistribuimos las columans de latitud y longitud a partir de coordenadas."
   ]
  },
  {
   "cell_type": "code",
   "execution_count": null,
   "id": "1128ffb3",
   "metadata": {},
   "outputs": [],
   "source": []
  },
  {
   "cell_type": "code",
   "execution_count": null,
   "id": "124471b1",
   "metadata": {},
   "outputs": [],
   "source": []
  }
 ],
 "metadata": {
  "kernelspec": {
   "display_name": "Python 3 (ipykernel)",
   "language": "python",
   "name": "python3"
  },
  "language_info": {
   "codemirror_mode": {
    "name": "ipython",
    "version": 3
   },
   "file_extension": ".py",
   "mimetype": "text/x-python",
   "name": "python",
   "nbconvert_exporter": "python",
   "pygments_lexer": "ipython3",
   "version": "3.9.13"
  }
 },
 "nbformat": 4,
 "nbformat_minor": 5
}
