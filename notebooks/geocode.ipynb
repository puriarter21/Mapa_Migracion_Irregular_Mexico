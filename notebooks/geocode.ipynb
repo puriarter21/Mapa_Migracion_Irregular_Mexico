{
 "cells": [
  {
   "cell_type": "markdown",
   "id": "c7fbf842",
   "metadata": {},
   "source": [
    "# GEOCODE"
   ]
  },
  {
   "cell_type": "code",
   "execution_count": 1,
   "id": "ee5900ff",
   "metadata": {},
   "outputs": [],
   "source": [
    "import pandas as pd  # Library for data manipulation and analysis\n",
    "\n",
    "from geopy.geocoders import Photon\n",
    "from geopy.geocoders import Nominatim"
   ]
  },
  {
   "cell_type": "markdown",
   "id": "ebcaa109",
   "metadata": {},
   "source": [
    "## Pruebas\n",
    "\n",
    "librerias:\n",
    "\n",
    "    -Photon:, buenas pruebas, si agarra la mayoria de las direcciones mexicanas.\n",
    "    -Nominatim, no agarra direcciones mexicanas."
   ]
  },
  {
   "cell_type": "code",
   "execution_count": null,
   "id": "e57acde1",
   "metadata": {},
   "outputs": [],
   "source": [
    "df = pd.read_csv('/Users/pablouriarte/Documents/1. Expediente Tec de Monterrey/1.Tesis/Instituciones/notebooks_institucion/directorio_redes.csv')"
   ]
  },
  {
   "cell_type": "code",
   "execution_count": null,
   "id": "1f0e67d5",
   "metadata": {},
   "outputs": [],
   "source": [
    "df.head(10)"
   ]
  },
  {
   "cell_type": "code",
   "execution_count": null,
   "id": "12fd5116",
   "metadata": {},
   "outputs": [],
   "source": [
    "#subset para probar\n",
    "indices_seleccionados = [2,3,4,5,6,7,8,70]\n",
    "subset_df = df.iloc[indices_seleccionados]\n"
   ]
  },
  {
   "cell_type": "code",
   "execution_count": null,
   "id": "42415293",
   "metadata": {},
   "outputs": [],
   "source": [
    "#photon\n",
    "geolocator = Photon(user_agent=\"pablo'sthesis\")\n",
    "location = geolocator.geocode(\"José María Marroquí 83 Colonia Centro, 06000, ciudad de mexico\")\n",
    "print(location.address)\n",
    "print((location.latitude, location.longitude))\n"
   ]
  },
  {
   "cell_type": "code",
   "execution_count": null,
   "id": "eff85078",
   "metadata": {},
   "outputs": [],
   "source": [
    "#Nominatim\n",
    "geolocator = Nominatim(user_agent=\"pablo'sthesis\")\n",
    "location = geolocator.geocode(\"Otros Dreams en Acción\")\n",
    "print(location.address)\n",
    "print((location.latitude, location.longitude))"
   ]
  },
  {
   "cell_type": "code",
   "execution_count": null,
   "id": "bb90da72",
   "metadata": {},
   "outputs": [],
   "source": [
    "#geolocatornominatim\n",
    "\n",
    "def get_lat_lon(address):\n",
    "    geolocator = Photon(user_agent=\"pablosthesis\", timeout=10)\n",
    "    try:\n",
    "        location = geolocator.geocode(address)\n",
    "        return location.latitude, location.longitude\n",
    "    except AttributeError:\n",
    "        return '', ''\n",
    "    \n"
   ]
  },
  {
   "cell_type": "code",
   "execution_count": null,
   "id": "00967ce9",
   "metadata": {},
   "outputs": [],
   "source": [
    "df[\"latlon\"] = df[\"DirecciónCompleta\"].apply(get_lat_lon)\n"
   ]
  },
  {
   "cell_type": "code",
   "execution_count": null,
   "id": "ea45fdad",
   "metadata": {},
   "outputs": [],
   "source": [
    "#df.head(55)"
   ]
  },
  {
   "cell_type": "code",
   "execution_count": null,
   "id": "267d0189",
   "metadata": {},
   "outputs": [],
   "source": [
    "#direcciones no encontradas con Photon: 102\n",
    "conteo_latlon = df[\"latlon\"].value_counts()\n",
    "conteo_latlon"
   ]
  },
  {
   "cell_type": "markdown",
   "id": "f42f321a",
   "metadata": {},
   "source": [
    "### Direcciones a coordenadas .csv\n",
    "    "
   ]
  },
  {
   "cell_type": "markdown",
   "id": "7fb4e742",
   "metadata": {},
   "source": [
    "def get_lat(address):\n",
    "    geolocator = Photon(user_agent=\"pablosthesis\", timeout=10)\n",
    "    try:\n",
    "        location = geolocator.geocode(address)\n",
    "        return location.latitude\n",
    "    except AttributeError:\n",
    "        return '', ''\n",
    "    \n",
    "def get_lon(address):\n",
    "    geolocator = Photon(user_agent=\"pablosthesis\", timeout=10)\n",
    "    try:\n",
    "        location = geolocator.geocode(address)\n",
    "        return  location.longitude\n",
    "    except AttributeError:\n",
    "        return '', ''\n",
    "    "
   ]
  },
  {
   "cell_type": "code",
   "execution_count": 2,
   "id": "df146fab",
   "metadata": {},
   "outputs": [],
   "source": [
    "def get_coordinates(address):\n",
    "    if pd.isnull(address): # Check if the address is NaN\n",
    "        return None, None\n",
    "    geolocator = Photon(user_agent=\"pablosthesis\", timeout=10)\n",
    "    try:\n",
    "        location = geolocator.geocode(address)\n",
    "        return location.latitude, location.longitude\n",
    "    except AttributeError:\n",
    "        return None, None"
   ]
  },
  {
   "cell_type": "markdown",
   "id": "35f913d3",
   "metadata": {},
   "source": [
    "## 1. Redes"
   ]
  },
  {
   "cell_type": "code",
   "execution_count": 8,
   "id": "eec6818e",
   "metadata": {},
   "outputs": [],
   "source": [
    "dfredes = pd.read_csv('/Users/pablouriarte/Documents/1. Expediente Tec de Monterrey/1.Tesis/Instituciones/notebooks_institucion/1.Redes.csv', encoding='utf-8')\n"
   ]
  },
  {
   "cell_type": "code",
   "execution_count": 19,
   "id": "00a41b5e",
   "metadata": {},
   "outputs": [],
   "source": [
    "#dfredes.head(10)\n",
    "\n",
    "#print(dfredes.shape)"
   ]
  },
  {
   "cell_type": "code",
   "execution_count": 11,
   "id": "e5d912a6",
   "metadata": {},
   "outputs": [],
   "source": [
    "# Aplicamos la función para obtener las coordenadas\n",
    "dfredes['latitud'], dfredes['longitud'] = zip(*dfredes['direccion'].apply(get_coordinates))\n",
    "\n",
    "# Combinamos latitud y longitud en una nueva columna\n",
    "dfredes['coordenadas'] = dfredes[['latitud', 'longitud']].apply(tuple, axis=1)\n"
   ]
  },
  {
   "cell_type": "code",
   "execution_count": 15,
   "id": "3c4c9d5b",
   "metadata": {},
   "outputs": [],
   "source": [
    "#para actualizar el documento.\n",
    "dfredes.to_csv('/Users/pablouriarte/Documents/1. Expediente Tec de Monterrey/1.Tesis/Instituciones/notebooks_institucion/bd_ubicaciones/1.Redesfinal.csv', index=False, encoding='utf-8')\n"
   ]
  },
  {
   "cell_type": "markdown",
   "id": "239fddc4",
   "metadata": {},
   "source": [
    "## 2.sinfronteras.csv"
   ]
  },
  {
   "cell_type": "code",
   "execution_count": 18,
   "id": "8194e628",
   "metadata": {},
   "outputs": [],
   "source": [
    "dfsinfronteras = pd.read_csv('/Users/pablouriarte/Documents/1. Expediente Tec de Monterrey/1.Tesis/Instituciones/notebooks_institucion/2.sinfronteras.csv', encoding='utf-8')\n"
   ]
  },
  {
   "cell_type": "code",
   "execution_count": null,
   "id": "e81f2b4b",
   "metadata": {},
   "outputs": [],
   "source": [
    "# Aplicamos la función para obtener las coordenadas\n",
    "#dfsinfronteras['latitud'], dfsinfronteras['longitud'] = zip(*dfsinfronteras['direccion'].apply(get_coordinates))\n",
    "\n",
    "# Combinamos latitud y longitud en una nueva columna\n",
    "#dfsinfronteras['coordenadas'] = dfsinfronteras[['latitud', 'longitud']].apply(tuple, axis=1)\n"
   ]
  },
  {
   "cell_type": "code",
   "execution_count": 20,
   "id": "b045ae53",
   "metadata": {},
   "outputs": [
    {
     "data": {
      "text/html": [
       "<div>\n",
       "<style scoped>\n",
       "    .dataframe tbody tr th:only-of-type {\n",
       "        vertical-align: middle;\n",
       "    }\n",
       "\n",
       "    .dataframe tbody tr th {\n",
       "        vertical-align: top;\n",
       "    }\n",
       "\n",
       "    .dataframe thead th {\n",
       "        text-align: right;\n",
       "    }\n",
       "</style>\n",
       "<table border=\"1\" class=\"dataframe\">\n",
       "  <thead>\n",
       "    <tr style=\"text-align: right;\">\n",
       "      <th></th>\n",
       "      <th>name</th>\n",
       "      <th>descripcion</th>\n",
       "      <th>latitud</th>\n",
       "      <th>longitud</th>\n",
       "      <th>coordenadas</th>\n",
       "      <th>tipo</th>\n",
       "      <th>direccion</th>\n",
       "      <th>bd</th>\n",
       "    </tr>\n",
       "  </thead>\n",
       "  <tbody>\n",
       "    <tr>\n",
       "      <th>0</th>\n",
       "      <td>Agencia Familiar Binacional, AC (AFABI)</td>\n",
       "      <td>NaN</td>\n",
       "      <td>NaN</td>\n",
       "      <td>NaN</td>\n",
       "      <td>NaN</td>\n",
       "      <td>Colectivo Migraciones para las Américas (COMPA)</td>\n",
       "      <td>NaN</td>\n",
       "      <td>SF</td>\n",
       "    </tr>\n",
       "    <tr>\n",
       "      <th>1</th>\n",
       "      <td>Albergue de Migrantes Hermanos en el Camino</td>\n",
       "      <td>NaN</td>\n",
       "      <td>NaN</td>\n",
       "      <td>NaN</td>\n",
       "      <td>NaN</td>\n",
       "      <td>Colectivo Migraciones para las Américas (COMPA)</td>\n",
       "      <td>NaN</td>\n",
       "      <td>SF</td>\n",
       "    </tr>\n",
       "    <tr>\n",
       "      <th>2</th>\n",
       "      <td>Albergue del Desierto</td>\n",
       "      <td>NaN</td>\n",
       "      <td>NaN</td>\n",
       "      <td>NaN</td>\n",
       "      <td>NaN</td>\n",
       "      <td>Colectivo Migraciones para las Américas (COMPA)</td>\n",
       "      <td>NaN</td>\n",
       "      <td>SF</td>\n",
       "    </tr>\n",
       "    <tr>\n",
       "      <th>3</th>\n",
       "      <td>Alianza Binacional Migración y Desarrollo A.C....</td>\n",
       "      <td>NaN</td>\n",
       "      <td>NaN</td>\n",
       "      <td>NaN</td>\n",
       "      <td>NaN</td>\n",
       "      <td>Colectivo Migraciones para las Américas (COMPA)</td>\n",
       "      <td>NaN</td>\n",
       "      <td>SF</td>\n",
       "    </tr>\n",
       "    <tr>\n",
       "      <th>4</th>\n",
       "      <td>Las Dignas de El Salvador</td>\n",
       "      <td>NaN</td>\n",
       "      <td>NaN</td>\n",
       "      <td>NaN</td>\n",
       "      <td>NaN</td>\n",
       "      <td>Colectivo Migraciones para las Américas (COMPA)</td>\n",
       "      <td>NaN</td>\n",
       "      <td>SF</td>\n",
       "    </tr>\n",
       "  </tbody>\n",
       "</table>\n",
       "</div>"
      ],
      "text/plain": [
       "                                                name  descripcion  latitud  \\\n",
       "0            Agencia Familiar Binacional, AC (AFABI)          NaN      NaN   \n",
       "1        Albergue de Migrantes Hermanos en el Camino          NaN      NaN   \n",
       "2                              Albergue del Desierto          NaN      NaN   \n",
       "3  Alianza Binacional Migración y Desarrollo A.C....          NaN      NaN   \n",
       "4                          Las Dignas de El Salvador          NaN      NaN   \n",
       "\n",
       "   longitud  coordenadas                                             tipo  \\\n",
       "0       NaN          NaN  Colectivo Migraciones para las Américas (COMPA)   \n",
       "1       NaN          NaN  Colectivo Migraciones para las Américas (COMPA)   \n",
       "2       NaN          NaN  Colectivo Migraciones para las Américas (COMPA)   \n",
       "3       NaN          NaN  Colectivo Migraciones para las Américas (COMPA)   \n",
       "4       NaN          NaN  Colectivo Migraciones para las Américas (COMPA)   \n",
       "\n",
       "   direccion  bd  \n",
       "0        NaN  SF  \n",
       "1        NaN  SF  \n",
       "2        NaN  SF  \n",
       "3        NaN  SF  \n",
       "4        NaN  SF  "
      ]
     },
     "execution_count": 20,
     "metadata": {},
     "output_type": "execute_result"
    }
   ],
   "source": [
    "dfsinfronteras.head()"
   ]
  },
  {
   "cell_type": "markdown",
   "id": "25d0a76e",
   "metadata": {},
   "source": [
    "## 3.ACNUR Servicios"
   ]
  },
  {
   "cell_type": "code",
   "execution_count": null,
   "id": "e951254a",
   "metadata": {},
   "outputs": [],
   "source": []
  }
 ],
 "metadata": {
  "kernelspec": {
   "display_name": "Python 3 (ipykernel)",
   "language": "python",
   "name": "python3"
  },
  "language_info": {
   "codemirror_mode": {
    "name": "ipython",
    "version": 3
   },
   "file_extension": ".py",
   "mimetype": "text/x-python",
   "name": "python",
   "nbconvert_exporter": "python",
   "pygments_lexer": "ipython3",
   "version": "3.9.13"
  }
 },
 "nbformat": 4,
 "nbformat_minor": 5
}
