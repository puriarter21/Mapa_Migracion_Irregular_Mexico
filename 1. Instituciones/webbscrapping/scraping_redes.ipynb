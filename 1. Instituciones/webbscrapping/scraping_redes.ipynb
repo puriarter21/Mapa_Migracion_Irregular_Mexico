{
 "cells": [
  {
   "cell_type": "code",
   "execution_count": 1,
   "id": "0456ee20",
   "metadata": {},
   "outputs": [],
   "source": [
    "from bs4 import BeautifulSoup\n",
    "\n",
    "import requests\n",
    "import re\n",
    "\n",
    "import pandas as pd\n",
    "\n",
    "import pandas as pd  # Library for data manipulation and analysis\n",
    "\n",
    "from geopy.geocoders import Photon\n",
    "from geopy.geocoders import Nominatim"
   ]
  },
  {
   "cell_type": "code",
   "execution_count": 2,
   "id": "639a4b2f",
   "metadata": {},
   "outputs": [],
   "source": [
    "def url_to_string(url):\n",
    "    req = requests.get(url)\n",
    "    soup = BeautifulSoup(req.text)\n",
    "    for script in soup([\"script\", \"style\", 'aside']):\n",
    "        script.extract()\n",
    "    return \" \".join(re.split(r'[\\n\\t]+', soup.get_text()))"
   ]
  },
  {
   "cell_type": "code",
   "execution_count": 3,
   "id": "b5c0ecc6",
   "metadata": {},
   "outputs": [],
   "source": [
    "# base url to scrape\n",
    "url_base = \"https://redes.dh.tamu.edu/index.php/node/\"\n",
    "\n",
    "# create empty dataframe to fill out with org's addresses\n",
    "df_comp = pd.DataFrame(columns=['id_org', 'Organización','Dirección','Ciudad','Estado','País','Código Postal','Tipo de Iniciativa'])\n",
    "\n",
    "# 3 ids for testing, must change to higher number\n",
    "id_orgs = range(680)"
   ]
  },
  {
   "cell_type": "markdown",
   "id": "98639695",
   "metadata": {},
   "source": [
    "### PARTE 1: scraping to get addresses"
   ]
  },
  {
   "cell_type": "code",
   "execution_count": null,
   "id": "8950c377",
   "metadata": {},
   "outputs": [],
   "source": [
    "#texto_org"
   ]
  },
  {
   "cell_type": "code",
   "execution_count": 4,
   "id": "ac1759ea",
   "metadata": {},
   "outputs": [
    {
     "data": {
      "text/html": [
       "<div>\n",
       "<style scoped>\n",
       "    .dataframe tbody tr th:only-of-type {\n",
       "        vertical-align: middle;\n",
       "    }\n",
       "\n",
       "    .dataframe tbody tr th {\n",
       "        vertical-align: top;\n",
       "    }\n",
       "\n",
       "    .dataframe thead th {\n",
       "        text-align: right;\n",
       "    }\n",
       "</style>\n",
       "<table border=\"1\" class=\"dataframe\">\n",
       "  <thead>\n",
       "    <tr style=\"text-align: right;\">\n",
       "      <th></th>\n",
       "      <th>id_org</th>\n",
       "      <th>Organización</th>\n",
       "      <th>Dirección</th>\n",
       "      <th>Ciudad</th>\n",
       "      <th>Estado</th>\n",
       "      <th>País</th>\n",
       "      <th>Código Postal</th>\n",
       "      <th>Tipo de Iniciativa</th>\n",
       "    </tr>\n",
       "  </thead>\n",
       "  <tbody>\n",
       "    <tr>\n",
       "      <th>0</th>\n",
       "      <td>0</td>\n",
       "      <td>Page not found</td>\n",
       "      <td></td>\n",
       "      <td></td>\n",
       "      <td></td>\n",
       "      <td></td>\n",
       "      <td></td>\n",
       "      <td></td>\n",
       "    </tr>\n",
       "    <tr>\n",
       "      <th>1</th>\n",
       "      <td>1</td>\n",
       "      <td>Otros Dreams en Acción</td>\n",
       "      <td>José María Marroquí 83 Colonia Centro, Centro,...</td>\n",
       "      <td>Ciudad de México</td>\n",
       "      <td>Ciudad de México</td>\n",
       "      <td>México</td>\n",
       "      <td>06000</td>\n",
       "      <td>Asociación civil</td>\n",
       "    </tr>\n",
       "    <tr>\n",
       "      <th>2</th>\n",
       "      <td>2</td>\n",
       "      <td>Dirección de CoDHR</td>\n",
       "      <td></td>\n",
       "      <td></td>\n",
       "      <td></td>\n",
       "      <td></td>\n",
       "      <td></td>\n",
       "      <td></td>\n",
       "    </tr>\n",
       "    <tr>\n",
       "      <th>3</th>\n",
       "      <td>3</td>\n",
       "      <td>Comunidad Redes</td>\n",
       "      <td></td>\n",
       "      <td></td>\n",
       "      <td></td>\n",
       "      <td></td>\n",
       "      <td></td>\n",
       "      <td></td>\n",
       "    </tr>\n",
       "    <tr>\n",
       "      <th>4</th>\n",
       "      <td>4</td>\n",
       "      <td>Acerca de nosotros</td>\n",
       "      <td></td>\n",
       "      <td></td>\n",
       "      <td></td>\n",
       "      <td></td>\n",
       "      <td></td>\n",
       "      <td></td>\n",
       "    </tr>\n",
       "  </tbody>\n",
       "</table>\n",
       "</div>"
      ],
      "text/plain": [
       "  id_org              Organización  \\\n",
       "0      0           Page not found    \n",
       "1      1   Otros Dreams en Acción    \n",
       "2      2       Dirección de CoDHR    \n",
       "3      3          Comunidad Redes    \n",
       "4      4       Acerca de nosotros    \n",
       "\n",
       "                                           Dirección            Ciudad  \\\n",
       "0                                                                        \n",
       "1  José María Marroquí 83 Colonia Centro, Centro,...  Ciudad de México   \n",
       "2                                                                        \n",
       "3                                                                        \n",
       "4                                                                        \n",
       "\n",
       "             Estado    País Código Postal Tipo de Iniciativa  \n",
       "0                                                             \n",
       "1  Ciudad de México  México         06000   Asociación civil  \n",
       "2                                                             \n",
       "3                                                             \n",
       "4                                                             "
      ]
     },
     "execution_count": 4,
     "metadata": {},
     "output_type": "execute_result"
    }
   ],
   "source": [
    "for id_org in id_orgs:\n",
    "    # create url\n",
    "    url_org = '{}{}'.format(url_base, id_org)\n",
    "    # scrape\n",
    "    texto_org = url_to_string(url_org)\n",
    "    \n",
    "    # Extract the name of the organization\n",
    "    org = re.findall(\"(.*?)\\|\", texto_org)[0]\n",
    "\n",
    "    # Extract address information\n",
    "    # error handling returns empty string if it doesn't find the content\n",
    "    try:\n",
    "        direccion = re.findall(\"Dirección (.*?) Ciudad\", texto_org)[0]\n",
    "    except IndexError:\n",
    "        direccion = ''\n",
    "    try:\n",
    "        ciudad = re.findall(\"Ciudad (.*?) Estado\", texto_org)[0]\n",
    "    except IndexError:\n",
    "        ciudad = ''\n",
    "    try:\n",
    "        estado = re.findall(\"Estado (.*?) País\", texto_org)[0]\n",
    "    except IndexError:\n",
    "        estado = ''\n",
    "    try:\n",
    "        pais = re.findall(\"País (.*?) Código Postal\", texto_org)[0]\n",
    "    except IndexError:\n",
    "        pais = ''\n",
    "    try:\n",
    "        cp = re.findall(\"Código Postal (\\d+)\", texto_org)[0]\n",
    "    except IndexError:\n",
    "        cp = ''\n",
    "    try:\n",
    "        tipo_iniciativa = re.findall(\"Tipo de Iniciativa (.*?) Tipo de Ayuda\", texto_org)[0]\n",
    "    except IndexError:\n",
    "        tipo_iniciativa = ''\n",
    "   \n",
    "\n",
    "        \n",
    "    # Create a pandas DataFrame with the extracted information\n",
    "    df_temp = pd.DataFrame({\n",
    "        'id_org' : id_org,\n",
    "        'Organización': [org],\n",
    "        'Dirección': [direccion],\n",
    "        'Ciudad': [ciudad],\n",
    "        'Estado': [estado],\n",
    "        'País': [pais],\n",
    "        'Código Postal': [cp],\n",
    "        'Tipo de Iniciativa' : [tipo_iniciativa]\n",
    "    })\n",
    "\n",
    "    df_comp = pd.concat([df_comp, df_temp], ignore_index=True)\n",
    "\n",
    "\n",
    "df_comp.head()"
   ]
  },
  {
   "cell_type": "code",
   "execution_count": 5,
   "id": "fe4cf63f",
   "metadata": {},
   "outputs": [],
   "source": [
    "# Create a new DataFrame with non-empty \"Dirección\" values\n",
    "directorio_redes = df_comp.loc[df_comp['Dirección'] != '']\n"
   ]
  },
  {
   "cell_type": "code",
   "execution_count": 13,
   "id": "bf645af0",
   "metadata": {},
   "outputs": [
    {
     "data": {
      "text/html": [
       "<div>\n",
       "<style scoped>\n",
       "    .dataframe tbody tr th:only-of-type {\n",
       "        vertical-align: middle;\n",
       "    }\n",
       "\n",
       "    .dataframe tbody tr th {\n",
       "        vertical-align: top;\n",
       "    }\n",
       "\n",
       "    .dataframe thead th {\n",
       "        text-align: right;\n",
       "    }\n",
       "</style>\n",
       "<table border=\"1\" class=\"dataframe\">\n",
       "  <thead>\n",
       "    <tr style=\"text-align: right;\">\n",
       "      <th></th>\n",
       "      <th>id_org</th>\n",
       "      <th>Organización</th>\n",
       "      <th>Dirección</th>\n",
       "      <th>Ciudad</th>\n",
       "      <th>Estado</th>\n",
       "      <th>País</th>\n",
       "      <th>Código Postal</th>\n",
       "      <th>Tipo de Iniciativa</th>\n",
       "    </tr>\n",
       "  </thead>\n",
       "  <tbody>\n",
       "    <tr>\n",
       "      <th>1</th>\n",
       "      <td>1</td>\n",
       "      <td>Otros Dreams en Acción</td>\n",
       "      <td>José María Marroquí 83 Colonia Centro, Centro,...</td>\n",
       "      <td>Ciudad de México</td>\n",
       "      <td>Ciudad de México</td>\n",
       "      <td>México</td>\n",
       "      <td>06000</td>\n",
       "      <td>Asociación civil</td>\n",
       "    </tr>\n",
       "    <tr>\n",
       "      <th>21</th>\n",
       "      <td>21</td>\n",
       "      <td>Cáritas Mazatlán, I.A.P (Albergue al peregrino)</td>\n",
       "      <td>Toma de Celaya 86, Col. Francisco Villa, C.P. ...</td>\n",
       "      <td>Mazatlán</td>\n",
       "      <td>Sinaloa</td>\n",
       "      <td>México</td>\n",
       "      <td>82127</td>\n",
       "      <td>Albergue</td>\n",
       "    </tr>\n",
       "    <tr>\n",
       "      <th>22</th>\n",
       "      <td>22</td>\n",
       "      <td>Albergue Una Gota en el Océano</td>\n",
       "      <td>Bahía Magdalena 20, Col. Rincón de Urías, C.P....</td>\n",
       "      <td>Mazatlán</td>\n",
       "      <td>Sinaloa</td>\n",
       "      <td>México</td>\n",
       "      <td>82070</td>\n",
       "      <td>Albergue</td>\n",
       "    </tr>\n",
       "    <tr>\n",
       "      <th>23</th>\n",
       "      <td>23</td>\n",
       "      <td>Albergue Ejército de Salvación</td>\n",
       "      <td>C. Gutierrez Nájera #514 Colonia Centro 82000</td>\n",
       "      <td>Mazatlán</td>\n",
       "      <td>Sinaloa</td>\n",
       "      <td>México</td>\n",
       "      <td>82000</td>\n",
       "      <td>Albergue</td>\n",
       "    </tr>\n",
       "    <tr>\n",
       "      <th>24</th>\n",
       "      <td>24</td>\n",
       "      <td>CAVI Centro de Atención a la Violencia Intraf...</td>\n",
       "      <td>AVE. EJERCITO MEXICANO 2017 ALTOS COL. PALOS P...</td>\n",
       "      <td>Mazatlán</td>\n",
       "      <td>Sinaloa</td>\n",
       "      <td>México</td>\n",
       "      <td>82010</td>\n",
       "      <td>Asociación civil</td>\n",
       "    </tr>\n",
       "  </tbody>\n",
       "</table>\n",
       "</div>"
      ],
      "text/plain": [
       "   id_org                                       Organización  \\\n",
       "1       1                            Otros Dreams en Acción    \n",
       "21     21   Cáritas Mazatlán, I.A.P (Albergue al peregrino)    \n",
       "22     22                    Albergue Una Gota en el Océano    \n",
       "23     23                    Albergue Ejército de Salvación    \n",
       "24     24   CAVI Centro de Atención a la Violencia Intraf...   \n",
       "\n",
       "                                            Dirección            Ciudad  \\\n",
       "1   José María Marroquí 83 Colonia Centro, Centro,...  Ciudad de México   \n",
       "21  Toma de Celaya 86, Col. Francisco Villa, C.P. ...          Mazatlán   \n",
       "22  Bahía Magdalena 20, Col. Rincón de Urías, C.P....          Mazatlán   \n",
       "23      C. Gutierrez Nájera #514 Colonia Centro 82000          Mazatlán   \n",
       "24  AVE. EJERCITO MEXICANO 2017 ALTOS COL. PALOS P...          Mazatlán   \n",
       "\n",
       "              Estado    País Código Postal Tipo de Iniciativa  \n",
       "1   Ciudad de México  México         06000   Asociación civil  \n",
       "21           Sinaloa  México         82127           Albergue  \n",
       "22           Sinaloa  México         82070           Albergue  \n",
       "23           Sinaloa  México         82000           Albergue  \n",
       "24           Sinaloa  México         82010   Asociación civil  "
      ]
     },
     "execution_count": 13,
     "metadata": {},
     "output_type": "execute_result"
    }
   ],
   "source": [
    "directorio_redes.head()\n",
    "#directorio_redes.shape"
   ]
  },
  {
   "cell_type": "code",
   "execution_count": 15,
   "id": "935f078d",
   "metadata": {},
   "outputs": [],
   "source": [
    "#directorio_redes.to_csv('/Users/pablouriarte/Documents/1. Expediente Tec de Monterrey/1.Tesis/1. instituciones/redes/nombre_del_archivo.csv', encoding='utf-8')"
   ]
  },
  {
   "cell_type": "code",
   "execution_count": null,
   "id": "7ab26b6b",
   "metadata": {},
   "outputs": [],
   "source": []
  },
  {
   "cell_type": "markdown",
   "id": "0bfc3fc6",
   "metadata": {},
   "source": [
    "### direccion (completa)\n",
    "\n",
    "Eventualmente podria ser necesario procesar mas la informacion y como se extrae de manera que sea mas facil para los geocodificardores encontrar sus coordenadas\n",
    "\n",
    "propuestas de procesamiento:\n",
    "\n",
    "-Identificar y remover palabras repetedias, simbolos que no sean letras y no admitir comas consecutivas\n",
    "\n",
    "\n",
    "-Talvez sea prudente echarle chatgtp a las extracciones igual que como lo hizo fer con el dir de acnur servicios"
   ]
  },
  {
   "cell_type": "code",
   "execution_count": null,
   "id": "2cc3c4b9",
   "metadata": {},
   "outputs": [],
   "source": [
    "# Create a new column with merged information\n",
    "directorio_redes['DirecciónCompleta'] = directorio_redes['Dirección'] + ',' + directorio_redes['Ciudad'] + ', ' + directorio_redes['Estado']# + ', ' + directorio_redes['País']\n",
    "\n",
    "# Optionally, you can strip any leading or trailing commas from the merged address\n",
    "directorio_redes['DirecciónCompleta'] = directorio_redes['DirecciónCompleta'].str.strip(',')\n"
   ]
  },
  {
   "cell_type": "markdown",
   "id": "ee794adb",
   "metadata": {},
   "source": [
    "## Pruebas"
   ]
  },
  {
   "cell_type": "code",
   "execution_count": null,
   "id": "dd169956",
   "metadata": {},
   "outputs": [],
   "source": [
    "#Aqui podriamos probar con distintas configuraciones a la parte de direccion para ver si podemos mejorar\n",
    "#la extraccion de coordenadas\n",
    "\n",
    "#Dirección + Ciudad + Estado + País\n",
    "dr1 = pd.DataFrame()\n",
    "dr1['name'] = directorio_redes['Organización']\n",
    "dr1['direccion'] = directorio_redes['Dirección'] + ',' + directorio_redes['Ciudad'] + ', ' + directorio_redes['Estado']# + ', ' + directorio_redes['País']\n",
    "\n"
   ]
  },
  {
   "cell_type": "code",
   "execution_count": null,
   "id": "e8fe9b15",
   "metadata": {},
   "outputs": [],
   "source": [
    "dr1.head()"
   ]
  },
  {
   "cell_type": "markdown",
   "id": "8f77a839",
   "metadata": {},
   "source": [
    "### PARTE 2: geolocate addresses (solo para pruebas, para editar df finales en notebook geocode)\n",
    "\n",
    "Para seguir trabajando en esta parte hay que definir que servicio es el mas acertado, escoje algunas filas dificiles del csv directorio_redes. haz un data frame, correlo en photon y revisa que servicio es mas acertado. Googlemaps, nominatim, etc etc."
   ]
  },
  {
   "cell_type": "code",
   "execution_count": null,
   "id": "99236cab",
   "metadata": {},
   "outputs": [],
   "source": [
    "from geopy.geocoders import Photon\n"
   ]
  },
  {
   "cell_type": "code",
   "execution_count": null,
   "id": "58da611e",
   "metadata": {},
   "outputs": [],
   "source": [
    "#geolocatorphoton\n",
    "def get_lat_lon(address):\n",
    "    geolocator = Photon(user_agent=\"measurements\",timeout=10)\n",
    "    try:\n",
    "        location = geolocator.geocode(address)\n",
    "        return location.latitude, location.longitude\n",
    "    except AttributeError:\n",
    "        return '', ''"
   ]
  },
  {
   "cell_type": "code",
   "execution_count": null,
   "id": "6473a72e",
   "metadata": {},
   "outputs": [],
   "source": [
    "#subset para probar\n",
    "indices_seleccionados = [1,2,3,4,5,6,7,8]\n",
    "subset_df = dr1.iloc[indices_seleccionados]\n",
    "subset_df.head(10)"
   ]
  },
  {
   "cell_type": "code",
   "execution_count": null,
   "id": "a60ed24d",
   "metadata": {},
   "outputs": [],
   "source": [
    "# get latlon for each address\n",
    "subset_df[\"latlon\"] = subset_df[\"direccion\"].apply(get_lat_lon)"
   ]
  },
  {
   "cell_type": "code",
   "execution_count": null,
   "id": "f4e3b8b4",
   "metadata": {},
   "outputs": [],
   "source": [
    "subset_df.head(10)"
   ]
  },
  {
   "cell_type": "markdown",
   "id": "b0609914",
   "metadata": {},
   "source": [
    "## 1. Redes a CSV"
   ]
  },
  {
   "cell_type": "code",
   "execution_count": null,
   "id": "7816087f",
   "metadata": {},
   "outputs": [],
   "source": [
    "# 1.redes\n",
    "#este es el df a descargar, seleccionar el que mejor responda a conseguir las coordenadas\n",
    "redes = pd.DataFrame()\n",
    "\n",
    "redes['name'] = directorio_redes['Organización']\n",
    "redes['descripcion'] = None  # Filling all rows with \"Nan\" (None)\n",
    "redes['latitud'] = None      # Filling all rows with \"Nan\" (None)\n",
    "redes['longitud'] = None     # Filling all rows with \"Nan\" (None)\n",
    "redes['coordenadas'] = None  # Filling all rows with \"Nan\" (None)\n",
    "redes['tipo'] = 'OSC / ONG'  # All rows should say \"OSC / ONG\"\n",
    "redes['direccion'] = directorio_redes['DirecciónCompleta']\n",
    "redes['bd'] = 'redes'        # All rows should say \"redes\"\n",
    "\n",
    "\n",
    "#redes.head(5)"
   ]
  },
  {
   "cell_type": "code",
   "execution_count": null,
   "id": "ec9cf348",
   "metadata": {},
   "outputs": [],
   "source": [
    "#dfredes = pd.read_csv('/Users/pablouriarte/Documents/1. Expediente Tec de Monterrey/1.Tesis/1. instituciones/notebooks_institucion/1.Redes.csv', encoding='utf-8')\n"
   ]
  },
  {
   "cell_type": "code",
   "execution_count": null,
   "id": "20577690",
   "metadata": {},
   "outputs": [],
   "source": [
    "#1. Redes#\n",
    "#Este crea un nuevo bd y lo manda al folder bd_ubicaciones.\n",
    "#redes.to_csv('/Users/pablouriarte/Documents/1. Expediente Tec de Monterrey/1.Tesis/Instituciones/notebooks_institucion/1.Redes.csv', index=False, encoding='utf-8')\n"
   ]
  },
  {
   "cell_type": "code",
   "execution_count": null,
   "id": "0e9dd342",
   "metadata": {},
   "outputs": [],
   "source": [
    "dfredes.head()"
   ]
  },
  {
   "cell_type": "code",
   "execution_count": null,
   "id": "a1bef26a",
   "metadata": {},
   "outputs": [],
   "source": [
    "#vamos a validar las direcciones de redes, hacemos pruebas para ver las coordenadas en tableu, y vemos que pedo.\n",
    "\n",
    "\n",
    "# paso 1.get coordinates\n",
    "\n",
    "#funcion para hacer direcciones a coordenadas\n",
    "def get_coordinates(address):\n",
    "    if pd.isnull(address): # Check if the address is NaN\n",
    "        return None, None\n",
    "    geolocator = Photon(user_agent=\"pablosthesis\", timeout=10)\n",
    "    try:\n",
    "        location = geolocator.geocode(address)\n",
    "        return location.latitude, location.longitude\n",
    "    except AttributeError:\n",
    "        return None, None"
   ]
  },
  {
   "cell_type": "code",
   "execution_count": null,
   "id": "34a883eb",
   "metadata": {},
   "outputs": [],
   "source": [
    "# Aplicamos la función para obtener las coordenadas\n",
    "dfredes['latitud'], dfredes['longitud'] = zip(*dfredes['direccion'].apply(get_coordinates))\n",
    "\n",
    "# Combinamos latitud y longitud en una nueva columna\n",
    "dfredes['coordenadas'] = dfredes[['latitud', 'longitud']].apply(tuple, axis=1)\n"
   ]
  },
  {
   "cell_type": "code",
   "execution_count": null,
   "id": "42c022b8",
   "metadata": {},
   "outputs": [],
   "source": [
    "#Revisar outliers, con latitud sacamos que nos ponga de menor a mayor y buscamos\n",
    "\n",
    "dfredes_ordenado = dfredes.sort_values(by='latitud', ascending=False)\n",
    "\n"
   ]
  },
  {
   "cell_type": "code",
   "execution_count": null,
   "id": "0479465a",
   "metadata": {},
   "outputs": [],
   "source": [
    "dfredes_ordenado.head()\n",
    "\n",
    "#el primer registro en ascendiente esta fuera de mexico, todos los demas bien.\n",
    "\n",
    "#el primer registro en desc sale en mexicali, buena señal de que de aqui no hay tantos Problemas con Photon.\n",
    "\n"
   ]
  },
  {
   "cell_type": "code",
   "execution_count": null,
   "id": "1082f76b",
   "metadata": {},
   "outputs": [],
   "source": [
    "#Nan tratamos al ultimo en excel.\n",
    "#Descargamos y revalidamos en tableu\n",
    "\n",
    "dfredes_ordenado.to_csv('/Users/pablouriarte/Documents/1.Redesvalidacion.csv', index=False, encoding='utf-8')\n"
   ]
  },
  {
   "cell_type": "code",
   "execution_count": null,
   "id": "55cbc3b8",
   "metadata": {},
   "outputs": [],
   "source": []
  }
 ],
 "metadata": {
  "kernelspec": {
   "display_name": "Python 3 (ipykernel)",
   "language": "python",
   "name": "python3"
  },
  "language_info": {
   "codemirror_mode": {
    "name": "ipython",
    "version": 3
   },
   "file_extension": ".py",
   "mimetype": "text/x-python",
   "name": "python",
   "nbconvert_exporter": "python",
   "pygments_lexer": "ipython3",
   "version": "3.9.13"
  }
 },
 "nbformat": 4,
 "nbformat_minor": 5
}
