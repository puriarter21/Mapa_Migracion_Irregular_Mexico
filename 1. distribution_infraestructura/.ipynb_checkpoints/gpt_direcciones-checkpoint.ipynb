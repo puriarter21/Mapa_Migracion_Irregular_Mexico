{
 "cells": [
  {
   "cell_type": "markdown",
   "id": "2e893018",
   "metadata": {},
   "source": [
    "### AI/GTP Extract\n",
    "\n",
    "Este notebook lo utilizamos para cuando las condiciones de las fuentes de informacion esten muy complicadas podamos extraer informacion utilizando instrucciones de gtp.\n"
   ]
  },
  {
   "cell_type": "code",
   "execution_count": null,
   "id": "03d85386",
   "metadata": {},
   "outputs": [],
   "source": [
    "# need to run\n",
    "# pip install openai\n",
    "# pip install python-dotenv\n",
    "\n",
    "import time\n",
    "\n",
    "import pandas as pd\n",
    "\n",
    "from bs4 import BeautifulSoup\n",
    "import requests\n",
    "import re\n",
    "\n",
    "import openai\n",
    "import os\n",
    "\n",
    "from dotenv import load_dotenv, find_dotenv\n",
    "_ = load_dotenv(find_dotenv())\n",
    "\n",
    "# You need to generate this api key\n",
    "# CHANGE THIS FILENAME IF YOU'RE USING THIS AUTHENTICATION METHOD\n",
    "openai.api_key_path = \"/Users/mariafernanda/.ssh/openai_tc5031.txt\"\n",
    "#openai.api_key  = os.getenv('OPENAI_API_KEY')"
   ]
  },
  {
   "cell_type": "code",
   "execution_count": null,
   "id": "22429c8b",
   "metadata": {},
   "outputs": [],
   "source": [
    "def get_completion(prompt, model=\"gpt-3.5-turbo\"):\n",
    "    messages = [{\"role\": \"user\", \"content\": prompt}]\n",
    "    response = openai.ChatCompletion.create(\n",
    "        model=model,\n",
    "        messages=messages,\n",
    "        temperature=0, # this is the degree of randomness of the model's output\n",
    "    )\n",
    "    return response.choices[0].message[\"content\"]"
   ]
  },
  {
   "cell_type": "code",
   "execution_count": null,
   "id": "173845bd",
   "metadata": {},
   "outputs": [],
   "source": [
    "# read in file\n",
    "df_descripciones = pd.read_csv(\"./bd_tw_descrip.csv\")\n",
    "df_descripciones.head()"
   ]
  },
  {
   "cell_type": "code",
   "execution_count": null,
   "id": "0d428f02",
   "metadata": {},
   "outputs": [],
   "source": [
    "# crear una lista temporal que guarde los valores\n",
    "lista_temporal = []\n",
    "\n",
    "# iterar en cada fila del df, e ir guardando los valores en la lista\n",
    "for i in range(0, 666):\n",
    "    \n",
    "    print(i)\n",
    "    time.sleep(1)\n",
    "    \n",
    "    text = df_descripciones[\"description\"][i]\n",
    "\n",
    "    prompt = f\"\"\"\n",
    "    Por favor extrae de este string lo que tú creas que es más probable que sea una dirección. Si no encuentras nada, escribe <No disponible>.\n",
    "    ```{text}```\n",
    "    \"\"\"\n",
    "\n",
    "    response = get_completion(prompt)\n",
    "    # guardar en la lista\n",
    "    lista_temporal.append(response)\n",
    "\n",
    "df_descripciones[\"direccion\"] = lista_temporal"
   ]
  },
  {
   "cell_type": "code",
   "execution_count": null,
   "id": "b010890b",
   "metadata": {},
   "outputs": [],
   "source": [
    "lista_temporal"
   ]
  },
  {
   "cell_type": "code",
   "execution_count": null,
   "id": "b7f2757b",
   "metadata": {},
   "outputs": [],
   "source": [
    "import csv\n",
    "\n",
    "# Open file to write data\n",
    "with open('direcciones_extraidas.csv', 'w', newline='') as file:\n",
    "    writer = csv.writer(file)\n",
    "\n",
    "    # Write each item in a new row\n",
    "    for item in lista_temporal:\n",
    "        writer.writerow([item])"
   ]
  },
  {
   "cell_type": "code",
   "execution_count": null,
   "id": "2edd4666",
   "metadata": {},
   "outputs": [],
   "source": []
  }
 ],
 "metadata": {
  "kernelspec": {
   "display_name": "Python 3 (ipykernel)",
   "language": "python",
   "name": "python3"
  },
  "language_info": {
   "codemirror_mode": {
    "name": "ipython",
    "version": 3
   },
   "file_extension": ".py",
   "mimetype": "text/x-python",
   "name": "python",
   "nbconvert_exporter": "python",
   "pygments_lexer": "ipython3",
   "version": "3.9.13"
  }
 },
 "nbformat": 4,
 "nbformat_minor": 5
}
