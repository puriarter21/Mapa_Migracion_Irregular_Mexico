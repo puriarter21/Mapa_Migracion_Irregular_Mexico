{
 "cells": [
  {
   "cell_type": "markdown",
   "id": "0a767be5",
   "metadata": {},
   "source": [
    "## CBP Entry Ports Data\n",
    "\n",
    "The directory of the entry ports in the CBP jurisdiction includes terrestrial ports, maritimal ports and airpoirts of the southwest landborder.\n",
    "\n",
    "df_CA = https://www.cbp.gov/about/contact/ports/ca\n",
    "\n",
    "df_AZ = https://www.cbp.gov/about/contact/ports/az\n",
    "\n",
    "df_nm = https://www.cbp.gov/about/contact/ports/nm\n",
    "\n",
    "df_tx = https://www.cbp.gov/about/contact/ports/tx\n"
   ]
  },
  {
   "cell_type": "code",
   "execution_count": 2,
   "id": "f9e25166",
   "metadata": {},
   "outputs": [],
   "source": [
    "from bs4 import BeautifulSoup\n",
    "\n",
    "import requests\n",
    "import re\n",
    "\n",
    "import pandas as pd\n",
    "\n",
    "from geopy.geocoders import Photon\n",
    "from geopy.geocoders import Nominatim"
   ]
  },
  {
   "cell_type": "markdown",
   "id": "7502a969",
   "metadata": {},
   "source": [
    "### Step 1: Data Scrap"
   ]
  },
  {
   "cell_type": "code",
   "execution_count": 3,
   "id": "55864786",
   "metadata": {},
   "outputs": [],
   "source": [
    "# URLs and their corresponding state abbreviations\n",
    "urls = {\n",
    "    'ca': 'https://www.cbp.gov/about/contact/ports/ca',\n",
    "    'az': 'https://www.cbp.gov/about/contact/ports/az',\n",
    "    'nm': 'https://www.cbp.gov/about/contact/ports/nm',\n",
    "    'tx': 'https://www.cbp.gov/about/contact/ports/tx'\n",
    "}\n",
    "\n",
    "# Function to scrape and create a DataFrame from a given URL\n",
    "def scrape_to_df(url):\n",
    "    response = requests.get(url)\n",
    "    soup = BeautifulSoup(response.content, 'html.parser')\n",
    "    table = soup.find('table')\n",
    "    data = []\n",
    "    for row in table.find_all('tr'):\n",
    "        cols = row.find_all('td')\n",
    "        if len(cols) > 0:\n",
    "            col_data = [ele.text.strip().replace('\\n', ' ') for ele in cols]\n",
    "            data.append(col_data)\n",
    "    return pd.DataFrame(data, columns=['Port Name', 'Location Address', 'Field Operation Office'])\n",
    "\n",
    "# Dictionary to hold each state's DataFrame\n",
    "state_dfs = {}\n",
    "\n",
    "# Scrape each URL and store the resulting DataFrame\n",
    "for state_abbr, url in urls.items():\n",
    "    df_temp = scrape_to_df(url)\n",
    "    # Add a state column to each DataFrame\n",
    "    df_temp['State'] = state_abbr.upper()\n",
    "    state_dfs[f'df_{state_abbr}'] = df_temp\n",
    "\n",
    "# Merge all state DataFrames into df_sb_all\n",
    "df_sb_all = pd.concat(state_dfs.values(), ignore_index=True)\n"
   ]
  },
  {
   "cell_type": "code",
   "execution_count": 11,
   "id": "094e90f4",
   "metadata": {},
   "outputs": [],
   "source": [
    "#Take out the airports\n",
    "#Otra opcion podria ser quitar por CP, hacer una lista de cp que aplican y quitar los demas"
   ]
  },
  {
   "cell_type": "code",
   "execution_count": 14,
   "id": "a57f454d",
   "metadata": {},
   "outputs": [],
   "source": [
    "# Filtrar el DataFrame para excluir filas que contienen la palabra \"airport\"\n",
    "df_sb_all = df_sb_all[~df_sb_all.apply(lambda x: x.astype(str).str.contains('airport', case=False, na=False)).any(axis=1)]\n"
   ]
  },
  {
   "cell_type": "code",
   "execution_count": 13,
   "id": "dac3fcbe",
   "metadata": {},
   "outputs": [
    {
     "name": "stdout",
     "output_type": "stream",
     "text": [
      "El número total de líneas (filas) es: 47\n"
     ]
    }
   ],
   "source": [
    "num_filas = df_sb_all_filtered.shape[0]\n",
    "print(f\"El número total de líneas (filas) es: {num_filas}\")"
   ]
  },
  {
   "cell_type": "markdown",
   "id": "3a60a957",
   "metadata": {},
   "source": [
    " ### CBP Entry Ports \n",
    " #### Step 2: Get Geolocate Addresses to Coords"
   ]
  },
  {
   "cell_type": "code",
   "execution_count": 15,
   "id": "5b1313e0",
   "metadata": {},
   "outputs": [],
   "source": [
    "# Inicializar el geolocalizador de Photon\n",
    "geolocator = Photon(user_agent=\"geoapiExercises\")\n",
    "\n",
    "# Función para obtener latitud y longitud\n",
    "def get_lat_long(address):\n",
    "    try:\n",
    "        location = geolocator.geocode(address)\n",
    "        if location:\n",
    "            return (location.latitude, location.longitude)\n",
    "        else:\n",
    "            return (None, None)\n",
    "    except:\n",
    "        return (None, None)\n",
    "\n",
    "# Aplicar la función a la columna 'Location Address'\n",
    "df_sb_all['Coordinates'] = df_sb_all['Location Address'].apply(lambda x: get_lat_long(x))\n",
    "\n",
    "# Separar las coordenadas en dos columnas nuevas: 'Latitude' y 'Longitude'\n",
    "df_sb_all[['Latitude', 'Longitude']] = pd.DataFrame(df_sb_all['Coordinates'].tolist(), index=df_sb_all.index)\n"
   ]
  },
  {
   "cell_type": "code",
   "execution_count": 16,
   "id": "977b3d05",
   "metadata": {},
   "outputs": [
    {
     "data": {
      "text/html": [
       "<div>\n",
       "<style scoped>\n",
       "    .dataframe tbody tr th:only-of-type {\n",
       "        vertical-align: middle;\n",
       "    }\n",
       "\n",
       "    .dataframe tbody tr th {\n",
       "        vertical-align: top;\n",
       "    }\n",
       "\n",
       "    .dataframe thead th {\n",
       "        text-align: right;\n",
       "    }\n",
       "</style>\n",
       "<table border=\"1\" class=\"dataframe\">\n",
       "  <thead>\n",
       "    <tr style=\"text-align: right;\">\n",
       "      <th></th>\n",
       "      <th>Port Name</th>\n",
       "      <th>Location Address</th>\n",
       "      <th>Field Operation Office</th>\n",
       "      <th>State</th>\n",
       "      <th>Coordinates</th>\n",
       "      <th>Latitude</th>\n",
       "      <th>Longitude</th>\n",
       "    </tr>\n",
       "  </thead>\n",
       "  <tbody>\n",
       "    <tr>\n",
       "      <th>0</th>\n",
       "      <td>Andrade - Class A, California - 2502</td>\n",
       "      <td>235 Andrade Road Winterhaven, CA 92283 United ...</td>\n",
       "      <td>San Diego</td>\n",
       "      <td>CA</td>\n",
       "      <td>(32.7184216, -114.727919)</td>\n",
       "      <td>32.718422</td>\n",
       "      <td>-114.727919</td>\n",
       "    </tr>\n",
       "    <tr>\n",
       "      <th>1</th>\n",
       "      <td>Calexico East - Class A, California - 2507</td>\n",
       "      <td>1699 East Carr, Rd Bldg A Calexico, CA 92231 U...</td>\n",
       "      <td>San Diego</td>\n",
       "      <td>CA</td>\n",
       "      <td>(32.6753413, -115.3887997)</td>\n",
       "      <td>32.675341</td>\n",
       "      <td>-115.388800</td>\n",
       "    </tr>\n",
       "    <tr>\n",
       "      <th>2</th>\n",
       "      <td>Calexico West - Class A, California - 2503</td>\n",
       "      <td>200 East First Street Calexico, CA 92231 Unite...</td>\n",
       "      <td>San Diego</td>\n",
       "      <td>CA</td>\n",
       "      <td>(38.88981295000001, -77.00902077737487)</td>\n",
       "      <td>38.889813</td>\n",
       "      <td>-77.009021</td>\n",
       "    </tr>\n",
       "    <tr>\n",
       "      <th>3</th>\n",
       "      <td>Eureka, California - 2802</td>\n",
       "      <td>317 3rd Street, Suite 6 Eureka, CA 95501 Unite...</td>\n",
       "      <td>San Francisco</td>\n",
       "      <td>CA</td>\n",
       "      <td>(40.8035929, -124.16821893938675)</td>\n",
       "      <td>40.803593</td>\n",
       "      <td>-124.168219</td>\n",
       "    </tr>\n",
       "    <tr>\n",
       "      <th>4</th>\n",
       "      <td>Fresno (2803/2882), California - 2803</td>\n",
       "      <td>5177 E. Clinton Way Fresno, CA 93727 United St...</td>\n",
       "      <td>San Francisco</td>\n",
       "      <td>CA</td>\n",
       "      <td>(36.7722997, -119.7316224)</td>\n",
       "      <td>36.772300</td>\n",
       "      <td>-119.731622</td>\n",
       "    </tr>\n",
       "  </tbody>\n",
       "</table>\n",
       "</div>"
      ],
      "text/plain": [
       "                                    Port Name  \\\n",
       "0        Andrade - Class A, California - 2502   \n",
       "1  Calexico East - Class A, California - 2507   \n",
       "2  Calexico West - Class A, California - 2503   \n",
       "3                   Eureka, California - 2802   \n",
       "4       Fresno (2803/2882), California - 2803   \n",
       "\n",
       "                                    Location Address Field Operation Office  \\\n",
       "0  235 Andrade Road Winterhaven, CA 92283 United ...              San Diego   \n",
       "1  1699 East Carr, Rd Bldg A Calexico, CA 92231 U...              San Diego   \n",
       "2  200 East First Street Calexico, CA 92231 Unite...              San Diego   \n",
       "3  317 3rd Street, Suite 6 Eureka, CA 95501 Unite...          San Francisco   \n",
       "4  5177 E. Clinton Way Fresno, CA 93727 United St...          San Francisco   \n",
       "\n",
       "  State                              Coordinates   Latitude   Longitude  \n",
       "0    CA                (32.7184216, -114.727919)  32.718422 -114.727919  \n",
       "1    CA               (32.6753413, -115.3887997)  32.675341 -115.388800  \n",
       "2    CA  (38.88981295000001, -77.00902077737487)  38.889813  -77.009021  \n",
       "3    CA        (40.8035929, -124.16821893938675)  40.803593 -124.168219  \n",
       "4    CA               (36.7722997, -119.7316224)  36.772300 -119.731622  "
      ]
     },
     "execution_count": 16,
     "metadata": {},
     "output_type": "execute_result"
    }
   ],
   "source": [
    "df_sb_all.head()"
   ]
  },
  {
   "cell_type": "code",
   "execution_count": 17,
   "id": "a059704b",
   "metadata": {},
   "outputs": [
    {
     "name": "stdout",
     "output_type": "stream",
     "text": [
      "Archivo guardado exitosamente en: /Users/pablouriarte/Documents/1. Expediente Tec de Monterrey/1.Tesis/Mapa_Migracion_Irregular_Mexico/1. distribution_Institucional/3. CBP Entry Ports/cbp_entry_ports_loc.csv\n"
     ]
    }
   ],
   "source": [
    "#guardar el archivo CSV\n",
    "path = \"/Users/pablouriarte/Documents/1. Expediente Tec de Monterrey/1.Tesis/Mapa_Migracion_Irregular_Mexico/1. distribution_Institucional/3. CBP Entry Ports/cbp_entry_ports_loc.csv\"\n",
    "\n",
    "# Guardar el DataFrame como CSV\n",
    "df_sb_all.to_csv(path, index=False)\n",
    "\n",
    "print(\"Archivo guardado exitosamente en:\", path)\n"
   ]
  },
  {
   "cell_type": "code",
   "execution_count": null,
   "id": "f1808e6c",
   "metadata": {},
   "outputs": [],
   "source": []
  }
 ],
 "metadata": {
  "kernelspec": {
   "display_name": "Python 3 (ipykernel)",
   "language": "python",
   "name": "python3"
  },
  "language_info": {
   "codemirror_mode": {
    "name": "ipython",
    "version": 3
   },
   "file_extension": ".py",
   "mimetype": "text/x-python",
   "name": "python",
   "nbconvert_exporter": "python",
   "pygments_lexer": "ipython3",
   "version": "3.9.13"
  }
 },
 "nbformat": 4,
 "nbformat_minor": 5
}
