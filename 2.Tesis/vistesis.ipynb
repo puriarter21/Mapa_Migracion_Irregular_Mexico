{
 "cells": [
  {
   "cell_type": "code",
   "execution_count": null,
   "id": "e27f62b8-7757-42a9-9850-add9341f9c78",
   "metadata": {},
   "outputs": [],
   "source": []
  },
  {
   "cell_type": "code",
   "execution_count": 1,
   "id": "4935ddab-fb18-4647-a76d-f3375974f8e9",
   "metadata": {},
   "outputs": [],
   "source": [
    "import pandas as pd\n",
    "import numpy as np\n",
    "import geopandas as gpd\n",
    "import matplotlib.pyplot as plt\n",
    "import seaborn as sns\n",
    "import plotly.graph_objects as go"
   ]
  },
  {
   "cell_type": "code",
   "execution_count": 18,
   "id": "16b31d2a-0086-402e-99fb-89efc95a2591",
   "metadata": {},
   "outputs": [],
   "source": [
    "bd2020 = pd.read_excel('C:\\\\Users\\\\puria\\\\Documents\\\\articulo\\\\Mapa_Migracion_Irregular_Mexico\\\\2.Tesis\\\\1. Detenciones INM\\\\Total_De_Eventos\\\\Eventos Municipal\\\\2020.xlsx')\n",
    "bd2021 = pd.read_excel('C:\\\\Users\\\\puria\\\\Documents\\\\articulo\\\\Mapa_Migracion_Irregular_Mexico\\\\2.Tesis\\\\1. Detenciones INM\\\\Total_De_Eventos\\\\Eventos Municipal\\\\2021.xlsx')\n",
    "bd2022 = pd.read_excel('C:\\\\Users\\\\puria\\\\Documents\\\\articulo\\\\Mapa_Migracion_Irregular_Mexico\\\\2.Tesis\\\\1. Detenciones INM\\\\Total_De_Eventos\\\\Eventos Municipal\\\\2022.xlsx')\n",
    "bd2023 = pd.read_excel('C:\\\\Users\\\\puria\\\\Documents\\\\articulo\\\\Mapa_Migracion_Irregular_Mexico\\\\2.Tesis\\\\1. Detenciones INM\\\\Total_De_Eventos\\\\Eventos Municipal\\\\2023.xlsx')\n",
    "bd2024 = pd.read_excel('C:\\\\Users\\\\puria\\\\Documents\\\\articulo\\\\Mapa_Migracion_Irregular_Mexico\\\\2.Tesis\\\\1. Detenciones INM\\\\Total_De_Eventos\\\\Eventos Municipal\\\\2024.xlsx')\n"
   ]
  },
  {
   "cell_type": "code",
   "execution_count": 21,
   "id": "f8fbb5c1-a0f6-48cf-8b6b-d158556eb008",
   "metadata": {},
   "outputs": [],
   "source": [
    "# Seleccionar solo las columnas necesarias y agregar la columna del año\n",
    "bd2020 = bd2020[['Entidad Federativa / Municipio', 'Total']]\n",
    "bd2020['Año'] = 2020\n",
    "\n",
    "bd2021 = bd2021[['Entidad Federativa / Municipio', 'Total']]\n",
    "bd2021['Año'] = 2021\n",
    "\n",
    "bd2022 = bd2022[['Entidad Federativa / Municipio', 'Total']]\n",
    "bd2022['Año'] = 2022\n",
    "\n",
    "bd2023 = bd2023[['Entidad Federativa / Municipio', 'Total']]\n",
    "bd2023['Año'] = 2023\n",
    "\n",
    "bd2024 = bd2024[['Entidad Federativa / Municipio', 'Total']]\n",
    "bd2024['Año'] = 2024\n",
    "\n",
    "# Unir todos los dataframes en uno solo\n",
    "df_concat = pd.concat([bd2020, bd2021, bd2022, bd2023, bd2024], ignore_index=True)"
   ]
  },
  {
   "cell_type": "code",
   "execution_count": 22,
   "id": "35ff1dcc-4612-4d82-9c01-ca974620d381",
   "metadata": {},
   "outputs": [
    {
     "name": "stdout",
     "output_type": "stream",
     "text": [
      "  Entidad Federativa / Municipio  Total   Año\n",
      "1                  Total general  82379  2020\n",
      "3                 Aguascalientes    116  2020\n",
      "4           Aguascalientes, Ags.     93  2020\n",
      "5                 Calvillo, Ags.      1  2020\n",
      "6                    Cosío, Ags.      4  2020\n"
     ]
    }
   ],
   "source": [
    "# Eliminar filas con cualquier valor NaN en el dataframe\n",
    "df_concat = df_concat.dropna()\n",
    "\n"
   ]
  },
  {
   "cell_type": "code",
   "execution_count": 25,
   "id": "df008ad3-96dc-4608-bbac-61232ce0d0aa",
   "metadata": {},
   "outputs": [],
   "source": [
    "# Subdataframe con filas que contienen una coma en la columna 'Entidad Federativa / Municipio'\n",
    "df_mun = df_concat[df_concat['Entidad Federativa / Municipio'].str.contains(',')]\n",
    "\n",
    "# Subdataframe con filas que no contienen una coma en la columna 'Entidad Federativa / Municipio'\n",
    "df_edo = df_concat[~df_concat['Entidad Federativa / Municipio'].str.contains(',')]\n"
   ]
  },
  {
   "cell_type": "code",
   "execution_count": 53,
   "id": "fb501ec6-8c8b-4755-ae8d-6cbdb15b1c66",
   "metadata": {},
   "outputs": [],
   "source": [
    "#df_mun.to_csv('C:\\\\Users\\\\puria\\\\Documents\\\\articulo\\\\Mapa_Migracion_Irregular_Mexico\\\\2.Tesis\\\\1. Detenciones INM\\\\mun2020-2024.csv')"
   ]
  },
  {
   "cell_type": "code",
   "execution_count": 28,
   "id": "eb472e2a-1e02-4df8-9da4-040ad2eef386",
   "metadata": {},
   "outputs": [],
   "source": [
    "#df_edo.to_csv('C:\\\\Users\\\\puria\\\\Documents\\\\articulo\\\\Mapa_Migracion_Irregular_Mexico\\\\2.Tesis\\\\1. Detenciones INM\\\\edo2020-2024.csv')"
   ]
  },
  {
   "cell_type": "code",
   "execution_count": 54,
   "id": "9629f29e-67a4-4d37-aa01-55ee17ddd64e",
   "metadata": {},
   "outputs": [
    {
     "data": {
      "text/html": [
       "<div>\n",
       "<style scoped>\n",
       "    .dataframe tbody tr th:only-of-type {\n",
       "        vertical-align: middle;\n",
       "    }\n",
       "\n",
       "    .dataframe tbody tr th {\n",
       "        vertical-align: top;\n",
       "    }\n",
       "\n",
       "    .dataframe thead th {\n",
       "        text-align: right;\n",
       "    }\n",
       "</style>\n",
       "<table border=\"1\" class=\"dataframe\">\n",
       "  <thead>\n",
       "    <tr style=\"text-align: right;\">\n",
       "      <th></th>\n",
       "      <th>Municipio</th>\n",
       "      <th>Total</th>\n",
       "      <th>Año</th>\n",
       "    </tr>\n",
       "  </thead>\n",
       "  <tbody>\n",
       "    <tr>\n",
       "      <th>4</th>\n",
       "      <td>Aguascalientes, Ags.</td>\n",
       "      <td>93</td>\n",
       "      <td>2020</td>\n",
       "    </tr>\n",
       "    <tr>\n",
       "      <th>5</th>\n",
       "      <td>Calvillo, Ags.</td>\n",
       "      <td>1</td>\n",
       "      <td>2020</td>\n",
       "    </tr>\n",
       "    <tr>\n",
       "      <th>6</th>\n",
       "      <td>Cosío, Ags.</td>\n",
       "      <td>4</td>\n",
       "      <td>2020</td>\n",
       "    </tr>\n",
       "    <tr>\n",
       "      <th>7</th>\n",
       "      <td>Jesús María, Ags.</td>\n",
       "      <td>13</td>\n",
       "      <td>2020</td>\n",
       "    </tr>\n",
       "    <tr>\n",
       "      <th>8</th>\n",
       "      <td>San Francisco de los Romo, Ags.</td>\n",
       "      <td>5</td>\n",
       "      <td>2020</td>\n",
       "    </tr>\n",
       "    <tr>\n",
       "      <th>...</th>\n",
       "      <td>...</td>\n",
       "      <td>...</td>\n",
       "      <td>...</td>\n",
       "    </tr>\n",
       "    <tr>\n",
       "      <th>2209</th>\n",
       "      <td>Fresnillo, Zac.</td>\n",
       "      <td>134</td>\n",
       "      <td>2024</td>\n",
       "    </tr>\n",
       "    <tr>\n",
       "      <th>2210</th>\n",
       "      <td>Guadalupe, Zac.</td>\n",
       "      <td>7</td>\n",
       "      <td>2024</td>\n",
       "    </tr>\n",
       "    <tr>\n",
       "      <th>2211</th>\n",
       "      <td>Trancoso, Zac.</td>\n",
       "      <td>21</td>\n",
       "      <td>2024</td>\n",
       "    </tr>\n",
       "    <tr>\n",
       "      <th>2212</th>\n",
       "      <td>Villa de Cos, Zac.</td>\n",
       "      <td>10</td>\n",
       "      <td>2024</td>\n",
       "    </tr>\n",
       "    <tr>\n",
       "      <th>2213</th>\n",
       "      <td>Zacatecas, Zac.</td>\n",
       "      <td>391</td>\n",
       "      <td>2024</td>\n",
       "    </tr>\n",
       "  </tbody>\n",
       "</table>\n",
       "<p>1802 rows × 3 columns</p>\n",
       "</div>"
      ],
      "text/plain": [
       "                            Municipio  Total   Año\n",
       "4                Aguascalientes, Ags.     93  2020\n",
       "5                      Calvillo, Ags.      1  2020\n",
       "6                         Cosío, Ags.      4  2020\n",
       "7                   Jesús María, Ags.     13  2020\n",
       "8     San Francisco de los Romo, Ags.      5  2020\n",
       "...                               ...    ...   ...\n",
       "2209                  Fresnillo, Zac.    134  2024\n",
       "2210                  Guadalupe, Zac.      7  2024\n",
       "2211                   Trancoso, Zac.     21  2024\n",
       "2212               Villa de Cos, Zac.     10  2024\n",
       "2213                  Zacatecas, Zac.    391  2024\n",
       "\n",
       "[1802 rows x 3 columns]"
      ]
     },
     "execution_count": 54,
     "metadata": {},
     "output_type": "execute_result"
    }
   ],
   "source": [
    "df_mun"
   ]
  },
  {
   "cell_type": "code",
   "execution_count": 41,
   "id": "a9adbbae-ebfc-4575-b932-3199576c89ab",
   "metadata": {},
   "outputs": [
    {
     "data": {
      "application/vnd.plotly.v1+json": {
       "config": {
        "plotlyServerURL": "https://plot.ly"
       },
       "data": [
        {
         "link": {
          "source": [
           0,
           0,
           0,
           0,
           0,
           0,
           0,
           0,
           0,
           0,
           11,
           11,
           11,
           11,
           11,
           11,
           11,
           11,
           11,
           11,
           22,
           22,
           22,
           22,
           22,
           22,
           22,
           22,
           22,
           22,
           33,
           33,
           33,
           33,
           33,
           33,
           33,
           33,
           33,
           33,
           44,
           44,
           44,
           44,
           44,
           44,
           44,
           44,
           44,
           44
          ],
          "target": [
           34,
           25,
           16,
           28,
           29,
           51,
           52,
           53,
           9,
           21,
           34,
           45,
           25,
           48,
           16,
           29,
           52,
           53,
           54,
           21,
           34,
           45,
           25,
           48,
           27,
           28,
           29,
           51,
           52,
           54,
           34,
           45,
           46,
           48,
           49,
           50,
           51,
           52,
           53,
           54,
           45,
           46,
           47,
           48,
           49,
           50,
           51,
           52,
           53,
           54
          ],
          "value": [
           3704,
           3474,
           3309,
           4062,
           13285,
           3561,
           6260,
           2950,
           2594,
           1884,
           14530,
           8555,
           13995,
           18618,
           8992,
           17304,
           16334,
           10718,
           29615,
           10154,
           27028,
           20707,
           23080,
           14598,
           12025,
           20474,
           15142,
           28889,
           45672,
           34723,
           36446,
           74160,
           23150,
           86684,
           23755,
           31739,
           28203,
           70665,
           39620,
           27405,
           107606,
           25912,
           20679,
           64851,
           26336,
           45254,
           32270,
           87845,
           29570,
           25642
          ]
         },
         "node": {
          "label": [
           "2020",
           "Acayucan, Ver.",
           "Hermosillo, Son.",
           "Palenque, Chis.",
           "Piedras Negras, Coah.",
           "Reynosa, Tamps.",
           "Suchiate, Chis.",
           "Tapachula, Chis.",
           "Tenosique, Tab.",
           "Tuxtla Chico, Chis.",
           "Tuxtla Gutiérrez, Chis.",
           "2021",
           "Acayucan, Ver.",
           "Centro, Tab.",
           "Hermosillo, Son.",
           "Huimanguillo, Tab.",
           "Palenque, Chis.",
           "Reynosa, Tamps.",
           "Tapachula, Chis.",
           "Tenosique, Tab.",
           "Tijuana, BC",
           "Tuxtla Gutiérrez, Chis.",
           "2022",
           "Acayucan, Ver.",
           "Centro, Tab.",
           "Hermosillo, Son.",
           "Huimanguillo, Tab.",
           "Juárez, Chih.",
           "Piedras Negras, Coah.",
           "Reynosa, Tamps.",
           "Suchiate, Chis.",
           "Tapachula, Chis.",
           "Tijuana, BC",
           "2023",
           "Acayucan, Ver.",
           "Centro, Tab.",
           "Cárdenas, Tab.",
           "Huimanguillo, Tab.",
           "Huixtla, Chis.",
           "Macuspana, Tab.",
           "Suchiate, Chis.",
           "Tapachula, Chis.",
           "Tenosique, Tab.",
           "Tijuana, BC",
           "2024",
           "Centro, Tab.",
           "Cárdenas, Tab.",
           "Huehuetán, Chis.",
           "Huimanguillo, Tab.",
           "Huixtla, Chis.",
           "Macuspana, Tab.",
           "Suchiate, Chis.",
           "Tapachula, Chis.",
           "Tenosique, Tab.",
           "Tijuana, BC"
          ],
          "line": {
           "color": "black",
           "width": 0.5
          },
          "pad": 15,
          "thickness": 20,
          "x": [
           0.011904761904761904,
           0.9880952380952381,
           0.011904761904761904,
           0.9880952380952381,
           0.9880952380952381,
           0.011904761904761904,
           0.9880952380952381,
           0.9880952380952381,
           0.9880952380952381,
           0.9880952380952381,
           0.011904761904761904,
           0.9880952380952381,
           0.011904761904761904,
           0.9880952380952381,
           0.9880952380952381,
           0.9880952380952381,
           0.9880952380952381,
           0.9880952380952381,
           0.9880952380952381,
           0.9880952380952381,
           0.9880952380952381,
           0.9880952380952381,
           0.9880952380952381
          ],
          "y": [
           0.2506702091553885,
           0.0003791109368892349,
           0.36231616159750357,
           0.038270288480384246,
           0.07754169874862267,
           0.45519713208323753,
           0.17002291140618223,
           0.25630696097317673,
           0.21524931559674113,
           0.12169887563992052,
           0.6274277138945479,
           0.3057202464744568,
           0.7958150434102171,
           0.7687696716777581,
           0.8424958940056092,
           0.99697778139401,
           0.6152790742242189,
           0.8927013079872058,
           0.9469888143274224,
           0.5389829649594884,
           0.4565449369889825,
           0.6901041921320514,
           0.3705318081170927
          ]
         },
         "type": "sankey"
        }
       ],
       "layout": {
        "font": {
         "size": 10
        },
        "height": 600,
        "template": {
         "data": {
          "bar": [
           {
            "error_x": {
             "color": "#2a3f5f"
            },
            "error_y": {
             "color": "#2a3f5f"
            },
            "marker": {
             "line": {
              "color": "#E5ECF6",
              "width": 0.5
             },
             "pattern": {
              "fillmode": "overlay",
              "size": 10,
              "solidity": 0.2
             }
            },
            "type": "bar"
           }
          ],
          "barpolar": [
           {
            "marker": {
             "line": {
              "color": "#E5ECF6",
              "width": 0.5
             },
             "pattern": {
              "fillmode": "overlay",
              "size": 10,
              "solidity": 0.2
             }
            },
            "type": "barpolar"
           }
          ],
          "carpet": [
           {
            "aaxis": {
             "endlinecolor": "#2a3f5f",
             "gridcolor": "white",
             "linecolor": "white",
             "minorgridcolor": "white",
             "startlinecolor": "#2a3f5f"
            },
            "baxis": {
             "endlinecolor": "#2a3f5f",
             "gridcolor": "white",
             "linecolor": "white",
             "minorgridcolor": "white",
             "startlinecolor": "#2a3f5f"
            },
            "type": "carpet"
           }
          ],
          "choropleth": [
           {
            "colorbar": {
             "outlinewidth": 0,
             "ticks": ""
            },
            "type": "choropleth"
           }
          ],
          "contour": [
           {
            "colorbar": {
             "outlinewidth": 0,
             "ticks": ""
            },
            "colorscale": [
             [
              0,
              "#0d0887"
             ],
             [
              0.1111111111111111,
              "#46039f"
             ],
             [
              0.2222222222222222,
              "#7201a8"
             ],
             [
              0.3333333333333333,
              "#9c179e"
             ],
             [
              0.4444444444444444,
              "#bd3786"
             ],
             [
              0.5555555555555556,
              "#d8576b"
             ],
             [
              0.6666666666666666,
              "#ed7953"
             ],
             [
              0.7777777777777778,
              "#fb9f3a"
             ],
             [
              0.8888888888888888,
              "#fdca26"
             ],
             [
              1,
              "#f0f921"
             ]
            ],
            "type": "contour"
           }
          ],
          "contourcarpet": [
           {
            "colorbar": {
             "outlinewidth": 0,
             "ticks": ""
            },
            "type": "contourcarpet"
           }
          ],
          "heatmap": [
           {
            "colorbar": {
             "outlinewidth": 0,
             "ticks": ""
            },
            "colorscale": [
             [
              0,
              "#0d0887"
             ],
             [
              0.1111111111111111,
              "#46039f"
             ],
             [
              0.2222222222222222,
              "#7201a8"
             ],
             [
              0.3333333333333333,
              "#9c179e"
             ],
             [
              0.4444444444444444,
              "#bd3786"
             ],
             [
              0.5555555555555556,
              "#d8576b"
             ],
             [
              0.6666666666666666,
              "#ed7953"
             ],
             [
              0.7777777777777778,
              "#fb9f3a"
             ],
             [
              0.8888888888888888,
              "#fdca26"
             ],
             [
              1,
              "#f0f921"
             ]
            ],
            "type": "heatmap"
           }
          ],
          "heatmapgl": [
           {
            "colorbar": {
             "outlinewidth": 0,
             "ticks": ""
            },
            "colorscale": [
             [
              0,
              "#0d0887"
             ],
             [
              0.1111111111111111,
              "#46039f"
             ],
             [
              0.2222222222222222,
              "#7201a8"
             ],
             [
              0.3333333333333333,
              "#9c179e"
             ],
             [
              0.4444444444444444,
              "#bd3786"
             ],
             [
              0.5555555555555556,
              "#d8576b"
             ],
             [
              0.6666666666666666,
              "#ed7953"
             ],
             [
              0.7777777777777778,
              "#fb9f3a"
             ],
             [
              0.8888888888888888,
              "#fdca26"
             ],
             [
              1,
              "#f0f921"
             ]
            ],
            "type": "heatmapgl"
           }
          ],
          "histogram": [
           {
            "marker": {
             "pattern": {
              "fillmode": "overlay",
              "size": 10,
              "solidity": 0.2
             }
            },
            "type": "histogram"
           }
          ],
          "histogram2d": [
           {
            "colorbar": {
             "outlinewidth": 0,
             "ticks": ""
            },
            "colorscale": [
             [
              0,
              "#0d0887"
             ],
             [
              0.1111111111111111,
              "#46039f"
             ],
             [
              0.2222222222222222,
              "#7201a8"
             ],
             [
              0.3333333333333333,
              "#9c179e"
             ],
             [
              0.4444444444444444,
              "#bd3786"
             ],
             [
              0.5555555555555556,
              "#d8576b"
             ],
             [
              0.6666666666666666,
              "#ed7953"
             ],
             [
              0.7777777777777778,
              "#fb9f3a"
             ],
             [
              0.8888888888888888,
              "#fdca26"
             ],
             [
              1,
              "#f0f921"
             ]
            ],
            "type": "histogram2d"
           }
          ],
          "histogram2dcontour": [
           {
            "colorbar": {
             "outlinewidth": 0,
             "ticks": ""
            },
            "colorscale": [
             [
              0,
              "#0d0887"
             ],
             [
              0.1111111111111111,
              "#46039f"
             ],
             [
              0.2222222222222222,
              "#7201a8"
             ],
             [
              0.3333333333333333,
              "#9c179e"
             ],
             [
              0.4444444444444444,
              "#bd3786"
             ],
             [
              0.5555555555555556,
              "#d8576b"
             ],
             [
              0.6666666666666666,
              "#ed7953"
             ],
             [
              0.7777777777777778,
              "#fb9f3a"
             ],
             [
              0.8888888888888888,
              "#fdca26"
             ],
             [
              1,
              "#f0f921"
             ]
            ],
            "type": "histogram2dcontour"
           }
          ],
          "mesh3d": [
           {
            "colorbar": {
             "outlinewidth": 0,
             "ticks": ""
            },
            "type": "mesh3d"
           }
          ],
          "parcoords": [
           {
            "line": {
             "colorbar": {
              "outlinewidth": 0,
              "ticks": ""
             }
            },
            "type": "parcoords"
           }
          ],
          "pie": [
           {
            "automargin": true,
            "type": "pie"
           }
          ],
          "scatter": [
           {
            "fillpattern": {
             "fillmode": "overlay",
             "size": 10,
             "solidity": 0.2
            },
            "type": "scatter"
           }
          ],
          "scatter3d": [
           {
            "line": {
             "colorbar": {
              "outlinewidth": 0,
              "ticks": ""
             }
            },
            "marker": {
             "colorbar": {
              "outlinewidth": 0,
              "ticks": ""
             }
            },
            "type": "scatter3d"
           }
          ],
          "scattercarpet": [
           {
            "marker": {
             "colorbar": {
              "outlinewidth": 0,
              "ticks": ""
             }
            },
            "type": "scattercarpet"
           }
          ],
          "scattergeo": [
           {
            "marker": {
             "colorbar": {
              "outlinewidth": 0,
              "ticks": ""
             }
            },
            "type": "scattergeo"
           }
          ],
          "scattergl": [
           {
            "marker": {
             "colorbar": {
              "outlinewidth": 0,
              "ticks": ""
             }
            },
            "type": "scattergl"
           }
          ],
          "scattermapbox": [
           {
            "marker": {
             "colorbar": {
              "outlinewidth": 0,
              "ticks": ""
             }
            },
            "type": "scattermapbox"
           }
          ],
          "scatterpolar": [
           {
            "marker": {
             "colorbar": {
              "outlinewidth": 0,
              "ticks": ""
             }
            },
            "type": "scatterpolar"
           }
          ],
          "scatterpolargl": [
           {
            "marker": {
             "colorbar": {
              "outlinewidth": 0,
              "ticks": ""
             }
            },
            "type": "scatterpolargl"
           }
          ],
          "scatterternary": [
           {
            "marker": {
             "colorbar": {
              "outlinewidth": 0,
              "ticks": ""
             }
            },
            "type": "scatterternary"
           }
          ],
          "surface": [
           {
            "colorbar": {
             "outlinewidth": 0,
             "ticks": ""
            },
            "colorscale": [
             [
              0,
              "#0d0887"
             ],
             [
              0.1111111111111111,
              "#46039f"
             ],
             [
              0.2222222222222222,
              "#7201a8"
             ],
             [
              0.3333333333333333,
              "#9c179e"
             ],
             [
              0.4444444444444444,
              "#bd3786"
             ],
             [
              0.5555555555555556,
              "#d8576b"
             ],
             [
              0.6666666666666666,
              "#ed7953"
             ],
             [
              0.7777777777777778,
              "#fb9f3a"
             ],
             [
              0.8888888888888888,
              "#fdca26"
             ],
             [
              1,
              "#f0f921"
             ]
            ],
            "type": "surface"
           }
          ],
          "table": [
           {
            "cells": {
             "fill": {
              "color": "#EBF0F8"
             },
             "line": {
              "color": "white"
             }
            },
            "header": {
             "fill": {
              "color": "#C8D4E3"
             },
             "line": {
              "color": "white"
             }
            },
            "type": "table"
           }
          ]
         },
         "layout": {
          "annotationdefaults": {
           "arrowcolor": "#2a3f5f",
           "arrowhead": 0,
           "arrowwidth": 1
          },
          "autotypenumbers": "strict",
          "coloraxis": {
           "colorbar": {
            "outlinewidth": 0,
            "ticks": ""
           }
          },
          "colorscale": {
           "diverging": [
            [
             0,
             "#8e0152"
            ],
            [
             0.1,
             "#c51b7d"
            ],
            [
             0.2,
             "#de77ae"
            ],
            [
             0.3,
             "#f1b6da"
            ],
            [
             0.4,
             "#fde0ef"
            ],
            [
             0.5,
             "#f7f7f7"
            ],
            [
             0.6,
             "#e6f5d0"
            ],
            [
             0.7,
             "#b8e186"
            ],
            [
             0.8,
             "#7fbc41"
            ],
            [
             0.9,
             "#4d9221"
            ],
            [
             1,
             "#276419"
            ]
           ],
           "sequential": [
            [
             0,
             "#0d0887"
            ],
            [
             0.1111111111111111,
             "#46039f"
            ],
            [
             0.2222222222222222,
             "#7201a8"
            ],
            [
             0.3333333333333333,
             "#9c179e"
            ],
            [
             0.4444444444444444,
             "#bd3786"
            ],
            [
             0.5555555555555556,
             "#d8576b"
            ],
            [
             0.6666666666666666,
             "#ed7953"
            ],
            [
             0.7777777777777778,
             "#fb9f3a"
            ],
            [
             0.8888888888888888,
             "#fdca26"
            ],
            [
             1,
             "#f0f921"
            ]
           ],
           "sequentialminus": [
            [
             0,
             "#0d0887"
            ],
            [
             0.1111111111111111,
             "#46039f"
            ],
            [
             0.2222222222222222,
             "#7201a8"
            ],
            [
             0.3333333333333333,
             "#9c179e"
            ],
            [
             0.4444444444444444,
             "#bd3786"
            ],
            [
             0.5555555555555556,
             "#d8576b"
            ],
            [
             0.6666666666666666,
             "#ed7953"
            ],
            [
             0.7777777777777778,
             "#fb9f3a"
            ],
            [
             0.8888888888888888,
             "#fdca26"
            ],
            [
             1,
             "#f0f921"
            ]
           ]
          },
          "colorway": [
           "#636efa",
           "#EF553B",
           "#00cc96",
           "#ab63fa",
           "#FFA15A",
           "#19d3f3",
           "#FF6692",
           "#B6E880",
           "#FF97FF",
           "#FECB52"
          ],
          "font": {
           "color": "#2a3f5f"
          },
          "geo": {
           "bgcolor": "white",
           "lakecolor": "white",
           "landcolor": "#E5ECF6",
           "showlakes": true,
           "showland": true,
           "subunitcolor": "white"
          },
          "hoverlabel": {
           "align": "left"
          },
          "hovermode": "closest",
          "mapbox": {
           "style": "light"
          },
          "paper_bgcolor": "white",
          "plot_bgcolor": "#E5ECF6",
          "polar": {
           "angularaxis": {
            "gridcolor": "white",
            "linecolor": "white",
            "ticks": ""
           },
           "bgcolor": "#E5ECF6",
           "radialaxis": {
            "gridcolor": "white",
            "linecolor": "white",
            "ticks": ""
           }
          },
          "scene": {
           "xaxis": {
            "backgroundcolor": "#E5ECF6",
            "gridcolor": "white",
            "gridwidth": 2,
            "linecolor": "white",
            "showbackground": true,
            "ticks": "",
            "zerolinecolor": "white"
           },
           "yaxis": {
            "backgroundcolor": "#E5ECF6",
            "gridcolor": "white",
            "gridwidth": 2,
            "linecolor": "white",
            "showbackground": true,
            "ticks": "",
            "zerolinecolor": "white"
           },
           "zaxis": {
            "backgroundcolor": "#E5ECF6",
            "gridcolor": "white",
            "gridwidth": 2,
            "linecolor": "white",
            "showbackground": true,
            "ticks": "",
            "zerolinecolor": "white"
           }
          },
          "shapedefaults": {
           "line": {
            "color": "#2a3f5f"
           }
          },
          "ternary": {
           "aaxis": {
            "gridcolor": "white",
            "linecolor": "white",
            "ticks": ""
           },
           "baxis": {
            "gridcolor": "white",
            "linecolor": "white",
            "ticks": ""
           },
           "bgcolor": "#E5ECF6",
           "caxis": {
            "gridcolor": "white",
            "linecolor": "white",
            "ticks": ""
           }
          },
          "title": {
           "x": 0.05
          },
          "xaxis": {
           "automargin": true,
           "gridcolor": "white",
           "linecolor": "white",
           "ticks": "",
           "title": {
            "standoff": 15
           },
           "zerolinecolor": "white",
           "zerolinewidth": 2
          },
          "yaxis": {
           "automargin": true,
           "gridcolor": "white",
           "linecolor": "white",
           "ticks": "",
           "title": {
            "standoff": 15
           },
           "zerolinecolor": "white",
           "zerolinewidth": 2
          }
         }
        },
        "title": {
         "text": "Distribución de Total por Municipios a lo Largo del Tiempo"
        },
        "width": 1000
       }
      },
      "image/png": "[encoded data removed]",
      "text/html": [
       "<div>                            <div id=\"bf36de31-40fe-470e-bc72-fee394df9267\" class=\"plotly-graph-div\" style=\"height:600px; width:1000px;\"></div>            <script type=\"text/javascript\">                require([\"plotly\"], function(Plotly) {                    window.PLOTLYENV=window.PLOTLYENV || {};                                    if (document.getElementById(\"bf36de31-40fe-470e-bc72-fee394df9267\")) {                    Plotly.newPlot(                        \"bf36de31-40fe-470e-bc72-fee394df9267\",                        [{\"link\":{\"source\":[0,0,0,0,0,0,0,0,0,0,11,11,11,11,11,11,11,11,11,11,22,22,22,22,22,22,22,22,22,22,33,33,33,33,33,33,33,33,33,33,44,44,44,44,44,44,44,44,44,44],\"target\":[34,25,16,28,29,51,52,53,9,21,34,45,25,48,16,29,52,53,54,21,34,45,25,48,27,28,29,51,52,54,34,45,46,48,49,50,51,52,53,54,45,46,47,48,49,50,51,52,53,54],\"value\":[3704,3474,3309,4062,13285,3561,6260,2950,2594,1884,14530,8555,13995,18618,8992,17304,16334,10718,29615,10154,27028,20707,23080,14598,12025,20474,15142,28889,45672,34723,36446,74160,23150,86684,23755,31739,28203,70665,39620,27405,107606,25912,20679,64851,26336,45254,32270,87845,29570,25642]},\"node\":{\"label\":[\"2020\",\"Acayucan, Ver.\",\"Hermosillo, Son.\",\"Palenque, Chis.\",\"Piedras Negras, Coah.\",\"Reynosa, Tamps.\",\"Suchiate, Chis.\",\"Tapachula, Chis.\",\"Tenosique, Tab.\",\"Tuxtla Chico, Chis.\",\"Tuxtla Guti\\u00e9rrez, Chis.\",\"2021\",\"Acayucan, Ver.\",\"Centro, Tab.\",\"Hermosillo, Son.\",\"Huimanguillo, Tab.\",\"Palenque, Chis.\",\"Reynosa, Tamps.\",\"Tapachula, Chis.\",\"Tenosique, Tab.\",\"Tijuana, BC\",\"Tuxtla Guti\\u00e9rrez, Chis.\",\"2022\",\"Acayucan, Ver.\",\"Centro, Tab.\",\"Hermosillo, Son.\",\"Huimanguillo, Tab.\",\"Ju\\u00e1rez, Chih.\",\"Piedras Negras, Coah.\",\"Reynosa, Tamps.\",\"Suchiate, Chis.\",\"Tapachula, Chis.\",\"Tijuana, BC\",\"2023\",\"Acayucan, Ver.\",\"Centro, Tab.\",\"C\\u00e1rdenas, Tab.\",\"Huimanguillo, Tab.\",\"Huixtla, Chis.\",\"Macuspana, Tab.\",\"Suchiate, Chis.\",\"Tapachula, Chis.\",\"Tenosique, Tab.\",\"Tijuana, BC\",\"2024\",\"Centro, Tab.\",\"C\\u00e1rdenas, Tab.\",\"Huehuet\\u00e1n, Chis.\",\"Huimanguillo, Tab.\",\"Huixtla, Chis.\",\"Macuspana, Tab.\",\"Suchiate, Chis.\",\"Tapachula, Chis.\",\"Tenosique, Tab.\",\"Tijuana, BC\"],\"line\":{\"color\":\"black\",\"width\":0.5},\"pad\":15,\"thickness\":20},\"type\":\"sankey\"}],                        {\"template\":{\"data\":{\"histogram2dcontour\":[{\"type\":\"histogram2dcontour\",\"colorbar\":{\"outlinewidth\":0,\"ticks\":\"\"},\"colorscale\":[[0.0,\"#0d0887\"],[0.1111111111111111,\"#46039f\"],[0.2222222222222222,\"#7201a8\"],[0.3333333333333333,\"#9c179e\"],[0.4444444444444444,\"#bd3786\"],[0.5555555555555556,\"#d8576b\"],[0.6666666666666666,\"#ed7953\"],[0.7777777777777778,\"#fb9f3a\"],[0.8888888888888888,\"#fdca26\"],[1.0,\"#f0f921\"]]}],\"choropleth\":[{\"type\":\"choropleth\",\"colorbar\":{\"outlinewidth\":0,\"ticks\":\"\"}}],\"histogram2d\":[{\"type\":\"histogram2d\",\"colorbar\":{\"outlinewidth\":0,\"ticks\":\"\"},\"colorscale\":[[0.0,\"#0d0887\"],[0.1111111111111111,\"#46039f\"],[0.2222222222222222,\"#7201a8\"],[0.3333333333333333,\"#9c179e\"],[0.4444444444444444,\"#bd3786\"],[0.5555555555555556,\"#d8576b\"],[0.6666666666666666,\"#ed7953\"],[0.7777777777777778,\"#fb9f3a\"],[0.8888888888888888,\"#fdca26\"],[1.0,\"#f0f921\"]]}],\"heatmap\":[{\"type\":\"heatmap\",\"colorbar\":{\"outlinewidth\":0,\"ticks\":\"\"},\"colorscale\":[[0.0,\"#0d0887\"],[0.1111111111111111,\"#46039f\"],[0.2222222222222222,\"#7201a8\"],[0.3333333333333333,\"#9c179e\"],[0.4444444444444444,\"#bd3786\"],[0.5555555555555556,\"#d8576b\"],[0.6666666666666666,\"#ed7953\"],[0.7777777777777778,\"#fb9f3a\"],[0.8888888888888888,\"#fdca26\"],[1.0,\"#f0f921\"]]}],\"heatmapgl\":[{\"type\":\"heatmapgl\",\"colorbar\":{\"outlinewidth\":0,\"ticks\":\"\"},\"colorscale\":[[0.0,\"#0d0887\"],[0.1111111111111111,\"#46039f\"],[0.2222222222222222,\"#7201a8\"],[0.3333333333333333,\"#9c179e\"],[0.4444444444444444,\"#bd3786\"],[0.5555555555555556,\"#d8576b\"],[0.6666666666666666,\"#ed7953\"],[0.7777777777777778,\"#fb9f3a\"],[0.8888888888888888,\"#fdca26\"],[1.0,\"#f0f921\"]]}],\"contourcarpet\":[{\"type\":\"contourcarpet\",\"colorbar\":{\"outlinewidth\":0,\"ticks\":\"\"}}],\"contour\":[{\"type\":\"contour\",\"colorbar\":{\"outlinewidth\":0,\"ticks\":\"\"},\"colorscale\":[[0.0,\"#0d0887\"],[0.1111111111111111,\"#46039f\"],[0.2222222222222222,\"#7201a8\"],[0.3333333333333333,\"#9c179e\"],[0.4444444444444444,\"#bd3786\"],[0.5555555555555556,\"#d8576b\"],[0.6666666666666666,\"#ed7953\"],[0.7777777777777778,\"#fb9f3a\"],[0.8888888888888888,\"#fdca26\"],[1.0,\"#f0f921\"]]}],\"surface\":[{\"type\":\"surface\",\"colorbar\":{\"outlinewidth\":0,\"ticks\":\"\"},\"colorscale\":[[0.0,\"#0d0887\"],[0.1111111111111111,\"#46039f\"],[0.2222222222222222,\"#7201a8\"],[0.3333333333333333,\"#9c179e\"],[0.4444444444444444,\"#bd3786\"],[0.5555555555555556,\"#d8576b\"],[0.6666666666666666,\"#ed7953\"],[0.7777777777777778,\"#fb9f3a\"],[0.8888888888888888,\"#fdca26\"],[1.0,\"#f0f921\"]]}],\"mesh3d\":[{\"type\":\"mesh3d\",\"colorbar\":{\"outlinewidth\":0,\"ticks\":\"\"}}],\"scatter\":[{\"fillpattern\":{\"fillmode\":\"overlay\",\"size\":10,\"solidity\":0.2},\"type\":\"scatter\"}],\"parcoords\":[{\"type\":\"parcoords\",\"line\":{\"colorbar\":{\"outlinewidth\":0,\"ticks\":\"\"}}}],\"scatterpolargl\":[{\"type\":\"scatterpolargl\",\"marker\":{\"colorbar\":{\"outlinewidth\":0,\"ticks\":\"\"}}}],\"bar\":[{\"error_x\":{\"color\":\"#2a3f5f\"},\"error_y\":{\"color\":\"#2a3f5f\"},\"marker\":{\"line\":{\"color\":\"#E5ECF6\",\"width\":0.5},\"pattern\":{\"fillmode\":\"overlay\",\"size\":10,\"solidity\":0.2}},\"type\":\"bar\"}],\"scattergeo\":[{\"type\":\"scattergeo\",\"marker\":{\"colorbar\":{\"outlinewidth\":0,\"ticks\":\"\"}}}],\"scatterpolar\":[{\"type\":\"scatterpolar\",\"marker\":{\"colorbar\":{\"outlinewidth\":0,\"ticks\":\"\"}}}],\"histogram\":[{\"marker\":{\"pattern\":{\"fillmode\":\"overlay\",\"size\":10,\"solidity\":0.2}},\"type\":\"histogram\"}],\"scattergl\":[{\"type\":\"scattergl\",\"marker\":{\"colorbar\":{\"outlinewidth\":0,\"ticks\":\"\"}}}],\"scatter3d\":[{\"type\":\"scatter3d\",\"line\":{\"colorbar\":{\"outlinewidth\":0,\"ticks\":\"\"}},\"marker\":{\"colorbar\":{\"outlinewidth\":0,\"ticks\":\"\"}}}],\"scattermapbox\":[{\"type\":\"scattermapbox\",\"marker\":{\"colorbar\":{\"outlinewidth\":0,\"ticks\":\"\"}}}],\"scatterternary\":[{\"type\":\"scatterternary\",\"marker\":{\"colorbar\":{\"outlinewidth\":0,\"ticks\":\"\"}}}],\"scattercarpet\":[{\"type\":\"scattercarpet\",\"marker\":{\"colorbar\":{\"outlinewidth\":0,\"ticks\":\"\"}}}],\"carpet\":[{\"aaxis\":{\"endlinecolor\":\"#2a3f5f\",\"gridcolor\":\"white\",\"linecolor\":\"white\",\"minorgridcolor\":\"white\",\"startlinecolor\":\"#2a3f5f\"},\"baxis\":{\"endlinecolor\":\"#2a3f5f\",\"gridcolor\":\"white\",\"linecolor\":\"white\",\"minorgridcolor\":\"white\",\"startlinecolor\":\"#2a3f5f\"},\"type\":\"carpet\"}],\"table\":[{\"cells\":{\"fill\":{\"color\":\"#EBF0F8\"},\"line\":{\"color\":\"white\"}},\"header\":{\"fill\":{\"color\":\"#C8D4E3\"},\"line\":{\"color\":\"white\"}},\"type\":\"table\"}],\"barpolar\":[{\"marker\":{\"line\":{\"color\":\"#E5ECF6\",\"width\":0.5},\"pattern\":{\"fillmode\":\"overlay\",\"size\":10,\"solidity\":0.2}},\"type\":\"barpolar\"}],\"pie\":[{\"automargin\":true,\"type\":\"pie\"}]},\"layout\":{\"autotypenumbers\":\"strict\",\"colorway\":[\"#636efa\",\"#EF553B\",\"#00cc96\",\"#ab63fa\",\"#FFA15A\",\"#19d3f3\",\"#FF6692\",\"#B6E880\",\"#FF97FF\",\"#FECB52\"],\"font\":{\"color\":\"#2a3f5f\"},\"hovermode\":\"closest\",\"hoverlabel\":{\"align\":\"left\"},\"paper_bgcolor\":\"white\",\"plot_bgcolor\":\"#E5ECF6\",\"polar\":{\"bgcolor\":\"#E5ECF6\",\"angularaxis\":{\"gridcolor\":\"white\",\"linecolor\":\"white\",\"ticks\":\"\"},\"radialaxis\":{\"gridcolor\":\"white\",\"linecolor\":\"white\",\"ticks\":\"\"}},\"ternary\":{\"bgcolor\":\"#E5ECF6\",\"aaxis\":{\"gridcolor\":\"white\",\"linecolor\":\"white\",\"ticks\":\"\"},\"baxis\":{\"gridcolor\":\"white\",\"linecolor\":\"white\",\"ticks\":\"\"},\"caxis\":{\"gridcolor\":\"white\",\"linecolor\":\"white\",\"ticks\":\"\"}},\"coloraxis\":{\"colorbar\":{\"outlinewidth\":0,\"ticks\":\"\"}},\"colorscale\":{\"sequential\":[[0.0,\"#0d0887\"],[0.1111111111111111,\"#46039f\"],[0.2222222222222222,\"#7201a8\"],[0.3333333333333333,\"#9c179e\"],[0.4444444444444444,\"#bd3786\"],[0.5555555555555556,\"#d8576b\"],[0.6666666666666666,\"#ed7953\"],[0.7777777777777778,\"#fb9f3a\"],[0.8888888888888888,\"#fdca26\"],[1.0,\"#f0f921\"]],\"sequentialminus\":[[0.0,\"#0d0887\"],[0.1111111111111111,\"#46039f\"],[0.2222222222222222,\"#7201a8\"],[0.3333333333333333,\"#9c179e\"],[0.4444444444444444,\"#bd3786\"],[0.5555555555555556,\"#d8576b\"],[0.6666666666666666,\"#ed7953\"],[0.7777777777777778,\"#fb9f3a\"],[0.8888888888888888,\"#fdca26\"],[1.0,\"#f0f921\"]],\"diverging\":[[0,\"#8e0152\"],[0.1,\"#c51b7d\"],[0.2,\"#de77ae\"],[0.3,\"#f1b6da\"],[0.4,\"#fde0ef\"],[0.5,\"#f7f7f7\"],[0.6,\"#e6f5d0\"],[0.7,\"#b8e186\"],[0.8,\"#7fbc41\"],[0.9,\"#4d9221\"],[1,\"#276419\"]]},\"xaxis\":{\"gridcolor\":\"white\",\"linecolor\":\"white\",\"ticks\":\"\",\"title\":{\"standoff\":15},\"zerolinecolor\":\"white\",\"automargin\":true,\"zerolinewidth\":2},\"yaxis\":{\"gridcolor\":\"white\",\"linecolor\":\"white\",\"ticks\":\"\",\"title\":{\"standoff\":15},\"zerolinecolor\":\"white\",\"automargin\":true,\"zerolinewidth\":2},\"scene\":{\"xaxis\":{\"backgroundcolor\":\"#E5ECF6\",\"gridcolor\":\"white\",\"linecolor\":\"white\",\"showbackground\":true,\"ticks\":\"\",\"zerolinecolor\":\"white\",\"gridwidth\":2},\"yaxis\":{\"backgroundcolor\":\"#E5ECF6\",\"gridcolor\":\"white\",\"linecolor\":\"white\",\"showbackground\":true,\"ticks\":\"\",\"zerolinecolor\":\"white\",\"gridwidth\":2},\"zaxis\":{\"backgroundcolor\":\"#E5ECF6\",\"gridcolor\":\"white\",\"linecolor\":\"white\",\"showbackground\":true,\"ticks\":\"\",\"zerolinecolor\":\"white\",\"gridwidth\":2}},\"shapedefaults\":{\"line\":{\"color\":\"#2a3f5f\"}},\"annotationdefaults\":{\"arrowcolor\":\"#2a3f5f\",\"arrowhead\":0,\"arrowwidth\":1},\"geo\":{\"bgcolor\":\"white\",\"landcolor\":\"#E5ECF6\",\"subunitcolor\":\"white\",\"showland\":true,\"showlakes\":true,\"lakecolor\":\"white\"},\"title\":{\"x\":0.05},\"mapbox\":{\"style\":\"light\"}}},\"title\":{\"text\":\"Distribuci\\u00f3n de Total por Municipios a lo Largo del Tiempo\"},\"font\":{\"size\":10},\"height\":600,\"width\":1000},                        {\"responsive\": true}                    ).then(function(){\n",
       "                            \n",
       "var gd = document.getElementById('bf36de31-40fe-470e-bc72-fee394df9267');\n",
       "var x = new MutationObserver(function (mutations, observer) {{\n",
       "        var display = window.getComputedStyle(gd).display;\n",
       "        if (!display || display === 'none') {{\n",
       "            console.log([gd, 'removed!']);\n",
       "            Plotly.purge(gd);\n",
       "            observer.disconnect();\n",
       "        }}\n",
       "}});\n",
       "\n",
       "// Listen for the removal of the full notebook cells\n",
       "var notebookContainer = gd.closest('#notebook-container');\n",
       "if (notebookContainer) {{\n",
       "    x.observe(notebookContainer, {childList: true});\n",
       "}}\n",
       "\n",
       "// Listen for the clearing of the current output cell\n",
       "var outputEl = gd.closest('.output');\n",
       "if (outputEl) {{\n",
       "    x.observe(outputEl, {childList: true});\n",
       "}}\n",
       "\n",
       "                        })                };                });            </script>        </div>"
      ]
     },
     "metadata": {},
     "output_type": "display_data"
    }
   ],
   "source": [
    "# Filtrar los 10 municipios con más registros por año\n",
    "df_filtered = df_mun.groupby(['Año', 'Entidad Federativa / Municipio'])['Total'].sum().reset_index()\n",
    "df_filtered['rank'] = df_filtered.groupby('Año')['Total'].rank(\"dense\", ascending=False)\n",
    "df_top10_per_year = df_filtered[df_filtered['rank'] <= 10]\n",
    "\n",
    "# Crear listas para los nodos y las conexiones (links)\n",
    "years = sorted(df_top10_per_year['Año'].unique())\n",
    "nodes = []\n",
    "for year in years:\n",
    "    nodes.append(str(year))\n",
    "    nodes.extend(df_top10_per_year[df_top10_per_year['Año'] == year]['Entidad Federativa / Municipio'].unique())\n",
    "\n",
    "node_indices = {node: idx for idx, node in enumerate(nodes)}\n",
    "\n",
    "sources = []\n",
    "targets = []\n",
    "values = []\n",
    "\n",
    "for year in years:\n",
    "    year_str = str(year)\n",
    "    for _, row in df_top10_per_year[df_top10_per_year['Año'] == year].iterrows():\n",
    "        sources.append(node_indices[year_str])\n",
    "        targets.append(node_indices[row['Entidad Federativa / Municipio']])\n",
    "        values.append(row['Total'])\n",
    "\n",
    "# Crear el diagrama Sankey\n",
    "fig = go.Figure(data=[go.Sankey(\n",
    "    node=dict(\n",
    "        pad=15,\n",
    "        thickness=20,\n",
    "        line=dict(color=\"black\", width=0.5),\n",
    "        label=nodes,\n",
    "    ),\n",
    "    link=dict(\n",
    "        source=sources,\n",
    "        target=targets,\n",
    "        value=values\n",
    "    )\n",
    ")])\n",
    "\n",
    "# Ajustar la orientación del gráfico\n",
    "fig.update_layout(\n",
    "    title_text=\"Distribución de Total por Municipios a lo Largo del Tiempo\",\n",
    "    font_size=10,\n",
    "    height=600,\n",
    "    width=1000\n",
    ")\n",
    "\n",
    "fig.show()\n"
   ]
  },
  {
   "cell_type": "code",
   "execution_count": 52,
   "id": "d8d3c26b-708a-4337-a851-effac3a37a51",
   "metadata": {},
   "outputs": [
    {
     "name": "stdout",
     "output_type": "stream",
     "text": [
      "                         Municipio  Total   Año\n",
      "4             Aguascalientes, Ags.     93  2020\n",
      "5                   Calvillo, Ags.      1  2020\n",
      "6                      Cosío, Ags.      4  2020\n",
      "7                Jesús María, Ags.     13  2020\n",
      "8  San Francisco de los Romo, Ags.      5  2020\n"
     ]
    }
   ],
   "source": [
    "import pandas as pd\n",
    "\n",
    "# Supongamos que ya has cargado tu DataFrame como df_mun\n",
    "\n",
    "# Cambiar el nombre de la columna\n",
    "df_mun = df_mun.rename(columns={\"Entidad Federativa / Municipio\": \"Municipio\"})\n",
    "\n",
    "# Verificar el cambio\n",
    "print(df_mun.head())\n"
   ]
  },
  {
   "cell_type": "code",
   "execution_count": 58,
   "id": "72bb4429-b7d8-4237-8b92-ae562124833f",
   "metadata": {},
   "outputs": [
    {
     "data": {
      "text/html": [
       "<div>\n",
       "<style scoped>\n",
       "    .dataframe tbody tr th:only-of-type {\n",
       "        vertical-align: middle;\n",
       "    }\n",
       "\n",
       "    .dataframe tbody tr th {\n",
       "        vertical-align: top;\n",
       "    }\n",
       "\n",
       "    .dataframe thead th {\n",
       "        text-align: right;\n",
       "    }\n",
       "</style>\n",
       "<table border=\"1\" class=\"dataframe\">\n",
       "  <thead>\n",
       "    <tr style=\"text-align: right;\">\n",
       "      <th></th>\n",
       "      <th>Municipio</th>\n",
       "      <th>Total</th>\n",
       "      <th>Año</th>\n",
       "    </tr>\n",
       "  </thead>\n",
       "  <tbody>\n",
       "    <tr>\n",
       "      <th>4</th>\n",
       "      <td>Aguascalientes, Ags.</td>\n",
       "      <td>93</td>\n",
       "      <td>2020</td>\n",
       "    </tr>\n",
       "    <tr>\n",
       "      <th>5</th>\n",
       "      <td>Calvillo, Ags.</td>\n",
       "      <td>1</td>\n",
       "      <td>2020</td>\n",
       "    </tr>\n",
       "    <tr>\n",
       "      <th>6</th>\n",
       "      <td>Cosío, Ags.</td>\n",
       "      <td>4</td>\n",
       "      <td>2020</td>\n",
       "    </tr>\n",
       "    <tr>\n",
       "      <th>7</th>\n",
       "      <td>Jesús María, Ags.</td>\n",
       "      <td>13</td>\n",
       "      <td>2020</td>\n",
       "    </tr>\n",
       "    <tr>\n",
       "      <th>8</th>\n",
       "      <td>San Francisco de los Romo, Ags.</td>\n",
       "      <td>5</td>\n",
       "      <td>2020</td>\n",
       "    </tr>\n",
       "    <tr>\n",
       "      <th>...</th>\n",
       "      <td>...</td>\n",
       "      <td>...</td>\n",
       "      <td>...</td>\n",
       "    </tr>\n",
       "    <tr>\n",
       "      <th>2209</th>\n",
       "      <td>Fresnillo, Zac.</td>\n",
       "      <td>134</td>\n",
       "      <td>2024</td>\n",
       "    </tr>\n",
       "    <tr>\n",
       "      <th>2210</th>\n",
       "      <td>Guadalupe, Zac.</td>\n",
       "      <td>7</td>\n",
       "      <td>2024</td>\n",
       "    </tr>\n",
       "    <tr>\n",
       "      <th>2211</th>\n",
       "      <td>Trancoso, Zac.</td>\n",
       "      <td>21</td>\n",
       "      <td>2024</td>\n",
       "    </tr>\n",
       "    <tr>\n",
       "      <th>2212</th>\n",
       "      <td>Villa de Cos, Zac.</td>\n",
       "      <td>10</td>\n",
       "      <td>2024</td>\n",
       "    </tr>\n",
       "    <tr>\n",
       "      <th>2213</th>\n",
       "      <td>Zacatecas, Zac.</td>\n",
       "      <td>391</td>\n",
       "      <td>2024</td>\n",
       "    </tr>\n",
       "  </tbody>\n",
       "</table>\n",
       "<p>1802 rows × 3 columns</p>\n",
       "</div>"
      ],
      "text/plain": [
       "                            Municipio  Total   Año\n",
       "4                Aguascalientes, Ags.     93  2020\n",
       "5                      Calvillo, Ags.      1  2020\n",
       "6                         Cosío, Ags.      4  2020\n",
       "7                   Jesús María, Ags.     13  2020\n",
       "8     San Francisco de los Romo, Ags.      5  2020\n",
       "...                               ...    ...   ...\n",
       "2209                  Fresnillo, Zac.    134  2024\n",
       "2210                  Guadalupe, Zac.      7  2024\n",
       "2211                   Trancoso, Zac.     21  2024\n",
       "2212               Villa de Cos, Zac.     10  2024\n",
       "2213                  Zacatecas, Zac.    391  2024\n",
       "\n",
       "[1802 rows x 3 columns]"
      ]
     },
     "execution_count": 58,
     "metadata": {},
     "output_type": "execute_result"
    }
   ],
   "source": [
    "df_mun"
   ]
  },
  {
   "cell_type": "code",
   "execution_count": 66,
   "id": "0a3f7b84-bc18-42c2-9bbe-3d718789909a",
   "metadata": {},
   "outputs": [
    {
     "name": "stdout",
     "output_type": "stream",
     "text": [
      "Año                        Municipio   2020   2021    2022    2023   2024\n",
      "0                  Acacoyagua, Chis.    0.0    0.0     0.0     2.0    0.0\n",
      "1                       Acala, Chis.    0.0    0.0     0.0     0.0    1.0\n",
      "2    Acambay de Ruíz Castañeda, Méx.    0.0    0.0     0.0     1.0    0.0\n",
      "3                  Acapetahua, Chis.  257.0    0.0  4572.0  6320.0   85.0\n",
      "4           Acapulco de Juárez, Gro.   17.0  122.0    36.0    32.0    0.0\n",
      "..                               ...    ...    ...     ...     ...    ...\n",
      "648                   Zumpango, Méx.    0.0    8.0     0.0   155.0  947.0\n",
      "649            Álamo Temapache, Ver.    0.0    0.0     0.0     3.0    0.0\n",
      "650            Álvaro Obregón, Mich.    0.0    0.0     0.0     1.0    0.0\n",
      "651        Ángel Albino Corzo, Chis.    0.0    0.0    24.0     0.0    0.0\n",
      "652                     Ónavas, Son.    0.0    0.0     0.0     0.0   19.0\n",
      "\n",
      "[653 rows x 6 columns]\n"
     ]
    }
   ],
   "source": [
    "import pandas as pd\n",
    "\n",
    "# Supongamos que df_mun es el DataFrame original\n",
    "# Renombramos la columna si no lo has hecho antes\n",
    "df_mun = df_mun.rename(columns={\"Entidad Federativa / Municipio\": \"Municipio\"})\n",
    "\n",
    "# Pivotar el DataFrame\n",
    "df_pivot = df_mun.pivot_table(index=\"Municipio\", columns=\"Año\", values=\"Total\", fill_value=0).reset_index()\n",
    "\n",
    "# Ver el DataFrame resultante\n",
    "print(df_pivot)\n"
   ]
  },
  {
   "cell_type": "code",
   "execution_count": 61,
   "id": "5c7fa1c6-ad88-4f9d-bf46-e9353c5b06e3",
   "metadata": {},
   "outputs": [
    {
     "name": "stdout",
     "output_type": "stream",
     "text": [
      "Top 10 municipios para el año 2020:\n",
      "Año                Municipio     2020\n",
      "404          Reynosa, Tamps.  13285.0\n",
      "528         Tapachula, Chis.   6260.0\n",
      "385    Piedras Negras, Coah.   4062.0\n",
      "6             Acayucan, Ver.   3704.0\n",
      "521          Suchiate, Chis.   3561.0\n",
      "213         Hermosillo, Son.   3474.0\n",
      "371          Palenque, Chis.   3309.0\n",
      "542          Tenosique, Tab.   2950.0\n",
      "595      Tuxtla Chico, Chis.   2594.0\n",
      "596  Tuxtla Gutiérrez, Chis.   1884.0\n",
      "\n",
      "--------------------------------------------------\n",
      "\n",
      "Top 10 municipios para el año 2021:\n",
      "Año                Municipio     2021\n",
      "564              Tijuana, BC  29615.0\n",
      "231       Huimanguillo, Tab.  18618.0\n",
      "404          Reynosa, Tamps.  17304.0\n",
      "528         Tapachula, Chis.  16334.0\n",
      "6             Acayucan, Ver.  14530.0\n",
      "213         Hermosillo, Son.  13995.0\n",
      "542          Tenosique, Tab.  10718.0\n",
      "596  Tuxtla Gutiérrez, Chis.  10154.0\n",
      "371          Palenque, Chis.   8992.0\n",
      "92              Centro, Tab.   8555.0\n",
      "\n",
      "--------------------------------------------------\n",
      "\n",
      "Top 10 municipios para el año 2022:\n",
      "Año              Municipio     2022\n",
      "528       Tapachula, Chis.  45672.0\n",
      "564            Tijuana, BC  34723.0\n",
      "521        Suchiate, Chis.  28889.0\n",
      "6           Acayucan, Ver.  27028.0\n",
      "213       Hermosillo, Son.  23080.0\n",
      "92            Centro, Tab.  20707.0\n",
      "385  Piedras Negras, Coah.  20474.0\n",
      "404        Reynosa, Tamps.  15142.0\n",
      "231     Huimanguillo, Tab.  14598.0\n",
      "271          Juárez, Chih.  12025.0\n",
      "\n",
      "--------------------------------------------------\n",
      "\n",
      "Top 10 municipios para el año 2023:\n",
      "Año           Municipio     2023\n",
      "231  Huimanguillo, Tab.  86684.0\n",
      "92         Centro, Tab.  74160.0\n",
      "528    Tapachula, Chis.  70665.0\n",
      "542     Tenosique, Tab.  39620.0\n",
      "6        Acayucan, Ver.  36446.0\n",
      "300     Macuspana, Tab.  31739.0\n",
      "521     Suchiate, Chis.  28203.0\n",
      "564         Tijuana, BC  27405.0\n",
      "234      Huixtla, Chis.  23755.0\n",
      "155      Cárdenas, Tab.  23150.0\n",
      "\n",
      "--------------------------------------------------\n",
      "\n",
      "Top 10 municipios para el año 2024:\n",
      "Año           Municipio      2024\n",
      "92         Centro, Tab.  107606.0\n",
      "528    Tapachula, Chis.   87845.0\n",
      "231  Huimanguillo, Tab.   64851.0\n",
      "300     Macuspana, Tab.   45254.0\n",
      "521     Suchiate, Chis.   32270.0\n",
      "542     Tenosique, Tab.   29570.0\n",
      "234      Huixtla, Chis.   26336.0\n",
      "155      Cárdenas, Tab.   25912.0\n",
      "564         Tijuana, BC   25642.0\n",
      "224    Huehuetán, Chis.   20679.0\n",
      "\n",
      "--------------------------------------------------\n",
      "\n"
     ]
    }
   ],
   "source": [
    "import pandas as pd\n",
    "\n",
    "# Suponiendo que df_pivot es tu DataFrame con la estructura que mostraste\n",
    "\n",
    "# Filtrar top 10 municipios por cada año y mostrarlos\n",
    "for year in df_pivot.columns[1:]:  # Excluir la columna 'Municipio'\n",
    "    print(f\"Top 10 municipios para el año {year}:\")\n",
    "    top_10 = df_pivot[['Municipio', year]].nlargest(10, year)\n",
    "    print(top_10)\n",
    "    print(\"\\n\" + \"-\"*50 + \"\\n\")\n"
   ]
  },
  {
   "cell_type": "code",
   "execution_count": 84,
   "id": "d6a5b36f-c968-4549-aa89-cd2fe185388d",
   "metadata": {},
   "outputs": [
    {
     "data": {
      "application/vnd.plotly.v1+json": {
       "config": {
        "plotlyServerURL": "https://plot.ly"
       },
       "data": [
        {
         "hoverinfo": "y+text",
         "marker": {
          "color": "rgba(102, 197, 204, 0.8)"
         },
         "name": "Reynosa, Tamps.",
         "text": "Reynosa, Tamps.",
         "textposition": "inside",
         "type": "bar",
         "x": [
          "2020"
         ],
         "y": [
          16.126682771094575
         ]
        },
        {
         "hoverinfo": "y+text",
         "marker": {
          "color": "rgba(246, 207, 113, 0.8)"
         },
         "name": "Tapachula, Chis.",
         "text": "Tapachula, Chis.",
         "textposition": "inside",
         "type": "bar",
         "x": [
          "2020"
         ],
         "y": [
          7.599024023112687
         ]
        },
        {
         "hoverinfo": "y+text",
         "marker": {
          "color": "rgba(248, 156, 116, 0.8)"
         },
         "name": "Piedras Negras, Coah.",
         "text": "Piedras Negras, Coah.",
         "textposition": "inside",
         "type": "bar",
         "x": [
          "2020"
         ],
         "y": [
          4.930868303815292
         ]
        },
        {
         "hoverinfo": "y+text",
         "marker": {
          "color": "rgba(220, 176, 242, 0.8)"
         },
         "name": "Acayucan, Ver.",
         "text": "Acayucan, Ver.",
         "textposition": "inside",
         "type": "bar",
         "x": [
          "2020"
         ],
         "y": [
          4.496291530608529
         ]
        },
        {
         "hoverinfo": "y+text",
         "marker": {
          "color": "rgba(135, 197, 95, 0.8)"
         },
         "name": "Suchiate, Chis.",
         "text": "Suchiate, Chis.",
         "textposition": "inside",
         "type": "bar",
         "x": [
          "2020"
         ],
         "y": [
          4.32270360164605
         ]
        },
        {
         "hoverinfo": "y+text",
         "marker": {
          "color": "rgba(158, 185, 243, 0.8)"
         },
         "name": "Hermosillo, Son.",
         "text": "Hermosillo, Son.",
         "textposition": "inside",
         "type": "bar",
         "x": [
          "2020"
         ],
         "y": [
          4.2170941623472
         ]
        },
        {
         "hoverinfo": "y+text",
         "marker": {
          "color": "rgba(254, 136, 177, 0.8)"
         },
         "name": "Palenque, Chis.",
         "text": "Palenque, Chis.",
         "textposition": "inside",
         "type": "bar",
         "x": [
          "2020"
         ],
         "y": [
          4.016800398159725
         ]
        },
        {
         "hoverinfo": "y+text",
         "marker": {
          "color": "rgba(201, 219, 116, 0.8)"
         },
         "name": "Tenosique, Tab.",
         "text": "Tenosique, Tab.",
         "textposition": "inside",
         "type": "bar",
         "x": [
          "2020"
         ],
         "y": [
          3.5810097233518254
         ]
        },
        {
         "hoverinfo": "y+text",
         "marker": {
          "color": "rgba(139, 224, 164, 0.8)"
         },
         "name": "Tuxtla Chico, Chis.",
         "text": "Tuxtla Chico, Chis.",
         "textposition": "inside",
         "type": "bar",
         "x": [
          "2020"
         ],
         "y": [
          3.148860753347334
         ]
        },
        {
         "hoverinfo": "y+text",
         "marker": {
          "color": "rgba(180, 151, 231, 0.8)"
         },
         "name": "Tuxtla Gutiérrez, Chis.",
         "text": "Tuxtla Gutiérrez, Chis.",
         "textposition": "inside",
         "type": "bar",
         "x": [
          "2020"
         ],
         "y": [
          2.2869906165406233
         ]
        },
        {
         "hoverinfo": "y+text",
         "marker": {
          "color": "rgba(102, 197, 204, 0.8)"
         },
         "name": "Tijuana, BC",
         "text": "Tijuana, BC",
         "textposition": "inside",
         "type": "bar",
         "x": [
          "2020"
         ],
         "y": [
          null
         ]
        },
        {
         "hoverinfo": "y+text",
         "marker": {
          "color": "rgba(246, 207, 113, 0.8)"
         },
         "name": "Huimanguillo, Tab.",
         "text": "Huimanguillo, Tab.",
         "textposition": "inside",
         "type": "bar",
         "x": [
          "2020"
         ],
         "y": [
          null
         ]
        },
        {
         "hoverinfo": "y+text",
         "marker": {
          "color": "rgba(248, 156, 116, 0.8)"
         },
         "name": "Centro, Tab.",
         "text": "Centro, Tab.",
         "textposition": "inside",
         "type": "bar",
         "x": [
          "2020"
         ],
         "y": [
          null
         ]
        },
        {
         "hoverinfo": "y+text",
         "marker": {
          "color": "rgba(220, 176, 242, 0.8)"
         },
         "name": "Juárez, Chih.",
         "text": "Juárez, Chih.",
         "textposition": "inside",
         "type": "bar",
         "x": [
          "2020"
         ],
         "y": [
          null
         ]
        },
        {
         "hoverinfo": "y+text",
         "marker": {
          "color": "rgba(135, 197, 95, 0.8)"
         },
         "name": "Macuspana, Tab.",
         "text": "Macuspana, Tab.",
         "textposition": "inside",
         "type": "bar",
         "x": [
          "2020"
         ],
         "y": [
          null
         ]
        },
        {
         "hoverinfo": "y+text",
         "marker": {
          "color": "rgba(158, 185, 243, 0.8)"
         },
         "name": "Huixtla, Chis.",
         "text": "Huixtla, Chis.",
         "textposition": "inside",
         "type": "bar",
         "x": [
          "2020"
         ],
         "y": [
          null
         ]
        },
        {
         "hoverinfo": "y+text",
         "marker": {
          "color": "rgba(254, 136, 177, 0.8)"
         },
         "name": "Cárdenas, Tab.",
         "text": "Cárdenas, Tab.",
         "textposition": "inside",
         "type": "bar",
         "x": [
          "2020"
         ],
         "y": [
          null
         ]
        },
        {
         "hoverinfo": "y+text",
         "marker": {
          "color": "rgba(201, 219, 116, 0.8)"
         },
         "name": "Huehuetán, Chis.",
         "text": "Huehuetán, Chis.",
         "textposition": "inside",
         "type": "bar",
         "x": [
          "2020"
         ],
         "y": [
          null
         ]
        },
        {
         "hoverinfo": "y+text",
         "marker": {
          "color": "rgba(102, 197, 204, 0.8)"
         },
         "name": "Tijuana, BC",
         "text": "Tijuana, BC",
         "textposition": "inside",
         "type": "bar",
         "x": [
          "2021"
         ],
         "y": [
          9.562726838278031
         ]
        },
        {
         "hoverinfo": "y+text",
         "marker": {
          "color": "rgba(246, 207, 113, 0.8)"
         },
         "name": "Huimanguillo, Tab.",
         "text": "Huimanguillo, Tab.",
         "textposition": "inside",
         "type": "bar",
         "x": [
          "2021"
         ],
         "y": [
          6.011779445384446
         ]
        },
        {
         "hoverinfo": "y+text",
         "marker": {
          "color": "rgba(102, 197, 204, 0.8)"
         },
         "name": "Reynosa, Tamps.",
         "text": "Reynosa, Tamps.",
         "textposition": "inside",
         "type": "bar",
         "x": [
          "2021"
         ],
         "y": [
          5.587486922490733
         ]
        },
        {
         "hoverinfo": "y+text",
         "marker": {
          "color": "rgba(246, 207, 113, 0.8)"
         },
         "name": "Tapachula, Chis.",
         "text": "Tapachula, Chis.",
         "textposition": "inside",
         "type": "bar",
         "x": [
          "2021"
         ],
         "y": [
          5.274272503002984
         ]
        },
        {
         "hoverinfo": "y+text",
         "marker": {
          "color": "rgba(220, 176, 242, 0.8)"
         },
         "name": "Acayucan, Ver.",
         "text": "Acayucan, Ver.",
         "textposition": "inside",
         "type": "bar",
         "x": [
          "2021"
         ],
         "y": [
          4.691758263048448
         ]
        },
        {
         "hoverinfo": "y+text",
         "marker": {
          "color": "rgba(158, 185, 243, 0.8)"
         },
         "name": "Hermosillo, Son.",
         "text": "Hermosillo, Son.",
         "textposition": "inside",
         "type": "bar",
         "x": [
          "2021"
         ],
         "y": [
          4.519005980135102
         ]
        },
        {
         "hoverinfo": "y+text",
         "marker": {
          "color": "rgba(201, 219, 116, 0.8)"
         },
         "name": "Tenosique, Tab.",
         "text": "Tenosique, Tab.",
         "textposition": "inside",
         "type": "bar",
         "x": [
          "2021"
         ],
         "y": [
          3.4608578846079334
         ]
        },
        {
         "hoverinfo": "y+text",
         "marker": {
          "color": "rgba(180, 151, 231, 0.8)"
         },
         "name": "Tuxtla Gutiérrez, Chis.",
         "text": "Tuxtla Gutiérrez, Chis.",
         "textposition": "inside",
         "type": "bar",
         "x": [
          "2021"
         ],
         "y": [
          3.278741459256293
         ]
        },
        {
         "hoverinfo": "y+text",
         "marker": {
          "color": "rgba(254, 136, 177, 0.8)"
         },
         "name": "Palenque, Chis.",
         "text": "Palenque, Chis.",
         "textposition": "inside",
         "type": "bar",
         "x": [
          "2021"
         ],
         "y": [
          2.9035299587977734
         ]
        },
        {
         "hoverinfo": "y+text",
         "marker": {
          "color": "rgba(248, 156, 116, 0.8)"
         },
         "name": "Centro, Tab.",
         "text": "Centro, Tab.",
         "textposition": "inside",
         "type": "bar",
         "x": [
          "2021"
         ],
         "y": [
          2.7624220192965914
         ]
        },
        {
         "hoverinfo": "y+text",
         "marker": {
          "color": "rgba(248, 156, 116, 0.8)"
         },
         "name": "Piedras Negras, Coah.",
         "text": "Piedras Negras, Coah.",
         "textposition": "inside",
         "type": "bar",
         "x": [
          "2021"
         ],
         "y": [
          null
         ]
        },
        {
         "hoverinfo": "y+text",
         "marker": {
          "color": "rgba(135, 197, 95, 0.8)"
         },
         "name": "Suchiate, Chis.",
         "text": "Suchiate, Chis.",
         "textposition": "inside",
         "type": "bar",
         "x": [
          "2021"
         ],
         "y": [
          null
         ]
        },
        {
         "hoverinfo": "y+text",
         "marker": {
          "color": "rgba(139, 224, 164, 0.8)"
         },
         "name": "Tuxtla Chico, Chis.",
         "text": "Tuxtla Chico, Chis.",
         "textposition": "inside",
         "type": "bar",
         "x": [
          "2021"
         ],
         "y": [
          null
         ]
        },
        {
         "hoverinfo": "y+text",
         "marker": {
          "color": "rgba(220, 176, 242, 0.8)"
         },
         "name": "Juárez, Chih.",
         "text": "Juárez, Chih.",
         "textposition": "inside",
         "type": "bar",
         "x": [
          "2021"
         ],
         "y": [
          null
         ]
        },
        {
         "hoverinfo": "y+text",
         "marker": {
          "color": "rgba(135, 197, 95, 0.8)"
         },
         "name": "Macuspana, Tab.",
         "text": "Macuspana, Tab.",
         "textposition": "inside",
         "type": "bar",
         "x": [
          "2021"
         ],
         "y": [
          null
         ]
        },
        {
         "hoverinfo": "y+text",
         "marker": {
          "color": "rgba(158, 185, 243, 0.8)"
         },
         "name": "Huixtla, Chis.",
         "text": "Huixtla, Chis.",
         "textposition": "inside",
         "type": "bar",
         "x": [
          "2021"
         ],
         "y": [
          null
         ]
        },
        {
         "hoverinfo": "y+text",
         "marker": {
          "color": "rgba(254, 136, 177, 0.8)"
         },
         "name": "Cárdenas, Tab.",
         "text": "Cárdenas, Tab.",
         "textposition": "inside",
         "type": "bar",
         "x": [
          "2021"
         ],
         "y": [
          null
         ]
        },
        {
         "hoverinfo": "y+text",
         "marker": {
          "color": "rgba(201, 219, 116, 0.8)"
         },
         "name": "Huehuetán, Chis.",
         "text": "Huehuetán, Chis.",
         "textposition": "inside",
         "type": "bar",
         "x": [
          "2021"
         ],
         "y": [
          null
         ]
        },
        {
         "hoverinfo": "y+text",
         "marker": {
          "color": "rgba(246, 207, 113, 0.8)"
         },
         "name": "Tapachula, Chis.",
         "text": "Tapachula, Chis.",
         "textposition": "inside",
         "type": "bar",
         "x": [
          "2022"
         ],
         "y": [
          10.346866511557309
         ]
        },
        {
         "hoverinfo": "y+text",
         "marker": {
          "color": "rgba(102, 197, 204, 0.8)"
         },
         "name": "Tijuana, BC",
         "text": "Tijuana, BC",
         "textposition": "inside",
         "type": "bar",
         "x": [
          "2022"
         ],
         "y": [
          7.866400549150561
         ]
        },
        {
         "hoverinfo": "y+text",
         "marker": {
          "color": "rgba(135, 197, 95, 0.8)"
         },
         "name": "Suchiate, Chis.",
         "text": "Suchiate, Chis.",
         "textposition": "inside",
         "type": "bar",
         "x": [
          "2022"
         ],
         "y": [
          6.544723827561287
         ]
        },
        {
         "hoverinfo": "y+text",
         "marker": {
          "color": "rgba(220, 176, 242, 0.8)"
         },
         "name": "Acayucan, Ver.",
         "text": "Acayucan, Ver.",
         "textposition": "inside",
         "type": "bar",
         "x": [
          "2022"
         ],
         "y": [
          6.123119374548321
         ]
        },
        {
         "hoverinfo": "y+text",
         "marker": {
          "color": "rgba(158, 185, 243, 0.8)"
         },
         "name": "Hermosillo, Son.",
         "text": "Hermosillo, Son.",
         "textposition": "inside",
         "type": "bar",
         "x": [
          "2022"
         ],
         "y": [
          5.228710787500934
         ]
        },
        {
         "hoverinfo": "y+text",
         "marker": {
          "color": "rgba(248, 156, 116, 0.8)"
         },
         "name": "Centro, Tab.",
         "text": "Centro, Tab.",
         "textposition": "inside",
         "type": "bar",
         "x": [
          "2022"
         ],
         "y": [
          4.691114136775643
         ]
        },
        {
         "hoverinfo": "y+text",
         "marker": {
          "color": "rgba(248, 156, 116, 0.8)"
         },
         "name": "Piedras Negras, Coah.",
         "text": "Piedras Negras, Coah.",
         "textposition": "inside",
         "type": "bar",
         "x": [
          "2022"
         ],
         "y": [
          4.638328624926089
         ]
        },
        {
         "hoverinfo": "y+text",
         "marker": {
          "color": "rgba(102, 197, 204, 0.8)"
         },
         "name": "Reynosa, Tamps.",
         "text": "Reynosa, Tamps.",
         "textposition": "inside",
         "type": "bar",
         "x": [
          "2022"
         ],
         "y": [
          3.4303786284375715
         ]
        },
        {
         "hoverinfo": "y+text",
         "marker": {
          "color": "rgba(246, 207, 113, 0.8)"
         },
         "name": "Huimanguillo, Tab.",
         "text": "Huimanguillo, Tab.",
         "textposition": "inside",
         "type": "bar",
         "x": [
          "2022"
         ],
         "y": [
          3.3071369183682253
         ]
        },
        {
         "hoverinfo": "y+text",
         "marker": {
          "color": "rgba(220, 176, 242, 0.8)"
         },
         "name": "Juárez, Chih.",
         "text": "Juárez, Chih.",
         "textposition": "inside",
         "type": "bar",
         "x": [
          "2022"
         ],
         "y": [
          2.724230815411557
         ]
        },
        {
         "hoverinfo": "y+text",
         "marker": {
          "color": "rgba(254, 136, 177, 0.8)"
         },
         "name": "Palenque, Chis.",
         "text": "Palenque, Chis.",
         "textposition": "inside",
         "type": "bar",
         "x": [
          "2022"
         ],
         "y": [
          null
         ]
        },
        {
         "hoverinfo": "y+text",
         "marker": {
          "color": "rgba(201, 219, 116, 0.8)"
         },
         "name": "Tenosique, Tab.",
         "text": "Tenosique, Tab.",
         "textposition": "inside",
         "type": "bar",
         "x": [
          "2022"
         ],
         "y": [
          null
         ]
        },
        {
         "hoverinfo": "y+text",
         "marker": {
          "color": "rgba(139, 224, 164, 0.8)"
         },
         "name": "Tuxtla Chico, Chis.",
         "text": "Tuxtla Chico, Chis.",
         "textposition": "inside",
         "type": "bar",
         "x": [
          "2022"
         ],
         "y": [
          null
         ]
        },
        {
         "hoverinfo": "y+text",
         "marker": {
          "color": "rgba(180, 151, 231, 0.8)"
         },
         "name": "Tuxtla Gutiérrez, Chis.",
         "text": "Tuxtla Gutiérrez, Chis.",
         "textposition": "inside",
         "type": "bar",
         "x": [
          "2022"
         ],
         "y": [
          null
         ]
        },
        {
         "hoverinfo": "y+text",
         "marker": {
          "color": "rgba(135, 197, 95, 0.8)"
         },
         "name": "Macuspana, Tab.",
         "text": "Macuspana, Tab.",
         "textposition": "inside",
         "type": "bar",
         "x": [
          "2022"
         ],
         "y": [
          null
         ]
        },
        {
         "hoverinfo": "y+text",
         "marker": {
          "color": "rgba(158, 185, 243, 0.8)"
         },
         "name": "Huixtla, Chis.",
         "text": "Huixtla, Chis.",
         "textposition": "inside",
         "type": "bar",
         "x": [
          "2022"
         ],
         "y": [
          null
         ]
        },
        {
         "hoverinfo": "y+text",
         "marker": {
          "color": "rgba(254, 136, 177, 0.8)"
         },
         "name": "Cárdenas, Tab.",
         "text": "Cárdenas, Tab.",
         "textposition": "inside",
         "type": "bar",
         "x": [
          "2022"
         ],
         "y": [
          null
         ]
        },
        {
         "hoverinfo": "y+text",
         "marker": {
          "color": "rgba(201, 219, 116, 0.8)"
         },
         "name": "Huehuetán, Chis.",
         "text": "Huehuetán, Chis.",
         "textposition": "inside",
         "type": "bar",
         "x": [
          "2022"
         ],
         "y": [
          null
         ]
        },
        {
         "hoverinfo": "y+text",
         "marker": {
          "color": "rgba(246, 207, 113, 0.8)"
         },
         "name": "Huimanguillo, Tab.",
         "text": "Huimanguillo, Tab.",
         "textposition": "inside",
         "type": "bar",
         "x": [
          "2023"
         ],
         "y": [
          11.128928100530615
         ]
        },
        {
         "hoverinfo": "y+text",
         "marker": {
          "color": "rgba(248, 156, 116, 0.8)"
         },
         "name": "Centro, Tab.",
         "text": "Centro, Tab.",
         "textposition": "inside",
         "type": "bar",
         "x": [
          "2023"
         ],
         "y": [
          9.521033961692474
         ]
        },
        {
         "hoverinfo": "y+text",
         "marker": {
          "color": "rgba(246, 207, 113, 0.8)"
         },
         "name": "Tapachula, Chis.",
         "text": "Tapachula, Chis.",
         "textposition": "inside",
         "type": "bar",
         "x": [
          "2023"
         ],
         "y": [
          9.072328275391028
         ]
        },
        {
         "hoverinfo": "y+text",
         "marker": {
          "color": "rgba(201, 219, 116, 0.8)"
         },
         "name": "Tenosique, Tab.",
         "text": "Tenosique, Tab.",
         "textposition": "inside",
         "type": "bar",
         "x": [
          "2023"
         ],
         "y": [
          5.086614961734841
         ]
        },
        {
         "hoverinfo": "y+text",
         "marker": {
          "color": "rgba(220, 176, 242, 0.8)"
         },
         "name": "Acayucan, Ver.",
         "text": "Acayucan, Ver.",
         "textposition": "inside",
         "type": "bar",
         "x": [
          "2023"
         ],
         "y": [
          4.6791208706559315
         ]
        },
        {
         "hoverinfo": "y+text",
         "marker": {
          "color": "rgba(135, 197, 95, 0.8)"
         },
         "name": "Macuspana, Tab.",
         "text": "Macuspana, Tab.",
         "textposition": "inside",
         "type": "bar",
         "x": [
          "2023"
         ],
         "y": [
          4.074812525757247
         ]
        },
        {
         "hoverinfo": "y+text",
         "marker": {
          "color": "rgba(135, 197, 95, 0.8)"
         },
         "name": "Suchiate, Chis.",
         "text": "Suchiate, Chis.",
         "textposition": "inside",
         "type": "bar",
         "x": [
          "2023"
         ],
         "y": [
          3.620843053150119
         ]
        },
        {
         "hoverinfo": "y+text",
         "marker": {
          "color": "rgba(102, 197, 204, 0.8)"
         },
         "name": "Tijuana, BC",
         "text": "Tijuana, BC",
         "textposition": "inside",
         "type": "bar",
         "x": [
          "2023"
         ],
         "y": [
          3.518391797737085
         ]
        },
        {
         "hoverinfo": "y+text",
         "marker": {
          "color": "rgba(158, 185, 243, 0.8)"
         },
         "name": "Huixtla, Chis.",
         "text": "Huixtla, Chis.",
         "textposition": "inside",
         "type": "bar",
         "x": [
          "2023"
         ],
         "y": [
          3.0497864314995247
         ]
        },
        {
         "hoverinfo": "y+text",
         "marker": {
          "color": "rgba(254, 136, 177, 0.8)"
         },
         "name": "Cárdenas, Tab.",
         "text": "Cárdenas, Tab.",
         "textposition": "inside",
         "type": "bar",
         "x": [
          "2023"
         ],
         "y": [
          2.9721134872327504
         ]
        },
        {
         "hoverinfo": "y+text",
         "marker": {
          "color": "rgba(102, 197, 204, 0.8)"
         },
         "name": "Reynosa, Tamps.",
         "text": "Reynosa, Tamps.",
         "textposition": "inside",
         "type": "bar",
         "x": [
          "2023"
         ],
         "y": [
          null
         ]
        },
        {
         "hoverinfo": "y+text",
         "marker": {
          "color": "rgba(248, 156, 116, 0.8)"
         },
         "name": "Piedras Negras, Coah.",
         "text": "Piedras Negras, Coah.",
         "textposition": "inside",
         "type": "bar",
         "x": [
          "2023"
         ],
         "y": [
          null
         ]
        },
        {
         "hoverinfo": "y+text",
         "marker": {
          "color": "rgba(158, 185, 243, 0.8)"
         },
         "name": "Hermosillo, Son.",
         "text": "Hermosillo, Son.",
         "textposition": "inside",
         "type": "bar",
         "x": [
          "2023"
         ],
         "y": [
          null
         ]
        },
        {
         "hoverinfo": "y+text",
         "marker": {
          "color": "rgba(254, 136, 177, 0.8)"
         },
         "name": "Palenque, Chis.",
         "text": "Palenque, Chis.",
         "textposition": "inside",
         "type": "bar",
         "x": [
          "2023"
         ],
         "y": [
          null
         ]
        },
        {
         "hoverinfo": "y+text",
         "marker": {
          "color": "rgba(139, 224, 164, 0.8)"
         },
         "name": "Tuxtla Chico, Chis.",
         "text": "Tuxtla Chico, Chis.",
         "textposition": "inside",
         "type": "bar",
         "x": [
          "2023"
         ],
         "y": [
          null
         ]
        },
        {
         "hoverinfo": "y+text",
         "marker": {
          "color": "rgba(180, 151, 231, 0.8)"
         },
         "name": "Tuxtla Gutiérrez, Chis.",
         "text": "Tuxtla Gutiérrez, Chis.",
         "textposition": "inside",
         "type": "bar",
         "x": [
          "2023"
         ],
         "y": [
          null
         ]
        },
        {
         "hoverinfo": "y+text",
         "marker": {
          "color": "rgba(220, 176, 242, 0.8)"
         },
         "name": "Juárez, Chih.",
         "text": "Juárez, Chih.",
         "textposition": "inside",
         "type": "bar",
         "x": [
          "2023"
         ],
         "y": [
          null
         ]
        },
        {
         "hoverinfo": "y+text",
         "marker": {
          "color": "rgba(201, 219, 116, 0.8)"
         },
         "name": "Huehuetán, Chis.",
         "text": "Huehuetán, Chis.",
         "textposition": "inside",
         "type": "bar",
         "x": [
          "2023"
         ],
         "y": [
          null
         ]
        },
        {
         "hoverinfo": "y+text",
         "marker": {
          "color": "rgba(248, 156, 116, 0.8)"
         },
         "name": "Centro, Tab.",
         "text": "Centro, Tab.",
         "textposition": "inside",
         "type": "bar",
         "x": [
          "2024"
         ],
         "y": [
          15.108406601275437
         ]
        },
        {
         "hoverinfo": "y+text",
         "marker": {
          "color": "rgba(246, 207, 113, 0.8)"
         },
         "name": "Tapachula, Chis.",
         "text": "Tapachula, Chis.",
         "textposition": "inside",
         "type": "bar",
         "x": [
          "2024"
         ],
         "y": [
          12.33386593581251
         ]
        },
        {
         "hoverinfo": "y+text",
         "marker": {
          "color": "rgba(246, 207, 113, 0.8)"
         },
         "name": "Huimanguillo, Tab.",
         "text": "Huimanguillo, Tab.",
         "textposition": "inside",
         "type": "bar",
         "x": [
          "2024"
         ],
         "y": [
          9.105396320830748
         ]
        },
        {
         "hoverinfo": "y+text",
         "marker": {
          "color": "rgba(135, 197, 95, 0.8)"
         },
         "name": "Macuspana, Tab.",
         "text": "Macuspana, Tab.",
         "textposition": "inside",
         "type": "bar",
         "x": [
          "2024"
         ],
         "y": [
          6.353882054291756
         ]
        },
        {
         "hoverinfo": "y+text",
         "marker": {
          "color": "rgba(135, 197, 95, 0.8)"
         },
         "name": "Suchiate, Chis.",
         "text": "Suchiate, Chis.",
         "textposition": "inside",
         "type": "bar",
         "x": [
          "2024"
         ],
         "y": [
          4.53086520289908
         ]
        },
        {
         "hoverinfo": "y+text",
         "marker": {
          "color": "rgba(201, 219, 116, 0.8)"
         },
         "name": "Tenosique, Tab.",
         "text": "Tenosique, Tab.",
         "textposition": "inside",
         "type": "bar",
         "x": [
          "2024"
         ],
         "y": [
          4.151772049883043
         ]
        },
        {
         "hoverinfo": "y+text",
         "marker": {
          "color": "rgba(158, 185, 243, 0.8)"
         },
         "name": "Huixtla, Chis.",
         "text": "Huixtla, Chis.",
         "textposition": "inside",
         "type": "bar",
         "x": [
          "2024"
         ],
         "y": [
          3.697702695492723
         ]
        },
        {
         "hoverinfo": "y+text",
         "marker": {
          "color": "rgba(254, 136, 177, 0.8)"
         },
         "name": "Cárdenas, Tab.",
         "text": "Cárdenas, Tab.",
         "textposition": "inside",
         "type": "bar",
         "x": [
          "2024"
         ],
         "y": [
          3.638171029982056
         ]
        },
        {
         "hoverinfo": "y+text",
         "marker": {
          "color": "rgba(102, 197, 204, 0.8)"
         },
         "name": "Tijuana, BC",
         "text": "Tijuana, BC",
         "textposition": "inside",
         "type": "bar",
         "x": [
          "2024"
         ],
         "y": [
          3.6002617146804528
         ]
        },
        {
         "hoverinfo": "y+text",
         "marker": {
          "color": "rgba(201, 219, 116, 0.8)"
         },
         "name": "Huehuetán, Chis.",
         "text": "Huehuetán, Chis.",
         "textposition": "inside",
         "type": "bar",
         "x": [
          "2024"
         ],
         "y": [
          2.9034323374883817
         ]
        },
        {
         "hoverinfo": "y+text",
         "marker": {
          "color": "rgba(102, 197, 204, 0.8)"
         },
         "name": "Reynosa, Tamps.",
         "text": "Reynosa, Tamps.",
         "textposition": "inside",
         "type": "bar",
         "x": [
          "2024"
         ],
         "y": [
          null
         ]
        },
        {
         "hoverinfo": "y+text",
         "marker": {
          "color": "rgba(248, 156, 116, 0.8)"
         },
         "name": "Piedras Negras, Coah.",
         "text": "Piedras Negras, Coah.",
         "textposition": "inside",
         "type": "bar",
         "x": [
          "2024"
         ],
         "y": [
          null
         ]
        },
        {
         "hoverinfo": "y+text",
         "marker": {
          "color": "rgba(220, 176, 242, 0.8)"
         },
         "name": "Acayucan, Ver.",
         "text": "Acayucan, Ver.",
         "textposition": "inside",
         "type": "bar",
         "x": [
          "2024"
         ],
         "y": [
          null
         ]
        },
        {
         "hoverinfo": "y+text",
         "marker": {
          "color": "rgba(158, 185, 243, 0.8)"
         },
         "name": "Hermosillo, Son.",
         "text": "Hermosillo, Son.",
         "textposition": "inside",
         "type": "bar",
         "x": [
          "2024"
         ],
         "y": [
          null
         ]
        },
        {
         "hoverinfo": "y+text",
         "marker": {
          "color": "rgba(254, 136, 177, 0.8)"
         },
         "name": "Palenque, Chis.",
         "text": "Palenque, Chis.",
         "textposition": "inside",
         "type": "bar",
         "x": [
          "2024"
         ],
         "y": [
          null
         ]
        },
        {
         "hoverinfo": "y+text",
         "marker": {
          "color": "rgba(139, 224, 164, 0.8)"
         },
         "name": "Tuxtla Chico, Chis.",
         "text": "Tuxtla Chico, Chis.",
         "textposition": "inside",
         "type": "bar",
         "x": [
          "2024"
         ],
         "y": [
          null
         ]
        },
        {
         "hoverinfo": "y+text",
         "marker": {
          "color": "rgba(180, 151, 231, 0.8)"
         },
         "name": "Tuxtla Gutiérrez, Chis.",
         "text": "Tuxtla Gutiérrez, Chis.",
         "textposition": "inside",
         "type": "bar",
         "x": [
          "2024"
         ],
         "y": [
          null
         ]
        },
        {
         "hoverinfo": "y+text",
         "marker": {
          "color": "rgba(220, 176, 242, 0.8)"
         },
         "name": "Juárez, Chih.",
         "text": "Juárez, Chih.",
         "textposition": "inside",
         "type": "bar",
         "x": [
          "2024"
         ],
         "y": [
          null
         ]
        }
       ],
       "layout": {
        "barmode": "stack",
        "height": 600,
        "showlegend": false,
        "template": {
         "data": {
          "bar": [
           {
            "error_x": {
             "color": "#2a3f5f"
            },
            "error_y": {
             "color": "#2a3f5f"
            },
            "marker": {
             "line": {
              "color": "#E5ECF6",
              "width": 0.5
             },
             "pattern": {
              "fillmode": "overlay",
              "size": 10,
              "solidity": 0.2
             }
            },
            "type": "bar"
           }
          ],
          "barpolar": [
           {
            "marker": {
             "line": {
              "color": "#E5ECF6",
              "width": 0.5
             },
             "pattern": {
              "fillmode": "overlay",
              "size": 10,
              "solidity": 0.2
             }
            },
            "type": "barpolar"
           }
          ],
          "carpet": [
           {
            "aaxis": {
             "endlinecolor": "#2a3f5f",
             "gridcolor": "white",
             "linecolor": "white",
             "minorgridcolor": "white",
             "startlinecolor": "#2a3f5f"
            },
            "baxis": {
             "endlinecolor": "#2a3f5f",
             "gridcolor": "white",
             "linecolor": "white",
             "minorgridcolor": "white",
             "startlinecolor": "#2a3f5f"
            },
            "type": "carpet"
           }
          ],
          "choropleth": [
           {
            "colorbar": {
             "outlinewidth": 0,
             "ticks": ""
            },
            "type": "choropleth"
           }
          ],
          "contour": [
           {
            "colorbar": {
             "outlinewidth": 0,
             "ticks": ""
            },
            "colorscale": [
             [
              0,
              "#0d0887"
             ],
             [
              0.1111111111111111,
              "#46039f"
             ],
             [
              0.2222222222222222,
              "#7201a8"
             ],
             [
              0.3333333333333333,
              "#9c179e"
             ],
             [
              0.4444444444444444,
              "#bd3786"
             ],
             [
              0.5555555555555556,
              "#d8576b"
             ],
             [
              0.6666666666666666,
              "#ed7953"
             ],
             [
              0.7777777777777778,
              "#fb9f3a"
             ],
             [
              0.8888888888888888,
              "#fdca26"
             ],
             [
              1,
              "#f0f921"
             ]
            ],
            "type": "contour"
           }
          ],
          "contourcarpet": [
           {
            "colorbar": {
             "outlinewidth": 0,
             "ticks": ""
            },
            "type": "contourcarpet"
           }
          ],
          "heatmap": [
           {
            "colorbar": {
             "outlinewidth": 0,
             "ticks": ""
            },
            "colorscale": [
             [
              0,
              "#0d0887"
             ],
             [
              0.1111111111111111,
              "#46039f"
             ],
             [
              0.2222222222222222,
              "#7201a8"
             ],
             [
              0.3333333333333333,
              "#9c179e"
             ],
             [
              0.4444444444444444,
              "#bd3786"
             ],
             [
              0.5555555555555556,
              "#d8576b"
             ],
             [
              0.6666666666666666,
              "#ed7953"
             ],
             [
              0.7777777777777778,
              "#fb9f3a"
             ],
             [
              0.8888888888888888,
              "#fdca26"
             ],
             [
              1,
              "#f0f921"
             ]
            ],
            "type": "heatmap"
           }
          ],
          "heatmapgl": [
           {
            "colorbar": {
             "outlinewidth": 0,
             "ticks": ""
            },
            "colorscale": [
             [
              0,
              "#0d0887"
             ],
             [
              0.1111111111111111,
              "#46039f"
             ],
             [
              0.2222222222222222,
              "#7201a8"
             ],
             [
              0.3333333333333333,
              "#9c179e"
             ],
             [
              0.4444444444444444,
              "#bd3786"
             ],
             [
              0.5555555555555556,
              "#d8576b"
             ],
             [
              0.6666666666666666,
              "#ed7953"
             ],
             [
              0.7777777777777778,
              "#fb9f3a"
             ],
             [
              0.8888888888888888,
              "#fdca26"
             ],
             [
              1,
              "#f0f921"
             ]
            ],
            "type": "heatmapgl"
           }
          ],
          "histogram": [
           {
            "marker": {
             "pattern": {
              "fillmode": "overlay",
              "size": 10,
              "solidity": 0.2
             }
            },
            "type": "histogram"
           }
          ],
          "histogram2d": [
           {
            "colorbar": {
             "outlinewidth": 0,
             "ticks": ""
            },
            "colorscale": [
             [
              0,
              "#0d0887"
             ],
             [
              0.1111111111111111,
              "#46039f"
             ],
             [
              0.2222222222222222,
              "#7201a8"
             ],
             [
              0.3333333333333333,
              "#9c179e"
             ],
             [
              0.4444444444444444,
              "#bd3786"
             ],
             [
              0.5555555555555556,
              "#d8576b"
             ],
             [
              0.6666666666666666,
              "#ed7953"
             ],
             [
              0.7777777777777778,
              "#fb9f3a"
             ],
             [
              0.8888888888888888,
              "#fdca26"
             ],
             [
              1,
              "#f0f921"
             ]
            ],
            "type": "histogram2d"
           }
          ],
          "histogram2dcontour": [
           {
            "colorbar": {
             "outlinewidth": 0,
             "ticks": ""
            },
            "colorscale": [
             [
              0,
              "#0d0887"
             ],
             [
              0.1111111111111111,
              "#46039f"
             ],
             [
              0.2222222222222222,
              "#7201a8"
             ],
             [
              0.3333333333333333,
              "#9c179e"
             ],
             [
              0.4444444444444444,
              "#bd3786"
             ],
             [
              0.5555555555555556,
              "#d8576b"
             ],
             [
              0.6666666666666666,
              "#ed7953"
             ],
             [
              0.7777777777777778,
              "#fb9f3a"
             ],
             [
              0.8888888888888888,
              "#fdca26"
             ],
             [
              1,
              "#f0f921"
             ]
            ],
            "type": "histogram2dcontour"
           }
          ],
          "mesh3d": [
           {
            "colorbar": {
             "outlinewidth": 0,
             "ticks": ""
            },
            "type": "mesh3d"
           }
          ],
          "parcoords": [
           {
            "line": {
             "colorbar": {
              "outlinewidth": 0,
              "ticks": ""
             }
            },
            "type": "parcoords"
           }
          ],
          "pie": [
           {
            "automargin": true,
            "type": "pie"
           }
          ],
          "scatter": [
           {
            "fillpattern": {
             "fillmode": "overlay",
             "size": 10,
             "solidity": 0.2
            },
            "type": "scatter"
           }
          ],
          "scatter3d": [
           {
            "line": {
             "colorbar": {
              "outlinewidth": 0,
              "ticks": ""
             }
            },
            "marker": {
             "colorbar": {
              "outlinewidth": 0,
              "ticks": ""
             }
            },
            "type": "scatter3d"
           }
          ],
          "scattercarpet": [
           {
            "marker": {
             "colorbar": {
              "outlinewidth": 0,
              "ticks": ""
             }
            },
            "type": "scattercarpet"
           }
          ],
          "scattergeo": [
           {
            "marker": {
             "colorbar": {
              "outlinewidth": 0,
              "ticks": ""
             }
            },
            "type": "scattergeo"
           }
          ],
          "scattergl": [
           {
            "marker": {
             "colorbar": {
              "outlinewidth": 0,
              "ticks": ""
             }
            },
            "type": "scattergl"
           }
          ],
          "scattermapbox": [
           {
            "marker": {
             "colorbar": {
              "outlinewidth": 0,
              "ticks": ""
             }
            },
            "type": "scattermapbox"
           }
          ],
          "scatterpolar": [
           {
            "marker": {
             "colorbar": {
              "outlinewidth": 0,
              "ticks": ""
             }
            },
            "type": "scatterpolar"
           }
          ],
          "scatterpolargl": [
           {
            "marker": {
             "colorbar": {
              "outlinewidth": 0,
              "ticks": ""
             }
            },
            "type": "scatterpolargl"
           }
          ],
          "scatterternary": [
           {
            "marker": {
             "colorbar": {
              "outlinewidth": 0,
              "ticks": ""
             }
            },
            "type": "scatterternary"
           }
          ],
          "surface": [
           {
            "colorbar": {
             "outlinewidth": 0,
             "ticks": ""
            },
            "colorscale": [
             [
              0,
              "#0d0887"
             ],
             [
              0.1111111111111111,
              "#46039f"
             ],
             [
              0.2222222222222222,
              "#7201a8"
             ],
             [
              0.3333333333333333,
              "#9c179e"
             ],
             [
              0.4444444444444444,
              "#bd3786"
             ],
             [
              0.5555555555555556,
              "#d8576b"
             ],
             [
              0.6666666666666666,
              "#ed7953"
             ],
             [
              0.7777777777777778,
              "#fb9f3a"
             ],
             [
              0.8888888888888888,
              "#fdca26"
             ],
             [
              1,
              "#f0f921"
             ]
            ],
            "type": "surface"
           }
          ],
          "table": [
           {
            "cells": {
             "fill": {
              "color": "#EBF0F8"
             },
             "line": {
              "color": "white"
             }
            },
            "header": {
             "fill": {
              "color": "#C8D4E3"
             },
             "line": {
              "color": "white"
             }
            },
            "type": "table"
           }
          ]
         },
         "layout": {
          "annotationdefaults": {
           "arrowcolor": "#2a3f5f",
           "arrowhead": 0,
           "arrowwidth": 1
          },
          "autotypenumbers": "strict",
          "coloraxis": {
           "colorbar": {
            "outlinewidth": 0,
            "ticks": ""
           }
          },
          "colorscale": {
           "diverging": [
            [
             0,
             "#8e0152"
            ],
            [
             0.1,
             "#c51b7d"
            ],
            [
             0.2,
             "#de77ae"
            ],
            [
             0.3,
             "#f1b6da"
            ],
            [
             0.4,
             "#fde0ef"
            ],
            [
             0.5,
             "#f7f7f7"
            ],
            [
             0.6,
             "#e6f5d0"
            ],
            [
             0.7,
             "#b8e186"
            ],
            [
             0.8,
             "#7fbc41"
            ],
            [
             0.9,
             "#4d9221"
            ],
            [
             1,
             "#276419"
            ]
           ],
           "sequential": [
            [
             0,
             "#0d0887"
            ],
            [
             0.1111111111111111,
             "#46039f"
            ],
            [
             0.2222222222222222,
             "#7201a8"
            ],
            [
             0.3333333333333333,
             "#9c179e"
            ],
            [
             0.4444444444444444,
             "#bd3786"
            ],
            [
             0.5555555555555556,
             "#d8576b"
            ],
            [
             0.6666666666666666,
             "#ed7953"
            ],
            [
             0.7777777777777778,
             "#fb9f3a"
            ],
            [
             0.8888888888888888,
             "#fdca26"
            ],
            [
             1,
             "#f0f921"
            ]
           ],
           "sequentialminus": [
            [
             0,
             "#0d0887"
            ],
            [
             0.1111111111111111,
             "#46039f"
            ],
            [
             0.2222222222222222,
             "#7201a8"
            ],
            [
             0.3333333333333333,
             "#9c179e"
            ],
            [
             0.4444444444444444,
             "#bd3786"
            ],
            [
             0.5555555555555556,
             "#d8576b"
            ],
            [
             0.6666666666666666,
             "#ed7953"
            ],
            [
             0.7777777777777778,
             "#fb9f3a"
            ],
            [
             0.8888888888888888,
             "#fdca26"
            ],
            [
             1,
             "#f0f921"
            ]
           ]
          },
          "colorway": [
           "#636efa",
           "#EF553B",
           "#00cc96",
           "#ab63fa",
           "#FFA15A",
           "#19d3f3",
           "#FF6692",
           "#B6E880",
           "#FF97FF",
           "#FECB52"
          ],
          "font": {
           "color": "#2a3f5f"
          },
          "geo": {
           "bgcolor": "white",
           "lakecolor": "white",
           "landcolor": "#E5ECF6",
           "showlakes": true,
           "showland": true,
           "subunitcolor": "white"
          },
          "hoverlabel": {
           "align": "left"
          },
          "hovermode": "closest",
          "mapbox": {
           "style": "light"
          },
          "paper_bgcolor": "white",
          "plot_bgcolor": "#E5ECF6",
          "polar": {
           "angularaxis": {
            "gridcolor": "white",
            "linecolor": "white",
            "ticks": ""
           },
           "bgcolor": "#E5ECF6",
           "radialaxis": {
            "gridcolor": "white",
            "linecolor": "white",
            "ticks": ""
           }
          },
          "scene": {
           "xaxis": {
            "backgroundcolor": "#E5ECF6",
            "gridcolor": "white",
            "gridwidth": 2,
            "linecolor": "white",
            "showbackground": true,
            "ticks": "",
            "zerolinecolor": "white"
           },
           "yaxis": {
            "backgroundcolor": "#E5ECF6",
            "gridcolor": "white",
            "gridwidth": 2,
            "linecolor": "white",
            "showbackground": true,
            "ticks": "",
            "zerolinecolor": "white"
           },
           "zaxis": {
            "backgroundcolor": "#E5ECF6",
            "gridcolor": "white",
            "gridwidth": 2,
            "linecolor": "white",
            "showbackground": true,
            "ticks": "",
            "zerolinecolor": "white"
           }
          },
          "shapedefaults": {
           "line": {
            "color": "#2a3f5f"
           }
          },
          "ternary": {
           "aaxis": {
            "gridcolor": "white",
            "linecolor": "white",
            "ticks": ""
           },
           "baxis": {
            "gridcolor": "white",
            "linecolor": "white",
            "ticks": ""
           },
           "bgcolor": "#E5ECF6",
           "caxis": {
            "gridcolor": "white",
            "linecolor": "white",
            "ticks": ""
           }
          },
          "title": {
           "x": 0.05
          },
          "xaxis": {
           "automargin": true,
           "gridcolor": "white",
           "linecolor": "white",
           "ticks": "",
           "title": {
            "standoff": 15
           },
           "zerolinecolor": "white",
           "zerolinewidth": 2
          },
          "yaxis": {
           "automargin": true,
           "gridcolor": "white",
           "linecolor": "white",
           "ticks": "",
           "title": {
            "standoff": 15
           },
           "zerolinecolor": "white",
           "zerolinewidth": 2
          }
         }
        },
        "title": {
         "text": "Proporción de los Top 10 Municipios por Año (%) del Total Anual"
        },
        "width": 1000,
        "xaxis": {
         "autorange": true,
         "range": [
          -0.5,
          4.5
         ],
         "title": {
          "text": "Año"
         },
         "type": "category"
        },
        "yaxis": {
         "autorange": true,
         "range": [
          0,
          68.8671115185644
         ],
         "title": {
          "text": "Porcentaje del Total Anual"
         },
         "type": "linear"
        }
       }
      },
      "image/png": "[encoded data removed]",
      "text/html": [
       "<div>                            <div id=\"9723e372-a475-4517-97e3-cf32338096f4\" class=\"plotly-graph-div\" style=\"height:600px; width:1000px;\"></div>            <script type=\"text/javascript\">                require([\"plotly\"], function(Plotly) {                    window.PLOTLYENV=window.PLOTLYENV || {};                                    if (document.getElementById(\"9723e372-a475-4517-97e3-cf32338096f4\")) {                    Plotly.newPlot(                        \"9723e372-a475-4517-97e3-cf32338096f4\",                        [{\"hoverinfo\":\"y+text\",\"marker\":{\"color\":\"rgba(102, 197, 204, 0.8)\"},\"name\":\"Reynosa, Tamps.\",\"text\":\"Reynosa, Tamps.\",\"textposition\":\"inside\",\"x\":[\"2020\"],\"y\":[16.126682771094575],\"type\":\"bar\"},{\"hoverinfo\":\"y+text\",\"marker\":{\"color\":\"rgba(246, 207, 113, 0.8)\"},\"name\":\"Tapachula, Chis.\",\"text\":\"Tapachula, Chis.\",\"textposition\":\"inside\",\"x\":[\"2020\"],\"y\":[7.599024023112687],\"type\":\"bar\"},{\"hoverinfo\":\"y+text\",\"marker\":{\"color\":\"rgba(248, 156, 116, 0.8)\"},\"name\":\"Piedras Negras, Coah.\",\"text\":\"Piedras Negras, Coah.\",\"textposition\":\"inside\",\"x\":[\"2020\"],\"y\":[4.930868303815292],\"type\":\"bar\"},{\"hoverinfo\":\"y+text\",\"marker\":{\"color\":\"rgba(220, 176, 242, 0.8)\"},\"name\":\"Acayucan, Ver.\",\"text\":\"Acayucan, Ver.\",\"textposition\":\"inside\",\"x\":[\"2020\"],\"y\":[4.496291530608529],\"type\":\"bar\"},{\"hoverinfo\":\"y+text\",\"marker\":{\"color\":\"rgba(135, 197, 95, 0.8)\"},\"name\":\"Suchiate, Chis.\",\"text\":\"Suchiate, Chis.\",\"textposition\":\"inside\",\"x\":[\"2020\"],\"y\":[4.32270360164605],\"type\":\"bar\"},{\"hoverinfo\":\"y+text\",\"marker\":{\"color\":\"rgba(158, 185, 243, 0.8)\"},\"name\":\"Hermosillo, Son.\",\"text\":\"Hermosillo, Son.\",\"textposition\":\"inside\",\"x\":[\"2020\"],\"y\":[4.2170941623472],\"type\":\"bar\"},{\"hoverinfo\":\"y+text\",\"marker\":{\"color\":\"rgba(254, 136, 177, 0.8)\"},\"name\":\"Palenque, Chis.\",\"text\":\"Palenque, Chis.\",\"textposition\":\"inside\",\"x\":[\"2020\"],\"y\":[4.016800398159725],\"type\":\"bar\"},{\"hoverinfo\":\"y+text\",\"marker\":{\"color\":\"rgba(201, 219, 116, 0.8)\"},\"name\":\"Tenosique, Tab.\",\"text\":\"Tenosique, Tab.\",\"textposition\":\"inside\",\"x\":[\"2020\"],\"y\":[3.5810097233518254],\"type\":\"bar\"},{\"hoverinfo\":\"y+text\",\"marker\":{\"color\":\"rgba(139, 224, 164, 0.8)\"},\"name\":\"Tuxtla Chico, Chis.\",\"text\":\"Tuxtla Chico, Chis.\",\"textposition\":\"inside\",\"x\":[\"2020\"],\"y\":[3.148860753347334],\"type\":\"bar\"},{\"hoverinfo\":\"y+text\",\"marker\":{\"color\":\"rgba(180, 151, 231, 0.8)\"},\"name\":\"Tuxtla Guti\\u00e9rrez, Chis.\",\"text\":\"Tuxtla Guti\\u00e9rrez, Chis.\",\"textposition\":\"inside\",\"x\":[\"2020\"],\"y\":[2.2869906165406233],\"type\":\"bar\"},{\"hoverinfo\":\"y+text\",\"marker\":{\"color\":\"rgba(102, 197, 204, 0.8)\"},\"name\":\"Tijuana, BC\",\"text\":\"Tijuana, BC\",\"textposition\":\"inside\",\"x\":[\"2020\"],\"y\":[null],\"type\":\"bar\"},{\"hoverinfo\":\"y+text\",\"marker\":{\"color\":\"rgba(246, 207, 113, 0.8)\"},\"name\":\"Huimanguillo, Tab.\",\"text\":\"Huimanguillo, Tab.\",\"textposition\":\"inside\",\"x\":[\"2020\"],\"y\":[null],\"type\":\"bar\"},{\"hoverinfo\":\"y+text\",\"marker\":{\"color\":\"rgba(248, 156, 116, 0.8)\"},\"name\":\"Centro, Tab.\",\"text\":\"Centro, Tab.\",\"textposition\":\"inside\",\"x\":[\"2020\"],\"y\":[null],\"type\":\"bar\"},{\"hoverinfo\":\"y+text\",\"marker\":{\"color\":\"rgba(220, 176, 242, 0.8)\"},\"name\":\"Ju\\u00e1rez, Chih.\",\"text\":\"Ju\\u00e1rez, Chih.\",\"textposition\":\"inside\",\"x\":[\"2020\"],\"y\":[null],\"type\":\"bar\"},{\"hoverinfo\":\"y+text\",\"marker\":{\"color\":\"rgba(135, 197, 95, 0.8)\"},\"name\":\"Macuspana, Tab.\",\"text\":\"Macuspana, Tab.\",\"textposition\":\"inside\",\"x\":[\"2020\"],\"y\":[null],\"type\":\"bar\"},{\"hoverinfo\":\"y+text\",\"marker\":{\"color\":\"rgba(158, 185, 243, 0.8)\"},\"name\":\"Huixtla, Chis.\",\"text\":\"Huixtla, Chis.\",\"textposition\":\"inside\",\"x\":[\"2020\"],\"y\":[null],\"type\":\"bar\"},{\"hoverinfo\":\"y+text\",\"marker\":{\"color\":\"rgba(254, 136, 177, 0.8)\"},\"name\":\"C\\u00e1rdenas, Tab.\",\"text\":\"C\\u00e1rdenas, Tab.\",\"textposition\":\"inside\",\"x\":[\"2020\"],\"y\":[null],\"type\":\"bar\"},{\"hoverinfo\":\"y+text\",\"marker\":{\"color\":\"rgba(201, 219, 116, 0.8)\"},\"name\":\"Huehuet\\u00e1n, Chis.\",\"text\":\"Huehuet\\u00e1n, Chis.\",\"textposition\":\"inside\",\"x\":[\"2020\"],\"y\":[null],\"type\":\"bar\"},{\"hoverinfo\":\"y+text\",\"marker\":{\"color\":\"rgba(102, 197, 204, 0.8)\"},\"name\":\"Tijuana, BC\",\"text\":\"Tijuana, BC\",\"textposition\":\"inside\",\"x\":[\"2021\"],\"y\":[9.562726838278031],\"type\":\"bar\"},{\"hoverinfo\":\"y+text\",\"marker\":{\"color\":\"rgba(246, 207, 113, 0.8)\"},\"name\":\"Huimanguillo, Tab.\",\"text\":\"Huimanguillo, Tab.\",\"textposition\":\"inside\",\"x\":[\"2021\"],\"y\":[6.011779445384446],\"type\":\"bar\"},{\"hoverinfo\":\"y+text\",\"marker\":{\"color\":\"rgba(102, 197, 204, 0.8)\"},\"name\":\"Reynosa, Tamps.\",\"text\":\"Reynosa, Tamps.\",\"textposition\":\"inside\",\"x\":[\"2021\"],\"y\":[5.587486922490733],\"type\":\"bar\"},{\"hoverinfo\":\"y+text\",\"marker\":{\"color\":\"rgba(246, 207, 113, 0.8)\"},\"name\":\"Tapachula, Chis.\",\"text\":\"Tapachula, Chis.\",\"textposition\":\"inside\",\"x\":[\"2021\"],\"y\":[5.274272503002984],\"type\":\"bar\"},{\"hoverinfo\":\"y+text\",\"marker\":{\"color\":\"rgba(220, 176, 242, 0.8)\"},\"name\":\"Acayucan, Ver.\",\"text\":\"Acayucan, Ver.\",\"textposition\":\"inside\",\"x\":[\"2021\"],\"y\":[4.691758263048448],\"type\":\"bar\"},{\"hoverinfo\":\"y+text\",\"marker\":{\"color\":\"rgba(158, 185, 243, 0.8)\"},\"name\":\"Hermosillo, Son.\",\"text\":\"Hermosillo, Son.\",\"textposition\":\"inside\",\"x\":[\"2021\"],\"y\":[4.519005980135102],\"type\":\"bar\"},{\"hoverinfo\":\"y+text\",\"marker\":{\"color\":\"rgba(201, 219, 116, 0.8)\"},\"name\":\"Tenosique, Tab.\",\"text\":\"Tenosique, Tab.\",\"textposition\":\"inside\",\"x\":[\"2021\"],\"y\":[3.4608578846079334],\"type\":\"bar\"},{\"hoverinfo\":\"y+text\",\"marker\":{\"color\":\"rgba(180, 151, 231, 0.8)\"},\"name\":\"Tuxtla Guti\\u00e9rrez, Chis.\",\"text\":\"Tuxtla Guti\\u00e9rrez, Chis.\",\"textposition\":\"inside\",\"x\":[\"2021\"],\"y\":[3.278741459256293],\"type\":\"bar\"},{\"hoverinfo\":\"y+text\",\"marker\":{\"color\":\"rgba(254, 136, 177, 0.8)\"},\"name\":\"Palenque, Chis.\",\"text\":\"Palenque, Chis.\",\"textposition\":\"inside\",\"x\":[\"2021\"],\"y\":[2.9035299587977734],\"type\":\"bar\"},{\"hoverinfo\":\"y+text\",\"marker\":{\"color\":\"rgba(248, 156, 116, 0.8)\"},\"name\":\"Centro, Tab.\",\"text\":\"Centro, Tab.\",\"textposition\":\"inside\",\"x\":[\"2021\"],\"y\":[2.7624220192965914],\"type\":\"bar\"},{\"hoverinfo\":\"y+text\",\"marker\":{\"color\":\"rgba(248, 156, 116, 0.8)\"},\"name\":\"Piedras Negras, Coah.\",\"text\":\"Piedras Negras, Coah.\",\"textposition\":\"inside\",\"x\":[\"2021\"],\"y\":[null],\"type\":\"bar\"},{\"hoverinfo\":\"y+text\",\"marker\":{\"color\":\"rgba(135, 197, 95, 0.8)\"},\"name\":\"Suchiate, Chis.\",\"text\":\"Suchiate, Chis.\",\"textposition\":\"inside\",\"x\":[\"2021\"],\"y\":[null],\"type\":\"bar\"},{\"hoverinfo\":\"y+text\",\"marker\":{\"color\":\"rgba(139, 224, 164, 0.8)\"},\"name\":\"Tuxtla Chico, Chis.\",\"text\":\"Tuxtla Chico, Chis.\",\"textposition\":\"inside\",\"x\":[\"2021\"],\"y\":[null],\"type\":\"bar\"},{\"hoverinfo\":\"y+text\",\"marker\":{\"color\":\"rgba(220, 176, 242, 0.8)\"},\"name\":\"Ju\\u00e1rez, Chih.\",\"text\":\"Ju\\u00e1rez, Chih.\",\"textposition\":\"inside\",\"x\":[\"2021\"],\"y\":[null],\"type\":\"bar\"},{\"hoverinfo\":\"y+text\",\"marker\":{\"color\":\"rgba(135, 197, 95, 0.8)\"},\"name\":\"Macuspana, Tab.\",\"text\":\"Macuspana, Tab.\",\"textposition\":\"inside\",\"x\":[\"2021\"],\"y\":[null],\"type\":\"bar\"},{\"hoverinfo\":\"y+text\",\"marker\":{\"color\":\"rgba(158, 185, 243, 0.8)\"},\"name\":\"Huixtla, Chis.\",\"text\":\"Huixtla, Chis.\",\"textposition\":\"inside\",\"x\":[\"2021\"],\"y\":[null],\"type\":\"bar\"},{\"hoverinfo\":\"y+text\",\"marker\":{\"color\":\"rgba(254, 136, 177, 0.8)\"},\"name\":\"C\\u00e1rdenas, Tab.\",\"text\":\"C\\u00e1rdenas, Tab.\",\"textposition\":\"inside\",\"x\":[\"2021\"],\"y\":[null],\"type\":\"bar\"},{\"hoverinfo\":\"y+text\",\"marker\":{\"color\":\"rgba(201, 219, 116, 0.8)\"},\"name\":\"Huehuet\\u00e1n, Chis.\",\"text\":\"Huehuet\\u00e1n, Chis.\",\"textposition\":\"inside\",\"x\":[\"2021\"],\"y\":[null],\"type\":\"bar\"},{\"hoverinfo\":\"y+text\",\"marker\":{\"color\":\"rgba(246, 207, 113, 0.8)\"},\"name\":\"Tapachula, Chis.\",\"text\":\"Tapachula, Chis.\",\"textposition\":\"inside\",\"x\":[\"2022\"],\"y\":[10.346866511557309],\"type\":\"bar\"},{\"hoverinfo\":\"y+text\",\"marker\":{\"color\":\"rgba(102, 197, 204, 0.8)\"},\"name\":\"Tijuana, BC\",\"text\":\"Tijuana, BC\",\"textposition\":\"inside\",\"x\":[\"2022\"],\"y\":[7.866400549150561],\"type\":\"bar\"},{\"hoverinfo\":\"y+text\",\"marker\":{\"color\":\"rgba(135, 197, 95, 0.8)\"},\"name\":\"Suchiate, Chis.\",\"text\":\"Suchiate, Chis.\",\"textposition\":\"inside\",\"x\":[\"2022\"],\"y\":[6.544723827561287],\"type\":\"bar\"},{\"hoverinfo\":\"y+text\",\"marker\":{\"color\":\"rgba(220, 176, 242, 0.8)\"},\"name\":\"Acayucan, Ver.\",\"text\":\"Acayucan, Ver.\",\"textposition\":\"inside\",\"x\":[\"2022\"],\"y\":[6.123119374548321],\"type\":\"bar\"},{\"hoverinfo\":\"y+text\",\"marker\":{\"color\":\"rgba(158, 185, 243, 0.8)\"},\"name\":\"Hermosillo, Son.\",\"text\":\"Hermosillo, Son.\",\"textposition\":\"inside\",\"x\":[\"2022\"],\"y\":[5.228710787500934],\"type\":\"bar\"},{\"hoverinfo\":\"y+text\",\"marker\":{\"color\":\"rgba(248, 156, 116, 0.8)\"},\"name\":\"Centro, Tab.\",\"text\":\"Centro, Tab.\",\"textposition\":\"inside\",\"x\":[\"2022\"],\"y\":[4.691114136775643],\"type\":\"bar\"},{\"hoverinfo\":\"y+text\",\"marker\":{\"color\":\"rgba(248, 156, 116, 0.8)\"},\"name\":\"Piedras Negras, Coah.\",\"text\":\"Piedras Negras, Coah.\",\"textposition\":\"inside\",\"x\":[\"2022\"],\"y\":[4.638328624926089],\"type\":\"bar\"},{\"hoverinfo\":\"y+text\",\"marker\":{\"color\":\"rgba(102, 197, 204, 0.8)\"},\"name\":\"Reynosa, Tamps.\",\"text\":\"Reynosa, Tamps.\",\"textposition\":\"inside\",\"x\":[\"2022\"],\"y\":[3.4303786284375715],\"type\":\"bar\"},{\"hoverinfo\":\"y+text\",\"marker\":{\"color\":\"rgba(246, 207, 113, 0.8)\"},\"name\":\"Huimanguillo, Tab.\",\"text\":\"Huimanguillo, Tab.\",\"textposition\":\"inside\",\"x\":[\"2022\"],\"y\":[3.3071369183682253],\"type\":\"bar\"},{\"hoverinfo\":\"y+text\",\"marker\":{\"color\":\"rgba(220, 176, 242, 0.8)\"},\"name\":\"Ju\\u00e1rez, Chih.\",\"text\":\"Ju\\u00e1rez, Chih.\",\"textposition\":\"inside\",\"x\":[\"2022\"],\"y\":[2.724230815411557],\"type\":\"bar\"},{\"hoverinfo\":\"y+text\",\"marker\":{\"color\":\"rgba(254, 136, 177, 0.8)\"},\"name\":\"Palenque, Chis.\",\"text\":\"Palenque, Chis.\",\"textposition\":\"inside\",\"x\":[\"2022\"],\"y\":[null],\"type\":\"bar\"},{\"hoverinfo\":\"y+text\",\"marker\":{\"color\":\"rgba(201, 219, 116, 0.8)\"},\"name\":\"Tenosique, Tab.\",\"text\":\"Tenosique, Tab.\",\"textposition\":\"inside\",\"x\":[\"2022\"],\"y\":[null],\"type\":\"bar\"},{\"hoverinfo\":\"y+text\",\"marker\":{\"color\":\"rgba(139, 224, 164, 0.8)\"},\"name\":\"Tuxtla Chico, Chis.\",\"text\":\"Tuxtla Chico, Chis.\",\"textposition\":\"inside\",\"x\":[\"2022\"],\"y\":[null],\"type\":\"bar\"},{\"hoverinfo\":\"y+text\",\"marker\":{\"color\":\"rgba(180, 151, 231, 0.8)\"},\"name\":\"Tuxtla Guti\\u00e9rrez, Chis.\",\"text\":\"Tuxtla Guti\\u00e9rrez, Chis.\",\"textposition\":\"inside\",\"x\":[\"2022\"],\"y\":[null],\"type\":\"bar\"},{\"hoverinfo\":\"y+text\",\"marker\":{\"color\":\"rgba(135, 197, 95, 0.8)\"},\"name\":\"Macuspana, Tab.\",\"text\":\"Macuspana, Tab.\",\"textposition\":\"inside\",\"x\":[\"2022\"],\"y\":[null],\"type\":\"bar\"},{\"hoverinfo\":\"y+text\",\"marker\":{\"color\":\"rgba(158, 185, 243, 0.8)\"},\"name\":\"Huixtla, Chis.\",\"text\":\"Huixtla, Chis.\",\"textposition\":\"inside\",\"x\":[\"2022\"],\"y\":[null],\"type\":\"bar\"},{\"hoverinfo\":\"y+text\",\"marker\":{\"color\":\"rgba(254, 136, 177, 0.8)\"},\"name\":\"C\\u00e1rdenas, Tab.\",\"text\":\"C\\u00e1rdenas, Tab.\",\"textposition\":\"inside\",\"x\":[\"2022\"],\"y\":[null],\"type\":\"bar\"},{\"hoverinfo\":\"y+text\",\"marker\":{\"color\":\"rgba(201, 219, 116, 0.8)\"},\"name\":\"Huehuet\\u00e1n, Chis.\",\"text\":\"Huehuet\\u00e1n, Chis.\",\"textposition\":\"inside\",\"x\":[\"2022\"],\"y\":[null],\"type\":\"bar\"},{\"hoverinfo\":\"y+text\",\"marker\":{\"color\":\"rgba(246, 207, 113, 0.8)\"},\"name\":\"Huimanguillo, Tab.\",\"text\":\"Huimanguillo, Tab.\",\"textposition\":\"inside\",\"x\":[\"2023\"],\"y\":[11.128928100530615],\"type\":\"bar\"},{\"hoverinfo\":\"y+text\",\"marker\":{\"color\":\"rgba(248, 156, 116, 0.8)\"},\"name\":\"Centro, Tab.\",\"text\":\"Centro, Tab.\",\"textposition\":\"inside\",\"x\":[\"2023\"],\"y\":[9.521033961692474],\"type\":\"bar\"},{\"hoverinfo\":\"y+text\",\"marker\":{\"color\":\"rgba(246, 207, 113, 0.8)\"},\"name\":\"Tapachula, Chis.\",\"text\":\"Tapachula, Chis.\",\"textposition\":\"inside\",\"x\":[\"2023\"],\"y\":[9.072328275391028],\"type\":\"bar\"},{\"hoverinfo\":\"y+text\",\"marker\":{\"color\":\"rgba(201, 219, 116, 0.8)\"},\"name\":\"Tenosique, Tab.\",\"text\":\"Tenosique, Tab.\",\"textposition\":\"inside\",\"x\":[\"2023\"],\"y\":[5.086614961734841],\"type\":\"bar\"},{\"hoverinfo\":\"y+text\",\"marker\":{\"color\":\"rgba(220, 176, 242, 0.8)\"},\"name\":\"Acayucan, Ver.\",\"text\":\"Acayucan, Ver.\",\"textposition\":\"inside\",\"x\":[\"2023\"],\"y\":[4.6791208706559315],\"type\":\"bar\"},{\"hoverinfo\":\"y+text\",\"marker\":{\"color\":\"rgba(135, 197, 95, 0.8)\"},\"name\":\"Macuspana, Tab.\",\"text\":\"Macuspana, Tab.\",\"textposition\":\"inside\",\"x\":[\"2023\"],\"y\":[4.074812525757247],\"type\":\"bar\"},{\"hoverinfo\":\"y+text\",\"marker\":{\"color\":\"rgba(135, 197, 95, 0.8)\"},\"name\":\"Suchiate, Chis.\",\"text\":\"Suchiate, Chis.\",\"textposition\":\"inside\",\"x\":[\"2023\"],\"y\":[3.620843053150119],\"type\":\"bar\"},{\"hoverinfo\":\"y+text\",\"marker\":{\"color\":\"rgba(102, 197, 204, 0.8)\"},\"name\":\"Tijuana, BC\",\"text\":\"Tijuana, BC\",\"textposition\":\"inside\",\"x\":[\"2023\"],\"y\":[3.518391797737085],\"type\":\"bar\"},{\"hoverinfo\":\"y+text\",\"marker\":{\"color\":\"rgba(158, 185, 243, 0.8)\"},\"name\":\"Huixtla, Chis.\",\"text\":\"Huixtla, Chis.\",\"textposition\":\"inside\",\"x\":[\"2023\"],\"y\":[3.0497864314995247],\"type\":\"bar\"},{\"hoverinfo\":\"y+text\",\"marker\":{\"color\":\"rgba(254, 136, 177, 0.8)\"},\"name\":\"C\\u00e1rdenas, Tab.\",\"text\":\"C\\u00e1rdenas, Tab.\",\"textposition\":\"inside\",\"x\":[\"2023\"],\"y\":[2.9721134872327504],\"type\":\"bar\"},{\"hoverinfo\":\"y+text\",\"marker\":{\"color\":\"rgba(102, 197, 204, 0.8)\"},\"name\":\"Reynosa, Tamps.\",\"text\":\"Reynosa, Tamps.\",\"textposition\":\"inside\",\"x\":[\"2023\"],\"y\":[null],\"type\":\"bar\"},{\"hoverinfo\":\"y+text\",\"marker\":{\"color\":\"rgba(248, 156, 116, 0.8)\"},\"name\":\"Piedras Negras, Coah.\",\"text\":\"Piedras Negras, Coah.\",\"textposition\":\"inside\",\"x\":[\"2023\"],\"y\":[null],\"type\":\"bar\"},{\"hoverinfo\":\"y+text\",\"marker\":{\"color\":\"rgba(158, 185, 243, 0.8)\"},\"name\":\"Hermosillo, Son.\",\"text\":\"Hermosillo, Son.\",\"textposition\":\"inside\",\"x\":[\"2023\"],\"y\":[null],\"type\":\"bar\"},{\"hoverinfo\":\"y+text\",\"marker\":{\"color\":\"rgba(254, 136, 177, 0.8)\"},\"name\":\"Palenque, Chis.\",\"text\":\"Palenque, Chis.\",\"textposition\":\"inside\",\"x\":[\"2023\"],\"y\":[null],\"type\":\"bar\"},{\"hoverinfo\":\"y+text\",\"marker\":{\"color\":\"rgba(139, 224, 164, 0.8)\"},\"name\":\"Tuxtla Chico, Chis.\",\"text\":\"Tuxtla Chico, Chis.\",\"textposition\":\"inside\",\"x\":[\"2023\"],\"y\":[null],\"type\":\"bar\"},{\"hoverinfo\":\"y+text\",\"marker\":{\"color\":\"rgba(180, 151, 231, 0.8)\"},\"name\":\"Tuxtla Guti\\u00e9rrez, Chis.\",\"text\":\"Tuxtla Guti\\u00e9rrez, Chis.\",\"textposition\":\"inside\",\"x\":[\"2023\"],\"y\":[null],\"type\":\"bar\"},{\"hoverinfo\":\"y+text\",\"marker\":{\"color\":\"rgba(220, 176, 242, 0.8)\"},\"name\":\"Ju\\u00e1rez, Chih.\",\"text\":\"Ju\\u00e1rez, Chih.\",\"textposition\":\"inside\",\"x\":[\"2023\"],\"y\":[null],\"type\":\"bar\"},{\"hoverinfo\":\"y+text\",\"marker\":{\"color\":\"rgba(201, 219, 116, 0.8)\"},\"name\":\"Huehuet\\u00e1n, Chis.\",\"text\":\"Huehuet\\u00e1n, Chis.\",\"textposition\":\"inside\",\"x\":[\"2023\"],\"y\":[null],\"type\":\"bar\"},{\"hoverinfo\":\"y+text\",\"marker\":{\"color\":\"rgba(248, 156, 116, 0.8)\"},\"name\":\"Centro, Tab.\",\"text\":\"Centro, Tab.\",\"textposition\":\"inside\",\"x\":[\"2024\"],\"y\":[15.108406601275437],\"type\":\"bar\"},{\"hoverinfo\":\"y+text\",\"marker\":{\"color\":\"rgba(246, 207, 113, 0.8)\"},\"name\":\"Tapachula, Chis.\",\"text\":\"Tapachula, Chis.\",\"textposition\":\"inside\",\"x\":[\"2024\"],\"y\":[12.33386593581251],\"type\":\"bar\"},{\"hoverinfo\":\"y+text\",\"marker\":{\"color\":\"rgba(246, 207, 113, 0.8)\"},\"name\":\"Huimanguillo, Tab.\",\"text\":\"Huimanguillo, Tab.\",\"textposition\":\"inside\",\"x\":[\"2024\"],\"y\":[9.105396320830748],\"type\":\"bar\"},{\"hoverinfo\":\"y+text\",\"marker\":{\"color\":\"rgba(135, 197, 95, 0.8)\"},\"name\":\"Macuspana, Tab.\",\"text\":\"Macuspana, Tab.\",\"textposition\":\"inside\",\"x\":[\"2024\"],\"y\":[6.353882054291756],\"type\":\"bar\"},{\"hoverinfo\":\"y+text\",\"marker\":{\"color\":\"rgba(135, 197, 95, 0.8)\"},\"name\":\"Suchiate, Chis.\",\"text\":\"Suchiate, Chis.\",\"textposition\":\"inside\",\"x\":[\"2024\"],\"y\":[4.53086520289908],\"type\":\"bar\"},{\"hoverinfo\":\"y+text\",\"marker\":{\"color\":\"rgba(201, 219, 116, 0.8)\"},\"name\":\"Tenosique, Tab.\",\"text\":\"Tenosique, Tab.\",\"textposition\":\"inside\",\"x\":[\"2024\"],\"y\":[4.151772049883043],\"type\":\"bar\"},{\"hoverinfo\":\"y+text\",\"marker\":{\"color\":\"rgba(158, 185, 243, 0.8)\"},\"name\":\"Huixtla, Chis.\",\"text\":\"Huixtla, Chis.\",\"textposition\":\"inside\",\"x\":[\"2024\"],\"y\":[3.697702695492723],\"type\":\"bar\"},{\"hoverinfo\":\"y+text\",\"marker\":{\"color\":\"rgba(254, 136, 177, 0.8)\"},\"name\":\"C\\u00e1rdenas, Tab.\",\"text\":\"C\\u00e1rdenas, Tab.\",\"textposition\":\"inside\",\"x\":[\"2024\"],\"y\":[3.638171029982056],\"type\":\"bar\"},{\"hoverinfo\":\"y+text\",\"marker\":{\"color\":\"rgba(102, 197, 204, 0.8)\"},\"name\":\"Tijuana, BC\",\"text\":\"Tijuana, BC\",\"textposition\":\"inside\",\"x\":[\"2024\"],\"y\":[3.6002617146804528],\"type\":\"bar\"},{\"hoverinfo\":\"y+text\",\"marker\":{\"color\":\"rgba(201, 219, 116, 0.8)\"},\"name\":\"Huehuet\\u00e1n, Chis.\",\"text\":\"Huehuet\\u00e1n, Chis.\",\"textposition\":\"inside\",\"x\":[\"2024\"],\"y\":[2.9034323374883817],\"type\":\"bar\"},{\"hoverinfo\":\"y+text\",\"marker\":{\"color\":\"rgba(102, 197, 204, 0.8)\"},\"name\":\"Reynosa, Tamps.\",\"text\":\"Reynosa, Tamps.\",\"textposition\":\"inside\",\"x\":[\"2024\"],\"y\":[null],\"type\":\"bar\"},{\"hoverinfo\":\"y+text\",\"marker\":{\"color\":\"rgba(248, 156, 116, 0.8)\"},\"name\":\"Piedras Negras, Coah.\",\"text\":\"Piedras Negras, Coah.\",\"textposition\":\"inside\",\"x\":[\"2024\"],\"y\":[null],\"type\":\"bar\"},{\"hoverinfo\":\"y+text\",\"marker\":{\"color\":\"rgba(220, 176, 242, 0.8)\"},\"name\":\"Acayucan, Ver.\",\"text\":\"Acayucan, Ver.\",\"textposition\":\"inside\",\"x\":[\"2024\"],\"y\":[null],\"type\":\"bar\"},{\"hoverinfo\":\"y+text\",\"marker\":{\"color\":\"rgba(158, 185, 243, 0.8)\"},\"name\":\"Hermosillo, Son.\",\"text\":\"Hermosillo, Son.\",\"textposition\":\"inside\",\"x\":[\"2024\"],\"y\":[null],\"type\":\"bar\"},{\"hoverinfo\":\"y+text\",\"marker\":{\"color\":\"rgba(254, 136, 177, 0.8)\"},\"name\":\"Palenque, Chis.\",\"text\":\"Palenque, Chis.\",\"textposition\":\"inside\",\"x\":[\"2024\"],\"y\":[null],\"type\":\"bar\"},{\"hoverinfo\":\"y+text\",\"marker\":{\"color\":\"rgba(139, 224, 164, 0.8)\"},\"name\":\"Tuxtla Chico, Chis.\",\"text\":\"Tuxtla Chico, Chis.\",\"textposition\":\"inside\",\"x\":[\"2024\"],\"y\":[null],\"type\":\"bar\"},{\"hoverinfo\":\"y+text\",\"marker\":{\"color\":\"rgba(180, 151, 231, 0.8)\"},\"name\":\"Tuxtla Guti\\u00e9rrez, Chis.\",\"text\":\"Tuxtla Guti\\u00e9rrez, Chis.\",\"textposition\":\"inside\",\"x\":[\"2024\"],\"y\":[null],\"type\":\"bar\"},{\"hoverinfo\":\"y+text\",\"marker\":{\"color\":\"rgba(220, 176, 242, 0.8)\"},\"name\":\"Ju\\u00e1rez, Chih.\",\"text\":\"Ju\\u00e1rez, Chih.\",\"textposition\":\"inside\",\"x\":[\"2024\"],\"y\":[null],\"type\":\"bar\"}],                        {\"template\":{\"data\":{\"histogram2dcontour\":[{\"type\":\"histogram2dcontour\",\"colorbar\":{\"outlinewidth\":0,\"ticks\":\"\"},\"colorscale\":[[0.0,\"#0d0887\"],[0.1111111111111111,\"#46039f\"],[0.2222222222222222,\"#7201a8\"],[0.3333333333333333,\"#9c179e\"],[0.4444444444444444,\"#bd3786\"],[0.5555555555555556,\"#d8576b\"],[0.6666666666666666,\"#ed7953\"],[0.7777777777777778,\"#fb9f3a\"],[0.8888888888888888,\"#fdca26\"],[1.0,\"#f0f921\"]]}],\"choropleth\":[{\"type\":\"choropleth\",\"colorbar\":{\"outlinewidth\":0,\"ticks\":\"\"}}],\"histogram2d\":[{\"type\":\"histogram2d\",\"colorbar\":{\"outlinewidth\":0,\"ticks\":\"\"},\"colorscale\":[[0.0,\"#0d0887\"],[0.1111111111111111,\"#46039f\"],[0.2222222222222222,\"#7201a8\"],[0.3333333333333333,\"#9c179e\"],[0.4444444444444444,\"#bd3786\"],[0.5555555555555556,\"#d8576b\"],[0.6666666666666666,\"#ed7953\"],[0.7777777777777778,\"#fb9f3a\"],[0.8888888888888888,\"#fdca26\"],[1.0,\"#f0f921\"]]}],\"heatmap\":[{\"type\":\"heatmap\",\"colorbar\":{\"outlinewidth\":0,\"ticks\":\"\"},\"colorscale\":[[0.0,\"#0d0887\"],[0.1111111111111111,\"#46039f\"],[0.2222222222222222,\"#7201a8\"],[0.3333333333333333,\"#9c179e\"],[0.4444444444444444,\"#bd3786\"],[0.5555555555555556,\"#d8576b\"],[0.6666666666666666,\"#ed7953\"],[0.7777777777777778,\"#fb9f3a\"],[0.8888888888888888,\"#fdca26\"],[1.0,\"#f0f921\"]]}],\"heatmapgl\":[{\"type\":\"heatmapgl\",\"colorbar\":{\"outlinewidth\":0,\"ticks\":\"\"},\"colorscale\":[[0.0,\"#0d0887\"],[0.1111111111111111,\"#46039f\"],[0.2222222222222222,\"#7201a8\"],[0.3333333333333333,\"#9c179e\"],[0.4444444444444444,\"#bd3786\"],[0.5555555555555556,\"#d8576b\"],[0.6666666666666666,\"#ed7953\"],[0.7777777777777778,\"#fb9f3a\"],[0.8888888888888888,\"#fdca26\"],[1.0,\"#f0f921\"]]}],\"contourcarpet\":[{\"type\":\"contourcarpet\",\"colorbar\":{\"outlinewidth\":0,\"ticks\":\"\"}}],\"contour\":[{\"type\":\"contour\",\"colorbar\":{\"outlinewidth\":0,\"ticks\":\"\"},\"colorscale\":[[0.0,\"#0d0887\"],[0.1111111111111111,\"#46039f\"],[0.2222222222222222,\"#7201a8\"],[0.3333333333333333,\"#9c179e\"],[0.4444444444444444,\"#bd3786\"],[0.5555555555555556,\"#d8576b\"],[0.6666666666666666,\"#ed7953\"],[0.7777777777777778,\"#fb9f3a\"],[0.8888888888888888,\"#fdca26\"],[1.0,\"#f0f921\"]]}],\"surface\":[{\"type\":\"surface\",\"colorbar\":{\"outlinewidth\":0,\"ticks\":\"\"},\"colorscale\":[[0.0,\"#0d0887\"],[0.1111111111111111,\"#46039f\"],[0.2222222222222222,\"#7201a8\"],[0.3333333333333333,\"#9c179e\"],[0.4444444444444444,\"#bd3786\"],[0.5555555555555556,\"#d8576b\"],[0.6666666666666666,\"#ed7953\"],[0.7777777777777778,\"#fb9f3a\"],[0.8888888888888888,\"#fdca26\"],[1.0,\"#f0f921\"]]}],\"mesh3d\":[{\"type\":\"mesh3d\",\"colorbar\":{\"outlinewidth\":0,\"ticks\":\"\"}}],\"scatter\":[{\"fillpattern\":{\"fillmode\":\"overlay\",\"size\":10,\"solidity\":0.2},\"type\":\"scatter\"}],\"parcoords\":[{\"type\":\"parcoords\",\"line\":{\"colorbar\":{\"outlinewidth\":0,\"ticks\":\"\"}}}],\"scatterpolargl\":[{\"type\":\"scatterpolargl\",\"marker\":{\"colorbar\":{\"outlinewidth\":0,\"ticks\":\"\"}}}],\"bar\":[{\"error_x\":{\"color\":\"#2a3f5f\"},\"error_y\":{\"color\":\"#2a3f5f\"},\"marker\":{\"line\":{\"color\":\"#E5ECF6\",\"width\":0.5},\"pattern\":{\"fillmode\":\"overlay\",\"size\":10,\"solidity\":0.2}},\"type\":\"bar\"}],\"scattergeo\":[{\"type\":\"scattergeo\",\"marker\":{\"colorbar\":{\"outlinewidth\":0,\"ticks\":\"\"}}}],\"scatterpolar\":[{\"type\":\"scatterpolar\",\"marker\":{\"colorbar\":{\"outlinewidth\":0,\"ticks\":\"\"}}}],\"histogram\":[{\"marker\":{\"pattern\":{\"fillmode\":\"overlay\",\"size\":10,\"solidity\":0.2}},\"type\":\"histogram\"}],\"scattergl\":[{\"type\":\"scattergl\",\"marker\":{\"colorbar\":{\"outlinewidth\":0,\"ticks\":\"\"}}}],\"scatter3d\":[{\"type\":\"scatter3d\",\"line\":{\"colorbar\":{\"outlinewidth\":0,\"ticks\":\"\"}},\"marker\":{\"colorbar\":{\"outlinewidth\":0,\"ticks\":\"\"}}}],\"scattermapbox\":[{\"type\":\"scattermapbox\",\"marker\":{\"colorbar\":{\"outlinewidth\":0,\"ticks\":\"\"}}}],\"scatterternary\":[{\"type\":\"scatterternary\",\"marker\":{\"colorbar\":{\"outlinewidth\":0,\"ticks\":\"\"}}}],\"scattercarpet\":[{\"type\":\"scattercarpet\",\"marker\":{\"colorbar\":{\"outlinewidth\":0,\"ticks\":\"\"}}}],\"carpet\":[{\"aaxis\":{\"endlinecolor\":\"#2a3f5f\",\"gridcolor\":\"white\",\"linecolor\":\"white\",\"minorgridcolor\":\"white\",\"startlinecolor\":\"#2a3f5f\"},\"baxis\":{\"endlinecolor\":\"#2a3f5f\",\"gridcolor\":\"white\",\"linecolor\":\"white\",\"minorgridcolor\":\"white\",\"startlinecolor\":\"#2a3f5f\"},\"type\":\"carpet\"}],\"table\":[{\"cells\":{\"fill\":{\"color\":\"#EBF0F8\"},\"line\":{\"color\":\"white\"}},\"header\":{\"fill\":{\"color\":\"#C8D4E3\"},\"line\":{\"color\":\"white\"}},\"type\":\"table\"}],\"barpolar\":[{\"marker\":{\"line\":{\"color\":\"#E5ECF6\",\"width\":0.5},\"pattern\":{\"fillmode\":\"overlay\",\"size\":10,\"solidity\":0.2}},\"type\":\"barpolar\"}],\"pie\":[{\"automargin\":true,\"type\":\"pie\"}]},\"layout\":{\"autotypenumbers\":\"strict\",\"colorway\":[\"#636efa\",\"#EF553B\",\"#00cc96\",\"#ab63fa\",\"#FFA15A\",\"#19d3f3\",\"#FF6692\",\"#B6E880\",\"#FF97FF\",\"#FECB52\"],\"font\":{\"color\":\"#2a3f5f\"},\"hovermode\":\"closest\",\"hoverlabel\":{\"align\":\"left\"},\"paper_bgcolor\":\"white\",\"plot_bgcolor\":\"#E5ECF6\",\"polar\":{\"bgcolor\":\"#E5ECF6\",\"angularaxis\":{\"gridcolor\":\"white\",\"linecolor\":\"white\",\"ticks\":\"\"},\"radialaxis\":{\"gridcolor\":\"white\",\"linecolor\":\"white\",\"ticks\":\"\"}},\"ternary\":{\"bgcolor\":\"#E5ECF6\",\"aaxis\":{\"gridcolor\":\"white\",\"linecolor\":\"white\",\"ticks\":\"\"},\"baxis\":{\"gridcolor\":\"white\",\"linecolor\":\"white\",\"ticks\":\"\"},\"caxis\":{\"gridcolor\":\"white\",\"linecolor\":\"white\",\"ticks\":\"\"}},\"coloraxis\":{\"colorbar\":{\"outlinewidth\":0,\"ticks\":\"\"}},\"colorscale\":{\"sequential\":[[0.0,\"#0d0887\"],[0.1111111111111111,\"#46039f\"],[0.2222222222222222,\"#7201a8\"],[0.3333333333333333,\"#9c179e\"],[0.4444444444444444,\"#bd3786\"],[0.5555555555555556,\"#d8576b\"],[0.6666666666666666,\"#ed7953\"],[0.7777777777777778,\"#fb9f3a\"],[0.8888888888888888,\"#fdca26\"],[1.0,\"#f0f921\"]],\"sequentialminus\":[[0.0,\"#0d0887\"],[0.1111111111111111,\"#46039f\"],[0.2222222222222222,\"#7201a8\"],[0.3333333333333333,\"#9c179e\"],[0.4444444444444444,\"#bd3786\"],[0.5555555555555556,\"#d8576b\"],[0.6666666666666666,\"#ed7953\"],[0.7777777777777778,\"#fb9f3a\"],[0.8888888888888888,\"#fdca26\"],[1.0,\"#f0f921\"]],\"diverging\":[[0,\"#8e0152\"],[0.1,\"#c51b7d\"],[0.2,\"#de77ae\"],[0.3,\"#f1b6da\"],[0.4,\"#fde0ef\"],[0.5,\"#f7f7f7\"],[0.6,\"#e6f5d0\"],[0.7,\"#b8e186\"],[0.8,\"#7fbc41\"],[0.9,\"#4d9221\"],[1,\"#276419\"]]},\"xaxis\":{\"gridcolor\":\"white\",\"linecolor\":\"white\",\"ticks\":\"\",\"title\":{\"standoff\":15},\"zerolinecolor\":\"white\",\"automargin\":true,\"zerolinewidth\":2},\"yaxis\":{\"gridcolor\":\"white\",\"linecolor\":\"white\",\"ticks\":\"\",\"title\":{\"standoff\":15},\"zerolinecolor\":\"white\",\"automargin\":true,\"zerolinewidth\":2},\"scene\":{\"xaxis\":{\"backgroundcolor\":\"#E5ECF6\",\"gridcolor\":\"white\",\"linecolor\":\"white\",\"showbackground\":true,\"ticks\":\"\",\"zerolinecolor\":\"white\",\"gridwidth\":2},\"yaxis\":{\"backgroundcolor\":\"#E5ECF6\",\"gridcolor\":\"white\",\"linecolor\":\"white\",\"showbackground\":true,\"ticks\":\"\",\"zerolinecolor\":\"white\",\"gridwidth\":2},\"zaxis\":{\"backgroundcolor\":\"#E5ECF6\",\"gridcolor\":\"white\",\"linecolor\":\"white\",\"showbackground\":true,\"ticks\":\"\",\"zerolinecolor\":\"white\",\"gridwidth\":2}},\"shapedefaults\":{\"line\":{\"color\":\"#2a3f5f\"}},\"annotationdefaults\":{\"arrowcolor\":\"#2a3f5f\",\"arrowhead\":0,\"arrowwidth\":1},\"geo\":{\"bgcolor\":\"white\",\"landcolor\":\"#E5ECF6\",\"subunitcolor\":\"white\",\"showland\":true,\"showlakes\":true,\"lakecolor\":\"white\"},\"title\":{\"x\":0.05},\"mapbox\":{\"style\":\"light\"}}},\"barmode\":\"stack\",\"title\":{\"text\":\"Proporci\\u00f3n de los Top 10 Municipios por A\\u00f1o (%) del Total Anual\"},\"xaxis\":{\"title\":{\"text\":\"A\\u00f1o\"}},\"yaxis\":{\"title\":{\"text\":\"Porcentaje del Total Anual\"}},\"showlegend\":false,\"width\":1000,\"height\":600},                        {\"responsive\": true}                    ).then(function(){\n",
       "                            \n",
       "var gd = document.getElementById('9723e372-a475-4517-97e3-cf32338096f4');\n",
       "var x = new MutationObserver(function (mutations, observer) {{\n",
       "        var display = window.getComputedStyle(gd).display;\n",
       "        if (!display || display === 'none') {{\n",
       "            console.log([gd, 'removed!']);\n",
       "            Plotly.purge(gd);\n",
       "            observer.disconnect();\n",
       "        }}\n",
       "}});\n",
       "\n",
       "// Listen for the removal of the full notebook cells\n",
       "var notebookContainer = gd.closest('#notebook-container');\n",
       "if (notebookContainer) {{\n",
       "    x.observe(notebookContainer, {childList: true});\n",
       "}}\n",
       "\n",
       "// Listen for the clearing of the current output cell\n",
       "var outputEl = gd.closest('.output');\n",
       "if (outputEl) {{\n",
       "    x.observe(outputEl, {childList: true});\n",
       "}}\n",
       "\n",
       "                        })                };                });            </script>        </div>"
      ]
     },
     "metadata": {},
     "output_type": "display_data"
    }
   ],
   "source": [
    "import plotly.graph_objects as go\n",
    "import plotly.express as px\n",
    "\n",
    "# Crear un DataFrame vacío para almacenar los datos para la gráfica de barras apiladas\n",
    "stacked_data = pd.DataFrame()\n",
    "\n",
    "# Calcular el total de cada año para usarlo como denominador en el cálculo de porcentajes\n",
    "total_por_ano = df_pivot.sum()\n",
    "\n",
    "# Recorrer cada año y obtener los top 10 municipios\n",
    "for year in df_pivot.columns[1:]:  # Excluir la columna 'Municipio'\n",
    "    top_10 = df_pivot[['Municipio', year]].nlargest(10, year)\n",
    "    top_10 = top_10.set_index('Municipio')\n",
    "    \n",
    "    # Calcular el porcentaje del total del año considerando todos los municipios\n",
    "    top_10_percentage = (top_10 / total_por_ano[year]) * 100\n",
    "    \n",
    "    # Ordenar de mayor a menor\n",
    "    top_10_percentage = top_10_percentage.sort_values(by=year, ascending=False)\n",
    "    \n",
    "    # Añadir al DataFrame acumulado\n",
    "    stacked_data = pd.concat([stacked_data, top_10_percentage.T])\n",
    "\n",
    "# Convertir el índice de `stacked_data` para asegurarse de que son strings\n",
    "stacked_data.index = stacked_data.index.map(str)\n",
    "\n",
    "# Definir una paleta de colores pastel medio transparentes usando rgba\n",
    "colors = [\n",
    "    'rgba(102, 197, 204, 0.8)',\n",
    "    'rgba(246, 207, 113, 0.8)',\n",
    "    'rgba(248, 156, 116, 0.8)',\n",
    "    'rgba(220, 176, 242, 0.8)',\n",
    "    'rgba(135, 197, 95, 0.8)',\n",
    "    'rgba(158, 185, 243, 0.8)',\n",
    "    'rgba(254, 136, 177, 0.8)',\n",
    "    'rgba(201, 219, 116, 0.8)',\n",
    "    'rgba(139, 224, 164, 0.8)',\n",
    "    'rgba(180, 151, 231, 0.8)'\n",
    "]\n",
    "\n",
    "# Crear un diccionario para mapear cada municipio a un color\n",
    "municipio_colors = {municipio: colors[i % len(colors)] for i, municipio in enumerate(stacked_data.columns)}\n",
    "\n",
    "# Crear una figura de barras apiladas\n",
    "fig = go.Figure()\n",
    "\n",
    "# Añadir una barra para cada municipio en cada año con etiquetas, asegurando que el orden sea de mayor a menor\n",
    "for year in stacked_data.index:\n",
    "    data_year = stacked_data.loc[year].sort_values(ascending=False)  # Ordenar de mayor a menor para cada año\n",
    "    for municipio in data_year.index:\n",
    "        fig.add_trace(go.Bar(\n",
    "            x=[year],  # Usar lista para asegurar que sea un solo valor por año\n",
    "            y=[data_year[municipio]],\n",
    "            name=municipio,\n",
    "            text=municipio,  # Añadir el nombre del municipio como texto\n",
    "            textposition='inside',  # Posicionar el texto dentro de las barras\n",
    "            hoverinfo='y+text',\n",
    "            marker_color=municipio_colors[municipio]  # Asignar color pastel medio transparente\n",
    "        ))\n",
    "\n",
    "# Configurar el layout de la gráfica\n",
    "fig.update_layout(\n",
    "    barmode='stack',\n",
    "    title= \"Distribución de los 10 Municipios con Mayor Incidencia de Encuentros con Migrantes Irregulares\",\n",
    "    xaxis_title=\"Año\",\n",
    "    yaxis_title=\"Eventos de Encuentros con Migrantes Irregulares (%) del Total Anual\",\n",
    "    showlegend=False,  # Quitar la leyenda\n",
    "    width=1000,\n",
    "    height=600\n",
    ")\n",
    "\n",
    "fig.show()\n"
   ]
  },
  {
   "cell_type": "code",
   "execution_count": 90,
   "id": "caa637dc-88c3-485b-bec4-3693fc6761e5",
   "metadata": {},
   "outputs": [
    {
     "data": {
      "application/vnd.plotly.v1+json": {
       "config": {
        "plotlyServerURL": "https://plot.ly"
       },
       "data": [
        {
         "hoverinfo": "y+text",
         "marker": {
          "color": "rgba(102, 197, 204, 0.8)"
         },
         "name": "Reynosa, Tamps.",
         "text": "Reynosa, Tamps.",
         "textposition": "inside",
         "type": "bar",
         "x": [
          "2020"
         ],
         "y": [
          16.126682771094575
         ]
        },
        {
         "hoverinfo": "y+text",
         "marker": {
          "color": "rgba(246, 207, 113, 0.8)"
         },
         "name": "Tapachula, Chis.",
         "text": "Tapachula, Chis.",
         "textposition": "inside",
         "type": "bar",
         "x": [
          "2020"
         ],
         "y": [
          7.599024023112687
         ]
        },
        {
         "hoverinfo": "y+text",
         "marker": {
          "color": "rgba(248, 156, 116, 0.8)"
         },
         "name": "Piedras Negras, Coah.",
         "text": "Piedras Negras, Coah.",
         "textposition": "inside",
         "type": "bar",
         "x": [
          "2020"
         ],
         "y": [
          4.930868303815292
         ]
        },
        {
         "hoverinfo": "y+text",
         "marker": {
          "color": "rgba(220, 176, 242, 0.8)"
         },
         "name": "Acayucan, Ver.",
         "text": "Acayucan, Ver.",
         "textposition": "inside",
         "type": "bar",
         "x": [
          "2020"
         ],
         "y": [
          4.496291530608529
         ]
        },
        {
         "hoverinfo": "y+text",
         "marker": {
          "color": "rgba(135, 197, 95, 0.8)"
         },
         "name": "Suchiate, Chis.",
         "text": "Suchiate, Chis.",
         "textposition": "inside",
         "type": "bar",
         "x": [
          "2020"
         ],
         "y": [
          4.32270360164605
         ]
        },
        {
         "hoverinfo": "y+text",
         "marker": {
          "color": "rgba(158, 185, 243, 0.8)"
         },
         "name": "Hermosillo, Son.",
         "text": "Hermosillo, Son.",
         "textposition": "inside",
         "type": "bar",
         "x": [
          "2020"
         ],
         "y": [
          4.2170941623472
         ]
        },
        {
         "hoverinfo": "y+text",
         "marker": {
          "color": "rgba(254, 136, 177, 0.8)"
         },
         "name": "Palenque, Chis.",
         "text": "Palenque, Chis.",
         "textposition": "inside",
         "type": "bar",
         "x": [
          "2020"
         ],
         "y": [
          4.016800398159725
         ]
        },
        {
         "hoverinfo": "y+text",
         "marker": {
          "color": "rgba(201, 219, 116, 0.8)"
         },
         "name": "Tenosique, Tab.",
         "text": "Tenosique, Tab.",
         "textposition": "inside",
         "type": "bar",
         "x": [
          "2020"
         ],
         "y": [
          3.5810097233518254
         ]
        },
        {
         "hoverinfo": "y+text",
         "marker": {
          "color": "rgba(139, 224, 164, 0.8)"
         },
         "name": "Tuxtla Chico, Chis.",
         "text": "Tuxtla Chico, Chis.",
         "textposition": "inside",
         "type": "bar",
         "x": [
          "2020"
         ],
         "y": [
          3.148860753347334
         ]
        },
        {
         "hoverinfo": "y+text",
         "marker": {
          "color": "rgba(180, 151, 231, 0.8)"
         },
         "name": "Tuxtla Gutiérrez, Chis.",
         "text": "Tuxtla Gutiérrez, Chis.",
         "textposition": "inside",
         "type": "bar",
         "x": [
          "2020"
         ],
         "y": [
          2.2869906165406233
         ]
        },
        {
         "hoverinfo": "y+text",
         "marker": {
          "color": "rgba(102, 197, 204, 0.8)"
         },
         "name": "Tijuana, BC",
         "text": "Tijuana, BC",
         "textposition": "inside",
         "type": "bar",
         "x": [
          "2020"
         ],
         "y": [
          null
         ]
        },
        {
         "hoverinfo": "y+text",
         "marker": {
          "color": "rgba(246, 207, 113, 0.8)"
         },
         "name": "Huimanguillo, Tab.",
         "text": "Huimanguillo, Tab.",
         "textposition": "inside",
         "type": "bar",
         "x": [
          "2020"
         ],
         "y": [
          null
         ]
        },
        {
         "hoverinfo": "y+text",
         "marker": {
          "color": "rgba(248, 156, 116, 0.8)"
         },
         "name": "Centro, Tab.",
         "text": "Centro, Tab.",
         "textposition": "inside",
         "type": "bar",
         "x": [
          "2020"
         ],
         "y": [
          null
         ]
        },
        {
         "hoverinfo": "y+text",
         "marker": {
          "color": "rgba(220, 176, 242, 0.8)"
         },
         "name": "Juárez, Chih.",
         "text": "Juárez, Chih.",
         "textposition": "inside",
         "type": "bar",
         "x": [
          "2020"
         ],
         "y": [
          null
         ]
        },
        {
         "hoverinfo": "y+text",
         "marker": {
          "color": "rgba(135, 197, 95, 0.8)"
         },
         "name": "Macuspana, Tab.",
         "text": "Macuspana, Tab.",
         "textposition": "inside",
         "type": "bar",
         "x": [
          "2020"
         ],
         "y": [
          null
         ]
        },
        {
         "hoverinfo": "y+text",
         "marker": {
          "color": "rgba(158, 185, 243, 0.8)"
         },
         "name": "Huixtla, Chis.",
         "text": "Huixtla, Chis.",
         "textposition": "inside",
         "type": "bar",
         "x": [
          "2020"
         ],
         "y": [
          null
         ]
        },
        {
         "hoverinfo": "y+text",
         "marker": {
          "color": "rgba(254, 136, 177, 0.8)"
         },
         "name": "Cárdenas, Tab.",
         "text": "Cárdenas, Tab.",
         "textposition": "inside",
         "type": "bar",
         "x": [
          "2020"
         ],
         "y": [
          null
         ]
        },
        {
         "hoverinfo": "y+text",
         "marker": {
          "color": "rgba(201, 219, 116, 0.8)"
         },
         "name": "Huehuetán, Chis.",
         "text": "Huehuetán, Chis.",
         "textposition": "inside",
         "type": "bar",
         "x": [
          "2020"
         ],
         "y": [
          null
         ]
        },
        {
         "hoverinfo": "y+text",
         "marker": {
          "color": "rgba(102, 197, 204, 0.8)"
         },
         "name": "Tijuana, BC",
         "text": "Tijuana, BC",
         "textposition": "inside",
         "type": "bar",
         "x": [
          "2021"
         ],
         "y": [
          9.562726838278031
         ]
        },
        {
         "hoverinfo": "y+text",
         "marker": {
          "color": "rgba(246, 207, 113, 0.8)"
         },
         "name": "Huimanguillo, Tab.",
         "text": "Huimanguillo, Tab.",
         "textposition": "inside",
         "type": "bar",
         "x": [
          "2021"
         ],
         "y": [
          6.011779445384446
         ]
        },
        {
         "hoverinfo": "y+text",
         "marker": {
          "color": "rgba(102, 197, 204, 0.8)"
         },
         "name": "Reynosa, Tamps.",
         "text": "Reynosa, Tamps.",
         "textposition": "inside",
         "type": "bar",
         "x": [
          "2021"
         ],
         "y": [
          5.587486922490733
         ]
        },
        {
         "hoverinfo": "y+text",
         "marker": {
          "color": "rgba(246, 207, 113, 0.8)"
         },
         "name": "Tapachula, Chis.",
         "text": "Tapachula, Chis.",
         "textposition": "inside",
         "type": "bar",
         "x": [
          "2021"
         ],
         "y": [
          5.274272503002984
         ]
        },
        {
         "hoverinfo": "y+text",
         "marker": {
          "color": "rgba(220, 176, 242, 0.8)"
         },
         "name": "Acayucan, Ver.",
         "text": "Acayucan, Ver.",
         "textposition": "inside",
         "type": "bar",
         "x": [
          "2021"
         ],
         "y": [
          4.691758263048448
         ]
        },
        {
         "hoverinfo": "y+text",
         "marker": {
          "color": "rgba(158, 185, 243, 0.8)"
         },
         "name": "Hermosillo, Son.",
         "text": "Hermosillo, Son.",
         "textposition": "inside",
         "type": "bar",
         "x": [
          "2021"
         ],
         "y": [
          4.519005980135102
         ]
        },
        {
         "hoverinfo": "y+text",
         "marker": {
          "color": "rgba(201, 219, 116, 0.8)"
         },
         "name": "Tenosique, Tab.",
         "text": "Tenosique, Tab.",
         "textposition": "inside",
         "type": "bar",
         "x": [
          "2021"
         ],
         "y": [
          3.4608578846079334
         ]
        },
        {
         "hoverinfo": "y+text",
         "marker": {
          "color": "rgba(180, 151, 231, 0.8)"
         },
         "name": "Tuxtla Gutiérrez, Chis.",
         "text": "Tuxtla Gutiérrez, Chis.",
         "textposition": "inside",
         "type": "bar",
         "x": [
          "2021"
         ],
         "y": [
          3.278741459256293
         ]
        },
        {
         "hoverinfo": "y+text",
         "marker": {
          "color": "rgba(254, 136, 177, 0.8)"
         },
         "name": "Palenque, Chis.",
         "text": "Palenque, Chis.",
         "textposition": "inside",
         "type": "bar",
         "x": [
          "2021"
         ],
         "y": [
          2.9035299587977734
         ]
        },
        {
         "hoverinfo": "y+text",
         "marker": {
          "color": "rgba(248, 156, 116, 0.8)"
         },
         "name": "Centro, Tab.",
         "text": "Centro, Tab.",
         "textposition": "inside",
         "type": "bar",
         "x": [
          "2021"
         ],
         "y": [
          2.7624220192965914
         ]
        },
        {
         "hoverinfo": "y+text",
         "marker": {
          "color": "rgba(248, 156, 116, 0.8)"
         },
         "name": "Piedras Negras, Coah.",
         "text": "Piedras Negras, Coah.",
         "textposition": "inside",
         "type": "bar",
         "x": [
          "2021"
         ],
         "y": [
          null
         ]
        },
        {
         "hoverinfo": "y+text",
         "marker": {
          "color": "rgba(135, 197, 95, 0.8)"
         },
         "name": "Suchiate, Chis.",
         "text": "Suchiate, Chis.",
         "textposition": "inside",
         "type": "bar",
         "x": [
          "2021"
         ],
         "y": [
          null
         ]
        },
        {
         "hoverinfo": "y+text",
         "marker": {
          "color": "rgba(139, 224, 164, 0.8)"
         },
         "name": "Tuxtla Chico, Chis.",
         "text": "Tuxtla Chico, Chis.",
         "textposition": "inside",
         "type": "bar",
         "x": [
          "2021"
         ],
         "y": [
          null
         ]
        },
        {
         "hoverinfo": "y+text",
         "marker": {
          "color": "rgba(220, 176, 242, 0.8)"
         },
         "name": "Juárez, Chih.",
         "text": "Juárez, Chih.",
         "textposition": "inside",
         "type": "bar",
         "x": [
          "2021"
         ],
         "y": [
          null
         ]
        },
        {
         "hoverinfo": "y+text",
         "marker": {
          "color": "rgba(135, 197, 95, 0.8)"
         },
         "name": "Macuspana, Tab.",
         "text": "Macuspana, Tab.",
         "textposition": "inside",
         "type": "bar",
         "x": [
          "2021"
         ],
         "y": [
          null
         ]
        },
        {
         "hoverinfo": "y+text",
         "marker": {
          "color": "rgba(158, 185, 243, 0.8)"
         },
         "name": "Huixtla, Chis.",
         "text": "Huixtla, Chis.",
         "textposition": "inside",
         "type": "bar",
         "x": [
          "2021"
         ],
         "y": [
          null
         ]
        },
        {
         "hoverinfo": "y+text",
         "marker": {
          "color": "rgba(254, 136, 177, 0.8)"
         },
         "name": "Cárdenas, Tab.",
         "text": "Cárdenas, Tab.",
         "textposition": "inside",
         "type": "bar",
         "x": [
          "2021"
         ],
         "y": [
          null
         ]
        },
        {
         "hoverinfo": "y+text",
         "marker": {
          "color": "rgba(201, 219, 116, 0.8)"
         },
         "name": "Huehuetán, Chis.",
         "text": "Huehuetán, Chis.",
         "textposition": "inside",
         "type": "bar",
         "x": [
          "2021"
         ],
         "y": [
          null
         ]
        },
        {
         "hoverinfo": "y+text",
         "marker": {
          "color": "rgba(246, 207, 113, 0.8)"
         },
         "name": "Tapachula, Chis.",
         "text": "Tapachula, Chis.",
         "textposition": "inside",
         "type": "bar",
         "x": [
          "2022"
         ],
         "y": [
          10.346866511557309
         ]
        },
        {
         "hoverinfo": "y+text",
         "marker": {
          "color": "rgba(102, 197, 204, 0.8)"
         },
         "name": "Tijuana, BC",
         "text": "Tijuana, BC",
         "textposition": "inside",
         "type": "bar",
         "x": [
          "2022"
         ],
         "y": [
          7.866400549150561
         ]
        },
        {
         "hoverinfo": "y+text",
         "marker": {
          "color": "rgba(135, 197, 95, 0.8)"
         },
         "name": "Suchiate, Chis.",
         "text": "Suchiate, Chis.",
         "textposition": "inside",
         "type": "bar",
         "x": [
          "2022"
         ],
         "y": [
          6.544723827561287
         ]
        },
        {
         "hoverinfo": "y+text",
         "marker": {
          "color": "rgba(220, 176, 242, 0.8)"
         },
         "name": "Acayucan, Ver.",
         "text": "Acayucan, Ver.",
         "textposition": "inside",
         "type": "bar",
         "x": [
          "2022"
         ],
         "y": [
          6.123119374548321
         ]
        },
        {
         "hoverinfo": "y+text",
         "marker": {
          "color": "rgba(158, 185, 243, 0.8)"
         },
         "name": "Hermosillo, Son.",
         "text": "Hermosillo, Son.",
         "textposition": "inside",
         "type": "bar",
         "x": [
          "2022"
         ],
         "y": [
          5.228710787500934
         ]
        },
        {
         "hoverinfo": "y+text",
         "marker": {
          "color": "rgba(248, 156, 116, 0.8)"
         },
         "name": "Centro, Tab.",
         "text": "Centro, Tab.",
         "textposition": "inside",
         "type": "bar",
         "x": [
          "2022"
         ],
         "y": [
          4.691114136775643
         ]
        },
        {
         "hoverinfo": "y+text",
         "marker": {
          "color": "rgba(248, 156, 116, 0.8)"
         },
         "name": "Piedras Negras, Coah.",
         "text": "Piedras Negras, Coah.",
         "textposition": "inside",
         "type": "bar",
         "x": [
          "2022"
         ],
         "y": [
          4.638328624926089
         ]
        },
        {
         "hoverinfo": "y+text",
         "marker": {
          "color": "rgba(102, 197, 204, 0.8)"
         },
         "name": "Reynosa, Tamps.",
         "text": "Reynosa, Tamps.",
         "textposition": "inside",
         "type": "bar",
         "x": [
          "2022"
         ],
         "y": [
          3.4303786284375715
         ]
        },
        {
         "hoverinfo": "y+text",
         "marker": {
          "color": "rgba(246, 207, 113, 0.8)"
         },
         "name": "Huimanguillo, Tab.",
         "text": "Huimanguillo, Tab.",
         "textposition": "inside",
         "type": "bar",
         "x": [
          "2022"
         ],
         "y": [
          3.3071369183682253
         ]
        },
        {
         "hoverinfo": "y+text",
         "marker": {
          "color": "rgba(220, 176, 242, 0.8)"
         },
         "name": "Juárez, Chih.",
         "text": "Juárez, Chih.",
         "textposition": "inside",
         "type": "bar",
         "x": [
          "2022"
         ],
         "y": [
          2.724230815411557
         ]
        },
        {
         "hoverinfo": "y+text",
         "marker": {
          "color": "rgba(254, 136, 177, 0.8)"
         },
         "name": "Palenque, Chis.",
         "text": "Palenque, Chis.",
         "textposition": "inside",
         "type": "bar",
         "x": [
          "2022"
         ],
         "y": [
          null
         ]
        },
        {
         "hoverinfo": "y+text",
         "marker": {
          "color": "rgba(201, 219, 116, 0.8)"
         },
         "name": "Tenosique, Tab.",
         "text": "Tenosique, Tab.",
         "textposition": "inside",
         "type": "bar",
         "x": [
          "2022"
         ],
         "y": [
          null
         ]
        },
        {
         "hoverinfo": "y+text",
         "marker": {
          "color": "rgba(139, 224, 164, 0.8)"
         },
         "name": "Tuxtla Chico, Chis.",
         "text": "Tuxtla Chico, Chis.",
         "textposition": "inside",
         "type": "bar",
         "x": [
          "2022"
         ],
         "y": [
          null
         ]
        },
        {
         "hoverinfo": "y+text",
         "marker": {
          "color": "rgba(180, 151, 231, 0.8)"
         },
         "name": "Tuxtla Gutiérrez, Chis.",
         "text": "Tuxtla Gutiérrez, Chis.",
         "textposition": "inside",
         "type": "bar",
         "x": [
          "2022"
         ],
         "y": [
          null
         ]
        },
        {
         "hoverinfo": "y+text",
         "marker": {
          "color": "rgba(135, 197, 95, 0.8)"
         },
         "name": "Macuspana, Tab.",
         "text": "Macuspana, Tab.",
         "textposition": "inside",
         "type": "bar",
         "x": [
          "2022"
         ],
         "y": [
          null
         ]
        },
        {
         "hoverinfo": "y+text",
         "marker": {
          "color": "rgba(158, 185, 243, 0.8)"
         },
         "name": "Huixtla, Chis.",
         "text": "Huixtla, Chis.",
         "textposition": "inside",
         "type": "bar",
         "x": [
          "2022"
         ],
         "y": [
          null
         ]
        },
        {
         "hoverinfo": "y+text",
         "marker": {
          "color": "rgba(254, 136, 177, 0.8)"
         },
         "name": "Cárdenas, Tab.",
         "text": "Cárdenas, Tab.",
         "textposition": "inside",
         "type": "bar",
         "x": [
          "2022"
         ],
         "y": [
          null
         ]
        },
        {
         "hoverinfo": "y+text",
         "marker": {
          "color": "rgba(201, 219, 116, 0.8)"
         },
         "name": "Huehuetán, Chis.",
         "text": "Huehuetán, Chis.",
         "textposition": "inside",
         "type": "bar",
         "x": [
          "2022"
         ],
         "y": [
          null
         ]
        },
        {
         "hoverinfo": "y+text",
         "marker": {
          "color": "rgba(246, 207, 113, 0.8)"
         },
         "name": "Huimanguillo, Tab.",
         "text": "Huimanguillo, Tab.",
         "textposition": "inside",
         "type": "bar",
         "x": [
          "2023"
         ],
         "y": [
          11.128928100530615
         ]
        },
        {
         "hoverinfo": "y+text",
         "marker": {
          "color": "rgba(248, 156, 116, 0.8)"
         },
         "name": "Centro, Tab.",
         "text": "Centro, Tab.",
         "textposition": "inside",
         "type": "bar",
         "x": [
          "2023"
         ],
         "y": [
          9.521033961692474
         ]
        },
        {
         "hoverinfo": "y+text",
         "marker": {
          "color": "rgba(246, 207, 113, 0.8)"
         },
         "name": "Tapachula, Chis.",
         "text": "Tapachula, Chis.",
         "textposition": "inside",
         "type": "bar",
         "x": [
          "2023"
         ],
         "y": [
          9.072328275391028
         ]
        },
        {
         "hoverinfo": "y+text",
         "marker": {
          "color": "rgba(201, 219, 116, 0.8)"
         },
         "name": "Tenosique, Tab.",
         "text": "Tenosique, Tab.",
         "textposition": "inside",
         "type": "bar",
         "x": [
          "2023"
         ],
         "y": [
          5.086614961734841
         ]
        },
        {
         "hoverinfo": "y+text",
         "marker": {
          "color": "rgba(220, 176, 242, 0.8)"
         },
         "name": "Acayucan, Ver.",
         "text": "Acayucan, Ver.",
         "textposition": "inside",
         "type": "bar",
         "x": [
          "2023"
         ],
         "y": [
          4.6791208706559315
         ]
        },
        {
         "hoverinfo": "y+text",
         "marker": {
          "color": "rgba(135, 197, 95, 0.8)"
         },
         "name": "Macuspana, Tab.",
         "text": "Macuspana, Tab.",
         "textposition": "inside",
         "type": "bar",
         "x": [
          "2023"
         ],
         "y": [
          4.074812525757247
         ]
        },
        {
         "hoverinfo": "y+text",
         "marker": {
          "color": "rgba(135, 197, 95, 0.8)"
         },
         "name": "Suchiate, Chis.",
         "text": "Suchiate, Chis.",
         "textposition": "inside",
         "type": "bar",
         "x": [
          "2023"
         ],
         "y": [
          3.620843053150119
         ]
        },
        {
         "hoverinfo": "y+text",
         "marker": {
          "color": "rgba(102, 197, 204, 0.8)"
         },
         "name": "Tijuana, BC",
         "text": "Tijuana, BC",
         "textposition": "inside",
         "type": "bar",
         "x": [
          "2023"
         ],
         "y": [
          3.518391797737085
         ]
        },
        {
         "hoverinfo": "y+text",
         "marker": {
          "color": "rgba(158, 185, 243, 0.8)"
         },
         "name": "Huixtla, Chis.",
         "text": "Huixtla, Chis.",
         "textposition": "inside",
         "type": "bar",
         "x": [
          "2023"
         ],
         "y": [
          3.0497864314995247
         ]
        },
        {
         "hoverinfo": "y+text",
         "marker": {
          "color": "rgba(254, 136, 177, 0.8)"
         },
         "name": "Cárdenas, Tab.",
         "text": "Cárdenas, Tab.",
         "textposition": "inside",
         "type": "bar",
         "x": [
          "2023"
         ],
         "y": [
          2.9721134872327504
         ]
        },
        {
         "hoverinfo": "y+text",
         "marker": {
          "color": "rgba(102, 197, 204, 0.8)"
         },
         "name": "Reynosa, Tamps.",
         "text": "Reynosa, Tamps.",
         "textposition": "inside",
         "type": "bar",
         "x": [
          "2023"
         ],
         "y": [
          null
         ]
        },
        {
         "hoverinfo": "y+text",
         "marker": {
          "color": "rgba(248, 156, 116, 0.8)"
         },
         "name": "Piedras Negras, Coah.",
         "text": "Piedras Negras, Coah.",
         "textposition": "inside",
         "type": "bar",
         "x": [
          "2023"
         ],
         "y": [
          null
         ]
        },
        {
         "hoverinfo": "y+text",
         "marker": {
          "color": "rgba(158, 185, 243, 0.8)"
         },
         "name": "Hermosillo, Son.",
         "text": "Hermosillo, Son.",
         "textposition": "inside",
         "type": "bar",
         "x": [
          "2023"
         ],
         "y": [
          null
         ]
        },
        {
         "hoverinfo": "y+text",
         "marker": {
          "color": "rgba(254, 136, 177, 0.8)"
         },
         "name": "Palenque, Chis.",
         "text": "Palenque, Chis.",
         "textposition": "inside",
         "type": "bar",
         "x": [
          "2023"
         ],
         "y": [
          null
         ]
        },
        {
         "hoverinfo": "y+text",
         "marker": {
          "color": "rgba(139, 224, 164, 0.8)"
         },
         "name": "Tuxtla Chico, Chis.",
         "text": "Tuxtla Chico, Chis.",
         "textposition": "inside",
         "type": "bar",
         "x": [
          "2023"
         ],
         "y": [
          null
         ]
        },
        {
         "hoverinfo": "y+text",
         "marker": {
          "color": "rgba(180, 151, 231, 0.8)"
         },
         "name": "Tuxtla Gutiérrez, Chis.",
         "text": "Tuxtla Gutiérrez, Chis.",
         "textposition": "inside",
         "type": "bar",
         "x": [
          "2023"
         ],
         "y": [
          null
         ]
        },
        {
         "hoverinfo": "y+text",
         "marker": {
          "color": "rgba(220, 176, 242, 0.8)"
         },
         "name": "Juárez, Chih.",
         "text": "Juárez, Chih.",
         "textposition": "inside",
         "type": "bar",
         "x": [
          "2023"
         ],
         "y": [
          null
         ]
        },
        {
         "hoverinfo": "y+text",
         "marker": {
          "color": "rgba(201, 219, 116, 0.8)"
         },
         "name": "Huehuetán, Chis.",
         "text": "Huehuetán, Chis.",
         "textposition": "inside",
         "type": "bar",
         "x": [
          "2023"
         ],
         "y": [
          null
         ]
        },
        {
         "hoverinfo": "y+text",
         "marker": {
          "color": "rgba(248, 156, 116, 0.8)"
         },
         "name": "Centro, Tab.",
         "text": "Centro, Tab.",
         "textposition": "inside",
         "type": "bar",
         "x": [
          "2024"
         ],
         "y": [
          15.108406601275437
         ]
        },
        {
         "hoverinfo": "y+text",
         "marker": {
          "color": "rgba(246, 207, 113, 0.8)"
         },
         "name": "Tapachula, Chis.",
         "text": "Tapachula, Chis.",
         "textposition": "inside",
         "type": "bar",
         "x": [
          "2024"
         ],
         "y": [
          12.33386593581251
         ]
        },
        {
         "hoverinfo": "y+text",
         "marker": {
          "color": "rgba(246, 207, 113, 0.8)"
         },
         "name": "Huimanguillo, Tab.",
         "text": "Huimanguillo, Tab.",
         "textposition": "inside",
         "type": "bar",
         "x": [
          "2024"
         ],
         "y": [
          9.105396320830748
         ]
        },
        {
         "hoverinfo": "y+text",
         "marker": {
          "color": "rgba(135, 197, 95, 0.8)"
         },
         "name": "Macuspana, Tab.",
         "text": "Macuspana, Tab.",
         "textposition": "inside",
         "type": "bar",
         "x": [
          "2024"
         ],
         "y": [
          6.353882054291756
         ]
        },
        {
         "hoverinfo": "y+text",
         "marker": {
          "color": "rgba(135, 197, 95, 0.8)"
         },
         "name": "Suchiate, Chis.",
         "text": "Suchiate, Chis.",
         "textposition": "inside",
         "type": "bar",
         "x": [
          "2024"
         ],
         "y": [
          4.53086520289908
         ]
        },
        {
         "hoverinfo": "y+text",
         "marker": {
          "color": "rgba(201, 219, 116, 0.8)"
         },
         "name": "Tenosique, Tab.",
         "text": "Tenosique, Tab.",
         "textposition": "inside",
         "type": "bar",
         "x": [
          "2024"
         ],
         "y": [
          4.151772049883043
         ]
        },
        {
         "hoverinfo": "y+text",
         "marker": {
          "color": "rgba(158, 185, 243, 0.8)"
         },
         "name": "Huixtla, Chis.",
         "text": "Huixtla, Chis.",
         "textposition": "inside",
         "type": "bar",
         "x": [
          "2024"
         ],
         "y": [
          3.697702695492723
         ]
        },
        {
         "hoverinfo": "y+text",
         "marker": {
          "color": "rgba(254, 136, 177, 0.8)"
         },
         "name": "Cárdenas, Tab.",
         "text": "Cárdenas, Tab.",
         "textposition": "inside",
         "type": "bar",
         "x": [
          "2024"
         ],
         "y": [
          3.638171029982056
         ]
        },
        {
         "hoverinfo": "y+text",
         "marker": {
          "color": "rgba(102, 197, 204, 0.8)"
         },
         "name": "Tijuana, BC",
         "text": "Tijuana, BC",
         "textposition": "inside",
         "type": "bar",
         "x": [
          "2024"
         ],
         "y": [
          3.6002617146804528
         ]
        },
        {
         "hoverinfo": "y+text",
         "marker": {
          "color": "rgba(201, 219, 116, 0.8)"
         },
         "name": "Huehuetán, Chis.",
         "text": "Huehuetán, Chis.",
         "textposition": "inside",
         "type": "bar",
         "x": [
          "2024"
         ],
         "y": [
          2.9034323374883817
         ]
        },
        {
         "hoverinfo": "y+text",
         "marker": {
          "color": "rgba(102, 197, 204, 0.8)"
         },
         "name": "Reynosa, Tamps.",
         "text": "Reynosa, Tamps.",
         "textposition": "inside",
         "type": "bar",
         "x": [
          "2024"
         ],
         "y": [
          null
         ]
        },
        {
         "hoverinfo": "y+text",
         "marker": {
          "color": "rgba(248, 156, 116, 0.8)"
         },
         "name": "Piedras Negras, Coah.",
         "text": "Piedras Negras, Coah.",
         "textposition": "inside",
         "type": "bar",
         "x": [
          "2024"
         ],
         "y": [
          null
         ]
        },
        {
         "hoverinfo": "y+text",
         "marker": {
          "color": "rgba(220, 176, 242, 0.8)"
         },
         "name": "Acayucan, Ver.",
         "text": "Acayucan, Ver.",
         "textposition": "inside",
         "type": "bar",
         "x": [
          "2024"
         ],
         "y": [
          null
         ]
        },
        {
         "hoverinfo": "y+text",
         "marker": {
          "color": "rgba(158, 185, 243, 0.8)"
         },
         "name": "Hermosillo, Son.",
         "text": "Hermosillo, Son.",
         "textposition": "inside",
         "type": "bar",
         "x": [
          "2024"
         ],
         "y": [
          null
         ]
        },
        {
         "hoverinfo": "y+text",
         "marker": {
          "color": "rgba(254, 136, 177, 0.8)"
         },
         "name": "Palenque, Chis.",
         "text": "Palenque, Chis.",
         "textposition": "inside",
         "type": "bar",
         "x": [
          "2024"
         ],
         "y": [
          null
         ]
        },
        {
         "hoverinfo": "y+text",
         "marker": {
          "color": "rgba(139, 224, 164, 0.8)"
         },
         "name": "Tuxtla Chico, Chis.",
         "text": "Tuxtla Chico, Chis.",
         "textposition": "inside",
         "type": "bar",
         "x": [
          "2024"
         ],
         "y": [
          null
         ]
        },
        {
         "hoverinfo": "y+text",
         "marker": {
          "color": "rgba(180, 151, 231, 0.8)"
         },
         "name": "Tuxtla Gutiérrez, Chis.",
         "text": "Tuxtla Gutiérrez, Chis.",
         "textposition": "inside",
         "type": "bar",
         "x": [
          "2024"
         ],
         "y": [
          null
         ]
        },
        {
         "hoverinfo": "y+text",
         "marker": {
          "color": "rgba(220, 176, 242, 0.8)"
         },
         "name": "Juárez, Chih.",
         "text": "Juárez, Chih.",
         "textposition": "inside",
         "type": "bar",
         "x": [
          "2024"
         ],
         "y": [
          null
         ]
        }
       ],
       "layout": {
        "annotations": [
         {
          "font": {
           "size": 12
          },
          "showarrow": false,
          "text": "*2024 corresponden a los datos hasta Junio",
          "x": 0.8,
          "xanchor": "center",
          "xref": "paper",
          "y": -0.15,
          "yref": "paper"
         }
        ],
        "barmode": "stack",
        "font": {
         "size": 10
        },
        "height": 600,
        "plot_bgcolor": "white",
        "showlegend": false,
        "template": {
         "data": {
          "bar": [
           {
            "error_x": {
             "color": "#2a3f5f"
            },
            "error_y": {
             "color": "#2a3f5f"
            },
            "marker": {
             "line": {
              "color": "#E5ECF6",
              "width": 0.5
             },
             "pattern": {
              "fillmode": "overlay",
              "size": 10,
              "solidity": 0.2
             }
            },
            "type": "bar"
           }
          ],
          "barpolar": [
           {
            "marker": {
             "line": {
              "color": "#E5ECF6",
              "width": 0.5
             },
             "pattern": {
              "fillmode": "overlay",
              "size": 10,
              "solidity": 0.2
             }
            },
            "type": "barpolar"
           }
          ],
          "carpet": [
           {
            "aaxis": {
             "endlinecolor": "#2a3f5f",
             "gridcolor": "white",
             "linecolor": "white",
             "minorgridcolor": "white",
             "startlinecolor": "#2a3f5f"
            },
            "baxis": {
             "endlinecolor": "#2a3f5f",
             "gridcolor": "white",
             "linecolor": "white",
             "minorgridcolor": "white",
             "startlinecolor": "#2a3f5f"
            },
            "type": "carpet"
           }
          ],
          "choropleth": [
           {
            "colorbar": {
             "outlinewidth": 0,
             "ticks": ""
            },
            "type": "choropleth"
           }
          ],
          "contour": [
           {
            "colorbar": {
             "outlinewidth": 0,
             "ticks": ""
            },
            "colorscale": [
             [
              0,
              "#0d0887"
             ],
             [
              0.1111111111111111,
              "#46039f"
             ],
             [
              0.2222222222222222,
              "#7201a8"
             ],
             [
              0.3333333333333333,
              "#9c179e"
             ],
             [
              0.4444444444444444,
              "#bd3786"
             ],
             [
              0.5555555555555556,
              "#d8576b"
             ],
             [
              0.6666666666666666,
              "#ed7953"
             ],
             [
              0.7777777777777778,
              "#fb9f3a"
             ],
             [
              0.8888888888888888,
              "#fdca26"
             ],
             [
              1,
              "#f0f921"
             ]
            ],
            "type": "contour"
           }
          ],
          "contourcarpet": [
           {
            "colorbar": {
             "outlinewidth": 0,
             "ticks": ""
            },
            "type": "contourcarpet"
           }
          ],
          "heatmap": [
           {
            "colorbar": {
             "outlinewidth": 0,
             "ticks": ""
            },
            "colorscale": [
             [
              0,
              "#0d0887"
             ],
             [
              0.1111111111111111,
              "#46039f"
             ],
             [
              0.2222222222222222,
              "#7201a8"
             ],
             [
              0.3333333333333333,
              "#9c179e"
             ],
             [
              0.4444444444444444,
              "#bd3786"
             ],
             [
              0.5555555555555556,
              "#d8576b"
             ],
             [
              0.6666666666666666,
              "#ed7953"
             ],
             [
              0.7777777777777778,
              "#fb9f3a"
             ],
             [
              0.8888888888888888,
              "#fdca26"
             ],
             [
              1,
              "#f0f921"
             ]
            ],
            "type": "heatmap"
           }
          ],
          "heatmapgl": [
           {
            "colorbar": {
             "outlinewidth": 0,
             "ticks": ""
            },
            "colorscale": [
             [
              0,
              "#0d0887"
             ],
             [
              0.1111111111111111,
              "#46039f"
             ],
             [
              0.2222222222222222,
              "#7201a8"
             ],
             [
              0.3333333333333333,
              "#9c179e"
             ],
             [
              0.4444444444444444,
              "#bd3786"
             ],
             [
              0.5555555555555556,
              "#d8576b"
             ],
             [
              0.6666666666666666,
              "#ed7953"
             ],
             [
              0.7777777777777778,
              "#fb9f3a"
             ],
             [
              0.8888888888888888,
              "#fdca26"
             ],
             [
              1,
              "#f0f921"
             ]
            ],
            "type": "heatmapgl"
           }
          ],
          "histogram": [
           {
            "marker": {
             "pattern": {
              "fillmode": "overlay",
              "size": 10,
              "solidity": 0.2
             }
            },
            "type": "histogram"
           }
          ],
          "histogram2d": [
           {
            "colorbar": {
             "outlinewidth": 0,
             "ticks": ""
            },
            "colorscale": [
             [
              0,
              "#0d0887"
             ],
             [
              0.1111111111111111,
              "#46039f"
             ],
             [
              0.2222222222222222,
              "#7201a8"
             ],
             [
              0.3333333333333333,
              "#9c179e"
             ],
             [
              0.4444444444444444,
              "#bd3786"
             ],
             [
              0.5555555555555556,
              "#d8576b"
             ],
             [
              0.6666666666666666,
              "#ed7953"
             ],
             [
              0.7777777777777778,
              "#fb9f3a"
             ],
             [
              0.8888888888888888,
              "#fdca26"
             ],
             [
              1,
              "#f0f921"
             ]
            ],
            "type": "histogram2d"
           }
          ],
          "histogram2dcontour": [
           {
            "colorbar": {
             "outlinewidth": 0,
             "ticks": ""
            },
            "colorscale": [
             [
              0,
              "#0d0887"
             ],
             [
              0.1111111111111111,
              "#46039f"
             ],
             [
              0.2222222222222222,
              "#7201a8"
             ],
             [
              0.3333333333333333,
              "#9c179e"
             ],
             [
              0.4444444444444444,
              "#bd3786"
             ],
             [
              0.5555555555555556,
              "#d8576b"
             ],
             [
              0.6666666666666666,
              "#ed7953"
             ],
             [
              0.7777777777777778,
              "#fb9f3a"
             ],
             [
              0.8888888888888888,
              "#fdca26"
             ],
             [
              1,
              "#f0f921"
             ]
            ],
            "type": "histogram2dcontour"
           }
          ],
          "mesh3d": [
           {
            "colorbar": {
             "outlinewidth": 0,
             "ticks": ""
            },
            "type": "mesh3d"
           }
          ],
          "parcoords": [
           {
            "line": {
             "colorbar": {
              "outlinewidth": 0,
              "ticks": ""
             }
            },
            "type": "parcoords"
           }
          ],
          "pie": [
           {
            "automargin": true,
            "type": "pie"
           }
          ],
          "scatter": [
           {
            "fillpattern": {
             "fillmode": "overlay",
             "size": 10,
             "solidity": 0.2
            },
            "type": "scatter"
           }
          ],
          "scatter3d": [
           {
            "line": {
             "colorbar": {
              "outlinewidth": 0,
              "ticks": ""
             }
            },
            "marker": {
             "colorbar": {
              "outlinewidth": 0,
              "ticks": ""
             }
            },
            "type": "scatter3d"
           }
          ],
          "scattercarpet": [
           {
            "marker": {
             "colorbar": {
              "outlinewidth": 0,
              "ticks": ""
             }
            },
            "type": "scattercarpet"
           }
          ],
          "scattergeo": [
           {
            "marker": {
             "colorbar": {
              "outlinewidth": 0,
              "ticks": ""
             }
            },
            "type": "scattergeo"
           }
          ],
          "scattergl": [
           {
            "marker": {
             "colorbar": {
              "outlinewidth": 0,
              "ticks": ""
             }
            },
            "type": "scattergl"
           }
          ],
          "scattermapbox": [
           {
            "marker": {
             "colorbar": {
              "outlinewidth": 0,
              "ticks": ""
             }
            },
            "type": "scattermapbox"
           }
          ],
          "scatterpolar": [
           {
            "marker": {
             "colorbar": {
              "outlinewidth": 0,
              "ticks": ""
             }
            },
            "type": "scatterpolar"
           }
          ],
          "scatterpolargl": [
           {
            "marker": {
             "colorbar": {
              "outlinewidth": 0,
              "ticks": ""
             }
            },
            "type": "scatterpolargl"
           }
          ],
          "scatterternary": [
           {
            "marker": {
             "colorbar": {
              "outlinewidth": 0,
              "ticks": ""
             }
            },
            "type": "scatterternary"
           }
          ],
          "surface": [
           {
            "colorbar": {
             "outlinewidth": 0,
             "ticks": ""
            },
            "colorscale": [
             [
              0,
              "#0d0887"
             ],
             [
              0.1111111111111111,
              "#46039f"
             ],
             [
              0.2222222222222222,
              "#7201a8"
             ],
             [
              0.3333333333333333,
              "#9c179e"
             ],
             [
              0.4444444444444444,
              "#bd3786"
             ],
             [
              0.5555555555555556,
              "#d8576b"
             ],
             [
              0.6666666666666666,
              "#ed7953"
             ],
             [
              0.7777777777777778,
              "#fb9f3a"
             ],
             [
              0.8888888888888888,
              "#fdca26"
             ],
             [
              1,
              "#f0f921"
             ]
            ],
            "type": "surface"
           }
          ],
          "table": [
           {
            "cells": {
             "fill": {
              "color": "#EBF0F8"
             },
             "line": {
              "color": "white"
             }
            },
            "header": {
             "fill": {
              "color": "#C8D4E3"
             },
             "line": {
              "color": "white"
             }
            },
            "type": "table"
           }
          ]
         },
         "layout": {
          "annotationdefaults": {
           "arrowcolor": "#2a3f5f",
           "arrowhead": 0,
           "arrowwidth": 1
          },
          "autotypenumbers": "strict",
          "coloraxis": {
           "colorbar": {
            "outlinewidth": 0,
            "ticks": ""
           }
          },
          "colorscale": {
           "diverging": [
            [
             0,
             "#8e0152"
            ],
            [
             0.1,
             "#c51b7d"
            ],
            [
             0.2,
             "#de77ae"
            ],
            [
             0.3,
             "#f1b6da"
            ],
            [
             0.4,
             "#fde0ef"
            ],
            [
             0.5,
             "#f7f7f7"
            ],
            [
             0.6,
             "#e6f5d0"
            ],
            [
             0.7,
             "#b8e186"
            ],
            [
             0.8,
             "#7fbc41"
            ],
            [
             0.9,
             "#4d9221"
            ],
            [
             1,
             "#276419"
            ]
           ],
           "sequential": [
            [
             0,
             "#0d0887"
            ],
            [
             0.1111111111111111,
             "#46039f"
            ],
            [
             0.2222222222222222,
             "#7201a8"
            ],
            [
             0.3333333333333333,
             "#9c179e"
            ],
            [
             0.4444444444444444,
             "#bd3786"
            ],
            [
             0.5555555555555556,
             "#d8576b"
            ],
            [
             0.6666666666666666,
             "#ed7953"
            ],
            [
             0.7777777777777778,
             "#fb9f3a"
            ],
            [
             0.8888888888888888,
             "#fdca26"
            ],
            [
             1,
             "#f0f921"
            ]
           ],
           "sequentialminus": [
            [
             0,
             "#0d0887"
            ],
            [
             0.1111111111111111,
             "#46039f"
            ],
            [
             0.2222222222222222,
             "#7201a8"
            ],
            [
             0.3333333333333333,
             "#9c179e"
            ],
            [
             0.4444444444444444,
             "#bd3786"
            ],
            [
             0.5555555555555556,
             "#d8576b"
            ],
            [
             0.6666666666666666,
             "#ed7953"
            ],
            [
             0.7777777777777778,
             "#fb9f3a"
            ],
            [
             0.8888888888888888,
             "#fdca26"
            ],
            [
             1,
             "#f0f921"
            ]
           ]
          },
          "colorway": [
           "#636efa",
           "#EF553B",
           "#00cc96",
           "#ab63fa",
           "#FFA15A",
           "#19d3f3",
           "#FF6692",
           "#B6E880",
           "#FF97FF",
           "#FECB52"
          ],
          "font": {
           "color": "#2a3f5f"
          },
          "geo": {
           "bgcolor": "white",
           "lakecolor": "white",
           "landcolor": "#E5ECF6",
           "showlakes": true,
           "showland": true,
           "subunitcolor": "white"
          },
          "hoverlabel": {
           "align": "left"
          },
          "hovermode": "closest",
          "mapbox": {
           "style": "light"
          },
          "paper_bgcolor": "white",
          "plot_bgcolor": "#E5ECF6",
          "polar": {
           "angularaxis": {
            "gridcolor": "white",
            "linecolor": "white",
            "ticks": ""
           },
           "bgcolor": "#E5ECF6",
           "radialaxis": {
            "gridcolor": "white",
            "linecolor": "white",
            "ticks": ""
           }
          },
          "scene": {
           "xaxis": {
            "backgroundcolor": "#E5ECF6",
            "gridcolor": "white",
            "gridwidth": 2,
            "linecolor": "white",
            "showbackground": true,
            "ticks": "",
            "zerolinecolor": "white"
           },
           "yaxis": {
            "backgroundcolor": "#E5ECF6",
            "gridcolor": "white",
            "gridwidth": 2,
            "linecolor": "white",
            "showbackground": true,
            "ticks": "",
            "zerolinecolor": "white"
           },
           "zaxis": {
            "backgroundcolor": "#E5ECF6",
            "gridcolor": "white",
            "gridwidth": 2,
            "linecolor": "white",
            "showbackground": true,
            "ticks": "",
            "zerolinecolor": "white"
           }
          },
          "shapedefaults": {
           "line": {
            "color": "#2a3f5f"
           }
          },
          "ternary": {
           "aaxis": {
            "gridcolor": "white",
            "linecolor": "white",
            "ticks": ""
           },
           "baxis": {
            "gridcolor": "white",
            "linecolor": "white",
            "ticks": ""
           },
           "bgcolor": "#E5ECF6",
           "caxis": {
            "gridcolor": "white",
            "linecolor": "white",
            "ticks": ""
           }
          },
          "title": {
           "x": 0.05
          },
          "xaxis": {
           "automargin": true,
           "gridcolor": "white",
           "linecolor": "white",
           "ticks": "",
           "title": {
            "standoff": 15
           },
           "zerolinecolor": "white",
           "zerolinewidth": 2
          },
          "yaxis": {
           "automargin": true,
           "gridcolor": "white",
           "linecolor": "white",
           "ticks": "",
           "title": {
            "standoff": 15
           },
           "zerolinecolor": "white",
           "zerolinewidth": 2
          }
         }
        },
        "title": {
         "text": "Distribución de los 10 Municipios con Mayor Incidencia de Encuentros con Migrantes Irregulares"
        },
        "width": 1000,
        "xaxis": {
         "autorange": true,
         "gridcolor": "rgba(128, 128, 128, 0.5)",
         "range": [
          -0.5,
          4.5
         ],
         "showgrid": true,
         "title": {
          "text": "Año"
         },
         "type": "category"
        },
        "yaxis": {
         "autorange": true,
         "gridcolor": "rgba(128, 128, 128, 0.5)",
         "range": [
          0,
          68.8671115185644
         ],
         "showgrid": true,
         "title": {
          "text": "Eventos de Encuentros con Migrantes Irregulares (%) del Total Anual"
         },
         "type": "linear"
        }
       }
      },
      "image/png": "[encoded data removed]",
      "text/html": [
       "<div>                            <div id=\"a82be307-c4e7-408e-aa52-f1dfd36a0af2\" class=\"plotly-graph-div\" style=\"height:600px; width:1000px;\"></div>            <script type=\"text/javascript\">                require([\"plotly\"], function(Plotly) {                    window.PLOTLYENV=window.PLOTLYENV || {};                                    if (document.getElementById(\"a82be307-c4e7-408e-aa52-f1dfd36a0af2\")) {                    Plotly.newPlot(                        \"a82be307-c4e7-408e-aa52-f1dfd36a0af2\",                        [{\"hoverinfo\":\"y+text\",\"marker\":{\"color\":\"rgba(102, 197, 204, 0.8)\"},\"name\":\"Reynosa, Tamps.\",\"text\":\"Reynosa, Tamps.\",\"textposition\":\"inside\",\"x\":[\"2020\"],\"y\":[16.126682771094575],\"type\":\"bar\"},{\"hoverinfo\":\"y+text\",\"marker\":{\"color\":\"rgba(246, 207, 113, 0.8)\"},\"name\":\"Tapachula, Chis.\",\"text\":\"Tapachula, Chis.\",\"textposition\":\"inside\",\"x\":[\"2020\"],\"y\":[7.599024023112687],\"type\":\"bar\"},{\"hoverinfo\":\"y+text\",\"marker\":{\"color\":\"rgba(248, 156, 116, 0.8)\"},\"name\":\"Piedras Negras, Coah.\",\"text\":\"Piedras Negras, Coah.\",\"textposition\":\"inside\",\"x\":[\"2020\"],\"y\":[4.930868303815292],\"type\":\"bar\"},{\"hoverinfo\":\"y+text\",\"marker\":{\"color\":\"rgba(220, 176, 242, 0.8)\"},\"name\":\"Acayucan, Ver.\",\"text\":\"Acayucan, Ver.\",\"textposition\":\"inside\",\"x\":[\"2020\"],\"y\":[4.496291530608529],\"type\":\"bar\"},{\"hoverinfo\":\"y+text\",\"marker\":{\"color\":\"rgba(135, 197, 95, 0.8)\"},\"name\":\"Suchiate, Chis.\",\"text\":\"Suchiate, Chis.\",\"textposition\":\"inside\",\"x\":[\"2020\"],\"y\":[4.32270360164605],\"type\":\"bar\"},{\"hoverinfo\":\"y+text\",\"marker\":{\"color\":\"rgba(158, 185, 243, 0.8)\"},\"name\":\"Hermosillo, Son.\",\"text\":\"Hermosillo, Son.\",\"textposition\":\"inside\",\"x\":[\"2020\"],\"y\":[4.2170941623472],\"type\":\"bar\"},{\"hoverinfo\":\"y+text\",\"marker\":{\"color\":\"rgba(254, 136, 177, 0.8)\"},\"name\":\"Palenque, Chis.\",\"text\":\"Palenque, Chis.\",\"textposition\":\"inside\",\"x\":[\"2020\"],\"y\":[4.016800398159725],\"type\":\"bar\"},{\"hoverinfo\":\"y+text\",\"marker\":{\"color\":\"rgba(201, 219, 116, 0.8)\"},\"name\":\"Tenosique, Tab.\",\"text\":\"Tenosique, Tab.\",\"textposition\":\"inside\",\"x\":[\"2020\"],\"y\":[3.5810097233518254],\"type\":\"bar\"},{\"hoverinfo\":\"y+text\",\"marker\":{\"color\":\"rgba(139, 224, 164, 0.8)\"},\"name\":\"Tuxtla Chico, Chis.\",\"text\":\"Tuxtla Chico, Chis.\",\"textposition\":\"inside\",\"x\":[\"2020\"],\"y\":[3.148860753347334],\"type\":\"bar\"},{\"hoverinfo\":\"y+text\",\"marker\":{\"color\":\"rgba(180, 151, 231, 0.8)\"},\"name\":\"Tuxtla Guti\\u00e9rrez, Chis.\",\"text\":\"Tuxtla Guti\\u00e9rrez, Chis.\",\"textposition\":\"inside\",\"x\":[\"2020\"],\"y\":[2.2869906165406233],\"type\":\"bar\"},{\"hoverinfo\":\"y+text\",\"marker\":{\"color\":\"rgba(102, 197, 204, 0.8)\"},\"name\":\"Tijuana, BC\",\"text\":\"Tijuana, BC\",\"textposition\":\"inside\",\"x\":[\"2020\"],\"y\":[null],\"type\":\"bar\"},{\"hoverinfo\":\"y+text\",\"marker\":{\"color\":\"rgba(246, 207, 113, 0.8)\"},\"name\":\"Huimanguillo, Tab.\",\"text\":\"Huimanguillo, Tab.\",\"textposition\":\"inside\",\"x\":[\"2020\"],\"y\":[null],\"type\":\"bar\"},{\"hoverinfo\":\"y+text\",\"marker\":{\"color\":\"rgba(248, 156, 116, 0.8)\"},\"name\":\"Centro, Tab.\",\"text\":\"Centro, Tab.\",\"textposition\":\"inside\",\"x\":[\"2020\"],\"y\":[null],\"type\":\"bar\"},{\"hoverinfo\":\"y+text\",\"marker\":{\"color\":\"rgba(220, 176, 242, 0.8)\"},\"name\":\"Ju\\u00e1rez, Chih.\",\"text\":\"Ju\\u00e1rez, Chih.\",\"textposition\":\"inside\",\"x\":[\"2020\"],\"y\":[null],\"type\":\"bar\"},{\"hoverinfo\":\"y+text\",\"marker\":{\"color\":\"rgba(135, 197, 95, 0.8)\"},\"name\":\"Macuspana, Tab.\",\"text\":\"Macuspana, Tab.\",\"textposition\":\"inside\",\"x\":[\"2020\"],\"y\":[null],\"type\":\"bar\"},{\"hoverinfo\":\"y+text\",\"marker\":{\"color\":\"rgba(158, 185, 243, 0.8)\"},\"name\":\"Huixtla, Chis.\",\"text\":\"Huixtla, Chis.\",\"textposition\":\"inside\",\"x\":[\"2020\"],\"y\":[null],\"type\":\"bar\"},{\"hoverinfo\":\"y+text\",\"marker\":{\"color\":\"rgba(254, 136, 177, 0.8)\"},\"name\":\"C\\u00e1rdenas, Tab.\",\"text\":\"C\\u00e1rdenas, Tab.\",\"textposition\":\"inside\",\"x\":[\"2020\"],\"y\":[null],\"type\":\"bar\"},{\"hoverinfo\":\"y+text\",\"marker\":{\"color\":\"rgba(201, 219, 116, 0.8)\"},\"name\":\"Huehuet\\u00e1n, Chis.\",\"text\":\"Huehuet\\u00e1n, Chis.\",\"textposition\":\"inside\",\"x\":[\"2020\"],\"y\":[null],\"type\":\"bar\"},{\"hoverinfo\":\"y+text\",\"marker\":{\"color\":\"rgba(102, 197, 204, 0.8)\"},\"name\":\"Tijuana, BC\",\"text\":\"Tijuana, BC\",\"textposition\":\"inside\",\"x\":[\"2021\"],\"y\":[9.562726838278031],\"type\":\"bar\"},{\"hoverinfo\":\"y+text\",\"marker\":{\"color\":\"rgba(246, 207, 113, 0.8)\"},\"name\":\"Huimanguillo, Tab.\",\"text\":\"Huimanguillo, Tab.\",\"textposition\":\"inside\",\"x\":[\"2021\"],\"y\":[6.011779445384446],\"type\":\"bar\"},{\"hoverinfo\":\"y+text\",\"marker\":{\"color\":\"rgba(102, 197, 204, 0.8)\"},\"name\":\"Reynosa, Tamps.\",\"text\":\"Reynosa, Tamps.\",\"textposition\":\"inside\",\"x\":[\"2021\"],\"y\":[5.587486922490733],\"type\":\"bar\"},{\"hoverinfo\":\"y+text\",\"marker\":{\"color\":\"rgba(246, 207, 113, 0.8)\"},\"name\":\"Tapachula, Chis.\",\"text\":\"Tapachula, Chis.\",\"textposition\":\"inside\",\"x\":[\"2021\"],\"y\":[5.274272503002984],\"type\":\"bar\"},{\"hoverinfo\":\"y+text\",\"marker\":{\"color\":\"rgba(220, 176, 242, 0.8)\"},\"name\":\"Acayucan, Ver.\",\"text\":\"Acayucan, Ver.\",\"textposition\":\"inside\",\"x\":[\"2021\"],\"y\":[4.691758263048448],\"type\":\"bar\"},{\"hoverinfo\":\"y+text\",\"marker\":{\"color\":\"rgba(158, 185, 243, 0.8)\"},\"name\":\"Hermosillo, Son.\",\"text\":\"Hermosillo, Son.\",\"textposition\":\"inside\",\"x\":[\"2021\"],\"y\":[4.519005980135102],\"type\":\"bar\"},{\"hoverinfo\":\"y+text\",\"marker\":{\"color\":\"rgba(201, 219, 116, 0.8)\"},\"name\":\"Tenosique, Tab.\",\"text\":\"Tenosique, Tab.\",\"textposition\":\"inside\",\"x\":[\"2021\"],\"y\":[3.4608578846079334],\"type\":\"bar\"},{\"hoverinfo\":\"y+text\",\"marker\":{\"color\":\"rgba(180, 151, 231, 0.8)\"},\"name\":\"Tuxtla Guti\\u00e9rrez, Chis.\",\"text\":\"Tuxtla Guti\\u00e9rrez, Chis.\",\"textposition\":\"inside\",\"x\":[\"2021\"],\"y\":[3.278741459256293],\"type\":\"bar\"},{\"hoverinfo\":\"y+text\",\"marker\":{\"color\":\"rgba(254, 136, 177, 0.8)\"},\"name\":\"Palenque, Chis.\",\"text\":\"Palenque, Chis.\",\"textposition\":\"inside\",\"x\":[\"2021\"],\"y\":[2.9035299587977734],\"type\":\"bar\"},{\"hoverinfo\":\"y+text\",\"marker\":{\"color\":\"rgba(248, 156, 116, 0.8)\"},\"name\":\"Centro, Tab.\",\"text\":\"Centro, Tab.\",\"textposition\":\"inside\",\"x\":[\"2021\"],\"y\":[2.7624220192965914],\"type\":\"bar\"},{\"hoverinfo\":\"y+text\",\"marker\":{\"color\":\"rgba(248, 156, 116, 0.8)\"},\"name\":\"Piedras Negras, Coah.\",\"text\":\"Piedras Negras, Coah.\",\"textposition\":\"inside\",\"x\":[\"2021\"],\"y\":[null],\"type\":\"bar\"},{\"hoverinfo\":\"y+text\",\"marker\":{\"color\":\"rgba(135, 197, 95, 0.8)\"},\"name\":\"Suchiate, Chis.\",\"text\":\"Suchiate, Chis.\",\"textposition\":\"inside\",\"x\":[\"2021\"],\"y\":[null],\"type\":\"bar\"},{\"hoverinfo\":\"y+text\",\"marker\":{\"color\":\"rgba(139, 224, 164, 0.8)\"},\"name\":\"Tuxtla Chico, Chis.\",\"text\":\"Tuxtla Chico, Chis.\",\"textposition\":\"inside\",\"x\":[\"2021\"],\"y\":[null],\"type\":\"bar\"},{\"hoverinfo\":\"y+text\",\"marker\":{\"color\":\"rgba(220, 176, 242, 0.8)\"},\"name\":\"Ju\\u00e1rez, Chih.\",\"text\":\"Ju\\u00e1rez, Chih.\",\"textposition\":\"inside\",\"x\":[\"2021\"],\"y\":[null],\"type\":\"bar\"},{\"hoverinfo\":\"y+text\",\"marker\":{\"color\":\"rgba(135, 197, 95, 0.8)\"},\"name\":\"Macuspana, Tab.\",\"text\":\"Macuspana, Tab.\",\"textposition\":\"inside\",\"x\":[\"2021\"],\"y\":[null],\"type\":\"bar\"},{\"hoverinfo\":\"y+text\",\"marker\":{\"color\":\"rgba(158, 185, 243, 0.8)\"},\"name\":\"Huixtla, Chis.\",\"text\":\"Huixtla, Chis.\",\"textposition\":\"inside\",\"x\":[\"2021\"],\"y\":[null],\"type\":\"bar\"},{\"hoverinfo\":\"y+text\",\"marker\":{\"color\":\"rgba(254, 136, 177, 0.8)\"},\"name\":\"C\\u00e1rdenas, Tab.\",\"text\":\"C\\u00e1rdenas, Tab.\",\"textposition\":\"inside\",\"x\":[\"2021\"],\"y\":[null],\"type\":\"bar\"},{\"hoverinfo\":\"y+text\",\"marker\":{\"color\":\"rgba(201, 219, 116, 0.8)\"},\"name\":\"Huehuet\\u00e1n, Chis.\",\"text\":\"Huehuet\\u00e1n, Chis.\",\"textposition\":\"inside\",\"x\":[\"2021\"],\"y\":[null],\"type\":\"bar\"},{\"hoverinfo\":\"y+text\",\"marker\":{\"color\":\"rgba(246, 207, 113, 0.8)\"},\"name\":\"Tapachula, Chis.\",\"text\":\"Tapachula, Chis.\",\"textposition\":\"inside\",\"x\":[\"2022\"],\"y\":[10.346866511557309],\"type\":\"bar\"},{\"hoverinfo\":\"y+text\",\"marker\":{\"color\":\"rgba(102, 197, 204, 0.8)\"},\"name\":\"Tijuana, BC\",\"text\":\"Tijuana, BC\",\"textposition\":\"inside\",\"x\":[\"2022\"],\"y\":[7.866400549150561],\"type\":\"bar\"},{\"hoverinfo\":\"y+text\",\"marker\":{\"color\":\"rgba(135, 197, 95, 0.8)\"},\"name\":\"Suchiate, Chis.\",\"text\":\"Suchiate, Chis.\",\"textposition\":\"inside\",\"x\":[\"2022\"],\"y\":[6.544723827561287],\"type\":\"bar\"},{\"hoverinfo\":\"y+text\",\"marker\":{\"color\":\"rgba(220, 176, 242, 0.8)\"},\"name\":\"Acayucan, Ver.\",\"text\":\"Acayucan, Ver.\",\"textposition\":\"inside\",\"x\":[\"2022\"],\"y\":[6.123119374548321],\"type\":\"bar\"},{\"hoverinfo\":\"y+text\",\"marker\":{\"color\":\"rgba(158, 185, 243, 0.8)\"},\"name\":\"Hermosillo, Son.\",\"text\":\"Hermosillo, Son.\",\"textposition\":\"inside\",\"x\":[\"2022\"],\"y\":[5.228710787500934],\"type\":\"bar\"},{\"hoverinfo\":\"y+text\",\"marker\":{\"color\":\"rgba(248, 156, 116, 0.8)\"},\"name\":\"Centro, Tab.\",\"text\":\"Centro, Tab.\",\"textposition\":\"inside\",\"x\":[\"2022\"],\"y\":[4.691114136775643],\"type\":\"bar\"},{\"hoverinfo\":\"y+text\",\"marker\":{\"color\":\"rgba(248, 156, 116, 0.8)\"},\"name\":\"Piedras Negras, Coah.\",\"text\":\"Piedras Negras, Coah.\",\"textposition\":\"inside\",\"x\":[\"2022\"],\"y\":[4.638328624926089],\"type\":\"bar\"},{\"hoverinfo\":\"y+text\",\"marker\":{\"color\":\"rgba(102, 197, 204, 0.8)\"},\"name\":\"Reynosa, Tamps.\",\"text\":\"Reynosa, Tamps.\",\"textposition\":\"inside\",\"x\":[\"2022\"],\"y\":[3.4303786284375715],\"type\":\"bar\"},{\"hoverinfo\":\"y+text\",\"marker\":{\"color\":\"rgba(246, 207, 113, 0.8)\"},\"name\":\"Huimanguillo, Tab.\",\"text\":\"Huimanguillo, Tab.\",\"textposition\":\"inside\",\"x\":[\"2022\"],\"y\":[3.3071369183682253],\"type\":\"bar\"},{\"hoverinfo\":\"y+text\",\"marker\":{\"color\":\"rgba(220, 176, 242, 0.8)\"},\"name\":\"Ju\\u00e1rez, Chih.\",\"text\":\"Ju\\u00e1rez, Chih.\",\"textposition\":\"inside\",\"x\":[\"2022\"],\"y\":[2.724230815411557],\"type\":\"bar\"},{\"hoverinfo\":\"y+text\",\"marker\":{\"color\":\"rgba(254, 136, 177, 0.8)\"},\"name\":\"Palenque, Chis.\",\"text\":\"Palenque, Chis.\",\"textposition\":\"inside\",\"x\":[\"2022\"],\"y\":[null],\"type\":\"bar\"},{\"hoverinfo\":\"y+text\",\"marker\":{\"color\":\"rgba(201, 219, 116, 0.8)\"},\"name\":\"Tenosique, Tab.\",\"text\":\"Tenosique, Tab.\",\"textposition\":\"inside\",\"x\":[\"2022\"],\"y\":[null],\"type\":\"bar\"},{\"hoverinfo\":\"y+text\",\"marker\":{\"color\":\"rgba(139, 224, 164, 0.8)\"},\"name\":\"Tuxtla Chico, Chis.\",\"text\":\"Tuxtla Chico, Chis.\",\"textposition\":\"inside\",\"x\":[\"2022\"],\"y\":[null],\"type\":\"bar\"},{\"hoverinfo\":\"y+text\",\"marker\":{\"color\":\"rgba(180, 151, 231, 0.8)\"},\"name\":\"Tuxtla Guti\\u00e9rrez, Chis.\",\"text\":\"Tuxtla Guti\\u00e9rrez, Chis.\",\"textposition\":\"inside\",\"x\":[\"2022\"],\"y\":[null],\"type\":\"bar\"},{\"hoverinfo\":\"y+text\",\"marker\":{\"color\":\"rgba(135, 197, 95, 0.8)\"},\"name\":\"Macuspana, Tab.\",\"text\":\"Macuspana, Tab.\",\"textposition\":\"inside\",\"x\":[\"2022\"],\"y\":[null],\"type\":\"bar\"},{\"hoverinfo\":\"y+text\",\"marker\":{\"color\":\"rgba(158, 185, 243, 0.8)\"},\"name\":\"Huixtla, Chis.\",\"text\":\"Huixtla, Chis.\",\"textposition\":\"inside\",\"x\":[\"2022\"],\"y\":[null],\"type\":\"bar\"},{\"hoverinfo\":\"y+text\",\"marker\":{\"color\":\"rgba(254, 136, 177, 0.8)\"},\"name\":\"C\\u00e1rdenas, Tab.\",\"text\":\"C\\u00e1rdenas, Tab.\",\"textposition\":\"inside\",\"x\":[\"2022\"],\"y\":[null],\"type\":\"bar\"},{\"hoverinfo\":\"y+text\",\"marker\":{\"color\":\"rgba(201, 219, 116, 0.8)\"},\"name\":\"Huehuet\\u00e1n, Chis.\",\"text\":\"Huehuet\\u00e1n, Chis.\",\"textposition\":\"inside\",\"x\":[\"2022\"],\"y\":[null],\"type\":\"bar\"},{\"hoverinfo\":\"y+text\",\"marker\":{\"color\":\"rgba(246, 207, 113, 0.8)\"},\"name\":\"Huimanguillo, Tab.\",\"text\":\"Huimanguillo, Tab.\",\"textposition\":\"inside\",\"x\":[\"2023\"],\"y\":[11.128928100530615],\"type\":\"bar\"},{\"hoverinfo\":\"y+text\",\"marker\":{\"color\":\"rgba(248, 156, 116, 0.8)\"},\"name\":\"Centro, Tab.\",\"text\":\"Centro, Tab.\",\"textposition\":\"inside\",\"x\":[\"2023\"],\"y\":[9.521033961692474],\"type\":\"bar\"},{\"hoverinfo\":\"y+text\",\"marker\":{\"color\":\"rgba(246, 207, 113, 0.8)\"},\"name\":\"Tapachula, Chis.\",\"text\":\"Tapachula, Chis.\",\"textposition\":\"inside\",\"x\":[\"2023\"],\"y\":[9.072328275391028],\"type\":\"bar\"},{\"hoverinfo\":\"y+text\",\"marker\":{\"color\":\"rgba(201, 219, 116, 0.8)\"},\"name\":\"Tenosique, Tab.\",\"text\":\"Tenosique, Tab.\",\"textposition\":\"inside\",\"x\":[\"2023\"],\"y\":[5.086614961734841],\"type\":\"bar\"},{\"hoverinfo\":\"y+text\",\"marker\":{\"color\":\"rgba(220, 176, 242, 0.8)\"},\"name\":\"Acayucan, Ver.\",\"text\":\"Acayucan, Ver.\",\"textposition\":\"inside\",\"x\":[\"2023\"],\"y\":[4.6791208706559315],\"type\":\"bar\"},{\"hoverinfo\":\"y+text\",\"marker\":{\"color\":\"rgba(135, 197, 95, 0.8)\"},\"name\":\"Macuspana, Tab.\",\"text\":\"Macuspana, Tab.\",\"textposition\":\"inside\",\"x\":[\"2023\"],\"y\":[4.074812525757247],\"type\":\"bar\"},{\"hoverinfo\":\"y+text\",\"marker\":{\"color\":\"rgba(135, 197, 95, 0.8)\"},\"name\":\"Suchiate, Chis.\",\"text\":\"Suchiate, Chis.\",\"textposition\":\"inside\",\"x\":[\"2023\"],\"y\":[3.620843053150119],\"type\":\"bar\"},{\"hoverinfo\":\"y+text\",\"marker\":{\"color\":\"rgba(102, 197, 204, 0.8)\"},\"name\":\"Tijuana, BC\",\"text\":\"Tijuana, BC\",\"textposition\":\"inside\",\"x\":[\"2023\"],\"y\":[3.518391797737085],\"type\":\"bar\"},{\"hoverinfo\":\"y+text\",\"marker\":{\"color\":\"rgba(158, 185, 243, 0.8)\"},\"name\":\"Huixtla, Chis.\",\"text\":\"Huixtla, Chis.\",\"textposition\":\"inside\",\"x\":[\"2023\"],\"y\":[3.0497864314995247],\"type\":\"bar\"},{\"hoverinfo\":\"y+text\",\"marker\":{\"color\":\"rgba(254, 136, 177, 0.8)\"},\"name\":\"C\\u00e1rdenas, Tab.\",\"text\":\"C\\u00e1rdenas, Tab.\",\"textposition\":\"inside\",\"x\":[\"2023\"],\"y\":[2.9721134872327504],\"type\":\"bar\"},{\"hoverinfo\":\"y+text\",\"marker\":{\"color\":\"rgba(102, 197, 204, 0.8)\"},\"name\":\"Reynosa, Tamps.\",\"text\":\"Reynosa, Tamps.\",\"textposition\":\"inside\",\"x\":[\"2023\"],\"y\":[null],\"type\":\"bar\"},{\"hoverinfo\":\"y+text\",\"marker\":{\"color\":\"rgba(248, 156, 116, 0.8)\"},\"name\":\"Piedras Negras, Coah.\",\"text\":\"Piedras Negras, Coah.\",\"textposition\":\"inside\",\"x\":[\"2023\"],\"y\":[null],\"type\":\"bar\"},{\"hoverinfo\":\"y+text\",\"marker\":{\"color\":\"rgba(158, 185, 243, 0.8)\"},\"name\":\"Hermosillo, Son.\",\"text\":\"Hermosillo, Son.\",\"textposition\":\"inside\",\"x\":[\"2023\"],\"y\":[null],\"type\":\"bar\"},{\"hoverinfo\":\"y+text\",\"marker\":{\"color\":\"rgba(254, 136, 177, 0.8)\"},\"name\":\"Palenque, Chis.\",\"text\":\"Palenque, Chis.\",\"textposition\":\"inside\",\"x\":[\"2023\"],\"y\":[null],\"type\":\"bar\"},{\"hoverinfo\":\"y+text\",\"marker\":{\"color\":\"rgba(139, 224, 164, 0.8)\"},\"name\":\"Tuxtla Chico, Chis.\",\"text\":\"Tuxtla Chico, Chis.\",\"textposition\":\"inside\",\"x\":[\"2023\"],\"y\":[null],\"type\":\"bar\"},{\"hoverinfo\":\"y+text\",\"marker\":{\"color\":\"rgba(180, 151, 231, 0.8)\"},\"name\":\"Tuxtla Guti\\u00e9rrez, Chis.\",\"text\":\"Tuxtla Guti\\u00e9rrez, Chis.\",\"textposition\":\"inside\",\"x\":[\"2023\"],\"y\":[null],\"type\":\"bar\"},{\"hoverinfo\":\"y+text\",\"marker\":{\"color\":\"rgba(220, 176, 242, 0.8)\"},\"name\":\"Ju\\u00e1rez, Chih.\",\"text\":\"Ju\\u00e1rez, Chih.\",\"textposition\":\"inside\",\"x\":[\"2023\"],\"y\":[null],\"type\":\"bar\"},{\"hoverinfo\":\"y+text\",\"marker\":{\"color\":\"rgba(201, 219, 116, 0.8)\"},\"name\":\"Huehuet\\u00e1n, Chis.\",\"text\":\"Huehuet\\u00e1n, Chis.\",\"textposition\":\"inside\",\"x\":[\"2023\"],\"y\":[null],\"type\":\"bar\"},{\"hoverinfo\":\"y+text\",\"marker\":{\"color\":\"rgba(248, 156, 116, 0.8)\"},\"name\":\"Centro, Tab.\",\"text\":\"Centro, Tab.\",\"textposition\":\"inside\",\"x\":[\"2024\"],\"y\":[15.108406601275437],\"type\":\"bar\"},{\"hoverinfo\":\"y+text\",\"marker\":{\"color\":\"rgba(246, 207, 113, 0.8)\"},\"name\":\"Tapachula, Chis.\",\"text\":\"Tapachula, Chis.\",\"textposition\":\"inside\",\"x\":[\"2024\"],\"y\":[12.33386593581251],\"type\":\"bar\"},{\"hoverinfo\":\"y+text\",\"marker\":{\"color\":\"rgba(246, 207, 113, 0.8)\"},\"name\":\"Huimanguillo, Tab.\",\"text\":\"Huimanguillo, Tab.\",\"textposition\":\"inside\",\"x\":[\"2024\"],\"y\":[9.105396320830748],\"type\":\"bar\"},{\"hoverinfo\":\"y+text\",\"marker\":{\"color\":\"rgba(135, 197, 95, 0.8)\"},\"name\":\"Macuspana, Tab.\",\"text\":\"Macuspana, Tab.\",\"textposition\":\"inside\",\"x\":[\"2024\"],\"y\":[6.353882054291756],\"type\":\"bar\"},{\"hoverinfo\":\"y+text\",\"marker\":{\"color\":\"rgba(135, 197, 95, 0.8)\"},\"name\":\"Suchiate, Chis.\",\"text\":\"Suchiate, Chis.\",\"textposition\":\"inside\",\"x\":[\"2024\"],\"y\":[4.53086520289908],\"type\":\"bar\"},{\"hoverinfo\":\"y+text\",\"marker\":{\"color\":\"rgba(201, 219, 116, 0.8)\"},\"name\":\"Tenosique, Tab.\",\"text\":\"Tenosique, Tab.\",\"textposition\":\"inside\",\"x\":[\"2024\"],\"y\":[4.151772049883043],\"type\":\"bar\"},{\"hoverinfo\":\"y+text\",\"marker\":{\"color\":\"rgba(158, 185, 243, 0.8)\"},\"name\":\"Huixtla, Chis.\",\"text\":\"Huixtla, Chis.\",\"textposition\":\"inside\",\"x\":[\"2024\"],\"y\":[3.697702695492723],\"type\":\"bar\"},{\"hoverinfo\":\"y+text\",\"marker\":{\"color\":\"rgba(254, 136, 177, 0.8)\"},\"name\":\"C\\u00e1rdenas, Tab.\",\"text\":\"C\\u00e1rdenas, Tab.\",\"textposition\":\"inside\",\"x\":[\"2024\"],\"y\":[3.638171029982056],\"type\":\"bar\"},{\"hoverinfo\":\"y+text\",\"marker\":{\"color\":\"rgba(102, 197, 204, 0.8)\"},\"name\":\"Tijuana, BC\",\"text\":\"Tijuana, BC\",\"textposition\":\"inside\",\"x\":[\"2024\"],\"y\":[3.6002617146804528],\"type\":\"bar\"},{\"hoverinfo\":\"y+text\",\"marker\":{\"color\":\"rgba(201, 219, 116, 0.8)\"},\"name\":\"Huehuet\\u00e1n, Chis.\",\"text\":\"Huehuet\\u00e1n, Chis.\",\"textposition\":\"inside\",\"x\":[\"2024\"],\"y\":[2.9034323374883817],\"type\":\"bar\"},{\"hoverinfo\":\"y+text\",\"marker\":{\"color\":\"rgba(102, 197, 204, 0.8)\"},\"name\":\"Reynosa, Tamps.\",\"text\":\"Reynosa, Tamps.\",\"textposition\":\"inside\",\"x\":[\"2024\"],\"y\":[null],\"type\":\"bar\"},{\"hoverinfo\":\"y+text\",\"marker\":{\"color\":\"rgba(248, 156, 116, 0.8)\"},\"name\":\"Piedras Negras, Coah.\",\"text\":\"Piedras Negras, Coah.\",\"textposition\":\"inside\",\"x\":[\"2024\"],\"y\":[null],\"type\":\"bar\"},{\"hoverinfo\":\"y+text\",\"marker\":{\"color\":\"rgba(220, 176, 242, 0.8)\"},\"name\":\"Acayucan, Ver.\",\"text\":\"Acayucan, Ver.\",\"textposition\":\"inside\",\"x\":[\"2024\"],\"y\":[null],\"type\":\"bar\"},{\"hoverinfo\":\"y+text\",\"marker\":{\"color\":\"rgba(158, 185, 243, 0.8)\"},\"name\":\"Hermosillo, Son.\",\"text\":\"Hermosillo, Son.\",\"textposition\":\"inside\",\"x\":[\"2024\"],\"y\":[null],\"type\":\"bar\"},{\"hoverinfo\":\"y+text\",\"marker\":{\"color\":\"rgba(254, 136, 177, 0.8)\"},\"name\":\"Palenque, Chis.\",\"text\":\"Palenque, Chis.\",\"textposition\":\"inside\",\"x\":[\"2024\"],\"y\":[null],\"type\":\"bar\"},{\"hoverinfo\":\"y+text\",\"marker\":{\"color\":\"rgba(139, 224, 164, 0.8)\"},\"name\":\"Tuxtla Chico, Chis.\",\"text\":\"Tuxtla Chico, Chis.\",\"textposition\":\"inside\",\"x\":[\"2024\"],\"y\":[null],\"type\":\"bar\"},{\"hoverinfo\":\"y+text\",\"marker\":{\"color\":\"rgba(180, 151, 231, 0.8)\"},\"name\":\"Tuxtla Guti\\u00e9rrez, Chis.\",\"text\":\"Tuxtla Guti\\u00e9rrez, Chis.\",\"textposition\":\"inside\",\"x\":[\"2024\"],\"y\":[null],\"type\":\"bar\"},{\"hoverinfo\":\"y+text\",\"marker\":{\"color\":\"rgba(220, 176, 242, 0.8)\"},\"name\":\"Ju\\u00e1rez, Chih.\",\"text\":\"Ju\\u00e1rez, Chih.\",\"textposition\":\"inside\",\"x\":[\"2024\"],\"y\":[null],\"type\":\"bar\"}],                        {\"template\":{\"data\":{\"histogram2dcontour\":[{\"type\":\"histogram2dcontour\",\"colorbar\":{\"outlinewidth\":0,\"ticks\":\"\"},\"colorscale\":[[0.0,\"#0d0887\"],[0.1111111111111111,\"#46039f\"],[0.2222222222222222,\"#7201a8\"],[0.3333333333333333,\"#9c179e\"],[0.4444444444444444,\"#bd3786\"],[0.5555555555555556,\"#d8576b\"],[0.6666666666666666,\"#ed7953\"],[0.7777777777777778,\"#fb9f3a\"],[0.8888888888888888,\"#fdca26\"],[1.0,\"#f0f921\"]]}],\"choropleth\":[{\"type\":\"choropleth\",\"colorbar\":{\"outlinewidth\":0,\"ticks\":\"\"}}],\"histogram2d\":[{\"type\":\"histogram2d\",\"colorbar\":{\"outlinewidth\":0,\"ticks\":\"\"},\"colorscale\":[[0.0,\"#0d0887\"],[0.1111111111111111,\"#46039f\"],[0.2222222222222222,\"#7201a8\"],[0.3333333333333333,\"#9c179e\"],[0.4444444444444444,\"#bd3786\"],[0.5555555555555556,\"#d8576b\"],[0.6666666666666666,\"#ed7953\"],[0.7777777777777778,\"#fb9f3a\"],[0.8888888888888888,\"#fdca26\"],[1.0,\"#f0f921\"]]}],\"heatmap\":[{\"type\":\"heatmap\",\"colorbar\":{\"outlinewidth\":0,\"ticks\":\"\"},\"colorscale\":[[0.0,\"#0d0887\"],[0.1111111111111111,\"#46039f\"],[0.2222222222222222,\"#7201a8\"],[0.3333333333333333,\"#9c179e\"],[0.4444444444444444,\"#bd3786\"],[0.5555555555555556,\"#d8576b\"],[0.6666666666666666,\"#ed7953\"],[0.7777777777777778,\"#fb9f3a\"],[0.8888888888888888,\"#fdca26\"],[1.0,\"#f0f921\"]]}],\"heatmapgl\":[{\"type\":\"heatmapgl\",\"colorbar\":{\"outlinewidth\":0,\"ticks\":\"\"},\"colorscale\":[[0.0,\"#0d0887\"],[0.1111111111111111,\"#46039f\"],[0.2222222222222222,\"#7201a8\"],[0.3333333333333333,\"#9c179e\"],[0.4444444444444444,\"#bd3786\"],[0.5555555555555556,\"#d8576b\"],[0.6666666666666666,\"#ed7953\"],[0.7777777777777778,\"#fb9f3a\"],[0.8888888888888888,\"#fdca26\"],[1.0,\"#f0f921\"]]}],\"contourcarpet\":[{\"type\":\"contourcarpet\",\"colorbar\":{\"outlinewidth\":0,\"ticks\":\"\"}}],\"contour\":[{\"type\":\"contour\",\"colorbar\":{\"outlinewidth\":0,\"ticks\":\"\"},\"colorscale\":[[0.0,\"#0d0887\"],[0.1111111111111111,\"#46039f\"],[0.2222222222222222,\"#7201a8\"],[0.3333333333333333,\"#9c179e\"],[0.4444444444444444,\"#bd3786\"],[0.5555555555555556,\"#d8576b\"],[0.6666666666666666,\"#ed7953\"],[0.7777777777777778,\"#fb9f3a\"],[0.8888888888888888,\"#fdca26\"],[1.0,\"#f0f921\"]]}],\"surface\":[{\"type\":\"surface\",\"colorbar\":{\"outlinewidth\":0,\"ticks\":\"\"},\"colorscale\":[[0.0,\"#0d0887\"],[0.1111111111111111,\"#46039f\"],[0.2222222222222222,\"#7201a8\"],[0.3333333333333333,\"#9c179e\"],[0.4444444444444444,\"#bd3786\"],[0.5555555555555556,\"#d8576b\"],[0.6666666666666666,\"#ed7953\"],[0.7777777777777778,\"#fb9f3a\"],[0.8888888888888888,\"#fdca26\"],[1.0,\"#f0f921\"]]}],\"mesh3d\":[{\"type\":\"mesh3d\",\"colorbar\":{\"outlinewidth\":0,\"ticks\":\"\"}}],\"scatter\":[{\"fillpattern\":{\"fillmode\":\"overlay\",\"size\":10,\"solidity\":0.2},\"type\":\"scatter\"}],\"parcoords\":[{\"type\":\"parcoords\",\"line\":{\"colorbar\":{\"outlinewidth\":0,\"ticks\":\"\"}}}],\"scatterpolargl\":[{\"type\":\"scatterpolargl\",\"marker\":{\"colorbar\":{\"outlinewidth\":0,\"ticks\":\"\"}}}],\"bar\":[{\"error_x\":{\"color\":\"#2a3f5f\"},\"error_y\":{\"color\":\"#2a3f5f\"},\"marker\":{\"line\":{\"color\":\"#E5ECF6\",\"width\":0.5},\"pattern\":{\"fillmode\":\"overlay\",\"size\":10,\"solidity\":0.2}},\"type\":\"bar\"}],\"scattergeo\":[{\"type\":\"scattergeo\",\"marker\":{\"colorbar\":{\"outlinewidth\":0,\"ticks\":\"\"}}}],\"scatterpolar\":[{\"type\":\"scatterpolar\",\"marker\":{\"colorbar\":{\"outlinewidth\":0,\"ticks\":\"\"}}}],\"histogram\":[{\"marker\":{\"pattern\":{\"fillmode\":\"overlay\",\"size\":10,\"solidity\":0.2}},\"type\":\"histogram\"}],\"scattergl\":[{\"type\":\"scattergl\",\"marker\":{\"colorbar\":{\"outlinewidth\":0,\"ticks\":\"\"}}}],\"scatter3d\":[{\"type\":\"scatter3d\",\"line\":{\"colorbar\":{\"outlinewidth\":0,\"ticks\":\"\"}},\"marker\":{\"colorbar\":{\"outlinewidth\":0,\"ticks\":\"\"}}}],\"scattermapbox\":[{\"type\":\"scattermapbox\",\"marker\":{\"colorbar\":{\"outlinewidth\":0,\"ticks\":\"\"}}}],\"scatterternary\":[{\"type\":\"scatterternary\",\"marker\":{\"colorbar\":{\"outlinewidth\":0,\"ticks\":\"\"}}}],\"scattercarpet\":[{\"type\":\"scattercarpet\",\"marker\":{\"colorbar\":{\"outlinewidth\":0,\"ticks\":\"\"}}}],\"carpet\":[{\"aaxis\":{\"endlinecolor\":\"#2a3f5f\",\"gridcolor\":\"white\",\"linecolor\":\"white\",\"minorgridcolor\":\"white\",\"startlinecolor\":\"#2a3f5f\"},\"baxis\":{\"endlinecolor\":\"#2a3f5f\",\"gridcolor\":\"white\",\"linecolor\":\"white\",\"minorgridcolor\":\"white\",\"startlinecolor\":\"#2a3f5f\"},\"type\":\"carpet\"}],\"table\":[{\"cells\":{\"fill\":{\"color\":\"#EBF0F8\"},\"line\":{\"color\":\"white\"}},\"header\":{\"fill\":{\"color\":\"#C8D4E3\"},\"line\":{\"color\":\"white\"}},\"type\":\"table\"}],\"barpolar\":[{\"marker\":{\"line\":{\"color\":\"#E5ECF6\",\"width\":0.5},\"pattern\":{\"fillmode\":\"overlay\",\"size\":10,\"solidity\":0.2}},\"type\":\"barpolar\"}],\"pie\":[{\"automargin\":true,\"type\":\"pie\"}]},\"layout\":{\"autotypenumbers\":\"strict\",\"colorway\":[\"#636efa\",\"#EF553B\",\"#00cc96\",\"#ab63fa\",\"#FFA15A\",\"#19d3f3\",\"#FF6692\",\"#B6E880\",\"#FF97FF\",\"#FECB52\"],\"font\":{\"color\":\"#2a3f5f\"},\"hovermode\":\"closest\",\"hoverlabel\":{\"align\":\"left\"},\"paper_bgcolor\":\"white\",\"plot_bgcolor\":\"#E5ECF6\",\"polar\":{\"bgcolor\":\"#E5ECF6\",\"angularaxis\":{\"gridcolor\":\"white\",\"linecolor\":\"white\",\"ticks\":\"\"},\"radialaxis\":{\"gridcolor\":\"white\",\"linecolor\":\"white\",\"ticks\":\"\"}},\"ternary\":{\"bgcolor\":\"#E5ECF6\",\"aaxis\":{\"gridcolor\":\"white\",\"linecolor\":\"white\",\"ticks\":\"\"},\"baxis\":{\"gridcolor\":\"white\",\"linecolor\":\"white\",\"ticks\":\"\"},\"caxis\":{\"gridcolor\":\"white\",\"linecolor\":\"white\",\"ticks\":\"\"}},\"coloraxis\":{\"colorbar\":{\"outlinewidth\":0,\"ticks\":\"\"}},\"colorscale\":{\"sequential\":[[0.0,\"#0d0887\"],[0.1111111111111111,\"#46039f\"],[0.2222222222222222,\"#7201a8\"],[0.3333333333333333,\"#9c179e\"],[0.4444444444444444,\"#bd3786\"],[0.5555555555555556,\"#d8576b\"],[0.6666666666666666,\"#ed7953\"],[0.7777777777777778,\"#fb9f3a\"],[0.8888888888888888,\"#fdca26\"],[1.0,\"#f0f921\"]],\"sequentialminus\":[[0.0,\"#0d0887\"],[0.1111111111111111,\"#46039f\"],[0.2222222222222222,\"#7201a8\"],[0.3333333333333333,\"#9c179e\"],[0.4444444444444444,\"#bd3786\"],[0.5555555555555556,\"#d8576b\"],[0.6666666666666666,\"#ed7953\"],[0.7777777777777778,\"#fb9f3a\"],[0.8888888888888888,\"#fdca26\"],[1.0,\"#f0f921\"]],\"diverging\":[[0,\"#8e0152\"],[0.1,\"#c51b7d\"],[0.2,\"#de77ae\"],[0.3,\"#f1b6da\"],[0.4,\"#fde0ef\"],[0.5,\"#f7f7f7\"],[0.6,\"#e6f5d0\"],[0.7,\"#b8e186\"],[0.8,\"#7fbc41\"],[0.9,\"#4d9221\"],[1,\"#276419\"]]},\"xaxis\":{\"gridcolor\":\"white\",\"linecolor\":\"white\",\"ticks\":\"\",\"title\":{\"standoff\":15},\"zerolinecolor\":\"white\",\"automargin\":true,\"zerolinewidth\":2},\"yaxis\":{\"gridcolor\":\"white\",\"linecolor\":\"white\",\"ticks\":\"\",\"title\":{\"standoff\":15},\"zerolinecolor\":\"white\",\"automargin\":true,\"zerolinewidth\":2},\"scene\":{\"xaxis\":{\"backgroundcolor\":\"#E5ECF6\",\"gridcolor\":\"white\",\"linecolor\":\"white\",\"showbackground\":true,\"ticks\":\"\",\"zerolinecolor\":\"white\",\"gridwidth\":2},\"yaxis\":{\"backgroundcolor\":\"#E5ECF6\",\"gridcolor\":\"white\",\"linecolor\":\"white\",\"showbackground\":true,\"ticks\":\"\",\"zerolinecolor\":\"white\",\"gridwidth\":2},\"zaxis\":{\"backgroundcolor\":\"#E5ECF6\",\"gridcolor\":\"white\",\"linecolor\":\"white\",\"showbackground\":true,\"ticks\":\"\",\"zerolinecolor\":\"white\",\"gridwidth\":2}},\"shapedefaults\":{\"line\":{\"color\":\"#2a3f5f\"}},\"annotationdefaults\":{\"arrowcolor\":\"#2a3f5f\",\"arrowhead\":0,\"arrowwidth\":1},\"geo\":{\"bgcolor\":\"white\",\"landcolor\":\"#E5ECF6\",\"subunitcolor\":\"white\",\"showland\":true,\"showlakes\":true,\"lakecolor\":\"white\"},\"title\":{\"x\":0.05},\"mapbox\":{\"style\":\"light\"}}},\"font\":{\"size\":10},\"xaxis\":{\"title\":{\"text\":\"A\\u00f1o\"},\"showgrid\":true,\"gridcolor\":\"rgba(128, 128, 128, 0.5)\"},\"yaxis\":{\"title\":{\"text\":\"Eventos de Encuentros con Migrantes Irregulares (%) del Total Anual\"},\"showgrid\":true,\"gridcolor\":\"rgba(128, 128, 128, 0.5)\"},\"barmode\":\"stack\",\"title\":{\"text\":\"Distribuci\\u00f3n de los 10 Municipios con Mayor Incidencia de Encuentros con Migrantes Irregulares\"},\"showlegend\":false,\"width\":1000,\"height\":600,\"plot_bgcolor\":\"white\",\"annotations\":[{\"font\":{\"size\":12},\"showarrow\":false,\"text\":\"*2024 corresponden a los datos hasta Junio\",\"x\":0.8,\"xanchor\":\"center\",\"xref\":\"paper\",\"y\":-0.15,\"yref\":\"paper\"}]},                        {\"responsive\": true}                    ).then(function(){\n",
       "                            \n",
       "var gd = document.getElementById('a82be307-c4e7-408e-aa52-f1dfd36a0af2');\n",
       "var x = new MutationObserver(function (mutations, observer) {{\n",
       "        var display = window.getComputedStyle(gd).display;\n",
       "        if (!display || display === 'none') {{\n",
       "            console.log([gd, 'removed!']);\n",
       "            Plotly.purge(gd);\n",
       "            observer.disconnect();\n",
       "        }}\n",
       "}});\n",
       "\n",
       "// Listen for the removal of the full notebook cells\n",
       "var notebookContainer = gd.closest('#notebook-container');\n",
       "if (notebookContainer) {{\n",
       "    x.observe(notebookContainer, {childList: true});\n",
       "}}\n",
       "\n",
       "// Listen for the clearing of the current output cell\n",
       "var outputEl = gd.closest('.output');\n",
       "if (outputEl) {{\n",
       "    x.observe(outputEl, {childList: true});\n",
       "}}\n",
       "\n",
       "                        })                };                });            </script>        </div>"
      ]
     },
     "metadata": {},
     "output_type": "display_data"
    }
   ],
   "source": [
    "import pandas as pd\n",
    "import plotly.graph_objects as go\n",
    "import plotly.express as px\n",
    "\n",
    "# Crear un DataFrame vacío para almacenar los datos para la gráfica de barras apiladas\n",
    "stacked_data = pd.DataFrame()\n",
    "\n",
    "# Calcular el total de cada año para usarlo como denominador en el cálculo de porcentajes\n",
    "total_por_ano = df_pivot.sum()\n",
    "\n",
    "# Recorrer cada año y obtener los top 10 municipios\n",
    "for year in df_pivot.columns[1:]:  # Excluir la columna 'Municipio'\n",
    "    top_10 = df_pivot[['Municipio', year]].nlargest(10, year)\n",
    "    top_10 = top_10.set_index('Municipio')\n",
    "    \n",
    "    # Calcular el porcentaje del total del año considerando todos los municipios\n",
    "    top_10_percentage = (top_10 / total_por_ano[year]) * 100\n",
    "    \n",
    "    # Ordenar de mayor a menor\n",
    "    top_10_percentage = top_10_percentage.sort_values(by=year, ascending=False)\n",
    "    \n",
    "    # Añadir al DataFrame acumulado\n",
    "    stacked_data = pd.concat([stacked_data, top_10_percentage.T])\n",
    "\n",
    "# Convertir el índice de `stacked_data` para asegurarse de que son strings\n",
    "stacked_data.index = stacked_data.index.map(str)\n",
    "\n",
    "# Definir una paleta de colores pastel medio transparentes usando rgba\n",
    "colors = [\n",
    "    'rgba(102, 197, 204, 0.8)',\n",
    "    'rgba(246, 207, 113, 0.8)',\n",
    "    'rgba(248, 156, 116, 0.8)',\n",
    "    'rgba(220, 176, 242, 0.8)',\n",
    "    'rgba(135, 197, 95, 0.8)',\n",
    "    'rgba(158, 185, 243, 0.8)',\n",
    "    'rgba(254, 136, 177, 0.8)',\n",
    "    'rgba(201, 219, 116, 0.8)',\n",
    "    'rgba(139, 224, 164, 0.8)',\n",
    "    'rgba(180, 151, 231, 0.8)'\n",
    "]\n",
    "\n",
    "# Crear un diccionario para mapear cada municipio a un color\n",
    "municipio_colors = {municipio: colors[i % len(colors)] for i, municipio in enumerate(stacked_data.columns)}\n",
    "\n",
    "# Crear una figura de barras apiladas\n",
    "fig = go.Figure()\n",
    "\n",
    "# Añadir una barra para cada municipio en cada año con etiquetas, asegurando que el orden sea de mayor a menor\n",
    "for year in stacked_data.index:\n",
    "    data_year = stacked_data.loc[year].sort_values(ascending=False)  # Ordenar de mayor a menor para cada año\n",
    "    for municipio in data_year.index:\n",
    "        fig.add_trace(go.Bar(\n",
    "            x=[year],  # Usar lista para asegurar que sea un solo valor por año\n",
    "            y=[data_year[municipio]],\n",
    "            name=municipio,\n",
    "            text=municipio,  # Añadir el nombre del municipio como texto\n",
    "            textposition='inside',  # Posicionar el texto dentro de las barras\n",
    "            hoverinfo='y+text',\n",
    "            marker_color=municipio_colors[municipio]  # Asignar color pastel medio transparente\n",
    "        ))\n",
    "\n",
    "# Configurar el layout de la gráfica\n",
    "fig.update_layout(\n",
    "    barmode='stack',\n",
    "    title=\"Distribución de los 10 Municipios con Mayor Incidencia de Encuentros con Migrantes Irregulares\",\n",
    "    xaxis_title=\"Año\",\n",
    "    yaxis_title=\"Eventos de Encuentros con Migrantes Irregulares (%) del Total Anual\",font=dict(size=10),\n",
    "    showlegend=False,  # Quitar la leyenda\n",
    "    width=1000,\n",
    "    height=600,\n",
    "    plot_bgcolor='white',  # Fondo blanco\n",
    "    xaxis=dict(\n",
    "        showgrid=True, \n",
    "        gridcolor='rgba(128, 128, 128, 0.5)'  # Líneas de cuadrícula grises semitransparentes\n",
    "    ),\n",
    "    yaxis=dict(\n",
    "        showgrid=True, \n",
    "        gridcolor='rgba(128, 128, 128, 0.5)'  # Líneas de cuadrícula grises semitransparentes\n",
    "    ),\n",
    "    annotations=[  # Añadir la anotación personalizada\n",
    "        dict(\n",
    "            x=0.8,\n",
    "            y=-0.15,\n",
    "            xref='paper',\n",
    "            yref='paper',\n",
    "            text='*2024 corresponden a los datos hasta Junio',\n",
    "            showarrow=False,\n",
    "            font=dict(size=12),\n",
    "            xanchor='center'\n",
    "        )\n",
    "    ]\n",
    ")\n",
    "\n",
    "fig.show()\n"
   ]
  },
  {
   "cell_type": "code",
   "execution_count": null,
   "id": "e0e7b92a-4b61-46d9-b205-2c9a824b18c7",
   "metadata": {},
   "outputs": [],
   "source": []
  }
 ],
 "metadata": {
  "kernelspec": {
   "display_name": "Python 3 (ipykernel)",
   "language": "python",
   "name": "python3"
  },
  "language_info": {
   "codemirror_mode": {
    "name": "ipython",
    "version": 3
   },
   "file_extension": ".py",
   "mimetype": "text/x-python",
   "name": "python",
   "nbconvert_exporter": "python",
   "pygments_lexer": "ipython3",
   "version": "3.11.7"
  }
 },
 "nbformat": 4,
 "nbformat_minor": 5
}
